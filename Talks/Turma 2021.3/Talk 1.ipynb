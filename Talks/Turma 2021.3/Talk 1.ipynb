{
 "cells": [
  {
   "cell_type": "markdown",
   "metadata": {},
   "source": [
    "<img src=\"https://github.com/jupotratz/Python_BI_Master/blob/main/Imagens/logotipo.png?raw=true\"  width=1000 height=125 />"
   ]
  },
  {
   "cell_type": "markdown",
   "metadata": {},
   "source": [
    "# Professoras\n",
    "\n",
    " - Amanda Lemette \n",
    "\t - prof.amanda@ica.ele.puc-rio.br\n",
    "\t - [Linkedin](https://www.linkedin.com/in/amanda-lemette-brand%C3%A3o-83280918b)\n",
    "   - [Youtube](https://www.youtube.com/c/AmandaLemette/featured)\n",
    "   \n",
    " - Júlia Potratz\n",
    "\t - prof.julia@ica.ele.puc-rio.br\n",
    "\t - [Linkedin](https://www.linkedin.com/in/julia-potratz)\n",
    " - Manoela Koehler\n",
    "     - prof.manoela@ica.ele.puc-rio.br\n",
    "     - [Linkedin](https://www.linkedin.com/in/manoelakohler/)\n",
    "     \n",
    "# Material \n",
    "\n",
    "Repositório no GitHub: [Python_BI_Master](https://github.com/jupotratz/Python_BI_Master)\n",
    "\n",
    "\n",
    "# Talk 1\n",
    "\n",
    "- **Plano de aula:**\n",
    "   - Resolução de exercícios\n",
    "   - Dúvidas gerais"
   ]
  },
  {
   "cell_type": "markdown",
   "metadata": {},
   "source": [
    "<img src=\"https://github.com/jupotratz/Python_BI_Master/blob/main/Imagens/logotipo.png?raw=true\"  width=1000 height=125 />"
   ]
  },
  {
   "cell_type": "markdown",
   "metadata": {},
   "source": [
    "### Exercício extra\n",
    "\n",
    "Um posto está vendendo combustíveis com a seguinte tabela de descontos:\n",
    "\n",
    "\n",
    "- Álcool:\n",
    "  - Até 20 litros, desconto de 3% por litro\n",
    "  - Acima de 20 litros, desconto de 5% por litro\n",
    "- Gasolina:\n",
    "  - Até 20 litros, desconto de 4% por litro\n",
    "  - Acima de 20 litros, desconto de 6% por litro Escreva um algoritmo que leia \n",
    "\n",
    "\n",
    "O dono do posto quer criar um sistema com base nos descontos oferecidos nessa promoção para calcular o valor final da compra do cliente. \n",
    "\n",
    "Algumas dicas:\n",
    "\n",
    "\n",
    "> Precisamos armazenar as informações necessárias em algum lugar (variaveis)\n",
    "\n",
    "> Devemos prever que os frentistas do posto podem digital alguma informação errada\n",
    "\n",
    "> O tipo de combustível  deve ser codificado da seguinte forma: \n",
    "- A-álcool\n",
    "- G-gasolina \n",
    "- e deve ser fornecido pelo frentista (usuário)\n",
    "\n",
    "> A quantidade de litros também deve ser informada pelo frentista (usuário)\n",
    "\n",
    "> Fornecer o resultado para saber quanto o cliente vai ter que pagar e qual foi o desconto que ele obteve.\n",
    "\n",
    "> Considere o preço do litro da gasolina igual a R\\\\$ 7,09 e o preço do litro do Alcool igual a R\\$ 5,45\n"
   ]
  },
  {
   "cell_type": "code",
   "execution_count": null,
   "metadata": {},
   "outputs": [],
   "source": []
  }
 ],
 "metadata": {
  "kernelspec": {
   "display_name": "Python 3",
   "language": "python",
   "name": "python3"
  },
  "language_info": {
   "codemirror_mode": {
    "name": "ipython",
    "version": 3
   },
   "file_extension": ".py",
   "mimetype": "text/x-python",
   "name": "python",
   "nbconvert_exporter": "python",
   "pygments_lexer": "ipython3",
   "version": "3.7.0"
  }
 },
 "nbformat": 4,
 "nbformat_minor": 2
}
