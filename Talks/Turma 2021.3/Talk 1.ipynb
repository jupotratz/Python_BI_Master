{
 "cells": [
  {
   "cell_type": "markdown",
   "metadata": {},
   "source": [
    "<img src=\"https://github.com/jupotratz/Python_BI_Master/blob/main/Imagens/logotipo.png?raw=true\"  width=1000 height=125 />"
   ]
  },
  {
   "cell_type": "markdown",
   "metadata": {},
   "source": [
    "# Professoras\n",
    "\n",
    " - Amanda Lemette \n",
    "\t - prof.amanda@ica.ele.puc-rio.br\n",
    "\t - [Linkedin](https://www.linkedin.com/in/amanda-lemette-brand%C3%A3o-83280918b)\n",
    "   - [Youtube](https://www.youtube.com/c/AmandaLemette/featured)\n",
    "   \n",
    " - Júlia Potratz\n",
    "\t - prof.julia@ica.ele.puc-rio.br\n",
    "\t - [Linkedin](https://www.linkedin.com/in/julia-potratz)\n",
    " - Manoela Koehler\n",
    "     - prof.manoela@ica.ele.puc-rio.br\n",
    "     - [Linkedin](https://www.linkedin.com/in/manoelakohler/)\n",
    "     \n",
    "# Material \n",
    "\n",
    "Repositório no GitHub: [Python_BI_Master](https://github.com/jupotratz/Python_BI_Master)\n",
    "\n",
    "\n",
    "# Talk 1\n",
    "\n",
    "- **Plano de aula:**\n",
    "   - Resolução de exercícios\n",
    "   - Dúvidas gerais"
   ]
  },
  {
   "cell_type": "markdown",
   "metadata": {},
   "source": [
    "<img src=\"https://github.com/jupotratz/Python_BI_Master/blob/main/Imagens/logotipo.png?raw=true\"  width=1000 height=125 />"
   ]
  },
  {
   "cell_type": "markdown",
   "metadata": {},
   "source": [
    "## Exercícios Estruturas condicionais"
   ]
  },
  {
   "cell_type": "markdown",
   "metadata": {},
   "source": [
    "3. Faça um Programa que o usuário forneça números, em seguida pergunte ao usuário qual operação ele deseja realizar (soma, subtração, divisão ou multiplicação) . O resultado da operação deve ser acompanhado de uma frase que diga se o número é:\n",
    "\n",
    " - par ou ímpar;\n",
    " - positivo ou negativo;\n",
    " - inteiro ou decimal."
   ]
  },
  {
   "cell_type": "code",
   "execution_count": null,
   "metadata": {},
   "outputs": [],
   "source": []
  },
  {
   "cell_type": "code",
   "execution_count": null,
   "metadata": {},
   "outputs": [],
   "source": []
  },
  {
   "cell_type": "code",
   "execution_count": null,
   "metadata": {},
   "outputs": [],
   "source": []
  },
  {
   "cell_type": "code",
   "execution_count": null,
   "metadata": {},
   "outputs": [],
   "source": []
  },
  {
   "cell_type": "markdown",
   "metadata": {},
   "source": [
    "### Exercício extra\n",
    "\n",
    "Um posto está vendendo combustíveis com a seguinte tabela de descontos:\n",
    "\n",
    "\n",
    "- Álcool:\n",
    "  - Até 20 litros, desconto de 3% por litro\n",
    "  - Acima de 20 litros, desconto de 5% por litro\n",
    "- Gasolina:\n",
    "  - Até 20 litros, desconto de 4% por litro\n",
    "  - Acima de 20 litros, desconto de 6% por litro Escreva um algoritmo que leia \n",
    "\n",
    "\n",
    "O dono do posto quer criar um sistema com base nos descontos oferecidos nessa promoção para calcular o valor final da compra do cliente. \n",
    "\n",
    "Algumas dicas:\n",
    "\n",
    "\n",
    "> Precisamos armazenar as informações necessárias em algum lugar (variaveis)\n",
    "\n",
    "> Devemos prever que os frentistas do posto podem digital alguma informação errada\n",
    "\n",
    "> O tipo de combustível  deve ser codificado da seguinte forma: \n",
    "- A-álcool\n",
    "- G-gasolina \n",
    "- e deve ser fornecido pelo frentista (usuário)\n",
    "\n",
    "> A quantidade de litros também deve ser informada pelo frentista (usuário)\n",
    "\n",
    "> Fornecer o resultado para saber quanto o cliente vai ter que pagar e qual foi o desconto que ele obteve.\n",
    "\n",
    "> Considere o preço do litro da gasolina igual a R\\\\$ 7,09 e o preço do litro do Alcool igual a R\\$ 5,45\n"
   ]
  },
  {
   "cell_type": "code",
   "execution_count": null,
   "metadata": {},
   "outputs": [],
   "source": []
  },
  {
   "cell_type": "code",
   "execution_count": null,
   "metadata": {},
   "outputs": [],
   "source": []
  },
  {
   "cell_type": "markdown",
   "metadata": {},
   "source": [
    "## Exercícios adicionais\n",
    "\n",
    "1. Faça um programa que lê as duas notas parciais obtidas por um aluno numa disciplina ao longo de um semestre, e calcule a sua média. A atribuição de conceitos obedece à tabela abaixo:\n",
    "\n",
    "|-                | Média de Aproveitamento Conceito|\n",
    "|-----------------|---|\n",
    "|Entre 9.0 e 10.0 | A | \n",
    "|Entre 7.5 e 9.0  | B |\n",
    "|Entre 6.0 e 7.5  | C |\n",
    "|Entre 4.0 e 6.0  | D | \n",
    "|Entre 4.0 e zero | E |\n",
    "\n",
    "\n",
    "O algoritmo deve mostrar na tela as notas, a média, o conceito correspondente e a mensagem “APROVADO” se o conceito for A, B ou C ou “REPROVADO” se o conceito for D ou E."
   ]
  },
  {
   "cell_type": "code",
   "execution_count": null,
   "metadata": {},
   "outputs": [],
   "source": []
  },
  {
   "cell_type": "code",
   "execution_count": null,
   "metadata": {},
   "outputs": [],
   "source": []
  },
  {
   "cell_type": "code",
   "execution_count": null,
   "metadata": {},
   "outputs": [],
   "source": []
  },
  {
   "cell_type": "markdown",
   "metadata": {},
   "source": [
    "2. Faça um programa que calcule as raízes de uma equação do segundo grau, na forma ax2 + bx + c. O programa deverá pedir os valores de a, b e c e fazer as consistências, informando ao usuário nas seguintes situações:\n",
    "\n",
    "\n",
    "Formula de Bhaskara:  $x =\\frac{-b\\mp\\sqrt{b^2-4ac}}{2a}$\n",
    "\n",
    "\n",
    "$\\Delta = \\sqrt{b^2-4ac}$\n",
    "\n",
    "    a. Se o usuário informar o valor de A igual a zero, a equação não é do segundo grau e o programa não deve fazer pedir os demais valores, sendo encerrado;\n",
    "    b. Se o delta calculado for negativo, a equação não possui raizes reais. Informe ao usuário e encerre o programa;\n",
    "    c. Se o delta calculado for igual a zero a equação possui apenas uma raiz real; informe-a ao usuário;\n",
    "    d. Se o delta for positivo, a equação possui duas raiz reais; informe-as ao usuário;"
   ]
  },
  {
   "cell_type": "code",
   "execution_count": null,
   "metadata": {},
   "outputs": [],
   "source": []
  },
  {
   "cell_type": "code",
   "execution_count": null,
   "metadata": {},
   "outputs": [],
   "source": []
  },
  {
   "cell_type": "code",
   "execution_count": null,
   "metadata": {},
   "outputs": [],
   "source": []
  },
  {
   "cell_type": "markdown",
   "metadata": {},
   "source": [
    "3. Data por extenso. Faça um programa que solicite a data de hoje (dd/mm/aaaa) e imprima a data com o nome do mês por extenso.\n",
    "\n",
    "    - Exemplo:\n",
    "        - Data: 08/05/2016\n",
    "        - A data de hoje é 08 de maio de 2016\n"
   ]
  },
  {
   "cell_type": "code",
   "execution_count": null,
   "metadata": {},
   "outputs": [],
   "source": []
  },
  {
   "cell_type": "code",
   "execution_count": null,
   "metadata": {},
   "outputs": [],
   "source": []
  },
  {
   "cell_type": "code",
   "execution_count": null,
   "metadata": {},
   "outputs": [],
   "source": []
  },
  {
   "cell_type": "markdown",
   "metadata": {},
   "source": [
    "4. Conta espaços, vogais e consoantes. Dado uma string com uma frase informada pelo usuário (incluindo espaços em branco), conte:\n",
    "    - a.\tQuantos espaços em branco existem na frase.\n",
    "    - b.\tQuantas vezes aparecem as vogais a, e, i, o, u.\n",
    "    - c.\tQuantas consoantes existem na frase\n",
    "   \n",
    "Obs.: Considerem apenas frases sem nenhum símbolo (*, &, ¨, (, ), $, #, @, !, \\, etc)\n"
   ]
  },
  {
   "cell_type": "code",
   "execution_count": null,
   "metadata": {},
   "outputs": [],
   "source": []
  },
  {
   "cell_type": "code",
   "execution_count": null,
   "metadata": {},
   "outputs": [],
   "source": []
  },
  {
   "cell_type": "code",
   "execution_count": null,
   "metadata": {},
   "outputs": [],
   "source": []
  },
  {
   "cell_type": "markdown",
   "metadata": {},
   "source": [
    "5. Verificação de CEP. Desenvolva um programa que solicite a digitação de um número de CEP no formato xx.xxx-xxx e indique se é um número válido ou inválido através da validação dos dígitos verificadores e dos caracteres de formatação."
   ]
  },
  {
   "cell_type": "code",
   "execution_count": null,
   "metadata": {},
   "outputs": [],
   "source": []
  }
 ],
 "metadata": {
  "kernelspec": {
   "display_name": "Python 3",
   "language": "python",
   "name": "python3"
  },
  "language_info": {
   "codemirror_mode": {
    "name": "ipython",
    "version": 3
   },
   "file_extension": ".py",
   "mimetype": "text/x-python",
   "name": "python",
   "nbconvert_exporter": "python",
   "pygments_lexer": "ipython3",
   "version": "3.7.0"
  }
 },
 "nbformat": 4,
 "nbformat_minor": 2
}
