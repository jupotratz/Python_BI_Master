{
  "nbformat": 4,
  "nbformat_minor": 0,
  "metadata": {
    "kernelspec": {
      "display_name": "Python 3",
      "language": "python",
      "name": "python3"
    },
    "language_info": {
      "codemirror_mode": {
        "name": "ipython",
        "version": 3
      },
      "file_extension": ".py",
      "mimetype": "text/x-python",
      "name": "python",
      "nbconvert_exporter": "python",
      "pygments_lexer": "ipython3",
      "version": "3.7.6"
    },
    "colab": {
      "name": "Talk 8.ipynb",
      "provenance": [],
      "collapsed_sections": []
    }
  },
  "cells": [
    {
      "cell_type": "markdown",
      "metadata": {
        "id": "I6X9yBL24d_R"
      },
      "source": [
        "<img src=\"https://github.com/jupotratz/Python_BI_Master/blob/main/Turmas/2021.3/Imagens/sep.png?raw=true\"  width=1000 height=125 />"
      ]
    },
    {
      "cell_type": "markdown",
      "metadata": {
        "id": "gIAqD9T44d_Z"
      },
      "source": [
        "# Professoras\n",
        "\n",
        " - Amanda Lemette \n",
        "\t - prof.amanda@ica.ele.puc-rio.br\n",
        "\t - [Linkedin](https://www.linkedin.com/in/amanda-lemette-brand%C3%A3o-83280918b)\n",
        "   - [Youtube](https://www.youtube.com/c/AmandaLemette/featured)\n",
        "   \n",
        " - Júlia Potratz\n",
        "\t - prof.julia@ica.ele.puc-rio.br\n",
        "\t - [Linkedin](https://www.linkedin.com/in/julia-potratz)\n",
        "     \n",
        "# Material \n",
        "\n",
        "Repositório no GitHub: [Python_BI_Master](https://github.com/jupotratz/Python_BI_Master)\n",
        "\n",
        "\n",
        "# Talk 8\n",
        "\n",
        "Esse talk será dado no dia 13/11/2021\n",
        "\n",
        "- **Plano de aula:**\n",
        "\t- Dataframes\n",
        "         - Uso da biblioteca Pandas\n",
        "         - Declaração de Dataframes\n",
        "         - Manipulação de Dataframes\n",
        "         - Exercícios práticos      \n",
        "\n",
        "\n",
        "https://www.kaggle.com/joaoavf/introducao-a-analise-de-dados-python-e-pandas"
      ]
    },
    {
      "cell_type": "markdown",
      "metadata": {
        "id": "xXpmTXVo4d_a"
      },
      "source": [
        "<img src=\"https://github.com/jupotratz/Python_BI_Master/blob/main/Turmas/2021.3/Imagens/sep.png?raw=true\"  width=1000 height=125 />"
      ]
    },
    {
      "cell_type": "markdown",
      "metadata": {
        "id": "IreMAVpG4d_b"
      },
      "source": [
        "# Pandas\n",
        "\n",
        "O pandas é uma biblioteca de código aberto, licenciada por BSD, que fornece estruturas de dados de alto desempenho e fáceis de usar e ferramentas de análise de dados para a linguagem de programação Python.\n",
        "\n",
        "O Pandas adota parte significativa do estilo idiomático do NumPy para o processamento baseado em arrays. Embora tenha muitas funções e estruturas parecidas o Pandas foi projetado para trabalhar com dados tabulares e heterogêneos. \n",
        "\n",
        "Abaixo segue links da documentação das bibliotecas já estudadas e da biblioteca Pandas.\n",
        "\n",
        "\n",
        "[Documentação da biblioteca Pandas](https://pandas.pydata.org/)"
      ]
    },
    {
      "cell_type": "markdown",
      "metadata": {
        "id": "davPPpy_4d_c"
      },
      "source": [
        "<img src=\"https://github.com/jupotratz/Python_BI_Master/blob/main/Turmas/2021.3/Imagens/sep.png?raw=true\"  width=1000 height=125 />"
      ]
    },
    {
      "cell_type": "markdown",
      "metadata": {
        "id": "5BemFqG44d_c"
      },
      "source": [
        "# Estudo de caso Uber \n",
        "\n",
        "Sobre do conjunto de dados Uber\n",
        "\n",
        "Este conjunto de dados vem da inicialização da mobilidade que permite a qualquer usuário reservar uma viagem de qualquer ponto A a qualquer ponto B dentro da cidade usando um smartphone. O valor da viagem é calculado no momento da solicitação automaticamente pelo app, considerando distância, tempo estimado de viagem e disponibilidade atual do carro (saldo demanda / oferta).\n",
        "\n",
        "Terminada a viagem, cobramos o cartão de crédito do passageiro e transferimos X% desse valor para a conta do motorista. Finalmente, antes que os passageiros sejam pegos, a viagem pode ser cancelada pelo motorista ou pelo passageiro.\n",
        "\n",
        "A base de dados pode ser encontrada [aqui](https://www.kaggle.com/marcusrb/uber-peru-dataset).\n",
        "\n",
        "\n",
        "O objetivo desse estudo de caso é realizar uma análise descritiva dessa base de dados. \n",
        "\n",
        "- O quantos? \n",
        "    - Veículos \n",
        "    - Passageiros \n",
        "    - Motoristas\n",
        "    \n",
        "- O quando? \n",
        "    - Viagens \n",
        "    - Preço \n",
        "    - Custo por período de tempo\n",
        "    - Duração das viagens\n",
        "- O quê? \n",
        "    - Reservas \n",
        "    - O mais rápido  possível\n",
        "    - Tipo de veículo\n",
        "- Onde? \n",
        "    - Mapa de origem\n",
        "    - Melhores origens \n",
        "- Quem? \n",
        "    - Piores passageiros \n",
        "    - Melhores motoristas \n",
        "- Qualquer pergunta que você considere interessante..."
      ]
    },
    {
      "cell_type": "code",
      "metadata": {
        "id": "er6M18og4d_d"
      },
      "source": [
        ""
      ],
      "execution_count": null,
      "outputs": []
    },
    {
      "cell_type": "markdown",
      "metadata": {
        "id": "Vf-kQp1p4d_e"
      },
      "source": [
        "<img src=\"https://github.com/jupotratz/Python_BI_Master/blob/main/Turmas/2021.3/Imagens/sep.png?raw=true\"  width=1000 height=125 />"
      ]
    },
    {
      "cell_type": "markdown",
      "metadata": {
        "id": "IbFewn_O4d_f"
      },
      "source": [
        "## Instalando o pacote Pandas\n",
        "    \n",
        "* **pip isntall pandas** (instala pelo próprio jupyter ou pelo prompt de comando)\n",
        "* **conda install pandas** (instala pelo próprio jupyter ou pelo prompt de comando)\n",
        "* **instalação pelo Anaconda**\n",
        "\n",
        "Observação: quando se instala um pacote com o jupyter aberto deve-se acrescentar uma exclamação (!) antes do comando dentro de uma célula do tipo **code** e executar a mesma"
      ]
    },
    {
      "cell_type": "code",
      "metadata": {
        "id": "diOjqdNy4d_f"
      },
      "source": [
        "#!pip install pandas\n",
        "#!conda install pandas"
      ],
      "execution_count": null,
      "outputs": []
    },
    {
      "cell_type": "markdown",
      "metadata": {
        "id": "y-uGRj8L4d_g"
      },
      "source": [
        "## Preparando o ambiente\n",
        "\n",
        "Assim como na bibliotec Numpy, a biblioteca Pandas também possui uma convenção de importação que é a sigla <code>pd</code>."
      ]
    },
    {
      "cell_type": "code",
      "metadata": {
        "id": "OM3UAWxf4d_g"
      },
      "source": [
        "import pandas as pd"
      ],
      "execution_count": 1,
      "outputs": []
    },
    {
      "cell_type": "markdown",
      "metadata": {
        "id": "ytLGs9IR4d_h"
      },
      "source": [
        "## Primeiro contato com os dados\n",
        "\n",
        "- Vamos fazer o download dos dados iniciamente diretamente do *kaggle*. Para entender melhor como realizar esse procedimento vocês podem revisitar o material do [Talk 1](https://github.com/jupotratz/Python_BI_Master/blob/main/Talks/Turmas%202020-2021/Talk_1.ipynb)\n",
        "\n",
        "- A base de dados utilizada conta com informações de viagens da Uber no Peru em 2010."
      ]
    },
    {
      "cell_type": "code",
      "metadata": {
        "colab": {
          "base_uri": "https://localhost:8080/"
        },
        "id": "h_QBk3iD4d_h",
        "outputId": "55d8f855-e498-4a5b-fc45-2564cf27aa8f"
      },
      "source": [
        "!pip install kaggle"
      ],
      "execution_count": 2,
      "outputs": [
        {
          "output_type": "stream",
          "name": "stdout",
          "text": [
            "Requirement already satisfied: kaggle in /usr/local/lib/python3.7/dist-packages (1.5.12)\n",
            "Requirement already satisfied: six>=1.10 in /usr/local/lib/python3.7/dist-packages (from kaggle) (1.15.0)\n",
            "Requirement already satisfied: requests in /usr/local/lib/python3.7/dist-packages (from kaggle) (2.23.0)\n",
            "Requirement already satisfied: python-dateutil in /usr/local/lib/python3.7/dist-packages (from kaggle) (2.8.2)\n",
            "Requirement already satisfied: tqdm in /usr/local/lib/python3.7/dist-packages (from kaggle) (4.62.3)\n",
            "Requirement already satisfied: urllib3 in /usr/local/lib/python3.7/dist-packages (from kaggle) (1.24.3)\n",
            "Requirement already satisfied: certifi in /usr/local/lib/python3.7/dist-packages (from kaggle) (2021.10.8)\n",
            "Requirement already satisfied: python-slugify in /usr/local/lib/python3.7/dist-packages (from kaggle) (5.0.2)\n",
            "Requirement already satisfied: text-unidecode>=1.3 in /usr/local/lib/python3.7/dist-packages (from python-slugify->kaggle) (1.3)\n",
            "Requirement already satisfied: idna<3,>=2.5 in /usr/local/lib/python3.7/dist-packages (from requests->kaggle) (2.10)\n",
            "Requirement already satisfied: chardet<4,>=3.0.2 in /usr/local/lib/python3.7/dist-packages (from requests->kaggle) (3.0.4)\n"
          ]
        }
      ]
    },
    {
      "cell_type": "markdown",
      "metadata": {
        "id": "d6DH0_3o4d_i"
      },
      "source": [
        "\n",
        "#### Enviar o arquivo kaggle.json"
      ]
    },
    {
      "cell_type": "code",
      "metadata": {
        "colab": {
          "resources": {
            "http://localhost:8080/nbextensions/google.colab/files.js": {
              "data": "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",
              "ok": true,
              "headers": [
                [
                  "content-type",
                  "application/javascript"
                ]
              ],
              "status": 200,
              "status_text": ""
            }
          },
          "base_uri": "https://localhost:8080/",
          "height": 91
        },
        "id": "kC7ezTFN4d_i",
        "outputId": "cda2cdb9-724f-4aef-feb9-0f643a28c83f"
      },
      "source": [
        "from google.colab import files\n",
        "files.upload() "
      ],
      "execution_count": 3,
      "outputs": [
        {
          "output_type": "display_data",
          "data": {
            "text/html": [
              "\n",
              "     <input type=\"file\" id=\"files-a8ff2e6d-f915-4723-a791-2d61e04173f6\" name=\"files[]\" multiple disabled\n",
              "        style=\"border:none\" />\n",
              "     <output id=\"result-a8ff2e6d-f915-4723-a791-2d61e04173f6\">\n",
              "      Upload widget is only available when the cell has been executed in the\n",
              "      current browser session. Please rerun this cell to enable.\n",
              "      </output>\n",
              "      <script src=\"/nbextensions/google.colab/files.js\"></script> "
            ],
            "text/plain": [
              "<IPython.core.display.HTML object>"
            ]
          },
          "metadata": {}
        },
        {
          "output_type": "stream",
          "name": "stdout",
          "text": [
            "Saving kaggle.json to kaggle.json\n"
          ]
        },
        {
          "output_type": "execute_result",
          "data": {
            "text/plain": [
              "{'kaggle.json': b'{\"username\":\"jupotratz\",\"key\":\"4dc210d3fa2b6db39e2ed5e1aa5dc07e\"}'}"
            ]
          },
          "metadata": {},
          "execution_count": 3
        }
      ]
    },
    {
      "cell_type": "markdown",
      "metadata": {
        "id": "BEBscT_Z4d_j"
      },
      "source": [
        "#### Antes de importar o dataset nós iremos provisionar o local de armazenamento"
      ]
    },
    {
      "cell_type": "code",
      "metadata": {
        "id": "RXvSngyg4d_j"
      },
      "source": [
        "!mkdir -p ~/.kaggle/\n",
        "!cp kaggle.json ~/.kaggle/"
      ],
      "execution_count": 4,
      "outputs": []
    },
    {
      "cell_type": "markdown",
      "metadata": {
        "id": "BBDuGEol4d_j"
      },
      "source": [
        "#### Alterar a permissão para evitar o aviso durante a partida da ferramenta Kaggle\n",
        "\n",
        "##### This permissions change avoids a warning on Kaggle tool startup."
      ]
    },
    {
      "cell_type": "code",
      "metadata": {
        "id": "9PShk7f14d_j"
      },
      "source": [
        "!chmod 600 ~/.kaggle/kaggle.json"
      ],
      "execution_count": 5,
      "outputs": []
    },
    {
      "cell_type": "markdown",
      "metadata": {
        "id": "A2V6-EKs4d_k"
      },
      "source": [
        "#### Copiar o endereço da API para o download do dataset"
      ]
    },
    {
      "cell_type": "code",
      "metadata": {
        "colab": {
          "base_uri": "https://localhost:8080/"
        },
        "id": "92mG1P6d4d_k",
        "outputId": "ba95a836-e838-4387-9783-f1a019f35a03"
      },
      "source": [
        "!kaggle datasets download -d marcusrb/uber-peru-dataset"
      ],
      "execution_count": 6,
      "outputs": [
        {
          "output_type": "stream",
          "name": "stdout",
          "text": [
            "Downloading uber-peru-dataset.zip to /content\n",
            "\r  0% 0.00/1.76M [00:00<?, ?B/s]\n",
            "\r100% 1.76M/1.76M [00:00<00:00, 59.1MB/s]\n"
          ]
        }
      ]
    },
    {
      "cell_type": "markdown",
      "metadata": {
        "id": "DcURQcmD4d_k"
      },
      "source": [
        "#### Descompactar o arquivo baixado"
      ]
    },
    {
      "cell_type": "code",
      "metadata": {
        "colab": {
          "base_uri": "https://localhost:8080/"
        },
        "id": "iEKDM3zN4d_k",
        "outputId": "99be5431-f277-4916-db5a-3d7f8f1649e7"
      },
      "source": [
        "!unzip \\*.zip  && rm *.zip"
      ],
      "execution_count": 7,
      "outputs": [
        {
          "output_type": "stream",
          "name": "stdout",
          "text": [
            "Archive:  uber-peru-dataset.zip\n",
            "  inflating: uber_peru_2010.csv      \n"
          ]
        }
      ]
    },
    {
      "cell_type": "markdown",
      "metadata": {
        "id": "vNXWNv0p4d_l"
      },
      "source": [
        "#### Utilizar a biblioteca pandas para ler a  base de dados baixada"
      ]
    },
    {
      "cell_type": "code",
      "metadata": {
        "colab": {
          "base_uri": "https://localhost:8080/"
        },
        "id": "tu6OZX1L449n",
        "outputId": "f410d24a-d8dc-4605-88bf-7b432b910a93"
      },
      "source": [
        "!ls"
      ],
      "execution_count": 11,
      "outputs": [
        {
          "output_type": "stream",
          "name": "stdout",
          "text": [
            "kaggle.json  sample_data  uber_peru_2010.csv\n"
          ]
        }
      ]
    },
    {
      "cell_type": "code",
      "metadata": {
        "id": "6ry3jWkA4d_l"
      },
      "source": [
        "df = pd.read_csv(\"uber_peru_2010.csv\") "
      ],
      "execution_count": 18,
      "outputs": []
    },
    {
      "cell_type": "markdown",
      "metadata": {
        "id": "3_uV6stt4d_l"
      },
      "source": [
        "### Vizualização de dados\n",
        "\n",
        "- 5 primeiras linhas da tabela com a função <code>.head()</code>"
      ]
    },
    {
      "cell_type": "code",
      "metadata": {
        "colab": {
          "base_uri": "https://localhost:8080/",
          "height": 308
        },
        "id": "1by_GoE24d_l",
        "outputId": "ce855ee0-8400-4c0c-b85d-f3bd17413eb7"
      },
      "source": [
        "df.head()"
      ],
      "execution_count": 19,
      "outputs": [
        {
          "output_type": "execute_result",
          "data": {
            "text/html": [
              "<div>\n",
              "<style scoped>\n",
              "    .dataframe tbody tr th:only-of-type {\n",
              "        vertical-align: middle;\n",
              "    }\n",
              "\n",
              "    .dataframe tbody tr th {\n",
              "        vertical-align: top;\n",
              "    }\n",
              "\n",
              "    .dataframe thead th {\n",
              "        text-align: right;\n",
              "    }\n",
              "</style>\n",
              "<table border=\"1\" class=\"dataframe\">\n",
              "  <thead>\n",
              "    <tr style=\"text-align: right;\">\n",
              "      <th></th>\n",
              "      <th></th>\n",
              "      <th></th>\n",
              "      <th></th>\n",
              "      <th></th>\n",
              "      <th></th>\n",
              "      <th>journey_id;user_id;driver_id;taxi_id;icon;start_type;start_at;start_lat;start_lon;end_at;end_lat;end_lon;end_state;driver_start_lat;driver_start_lon;arrived_at;currency;price;price_distance;price_duration;distance;duration;cost;cost_distance;cost_duration;source;driver_score;rider_score</th>\n",
              "    </tr>\n",
              "  </thead>\n",
              "  <tbody>\n",
              "    <tr>\n",
              "      <th>23a1406fc6a11d866e3c82f22eed4d4c;0e9af5bbf1edfe591b54ecdfd7e91e26;583949a89a9ee17d19e3ca4f137b6b4c;b12f4f09c783e29fe0d0ea624530db56;executive;asap;16/11/2010 16:44;-12</th>\n",
              "      <th>13983536;-77</th>\n",
              "      <th>02355957;16/11/2010 17:29;-12</th>\n",
              "      <th>05537033;-77</th>\n",
              "      <th>0413208;drop off;-12</th>\n",
              "      <th>10825481;-77</th>\n",
              "      <td>0272739;16/11/2010 17:02;PEN;3821;3626;195;113...</td>\n",
              "    </tr>\n",
              "    <tr>\n",
              "      <th>dd2af4715d0dc16eded53afc0e243577;a553c46e3a22fb9c326aeb3d72b3334e;;;executive;asap;01/06/2010 0:34;-12</th>\n",
              "      <th>13874817;-76</th>\n",
              "      <th>99536133;01/06/2010 0:37;-12</th>\n",
              "      <th>12465668;-77</th>\n",
              "      <th>02886963;not found;;;;PEN;0;;;0;0;0;;;iPhone;;</th>\n",
              "      <th>NaN</th>\n",
              "      <td>NaN</td>\n",
              "    </tr>\n",
              "    <tr>\n",
              "      <th>dd91e131888064bf7df3ce08f3d4b4ad;a553c46e3a22fb9c326aeb3d72b3334e;;;executive;asap;31/05/2010 5:01;-12</th>\n",
              "      <th>12453079;-77</th>\n",
              "      <th>02780151;31/05/2010 5:04;-12</th>\n",
              "      <th>13883209;-76</th>\n",
              "      <th>99530029;not found;;;;PEN;0;;;0;0;0;;;iPhone;;</th>\n",
              "      <th>NaN</th>\n",
              "      <td>NaN</td>\n",
              "    </tr>\n",
              "    <tr>\n",
              "      <th>dd2af4715d0dc16eded53afc0e2466d0;a553c46e3a22fb9c326aeb3d72b3334e;;;executive;asap;01/06/2010 0:29;-12</th>\n",
              "      <th>13885117;-76</th>\n",
              "      <th>99530029;01/06/2010 0:32;-12</th>\n",
              "      <th>12458801;-77</th>\n",
              "      <th>02896118;not found;;;;PEN;0;;;0;0;0;;;iPhone;;</th>\n",
              "      <th>NaN</th>\n",
              "      <td>NaN</td>\n",
              "    </tr>\n",
              "    <tr>\n",
              "      <th>85b7eabcf5d84e42dc7629b7d27781af;56772d544fdfa589a020a1ff894a86f7;d665fb9f75ef5d9cd0fd89479380ba78;0accdd3aa5a322f4129fa20b53278c69;executive;reserved;11/09/2010 23:55;-12</th>\n",
              "      <th>08995438;-76</th>\n",
              "      <th>92626953;12/09/2010 1:07;-12</th>\n",
              "      <th>02223206;-77</th>\n",
              "      <th>10638428;drop off;-12</th>\n",
              "      <th>08311558;-76</th>\n",
              "      <td>9277072;11/09/2010 23:50;PEN;8227;7665;562;302...</td>\n",
              "    </tr>\n",
              "  </tbody>\n",
              "</table>\n",
              "</div>"
            ],
            "text/plain": [
              "                                                                                                                                                                       journey_id;user_id;driver_id;taxi_id;icon;start_type;start_at;start_lat;start_lon;end_at;end_lat;end_lon;end_state;driver_start_lat;driver_start_lon;arrived_at;currency;price;price_distance;price_duration;distance;duration;cost;cost_distance;cost_duration;source;driver_score;rider_score\n",
              "23a1406fc6a11d866e3c82f22eed4d4c;0e9af5bbf1edfe... 13983536;-77 02355957;16/11/2010 17:29;-12 05537033;-77 0413208;drop off;-12                           10825481;-77  0272739;16/11/2010 17:02;PEN;3821;3626;195;113...                                                                                                                                                                                                                                             \n",
              "dd2af4715d0dc16eded53afc0e243577;a553c46e3a22fb... 13874817;-76 99536133;01/06/2010 0:37;-12  12465668;-77 02886963;not found;;;;PEN;0;;;0;0;0;;;iPhone;; NaN                                                         NaN                                                                                                                                                                                                                                             \n",
              "dd91e131888064bf7df3ce08f3d4b4ad;a553c46e3a22fb... 12453079;-77 02780151;31/05/2010 5:04;-12  13883209;-76 99530029;not found;;;;PEN;0;;;0;0;0;;;iPhone;; NaN                                                         NaN                                                                                                                                                                                                                                             \n",
              "dd2af4715d0dc16eded53afc0e2466d0;a553c46e3a22fb... 13885117;-76 99530029;01/06/2010 0:32;-12  12458801;-77 02896118;not found;;;;PEN;0;;;0;0;0;;;iPhone;; NaN                                                         NaN                                                                                                                                                                                                                                             \n",
              "85b7eabcf5d84e42dc7629b7d27781af;56772d544fdfa5... 08995438;-76 92626953;12/09/2010 1:07;-12  02223206;-77 10638428;drop off;-12                          08311558;-76  9277072;11/09/2010 23:50;PEN;8227;7665;562;302...                                                                                                                                                                                                                                             "
            ]
          },
          "metadata": {},
          "execution_count": 19
        }
      ]
    },
    {
      "cell_type": "markdown",
      "metadata": {
        "id": "WRabE2CF5O21"
      },
      "source": [
        "Reparem que a planilha ficou estranha. Isso aconteceu devido ao separador utilizado no arquivo que é <code>;</code>. Coo o separador default utilizado na função <code>pd.read_csv()</code> é a <code>,</code> teremos que definir um novo separador. Para isso, basta passar um parâmetro <code>sep=';'</code> como argumento da função <code>pd.read_csv(PathFile, sep=';')</code>"
      ]
    },
    {
      "cell_type": "code",
      "metadata": {
        "id": "v9UI1mCS5O5h"
      },
      "source": [
        "df = pd.read_csv(\"uber_peru_2010.csv\", sep=';') "
      ],
      "execution_count": 20,
      "outputs": []
    },
    {
      "cell_type": "code",
      "metadata": {
        "colab": {
          "base_uri": "https://localhost:8080/",
          "height": 308
        },
        "id": "l71Y-VJL5O8k",
        "outputId": "56a5323b-c8db-4d5b-eb29-17788d7bbd92"
      },
      "source": [
        "df.head()"
      ],
      "execution_count": 21,
      "outputs": [
        {
          "output_type": "execute_result",
          "data": {
            "text/html": [
              "<div>\n",
              "<style scoped>\n",
              "    .dataframe tbody tr th:only-of-type {\n",
              "        vertical-align: middle;\n",
              "    }\n",
              "\n",
              "    .dataframe tbody tr th {\n",
              "        vertical-align: top;\n",
              "    }\n",
              "\n",
              "    .dataframe thead th {\n",
              "        text-align: right;\n",
              "    }\n",
              "</style>\n",
              "<table border=\"1\" class=\"dataframe\">\n",
              "  <thead>\n",
              "    <tr style=\"text-align: right;\">\n",
              "      <th></th>\n",
              "      <th>journey_id</th>\n",
              "      <th>user_id</th>\n",
              "      <th>driver_id</th>\n",
              "      <th>taxi_id</th>\n",
              "      <th>icon</th>\n",
              "      <th>start_type</th>\n",
              "      <th>start_at</th>\n",
              "      <th>start_lat</th>\n",
              "      <th>start_lon</th>\n",
              "      <th>end_at</th>\n",
              "      <th>end_lat</th>\n",
              "      <th>end_lon</th>\n",
              "      <th>end_state</th>\n",
              "      <th>driver_start_lat</th>\n",
              "      <th>driver_start_lon</th>\n",
              "      <th>arrived_at</th>\n",
              "      <th>currency</th>\n",
              "      <th>price</th>\n",
              "      <th>price_distance</th>\n",
              "      <th>price_duration</th>\n",
              "      <th>distance</th>\n",
              "      <th>duration</th>\n",
              "      <th>cost</th>\n",
              "      <th>cost_distance</th>\n",
              "      <th>cost_duration</th>\n",
              "      <th>source</th>\n",
              "      <th>driver_score</th>\n",
              "      <th>rider_score</th>\n",
              "    </tr>\n",
              "  </thead>\n",
              "  <tbody>\n",
              "    <tr>\n",
              "      <th>0</th>\n",
              "      <td>23a1406fc6a11d866e3c82f22eed4d4c</td>\n",
              "      <td>0e9af5bbf1edfe591b54ecdfd7e91e26</td>\n",
              "      <td>583949a89a9ee17d19e3ca4f137b6b4c</td>\n",
              "      <td>b12f4f09c783e29fe0d0ea624530db56</td>\n",
              "      <td>executive</td>\n",
              "      <td>asap</td>\n",
              "      <td>16/11/2010 16:44</td>\n",
              "      <td>-12,13983536</td>\n",
              "      <td>-77,02355957</td>\n",
              "      <td>16/11/2010 17:29</td>\n",
              "      <td>-12,05537033</td>\n",
              "      <td>-77,0413208</td>\n",
              "      <td>drop off</td>\n",
              "      <td>-12,10825481</td>\n",
              "      <td>-77,0272739</td>\n",
              "      <td>16/11/2010 17:02</td>\n",
              "      <td>PEN</td>\n",
              "      <td>3821.0</td>\n",
              "      <td>3626.0</td>\n",
              "      <td>195.0</td>\n",
              "      <td>11331.0</td>\n",
              "      <td>234.0</td>\n",
              "      <td>0.0</td>\n",
              "      <td>0.0</td>\n",
              "      <td>0.0</td>\n",
              "      <td>iPhone</td>\n",
              "      <td>5.0</td>\n",
              "      <td>5.0</td>\n",
              "    </tr>\n",
              "    <tr>\n",
              "      <th>1</th>\n",
              "      <td>dd2af4715d0dc16eded53afc0e243577</td>\n",
              "      <td>a553c46e3a22fb9c326aeb3d72b3334e</td>\n",
              "      <td>NaN</td>\n",
              "      <td>NaN</td>\n",
              "      <td>executive</td>\n",
              "      <td>asap</td>\n",
              "      <td>01/06/2010 0:34</td>\n",
              "      <td>-12,13874817</td>\n",
              "      <td>-76,99536133</td>\n",
              "      <td>01/06/2010 0:37</td>\n",
              "      <td>-12,12465668</td>\n",
              "      <td>-77,02886963</td>\n",
              "      <td>not found</td>\n",
              "      <td>NaN</td>\n",
              "      <td>NaN</td>\n",
              "      <td>NaN</td>\n",
              "      <td>PEN</td>\n",
              "      <td>0.0</td>\n",
              "      <td>NaN</td>\n",
              "      <td>NaN</td>\n",
              "      <td>0.0</td>\n",
              "      <td>0.0</td>\n",
              "      <td>0.0</td>\n",
              "      <td>NaN</td>\n",
              "      <td>NaN</td>\n",
              "      <td>iPhone</td>\n",
              "      <td>NaN</td>\n",
              "      <td>NaN</td>\n",
              "    </tr>\n",
              "    <tr>\n",
              "      <th>2</th>\n",
              "      <td>dd91e131888064bf7df3ce08f3d4b4ad</td>\n",
              "      <td>a553c46e3a22fb9c326aeb3d72b3334e</td>\n",
              "      <td>NaN</td>\n",
              "      <td>NaN</td>\n",
              "      <td>executive</td>\n",
              "      <td>asap</td>\n",
              "      <td>31/05/2010 5:01</td>\n",
              "      <td>-12,12453079</td>\n",
              "      <td>-77,02780151</td>\n",
              "      <td>31/05/2010 5:04</td>\n",
              "      <td>-12,13883209</td>\n",
              "      <td>-76,99530029</td>\n",
              "      <td>not found</td>\n",
              "      <td>NaN</td>\n",
              "      <td>NaN</td>\n",
              "      <td>NaN</td>\n",
              "      <td>PEN</td>\n",
              "      <td>0.0</td>\n",
              "      <td>NaN</td>\n",
              "      <td>NaN</td>\n",
              "      <td>0.0</td>\n",
              "      <td>0.0</td>\n",
              "      <td>0.0</td>\n",
              "      <td>NaN</td>\n",
              "      <td>NaN</td>\n",
              "      <td>iPhone</td>\n",
              "      <td>NaN</td>\n",
              "      <td>NaN</td>\n",
              "    </tr>\n",
              "    <tr>\n",
              "      <th>3</th>\n",
              "      <td>dd2af4715d0dc16eded53afc0e2466d0</td>\n",
              "      <td>a553c46e3a22fb9c326aeb3d72b3334e</td>\n",
              "      <td>NaN</td>\n",
              "      <td>NaN</td>\n",
              "      <td>executive</td>\n",
              "      <td>asap</td>\n",
              "      <td>01/06/2010 0:29</td>\n",
              "      <td>-12,13885117</td>\n",
              "      <td>-76,99530029</td>\n",
              "      <td>01/06/2010 0:32</td>\n",
              "      <td>-12,12458801</td>\n",
              "      <td>-77,02896118</td>\n",
              "      <td>not found</td>\n",
              "      <td>NaN</td>\n",
              "      <td>NaN</td>\n",
              "      <td>NaN</td>\n",
              "      <td>PEN</td>\n",
              "      <td>0.0</td>\n",
              "      <td>NaN</td>\n",
              "      <td>NaN</td>\n",
              "      <td>0.0</td>\n",
              "      <td>0.0</td>\n",
              "      <td>0.0</td>\n",
              "      <td>NaN</td>\n",
              "      <td>NaN</td>\n",
              "      <td>iPhone</td>\n",
              "      <td>NaN</td>\n",
              "      <td>NaN</td>\n",
              "    </tr>\n",
              "    <tr>\n",
              "      <th>4</th>\n",
              "      <td>85b7eabcf5d84e42dc7629b7d27781af</td>\n",
              "      <td>56772d544fdfa589a020a1ff894a86f7</td>\n",
              "      <td>d665fb9f75ef5d9cd0fd89479380ba78</td>\n",
              "      <td>0accdd3aa5a322f4129fa20b53278c69</td>\n",
              "      <td>executive</td>\n",
              "      <td>reserved</td>\n",
              "      <td>11/09/2010 23:55</td>\n",
              "      <td>-12,08995438</td>\n",
              "      <td>-76,92626953</td>\n",
              "      <td>12/09/2010 1:07</td>\n",
              "      <td>-12,02223206</td>\n",
              "      <td>-77,10638428</td>\n",
              "      <td>drop off</td>\n",
              "      <td>-12,08311558</td>\n",
              "      <td>-76,9277072</td>\n",
              "      <td>11/09/2010 23:50</td>\n",
              "      <td>PEN</td>\n",
              "      <td>8227.0</td>\n",
              "      <td>7665.0</td>\n",
              "      <td>562.0</td>\n",
              "      <td>30270.0</td>\n",
              "      <td>715.0</td>\n",
              "      <td>6173.0</td>\n",
              "      <td>5756.0</td>\n",
              "      <td>417.0</td>\n",
              "      <td>iPhone</td>\n",
              "      <td>4.0</td>\n",
              "      <td>5.0</td>\n",
              "    </tr>\n",
              "  </tbody>\n",
              "</table>\n",
              "</div>"
            ],
            "text/plain": [
              "                         journey_id  ... rider_score\n",
              "0  23a1406fc6a11d866e3c82f22eed4d4c  ...         5.0\n",
              "1  dd2af4715d0dc16eded53afc0e243577  ...         NaN\n",
              "2  dd91e131888064bf7df3ce08f3d4b4ad  ...         NaN\n",
              "3  dd2af4715d0dc16eded53afc0e2466d0  ...         NaN\n",
              "4  85b7eabcf5d84e42dc7629b7d27781af  ...         5.0\n",
              "\n",
              "[5 rows x 28 columns]"
            ]
          },
          "metadata": {},
          "execution_count": 21
        }
      ]
    },
    {
      "cell_type": "markdown",
      "metadata": {
        "id": "_R8tvKSm4d_m"
      },
      "source": [
        "- 5 ultimas linhas da tabela com a função <code>.tail()</code>"
      ]
    },
    {
      "cell_type": "code",
      "metadata": {
        "colab": {
          "base_uri": "https://localhost:8080/",
          "height": 308
        },
        "id": "5s-POhAR4d_m",
        "outputId": "2b358090-f775-49be-d569-dc2f1834536f"
      },
      "source": [
        "df.tail()"
      ],
      "execution_count": 22,
      "outputs": [
        {
          "output_type": "execute_result",
          "data": {
            "text/html": [
              "<div>\n",
              "<style scoped>\n",
              "    .dataframe tbody tr th:only-of-type {\n",
              "        vertical-align: middle;\n",
              "    }\n",
              "\n",
              "    .dataframe tbody tr th {\n",
              "        vertical-align: top;\n",
              "    }\n",
              "\n",
              "    .dataframe thead th {\n",
              "        text-align: right;\n",
              "    }\n",
              "</style>\n",
              "<table border=\"1\" class=\"dataframe\">\n",
              "  <thead>\n",
              "    <tr style=\"text-align: right;\">\n",
              "      <th></th>\n",
              "      <th>journey_id</th>\n",
              "      <th>user_id</th>\n",
              "      <th>driver_id</th>\n",
              "      <th>taxi_id</th>\n",
              "      <th>icon</th>\n",
              "      <th>start_type</th>\n",
              "      <th>start_at</th>\n",
              "      <th>start_lat</th>\n",
              "      <th>start_lon</th>\n",
              "      <th>end_at</th>\n",
              "      <th>end_lat</th>\n",
              "      <th>end_lon</th>\n",
              "      <th>end_state</th>\n",
              "      <th>driver_start_lat</th>\n",
              "      <th>driver_start_lon</th>\n",
              "      <th>arrived_at</th>\n",
              "      <th>currency</th>\n",
              "      <th>price</th>\n",
              "      <th>price_distance</th>\n",
              "      <th>price_duration</th>\n",
              "      <th>distance</th>\n",
              "      <th>duration</th>\n",
              "      <th>cost</th>\n",
              "      <th>cost_distance</th>\n",
              "      <th>cost_duration</th>\n",
              "      <th>source</th>\n",
              "      <th>driver_score</th>\n",
              "      <th>rider_score</th>\n",
              "    </tr>\n",
              "  </thead>\n",
              "  <tbody>\n",
              "    <tr>\n",
              "      <th>23106</th>\n",
              "      <td>4a18ea5737ce0ffecaf20b305a0e2c86</td>\n",
              "      <td>8998bb370b5f0cec43a373adebba0c72</td>\n",
              "      <td>d665fb9f75ef5d9cd0fd89479380ba78</td>\n",
              "      <td>16cbe35db7fff70fbc8251b4cda9fdc9</td>\n",
              "      <td>executive</td>\n",
              "      <td>reserved</td>\n",
              "      <td>31/07/2010 13:15</td>\n",
              "      <td>-12,08974075</td>\n",
              "      <td>-77,04699707</td>\n",
              "      <td>31/07/2010 13:27</td>\n",
              "      <td>-12,08352661</td>\n",
              "      <td>-77,05044556</td>\n",
              "      <td>drop off</td>\n",
              "      <td>-12,08973527</td>\n",
              "      <td>-77,04787016</td>\n",
              "      <td>31/07/2010 13:15</td>\n",
              "      <td>PEN</td>\n",
              "      <td>1700.0</td>\n",
              "      <td>509.0</td>\n",
              "      <td>337.0</td>\n",
              "      <td>1590.0</td>\n",
              "      <td>404.0</td>\n",
              "      <td>0.0</td>\n",
              "      <td>NaN</td>\n",
              "      <td>NaN</td>\n",
              "      <td>iPhone</td>\n",
              "      <td>5.0</td>\n",
              "      <td>5.0</td>\n",
              "    </tr>\n",
              "    <tr>\n",
              "      <th>23107</th>\n",
              "      <td>f1e4317f2c17991dd90d1cd17ae0d399</td>\n",
              "      <td>5f8a6ffef0ea5df78a8ee890267b60ec</td>\n",
              "      <td>17c21284245ff240c7212732991c2373</td>\n",
              "      <td>716a697375634f32a06d692b0448f13d</td>\n",
              "      <td>executive</td>\n",
              "      <td>asap</td>\n",
              "      <td>02/10/2010 5:26</td>\n",
              "      <td>-12,09253011</td>\n",
              "      <td>-77,02875271</td>\n",
              "      <td>02/10/2010 5:56</td>\n",
              "      <td>-12,07776001</td>\n",
              "      <td>-77,05623798</td>\n",
              "      <td>drop off</td>\n",
              "      <td>-12,10639693</td>\n",
              "      <td>-77,04028948</td>\n",
              "      <td>02/10/2010 5:39</td>\n",
              "      <td>PEN</td>\n",
              "      <td>1923.0</td>\n",
              "      <td>1923.0</td>\n",
              "      <td>0.0</td>\n",
              "      <td>6010.0</td>\n",
              "      <td>0.0</td>\n",
              "      <td>188500.0</td>\n",
              "      <td>1346.0</td>\n",
              "      <td>0.0</td>\n",
              "      <td>Android</td>\n",
              "      <td>NaN</td>\n",
              "      <td>5.0</td>\n",
              "    </tr>\n",
              "    <tr>\n",
              "      <th>23108</th>\n",
              "      <td>1e44c0fd0a266c3719ff30410b257bce</td>\n",
              "      <td>c0ffb6f6cd801004dd8609c12277c2d1</td>\n",
              "      <td>4851ee4c867c9b49b909c1adb76c31e9</td>\n",
              "      <td>4851ee4c867c9b49b909c1adb76c538e</td>\n",
              "      <td>executive</td>\n",
              "      <td>asap</td>\n",
              "      <td>21/09/2010 9:56</td>\n",
              "      <td>-12,1275637</td>\n",
              "      <td>-77,02642288</td>\n",
              "      <td>21/09/2010 10:18</td>\n",
              "      <td>-12,10529838</td>\n",
              "      <td>-77,04735249</td>\n",
              "      <td>drop off</td>\n",
              "      <td>-12,12605017</td>\n",
              "      <td>-77,01882491</td>\n",
              "      <td>21/09/2010 10:05</td>\n",
              "      <td>PEN</td>\n",
              "      <td>1700.0</td>\n",
              "      <td>1478.0</td>\n",
              "      <td>109.0</td>\n",
              "      <td>4620.0</td>\n",
              "      <td>131.0</td>\n",
              "      <td>1450.0</td>\n",
              "      <td>1109.0</td>\n",
              "      <td>81.0</td>\n",
              "      <td>Android</td>\n",
              "      <td>0.0</td>\n",
              "      <td>0.0</td>\n",
              "    </tr>\n",
              "    <tr>\n",
              "      <th>23109</th>\n",
              "      <td>7073883383b89ad289e864022150cdd7</td>\n",
              "      <td>c0ffb6f6cd801004dd8609c12277c2d1</td>\n",
              "      <td>56f59b58bcbbd1cdabc3652e713134c2</td>\n",
              "      <td>924d4f0e7554566623e8ebb3904a7b0c</td>\n",
              "      <td>executive</td>\n",
              "      <td>reserved</td>\n",
              "      <td>29/04/2010 4:30</td>\n",
              "      <td>-12,019468</td>\n",
              "      <td>-77,1077669</td>\n",
              "      <td>29/04/2010 5:11</td>\n",
              "      <td>-12,09909987</td>\n",
              "      <td>-77,03475013</td>\n",
              "      <td>drop off</td>\n",
              "      <td>-12,0710933</td>\n",
              "      <td>-77,09855131</td>\n",
              "      <td>29/04/2010 4:23</td>\n",
              "      <td>PEN</td>\n",
              "      <td>4962.0</td>\n",
              "      <td>4427.0</td>\n",
              "      <td>535.0</td>\n",
              "      <td>13835.0</td>\n",
              "      <td>641.0</td>\n",
              "      <td>3473.0</td>\n",
              "      <td>3099.0</td>\n",
              "      <td>374.0</td>\n",
              "      <td>Android</td>\n",
              "      <td>NaN</td>\n",
              "      <td>5.0</td>\n",
              "    </tr>\n",
              "    <tr>\n",
              "      <th>23110</th>\n",
              "      <td>b7dea45c3cc92b9efd5a4905e69ff9bf</td>\n",
              "      <td>c0ffb6f6cd801004dd8609c12277c2d1</td>\n",
              "      <td>924d4f0e7554566623e8ebb390491d08</td>\n",
              "      <td>924d4f0e7554566623e8ebb390491492</td>\n",
              "      <td>executive</td>\n",
              "      <td>asap</td>\n",
              "      <td>16/03/2010 19:58</td>\n",
              "      <td>-12,1334974</td>\n",
              "      <td>-77,0272581</td>\n",
              "      <td>16/03/2010 20:02</td>\n",
              "      <td>-12,029174</td>\n",
              "      <td>-76,93977</td>\n",
              "      <td>rider cancel</td>\n",
              "      <td>-12,09586711</td>\n",
              "      <td>-77,07372552</td>\n",
              "      <td>NaN</td>\n",
              "      <td>PEN</td>\n",
              "      <td>0.0</td>\n",
              "      <td>NaN</td>\n",
              "      <td>NaN</td>\n",
              "      <td>0.0</td>\n",
              "      <td>0.0</td>\n",
              "      <td>0.0</td>\n",
              "      <td>NaN</td>\n",
              "      <td>NaN</td>\n",
              "      <td>web</td>\n",
              "      <td>NaN</td>\n",
              "      <td>NaN</td>\n",
              "    </tr>\n",
              "  </tbody>\n",
              "</table>\n",
              "</div>"
            ],
            "text/plain": [
              "                             journey_id  ... rider_score\n",
              "23106  4a18ea5737ce0ffecaf20b305a0e2c86  ...         5.0\n",
              "23107  f1e4317f2c17991dd90d1cd17ae0d399  ...         5.0\n",
              "23108  1e44c0fd0a266c3719ff30410b257bce  ...         0.0\n",
              "23109  7073883383b89ad289e864022150cdd7  ...         5.0\n",
              "23110  b7dea45c3cc92b9efd5a4905e69ff9bf  ...         NaN\n",
              "\n",
              "[5 rows x 28 columns]"
            ]
          },
          "metadata": {},
          "execution_count": 22
        }
      ]
    },
    {
      "cell_type": "markdown",
      "metadata": {
        "id": "F5nv9dN44d_m"
      },
      "source": [
        "- A visualização do DataFrame acima é composta pelos seguintes elementos:\n",
        "```\n",
        "    1. Index\n",
        "    2. Elemento do Index\n",
        "    3. Colunas\n",
        "    4. Nome da coluna (pode ter espaço, acento e etc, mas nome curto, simples, e representativo facilita o código)\n",
        "    5. '...'\n",
        "    6. Células (Dados)\n",
        "    7. NaNs\n",
        "```"
      ]
    },
    {
      "cell_type": "markdown",
      "metadata": {
        "id": "VeUPFZ5f4d_m"
      },
      "source": [
        "Apesar da convenção no Python ser utilizar o <code>.head()</code> ou o <code>.tail()</code> para olhar um DataFrame novo, algo muito mais inteligente de se fazer para ter uma ideia representativa do DataFrame é utilizar o <code>.sample(5)</code>, que seleciona 5 linhas aleatórias do seu DataFrame. Se você executar o comando algumas vezes vai obter resultados diferentes a cada iteração."
      ]
    },
    {
      "cell_type": "code",
      "metadata": {
        "colab": {
          "base_uri": "https://localhost:8080/",
          "height": 308
        },
        "id": "1e8wN1gz4d_m",
        "outputId": "974c7947-ba89-4e96-da70-c620d0d1d277"
      },
      "source": [
        "df.sample(5)"
      ],
      "execution_count": 25,
      "outputs": [
        {
          "output_type": "execute_result",
          "data": {
            "text/html": [
              "<div>\n",
              "<style scoped>\n",
              "    .dataframe tbody tr th:only-of-type {\n",
              "        vertical-align: middle;\n",
              "    }\n",
              "\n",
              "    .dataframe tbody tr th {\n",
              "        vertical-align: top;\n",
              "    }\n",
              "\n",
              "    .dataframe thead th {\n",
              "        text-align: right;\n",
              "    }\n",
              "</style>\n",
              "<table border=\"1\" class=\"dataframe\">\n",
              "  <thead>\n",
              "    <tr style=\"text-align: right;\">\n",
              "      <th></th>\n",
              "      <th>journey_id</th>\n",
              "      <th>user_id</th>\n",
              "      <th>driver_id</th>\n",
              "      <th>taxi_id</th>\n",
              "      <th>icon</th>\n",
              "      <th>start_type</th>\n",
              "      <th>start_at</th>\n",
              "      <th>start_lat</th>\n",
              "      <th>start_lon</th>\n",
              "      <th>end_at</th>\n",
              "      <th>end_lat</th>\n",
              "      <th>end_lon</th>\n",
              "      <th>end_state</th>\n",
              "      <th>driver_start_lat</th>\n",
              "      <th>driver_start_lon</th>\n",
              "      <th>arrived_at</th>\n",
              "      <th>currency</th>\n",
              "      <th>price</th>\n",
              "      <th>price_distance</th>\n",
              "      <th>price_duration</th>\n",
              "      <th>distance</th>\n",
              "      <th>duration</th>\n",
              "      <th>cost</th>\n",
              "      <th>cost_distance</th>\n",
              "      <th>cost_duration</th>\n",
              "      <th>source</th>\n",
              "      <th>driver_score</th>\n",
              "      <th>rider_score</th>\n",
              "    </tr>\n",
              "  </thead>\n",
              "  <tbody>\n",
              "    <tr>\n",
              "      <th>8089</th>\n",
              "      <td>6764fbc58090311bada507affe50d83c</td>\n",
              "      <td>2ca7077f2fa5233904198635ad5cf6fe</td>\n",
              "      <td>NaN</td>\n",
              "      <td>NaN</td>\n",
              "      <td>executive</td>\n",
              "      <td>asap</td>\n",
              "      <td>01/11/2010 8:49</td>\n",
              "      <td>-12,13480759</td>\n",
              "      <td>-76,98776245</td>\n",
              "      <td>01/11/2010 8:52</td>\n",
              "      <td>-12,13087845</td>\n",
              "      <td>-77,0022583</td>\n",
              "      <td>not found</td>\n",
              "      <td>NaN</td>\n",
              "      <td>NaN</td>\n",
              "      <td>NaN</td>\n",
              "      <td>PEN</td>\n",
              "      <td>0.0</td>\n",
              "      <td>0.0</td>\n",
              "      <td>0.0</td>\n",
              "      <td>0.0</td>\n",
              "      <td>0.0</td>\n",
              "      <td>0.0</td>\n",
              "      <td>0.0</td>\n",
              "      <td>0.0</td>\n",
              "      <td>iPhone</td>\n",
              "      <td>NaN</td>\n",
              "      <td>NaN</td>\n",
              "    </tr>\n",
              "    <tr>\n",
              "      <th>2236</th>\n",
              "      <td>e79a8cbc68660e66be0be925d4fdaf4a</td>\n",
              "      <td>d04f1a596fe4a582f48e6eb2f9e8dd0b</td>\n",
              "      <td>433e19fcd3c5eb9fb24a395a74efd6f0</td>\n",
              "      <td>15c2795f9994744f8ffef0a4ba8b94f0</td>\n",
              "      <td>executive</td>\n",
              "      <td>asap</td>\n",
              "      <td>16/03/2010 1:30</td>\n",
              "      <td>-12,02203369</td>\n",
              "      <td>-77,10848999</td>\n",
              "      <td>16/03/2010 1:33</td>\n",
              "      <td>-12,11655807</td>\n",
              "      <td>-77,04510498</td>\n",
              "      <td>rider cancel</td>\n",
              "      <td>-12,11073898</td>\n",
              "      <td>-77,01689979</td>\n",
              "      <td>NaN</td>\n",
              "      <td>PEN</td>\n",
              "      <td>0.0</td>\n",
              "      <td>NaN</td>\n",
              "      <td>NaN</td>\n",
              "      <td>0.0</td>\n",
              "      <td>0.0</td>\n",
              "      <td>0.0</td>\n",
              "      <td>NaN</td>\n",
              "      <td>NaN</td>\n",
              "      <td>iPad</td>\n",
              "      <td>NaN</td>\n",
              "      <td>NaN</td>\n",
              "    </tr>\n",
              "    <tr>\n",
              "      <th>10635</th>\n",
              "      <td>82691770f1d609ecd0dff26fe709537d</td>\n",
              "      <td>68fe4d0ad82cc2d715d131953336e852</td>\n",
              "      <td>c75c6643b92e4b184d71197e0ff9d34d</td>\n",
              "      <td>f6d984387f19e8b2adf9550ee82502bb</td>\n",
              "      <td>executive</td>\n",
              "      <td>asap</td>\n",
              "      <td>24/09/2010 16:29</td>\n",
              "      <td>-12,09723282</td>\n",
              "      <td>-77,03762817</td>\n",
              "      <td>24/09/2010 16:53</td>\n",
              "      <td>-12,11717606</td>\n",
              "      <td>-77,00540161</td>\n",
              "      <td>drop off</td>\n",
              "      <td>-12,099555</td>\n",
              "      <td>-77,03852</td>\n",
              "      <td>24/09/2010 16:33</td>\n",
              "      <td>PEN</td>\n",
              "      <td>2432.0</td>\n",
              "      <td>2285.0</td>\n",
              "      <td>147.0</td>\n",
              "      <td>7140.0</td>\n",
              "      <td>176.0</td>\n",
              "      <td>1702.0</td>\n",
              "      <td>1599.0</td>\n",
              "      <td>103.0</td>\n",
              "      <td>iPhone</td>\n",
              "      <td>3.0</td>\n",
              "      <td>5.0</td>\n",
              "    </tr>\n",
              "    <tr>\n",
              "      <th>11763</th>\n",
              "      <td>b73d7da3c18e9bdc12b062b5b801d4fb</td>\n",
              "      <td>f622a9397b85b5c9c0ef938c5d7dc61c</td>\n",
              "      <td>40187316352d2c03ddc19e9c8ad7c514</td>\n",
              "      <td>fdd18304908a4fa34b8435f2646224bd</td>\n",
              "      <td>executive</td>\n",
              "      <td>asap</td>\n",
              "      <td>23/09/2010 13:57</td>\n",
              "      <td>-12,105472</td>\n",
              "      <td>-77,018854</td>\n",
              "      <td>23/09/2010 14:30</td>\n",
              "      <td>-12,0991</td>\n",
              "      <td>-77,03475</td>\n",
              "      <td>rider cancel</td>\n",
              "      <td>-12,10563799</td>\n",
              "      <td>-77,01892987</td>\n",
              "      <td>NaN</td>\n",
              "      <td>PEN</td>\n",
              "      <td>0.0</td>\n",
              "      <td>0.0</td>\n",
              "      <td>0.0</td>\n",
              "      <td>0.0</td>\n",
              "      <td>0.0</td>\n",
              "      <td>0.0</td>\n",
              "      <td>0.0</td>\n",
              "      <td>0.0</td>\n",
              "      <td>web</td>\n",
              "      <td>NaN</td>\n",
              "      <td>NaN</td>\n",
              "    </tr>\n",
              "    <tr>\n",
              "      <th>10236</th>\n",
              "      <td>8040d18580251e7b8b907326079449bf</td>\n",
              "      <td>abb8a5727fb8c8fae10cd1b24eb6726b</td>\n",
              "      <td>b66c43e298753a3d39220e53008a4325</td>\n",
              "      <td>b66c43e298753a3d39220e53008a4f19</td>\n",
              "      <td>executive</td>\n",
              "      <td>reserved</td>\n",
              "      <td>18/08/2010 14:00</td>\n",
              "      <td>-12,1047565</td>\n",
              "      <td>-77,0431025</td>\n",
              "      <td>18/08/2010 14:36</td>\n",
              "      <td>-12,024053</td>\n",
              "      <td>-77,112036</td>\n",
              "      <td>drop off</td>\n",
              "      <td>-12,09853864</td>\n",
              "      <td>-77,0424722</td>\n",
              "      <td>18/08/2010 13:51</td>\n",
              "      <td>PEN</td>\n",
              "      <td>5148.0</td>\n",
              "      <td>4931.0</td>\n",
              "      <td>217.0</td>\n",
              "      <td>15810.0</td>\n",
              "      <td>260.0</td>\n",
              "      <td>3859.0</td>\n",
              "      <td>3698.0</td>\n",
              "      <td>161.0</td>\n",
              "      <td>web</td>\n",
              "      <td>5.0</td>\n",
              "      <td>5.0</td>\n",
              "    </tr>\n",
              "  </tbody>\n",
              "</table>\n",
              "</div>"
            ],
            "text/plain": [
              "                             journey_id  ... rider_score\n",
              "8089   6764fbc58090311bada507affe50d83c  ...         NaN\n",
              "2236   e79a8cbc68660e66be0be925d4fdaf4a  ...         NaN\n",
              "10635  82691770f1d609ecd0dff26fe709537d  ...         5.0\n",
              "11763  b73d7da3c18e9bdc12b062b5b801d4fb  ...         NaN\n",
              "10236  8040d18580251e7b8b907326079449bf  ...         5.0\n",
              "\n",
              "[5 rows x 28 columns]"
            ]
          },
          "metadata": {},
          "execution_count": 25
        }
      ]
    },
    {
      "cell_type": "markdown",
      "metadata": {
        "id": "J-vr6dJZ4d_m"
      },
      "source": [
        "### Melhorando a visualização da tabela\n",
        "\n",
        "Um truque para visualizar melhor os dados é invertendo as linhas pelas colunas (matrix transposta), para isso basta colocar um <code>.T</code> depois do nosso comando que gera uma visualização de DataFrame.\n",
        "\n",
        "### Encadeamento de funcionalidades\n",
        "\n",
        "Podemos juntar diversos comando na mesma linha, isto é, logo após o <code>df.sample(5)</code>, pode usar o <code>.T</code>, e essas funcionalidades irão funcionar em cascata e de forma sequêncial, primeiro o <code>df.sample(5)</code>, e depois o <code>.T</code>"
      ]
    },
    {
      "cell_type": "code",
      "metadata": {
        "colab": {
          "base_uri": "https://localhost:8080/",
          "height": 914
        },
        "id": "nlCu7wgP4d_n",
        "outputId": "6b541e8b-b3a2-4a87-8e1c-d686e3fe3ece"
      },
      "source": [
        "df.sample(5).T"
      ],
      "execution_count": 26,
      "outputs": [
        {
          "output_type": "execute_result",
          "data": {
            "text/html": [
              "<div>\n",
              "<style scoped>\n",
              "    .dataframe tbody tr th:only-of-type {\n",
              "        vertical-align: middle;\n",
              "    }\n",
              "\n",
              "    .dataframe tbody tr th {\n",
              "        vertical-align: top;\n",
              "    }\n",
              "\n",
              "    .dataframe thead th {\n",
              "        text-align: right;\n",
              "    }\n",
              "</style>\n",
              "<table border=\"1\" class=\"dataframe\">\n",
              "  <thead>\n",
              "    <tr style=\"text-align: right;\">\n",
              "      <th></th>\n",
              "      <th>8620</th>\n",
              "      <th>21039</th>\n",
              "      <th>4658</th>\n",
              "      <th>5955</th>\n",
              "      <th>13637</th>\n",
              "    </tr>\n",
              "  </thead>\n",
              "  <tbody>\n",
              "    <tr>\n",
              "      <th>journey_id</th>\n",
              "      <td>39fd87734a40ad27c3aaae3d7a7577f5</td>\n",
              "      <td>b4f2c132de1648fecf41bb165198f1b3</td>\n",
              "      <td>f045eafd6ccc91eb0d4e04417b281774</td>\n",
              "      <td>08bd7a170327507c17a740a4c080fb30</td>\n",
              "      <td>0280ac72b104d8a55d2d23d532e0a1d1</td>\n",
              "    </tr>\n",
              "    <tr>\n",
              "      <th>user_id</th>\n",
              "      <td>86aa09456b63a2a25e0097c55203bbfb</td>\n",
              "      <td>68fe4d0ad82cc2d715d131953312673c</td>\n",
              "      <td>8e37a68fab5f31a5e2c1b5f77c6bb9e5</td>\n",
              "      <td>3546db06867c6c6f85e353c8ea633d07</td>\n",
              "      <td>86aa09456b63a2a25e0097c55203bbfb</td>\n",
              "    </tr>\n",
              "    <tr>\n",
              "      <th>driver_id</th>\n",
              "      <td>ccfcfc81abe6485b505ba742749e61aa</td>\n",
              "      <td>c814db2127582cf95dea1f74f43127c2</td>\n",
              "      <td>62c2e39787aa19cd2513901cf3b4858d</td>\n",
              "      <td>NaN</td>\n",
              "      <td>12c472dd8efc6ed622ae8669257e9ec9</td>\n",
              "    </tr>\n",
              "    <tr>\n",
              "      <th>taxi_id</th>\n",
              "      <td>ba102ab81aaae9437a473f04c2656149</td>\n",
              "      <td>16cbe35db7fff70fbc8251b4cdca8eb8</td>\n",
              "      <td>62c2e39787aa19cd2513901cf3b49643</td>\n",
              "      <td>NaN</td>\n",
              "      <td>12c472dd8efc6ed622ae8669251b2fa6</td>\n",
              "    </tr>\n",
              "    <tr>\n",
              "      <th>icon</th>\n",
              "      <td>executive</td>\n",
              "      <td>executive</td>\n",
              "      <td>executive</td>\n",
              "      <td>executive</td>\n",
              "      <td>executive</td>\n",
              "    </tr>\n",
              "    <tr>\n",
              "      <th>start_type</th>\n",
              "      <td>reserved</td>\n",
              "      <td>asap</td>\n",
              "      <td>reserved</td>\n",
              "      <td>asap</td>\n",
              "      <td>reserved</td>\n",
              "    </tr>\n",
              "    <tr>\n",
              "      <th>start_at</th>\n",
              "      <td>24/10/2010 11:20</td>\n",
              "      <td>14/11/2010 20:23</td>\n",
              "      <td>16/10/2010 12:45</td>\n",
              "      <td>15/08/2010 15:36</td>\n",
              "      <td>10/11/2010 15:15</td>\n",
              "    </tr>\n",
              "    <tr>\n",
              "      <th>start_lat</th>\n",
              "      <td>-12,10596466</td>\n",
              "      <td>-12,1196022</td>\n",
              "      <td>-12,1316237</td>\n",
              "      <td>-12,1018087</td>\n",
              "      <td>-12,10596466</td>\n",
              "    </tr>\n",
              "    <tr>\n",
              "      <th>start_lon</th>\n",
              "      <td>-76,98452759</td>\n",
              "      <td>-77,0302124</td>\n",
              "      <td>-77,0234232</td>\n",
              "      <td>-77,0383792</td>\n",
              "      <td>-76,98452759</td>\n",
              "    </tr>\n",
              "    <tr>\n",
              "      <th>end_at</th>\n",
              "      <td>24/10/2010 12:19</td>\n",
              "      <td>14/11/2010 21:02</td>\n",
              "      <td>16/10/2010 13:20</td>\n",
              "      <td>15/08/2010 15:37</td>\n",
              "      <td>10/11/2010 16:20</td>\n",
              "    </tr>\n",
              "    <tr>\n",
              "      <th>end_lat</th>\n",
              "      <td>-12,02381516</td>\n",
              "      <td>-12,10353088</td>\n",
              "      <td>-12,09734</td>\n",
              "      <td>-12,1286654</td>\n",
              "      <td>-12,02389908</td>\n",
              "    </tr>\n",
              "    <tr>\n",
              "      <th>end_lon</th>\n",
              "      <td>-77,10949707</td>\n",
              "      <td>-77,05111694</td>\n",
              "      <td>-77,014704</td>\n",
              "      <td>-77,0297183</td>\n",
              "      <td>-77,10818481</td>\n",
              "    </tr>\n",
              "    <tr>\n",
              "      <th>end_state</th>\n",
              "      <td>drop off</td>\n",
              "      <td>drop off</td>\n",
              "      <td>drop off</td>\n",
              "      <td>rider cancel</td>\n",
              "      <td>drop off</td>\n",
              "    </tr>\n",
              "    <tr>\n",
              "      <th>driver_start_lat</th>\n",
              "      <td>-12,08786198</td>\n",
              "      <td>-12,11825594</td>\n",
              "      <td>-12,07336716</td>\n",
              "      <td>NaN</td>\n",
              "      <td>-12,11139814</td>\n",
              "    </tr>\n",
              "    <tr>\n",
              "      <th>driver_start_lon</th>\n",
              "      <td>-77,00119558</td>\n",
              "      <td>-77,03068652</td>\n",
              "      <td>-77,09974052</td>\n",
              "      <td>NaN</td>\n",
              "      <td>-76,98436833</td>\n",
              "    </tr>\n",
              "    <tr>\n",
              "      <th>arrived_at</th>\n",
              "      <td>24/10/2010 11:10</td>\n",
              "      <td>14/11/2010 20:27</td>\n",
              "      <td>16/10/2010 12:41</td>\n",
              "      <td>NaN</td>\n",
              "      <td>10/11/2010 15:10</td>\n",
              "    </tr>\n",
              "    <tr>\n",
              "      <th>currency</th>\n",
              "      <td>PEN</td>\n",
              "      <td>PEN</td>\n",
              "      <td>PEN</td>\n",
              "      <td>PEN</td>\n",
              "      <td>PEN</td>\n",
              "    </tr>\n",
              "    <tr>\n",
              "      <th>price</th>\n",
              "      <td>9022</td>\n",
              "      <td>3592</td>\n",
              "      <td>2616</td>\n",
              "      <td>0</td>\n",
              "      <td>8634</td>\n",
              "    </tr>\n",
              "    <tr>\n",
              "      <th>price_distance</th>\n",
              "      <td>8039</td>\n",
              "      <td>3467</td>\n",
              "      <td>2211</td>\n",
              "      <td>0</td>\n",
              "      <td>8059</td>\n",
              "    </tr>\n",
              "    <tr>\n",
              "      <th>price_duration</th>\n",
              "      <td>983</td>\n",
              "      <td>125</td>\n",
              "      <td>405</td>\n",
              "      <td>0</td>\n",
              "      <td>575</td>\n",
              "    </tr>\n",
              "    <tr>\n",
              "      <th>distance</th>\n",
              "      <td>26650</td>\n",
              "      <td>10834</td>\n",
              "      <td>6910</td>\n",
              "      <td>0</td>\n",
              "      <td>26719</td>\n",
              "    </tr>\n",
              "    <tr>\n",
              "      <th>duration</th>\n",
              "      <td>1180</td>\n",
              "      <td>149</td>\n",
              "      <td>486</td>\n",
              "      <td>0</td>\n",
              "      <td>688</td>\n",
              "    </tr>\n",
              "    <tr>\n",
              "      <th>cost</th>\n",
              "      <td>6760</td>\n",
              "      <td>0</td>\n",
              "      <td>1704</td>\n",
              "      <td>0</td>\n",
              "      <td>6044</td>\n",
              "    </tr>\n",
              "    <tr>\n",
              "      <th>cost_distance</th>\n",
              "      <td>6032</td>\n",
              "      <td>0</td>\n",
              "      <td>1437</td>\n",
              "      <td>0</td>\n",
              "      <td>5642</td>\n",
              "    </tr>\n",
              "    <tr>\n",
              "      <th>cost_duration</th>\n",
              "      <td>728</td>\n",
              "      <td>0</td>\n",
              "      <td>267</td>\n",
              "      <td>0</td>\n",
              "      <td>402</td>\n",
              "    </tr>\n",
              "    <tr>\n",
              "      <th>source</th>\n",
              "      <td>iPhone</td>\n",
              "      <td>iPhone</td>\n",
              "      <td>web</td>\n",
              "      <td>web</td>\n",
              "      <td>iPhone</td>\n",
              "    </tr>\n",
              "    <tr>\n",
              "      <th>driver_score</th>\n",
              "      <td>NaN</td>\n",
              "      <td>5</td>\n",
              "      <td>NaN</td>\n",
              "      <td>NaN</td>\n",
              "      <td>NaN</td>\n",
              "    </tr>\n",
              "    <tr>\n",
              "      <th>rider_score</th>\n",
              "      <td>5</td>\n",
              "      <td>5</td>\n",
              "      <td>NaN</td>\n",
              "      <td>NaN</td>\n",
              "      <td>4</td>\n",
              "    </tr>\n",
              "  </tbody>\n",
              "</table>\n",
              "</div>"
            ],
            "text/plain": [
              "                                             8620   ...                             13637\n",
              "journey_id        39fd87734a40ad27c3aaae3d7a7577f5  ...  0280ac72b104d8a55d2d23d532e0a1d1\n",
              "user_id           86aa09456b63a2a25e0097c55203bbfb  ...  86aa09456b63a2a25e0097c55203bbfb\n",
              "driver_id         ccfcfc81abe6485b505ba742749e61aa  ...  12c472dd8efc6ed622ae8669257e9ec9\n",
              "taxi_id           ba102ab81aaae9437a473f04c2656149  ...  12c472dd8efc6ed622ae8669251b2fa6\n",
              "icon                                     executive  ...                         executive\n",
              "start_type                                reserved  ...                          reserved\n",
              "start_at                          24/10/2010 11:20  ...                  10/11/2010 15:15\n",
              "start_lat                             -12,10596466  ...                      -12,10596466\n",
              "start_lon                             -76,98452759  ...                      -76,98452759\n",
              "end_at                            24/10/2010 12:19  ...                  10/11/2010 16:20\n",
              "end_lat                               -12,02381516  ...                      -12,02389908\n",
              "end_lon                               -77,10949707  ...                      -77,10818481\n",
              "end_state                                 drop off  ...                          drop off\n",
              "driver_start_lat                      -12,08786198  ...                      -12,11139814\n",
              "driver_start_lon                      -77,00119558  ...                      -76,98436833\n",
              "arrived_at                        24/10/2010 11:10  ...                  10/11/2010 15:10\n",
              "currency                                       PEN  ...                               PEN\n",
              "price                                         9022  ...                              8634\n",
              "price_distance                                8039  ...                              8059\n",
              "price_duration                                 983  ...                               575\n",
              "distance                                     26650  ...                             26719\n",
              "duration                                      1180  ...                               688\n",
              "cost                                          6760  ...                              6044\n",
              "cost_distance                                 6032  ...                              5642\n",
              "cost_duration                                  728  ...                               402\n",
              "source                                      iPhone  ...                            iPhone\n",
              "driver_score                                   NaN  ...                               NaN\n",
              "rider_score                                      5  ...                                 4\n",
              "\n",
              "[28 rows x 5 columns]"
            ]
          },
          "metadata": {},
          "execution_count": 26
        }
      ]
    },
    {
      "cell_type": "markdown",
      "metadata": {
        "id": "_-vMqEkj9Fx8"
      },
      "source": [
        "### Slicing no Pandas\n",
        "\n",
        "O nome dessa operação de colocar algo entre colchetes é slicing, e isso como convenção geral é uma forma de selecionar um subconjunto de dados.\n",
        "\n",
        "[20:30] vai selecionar exatamente 10 elementos (30 - 20). O número da direita menos o número da esquerda é sempre o total de elementos que serão selecionados, e isso é uma convenção no Python.\n",
        "\n",
        "O número 20 é selecionado por ser um intervalo fechado na esquerda, e o número 30 não é selecionado por ser um intervalo aberto na direita. O que é outra convenção do Python."
      ]
    },
    {
      "cell_type": "code",
      "metadata": {
        "colab": {
          "base_uri": "https://localhost:8080/",
          "height": 547
        },
        "id": "PpXxEep44d_n",
        "outputId": "3e2037b6-6832-46a0-8177-e5b7cc1630c4"
      },
      "source": [
        "df[20:30]"
      ],
      "execution_count": 29,
      "outputs": [
        {
          "output_type": "execute_result",
          "data": {
            "text/html": [
              "<div>\n",
              "<style scoped>\n",
              "    .dataframe tbody tr th:only-of-type {\n",
              "        vertical-align: middle;\n",
              "    }\n",
              "\n",
              "    .dataframe tbody tr th {\n",
              "        vertical-align: top;\n",
              "    }\n",
              "\n",
              "    .dataframe thead th {\n",
              "        text-align: right;\n",
              "    }\n",
              "</style>\n",
              "<table border=\"1\" class=\"dataframe\">\n",
              "  <thead>\n",
              "    <tr style=\"text-align: right;\">\n",
              "      <th></th>\n",
              "      <th>journey_id</th>\n",
              "      <th>user_id</th>\n",
              "      <th>driver_id</th>\n",
              "      <th>taxi_id</th>\n",
              "      <th>icon</th>\n",
              "      <th>start_type</th>\n",
              "      <th>start_at</th>\n",
              "      <th>start_lat</th>\n",
              "      <th>start_lon</th>\n",
              "      <th>end_at</th>\n",
              "      <th>end_lat</th>\n",
              "      <th>end_lon</th>\n",
              "      <th>end_state</th>\n",
              "      <th>driver_start_lat</th>\n",
              "      <th>driver_start_lon</th>\n",
              "      <th>arrived_at</th>\n",
              "      <th>currency</th>\n",
              "      <th>price</th>\n",
              "      <th>price_distance</th>\n",
              "      <th>price_duration</th>\n",
              "      <th>distance</th>\n",
              "      <th>duration</th>\n",
              "      <th>cost</th>\n",
              "      <th>cost_distance</th>\n",
              "      <th>cost_duration</th>\n",
              "      <th>source</th>\n",
              "      <th>driver_score</th>\n",
              "      <th>rider_score</th>\n",
              "    </tr>\n",
              "  </thead>\n",
              "  <tbody>\n",
              "    <tr>\n",
              "      <th>20</th>\n",
              "      <td>141fe4a8514e64b4a76d7ed795bfdade</td>\n",
              "      <td>1d6bbc303a2c6584d56322b8cef26f65</td>\n",
              "      <td>NaN</td>\n",
              "      <td>NaN</td>\n",
              "      <td>executive</td>\n",
              "      <td>asap</td>\n",
              "      <td>05/04/2010 23:46</td>\n",
              "      <td>-12,13208</td>\n",
              "      <td>-77,024424</td>\n",
              "      <td>05/04/2010 23:49</td>\n",
              "      <td>-12,094908</td>\n",
              "      <td>-77,046008</td>\n",
              "      <td>not found</td>\n",
              "      <td>NaN</td>\n",
              "      <td>NaN</td>\n",
              "      <td>NaN</td>\n",
              "      <td>PEN</td>\n",
              "      <td>0.0</td>\n",
              "      <td>NaN</td>\n",
              "      <td>NaN</td>\n",
              "      <td>0.0</td>\n",
              "      <td>0.0</td>\n",
              "      <td>0.0</td>\n",
              "      <td>NaN</td>\n",
              "      <td>NaN</td>\n",
              "      <td>Android</td>\n",
              "      <td>NaN</td>\n",
              "      <td>NaN</td>\n",
              "    </tr>\n",
              "    <tr>\n",
              "      <th>21</th>\n",
              "      <td>7abecd4f47c2c1d5390d86eb221babff</td>\n",
              "      <td>d0d21e2cc815fa276295ce3c51811d4e</td>\n",
              "      <td>406921adcca37705ef527b4246c0cfea</td>\n",
              "      <td>406921adcca37705ef527b4246c10d2c</td>\n",
              "      <td>executive</td>\n",
              "      <td>asap</td>\n",
              "      <td>26/04/2010 21:42</td>\n",
              "      <td>-12,0834957</td>\n",
              "      <td>-77,0493404</td>\n",
              "      <td>26/04/2010 21:59</td>\n",
              "      <td>-12,068517</td>\n",
              "      <td>-77,041334</td>\n",
              "      <td>drop off</td>\n",
              "      <td>-12,08911977</td>\n",
              "      <td>-77,03838321</td>\n",
              "      <td>26/04/2010 21:51</td>\n",
              "      <td>PEN</td>\n",
              "      <td>1700.0</td>\n",
              "      <td>739.0</td>\n",
              "      <td>83.0</td>\n",
              "      <td>2310.0</td>\n",
              "      <td>100.0</td>\n",
              "      <td>1700.0</td>\n",
              "      <td>554.0</td>\n",
              "      <td>61.0</td>\n",
              "      <td>web</td>\n",
              "      <td>NaN</td>\n",
              "      <td>0.0</td>\n",
              "    </tr>\n",
              "    <tr>\n",
              "      <th>22</th>\n",
              "      <td>0e407b566f8607a539d3287899fc42c9</td>\n",
              "      <td>a7b77e5e6e60dc427d96d8d22ac7ba0d</td>\n",
              "      <td>NaN</td>\n",
              "      <td>NaN</td>\n",
              "      <td>executive</td>\n",
              "      <td>asap</td>\n",
              "      <td>15/11/2010 19:14</td>\n",
              "      <td>-12,13578415</td>\n",
              "      <td>-77,02719116</td>\n",
              "      <td>15/11/2010 19:21</td>\n",
              "      <td>-12,09751511</td>\n",
              "      <td>-77,0206604</td>\n",
              "      <td>not found</td>\n",
              "      <td>-12,11076379</td>\n",
              "      <td>-77,03409433</td>\n",
              "      <td>NaN</td>\n",
              "      <td>PEN</td>\n",
              "      <td>0.0</td>\n",
              "      <td>NaN</td>\n",
              "      <td>NaN</td>\n",
              "      <td>0.0</td>\n",
              "      <td>0.0</td>\n",
              "      <td>0.0</td>\n",
              "      <td>NaN</td>\n",
              "      <td>NaN</td>\n",
              "      <td>iPhone</td>\n",
              "      <td>NaN</td>\n",
              "      <td>NaN</td>\n",
              "    </tr>\n",
              "    <tr>\n",
              "      <th>23</th>\n",
              "      <td>23be2836bd1f20bf05c9ffa3aa6db37c</td>\n",
              "      <td>410389a59b3c36fa86e76bce43d9a336</td>\n",
              "      <td>406921adcca37705ef527b4246c0cfea</td>\n",
              "      <td>406921adcca37705ef527b4246c10d2c</td>\n",
              "      <td>executive</td>\n",
              "      <td>reserved</td>\n",
              "      <td>20/05/2010 16:27</td>\n",
              "      <td>-12,1099832</td>\n",
              "      <td>-76,975818</td>\n",
              "      <td>20/05/2010 17:16</td>\n",
              "      <td>-12,1254832</td>\n",
              "      <td>-77,0293897</td>\n",
              "      <td>drop off</td>\n",
              "      <td>-12,098508</td>\n",
              "      <td>-76,99515788</td>\n",
              "      <td>20/05/2010 16:16</td>\n",
              "      <td>PEN</td>\n",
              "      <td>7348.0</td>\n",
              "      <td>7031.0</td>\n",
              "      <td>317.0</td>\n",
              "      <td>21972.0</td>\n",
              "      <td>380.0</td>\n",
              "      <td>5507.0</td>\n",
              "      <td>5273.0</td>\n",
              "      <td>234.0</td>\n",
              "      <td>web</td>\n",
              "      <td>NaN</td>\n",
              "      <td>5.0</td>\n",
              "    </tr>\n",
              "    <tr>\n",
              "      <th>24</th>\n",
              "      <td>ec84a73745199ff840ecafcb928250fd</td>\n",
              "      <td>410389a59b3c36fa86e76bce43d9a336</td>\n",
              "      <td>NaN</td>\n",
              "      <td>NaN</td>\n",
              "      <td>executive</td>\n",
              "      <td>reserved</td>\n",
              "      <td>13/05/2010 20:00</td>\n",
              "      <td>-12,1312973</td>\n",
              "      <td>-76,9824845</td>\n",
              "      <td>13/05/2010 18:27</td>\n",
              "      <td>-12,1254832</td>\n",
              "      <td>-77,0293897</td>\n",
              "      <td>rider cancel</td>\n",
              "      <td>NaN</td>\n",
              "      <td>NaN</td>\n",
              "      <td>NaN</td>\n",
              "      <td>PEN</td>\n",
              "      <td>0.0</td>\n",
              "      <td>NaN</td>\n",
              "      <td>NaN</td>\n",
              "      <td>0.0</td>\n",
              "      <td>0.0</td>\n",
              "      <td>0.0</td>\n",
              "      <td>NaN</td>\n",
              "      <td>NaN</td>\n",
              "      <td>web</td>\n",
              "      <td>NaN</td>\n",
              "      <td>NaN</td>\n",
              "    </tr>\n",
              "    <tr>\n",
              "      <th>25</th>\n",
              "      <td>b8ae7685c97ef64f90a646a3b97ed4c0</td>\n",
              "      <td>410389a59b3c36fa86e76bce43d9a336</td>\n",
              "      <td>d665fb9f75ef5d9cd0fd89479380ba78</td>\n",
              "      <td>0accdd3aa5a322f4129fa20b53278c69</td>\n",
              "      <td>executive</td>\n",
              "      <td>asap</td>\n",
              "      <td>11/03/2010 15:35</td>\n",
              "      <td>-12,074953</td>\n",
              "      <td>-77,030404</td>\n",
              "      <td>11/03/2010 16:07</td>\n",
              "      <td>-12,0197627</td>\n",
              "      <td>-76,9666032</td>\n",
              "      <td>drop off</td>\n",
              "      <td>-12,06554001</td>\n",
              "      <td>-77,02722641</td>\n",
              "      <td>11/03/2010 15:45</td>\n",
              "      <td>PEN</td>\n",
              "      <td>3625.0</td>\n",
              "      <td>3625.0</td>\n",
              "      <td>0.0</td>\n",
              "      <td>11329.0</td>\n",
              "      <td>0.0</td>\n",
              "      <td>2808.0</td>\n",
              "      <td>2604.0</td>\n",
              "      <td>204.0</td>\n",
              "      <td>web</td>\n",
              "      <td>NaN</td>\n",
              "      <td>NaN</td>\n",
              "    </tr>\n",
              "    <tr>\n",
              "      <th>26</th>\n",
              "      <td>031fea9628f9238b051a58808553bb49</td>\n",
              "      <td>410389a59b3c36fa86e76bce43d9a336</td>\n",
              "      <td>031fea9628f9238b051a58808554498a</td>\n",
              "      <td>031fea9628f9238b051a588085333504</td>\n",
              "      <td>executive</td>\n",
              "      <td>asap</td>\n",
              "      <td>21/02/2010 18:15</td>\n",
              "      <td>-12,1107896</td>\n",
              "      <td>-76,9854538</td>\n",
              "      <td>21/02/2010 18:16</td>\n",
              "      <td>-12,1287139</td>\n",
              "      <td>-77,0296191</td>\n",
              "      <td>drop off</td>\n",
              "      <td>-12,1141078</td>\n",
              "      <td>-76,9931855</td>\n",
              "      <td>21/02/2010 18:16</td>\n",
              "      <td>PEN</td>\n",
              "      <td>1700.0</td>\n",
              "      <td>0.0</td>\n",
              "      <td>12.0</td>\n",
              "      <td>0.0</td>\n",
              "      <td>14.0</td>\n",
              "      <td>0.0</td>\n",
              "      <td>0.0</td>\n",
              "      <td>9.0</td>\n",
              "      <td>web</td>\n",
              "      <td>NaN</td>\n",
              "      <td>NaN</td>\n",
              "    </tr>\n",
              "    <tr>\n",
              "      <th>27</th>\n",
              "      <td>58af3d0a68980e98b9cc7d5383ef78a6</td>\n",
              "      <td>410389a59b3c36fa86e76bce43d9a336</td>\n",
              "      <td>d04f1a596fe4a582f48e6eb2f9e8f617</td>\n",
              "      <td>d04f1a596fe4a582f48e6eb2f9e8cceb</td>\n",
              "      <td>executive</td>\n",
              "      <td>asap</td>\n",
              "      <td>25/02/2010 16:39</td>\n",
              "      <td>-12,0197627</td>\n",
              "      <td>-76,9666032</td>\n",
              "      <td>25/02/2010 16:40</td>\n",
              "      <td>-12,1263555</td>\n",
              "      <td>-77,0172647</td>\n",
              "      <td>rider cancel</td>\n",
              "      <td>-12,09786675</td>\n",
              "      <td>-76,97267827</td>\n",
              "      <td>NaN</td>\n",
              "      <td>PEN</td>\n",
              "      <td>0.0</td>\n",
              "      <td>NaN</td>\n",
              "      <td>NaN</td>\n",
              "      <td>0.0</td>\n",
              "      <td>0.0</td>\n",
              "      <td>0.0</td>\n",
              "      <td>NaN</td>\n",
              "      <td>NaN</td>\n",
              "      <td>web</td>\n",
              "      <td>NaN</td>\n",
              "      <td>NaN</td>\n",
              "    </tr>\n",
              "    <tr>\n",
              "      <th>28</th>\n",
              "      <td>80bac185b5571746a5985f7f0f32ba8b</td>\n",
              "      <td>297c055e30be8d9a933868c949b9bbac</td>\n",
              "      <td>e1332f68e81526e498e4d845233a6d7d</td>\n",
              "      <td>e1332f68e81526e498e4d845235baf80</td>\n",
              "      <td>executive</td>\n",
              "      <td>reserved</td>\n",
              "      <td>25/12/2010 11:40</td>\n",
              "      <td>-12,11436081</td>\n",
              "      <td>-77,04165649</td>\n",
              "      <td>25/12/2010 12:24</td>\n",
              "      <td>-12,02225876</td>\n",
              "      <td>-77,10757446</td>\n",
              "      <td>drop off</td>\n",
              "      <td>-12,12566144</td>\n",
              "      <td>-77,02175188</td>\n",
              "      <td>25/12/2010 11:34</td>\n",
              "      <td>PEN</td>\n",
              "      <td>5762.0</td>\n",
              "      <td>5002.0</td>\n",
              "      <td>760.0</td>\n",
              "      <td>15631.0</td>\n",
              "      <td>910.0</td>\n",
              "      <td>4313.0</td>\n",
              "      <td>3751.0</td>\n",
              "      <td>562.0</td>\n",
              "      <td>iPhone</td>\n",
              "      <td>NaN</td>\n",
              "      <td>5.0</td>\n",
              "    </tr>\n",
              "    <tr>\n",
              "      <th>29</th>\n",
              "      <td>1881c928349fa432c4c0cb4434807dec</td>\n",
              "      <td>e7502b492346e09de17e1542782c1af1</td>\n",
              "      <td>NaN</td>\n",
              "      <td>NaN</td>\n",
              "      <td>executive</td>\n",
              "      <td>reserved</td>\n",
              "      <td>23/10/2010 12:40</td>\n",
              "      <td>-12,10833359</td>\n",
              "      <td>-77,04638672</td>\n",
              "      <td>23/10/2010 11:58</td>\n",
              "      <td>-12,09195328</td>\n",
              "      <td>-77,02441406</td>\n",
              "      <td>rider cancel</td>\n",
              "      <td>NaN</td>\n",
              "      <td>NaN</td>\n",
              "      <td>NaN</td>\n",
              "      <td>PEN</td>\n",
              "      <td>0.0</td>\n",
              "      <td>0.0</td>\n",
              "      <td>0.0</td>\n",
              "      <td>0.0</td>\n",
              "      <td>0.0</td>\n",
              "      <td>0.0</td>\n",
              "      <td>0.0</td>\n",
              "      <td>0.0</td>\n",
              "      <td>iPhone</td>\n",
              "      <td>NaN</td>\n",
              "      <td>NaN</td>\n",
              "    </tr>\n",
              "  </tbody>\n",
              "</table>\n",
              "</div>"
            ],
            "text/plain": [
              "                          journey_id  ... rider_score\n",
              "20  141fe4a8514e64b4a76d7ed795bfdade  ...         NaN\n",
              "21  7abecd4f47c2c1d5390d86eb221babff  ...         0.0\n",
              "22  0e407b566f8607a539d3287899fc42c9  ...         NaN\n",
              "23  23be2836bd1f20bf05c9ffa3aa6db37c  ...         5.0\n",
              "24  ec84a73745199ff840ecafcb928250fd  ...         NaN\n",
              "25  b8ae7685c97ef64f90a646a3b97ed4c0  ...         NaN\n",
              "26  031fea9628f9238b051a58808553bb49  ...         NaN\n",
              "27  58af3d0a68980e98b9cc7d5383ef78a6  ...         NaN\n",
              "28  80bac185b5571746a5985f7f0f32ba8b  ...         5.0\n",
              "29  1881c928349fa432c4c0cb4434807dec  ...         NaN\n",
              "\n",
              "[10 rows x 28 columns]"
            ]
          },
          "metadata": {},
          "execution_count": 29
        }
      ]
    },
    {
      "cell_type": "markdown",
      "metadata": {
        "id": "1HLmFUSD9hmW"
      },
      "source": [
        "### Selecionando colunas\n",
        "\n",
        "\n",
        "Para selecionarmos colunas no pandas, basta dizermos o nome do DataFrame seguido por colchetes com o nome da coluna dentro:\n",
        "\n",
        "- Nome do Dataframe: <code>igm</code>\n",
        "- Colchetes com a coluna dentro: <code>['Porte do Município']</code>\n",
        "- Comando completo: <code>igm['Porte do Município']</code>"
      ]
    },
    {
      "cell_type": "code",
      "metadata": {
        "colab": {
          "base_uri": "https://localhost:8080/"
        },
        "id": "8PKf3dtG9ZNc",
        "outputId": "bccdea46-09da-4d22-c6b6-a36ec8ef3bef"
      },
      "source": [
        "df['user_id']"
      ],
      "execution_count": 31,
      "outputs": [
        {
          "output_type": "execute_result",
          "data": {
            "text/plain": [
              "0        0e9af5bbf1edfe591b54ecdfd7e91e26\n",
              "1        a553c46e3a22fb9c326aeb3d72b3334e\n",
              "2        a553c46e3a22fb9c326aeb3d72b3334e\n",
              "3        a553c46e3a22fb9c326aeb3d72b3334e\n",
              "4        56772d544fdfa589a020a1ff894a86f7\n",
              "                       ...               \n",
              "23106    8998bb370b5f0cec43a373adebba0c72\n",
              "23107    5f8a6ffef0ea5df78a8ee890267b60ec\n",
              "23108    c0ffb6f6cd801004dd8609c12277c2d1\n",
              "23109    c0ffb6f6cd801004dd8609c12277c2d1\n",
              "23110    c0ffb6f6cd801004dd8609c12277c2d1\n",
              "Name: user_id, Length: 23111, dtype: object"
            ]
          },
          "metadata": {},
          "execution_count": 31
        }
      ]
    },
    {
      "cell_type": "markdown",
      "metadata": {
        "id": "8UOoAlBf94lO"
      },
      "source": [
        "### Selecionando Múltiplas Colunas\n",
        "\n",
        "Podemos selecionar multiplas colunas com o comando <code>igm[['municipio', 'indice_governanca']]</code>"
      ]
    },
    {
      "cell_type": "code",
      "metadata": {
        "colab": {
          "base_uri": "https://localhost:8080/",
          "height": 204
        },
        "id": "pNoW4wMA90JT",
        "outputId": "f442c4f3-de6a-464b-ad2c-a8fd9094f206"
      },
      "source": [
        "df[['start_at',\t'start_lat',\t'start_lon',\t'end_at']].head()"
      ],
      "execution_count": 33,
      "outputs": [
        {
          "output_type": "execute_result",
          "data": {
            "text/html": [
              "<div>\n",
              "<style scoped>\n",
              "    .dataframe tbody tr th:only-of-type {\n",
              "        vertical-align: middle;\n",
              "    }\n",
              "\n",
              "    .dataframe tbody tr th {\n",
              "        vertical-align: top;\n",
              "    }\n",
              "\n",
              "    .dataframe thead th {\n",
              "        text-align: right;\n",
              "    }\n",
              "</style>\n",
              "<table border=\"1\" class=\"dataframe\">\n",
              "  <thead>\n",
              "    <tr style=\"text-align: right;\">\n",
              "      <th></th>\n",
              "      <th>start_at</th>\n",
              "      <th>start_lat</th>\n",
              "      <th>start_lon</th>\n",
              "      <th>end_at</th>\n",
              "    </tr>\n",
              "  </thead>\n",
              "  <tbody>\n",
              "    <tr>\n",
              "      <th>0</th>\n",
              "      <td>16/11/2010 16:44</td>\n",
              "      <td>-12,13983536</td>\n",
              "      <td>-77,02355957</td>\n",
              "      <td>16/11/2010 17:29</td>\n",
              "    </tr>\n",
              "    <tr>\n",
              "      <th>1</th>\n",
              "      <td>01/06/2010 0:34</td>\n",
              "      <td>-12,13874817</td>\n",
              "      <td>-76,99536133</td>\n",
              "      <td>01/06/2010 0:37</td>\n",
              "    </tr>\n",
              "    <tr>\n",
              "      <th>2</th>\n",
              "      <td>31/05/2010 5:01</td>\n",
              "      <td>-12,12453079</td>\n",
              "      <td>-77,02780151</td>\n",
              "      <td>31/05/2010 5:04</td>\n",
              "    </tr>\n",
              "    <tr>\n",
              "      <th>3</th>\n",
              "      <td>01/06/2010 0:29</td>\n",
              "      <td>-12,13885117</td>\n",
              "      <td>-76,99530029</td>\n",
              "      <td>01/06/2010 0:32</td>\n",
              "    </tr>\n",
              "    <tr>\n",
              "      <th>4</th>\n",
              "      <td>11/09/2010 23:55</td>\n",
              "      <td>-12,08995438</td>\n",
              "      <td>-76,92626953</td>\n",
              "      <td>12/09/2010 1:07</td>\n",
              "    </tr>\n",
              "  </tbody>\n",
              "</table>\n",
              "</div>"
            ],
            "text/plain": [
              "           start_at     start_lat     start_lon            end_at\n",
              "0  16/11/2010 16:44  -12,13983536  -77,02355957  16/11/2010 17:29\n",
              "1   01/06/2010 0:34  -12,13874817  -76,99536133   01/06/2010 0:37\n",
              "2   31/05/2010 5:01  -12,12453079  -77,02780151   31/05/2010 5:04\n",
              "3   01/06/2010 0:29  -12,13885117  -76,99530029   01/06/2010 0:32\n",
              "4  11/09/2010 23:55  -12,08995438  -76,92626953   12/09/2010 1:07"
            ]
          },
          "metadata": {},
          "execution_count": 33
        }
      ]
    },
    {
      "cell_type": "markdown",
      "metadata": {
        "id": "4aMOBLJe-RkM"
      },
      "source": [
        "## Exercícios: Seleções Básicas\n",
        "\n",
        "- Selecionar as 10 primeiras linhas mostrando as colunas duration, cost e cost_distance."
      ]
    },
    {
      "cell_type": "code",
      "metadata": {
        "id": "foX2srse-VhZ"
      },
      "source": [
        ""
      ],
      "execution_count": null,
      "outputs": []
    },
    {
      "cell_type": "markdown",
      "metadata": {
        "id": "jbT6g0mm-lpc"
      },
      "source": [
        "- Selecionar das linhas 15 a 24 os valores da coluna duration."
      ]
    },
    {
      "cell_type": "code",
      "metadata": {
        "id": "JlzQk8hR-zCm"
      },
      "source": [
        ""
      ],
      "execution_count": null,
      "outputs": []
    },
    {
      "cell_type": "markdown",
      "metadata": {
        "id": "9HLRujUe-yEa"
      },
      "source": [
        "## Fazendo Operações de Agregamento:\n",
        "\n",
        "- Vamos contar quantos a frequência de dispostivos (iPhone, Android, web, iPad, Wap) que solicitam as viagens. Para isso podemos selecionar a coluna <code>source</code> e aplicar o método <code>value_counts()</code>:"
      ]
    },
    {
      "cell_type": "code",
      "metadata": {
        "colab": {
          "base_uri": "https://localhost:8080/"
        },
        "id": "V7MrVp05-8No",
        "outputId": "e7b8397e-71b3-4e2a-dc64-6ff5bd3eed3f"
      },
      "source": [
        "df['source'].value_counts()"
      ],
      "execution_count": 38,
      "outputs": [
        {
          "output_type": "execute_result",
          "data": {
            "text/plain": [
              "iPhone     9741\n",
              "web        7631\n",
              "Android    4909\n",
              "iPad        571\n",
              "Wap         136\n",
              "Name: source, dtype: int64"
            ]
          },
          "metadata": {},
          "execution_count": 38
        }
      ]
    },
    {
      "cell_type": "markdown",
      "metadata": {
        "id": "YEsiXofO_8Ij"
      },
      "source": [
        "## Plotando Nosso Primeiro Gráfico\n",
        "\n",
        "Para garantir que nossos gráficos vão ser plotados em todas as versões do  <code>Jupyter Notebook</code> precisamos rodar o comando abaixo:"
      ]
    },
    {
      "cell_type": "code",
      "metadata": {
        "id": "aS51MG1C_IzL"
      },
      "source": [
        "%matplotlib inline  "
      ],
      "execution_count": 39,
      "outputs": []
    },
    {
      "cell_type": "markdown",
      "metadata": {
        "id": "O3iHjD1gAF8K"
      },
      "source": [
        "Com bastante facilidade podemos plotar um gráfico com os valores acima, basta colocar <code>.plot.bar()</code> na sequência."
      ]
    },
    {
      "cell_type": "code",
      "metadata": {
        "colab": {
          "base_uri": "https://localhost:8080/",
          "height": 312
        },
        "id": "p3x0p_muADOx",
        "outputId": "8d361165-69bc-4f96-9e3c-870c6de06d46"
      },
      "source": [
        "df['source'].value_counts().plot.bar()"
      ],
      "execution_count": 40,
      "outputs": [
        {
          "output_type": "execute_result",
          "data": {
            "text/plain": [
              "<matplotlib.axes._subplots.AxesSubplot at 0x7f111c42a8d0>"
            ]
          },
          "metadata": {},
          "execution_count": 40
        },
        {
          "output_type": "display_data",
          "data": {
            "image/png": "[encoded data removed]",
            "text/plain": [
              "<Figure size 432x288 with 1 Axes>"
            ]
          },
          "metadata": {
            "needs_background": "light"
          }
        }
      ]
    },
    {
      "cell_type": "markdown",
      "metadata": {
        "id": "KJln9UE7BLB4"
      },
      "source": [
        "## Operações de Agregamento Numéricas\n",
        "\n",
        "Vamos criar uma variável chamada <code>aux_col</code> para guarda a nossa Series relativa a coluna <code>price_distance</code>.\n"
      ]
    },
    {
      "cell_type": "code",
      "metadata": {
        "id": "z92qurBHAMru"
      },
      "source": [
        "aux_col = df['price_distance']\t"
      ],
      "execution_count": 54,
      "outputs": []
    },
    {
      "cell_type": "markdown",
      "metadata": {
        "id": "cge9ISvgCbP_"
      },
      "source": [
        "Vamos contar a quantidade de elementos em <code>price_distance</code>"
      ]
    },
    {
      "cell_type": "code",
      "metadata": {
        "colab": {
          "base_uri": "https://localhost:8080/"
        },
        "id": "SAUxZqYQDcsR",
        "outputId": "cafb0059-122b-44ed-cb37-9c0eeee1d302"
      },
      "source": [
        "aux_col"
      ],
      "execution_count": 55,
      "outputs": [
        {
          "output_type": "execute_result",
          "data": {
            "text/plain": [
              "0        3626.0\n",
              "1           NaN\n",
              "2           NaN\n",
              "3           NaN\n",
              "4        7665.0\n",
              "          ...  \n",
              "23106     509.0\n",
              "23107    1923.0\n",
              "23108    1478.0\n",
              "23109    4427.0\n",
              "23110       NaN\n",
              "Name: price_distance, Length: 23111, dtype: float64"
            ]
          },
          "metadata": {},
          "execution_count": 55
        }
      ]
    },
    {
      "cell_type": "code",
      "metadata": {
        "colab": {
          "base_uri": "https://localhost:8080/"
        },
        "id": "aGUgqPmICp8W",
        "outputId": "6d23f81f-9d2b-4127-fd68-f68521757011"
      },
      "source": [
        "aux_col.count()"
      ],
      "execution_count": 56,
      "outputs": [
        {
          "output_type": "execute_result",
          "data": {
            "text/plain": [
              "19941"
            ]
          },
          "metadata": {},
          "execution_count": 56
        }
      ]
    },
    {
      "cell_type": "markdown",
      "metadata": {
        "id": "hjWSeCilCx5l"
      },
      "source": [
        "Note que o <code>.count()</code> não contabiliza valores em branco, se quisermos ver os valores em branco temos que usar o atributo <code>.size</code>, que não tem paranteses."
      ]
    },
    {
      "cell_type": "code",
      "metadata": {
        "colab": {
          "base_uri": "https://localhost:8080/"
        },
        "id": "Eh4zquJyC63V",
        "outputId": "b071c9e5-dde3-4d6b-a631-edf03b0dc749"
      },
      "source": [
        "aux_col.size"
      ],
      "execution_count": 57,
      "outputs": [
        {
          "output_type": "execute_result",
          "data": {
            "text/plain": [
              "23111"
            ]
          },
          "metadata": {},
          "execution_count": 57
        }
      ]
    },
    {
      "cell_type": "markdown",
      "metadata": {
        "id": "svF3DCgSCEho"
      },
      "source": [
        "\n",
        "\n",
        "Uma análise importante para iniciar qualquer análise de dados é a verificação de valores nulos na base de dados. Para verificarmos quais são os valores nulos podemos usar o <code>.isnull()</code>, que nos retornar uma Series com valores <code>True</code> ou <code>False</code>."
      ]
    },
    {
      "cell_type": "code",
      "metadata": {
        "colab": {
          "base_uri": "https://localhost:8080/"
        },
        "id": "_tBhiZyRCFdU",
        "outputId": "bc6debc5-17b6-45d4-c586-278b49d05737"
      },
      "source": [
        "aux_col.isnull()"
      ],
      "execution_count": 58,
      "outputs": [
        {
          "output_type": "execute_result",
          "data": {
            "text/plain": [
              "0        False\n",
              "1         True\n",
              "2         True\n",
              "3         True\n",
              "4        False\n",
              "         ...  \n",
              "23106    False\n",
              "23107    False\n",
              "23108    False\n",
              "23109    False\n",
              "23110     True\n",
              "Name: price_distance, Length: 23111, dtype: bool"
            ]
          },
          "metadata": {},
          "execution_count": 58
        }
      ]
    },
    {
      "cell_type": "markdown",
      "metadata": {
        "id": "9JnUAGWcDmlI"
      },
      "source": [
        "Uma forma de melhor utilizarmos essa informação é contabilizando o total de valores em branco, note que <code>True</code> tem valor <code>1</code> e <code>False</code> tem valor <code>0</code>, portanto se somarmos todos os elementos, teremos o total de valores em branco."
      ]
    },
    {
      "cell_type": "code",
      "metadata": {
        "colab": {
          "base_uri": "https://localhost:8080/"
        },
        "id": "Fo8Li9N3Dg7u",
        "outputId": "4e1b6039-793b-4c22-9820-c50f7c125db6"
      },
      "source": [
        "aux_col.isnull().sum()"
      ],
      "execution_count": 59,
      "outputs": [
        {
          "output_type": "execute_result",
          "data": {
            "text/plain": [
              "3170"
            ]
          },
          "metadata": {},
          "execution_count": 59
        }
      ]
    },
    {
      "cell_type": "markdown",
      "metadata": {
        "id": "qNsQF0zND2LI"
      },
      "source": [
        "Podemos remover esses valores em branco com um simples comando, o <code>dropna()</code>."
      ]
    },
    {
      "cell_type": "code",
      "metadata": {
        "colab": {
          "base_uri": "https://localhost:8080/"
        },
        "id": "ZSWHc2ldDx08",
        "outputId": "d431b878-266d-44fc-ec54-f19ef8b1f550"
      },
      "source": [
        "aux_col.dropna()"
      ],
      "execution_count": 60,
      "outputs": [
        {
          "output_type": "execute_result",
          "data": {
            "text/plain": [
              "0        3626.0\n",
              "4        7665.0\n",
              "5        7393.0\n",
              "6        7112.0\n",
              "7        5519.0\n",
              "          ...  \n",
              "23105    2195.0\n",
              "23106     509.0\n",
              "23107    1923.0\n",
              "23108    1478.0\n",
              "23109    4427.0\n",
              "Name: price_distance, Length: 19941, dtype: float64"
            ]
          },
          "metadata": {},
          "execution_count": 60
        }
      ]
    },
    {
      "cell_type": "markdown",
      "metadata": {
        "id": "5R21011SEDw2"
      },
      "source": [
        "Ele retornou os valores, e podemos ver que não tem nenhum valor em branco, mas vamos verificar de fato para ver se mudamos os nossos valores:"
      ]
    },
    {
      "cell_type": "code",
      "metadata": {
        "colab": {
          "base_uri": "https://localhost:8080/"
        },
        "id": "m50n5uydD8Lu",
        "outputId": "c3dd8f63-de27-4cb0-84b4-beae55644753"
      },
      "source": [
        "aux_col.isnull().sum()"
      ],
      "execution_count": 61,
      "outputs": [
        {
          "output_type": "execute_result",
          "data": {
            "text/plain": [
              "3170"
            ]
          },
          "metadata": {},
          "execution_count": 61
        }
      ]
    },
    {
      "cell_type": "markdown",
      "metadata": {
        "id": "7_XXf31zEIvL"
      },
      "source": [
        "Não mudou, por que isso aconteceu? Uma série de funções no pandas não alteram o objeto em questão, porque muitas vezes estamos fazendo transformações temporárias para gerar uma visualização ou análise, para mudar o objeto temos que passar um parâmetro a mais que é o <code>inplace=True</code>."
      ]
    },
    {
      "cell_type": "code",
      "metadata": {
        "id": "998mcoPxEGk9"
      },
      "source": [
        "aux_col.dropna(inplace=True)"
      ],
      "execution_count": 62,
      "outputs": []
    },
    {
      "cell_type": "markdown",
      "metadata": {
        "id": "ReMJoGkuERIT"
      },
      "source": [
        "Vamos verificar novamente se temos valores em branco no nosso conjunto de dados:"
      ]
    },
    {
      "cell_type": "code",
      "metadata": {
        "colab": {
          "base_uri": "https://localhost:8080/"
        },
        "id": "pOwwtWVNEPNM",
        "outputId": "89415194-b001-4dff-dae0-109e306c27c9"
      },
      "source": [
        "aux_col.isnull().sum()"
      ],
      "execution_count": 63,
      "outputs": [
        {
          "output_type": "execute_result",
          "data": {
            "text/plain": [
              "0"
            ]
          },
          "metadata": {},
          "execution_count": 63
        }
      ]
    },
    {
      "cell_type": "markdown",
      "metadata": {
        "id": "UGseXZymEySP"
      },
      "source": [
        "- Selecionando o valor **mínimo** da caluna <code>price_distance</code>."
      ]
    },
    {
      "cell_type": "code",
      "metadata": {
        "colab": {
          "base_uri": "https://localhost:8080/"
        },
        "id": "V2umP3kDEynm",
        "outputId": "49fcbfe5-bab1-4019-8e26-a217ce131e1c"
      },
      "source": [
        "aux_col.min()"
      ],
      "execution_count": 64,
      "outputs": [
        {
          "output_type": "execute_result",
          "data": {
            "text/plain": [
              "0.0"
            ]
          },
          "metadata": {},
          "execution_count": 64
        }
      ]
    },
    {
      "cell_type": "markdown",
      "metadata": {
        "id": "ho_lvdZSEyw9"
      },
      "source": [
        "- Selecionando o valor **máximo** da caluna <code>price_distance</code>."
      ]
    },
    {
      "cell_type": "code",
      "metadata": {
        "colab": {
          "base_uri": "https://localhost:8080/"
        },
        "id": "BhkhQGO8Ey6h",
        "outputId": "81f9cc0f-c18d-4042-86d9-a5f8c4cc5905"
      },
      "source": [
        "aux_col.max()"
      ],
      "execution_count": 65,
      "outputs": [
        {
          "output_type": "execute_result",
          "data": {
            "text/plain": [
              "4491910.0"
            ]
          },
          "metadata": {},
          "execution_count": 65
        }
      ]
    },
    {
      "cell_type": "markdown",
      "metadata": {
        "id": "x2Av9PW6EzDx"
      },
      "source": [
        "- Verificando a **média** dos valores da coluna <code>price_distance</code>."
      ]
    },
    {
      "cell_type": "code",
      "metadata": {
        "colab": {
          "base_uri": "https://localhost:8080/"
        },
        "id": "grra1xfsET1E",
        "outputId": "7ec61a2f-8e82-45be-9174-3c185f21ea79"
      },
      "source": [
        "aux_col.mean()"
      ],
      "execution_count": 68,
      "outputs": [
        {
          "output_type": "execute_result",
          "data": {
            "text/plain": [
              "3404.7475051401634"
            ]
          },
          "metadata": {},
          "execution_count": 68
        }
      ]
    },
    {
      "cell_type": "markdown",
      "metadata": {
        "id": "pUv_PGu0Fce3"
      },
      "source": [
        "- Verificando o **desvio padrão** dos valores da coluna <code>price_distance</code>."
      ]
    },
    {
      "cell_type": "code",
      "metadata": {
        "colab": {
          "base_uri": "https://localhost:8080/"
        },
        "id": "BeB3Bk6dFXol",
        "outputId": "dbc029c0-f1d9-4255-9162-1d747a38affd"
      },
      "source": [
        "aux_col.std()"
      ],
      "execution_count": 69,
      "outputs": [
        {
          "output_type": "execute_result",
          "data": {
            "text/plain": [
              "48510.10497589054"
            ]
          },
          "metadata": {},
          "execution_count": 69
        }
      ]
    },
    {
      "cell_type": "markdown",
      "metadata": {
        "id": "loZWWIVYFlEN"
      },
      "source": [
        "## Tendo uma visão geral da base de dados\n",
        "\n",
        "Um comando muito útil para avaliar um Dataframe é o <code>.describe()</code>, que irá calcular os quartis, valores máximo, mínimo, a média e o desvio padrão. Por padrão esse método é aplcado somente para valores numéricos."
      ]
    },
    {
      "cell_type": "code",
      "metadata": {
        "colab": {
          "base_uri": "https://localhost:8080/",
          "height": 296
        },
        "id": "NJ5Mxw2XFhRa",
        "outputId": "e3f69a6b-09c3-4d37-f573-0940a3447a70"
      },
      "source": [
        "df.describe()"
      ],
      "execution_count": 70,
      "outputs": [
        {
          "output_type": "execute_result",
          "data": {
            "text/html": [
              "<div>\n",
              "<style scoped>\n",
              "    .dataframe tbody tr th:only-of-type {\n",
              "        vertical-align: middle;\n",
              "    }\n",
              "\n",
              "    .dataframe tbody tr th {\n",
              "        vertical-align: top;\n",
              "    }\n",
              "\n",
              "    .dataframe thead th {\n",
              "        text-align: right;\n",
              "    }\n",
              "</style>\n",
              "<table border=\"1\" class=\"dataframe\">\n",
              "  <thead>\n",
              "    <tr style=\"text-align: right;\">\n",
              "      <th></th>\n",
              "      <th>price</th>\n",
              "      <th>price_distance</th>\n",
              "      <th>price_duration</th>\n",
              "      <th>distance</th>\n",
              "      <th>duration</th>\n",
              "      <th>cost</th>\n",
              "      <th>cost_distance</th>\n",
              "      <th>cost_duration</th>\n",
              "      <th>driver_score</th>\n",
              "      <th>rider_score</th>\n",
              "    </tr>\n",
              "  </thead>\n",
              "  <tbody>\n",
              "    <tr>\n",
              "      <th>count</th>\n",
              "      <td>22713.000000</td>\n",
              "      <td>1.994100e+04</td>\n",
              "      <td>19941.000000</td>\n",
              "      <td>2.284800e+04</td>\n",
              "      <td>22848.000000</td>\n",
              "      <td>21760.000000</td>\n",
              "      <td>1.803800e+04</td>\n",
              "      <td>18038.000000</td>\n",
              "      <td>7650.000000</td>\n",
              "      <td>15390.000000</td>\n",
              "    </tr>\n",
              "    <tr>\n",
              "      <th>mean</th>\n",
              "      <td>2752.738784</td>\n",
              "      <td>3.404748e+03</td>\n",
              "      <td>606.005617</td>\n",
              "      <td>1.088395e+04</td>\n",
              "      <td>638.831145</td>\n",
              "      <td>2655.032445</td>\n",
              "      <td>2.099408e+03</td>\n",
              "      <td>401.550504</td>\n",
              "      <td>3.933333</td>\n",
              "      <td>4.755491</td>\n",
              "    </tr>\n",
              "    <tr>\n",
              "      <th>std</th>\n",
              "      <td>3025.390309</td>\n",
              "      <td>4.851010e+04</td>\n",
              "      <td>1553.548938</td>\n",
              "      <td>2.025735e+05</td>\n",
              "      <td>1788.661444</td>\n",
              "      <td>17124.801935</td>\n",
              "      <td>3.300314e+04</td>\n",
              "      <td>1148.614398</td>\n",
              "      <td>1.744948</td>\n",
              "      <td>0.840558</td>\n",
              "    </tr>\n",
              "    <tr>\n",
              "      <th>min</th>\n",
              "      <td>0.000000</td>\n",
              "      <td>0.000000e+00</td>\n",
              "      <td>0.000000</td>\n",
              "      <td>0.000000e+00</td>\n",
              "      <td>0.000000</td>\n",
              "      <td>0.000000</td>\n",
              "      <td>0.000000e+00</td>\n",
              "      <td>0.000000</td>\n",
              "      <td>0.000000</td>\n",
              "      <td>0.000000</td>\n",
              "    </tr>\n",
              "    <tr>\n",
              "      <th>25%</th>\n",
              "      <td>1700.000000</td>\n",
              "      <td>8.270000e+02</td>\n",
              "      <td>30.000000</td>\n",
              "      <td>0.000000e+00</td>\n",
              "      <td>0.000000</td>\n",
              "      <td>0.000000</td>\n",
              "      <td>0.000000e+00</td>\n",
              "      <td>0.000000</td>\n",
              "      <td>4.000000</td>\n",
              "      <td>5.000000</td>\n",
              "    </tr>\n",
              "    <tr>\n",
              "      <th>50%</th>\n",
              "      <td>1911.000000</td>\n",
              "      <td>1.754000e+03</td>\n",
              "      <td>247.000000</td>\n",
              "      <td>4.660000e+03</td>\n",
              "      <td>218.000000</td>\n",
              "      <td>1450.000000</td>\n",
              "      <td>1.048000e+03</td>\n",
              "      <td>127.000000</td>\n",
              "      <td>5.000000</td>\n",
              "      <td>5.000000</td>\n",
              "    </tr>\n",
              "    <tr>\n",
              "      <th>75%</th>\n",
              "      <td>3597.000000</td>\n",
              "      <td>3.256000e+03</td>\n",
              "      <td>628.000000</td>\n",
              "      <td>9.290250e+03</td>\n",
              "      <td>667.000000</td>\n",
              "      <td>2381.250000</td>\n",
              "      <td>2.230000e+03</td>\n",
              "      <td>414.000000</td>\n",
              "      <td>5.000000</td>\n",
              "      <td>5.000000</td>\n",
              "    </tr>\n",
              "    <tr>\n",
              "      <th>max</th>\n",
              "      <td>55974.000000</td>\n",
              "      <td>4.491910e+06</td>\n",
              "      <td>69839.000000</td>\n",
              "      <td>1.403722e+07</td>\n",
              "      <td>83807.000000</td>\n",
              "      <td>525000.000000</td>\n",
              "      <td>3.368792e+06</td>\n",
              "      <td>48887.000000</td>\n",
              "      <td>5.000000</td>\n",
              "      <td>5.000000</td>\n",
              "    </tr>\n",
              "  </tbody>\n",
              "</table>\n",
              "</div>"
            ],
            "text/plain": [
              "              price  price_distance  ...  driver_score   rider_score\n",
              "count  22713.000000    1.994100e+04  ...   7650.000000  15390.000000\n",
              "mean    2752.738784    3.404748e+03  ...      3.933333      4.755491\n",
              "std     3025.390309    4.851010e+04  ...      1.744948      0.840558\n",
              "min        0.000000    0.000000e+00  ...      0.000000      0.000000\n",
              "25%     1700.000000    8.270000e+02  ...      4.000000      5.000000\n",
              "50%     1911.000000    1.754000e+03  ...      5.000000      5.000000\n",
              "75%     3597.000000    3.256000e+03  ...      5.000000      5.000000\n",
              "max    55974.000000    4.491910e+06  ...      5.000000      5.000000\n",
              "\n",
              "[8 rows x 10 columns]"
            ]
          },
          "metadata": {},
          "execution_count": 70
        }
      ]
    },
    {
      "cell_type": "markdown",
      "metadata": {
        "id": "hBXWkjebGgl6"
      },
      "source": [
        "## Fazendo Filtros\n",
        "\n",
        "Tem alguns jeitos de selecionar subconjuntos, podemos escolher todas as cidades que pertençam a região nordeste utilizando o comando abaixo:"
      ]
    },
    {
      "cell_type": "markdown",
      "metadata": {
        "id": "zD78uFGzG4rL"
      },
      "source": [
        " ### Indexação booleana"
      ]
    },
    {
      "cell_type": "markdown",
      "metadata": {
        "id": "uwpyDgfXJcvA"
      },
      "source": [
        "- Vamos selecionar todos os registros da base de dados que sigam os seguintes critérios:\n",
        "  - <code>end_state = 'rider cancel'</code> "
      ]
    },
    {
      "cell_type": "code",
      "metadata": {
        "colab": {
          "base_uri": "https://localhost:8080/",
          "height": 308
        },
        "id": "cGT6YOqoJb1w",
        "outputId": "998dec6f-f27b-476b-e2bd-b71058a74f3d"
      },
      "source": [
        "df[df['end_state']=='rider cancel'].head()"
      ],
      "execution_count": 77,
      "outputs": [
        {
          "output_type": "execute_result",
          "data": {
            "text/html": [
              "<div>\n",
              "<style scoped>\n",
              "    .dataframe tbody tr th:only-of-type {\n",
              "        vertical-align: middle;\n",
              "    }\n",
              "\n",
              "    .dataframe tbody tr th {\n",
              "        vertical-align: top;\n",
              "    }\n",
              "\n",
              "    .dataframe thead th {\n",
              "        text-align: right;\n",
              "    }\n",
              "</style>\n",
              "<table border=\"1\" class=\"dataframe\">\n",
              "  <thead>\n",
              "    <tr style=\"text-align: right;\">\n",
              "      <th></th>\n",
              "      <th>journey_id</th>\n",
              "      <th>user_id</th>\n",
              "      <th>driver_id</th>\n",
              "      <th>taxi_id</th>\n",
              "      <th>icon</th>\n",
              "      <th>start_type</th>\n",
              "      <th>start_at</th>\n",
              "      <th>start_lat</th>\n",
              "      <th>start_lon</th>\n",
              "      <th>end_at</th>\n",
              "      <th>end_lat</th>\n",
              "      <th>end_lon</th>\n",
              "      <th>end_state</th>\n",
              "      <th>driver_start_lat</th>\n",
              "      <th>driver_start_lon</th>\n",
              "      <th>arrived_at</th>\n",
              "      <th>currency</th>\n",
              "      <th>price</th>\n",
              "      <th>price_distance</th>\n",
              "      <th>price_duration</th>\n",
              "      <th>distance</th>\n",
              "      <th>duration</th>\n",
              "      <th>cost</th>\n",
              "      <th>cost_distance</th>\n",
              "      <th>cost_duration</th>\n",
              "      <th>source</th>\n",
              "      <th>driver_score</th>\n",
              "      <th>rider_score</th>\n",
              "    </tr>\n",
              "  </thead>\n",
              "  <tbody>\n",
              "    <tr>\n",
              "      <th>18</th>\n",
              "      <td>16ba39d30594f6050cb8ab702fc41e02</td>\n",
              "      <td>1d6bbc303a2c6584d56322b8cef26f65</td>\n",
              "      <td>NaN</td>\n",
              "      <td>NaN</td>\n",
              "      <td>executive</td>\n",
              "      <td>reserved</td>\n",
              "      <td>07/12/2010 3:00</td>\n",
              "      <td>-12,0860989</td>\n",
              "      <td>-76,9014698</td>\n",
              "      <td>06/12/2010 21:59</td>\n",
              "      <td>-12,0702332</td>\n",
              "      <td>-76,9537277</td>\n",
              "      <td>rider cancel</td>\n",
              "      <td>NaN</td>\n",
              "      <td>NaN</td>\n",
              "      <td>NaN</td>\n",
              "      <td>PEN</td>\n",
              "      <td>0.0</td>\n",
              "      <td>NaN</td>\n",
              "      <td>NaN</td>\n",
              "      <td>0.0</td>\n",
              "      <td>0.0</td>\n",
              "      <td>0.0</td>\n",
              "      <td>NaN</td>\n",
              "      <td>NaN</td>\n",
              "      <td>web</td>\n",
              "      <td>NaN</td>\n",
              "      <td>NaN</td>\n",
              "    </tr>\n",
              "    <tr>\n",
              "      <th>24</th>\n",
              "      <td>ec84a73745199ff840ecafcb928250fd</td>\n",
              "      <td>410389a59b3c36fa86e76bce43d9a336</td>\n",
              "      <td>NaN</td>\n",
              "      <td>NaN</td>\n",
              "      <td>executive</td>\n",
              "      <td>reserved</td>\n",
              "      <td>13/05/2010 20:00</td>\n",
              "      <td>-12,1312973</td>\n",
              "      <td>-76,9824845</td>\n",
              "      <td>13/05/2010 18:27</td>\n",
              "      <td>-12,1254832</td>\n",
              "      <td>-77,0293897</td>\n",
              "      <td>rider cancel</td>\n",
              "      <td>NaN</td>\n",
              "      <td>NaN</td>\n",
              "      <td>NaN</td>\n",
              "      <td>PEN</td>\n",
              "      <td>0.0</td>\n",
              "      <td>NaN</td>\n",
              "      <td>NaN</td>\n",
              "      <td>0.0</td>\n",
              "      <td>0.0</td>\n",
              "      <td>0.0</td>\n",
              "      <td>NaN</td>\n",
              "      <td>NaN</td>\n",
              "      <td>web</td>\n",
              "      <td>NaN</td>\n",
              "      <td>NaN</td>\n",
              "    </tr>\n",
              "    <tr>\n",
              "      <th>27</th>\n",
              "      <td>58af3d0a68980e98b9cc7d5383ef78a6</td>\n",
              "      <td>410389a59b3c36fa86e76bce43d9a336</td>\n",
              "      <td>d04f1a596fe4a582f48e6eb2f9e8f617</td>\n",
              "      <td>d04f1a596fe4a582f48e6eb2f9e8cceb</td>\n",
              "      <td>executive</td>\n",
              "      <td>asap</td>\n",
              "      <td>25/02/2010 16:39</td>\n",
              "      <td>-12,0197627</td>\n",
              "      <td>-76,9666032</td>\n",
              "      <td>25/02/2010 16:40</td>\n",
              "      <td>-12,1263555</td>\n",
              "      <td>-77,0172647</td>\n",
              "      <td>rider cancel</td>\n",
              "      <td>-12,09786675</td>\n",
              "      <td>-76,97267827</td>\n",
              "      <td>NaN</td>\n",
              "      <td>PEN</td>\n",
              "      <td>0.0</td>\n",
              "      <td>NaN</td>\n",
              "      <td>NaN</td>\n",
              "      <td>0.0</td>\n",
              "      <td>0.0</td>\n",
              "      <td>0.0</td>\n",
              "      <td>NaN</td>\n",
              "      <td>NaN</td>\n",
              "      <td>web</td>\n",
              "      <td>NaN</td>\n",
              "      <td>NaN</td>\n",
              "    </tr>\n",
              "    <tr>\n",
              "      <th>29</th>\n",
              "      <td>1881c928349fa432c4c0cb4434807dec</td>\n",
              "      <td>e7502b492346e09de17e1542782c1af1</td>\n",
              "      <td>NaN</td>\n",
              "      <td>NaN</td>\n",
              "      <td>executive</td>\n",
              "      <td>reserved</td>\n",
              "      <td>23/10/2010 12:40</td>\n",
              "      <td>-12,10833359</td>\n",
              "      <td>-77,04638672</td>\n",
              "      <td>23/10/2010 11:58</td>\n",
              "      <td>-12,09195328</td>\n",
              "      <td>-77,02441406</td>\n",
              "      <td>rider cancel</td>\n",
              "      <td>NaN</td>\n",
              "      <td>NaN</td>\n",
              "      <td>NaN</td>\n",
              "      <td>PEN</td>\n",
              "      <td>0.0</td>\n",
              "      <td>0.0</td>\n",
              "      <td>0.0</td>\n",
              "      <td>0.0</td>\n",
              "      <td>0.0</td>\n",
              "      <td>0.0</td>\n",
              "      <td>0.0</td>\n",
              "      <td>0.0</td>\n",
              "      <td>iPhone</td>\n",
              "      <td>NaN</td>\n",
              "      <td>NaN</td>\n",
              "    </tr>\n",
              "    <tr>\n",
              "      <th>30</th>\n",
              "      <td>fdd0e7184d1ec5e7cba69b61ee25b39b</td>\n",
              "      <td>e7502b492346e09de17e1542782c1af1</td>\n",
              "      <td>NaN</td>\n",
              "      <td>NaN</td>\n",
              "      <td>executive</td>\n",
              "      <td>reserved</td>\n",
              "      <td>23/10/2010 8:15</td>\n",
              "      <td>-12,10839081</td>\n",
              "      <td>-77,04608154</td>\n",
              "      <td>23/10/2010 1:00</td>\n",
              "      <td>-12,11825943</td>\n",
              "      <td>-77,03460693</td>\n",
              "      <td>rider cancel</td>\n",
              "      <td>NaN</td>\n",
              "      <td>NaN</td>\n",
              "      <td>NaN</td>\n",
              "      <td>PEN</td>\n",
              "      <td>0.0</td>\n",
              "      <td>0.0</td>\n",
              "      <td>0.0</td>\n",
              "      <td>0.0</td>\n",
              "      <td>0.0</td>\n",
              "      <td>0.0</td>\n",
              "      <td>0.0</td>\n",
              "      <td>0.0</td>\n",
              "      <td>iPhone</td>\n",
              "      <td>NaN</td>\n",
              "      <td>NaN</td>\n",
              "    </tr>\n",
              "  </tbody>\n",
              "</table>\n",
              "</div>"
            ],
            "text/plain": [
              "                          journey_id  ... rider_score\n",
              "18  16ba39d30594f6050cb8ab702fc41e02  ...         NaN\n",
              "24  ec84a73745199ff840ecafcb928250fd  ...         NaN\n",
              "27  58af3d0a68980e98b9cc7d5383ef78a6  ...         NaN\n",
              "29  1881c928349fa432c4c0cb4434807dec  ...         NaN\n",
              "30  fdd0e7184d1ec5e7cba69b61ee25b39b  ...         NaN\n",
              "\n",
              "[5 rows x 28 columns]"
            ]
          },
          "metadata": {},
          "execution_count": 77
        }
      ]
    },
    {
      "cell_type": "markdown",
      "metadata": {
        "id": "pKWuOYEhHLQA"
      },
      "source": [
        "- Vamos limitar ainda mais a nossa seleção. Vamos selecionar todos os registros da base de dados que sigam os seguintes critérios:\n",
        "  - <code>end_state = 'rider cancel'</code> \n",
        "  - <code>source = 'Android'</code>"
      ]
    },
    {
      "cell_type": "code",
      "metadata": {
        "colab": {
          "base_uri": "https://localhost:8080/",
          "height": 308
        },
        "id": "dzB_kJnfFwBG",
        "outputId": "6fd1a556-eaae-4579-e5b6-cd9ba7429dd7"
      },
      "source": [
        "df[(df['end_state']=='rider cancel') & (df['source']=='Android')].head()"
      ],
      "execution_count": 75,
      "outputs": [
        {
          "output_type": "execute_result",
          "data": {
            "text/html": [
              "<div>\n",
              "<style scoped>\n",
              "    .dataframe tbody tr th:only-of-type {\n",
              "        vertical-align: middle;\n",
              "    }\n",
              "\n",
              "    .dataframe tbody tr th {\n",
              "        vertical-align: top;\n",
              "    }\n",
              "\n",
              "    .dataframe thead th {\n",
              "        text-align: right;\n",
              "    }\n",
              "</style>\n",
              "<table border=\"1\" class=\"dataframe\">\n",
              "  <thead>\n",
              "    <tr style=\"text-align: right;\">\n",
              "      <th></th>\n",
              "      <th>journey_id</th>\n",
              "      <th>user_id</th>\n",
              "      <th>driver_id</th>\n",
              "      <th>taxi_id</th>\n",
              "      <th>icon</th>\n",
              "      <th>start_type</th>\n",
              "      <th>start_at</th>\n",
              "      <th>start_lat</th>\n",
              "      <th>start_lon</th>\n",
              "      <th>end_at</th>\n",
              "      <th>end_lat</th>\n",
              "      <th>end_lon</th>\n",
              "      <th>end_state</th>\n",
              "      <th>driver_start_lat</th>\n",
              "      <th>driver_start_lon</th>\n",
              "      <th>arrived_at</th>\n",
              "      <th>currency</th>\n",
              "      <th>price</th>\n",
              "      <th>price_distance</th>\n",
              "      <th>price_duration</th>\n",
              "      <th>distance</th>\n",
              "      <th>duration</th>\n",
              "      <th>cost</th>\n",
              "      <th>cost_distance</th>\n",
              "      <th>cost_duration</th>\n",
              "      <th>source</th>\n",
              "      <th>driver_score</th>\n",
              "      <th>rider_score</th>\n",
              "    </tr>\n",
              "  </thead>\n",
              "  <tbody>\n",
              "    <tr>\n",
              "      <th>39</th>\n",
              "      <td>9f8014a35c7ab9439bb0fd3432fbe137</td>\n",
              "      <td>5e4cab5c9040947be5eb74a7b16da86f</td>\n",
              "      <td>62c2e39787aa19cd2513901cf3b4858d</td>\n",
              "      <td>62c2e39787aa19cd2513901cf3b49643</td>\n",
              "      <td>executive</td>\n",
              "      <td>asap</td>\n",
              "      <td>10/11/2010 9:23</td>\n",
              "      <td>-12,12241795</td>\n",
              "      <td>-77,01219711</td>\n",
              "      <td>10/11/2010 9:25</td>\n",
              "      <td>-12,10729808</td>\n",
              "      <td>-77,02302184</td>\n",
              "      <td>rider cancel</td>\n",
              "      <td>-12,08970787</td>\n",
              "      <td>-77,01605652</td>\n",
              "      <td>NaN</td>\n",
              "      <td>PEN</td>\n",
              "      <td>0.0</td>\n",
              "      <td>NaN</td>\n",
              "      <td>NaN</td>\n",
              "      <td>0.0</td>\n",
              "      <td>0.0</td>\n",
              "      <td>0.0</td>\n",
              "      <td>NaN</td>\n",
              "      <td>NaN</td>\n",
              "      <td>Android</td>\n",
              "      <td>NaN</td>\n",
              "      <td>NaN</td>\n",
              "    </tr>\n",
              "    <tr>\n",
              "      <th>44</th>\n",
              "      <td>5ced91860ba5d7fe2859267c8952f747</td>\n",
              "      <td>00cb8ad6a0f7214d002e3ded6b7de012</td>\n",
              "      <td>3d68e1172f35c1fbd06db5a1bc1824a3</td>\n",
              "      <td>3d68e1172f35c1fbd06db5a1bc38c35f</td>\n",
              "      <td>executive</td>\n",
              "      <td>reserved</td>\n",
              "      <td>10/03/2010 5:40</td>\n",
              "      <td>-12,026758</td>\n",
              "      <td>-77,107415</td>\n",
              "      <td>10/03/2010 6:56</td>\n",
              "      <td>-12,082208</td>\n",
              "      <td>-77,089304</td>\n",
              "      <td>rider cancel</td>\n",
              "      <td>-12,02344727</td>\n",
              "      <td>-77,10759362</td>\n",
              "      <td>10/03/2010 5:13</td>\n",
              "      <td>PEN</td>\n",
              "      <td>3726.0</td>\n",
              "      <td>10.0</td>\n",
              "      <td>3716.0</td>\n",
              "      <td>30.0</td>\n",
              "      <td>4459.0</td>\n",
              "      <td>2769.0</td>\n",
              "      <td>0.0</td>\n",
              "      <td>2769.0</td>\n",
              "      <td>Android</td>\n",
              "      <td>NaN</td>\n",
              "      <td>NaN</td>\n",
              "    </tr>\n",
              "    <tr>\n",
              "      <th>45</th>\n",
              "      <td>d2f1475850c213560abdec5deadfb955</td>\n",
              "      <td>00cb8ad6a0f7214d002e3ded6b7de012</td>\n",
              "      <td>d04f1a596fe4a582f48e6eb2f9e8f617</td>\n",
              "      <td>d04f1a596fe4a582f48e6eb2f9e8cceb</td>\n",
              "      <td>executive</td>\n",
              "      <td>asap</td>\n",
              "      <td>12/02/2010 3:25</td>\n",
              "      <td>-12,082282</td>\n",
              "      <td>-77,089432</td>\n",
              "      <td>12/02/2010 3:25</td>\n",
              "      <td>-12,100734</td>\n",
              "      <td>-76,96977</td>\n",
              "      <td>rider cancel</td>\n",
              "      <td>-12,11269436</td>\n",
              "      <td>-77,0515512</td>\n",
              "      <td>NaN</td>\n",
              "      <td>PEN</td>\n",
              "      <td>0.0</td>\n",
              "      <td>NaN</td>\n",
              "      <td>NaN</td>\n",
              "      <td>0.0</td>\n",
              "      <td>0.0</td>\n",
              "      <td>0.0</td>\n",
              "      <td>NaN</td>\n",
              "      <td>NaN</td>\n",
              "      <td>Android</td>\n",
              "      <td>NaN</td>\n",
              "      <td>NaN</td>\n",
              "    </tr>\n",
              "    <tr>\n",
              "      <th>70</th>\n",
              "      <td>c3500f8a4f27db46fc9d42e2057d71ef</td>\n",
              "      <td>2eb2273b6a2d38daeb67ee14a8d4171c</td>\n",
              "      <td>NaN</td>\n",
              "      <td>NaN</td>\n",
              "      <td>executive</td>\n",
              "      <td>asap</td>\n",
              "      <td>21/12/2010 6:14</td>\n",
              "      <td>-12,09612383</td>\n",
              "      <td>-77,04458311</td>\n",
              "      <td>21/12/2010 6:15</td>\n",
              "      <td>-12,09958047</td>\n",
              "      <td>-77,05241751</td>\n",
              "      <td>rider cancel</td>\n",
              "      <td>NaN</td>\n",
              "      <td>NaN</td>\n",
              "      <td>NaN</td>\n",
              "      <td>PEN</td>\n",
              "      <td>0.0</td>\n",
              "      <td>NaN</td>\n",
              "      <td>NaN</td>\n",
              "      <td>0.0</td>\n",
              "      <td>0.0</td>\n",
              "      <td>0.0</td>\n",
              "      <td>NaN</td>\n",
              "      <td>NaN</td>\n",
              "      <td>Android</td>\n",
              "      <td>NaN</td>\n",
              "      <td>NaN</td>\n",
              "    </tr>\n",
              "    <tr>\n",
              "      <th>71</th>\n",
              "      <td>c3500f8a4f27db46fc9d42e205e947f8</td>\n",
              "      <td>2eb2273b6a2d38daeb67ee14a8d4171c</td>\n",
              "      <td>NaN</td>\n",
              "      <td>NaN</td>\n",
              "      <td>executive</td>\n",
              "      <td>asap</td>\n",
              "      <td>21/12/2010 6:09</td>\n",
              "      <td>-12,09620513</td>\n",
              "      <td>-77,04465788</td>\n",
              "      <td>21/12/2010 6:13</td>\n",
              "      <td>-12,10056165</td>\n",
              "      <td>-77,05249026</td>\n",
              "      <td>rider cancel</td>\n",
              "      <td>-12,08346777</td>\n",
              "      <td>-76,97084457</td>\n",
              "      <td>NaN</td>\n",
              "      <td>PEN</td>\n",
              "      <td>0.0</td>\n",
              "      <td>NaN</td>\n",
              "      <td>NaN</td>\n",
              "      <td>0.0</td>\n",
              "      <td>0.0</td>\n",
              "      <td>0.0</td>\n",
              "      <td>NaN</td>\n",
              "      <td>NaN</td>\n",
              "      <td>Android</td>\n",
              "      <td>NaN</td>\n",
              "      <td>NaN</td>\n",
              "    </tr>\n",
              "  </tbody>\n",
              "</table>\n",
              "</div>"
            ],
            "text/plain": [
              "                          journey_id  ... rider_score\n",
              "39  9f8014a35c7ab9439bb0fd3432fbe137  ...         NaN\n",
              "44  5ced91860ba5d7fe2859267c8952f747  ...         NaN\n",
              "45  d2f1475850c213560abdec5deadfb955  ...         NaN\n",
              "70  c3500f8a4f27db46fc9d42e2057d71ef  ...         NaN\n",
              "71  c3500f8a4f27db46fc9d42e205e947f8  ...         NaN\n",
              "\n",
              "[5 rows x 28 columns]"
            ]
          },
          "metadata": {},
          "execution_count": 75
        }
      ]
    },
    {
      "cell_type": "markdown",
      "metadata": {
        "id": "B-gShbXzHIUW"
      },
      "source": [
        " ### Query\n",
        "\n",
        " Também podemos filtrar a base de dados por meio do método <code>.query()</code>\n",
        "\n",
        " Observação: As queries em dataframes se assemelham com o que conhecemos das queries feitas em bancos de dados SQL."
      ]
    },
    {
      "cell_type": "markdown",
      "metadata": {
        "id": "mCyFijLNJvem"
      },
      "source": [
        "- Vamos selecionar todos os registros da base de dados que sigam os seguintes critérios:\n",
        "  - <code>end_state = 'rider cancel'</code> "
      ]
    },
    {
      "cell_type": "code",
      "metadata": {
        "colab": {
          "base_uri": "https://localhost:8080/",
          "height": 607
        },
        "id": "eXqDvIaRJwZa",
        "outputId": "99752fef-0e64-44e1-b8e1-b2e58d950966"
      },
      "source": [
        "df.query('end_state==\"rider cancel\"')"
      ],
      "execution_count": 78,
      "outputs": [
        {
          "output_type": "execute_result",
          "data": {
            "text/html": [
              "<div>\n",
              "<style scoped>\n",
              "    .dataframe tbody tr th:only-of-type {\n",
              "        vertical-align: middle;\n",
              "    }\n",
              "\n",
              "    .dataframe tbody tr th {\n",
              "        vertical-align: top;\n",
              "    }\n",
              "\n",
              "    .dataframe thead th {\n",
              "        text-align: right;\n",
              "    }\n",
              "</style>\n",
              "<table border=\"1\" class=\"dataframe\">\n",
              "  <thead>\n",
              "    <tr style=\"text-align: right;\">\n",
              "      <th></th>\n",
              "      <th>journey_id</th>\n",
              "      <th>user_id</th>\n",
              "      <th>driver_id</th>\n",
              "      <th>taxi_id</th>\n",
              "      <th>icon</th>\n",
              "      <th>start_type</th>\n",
              "      <th>start_at</th>\n",
              "      <th>start_lat</th>\n",
              "      <th>start_lon</th>\n",
              "      <th>end_at</th>\n",
              "      <th>end_lat</th>\n",
              "      <th>end_lon</th>\n",
              "      <th>end_state</th>\n",
              "      <th>driver_start_lat</th>\n",
              "      <th>driver_start_lon</th>\n",
              "      <th>arrived_at</th>\n",
              "      <th>currency</th>\n",
              "      <th>price</th>\n",
              "      <th>price_distance</th>\n",
              "      <th>price_duration</th>\n",
              "      <th>distance</th>\n",
              "      <th>duration</th>\n",
              "      <th>cost</th>\n",
              "      <th>cost_distance</th>\n",
              "      <th>cost_duration</th>\n",
              "      <th>source</th>\n",
              "      <th>driver_score</th>\n",
              "      <th>rider_score</th>\n",
              "    </tr>\n",
              "  </thead>\n",
              "  <tbody>\n",
              "    <tr>\n",
              "      <th>18</th>\n",
              "      <td>16ba39d30594f6050cb8ab702fc41e02</td>\n",
              "      <td>1d6bbc303a2c6584d56322b8cef26f65</td>\n",
              "      <td>NaN</td>\n",
              "      <td>NaN</td>\n",
              "      <td>executive</td>\n",
              "      <td>reserved</td>\n",
              "      <td>07/12/2010 3:00</td>\n",
              "      <td>-12,0860989</td>\n",
              "      <td>-76,9014698</td>\n",
              "      <td>06/12/2010 21:59</td>\n",
              "      <td>-12,0702332</td>\n",
              "      <td>-76,9537277</td>\n",
              "      <td>rider cancel</td>\n",
              "      <td>NaN</td>\n",
              "      <td>NaN</td>\n",
              "      <td>NaN</td>\n",
              "      <td>PEN</td>\n",
              "      <td>0.0</td>\n",
              "      <td>NaN</td>\n",
              "      <td>NaN</td>\n",
              "      <td>0.0</td>\n",
              "      <td>0.0</td>\n",
              "      <td>0.0</td>\n",
              "      <td>NaN</td>\n",
              "      <td>NaN</td>\n",
              "      <td>web</td>\n",
              "      <td>NaN</td>\n",
              "      <td>NaN</td>\n",
              "    </tr>\n",
              "    <tr>\n",
              "      <th>24</th>\n",
              "      <td>ec84a73745199ff840ecafcb928250fd</td>\n",
              "      <td>410389a59b3c36fa86e76bce43d9a336</td>\n",
              "      <td>NaN</td>\n",
              "      <td>NaN</td>\n",
              "      <td>executive</td>\n",
              "      <td>reserved</td>\n",
              "      <td>13/05/2010 20:00</td>\n",
              "      <td>-12,1312973</td>\n",
              "      <td>-76,9824845</td>\n",
              "      <td>13/05/2010 18:27</td>\n",
              "      <td>-12,1254832</td>\n",
              "      <td>-77,0293897</td>\n",
              "      <td>rider cancel</td>\n",
              "      <td>NaN</td>\n",
              "      <td>NaN</td>\n",
              "      <td>NaN</td>\n",
              "      <td>PEN</td>\n",
              "      <td>0.0</td>\n",
              "      <td>NaN</td>\n",
              "      <td>NaN</td>\n",
              "      <td>0.0</td>\n",
              "      <td>0.0</td>\n",
              "      <td>0.0</td>\n",
              "      <td>NaN</td>\n",
              "      <td>NaN</td>\n",
              "      <td>web</td>\n",
              "      <td>NaN</td>\n",
              "      <td>NaN</td>\n",
              "    </tr>\n",
              "    <tr>\n",
              "      <th>27</th>\n",
              "      <td>58af3d0a68980e98b9cc7d5383ef78a6</td>\n",
              "      <td>410389a59b3c36fa86e76bce43d9a336</td>\n",
              "      <td>d04f1a596fe4a582f48e6eb2f9e8f617</td>\n",
              "      <td>d04f1a596fe4a582f48e6eb2f9e8cceb</td>\n",
              "      <td>executive</td>\n",
              "      <td>asap</td>\n",
              "      <td>25/02/2010 16:39</td>\n",
              "      <td>-12,0197627</td>\n",
              "      <td>-76,9666032</td>\n",
              "      <td>25/02/2010 16:40</td>\n",
              "      <td>-12,1263555</td>\n",
              "      <td>-77,0172647</td>\n",
              "      <td>rider cancel</td>\n",
              "      <td>-12,09786675</td>\n",
              "      <td>-76,97267827</td>\n",
              "      <td>NaN</td>\n",
              "      <td>PEN</td>\n",
              "      <td>0.0</td>\n",
              "      <td>NaN</td>\n",
              "      <td>NaN</td>\n",
              "      <td>0.0</td>\n",
              "      <td>0.0</td>\n",
              "      <td>0.0</td>\n",
              "      <td>NaN</td>\n",
              "      <td>NaN</td>\n",
              "      <td>web</td>\n",
              "      <td>NaN</td>\n",
              "      <td>NaN</td>\n",
              "    </tr>\n",
              "    <tr>\n",
              "      <th>29</th>\n",
              "      <td>1881c928349fa432c4c0cb4434807dec</td>\n",
              "      <td>e7502b492346e09de17e1542782c1af1</td>\n",
              "      <td>NaN</td>\n",
              "      <td>NaN</td>\n",
              "      <td>executive</td>\n",
              "      <td>reserved</td>\n",
              "      <td>23/10/2010 12:40</td>\n",
              "      <td>-12,10833359</td>\n",
              "      <td>-77,04638672</td>\n",
              "      <td>23/10/2010 11:58</td>\n",
              "      <td>-12,09195328</td>\n",
              "      <td>-77,02441406</td>\n",
              "      <td>rider cancel</td>\n",
              "      <td>NaN</td>\n",
              "      <td>NaN</td>\n",
              "      <td>NaN</td>\n",
              "      <td>PEN</td>\n",
              "      <td>0.0</td>\n",
              "      <td>0.0</td>\n",
              "      <td>0.0</td>\n",
              "      <td>0.0</td>\n",
              "      <td>0.0</td>\n",
              "      <td>0.0</td>\n",
              "      <td>0.0</td>\n",
              "      <td>0.0</td>\n",
              "      <td>iPhone</td>\n",
              "      <td>NaN</td>\n",
              "      <td>NaN</td>\n",
              "    </tr>\n",
              "    <tr>\n",
              "      <th>30</th>\n",
              "      <td>fdd0e7184d1ec5e7cba69b61ee25b39b</td>\n",
              "      <td>e7502b492346e09de17e1542782c1af1</td>\n",
              "      <td>NaN</td>\n",
              "      <td>NaN</td>\n",
              "      <td>executive</td>\n",
              "      <td>reserved</td>\n",
              "      <td>23/10/2010 8:15</td>\n",
              "      <td>-12,10839081</td>\n",
              "      <td>-77,04608154</td>\n",
              "      <td>23/10/2010 1:00</td>\n",
              "      <td>-12,11825943</td>\n",
              "      <td>-77,03460693</td>\n",
              "      <td>rider cancel</td>\n",
              "      <td>NaN</td>\n",
              "      <td>NaN</td>\n",
              "      <td>NaN</td>\n",
              "      <td>PEN</td>\n",
              "      <td>0.0</td>\n",
              "      <td>0.0</td>\n",
              "      <td>0.0</td>\n",
              "      <td>0.0</td>\n",
              "      <td>0.0</td>\n",
              "      <td>0.0</td>\n",
              "      <td>0.0</td>\n",
              "      <td>0.0</td>\n",
              "      <td>iPhone</td>\n",
              "      <td>NaN</td>\n",
              "      <td>NaN</td>\n",
              "    </tr>\n",
              "    <tr>\n",
              "      <th>...</th>\n",
              "      <td>...</td>\n",
              "      <td>...</td>\n",
              "      <td>...</td>\n",
              "      <td>...</td>\n",
              "      <td>...</td>\n",
              "      <td>...</td>\n",
              "      <td>...</td>\n",
              "      <td>...</td>\n",
              "      <td>...</td>\n",
              "      <td>...</td>\n",
              "      <td>...</td>\n",
              "      <td>...</td>\n",
              "      <td>...</td>\n",
              "      <td>...</td>\n",
              "      <td>...</td>\n",
              "      <td>...</td>\n",
              "      <td>...</td>\n",
              "      <td>...</td>\n",
              "      <td>...</td>\n",
              "      <td>...</td>\n",
              "      <td>...</td>\n",
              "      <td>...</td>\n",
              "      <td>...</td>\n",
              "      <td>...</td>\n",
              "      <td>...</td>\n",
              "      <td>...</td>\n",
              "      <td>...</td>\n",
              "      <td>...</td>\n",
              "    </tr>\n",
              "    <tr>\n",
              "      <th>23082</th>\n",
              "      <td>686420c41c76510ac8b9126d2c8f5710</td>\n",
              "      <td>c32c353f4a9bc8ae2e079e6bb7207335</td>\n",
              "      <td>ff5c924e0b630fd7c019a4234059fdf4</td>\n",
              "      <td>16cbe35db7fff70fbc8251b4cdaa06cb</td>\n",
              "      <td>executive</td>\n",
              "      <td>asap</td>\n",
              "      <td>27/11/2010 14:20</td>\n",
              "      <td>-12,1177468</td>\n",
              "      <td>-77,0319784</td>\n",
              "      <td>27/11/2010 14:21</td>\n",
              "      <td>-12,1416667</td>\n",
              "      <td>-77,0166667</td>\n",
              "      <td>rider cancel</td>\n",
              "      <td>-12,10802517</td>\n",
              "      <td>-77,02438932</td>\n",
              "      <td>NaN</td>\n",
              "      <td>PEN</td>\n",
              "      <td>0.0</td>\n",
              "      <td>NaN</td>\n",
              "      <td>NaN</td>\n",
              "      <td>0.0</td>\n",
              "      <td>0.0</td>\n",
              "      <td>0.0</td>\n",
              "      <td>NaN</td>\n",
              "      <td>NaN</td>\n",
              "      <td>web</td>\n",
              "      <td>NaN</td>\n",
              "      <td>NaN</td>\n",
              "    </tr>\n",
              "    <tr>\n",
              "      <th>23085</th>\n",
              "      <td>8b123be9f6cba79cfe286ab89a348cfc</td>\n",
              "      <td>380890d3043421087f00b3ca9a40e5d2</td>\n",
              "      <td>0aa51cbf1d21c8c6462dbf0e10028a07</td>\n",
              "      <td>0aa51cbf1d21c8c6462dbf0e10027148</td>\n",
              "      <td>executive</td>\n",
              "      <td>reserved</td>\n",
              "      <td>17/09/2010 14:50</td>\n",
              "      <td>-12,1059635</td>\n",
              "      <td>-76,9932875</td>\n",
              "      <td>17/09/2010 14:36</td>\n",
              "      <td>-12,093213</td>\n",
              "      <td>-77,0186515</td>\n",
              "      <td>rider cancel</td>\n",
              "      <td>-12,11023948</td>\n",
              "      <td>-77,00983146</td>\n",
              "      <td>NaN</td>\n",
              "      <td>PEN</td>\n",
              "      <td>1000.0</td>\n",
              "      <td>0.0</td>\n",
              "      <td>0.0</td>\n",
              "      <td>0.0</td>\n",
              "      <td>0.0</td>\n",
              "      <td>1000.0</td>\n",
              "      <td>0.0</td>\n",
              "      <td>0.0</td>\n",
              "      <td>web</td>\n",
              "      <td>NaN</td>\n",
              "      <td>NaN</td>\n",
              "    </tr>\n",
              "    <tr>\n",
              "      <th>23086</th>\n",
              "      <td>141fe4a8514e64b4a76d7ed795a6a8d9</td>\n",
              "      <td>380890d3043421087f00b3ca9a40e5d2</td>\n",
              "      <td>eeb07ac5409c082354b923689341b9ec</td>\n",
              "      <td>aba044a086704ad7e9dc66b8c926408d</td>\n",
              "      <td>executive</td>\n",
              "      <td>asap</td>\n",
              "      <td>05/04/2010 16:08</td>\n",
              "      <td>-12,100917</td>\n",
              "      <td>-76,9699305</td>\n",
              "      <td>05/04/2010 16:14</td>\n",
              "      <td>-12,1002745</td>\n",
              "      <td>-77,0328659</td>\n",
              "      <td>rider cancel</td>\n",
              "      <td>-12,09871843</td>\n",
              "      <td>-77,02561257</td>\n",
              "      <td>NaN</td>\n",
              "      <td>PEN</td>\n",
              "      <td>0.0</td>\n",
              "      <td>NaN</td>\n",
              "      <td>NaN</td>\n",
              "      <td>0.0</td>\n",
              "      <td>0.0</td>\n",
              "      <td>0.0</td>\n",
              "      <td>NaN</td>\n",
              "      <td>NaN</td>\n",
              "      <td>Wap</td>\n",
              "      <td>NaN</td>\n",
              "      <td>NaN</td>\n",
              "    </tr>\n",
              "    <tr>\n",
              "      <th>23098</th>\n",
              "      <td>7d696ae0f1d27b6b752121cffb6ed157</td>\n",
              "      <td>a553c46e3a22fb9c326aeb3d72b3334e</td>\n",
              "      <td>ff5c924e0b630fd7c019a4234059fdf4</td>\n",
              "      <td>16cbe35db7fff70fbc8251b4cdaa06cb</td>\n",
              "      <td>executive</td>\n",
              "      <td>asap</td>\n",
              "      <td>10/06/2010 21:59</td>\n",
              "      <td>-12,12014771</td>\n",
              "      <td>-76,98974609</td>\n",
              "      <td>10/06/2010 22:00</td>\n",
              "      <td>-12,12465668</td>\n",
              "      <td>-77,02886963</td>\n",
              "      <td>rider cancel</td>\n",
              "      <td>-12,11959931</td>\n",
              "      <td>-76,9900784</td>\n",
              "      <td>NaN</td>\n",
              "      <td>PEN</td>\n",
              "      <td>0.0</td>\n",
              "      <td>NaN</td>\n",
              "      <td>NaN</td>\n",
              "      <td>0.0</td>\n",
              "      <td>0.0</td>\n",
              "      <td>0.0</td>\n",
              "      <td>NaN</td>\n",
              "      <td>NaN</td>\n",
              "      <td>iPhone</td>\n",
              "      <td>NaN</td>\n",
              "      <td>NaN</td>\n",
              "    </tr>\n",
              "    <tr>\n",
              "      <th>23110</th>\n",
              "      <td>b7dea45c3cc92b9efd5a4905e69ff9bf</td>\n",
              "      <td>c0ffb6f6cd801004dd8609c12277c2d1</td>\n",
              "      <td>924d4f0e7554566623e8ebb390491d08</td>\n",
              "      <td>924d4f0e7554566623e8ebb390491492</td>\n",
              "      <td>executive</td>\n",
              "      <td>asap</td>\n",
              "      <td>16/03/2010 19:58</td>\n",
              "      <td>-12,1334974</td>\n",
              "      <td>-77,0272581</td>\n",
              "      <td>16/03/2010 20:02</td>\n",
              "      <td>-12,029174</td>\n",
              "      <td>-76,93977</td>\n",
              "      <td>rider cancel</td>\n",
              "      <td>-12,09586711</td>\n",
              "      <td>-77,07372552</td>\n",
              "      <td>NaN</td>\n",
              "      <td>PEN</td>\n",
              "      <td>0.0</td>\n",
              "      <td>NaN</td>\n",
              "      <td>NaN</td>\n",
              "      <td>0.0</td>\n",
              "      <td>0.0</td>\n",
              "      <td>0.0</td>\n",
              "      <td>NaN</td>\n",
              "      <td>NaN</td>\n",
              "      <td>web</td>\n",
              "      <td>NaN</td>\n",
              "      <td>NaN</td>\n",
              "    </tr>\n",
              "  </tbody>\n",
              "</table>\n",
              "<p>3976 rows × 28 columns</p>\n",
              "</div>"
            ],
            "text/plain": [
              "                             journey_id  ... rider_score\n",
              "18     16ba39d30594f6050cb8ab702fc41e02  ...         NaN\n",
              "24     ec84a73745199ff840ecafcb928250fd  ...         NaN\n",
              "27     58af3d0a68980e98b9cc7d5383ef78a6  ...         NaN\n",
              "29     1881c928349fa432c4c0cb4434807dec  ...         NaN\n",
              "30     fdd0e7184d1ec5e7cba69b61ee25b39b  ...         NaN\n",
              "...                                 ...  ...         ...\n",
              "23082  686420c41c76510ac8b9126d2c8f5710  ...         NaN\n",
              "23085  8b123be9f6cba79cfe286ab89a348cfc  ...         NaN\n",
              "23086  141fe4a8514e64b4a76d7ed795a6a8d9  ...         NaN\n",
              "23098  7d696ae0f1d27b6b752121cffb6ed157  ...         NaN\n",
              "23110  b7dea45c3cc92b9efd5a4905e69ff9bf  ...         NaN\n",
              "\n",
              "[3976 rows x 28 columns]"
            ]
          },
          "metadata": {},
          "execution_count": 78
        }
      ]
    },
    {
      "cell_type": "markdown",
      "metadata": {
        "id": "mh_YOng2Jw9b"
      },
      "source": [
        "- Vamos limitar ainda mais a nossa seleção. Vamos selecionar todos os registros da base de dados que sigam os seguintes critérios:\n",
        "  - <code>end_state = 'rider cancel'</code> \n",
        "  - <code>source = 'Android'</code>"
      ]
    },
    {
      "cell_type": "code",
      "metadata": {
        "colab": {
          "base_uri": "https://localhost:8080/",
          "height": 607
        },
        "id": "iedqCV38G09h",
        "outputId": "a34f646c-7ade-41c4-b978-c7ab8a39f5cb"
      },
      "source": [
        "df.query('end_state==\"rider cancel\" & source==\"Android\"')"
      ],
      "execution_count": 79,
      "outputs": [
        {
          "output_type": "execute_result",
          "data": {
            "text/html": [
              "<div>\n",
              "<style scoped>\n",
              "    .dataframe tbody tr th:only-of-type {\n",
              "        vertical-align: middle;\n",
              "    }\n",
              "\n",
              "    .dataframe tbody tr th {\n",
              "        vertical-align: top;\n",
              "    }\n",
              "\n",
              "    .dataframe thead th {\n",
              "        text-align: right;\n",
              "    }\n",
              "</style>\n",
              "<table border=\"1\" class=\"dataframe\">\n",
              "  <thead>\n",
              "    <tr style=\"text-align: right;\">\n",
              "      <th></th>\n",
              "      <th>journey_id</th>\n",
              "      <th>user_id</th>\n",
              "      <th>driver_id</th>\n",
              "      <th>taxi_id</th>\n",
              "      <th>icon</th>\n",
              "      <th>start_type</th>\n",
              "      <th>start_at</th>\n",
              "      <th>start_lat</th>\n",
              "      <th>start_lon</th>\n",
              "      <th>end_at</th>\n",
              "      <th>end_lat</th>\n",
              "      <th>end_lon</th>\n",
              "      <th>end_state</th>\n",
              "      <th>driver_start_lat</th>\n",
              "      <th>driver_start_lon</th>\n",
              "      <th>arrived_at</th>\n",
              "      <th>currency</th>\n",
              "      <th>price</th>\n",
              "      <th>price_distance</th>\n",
              "      <th>price_duration</th>\n",
              "      <th>distance</th>\n",
              "      <th>duration</th>\n",
              "      <th>cost</th>\n",
              "      <th>cost_distance</th>\n",
              "      <th>cost_duration</th>\n",
              "      <th>source</th>\n",
              "      <th>driver_score</th>\n",
              "      <th>rider_score</th>\n",
              "    </tr>\n",
              "  </thead>\n",
              "  <tbody>\n",
              "    <tr>\n",
              "      <th>39</th>\n",
              "      <td>9f8014a35c7ab9439bb0fd3432fbe137</td>\n",
              "      <td>5e4cab5c9040947be5eb74a7b16da86f</td>\n",
              "      <td>62c2e39787aa19cd2513901cf3b4858d</td>\n",
              "      <td>62c2e39787aa19cd2513901cf3b49643</td>\n",
              "      <td>executive</td>\n",
              "      <td>asap</td>\n",
              "      <td>10/11/2010 9:23</td>\n",
              "      <td>-12,12241795</td>\n",
              "      <td>-77,01219711</td>\n",
              "      <td>10/11/2010 9:25</td>\n",
              "      <td>-12,10729808</td>\n",
              "      <td>-77,02302184</td>\n",
              "      <td>rider cancel</td>\n",
              "      <td>-12,08970787</td>\n",
              "      <td>-77,01605652</td>\n",
              "      <td>NaN</td>\n",
              "      <td>PEN</td>\n",
              "      <td>0.0</td>\n",
              "      <td>NaN</td>\n",
              "      <td>NaN</td>\n",
              "      <td>0.0</td>\n",
              "      <td>0.0</td>\n",
              "      <td>0.0</td>\n",
              "      <td>NaN</td>\n",
              "      <td>NaN</td>\n",
              "      <td>Android</td>\n",
              "      <td>NaN</td>\n",
              "      <td>NaN</td>\n",
              "    </tr>\n",
              "    <tr>\n",
              "      <th>44</th>\n",
              "      <td>5ced91860ba5d7fe2859267c8952f747</td>\n",
              "      <td>00cb8ad6a0f7214d002e3ded6b7de012</td>\n",
              "      <td>3d68e1172f35c1fbd06db5a1bc1824a3</td>\n",
              "      <td>3d68e1172f35c1fbd06db5a1bc38c35f</td>\n",
              "      <td>executive</td>\n",
              "      <td>reserved</td>\n",
              "      <td>10/03/2010 5:40</td>\n",
              "      <td>-12,026758</td>\n",
              "      <td>-77,107415</td>\n",
              "      <td>10/03/2010 6:56</td>\n",
              "      <td>-12,082208</td>\n",
              "      <td>-77,089304</td>\n",
              "      <td>rider cancel</td>\n",
              "      <td>-12,02344727</td>\n",
              "      <td>-77,10759362</td>\n",
              "      <td>10/03/2010 5:13</td>\n",
              "      <td>PEN</td>\n",
              "      <td>3726.0</td>\n",
              "      <td>10.0</td>\n",
              "      <td>3716.0</td>\n",
              "      <td>30.0</td>\n",
              "      <td>4459.0</td>\n",
              "      <td>2769.0</td>\n",
              "      <td>0.0</td>\n",
              "      <td>2769.0</td>\n",
              "      <td>Android</td>\n",
              "      <td>NaN</td>\n",
              "      <td>NaN</td>\n",
              "    </tr>\n",
              "    <tr>\n",
              "      <th>45</th>\n",
              "      <td>d2f1475850c213560abdec5deadfb955</td>\n",
              "      <td>00cb8ad6a0f7214d002e3ded6b7de012</td>\n",
              "      <td>d04f1a596fe4a582f48e6eb2f9e8f617</td>\n",
              "      <td>d04f1a596fe4a582f48e6eb2f9e8cceb</td>\n",
              "      <td>executive</td>\n",
              "      <td>asap</td>\n",
              "      <td>12/02/2010 3:25</td>\n",
              "      <td>-12,082282</td>\n",
              "      <td>-77,089432</td>\n",
              "      <td>12/02/2010 3:25</td>\n",
              "      <td>-12,100734</td>\n",
              "      <td>-76,96977</td>\n",
              "      <td>rider cancel</td>\n",
              "      <td>-12,11269436</td>\n",
              "      <td>-77,0515512</td>\n",
              "      <td>NaN</td>\n",
              "      <td>PEN</td>\n",
              "      <td>0.0</td>\n",
              "      <td>NaN</td>\n",
              "      <td>NaN</td>\n",
              "      <td>0.0</td>\n",
              "      <td>0.0</td>\n",
              "      <td>0.0</td>\n",
              "      <td>NaN</td>\n",
              "      <td>NaN</td>\n",
              "      <td>Android</td>\n",
              "      <td>NaN</td>\n",
              "      <td>NaN</td>\n",
              "    </tr>\n",
              "    <tr>\n",
              "      <th>70</th>\n",
              "      <td>c3500f8a4f27db46fc9d42e2057d71ef</td>\n",
              "      <td>2eb2273b6a2d38daeb67ee14a8d4171c</td>\n",
              "      <td>NaN</td>\n",
              "      <td>NaN</td>\n",
              "      <td>executive</td>\n",
              "      <td>asap</td>\n",
              "      <td>21/12/2010 6:14</td>\n",
              "      <td>-12,09612383</td>\n",
              "      <td>-77,04458311</td>\n",
              "      <td>21/12/2010 6:15</td>\n",
              "      <td>-12,09958047</td>\n",
              "      <td>-77,05241751</td>\n",
              "      <td>rider cancel</td>\n",
              "      <td>NaN</td>\n",
              "      <td>NaN</td>\n",
              "      <td>NaN</td>\n",
              "      <td>PEN</td>\n",
              "      <td>0.0</td>\n",
              "      <td>NaN</td>\n",
              "      <td>NaN</td>\n",
              "      <td>0.0</td>\n",
              "      <td>0.0</td>\n",
              "      <td>0.0</td>\n",
              "      <td>NaN</td>\n",
              "      <td>NaN</td>\n",
              "      <td>Android</td>\n",
              "      <td>NaN</td>\n",
              "      <td>NaN</td>\n",
              "    </tr>\n",
              "    <tr>\n",
              "      <th>71</th>\n",
              "      <td>c3500f8a4f27db46fc9d42e205e947f8</td>\n",
              "      <td>2eb2273b6a2d38daeb67ee14a8d4171c</td>\n",
              "      <td>NaN</td>\n",
              "      <td>NaN</td>\n",
              "      <td>executive</td>\n",
              "      <td>asap</td>\n",
              "      <td>21/12/2010 6:09</td>\n",
              "      <td>-12,09620513</td>\n",
              "      <td>-77,04465788</td>\n",
              "      <td>21/12/2010 6:13</td>\n",
              "      <td>-12,10056165</td>\n",
              "      <td>-77,05249026</td>\n",
              "      <td>rider cancel</td>\n",
              "      <td>-12,08346777</td>\n",
              "      <td>-76,97084457</td>\n",
              "      <td>NaN</td>\n",
              "      <td>PEN</td>\n",
              "      <td>0.0</td>\n",
              "      <td>NaN</td>\n",
              "      <td>NaN</td>\n",
              "      <td>0.0</td>\n",
              "      <td>0.0</td>\n",
              "      <td>0.0</td>\n",
              "      <td>NaN</td>\n",
              "      <td>NaN</td>\n",
              "      <td>Android</td>\n",
              "      <td>NaN</td>\n",
              "      <td>NaN</td>\n",
              "    </tr>\n",
              "    <tr>\n",
              "      <th>...</th>\n",
              "      <td>...</td>\n",
              "      <td>...</td>\n",
              "      <td>...</td>\n",
              "      <td>...</td>\n",
              "      <td>...</td>\n",
              "      <td>...</td>\n",
              "      <td>...</td>\n",
              "      <td>...</td>\n",
              "      <td>...</td>\n",
              "      <td>...</td>\n",
              "      <td>...</td>\n",
              "      <td>...</td>\n",
              "      <td>...</td>\n",
              "      <td>...</td>\n",
              "      <td>...</td>\n",
              "      <td>...</td>\n",
              "      <td>...</td>\n",
              "      <td>...</td>\n",
              "      <td>...</td>\n",
              "      <td>...</td>\n",
              "      <td>...</td>\n",
              "      <td>...</td>\n",
              "      <td>...</td>\n",
              "      <td>...</td>\n",
              "      <td>...</td>\n",
              "      <td>...</td>\n",
              "      <td>...</td>\n",
              "      <td>...</td>\n",
              "    </tr>\n",
              "    <tr>\n",
              "      <th>22967</th>\n",
              "      <td>70ba4ba5a1d09c1213940afbf86ca9cd</td>\n",
              "      <td>a86c8d399be95a32f795a8a9887127b9</td>\n",
              "      <td>c814db2127582cf95dea1f74f43127c2</td>\n",
              "      <td>c814db2127582cf95dea1f74f4310a9b</td>\n",
              "      <td>executive</td>\n",
              "      <td>asap</td>\n",
              "      <td>24/05/2010 1:27</td>\n",
              "      <td>-12,11304467</td>\n",
              "      <td>-76,99142843</td>\n",
              "      <td>24/05/2010 1:28</td>\n",
              "      <td>-12,10247976</td>\n",
              "      <td>-77,04641741</td>\n",
              "      <td>rider cancel</td>\n",
              "      <td>-12,11452147</td>\n",
              "      <td>-77,03743386</td>\n",
              "      <td>NaN</td>\n",
              "      <td>PEN</td>\n",
              "      <td>0.0</td>\n",
              "      <td>NaN</td>\n",
              "      <td>NaN</td>\n",
              "      <td>0.0</td>\n",
              "      <td>0.0</td>\n",
              "      <td>0.0</td>\n",
              "      <td>NaN</td>\n",
              "      <td>NaN</td>\n",
              "      <td>Android</td>\n",
              "      <td>NaN</td>\n",
              "      <td>NaN</td>\n",
              "    </tr>\n",
              "    <tr>\n",
              "      <th>22968</th>\n",
              "      <td>70ba4ba5a1d09c1213940afbf86ceffb</td>\n",
              "      <td>a86c8d399be95a32f795a8a9887127b9</td>\n",
              "      <td>774b8063eac2dae5aa5f0889cec0d731</td>\n",
              "      <td>1cbe459130a435037ebacaf7fb21861e</td>\n",
              "      <td>executive</td>\n",
              "      <td>asap</td>\n",
              "      <td>24/05/2010 1:15</td>\n",
              "      <td>-12,11025105</td>\n",
              "      <td>-76,9935286</td>\n",
              "      <td>24/05/2010 1:16</td>\n",
              "      <td>-12,11696494</td>\n",
              "      <td>-77,0300556</td>\n",
              "      <td>rider cancel</td>\n",
              "      <td>-12,09935071</td>\n",
              "      <td>-76,98061493</td>\n",
              "      <td>NaN</td>\n",
              "      <td>PEN</td>\n",
              "      <td>0.0</td>\n",
              "      <td>NaN</td>\n",
              "      <td>NaN</td>\n",
              "      <td>0.0</td>\n",
              "      <td>0.0</td>\n",
              "      <td>0.0</td>\n",
              "      <td>NaN</td>\n",
              "      <td>NaN</td>\n",
              "      <td>Android</td>\n",
              "      <td>NaN</td>\n",
              "      <td>NaN</td>\n",
              "    </tr>\n",
              "    <tr>\n",
              "      <th>22981</th>\n",
              "      <td>70ba4ba5a1d09c1213940afbf8cd34e1</td>\n",
              "      <td>a86c8d399be95a32f795a8a9887127b9</td>\n",
              "      <td>774b8063eac2dae5aa5f0889cec0d731</td>\n",
              "      <td>1cbe459130a435037ebacaf7fb21861e</td>\n",
              "      <td>executive</td>\n",
              "      <td>asap</td>\n",
              "      <td>24/05/2010 1:13</td>\n",
              "      <td>-12,11020253</td>\n",
              "      <td>-76,99328218</td>\n",
              "      <td>24/05/2010 1:14</td>\n",
              "      <td>-12,12255857</td>\n",
              "      <td>-77,0257986</td>\n",
              "      <td>rider cancel</td>\n",
              "      <td>-12,09970204</td>\n",
              "      <td>-76,98054489</td>\n",
              "      <td>NaN</td>\n",
              "      <td>PEN</td>\n",
              "      <td>0.0</td>\n",
              "      <td>NaN</td>\n",
              "      <td>NaN</td>\n",
              "      <td>0.0</td>\n",
              "      <td>0.0</td>\n",
              "      <td>0.0</td>\n",
              "      <td>NaN</td>\n",
              "      <td>NaN</td>\n",
              "      <td>Android</td>\n",
              "      <td>NaN</td>\n",
              "      <td>NaN</td>\n",
              "    </tr>\n",
              "    <tr>\n",
              "      <th>22982</th>\n",
              "      <td>70ba4ba5a1d09c1213940afbf8cd3f68</td>\n",
              "      <td>a86c8d399be95a32f795a8a9887127b9</td>\n",
              "      <td>774b8063eac2dae5aa5f0889cec0d731</td>\n",
              "      <td>1cbe459130a435037ebacaf7fb21861e</td>\n",
              "      <td>executive</td>\n",
              "      <td>asap</td>\n",
              "      <td>24/05/2010 1:11</td>\n",
              "      <td>-12,11379077</td>\n",
              "      <td>-76,9920611</td>\n",
              "      <td>24/05/2010 1:12</td>\n",
              "      <td>-12,11641226</td>\n",
              "      <td>-77,03612912</td>\n",
              "      <td>rider cancel</td>\n",
              "      <td>-12,09797814</td>\n",
              "      <td>-76,98025206</td>\n",
              "      <td>NaN</td>\n",
              "      <td>PEN</td>\n",
              "      <td>0.0</td>\n",
              "      <td>NaN</td>\n",
              "      <td>NaN</td>\n",
              "      <td>0.0</td>\n",
              "      <td>0.0</td>\n",
              "      <td>0.0</td>\n",
              "      <td>NaN</td>\n",
              "      <td>NaN</td>\n",
              "      <td>Android</td>\n",
              "      <td>NaN</td>\n",
              "      <td>NaN</td>\n",
              "    </tr>\n",
              "    <tr>\n",
              "      <th>23006</th>\n",
              "      <td>71fb884c17b72d319a18331d3ee4049d</td>\n",
              "      <td>13cd660fbea6e3b6221aa0fc6fcb8f58</td>\n",
              "      <td>b68895736389f2949faa8c73555b81ac</td>\n",
              "      <td>b68895736389f2949faa8c7355bdb902</td>\n",
              "      <td>executive</td>\n",
              "      <td>asap</td>\n",
              "      <td>05/12/2010 17:07</td>\n",
              "      <td>-12,11169081</td>\n",
              "      <td>-76,99249897</td>\n",
              "      <td>05/12/2010 17:08</td>\n",
              "      <td>-12,10645624</td>\n",
              "      <td>-76,97510988</td>\n",
              "      <td>rider cancel</td>\n",
              "      <td>-12,1116355</td>\n",
              "      <td>-76,9925696</td>\n",
              "      <td>NaN</td>\n",
              "      <td>PEN</td>\n",
              "      <td>0.0</td>\n",
              "      <td>0.0</td>\n",
              "      <td>0.0</td>\n",
              "      <td>0.0</td>\n",
              "      <td>0.0</td>\n",
              "      <td>0.0</td>\n",
              "      <td>0.0</td>\n",
              "      <td>0.0</td>\n",
              "      <td>Android</td>\n",
              "      <td>NaN</td>\n",
              "      <td>NaN</td>\n",
              "    </tr>\n",
              "  </tbody>\n",
              "</table>\n",
              "<p>1094 rows × 28 columns</p>\n",
              "</div>"
            ],
            "text/plain": [
              "                             journey_id  ... rider_score\n",
              "39     9f8014a35c7ab9439bb0fd3432fbe137  ...         NaN\n",
              "44     5ced91860ba5d7fe2859267c8952f747  ...         NaN\n",
              "45     d2f1475850c213560abdec5deadfb955  ...         NaN\n",
              "70     c3500f8a4f27db46fc9d42e2057d71ef  ...         NaN\n",
              "71     c3500f8a4f27db46fc9d42e205e947f8  ...         NaN\n",
              "...                                 ...  ...         ...\n",
              "22967  70ba4ba5a1d09c1213940afbf86ca9cd  ...         NaN\n",
              "22968  70ba4ba5a1d09c1213940afbf86ceffb  ...         NaN\n",
              "22981  70ba4ba5a1d09c1213940afbf8cd34e1  ...         NaN\n",
              "22982  70ba4ba5a1d09c1213940afbf8cd3f68  ...         NaN\n",
              "23006  71fb884c17b72d319a18331d3ee4049d  ...         NaN\n",
              "\n",
              "[1094 rows x 28 columns]"
            ]
          },
          "metadata": {},
          "execution_count": 79
        }
      ]
    },
    {
      "cell_type": "markdown",
      "metadata": {
        "id": "hOL-OujRIrii"
      },
      "source": [
        "- **Algumas observações importantes**\n",
        "\n",
        "  - Reparem que a query foi feita por meio de uma string onde passamos os nomes das colunas e os valores correspondentes. \n",
        "  - Para colocar uma string dentro da outra reparem na utilização de dois tipos de string distintos."
      ]
    },
    {
      "cell_type": "markdown",
      "metadata": {
        "id": "JiTWL9DyJ_MQ"
      },
      "source": [
        "## Avaliando o tamanho dos DataFrames e Series\n",
        "\n",
        "Para sabermos o tamanho de um DataFrame usamos o comando <code>.shape</code>"
      ]
    },
    {
      "cell_type": "code",
      "metadata": {
        "colab": {
          "base_uri": "https://localhost:8080/"
        },
        "id": "FL7idEu-IpSC",
        "outputId": "9a586bd7-d2f2-43a2-a4c6-d8bbb7685339"
      },
      "source": [
        "df.shape"
      ],
      "execution_count": 80,
      "outputs": [
        {
          "output_type": "execute_result",
          "data": {
            "text/plain": [
              "(23111, 28)"
            ]
          },
          "metadata": {},
          "execution_count": 80
        }
      ]
    },
    {
      "cell_type": "code",
      "metadata": {
        "id": "3uVZEsnrKGEl"
      },
      "source": [
        ""
      ],
      "execution_count": null,
      "outputs": []
    }
  ]
}