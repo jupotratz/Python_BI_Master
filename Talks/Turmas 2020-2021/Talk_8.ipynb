{
  "nbformat": 4,
  "nbformat_minor": 0,
  "metadata": {
    "kernelspec": {
      "display_name": "Python 3",
      "language": "python",
      "name": "python3"
    },
    "language_info": {
      "codemirror_mode": {
        "name": "ipython",
        "version": 3
      },
      "file_extension": ".py",
      "mimetype": "text/x-python",
      "name": "python",
      "nbconvert_exporter": "python",
      "pygments_lexer": "ipython3",
      "version": "3.7.6"
    },
    "colab": {
      "name": "Talk_8.ipynb",
      "provenance": [],
      "collapsed_sections": [],
      "toc_visible": true
    }
  },
  "cells": [
    {
      "cell_type": "markdown",
      "metadata": {
        "id": "I6X9yBL24d_R"
      },
      "source": [
        "<img src=\"https://github.com/jupotratz/Python_BI_Master/blob/main/Turmas/2021.3/Imagens/sep.png?raw=true\"  width=1000 height=125 />"
      ]
    },
    {
      "cell_type": "markdown",
      "metadata": {
        "id": "gIAqD9T44d_Z"
      },
      "source": [
        "# Professoras\n",
        "\n",
        " - Amanda Lemette \n",
        "\t - prof.amanda@ica.ele.puc-rio.br\n",
        "\t - [Linkedin](https://www.linkedin.com/in/amanda-lemette-brand%C3%A3o-83280918b)\n",
        "   - [Youtube](https://www.youtube.com/c/AmandaLemette/featured)\n",
        "   \n",
        " - Júlia Potratz\n",
        "\t - prof.julia@ica.ele.puc-rio.br\n",
        "\t - [Linkedin](https://www.linkedin.com/in/julia-potratz)\n",
        "     \n",
        "# Material \n",
        "\n",
        "Repositório no GitHub: [Python_BI_Master](https://github.com/jupotratz/Python_BI_Master)\n",
        "\n",
        "\n",
        "# Talk 8\n",
        "\n",
        "Esse talk será dado no dia 13/11/2021\n",
        "\n",
        "- **Plano de aula:**\n",
        "\t- Dataframes\n",
        "         - Uso da biblioteca Pandas\n",
        "         - Declaração de Dataframes\n",
        "         - Manipulação de Dataframes\n",
        "         - Exercícios práticos      \n",
        "\n",
        "\n",
        "https://www.kaggle.com/joaoavf/introducao-a-analise-de-dados-python-e-pandas"
      ]
    },
    {
      "cell_type": "markdown",
      "metadata": {
        "id": "xXpmTXVo4d_a"
      },
      "source": [
        "<img src=\"https://github.com/jupotratz/Python_BI_Master/blob/main/Turmas/2021.3/Imagens/sep.png?raw=true\"  width=1000 height=125 />"
      ]
    },
    {
      "cell_type": "markdown",
      "metadata": {
        "id": "IreMAVpG4d_b"
      },
      "source": [
        "# Pandas\n",
        "\n",
        "O pandas é uma biblioteca de código aberto, licenciada por BSD, que fornece estruturas de dados de alto desempenho e fáceis de usar e ferramentas de análise de dados para a linguagem de programação Python.\n",
        "\n",
        "O Pandas adota parte significativa do estilo idiomático do NumPy para o processamento baseado em arrays. Embora tenha muitas funções e estruturas parecidas o Pandas foi projetado para trabalhar com dados tabulares e heterogêneos. \n",
        "\n",
        "Abaixo segue links da documentação das bibliotecas já estudadas e da biblioteca Pandas.\n",
        "\n",
        "\n",
        "[Documentação da biblioteca Pandas](https://pandas.pydata.org/)"
      ]
    },
    {
      "cell_type": "markdown",
      "metadata": {
        "id": "davPPpy_4d_c"
      },
      "source": [
        "<img src=\"https://github.com/jupotratz/Python_BI_Master/blob/main/Turmas/2021.3/Imagens/sep.png?raw=true\"  width=1000 height=125 />"
      ]
    },
    {
      "cell_type": "markdown",
      "metadata": {
        "id": "5BemFqG44d_c"
      },
      "source": [
        "# Estudo de caso Uber \n",
        "\n",
        "Sobre do conjunto de dados Uber\n",
        "\n",
        "Este conjunto de dados vem da inicialização da mobilidade que permite a qualquer usuário reservar uma viagem de qualquer ponto A a qualquer ponto B dentro da cidade usando um smartphone. O valor da viagem é calculado no momento da solicitação automaticamente pelo app, considerando distância, tempo estimado de viagem e disponibilidade atual do carro (saldo demanda / oferta).\n",
        "\n",
        "Terminada a viagem, cobramos o cartão de crédito do passageiro e transferimos X% desse valor para a conta do motorista. Finalmente, antes que os passageiros sejam pegos, a viagem pode ser cancelada pelo motorista ou pelo passageiro.\n",
        "\n",
        "A base de dados pode ser encontrada [aqui](https://www.kaggle.com/marcusrb/uber-peru-dataset). Além disso, conta com os seguintes argumentos:\n",
        "\n",
        "- **journey_id**: id da corrida (id único para cada corrida realizada)\n",
        "- **user_id**: id do usuário (id único para cada usuário)\n",
        "- **driver_id**: id do motorista (id único para cada motorista)\n",
        "- **taxi_id**: id fiscal único\n",
        "- **icon**:\n",
        "- **start_type**: tipo inicial de corrida *o mais rápido possível*, *reservado* ou *atrasado*.\n",
        "- **start_at**: início da corrida (time)\n",
        "- **start_lat**: latitude de início da corrida\n",
        "- **start_lon**: longitude de início da corrida\n",
        "- **end_at**: fim da corrida (time)\n",
        "- **end_lat**: latitude de término da corrida \n",
        "- **end_lon**: longitude de término da corrida\n",
        "- **end_state**: estado final\n",
        "- **driver_start_lat**: latitude de início do motorista\n",
        "- **driver_start_lon**: longitude de início do motorista\n",
        "- **arrived_at**: Tempo de chegada \n",
        "- **currency**: Tipo de moeda\n",
        "- **price**: Preço da corrida\n",
        "- **price_distance**: Preço por distância\n",
        "- **price_duration**: Preço por duração \n",
        "- **distance**: Distância da corrida\n",
        "- **duration**: Dutação da corrida\n",
        "- **cost**: Custo do motorista\n",
        "- **cost_distance**: Custo por distância \n",
        "- **cost_duration**: Custo por duração \n",
        "- **source**: Tipo de fonte de solicitação da corrida (Android, iPhone, ...)\n",
        "- **driver_score**: Pontuação do motorista\n",
        "- **rider_score**: Pontuação do passageiro\n",
        "\n",
        "\n",
        "O objetivo desse estudo de caso é realizar uma análise descritiva dessa base de dados. \n",
        "\n",
        "- O quantos? \n",
        "    - Veículos \n",
        "    - Passageiros \n",
        "    - Motoristas\n",
        "    \n",
        "- O quando? \n",
        "    - Viagens \n",
        "    - Preço \n",
        "    - Custo por período de tempo\n",
        "    - Duração das viagens\n",
        "- O quê? \n",
        "    - Reservas \n",
        "    - O mais rápido  possível\n",
        "    - Tipo de veículo\n",
        "- Onde? \n",
        "    - Mapa de origem\n",
        "    - Melhores origens \n",
        "- Quem? \n",
        "    - Piores passageiros \n",
        "    - Melhores motoristas \n",
        "- Qualquer pergunta que você considere interessante..."
      ]
    },
    {
      "cell_type": "markdown",
      "metadata": {
        "id": "Vf-kQp1p4d_e"
      },
      "source": [
        "<img src=\"https://github.com/jupotratz/Python_BI_Master/blob/main/Turmas/2021.3/Imagens/sep.png?raw=true\"  width=1000 height=125 />"
      ]
    },
    {
      "cell_type": "markdown",
      "metadata": {
        "id": "IbFewn_O4d_f"
      },
      "source": [
        "## Instalando o pacote Pandas\n",
        "    \n",
        "* **pip isntall pandas** (instala pelo próprio jupyter ou pelo prompt de comando)\n",
        "* **conda install pandas** (instala pelo próprio jupyter ou pelo prompt de comando)\n",
        "* **instalação pelo Anaconda**\n",
        "\n",
        "Observação: quando se instala um pacote com o jupyter aberto deve-se acrescentar uma exclamação (!) antes do comando dentro de uma célula do tipo **code** e executar a mesma"
      ]
    },
    {
      "cell_type": "code",
      "metadata": {
        "id": "diOjqdNy4d_f"
      },
      "source": [
        "#!pip install pandas\n",
        "#!conda install pandas"
      ],
      "execution_count": null,
      "outputs": []
    },
    {
      "cell_type": "markdown",
      "metadata": {
        "id": "y-uGRj8L4d_g"
      },
      "source": [
        "## Preparando o ambiente\n",
        "\n",
        "Assim como na bibliotec Numpy, a biblioteca Pandas também possui uma convenção de importação que é a sigla <code>pd</code>."
      ]
    },
    {
      "cell_type": "code",
      "metadata": {
        "id": "OM3UAWxf4d_g"
      },
      "source": [
        "import pandas as pd\n",
        "import numpy as np"
      ],
      "execution_count": null,
      "outputs": []
    },
    {
      "cell_type": "markdown",
      "metadata": {
        "id": "ytLGs9IR4d_h"
      },
      "source": [
        "## Primeiro contato com os dados\n",
        "\n",
        "- Vamos fazer o download dos dados iniciamente diretamente do *kaggle*. Para entender melhor como realizar esse procedimento vocês podem revisitar o material do [Talk 1](https://github.com/jupotratz/Python_BI_Master/blob/main/Talks/Turmas%202020-2021/Talk_1.ipynb)\n",
        "\n",
        "- A base de dados utilizada conta com informações de viagens da Uber no Peru em 2010."
      ]
    },
    {
      "cell_type": "code",
      "metadata": {
        "id": "h_QBk3iD4d_h"
      },
      "source": [
        "!pip install kaggle"
      ],
      "execution_count": null,
      "outputs": []
    },
    {
      "cell_type": "markdown",
      "metadata": {
        "id": "d6DH0_3o4d_i"
      },
      "source": [
        "\n",
        "#### Enviar o arquivo kaggle.json"
      ]
    },
    {
      "cell_type": "code",
      "metadata": {
        "colab": {
          "resources": {
            "http://localhost:8080/nbextensions/google.colab/files.js": {
              "data": "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",
              "ok": true,
              "headers": [
                [
                  "content-type",
                  "application/javascript"
                ]
              ],
              "status": 200,
              "status_text": ""
            }
          },
          "base_uri": "https://localhost:8080/",
          "height": 93
        },
        "id": "kC7ezTFN4d_i",
        "outputId": "4d59f2de-569d-4ac5-f180-a48302d4f472"
      },
      "source": [
        "from google.colab import files\n",
        "files.upload() "
      ],
      "execution_count": null,
      "outputs": [
        {
          "output_type": "display_data",
          "data": {
            "text/html": [
              "\n",
              "     <input type=\"file\" id=\"files-31f43c72-526e-49cd-beef-ea90c49c6f90\" name=\"files[]\" multiple disabled\n",
              "        style=\"border:none\" />\n",
              "     <output id=\"result-31f43c72-526e-49cd-beef-ea90c49c6f90\">\n",
              "      Upload widget is only available when the cell has been executed in the\n",
              "      current browser session. Please rerun this cell to enable.\n",
              "      </output>\n",
              "      <script src=\"/nbextensions/google.colab/files.js\"></script> "
            ],
            "text/plain": [
              "<IPython.core.display.HTML object>"
            ]
          },
          "metadata": {}
        },
        {
          "output_type": "stream",
          "name": "stdout",
          "text": [
            "Saving kaggle.json to kaggle.json\n"
          ]
        },
        {
          "output_type": "execute_result",
          "data": {
            "text/plain": [
              "{'kaggle.json': b'{\"username\":\"potratzjulia\",\"key\":\"4ecaf2434eb89f31e1118f1d3f541bf5\"}'}"
            ]
          },
          "metadata": {},
          "execution_count": 5
        }
      ]
    },
    {
      "cell_type": "markdown",
      "metadata": {
        "id": "BEBscT_Z4d_j"
      },
      "source": [
        "#### Antes de importar o dataset nós iremos provisionar o local de armazenamento"
      ]
    },
    {
      "cell_type": "code",
      "metadata": {
        "id": "RXvSngyg4d_j"
      },
      "source": [
        "!mkdir -p ~/.kaggle/\n",
        "!cp kaggle.json ~/.kaggle/"
      ],
      "execution_count": null,
      "outputs": []
    },
    {
      "cell_type": "markdown",
      "metadata": {
        "id": "BBDuGEol4d_j"
      },
      "source": [
        "#### Alterar a permissão para evitar o aviso durante a partida da ferramenta Kaggle\n",
        "\n",
        "##### This permissions change avoids a warning on Kaggle tool startup."
      ]
    },
    {
      "cell_type": "code",
      "metadata": {
        "id": "9PShk7f14d_j"
      },
      "source": [
        "!chmod 600 ~/.kaggle/kaggle.json"
      ],
      "execution_count": null,
      "outputs": []
    },
    {
      "cell_type": "markdown",
      "metadata": {
        "id": "A2V6-EKs4d_k"
      },
      "source": [
        "#### Copiar o endereço da API para o download do dataset"
      ]
    },
    {
      "cell_type": "code",
      "metadata": {
        "id": "92mG1P6d4d_k"
      },
      "source": [
        "!kaggle datasets download -d marcusrb/uber-peru-dataset"
      ],
      "execution_count": null,
      "outputs": []
    },
    {
      "cell_type": "markdown",
      "metadata": {
        "id": "DcURQcmD4d_k"
      },
      "source": [
        "#### Descompactar o arquivo baixado"
      ]
    },
    {
      "cell_type": "code",
      "metadata": {
        "id": "iEKDM3zN4d_k"
      },
      "source": [
        "!unzip \\*.zip  && rm *.zip"
      ],
      "execution_count": null,
      "outputs": []
    },
    {
      "cell_type": "markdown",
      "metadata": {
        "id": "vNXWNv0p4d_l"
      },
      "source": [
        "#### Utilizar a biblioteca pandas para ler a  base de dados baixada"
      ]
    },
    {
      "cell_type": "code",
      "metadata": {
        "colab": {
          "base_uri": "https://localhost:8080/"
        },
        "id": "tu6OZX1L449n",
        "outputId": "abe73129-d36d-46df-e122-296b386a1136"
      },
      "source": [
        "!ls"
      ],
      "execution_count": null,
      "outputs": [
        {
          "output_type": "stream",
          "name": "stdout",
          "text": [
            "kaggle.json  sample_data  uber_peru_2010.csv\n"
          ]
        }
      ]
    },
    {
      "cell_type": "code",
      "metadata": {
        "id": "6ry3jWkA4d_l"
      },
      "source": [
        "df = pd.read_csv(\"uber_peru_2010.csv\") "
      ],
      "execution_count": null,
      "outputs": []
    },
    {
      "cell_type": "markdown",
      "metadata": {
        "id": "3_uV6stt4d_l"
      },
      "source": [
        "### Vizualização de dados\n",
        "\n",
        "- 5 primeiras linhas da tabela com a função <code>.head()</code>"
      ]
    },
    {
      "cell_type": "code",
      "metadata": {
        "id": "1by_GoE24d_l"
      },
      "source": [
        "df.head()"
      ],
      "execution_count": null,
      "outputs": []
    },
    {
      "cell_type": "markdown",
      "metadata": {
        "id": "WRabE2CF5O21"
      },
      "source": [
        "Reparem que a planilha ficou estranha. Isso aconteceu devido ao separador utilizado no arquivo que é <code>;</code>. Coo o separador default utilizado na função <code>pd.read_csv()</code> é a <code>,</code> teremos que definir um novo separador. Para isso, basta passar um parâmetro <code>sep=';'</code> como argumento da função <code>pd.read_csv(PathFile, sep=';')</code>"
      ]
    },
    {
      "cell_type": "code",
      "metadata": {
        "id": "v9UI1mCS5O5h"
      },
      "source": [
        "df = pd.read_csv(\"uber_peru_2010.csv\", sep=';') "
      ],
      "execution_count": null,
      "outputs": []
    },
    {
      "cell_type": "code",
      "metadata": {
        "id": "l71Y-VJL5O8k"
      },
      "source": [
        "df.head()"
      ],
      "execution_count": null,
      "outputs": []
    },
    {
      "cell_type": "markdown",
      "metadata": {
        "id": "_R8tvKSm4d_m"
      },
      "source": [
        "- 5 ultimas linhas da tabela com a função <code>.tail()</code>"
      ]
    },
    {
      "cell_type": "code",
      "metadata": {
        "id": "5s-POhAR4d_m"
      },
      "source": [
        "df.tail()"
      ],
      "execution_count": null,
      "outputs": []
    },
    {
      "cell_type": "markdown",
      "metadata": {
        "id": "F5nv9dN44d_m"
      },
      "source": [
        "- A visualização do DataFrame acima é composta pelos seguintes elementos:\n",
        "```\n",
        "    1. Index\n",
        "    2. Elemento do Index\n",
        "    3. Colunas\n",
        "    4. Nome da coluna (pode ter espaço, acento e etc, mas nome curto, simples, e representativo facilita o código)\n",
        "    5. '...'\n",
        "    6. Células (Dados)\n",
        "    7. NaNs\n",
        "```"
      ]
    },
    {
      "cell_type": "markdown",
      "metadata": {
        "id": "VeUPFZ5f4d_m"
      },
      "source": [
        "Apesar da convenção no Python ser utilizar o <code>.head()</code> ou o <code>.tail()</code> para olhar um DataFrame novo, algo muito mais inteligente de se fazer para ter uma ideia representativa do DataFrame é utilizar o <code>.sample(5)</code>, que seleciona 5 linhas aleatórias do seu DataFrame. Se você executar o comando algumas vezes vai obter resultados diferentes a cada iteração."
      ]
    },
    {
      "cell_type": "code",
      "metadata": {
        "id": "1e8wN1gz4d_m"
      },
      "source": [
        "df.sample(5)"
      ],
      "execution_count": null,
      "outputs": []
    },
    {
      "cell_type": "markdown",
      "metadata": {
        "id": "J-vr6dJZ4d_m"
      },
      "source": [
        "### Melhorando a visualização da tabela\n",
        "\n",
        "Um truque para visualizar melhor os dados é invertendo as linhas pelas colunas (matrix transposta), para isso basta colocar um <code>.T</code> depois do nosso comando que gera uma visualização de DataFrame.\n",
        "\n",
        "### Encadeamento de funcionalidades\n",
        "\n",
        "Podemos juntar diversos comando na mesma linha, isto é, logo após o <code>df.sample(5)</code>, pode usar o <code>.T</code>, e essas funcionalidades irão funcionar em cascata e de forma sequêncial, primeiro o <code>df.sample(5)</code>, e depois o <code>.T</code>"
      ]
    },
    {
      "cell_type": "code",
      "metadata": {
        "id": "nlCu7wgP4d_n"
      },
      "source": [
        "df.sample(5).T"
      ],
      "execution_count": null,
      "outputs": []
    },
    {
      "cell_type": "markdown",
      "metadata": {
        "id": "_-vMqEkj9Fx8"
      },
      "source": [
        "### Slicing no Pandas\n",
        "\n",
        "O nome dessa operação de colocar algo entre colchetes é **slicing**, e isso como convenção geral é uma forma de selecionar um subconjunto de dados.\n",
        "\n",
        "[20:30] vai selecionar exatamente 10 elementos (30 - 20). O número da direita menos o número da esquerda é sempre o total de elementos que serão selecionados, e isso é uma convenção no Python.\n",
        "\n",
        "O número 20 é selecionado por ser um intervalo fechado na esquerda, e o número 30 não é selecionado por ser um intervalo aberto na direita. O que é outra convenção do Python."
      ]
    },
    {
      "cell_type": "code",
      "metadata": {
        "id": "PpXxEep44d_n"
      },
      "source": [
        "df[20:30]"
      ],
      "execution_count": null,
      "outputs": []
    },
    {
      "cell_type": "markdown",
      "metadata": {
        "id": "1HLmFUSD9hmW"
      },
      "source": [
        "### Selecionando colunas\n",
        "\n",
        "\n",
        "Para selecionarmos colunas no pandas, basta dizermos o nome do DataFrame seguido por colchetes com o nome da coluna dentro:\n",
        "\n",
        "- Nome do Dataframe: <code>igm</code>\n",
        "- Colchetes com a coluna dentro: <code>['user_id']</code>\n",
        "- Comando completo: <code>igm['user_id']</code>"
      ]
    },
    {
      "cell_type": "code",
      "metadata": {
        "id": "8PKf3dtG9ZNc"
      },
      "source": [
        "df['user_id']"
      ],
      "execution_count": null,
      "outputs": []
    },
    {
      "cell_type": "code",
      "metadata": {
        "id": "YuBWxD2KPYh4"
      },
      "source": [
        "df.iloc[:,1] # acessa a coluna na posicao 1 "
      ],
      "execution_count": null,
      "outputs": []
    },
    {
      "cell_type": "code",
      "metadata": {
        "id": "XMUcueAdPxGs"
      },
      "source": [
        "df.loc[:,'user_id'] # acessa a coluna baseado no seu label"
      ],
      "execution_count": null,
      "outputs": []
    },
    {
      "cell_type": "code",
      "metadata": {
        "id": "EgPvYoVrParL"
      },
      "source": [
        "df[df.columns[1]]"
      ],
      "execution_count": null,
      "outputs": []
    },
    {
      "cell_type": "markdown",
      "metadata": {
        "id": "8UOoAlBf94lO"
      },
      "source": [
        "### Selecionando Múltiplas Colunas\n",
        "\n",
        "Podemos selecionar multiplas colunas com o comando <code>igm[['municipio', 'indice_governanca']]</code>"
      ]
    },
    {
      "cell_type": "code",
      "metadata": {
        "id": "pNoW4wMA90JT"
      },
      "source": [
        "df[['start_at',\t'start_lat',\t'start_lon',\t'end_at']].head()"
      ],
      "execution_count": null,
      "outputs": []
    },
    {
      "cell_type": "code",
      "metadata": {
        "id": "sL9WMcfQQ6cd"
      },
      "source": [
        ""
      ],
      "execution_count": null,
      "outputs": []
    },
    {
      "cell_type": "code",
      "metadata": {
        "id": "217PGL-sP6AI"
      },
      "source": [
        "df.iloc[:,[6,7,8,9]].head()"
      ],
      "execution_count": null,
      "outputs": []
    },
    {
      "cell_type": "code",
      "metadata": {
        "id": "kw3TvOTbQ7Pc"
      },
      "source": [
        ""
      ],
      "execution_count": null,
      "outputs": []
    },
    {
      "cell_type": "code",
      "metadata": {
        "id": "LOcGujN9Q_QY"
      },
      "source": [
        ""
      ],
      "execution_count": null,
      "outputs": []
    },
    {
      "cell_type": "markdown",
      "metadata": {
        "id": "4aMOBLJe-RkM"
      },
      "source": [
        "## Exercícios: Seleções Básicas\n",
        "\n",
        "- Selecionar as 10 primeiras linhas mostrando as colunas duration, cost e cost_distance."
      ]
    },
    {
      "cell_type": "code",
      "metadata": {
        "id": "foX2srse-VhZ"
      },
      "source": [
        ""
      ],
      "execution_count": null,
      "outputs": []
    },
    {
      "cell_type": "markdown",
      "metadata": {
        "id": "jbT6g0mm-lpc"
      },
      "source": [
        "- Selecionar as linhas 15 a 24 e mostrar somente os valores da coluna duration."
      ]
    },
    {
      "cell_type": "code",
      "metadata": {
        "id": "JlzQk8hR-zCm"
      },
      "source": [
        ""
      ],
      "execution_count": null,
      "outputs": []
    },
    {
      "cell_type": "markdown",
      "metadata": {
        "id": "9HLRujUe-yEa"
      },
      "source": [
        "## Fazendo Operações de Agregamento:\n",
        "\n",
        "- Vamos contar quantos a frequência de dispostivos (iPhone, Android, web, iPad, Wap) que solicitam as viagens. Para isso podemos selecionar a coluna <code>source</code> e aplicar o método <code>value_counts()</code>:"
      ]
    },
    {
      "cell_type": "code",
      "metadata": {
        "id": "V7MrVp05-8No"
      },
      "source": [
        "df['source'].value_counts()"
      ],
      "execution_count": null,
      "outputs": []
    },
    {
      "cell_type": "markdown",
      "metadata": {
        "id": "YEsiXofO_8Ij"
      },
      "source": [
        "## Plotando Nosso Primeiro Gráfico\n",
        "\n",
        "Para garantir que nossos gráficos vão ser plotados em todas as versões do  <code>Jupyter Notebook</code> precisamos rodar o comando abaixo:"
      ]
    },
    {
      "cell_type": "code",
      "metadata": {
        "id": "aS51MG1C_IzL"
      },
      "source": [
        "%matplotlib inline  "
      ],
      "execution_count": null,
      "outputs": []
    },
    {
      "cell_type": "markdown",
      "metadata": {
        "id": "O3iHjD1gAF8K"
      },
      "source": [
        "Com bastante facilidade podemos plotar um gráfico com os valores acima, basta colocar <code>.plot.bar()</code> na sequência."
      ]
    },
    {
      "cell_type": "code",
      "metadata": {
        "id": "5fCr-gurShpX"
      },
      "source": [
        "df['source'].value_counts().plot.bar()"
      ],
      "execution_count": null,
      "outputs": []
    },
    {
      "cell_type": "markdown",
      "metadata": {
        "id": "7WWRJFMESYvA"
      },
      "source": [
        "Vamos reproduzir esse gráfico usando o gráfico de barras da biblioteca matplotlib. "
      ]
    },
    {
      "cell_type": "code",
      "metadata": {
        "id": "vfgB4RSpRwg9"
      },
      "source": [
        "import matplotlib.pyplot as plt "
      ],
      "execution_count": 3,
      "outputs": []
    },
    {
      "cell_type": "code",
      "metadata": {
        "id": "s3UmAuvaRy30"
      },
      "source": [
        ""
      ],
      "execution_count": null,
      "outputs": []
    },
    {
      "cell_type": "markdown",
      "metadata": {
        "id": "KJln9UE7BLB4"
      },
      "source": [
        "## Operações de Agregamento Numéricas\n",
        "\n",
        "Vamos criar uma variável chamada <code>aux_col</code> para guarda a nossa Series relativa a coluna <code>price_distance</code>.\n"
      ]
    },
    {
      "cell_type": "code",
      "metadata": {
        "id": "z92qurBHAMru"
      },
      "source": [
        "aux_col = df['price_distance']\t"
      ],
      "execution_count": null,
      "outputs": []
    },
    {
      "cell_type": "markdown",
      "metadata": {
        "id": "cge9ISvgCbP_"
      },
      "source": [
        "Vamos contar a quantidade de elementos em <code>price_distance</code>"
      ]
    },
    {
      "cell_type": "code",
      "metadata": {
        "id": "SAUxZqYQDcsR"
      },
      "source": [
        "aux_col"
      ],
      "execution_count": null,
      "outputs": []
    },
    {
      "cell_type": "code",
      "metadata": {
        "id": "aGUgqPmICp8W"
      },
      "source": [
        "aux_col.count()"
      ],
      "execution_count": null,
      "outputs": []
    },
    {
      "cell_type": "markdown",
      "metadata": {
        "id": "hjWSeCilCx5l"
      },
      "source": [
        "Note que o <code>.count()</code> não contabiliza valores em branco, se quisermos ver os valores em branco temos que usar o atributo <code>.size</code>, que não tem paranteses."
      ]
    },
    {
      "cell_type": "code",
      "metadata": {
        "id": "Eh4zquJyC63V"
      },
      "source": [
        "aux_col.size"
      ],
      "execution_count": null,
      "outputs": []
    },
    {
      "cell_type": "markdown",
      "metadata": {
        "id": "svF3DCgSCEho"
      },
      "source": [
        "\n",
        "\n",
        "Uma análise importante para iniciar qualquer análise de dados é a verificação de valores nulos na base de dados. Para verificarmos quais são os valores nulos podemos usar o <code>.isnull()</code>, que nos retornar uma Series com valores <code>True</code> ou <code>False</code>."
      ]
    },
    {
      "cell_type": "code",
      "metadata": {
        "id": "_tBhiZyRCFdU"
      },
      "source": [
        "aux_col.isnull()"
      ],
      "execution_count": null,
      "outputs": []
    },
    {
      "cell_type": "markdown",
      "metadata": {
        "id": "9JnUAGWcDmlI"
      },
      "source": [
        "Uma forma de melhor utilizarmos essa informação é contabilizando o total de valores em branco, note que <code>True</code> tem valor <code>1</code> e <code>False</code> tem valor <code>0</code>, portanto se somarmos todos os elementos, teremos o total de valores em branco."
      ]
    },
    {
      "cell_type": "code",
      "metadata": {
        "id": "Fo8Li9N3Dg7u"
      },
      "source": [
        "aux_col.isnull().sum()"
      ],
      "execution_count": null,
      "outputs": []
    },
    {
      "cell_type": "markdown",
      "metadata": {
        "id": "qNsQF0zND2LI"
      },
      "source": [
        "Podemos remover esses valores em branco com um simples comando, o <code>dropna()</code>."
      ]
    },
    {
      "cell_type": "code",
      "metadata": {
        "id": "ZSWHc2ldDx08"
      },
      "source": [
        "aux_col.dropna()"
      ],
      "execution_count": null,
      "outputs": []
    },
    {
      "cell_type": "markdown",
      "metadata": {
        "id": "5R21011SEDw2"
      },
      "source": [
        "Ele retornou os valores, e podemos ver que não tem nenhum valor em branco, mas vamos verificar de fato para ver se mudamos os nossos valores:"
      ]
    },
    {
      "cell_type": "code",
      "metadata": {
        "id": "m50n5uydD8Lu"
      },
      "source": [
        "aux_col.isnull().sum()"
      ],
      "execution_count": null,
      "outputs": []
    },
    {
      "cell_type": "markdown",
      "metadata": {
        "id": "7_XXf31zEIvL"
      },
      "source": [
        "Não mudou, por que isso aconteceu? Uma série de funções no pandas não alteram o objeto em questão, porque muitas vezes estamos fazendo transformações temporárias para gerar uma visualização ou análise, para mudar o objeto temos que passar um parâmetro a mais que é o <code>inplace=True</code>."
      ]
    },
    {
      "cell_type": "code",
      "metadata": {
        "id": "998mcoPxEGk9"
      },
      "source": [
        "aux_col.dropna(inplace=True)\n",
        "#aux_col = aux_col.dropna()"
      ],
      "execution_count": null,
      "outputs": []
    },
    {
      "cell_type": "markdown",
      "metadata": {
        "id": "ReMJoGkuERIT"
      },
      "source": [
        "Vamos verificar novamente se temos valores em branco no nosso conjunto de dados:"
      ]
    },
    {
      "cell_type": "code",
      "metadata": {
        "id": "pOwwtWVNEPNM"
      },
      "source": [
        "aux_col.isnull().sum()"
      ],
      "execution_count": null,
      "outputs": []
    },
    {
      "cell_type": "markdown",
      "metadata": {
        "id": "UGseXZymEySP"
      },
      "source": [
        "- Selecionando o valor **mínimo** da caluna <code>price_distance</code>."
      ]
    },
    {
      "cell_type": "code",
      "metadata": {
        "id": "V2umP3kDEynm"
      },
      "source": [
        "aux_col.min()"
      ],
      "execution_count": null,
      "outputs": []
    },
    {
      "cell_type": "markdown",
      "metadata": {
        "id": "ho_lvdZSEyw9"
      },
      "source": [
        "- Selecionando o valor **máximo** da caluna <code>price_distance</code>."
      ]
    },
    {
      "cell_type": "code",
      "metadata": {
        "id": "BhkhQGO8Ey6h"
      },
      "source": [
        "aux_col.max()"
      ],
      "execution_count": null,
      "outputs": []
    },
    {
      "cell_type": "markdown",
      "metadata": {
        "id": "x2Av9PW6EzDx"
      },
      "source": [
        "- Verificando a **média** dos valores da coluna <code>price_distance</code>."
      ]
    },
    {
      "cell_type": "code",
      "metadata": {
        "id": "grra1xfsET1E"
      },
      "source": [
        "aux_col.mean()"
      ],
      "execution_count": null,
      "outputs": []
    },
    {
      "cell_type": "markdown",
      "metadata": {
        "id": "pUv_PGu0Fce3"
      },
      "source": [
        "- Verificando o **desvio padrão** dos valores da coluna <code>price_distance</code>."
      ]
    },
    {
      "cell_type": "code",
      "metadata": {
        "id": "BeB3Bk6dFXol"
      },
      "source": [
        "aux_col.std()"
      ],
      "execution_count": null,
      "outputs": []
    },
    {
      "cell_type": "markdown",
      "metadata": {
        "id": "loZWWIVYFlEN"
      },
      "source": [
        "## Tendo uma visão geral da base de dados\n",
        "\n",
        "Um comando muito útil para avaliar um Dataframe é o <code>.describe()</code>, que irá calcular os quartis, valores máximo, mínimo, a média e o desvio padrão. Por padrão esse método é aplcado somente para valores numéricos."
      ]
    },
    {
      "cell_type": "code",
      "metadata": {
        "id": "NJ5Mxw2XFhRa"
      },
      "source": [
        "df.describe()"
      ],
      "execution_count": null,
      "outputs": []
    },
    {
      "cell_type": "markdown",
      "metadata": {
        "id": "hBXWkjebGgl6"
      },
      "source": [
        "## Fazendo Filtros\n",
        "\n",
        "Tem alguns jeitos de selecionar subconjuntos, podemos escolher todas as corridas com o status **rider cancel** utilizando o comando abaixo:"
      ]
    },
    {
      "cell_type": "markdown",
      "metadata": {
        "id": "zD78uFGzG4rL"
      },
      "source": [
        " ### Indexação booleana"
      ]
    },
    {
      "cell_type": "markdown",
      "metadata": {
        "id": "uwpyDgfXJcvA"
      },
      "source": [
        "- Vamos selecionar todos os registros da base de dados que sigam os seguintes critérios:\n",
        "  - <code>end_state = 'rider cancel'</code> "
      ]
    },
    {
      "cell_type": "code",
      "metadata": {
        "id": "cGT6YOqoJb1w"
      },
      "source": [
        "# Indexação booleana (igual a que tinhamos com os arrays)\n",
        "\n",
        "df[df['end_state']=='rider cancel'].head()"
      ],
      "execution_count": null,
      "outputs": []
    },
    {
      "cell_type": "markdown",
      "metadata": {
        "id": "pKWuOYEhHLQA"
      },
      "source": [
        "- Vamos limitar ainda mais a nossa seleção. Vamos selecionar todos os registros da base de dados que sigam os seguintes critérios:\n",
        "  - <code>end_state = 'rider cancel'</code> \n",
        "  - <code>source = 'Android'</code>"
      ]
    },
    {
      "cell_type": "code",
      "metadata": {
        "id": "dzB_kJnfFwBG"
      },
      "source": [
        "df[(df['end_state']=='rider cancel') & (df['source']=='Android')].head()"
      ],
      "execution_count": null,
      "outputs": []
    },
    {
      "cell_type": "markdown",
      "metadata": {
        "id": "B-gShbXzHIUW"
      },
      "source": [
        " ### Query\n",
        "\n",
        " Também podemos filtrar a base de dados por meio do método <code>.query()</code>\n",
        "\n",
        " Observação: As queries em dataframes se assemelham com o que conhecemos das queries feitas em bancos de dados SQL."
      ]
    },
    {
      "cell_type": "markdown",
      "metadata": {
        "id": "mCyFijLNJvem"
      },
      "source": [
        "- Vamos selecionar todos os registros da base de dados que sigam os seguintes critérios:\n",
        "  - <code>end_state = 'rider cancel'</code> "
      ]
    },
    {
      "cell_type": "code",
      "metadata": {
        "id": "eXqDvIaRJwZa"
      },
      "source": [
        "df.query('end_state==\"rider cancel\"')"
      ],
      "execution_count": null,
      "outputs": []
    },
    {
      "cell_type": "markdown",
      "metadata": {
        "id": "mh_YOng2Jw9b"
      },
      "source": [
        "- Vamos limitar ainda mais a nossa seleção. Vamos selecionar todos os registros da base de dados que sigam os seguintes critérios:\n",
        "  - <code>end_state = 'rider cancel'</code> \n",
        "  - <code>source = 'Android'</code>"
      ]
    },
    {
      "cell_type": "code",
      "metadata": {
        "id": "iedqCV38G09h"
      },
      "source": [
        "df.query('end_state==\"rider cancel\" & source==\"Android\"')"
      ],
      "execution_count": null,
      "outputs": []
    },
    {
      "cell_type": "markdown",
      "metadata": {
        "id": "hOL-OujRIrii"
      },
      "source": [
        "- **Algumas observações importantes**\n",
        "\n",
        "  - Reparem que a query foi feita por meio de uma string onde passamos os nomes das colunas e os valores correspondentes. \n",
        "  - Para colocar uma string dentro da outra reparem na utilização de dois tipos de string distintos. A sting da pesquisa utilizando aspas simples e o valor específico da coluna entre aspas duplas. "
      ]
    },
    {
      "cell_type": "markdown",
      "metadata": {
        "id": "JiTWL9DyJ_MQ"
      },
      "source": [
        "## Avaliando o tamanho dos DataFrames e Series\n",
        "\n",
        "Para sabermos o tamanho de um DataFrame usamos o comando <code>.shape</code>"
      ]
    },
    {
      "cell_type": "code",
      "metadata": {
        "id": "FL7idEu-IpSC"
      },
      "source": [
        "df.shape"
      ],
      "execution_count": null,
      "outputs": []
    },
    {
      "cell_type": "markdown",
      "metadata": {
        "id": "ImRmSZBpq4m6"
      },
      "source": [
        "## Visualizando Categorias\n",
        "\n",
        "É bastante comum na ciência de dados se classificar váriaveis em:\n",
        "\n",
        "1. Categóricas (baixa variabilidade)\n",
        "2. Contínuas (grande variabilidade)\n",
        "\n",
        "Uma forma muito boa de entender as suas variáveis categóricas é utilizando o comando <code>.nunique()</code>, ele irá te mostrar quantos valores únicos existem para cada coluna."
      ]
    },
    {
      "cell_type": "code",
      "metadata": {
        "id": "3uVZEsnrKGEl"
      },
      "source": [
        "df.nunique()"
      ],
      "execution_count": null,
      "outputs": []
    },
    {
      "cell_type": "markdown",
      "metadata": {
        "id": "rfKveRRhrgE9"
      },
      "source": [
        "Basicamente as três variáveis categóricas com pouca variabilidade que temos são: *source*, *driver_score*, *rider_score*, *end_state*, *start_type* e *icon*.\n",
        "\n",
        "\n",
        "Vamos trabalhar com as avaliações dos motoristas e dos usuários. Vamos criar uma nova coluna seguindo os seguintes critérios.\n",
        "\n",
        "  - **nan**: Não avaliado\n",
        "  - **1**: Muito ruim\n",
        "  - **2**: Ruim\n",
        "  - **3**: Regular\n",
        "  - **4**: Bom \n",
        "  - **5**: Muito bom\n",
        "\n",
        "Vamos criar duas novas colunas <code>driver_class</code> e <code>rider_class</code> com as classificações segundo os critérios apresentados anteriormente. Para isso, vamos entender como criar novas colunas. Basta passar como index o novo nome da coluna e atribuir um valor a essa coluna. \n",
        "\n",
        "Vamos criar uma coluna <code>aux</code> para testar e atribuir o valor 0 a todas as linhas dessa oluna nova."
      ]
    },
    {
      "cell_type": "code",
      "metadata": {
        "id": "ZVssLUhmSP2-"
      },
      "source": [
        "df['aux'] = 0\n",
        "df.head()"
      ],
      "execution_count": null,
      "outputs": []
    },
    {
      "cell_type": "markdown",
      "metadata": {
        "id": "HW68bd0MV9KF"
      },
      "source": [
        "- Reparem que o valor 0 foi atribuido a todos os registros da base de dados.\n",
        "\n",
        "Porém, o mais interessante é que podemos atribuir valores com base em informações decorrentes de outras colunas ou de operações matemáticas e/ou operacionais.\n",
        "\n",
        "Vamos então categorizar com base as classes informadas anteriormente.\n",
        "\n",
        "Antes vamos verificar quais valores existem nas colunas de interesse utilizando o método <code>.unique()</code>."
      ]
    },
    {
      "cell_type": "code",
      "metadata": {
        "id": "CRl2-PbkV8ah"
      },
      "source": [
        "df['driver_score'].unique()"
      ],
      "execution_count": null,
      "outputs": []
    },
    {
      "cell_type": "code",
      "metadata": {
        "id": "IKGi9J-BWyxt"
      },
      "source": [
        "df['rider_score'].unique()"
      ],
      "execution_count": null,
      "outputs": []
    },
    {
      "cell_type": "markdown",
      "metadata": {
        "id": "Oee8C9vgXAzs"
      },
      "source": [
        "- Reparem que temos valores do tipo **NaN** presentes nessa coluna. Para categorizar vamos transformar esses valores **NaN** em 0 utilizando o método <code>.fillna(val)</code>. Sendo val o valor a ser substituído."
      ]
    },
    {
      "cell_type": "code",
      "metadata": {
        "id": "LfwgdBo_WwyT"
      },
      "source": [
        "df['rider_score'] = df['rider_score'].fillna(0)"
      ],
      "execution_count": null,
      "outputs": []
    },
    {
      "cell_type": "code",
      "metadata": {
        "id": "P9mtKmevU9Gg"
      },
      "source": [
        "df['driver_score'] = df['driver_score'].fillna(0)"
      ],
      "execution_count": null,
      "outputs": []
    },
    {
      "cell_type": "markdown",
      "metadata": {
        "id": "JWOL8oLiXeHI"
      },
      "source": [
        "- Aplicando a função <code>.unique()</code> novamente."
      ]
    },
    {
      "cell_type": "code",
      "metadata": {
        "id": "VH7H6H1XXb3P"
      },
      "source": [
        "df['driver_score'].unique()"
      ],
      "execution_count": null,
      "outputs": []
    },
    {
      "cell_type": "code",
      "metadata": {
        "id": "VXLSMfkkXka9"
      },
      "source": [
        "df['rider_score'].unique()"
      ],
      "execution_count": null,
      "outputs": []
    },
    {
      "cell_type": "markdown",
      "metadata": {
        "id": "WVMMNA_MYG4z"
      },
      "source": [
        "- Vamos verificar agora como podemos criar as nossas novas colunas com as classificações categóricas utilizando a função <code>cut()</code> da bilbioteca pandas. Primeiramente teremos que criar os nossos ranges e os labels respectivos.\n",
        "\n",
        "O pd.cut classifica df['rider_score'] e df['driver_score'] conforme ranges, fornecendo como saída as labels."
      ]
    },
    {
      "cell_type": "code",
      "metadata": {
        "id": "jNZTgjRLT4an"
      },
      "source": [
        "labels = ['Não avaliado','Muito Ruim','Ruim','Regular','Bom','Muito Bom']\n",
        "bins = [-1,0,1,2,3,4,5]"
      ],
      "execution_count": null,
      "outputs": []
    },
    {
      "cell_type": "code",
      "metadata": {
        "id": "AGTzUX1YcS3E"
      },
      "source": [
        "df['driver_class'] = pd.cut(x=df['driver_score'], bins=bins, labels=labels)"
      ],
      "execution_count": null,
      "outputs": []
    },
    {
      "cell_type": "code",
      "metadata": {
        "id": "eUYfyKgGY9ig"
      },
      "source": [
        "df['rider_class'] = pd.cut(x=df['rider_score'], bins=bins, labels=labels)"
      ],
      "execution_count": null,
      "outputs": []
    },
    {
      "cell_type": "markdown",
      "metadata": {
        "id": "n_6kbDHBYjFy"
      },
      "source": [
        "- A lista de ranges teve que começar em -1 e não em zero, pois o limite inferior do intervalo não faz parte dele, assim ]-1,0] significa que vai pegar tudo que está entre -1 e 0, inclusive o 0."
      ]
    },
    {
      "cell_type": "code",
      "metadata": {
        "id": "MAKGCtVvRqfC"
      },
      "source": [
        "df.head(10)[['rider_score','driver_score','rider_class','driver_class','aux']].T"
      ],
      "execution_count": null,
      "outputs": []
    },
    {
      "cell_type": "markdown",
      "metadata": {
        "id": "InAPXOADZTVB"
      },
      "source": [
        "## Deletando colunas\n",
        "A coluna <code>aux</code> é dispensável dentro da nossa base de dados, foi criada apenas para avaliar uma operação possível, então podemos deletá-la. E para isso podemos utilizar o método <code>.drop()</code>. "
      ]
    },
    {
      "cell_type": "code",
      "metadata": {
        "id": "Gg7zptY_R5dC"
      },
      "source": [
        "df.drop('aux',axis=1)"
      ],
      "execution_count": null,
      "outputs": []
    },
    {
      "cell_type": "markdown",
      "metadata": {
        "id": "KvoNAO2MZvMS"
      },
      "source": [
        "Reparem que a coluna <code>aux</code> foi deletada. Porém vamos avaliar as 5 primeiras linhas do nosso dataframe novamente.\n"
      ]
    },
    {
      "cell_type": "code",
      "metadata": {
        "id": "a1sSJ1xSZtOX"
      },
      "source": [
        "df.head()"
      ],
      "execution_count": null,
      "outputs": []
    },
    {
      "cell_type": "markdown",
      "metadata": {
        "id": "XdokE2ZeZ4FF"
      },
      "source": [
        "Podemos reparar que a coluna <code>aux</code> continua existindo dentro da nossa base de dados. Podemos adotar duas estratégias para tornar essa transformação permanente:     \n",
        "\n",
        "1. Sobrescrever a variável\n",
        "  <code>df = df.drop('aux',axis=1)</code>\n",
        "2. Acrescentar um parâmetro auxiliar dentro do método <code>.drop()</code>\n",
        "  <code>df.drop('aux', axis=1, inplace=True)</code>\n",
        "\n",
        "- Ambas as operações vão devolver o mesmo resultado como resposta."
      ]
    },
    {
      "cell_type": "code",
      "metadata": {
        "id": "77mBNwaCZ3eQ"
      },
      "source": [
        "df = df.drop('aux', axis=1)"
      ],
      "execution_count": null,
      "outputs": []
    },
    {
      "cell_type": "code",
      "metadata": {
        "id": "sOTzeSoMa5ow"
      },
      "source": [
        "df.head()"
      ],
      "execution_count": null,
      "outputs": []
    },
    {
      "cell_type": "code",
      "metadata": {
        "id": "ojEoHED0a0w9"
      },
      "source": [
        "# Criando novamente a coluna aux, para usar o inplace=True\n",
        "df['aux'] = 0 \n",
        "df.head(2)"
      ],
      "execution_count": null,
      "outputs": []
    },
    {
      "cell_type": "code",
      "metadata": {
        "id": "cEIwtyxOa4N3"
      },
      "source": [
        "df.drop('aux', axis=1, inplace=True)"
      ],
      "execution_count": null,
      "outputs": []
    },
    {
      "cell_type": "code",
      "metadata": {
        "id": "G-6wgNDnbDCS"
      },
      "source": [
        "df.head()"
      ],
      "execution_count": null,
      "outputs": []
    },
    {
      "cell_type": "code",
      "metadata": {
        "id": "J1UUFghabDse"
      },
      "source": [
        ""
      ],
      "execution_count": null,
      "outputs": []
    }
  ]
}