{
 "cells": [
  {
   "cell_type": "markdown",
   "metadata": {
    "id": "wy_9INHEImAY"
   },
   "source": [
    "<img src=\"https://github.com/jupotratz/Python_BI_Master/blob/main/Turmas/2021.3/Imagens/sep.png?raw=true\"  width=1000 height=125 />"
   ]
  },
  {
   "cell_type": "markdown",
   "metadata": {
    "id": "EDTh4uzNIp-B"
   },
   "source": [
    "# Professoras\n",
    "\n",
    " - Amanda Lemette \n",
    "\t - prof.amanda@ica.ele.puc-rio.br\n",
    "\t - [Linkedin](https://www.linkedin.com/in/amanda-lemette-brand%C3%A3o-83280918b)\n",
    "   - [Youtube](https://www.youtube.com/c/AmandaLemette/featured)\n",
    "   \n",
    " - Júlia Potratz\n",
    "\t - prof.julia@ica.ele.puc-rio.br\n",
    "\t - [Linkedin](https://www.linkedin.com/in/julia-potratz)\n",
    "     \n",
    "# Material \n",
    "\n",
    "Repositório no GitHub: [Python_BI_Master](https://github.com/jupotratz/Python_BI_Master)\n"
   ]
  },
  {
   "cell_type": "markdown",
   "metadata": {
    "id": "Koov13X9IsDv"
   },
   "source": [
    "# Talk 6\n",
    "\n",
    "Esse talk será dado no dia 07/11/2021.\n",
    "\n",
    "- **Plano de aula:**\n",
    "  - Dicionários\n",
    "  \n",
    "  - Criação e manipulação de funções\n",
    "      - Como olhar a documentação de uma função (entender como se utiliza uma função criada por outra pessoa)\n",
    "      - Montando a sua própria biblioteca (funções simples)\n",
    "\n",
    "\n"
   ]
  },
  {
   "cell_type": "markdown",
   "metadata": {},
   "source": [
    "<img src=\"https://github.com/jupotratz/Python_BI_Master/blob/main/Turmas/2021.3/Imagens/sep.png?raw=true\"  width=1000 height=125 />"
   ]
  },
  {
   "cell_type": "markdown",
   "metadata": {},
   "source": [
    "# Problema\n",
    "\n",
    "<img src=\"https://github.com/jupotratz/Python_BI_Master/blob/main/Turmas/2021.3/Imagens/preco.png?raw=true\" width=100>\n",
    "\n",
    "Uma rede de hortifrut começou a crescer rapidamente dentro da cidade do Rio de Janeiro e está precisando atualizar o sistema que guarda as informações dos produtos que vendem de maneira mais organizada e eficiente. Um grande problema que estava acontecendo é que em cada uma das filiais ao cadastrar os produtos, cada funcionário cadastrava o nome do produto (independente da marca), a quantidade em estoque e o preço (unitário ou em kg). Isso começou a trazer alguns prejuízos para o dono da rede então ele decidiu procurar uma forma melhor de fazer isso. \n",
    "\n",
    "**Objetivo:** criar um sistema de cadastro de produtos, que contenha as seguintes informações:\n",
    "- Qual o produto\n",
    "- Valor (preço da unidade ou preço do kg)\n",
    "- Quantidade em estoque\n",
    "\n",
    "\n",
    "## Perguntas\n",
    "\n",
    "1. Como poderíamos resolver esse problema do dono da rede de hortifrut com o conhecimento adquirido até agora?\n",
    "2. Será que teria alguma outra estrutura de dados dentro do python (básico) que ajudaria resolver melhor esse problema?\n"
   ]
  },
  {
   "cell_type": "markdown",
   "metadata": {},
   "source": [
    "<img src=\"https://github.com/jupotratz/Python_BI_Master/blob/main/Turmas/2021.3/Imagens/sep.png?raw=true\"  width=1000 height=125 />"
   ]
  },
  {
   "cell_type": "markdown",
   "metadata": {},
   "source": [
    "# Dicionários\n",
    "\n",
    "Os dicionários são estruturas de dados que implementam mapeamentos. Eles são coleções de **itens** e seus elementos são armazenados de forma **não ordenada**,  contendo sempre uma **chave** e um **valor**:\n",
    "\n",
    "- A **chave** vai servir para indexar (posicionar) determinado elemento no dicionário.\n",
    "- O **valor** pode conter qualquer outro elemento ou tipo de dado que será representrado pela chave (string, numeros, listas, tuplas, arrays, dataframes, outros dicionários, etc)\n",
    "\n",
    "- As <code>chave</code>s de um dicionário são **únicas**, ou seja, não se repetem dentro de um dicionário ja criado.\n",
    "\n",
    "## Criando um dicionário:\n",
    "\n",
    "<img src=\"https://github.com/jupotratz/Python_BI_Master/blob/main/Turmas/2021.3/Imagens/dict_create_2.JPG?raw=true\" width=650>\n",
    "\n",
    "#### O modo mais simples de criar um dicionário:"
   ]
  },
  {
   "cell_type": "code",
   "execution_count": null,
   "metadata": {},
   "outputs": [],
   "source": [
    "dicionario = {'key_1': 1, 'key_2':  'Hello World!', 'key_3': [1, 2, 3]}"
   ]
  },
  {
   "cell_type": "code",
   "execution_count": null,
   "metadata": {},
   "outputs": [],
   "source": [
    "print(dicionario)"
   ]
  },
  {
   "cell_type": "code",
   "execution_count": null,
   "metadata": {},
   "outputs": [],
   "source": [
    "type(dicionario)"
   ]
  },
  {
   "cell_type": "markdown",
   "metadata": {},
   "source": [
    "#### Também podemos utilizar a função dict do próprio Python, passando as chaves e valores como parâmetros:"
   ]
  },
  {
   "cell_type": "code",
   "execution_count": null,
   "metadata": {},
   "outputs": [],
   "source": [
    "dicionario = dict(zip(['key_1', 'key_2', 'key_3'], [1, 'Hello World!', [1, 2, 3]]))"
   ]
  },
  {
   "cell_type": "code",
   "execution_count": null,
   "metadata": {},
   "outputs": [],
   "source": [
    "print(dicionario)"
   ]
  },
  {
   "cell_type": "code",
   "execution_count": null,
   "metadata": {},
   "outputs": [],
   "source": [
    "type(dicionario)"
   ]
  },
  {
   "cell_type": "markdown",
   "metadata": {},
   "source": [
    "#### Utilizando uma lista de tuplas com itens simbolizando chave e valor em um objeto dict:"
   ]
  },
  {
   "cell_type": "code",
   "execution_count": null,
   "metadata": {},
   "outputs": [],
   "source": [
    "dicionario = dict([('key_1', 1), ('key_2', 'Hello World!'), ('key_3', [1, 2, 3])])"
   ]
  },
  {
   "cell_type": "code",
   "execution_count": null,
   "metadata": {},
   "outputs": [],
   "source": [
    "print(dicionario)"
   ]
  },
  {
   "cell_type": "code",
   "execution_count": null,
   "metadata": {},
   "outputs": [],
   "source": [
    "type(dicionario)"
   ]
  },
  {
   "cell_type": "markdown",
   "metadata": {},
   "source": [
    "#### Observação\n",
    "\n",
    "Existem outras formas possíveis, vocês podem verificar clicando [aqui](https://pythonacademy.com.br/blog/dicts-ou-dicionarios-no-python) \n",
    "\n",
    "## Acessando itens de um dicionário\n",
    "\n",
    "Diferente das listas e das tuplas, um dicionário não é um elemento indexado, portanto o acesso às suas informações se da de uma maneira um pouco diferente do que estamos acostumados até agora. Para acessar o valor de um dicionário nós podemos utilizar as chaves contidas no dicionário.\n",
    "\n",
    "#### Vamos tentar acessar alguma informação do dicionário por um index numério (que não seja nenhum valor de chave do nosso dicionário)"
   ]
  },
  {
   "cell_type": "code",
   "execution_count": null,
   "metadata": {},
   "outputs": [],
   "source": [
    "dicionario = {'key_1': 1,\\\n",
    "              'key_2':  'Hello World!',\\\n",
    "              'key_3': [1, 2, 3]}"
   ]
  },
  {
   "cell_type": "code",
   "execution_count": null,
   "metadata": {},
   "outputs": [],
   "source": [
    "dicionario[0]"
   ]
  },
  {
   "cell_type": "markdown",
   "metadata": {},
   "source": [
    "Podemos reparar que aconteceu um erro, pois um dicionário ele não é indexado como uma lista ou como uma tupla. Ele tem uma estrutura de **chave** e **valor** que deve ser respeitada. Mas e se tivessemos uma chave do dicionário igual a zero, o que aconteceria?"
   ]
  },
  {
   "cell_type": "code",
   "execution_count": null,
   "metadata": {},
   "outputs": [],
   "source": [
    "dicionario = {'key_1':1,\\\n",
    "              'key_2': 'Hello World!',\\\n",
    "              'key_3':[1, 2, 3],\\\n",
    "              0:(10,9,8)}"
   ]
  },
  {
   "cell_type": "code",
   "execution_count": null,
   "metadata": {},
   "outputs": [],
   "source": [
    "dicionario[0]"
   ]
  },
  {
   "cell_type": "markdown",
   "metadata": {},
   "source": [
    "Nesse caso conseguimos alguma informação do nosso dicionário, **que informação foi essa que nós conseguimos?**\n",
    "\n",
    "- Valor correspondente a aquela chave específica\n",
    "\n",
    "Sendo assim, podemos concluir que para acessar a informação do <code>valor</code> contido em uma determinada chave do dicionário devemos passar como <code>index</code> o nome da <code>chave</code> correspondente."
   ]
  },
  {
   "cell_type": "code",
   "execution_count": null,
   "metadata": {},
   "outputs": [],
   "source": [
    "dicionario['key_1']"
   ]
  },
  {
   "cell_type": "code",
   "execution_count": null,
   "metadata": {},
   "outputs": [],
   "source": [
    "dicionario['key_2']"
   ]
  },
  {
   "cell_type": "code",
   "execution_count": null,
   "metadata": {},
   "outputs": [],
   "source": [
    "dicionario['key_3']"
   ]
  },
  {
   "cell_type": "markdown",
   "metadata": {},
   "source": [
    "- Também poderíamos utilizar o método <code>.get()</code> passando como argumento da função o nome da chave."
   ]
  },
  {
   "cell_type": "code",
   "execution_count": null,
   "metadata": {},
   "outputs": [],
   "source": [
    "dicionario.get('key_3')"
   ]
  },
  {
   "cell_type": "markdown",
   "metadata": {},
   "source": [
    "### Problema\n",
    "\n",
    "E se eu leio um dicionário de algum outro lugar e não conheço as informações das chaves para acessar os seus valores correspondentes, o que podemos fazer a respeito?\n",
    "\n",
    "Existem dois métodos específicos que nos permitem fazer uma vizualização rápida ddos dados contidos eum um dicionário:\n",
    "\n",
    "- <code>.keys()</code>: fornece as informações das chaves contidas em um dicionário\n",
    "- <code>.values()</code>: fornece as informações dos valores contidos em um dicinário."
   ]
  },
  {
   "cell_type": "code",
   "execution_count": null,
   "metadata": {},
   "outputs": [],
   "source": [
    "dicionario = {'key_1':1,\\\n",
    "              'key_2': 'Hello World!',\\\n",
    "              'key_3':[1, 2, 3],\\\n",
    "              0:(10,9,8)}"
   ]
  },
  {
   "cell_type": "markdown",
   "metadata": {},
   "source": [
    "<code>.keys()</code>"
   ]
  },
  {
   "cell_type": "code",
   "execution_count": null,
   "metadata": {},
   "outputs": [],
   "source": [
    "dicionario.keys()"
   ]
  },
  {
   "cell_type": "markdown",
   "metadata": {},
   "source": [
    "<code>.values()</code>"
   ]
  },
  {
   "cell_type": "code",
   "execution_count": null,
   "metadata": {},
   "outputs": [],
   "source": [
    "dicionario.values()"
   ]
  },
  {
   "cell_type": "markdown",
   "metadata": {},
   "source": [
    "#### Será que teria alguma forma fácil de pegar simultâneamente o nome da chave o o valor atribuído a ele dentro de um dicionário?\n",
    "\n",
    "- Similar ao que vimos com o <code>enumerate()</code>\n",
    "\n",
    "A resposta é **simmmmmm....**\n",
    "\n",
    "Podemos utilizar um método de dicionário chamado <code>.items()</code>, vamos ver o que esse método retorna...\n"
   ]
  },
  {
   "cell_type": "code",
   "execution_count": null,
   "metadata": {},
   "outputs": [],
   "source": [
    "dicionario = {'key_1':1,\\\n",
    "              'key_2': 'Hello World!',\\\n",
    "              'key_3':[1, 2, 3],\\\n",
    "              0:(10,9,8)}"
   ]
  },
  {
   "cell_type": "code",
   "execution_count": null,
   "metadata": {},
   "outputs": [],
   "source": [
    "dicionario.items()"
   ]
  },
  {
   "cell_type": "markdown",
   "metadata": {},
   "source": [
    "O método <code>.items()</code> atrelado ao tipo de dados *dicionário* do Python retornou uma lista de tuplas, onde cada tupla contém um par *chave*:*valor*. Se ele retornou um conjunto de valores, será que a gente poderia iterar isso com uma repetição do tipo **for**?"
   ]
  },
  {
   "cell_type": "code",
   "execution_count": null,
   "metadata": {},
   "outputs": [],
   "source": [
    "for key, value in dicionario.items():\n",
    "    print(f'{key} : {value}')"
   ]
  },
  {
   "cell_type": "markdown",
   "metadata": {},
   "source": [
    "## Adicionar e/ou atualizar itens de um dicionário\n",
    "\n",
    "- A maneira mais simples de adicionar um item a um dicionario é criar uma nova chave e atribuir um valor. Assim:"
   ]
  },
  {
   "cell_type": "code",
   "execution_count": null,
   "metadata": {},
   "outputs": [],
   "source": [
    "dicionario = {'nome': 'Júlia'}\n",
    "\n",
    "dicionario['idade'] = 25\n",
    "\n",
    "print(dicionario)"
   ]
  },
  {
   "cell_type": "markdown",
   "metadata": {},
   "source": [
    "- Quando usamos o método <code>.update()</code> tanto podemos criar, como atualizar dados:"
   ]
  },
  {
   "cell_type": "code",
   "execution_count": null,
   "metadata": {},
   "outputs": [],
   "source": [
    "dicionario = {'nome': 'Júlia'}"
   ]
  },
  {
   "cell_type": "markdown",
   "metadata": {},
   "source": [
    "- Atualiza o elemento de chave 'nome'"
   ]
  },
  {
   "cell_type": "code",
   "execution_count": null,
   "metadata": {},
   "outputs": [],
   "source": [
    "dicionario.update({'nome':'Amanda'})"
   ]
  },
  {
   "cell_type": "markdown",
   "metadata": {},
   "source": [
    "- Cria os elementos de chave 'idade' e 'tamanho'"
   ]
  },
  {
   "cell_type": "code",
   "execution_count": null,
   "metadata": {},
   "outputs": [],
   "source": [
    "print(dicionario)"
   ]
  },
  {
   "cell_type": "code",
   "execution_count": null,
   "metadata": {},
   "outputs": [],
   "source": [
    "dicionario.update({'idade':30})"
   ]
  },
  {
   "cell_type": "code",
   "execution_count": null,
   "metadata": {},
   "outputs": [],
   "source": [
    "print(dicionario)"
   ]
  },
  {
   "cell_type": "code",
   "execution_count": null,
   "metadata": {},
   "outputs": [],
   "source": [
    "dicionario.update(tamanho=1.71)"
   ]
  },
  {
   "cell_type": "code",
   "execution_count": null,
   "metadata": {},
   "outputs": [],
   "source": [
    "print(dicionario)"
   ]
  },
  {
   "cell_type": "markdown",
   "metadata": {},
   "source": [
    "## Outros métodos de dicionário\n",
    "\n",
    "- <code>.pop()</code>:  remove o item cujo a chave foi especificada.\n",
    "- <code>.popitem()</code>:  remove o último elemento do dicionário.\n",
    "- <code>.clear()</code>: limpa o dicionário.\n",
    "- <code>.copy()</code>:  copia o dicionário.\n",
    "\n",
    "Mais informações sobre dicionários podem ser encontradas na publicação [Dicionários no Python](https://pythonacademy.com.br/blog/dicts-ou-dicionarios-no-python) do Python Academy."
   ]
  },
  {
   "cell_type": "markdown",
   "metadata": {
    "id": "wy_9INHEImAY"
   },
   "source": [
    "<img src=\"https://github.com/jupotratz/Python_BI_Master/blob/main/Turmas/2021.3/Imagens/sep.png?raw=true\"  width=1000 height=125 />"
   ]
  },
  {
   "cell_type": "markdown",
   "metadata": {
    "id": "yA1cJ7umkkkS"
   },
   "source": [
    "## Funções que estão na raíz do Python"
   ]
  },
  {
   "cell_type": "markdown",
   "metadata": {
    "id": "bL8hOnA7kxba"
   },
   "source": [
    "Em Python, já podemos fazer uso de diversas funções que são muito úteis sem precisar importar nenhuma biblioteca, entre essas funções temos:\n",
    "\n",
    "*   print -> imprime na tela \n",
    "*   input -> dialoga com o usuário\n",
    "*   int -> transforma variáveis em números inteiros\n",
    "*   float -> transforma variáveis em números reais\n",
    "*   str -> transforma variáveis em strings\n",
    "*   round -> arredonda números decimais\n",
    "*   help -> fornece as informações sobre funções\n",
    "*   type -> fornece o tipo da variável\n",
    "\n",
    "Além das funções mencionadas, temos funções também criadas para serem aplicadas a listas, que são:\n",
    "\n",
    "*   len -> calcula o comprimento de uma lista\n",
    "*   sum -> soma os elementos de uma lista\n",
    "*   prod -> produtório dos elementos de uma lista\n",
    "*   max -> acha o maior elemento da lista\n",
    "*   min -> acha o menor elemento da lista\n",
    "\n",
    "Esses são apenas alguns exemplos de funções, mas existem muito mais! "
   ]
  },
  {
   "cell_type": "markdown",
   "metadata": {
    "id": "wM7iVvxHoFRh"
   },
   "source": [
    "<center><img src=\"https://github.com/jupotratz/Python_BI_Master/blob/main/Turmas/2021.3/Imagens/goofy-thinking.png?raw=true\"  width=100 height=205 />"
   ]
  },
  {
   "cell_type": "markdown",
   "metadata": {
    "id": "Zonr0RRVo1mD"
   },
   "source": [
    "Fazendo uso de algumas das funções mencionadas, desenvolva um programa que fornece:\n",
    "- o número total de elementos da lista\n",
    "- o somatório dos elementos da lista\n",
    "- o produtório dos elementos da lista\n",
    "- identifica os valores mínimo e máximo armazenados na lista \n",
    "- a média da lista\n",
    "- a moda da lista \n",
    "\n",
    "Para a resolução dessa atividade, considere a seguinte lista:"
   ]
  },
  {
   "cell_type": "code",
   "execution_count": 45,
   "metadata": {
    "id": "BF6HHLS5pkmi"
   },
   "outputs": [],
   "source": [
    "lista = [100,2,3,100,3,4,5,67,92,3,523,45,12,0,94,2,3,4,5,6,2,5,46,76,10,11,100,102,34,542,523,75,43,3,2,643,22,3,1,42,10,23,45,94,2,5,78,102,103,78,96,33,41,36,15,16,10,9]"
   ]
  },
  {
   "cell_type": "code",
   "execution_count": 36,
   "metadata": {
    "colab": {
     "base_uri": "https://localhost:8080/"
    },
    "id": "Sx0rwPfOpy2M",
    "outputId": "1cc2ef22-8467-4a71-c6e6-5375fb1a17b4"
   },
   "outputs": [
    {
     "name": "stdout",
     "output_type": "stream",
     "text": [
      "[100, 2, 3, 100, 3, 4, 5, 67, 92, 3, 523, 45, 12, 0, 94, 2, 3, 4, 5, 6, 2, 5, 46, 76, 10, 11, 100, 102, 34, 542, 523, 75, 43, 3, 2, 643, 22, 3, 1, 42, 10, 23, 45, 94, 2, 5, 78, 102, 103, 78, 96, 33, 41, 36, 15, 16, 10, 9]\n"
     ]
    }
   ],
   "source": [
    "print(lista)"
   ]
  },
  {
   "cell_type": "code",
   "execution_count": null,
   "metadata": {
    "id": "QnVy-d6KqzcM"
   },
   "outputs": [],
   "source": []
  },
  {
   "cell_type": "markdown",
   "metadata": {
    "id": "_i7xhGTokpKW"
   },
   "source": [
    "## Funções pertencentes a bibliotecas"
   ]
  },
  {
   "cell_type": "markdown",
   "metadata": {
    "id": "5voziwjpqgQM"
   },
   "source": [
    "Bom, provavelmente a parte mais difícil do último exercício foi o cálculo da moda, certo?\n",
    "\n",
    "Isso porque tivemos que desenvolver um jeito de achar a moda do conjunto sem fazer uso pronto de uma função. \n",
    "\n",
    "Mas existem bibliotecas em Python que podemos fazer uso que economizam esse nosso tempo de desenvolvimento de código. São diversas bibliotecas disponíveis, é preciso aprender a procurá-las. \n",
    "\n",
    "O que sempre faço é escrever no meu buscador de internet se essa função que pretendo usar já foi criada por alguém. Na maioria das vezes, sim. \n"
   ]
  },
  {
   "cell_type": "markdown",
   "metadata": {
    "id": "h9-UdAnprVd6"
   },
   "source": [
    "E, para a nossa felicidade, alguém já desenvolveu uma função para acharmos a moda de uma lista, vamos conhecê-la."
   ]
  },
  {
   "cell_type": "markdown",
   "metadata": {
    "id": "j8jEMzGFrmTu"
   },
   "source": [
    "Essa função se chama *mode* e se encontra dentro da classe *stats* da biblioteca *scipy*. Vamos dar uma olhada em sua documentação:\n",
    "\n",
    "[documentação da scipy.stats.mode](https://docs.scipy.org/doc/scipy/reference/generated/scipy.stats.mode.html)"
   ]
  },
  {
   "cell_type": "code",
   "execution_count": 37,
   "metadata": {
    "id": "awkjpqzIrtqp"
   },
   "outputs": [],
   "source": [
    "from scipy import stats"
   ]
  },
  {
   "cell_type": "code",
   "execution_count": 38,
   "metadata": {
    "colab": {
     "base_uri": "https://localhost:8080/"
    },
    "id": "ZekQ_M43r4jH",
    "outputId": "29426b5b-b4ab-4d16-b8d8-06355b3e140e"
   },
   "outputs": [
    {
     "data": {
      "text/plain": [
       "ModeResult(mode=array([3]), count=array([6]))"
      ]
     },
     "execution_count": 38,
     "metadata": {},
     "output_type": "execute_result"
    }
   ],
   "source": [
    "stats.mode(lista)"
   ]
  },
  {
   "cell_type": "markdown",
   "metadata": {
    "id": "6qZ4_As6r8Xf"
   },
   "source": [
    "Podemos ver que a função *mode* nos forneceu uma tupla como resposta, essa tupla tem 2 elementos:\n",
    "\n",
    "*   a moda (quem queremos saber)\n",
    "*   quantas vezes a moda aparece em nosso conjunto de dados\n",
    "\n",
    "Para recuperarmos esses valores separadamente, devemos fazer:\n",
    "\n"
   ]
  },
  {
   "cell_type": "code",
   "execution_count": 39,
   "metadata": {
    "colab": {
     "base_uri": "https://localhost:8080/"
    },
    "id": "ReA-x6BQsMu1",
    "outputId": "c222e3a4-192f-4f13-c3a2-e23b9e19b8fa"
   },
   "outputs": [
    {
     "name": "stdout",
     "output_type": "stream",
     "text": [
      "[3]\n",
      "[6]\n"
     ]
    }
   ],
   "source": [
    "moda,repeticoes = stats.mode(lista)\n",
    "print(moda)\n",
    "print(repeticoes)"
   ]
  },
  {
   "cell_type": "markdown",
   "metadata": {
    "id": "wm2wBVPKsnyc"
   },
   "source": [
    "Repare que as duas saídas fornecidas são listas, para recuperar os números fora da lista, fazemos:"
   ]
  },
  {
   "cell_type": "code",
   "execution_count": 44,
   "metadata": {
    "colab": {
     "base_uri": "https://localhost:8080/"
    },
    "id": "_bNCy5YQsnPP",
    "outputId": "eaab6e0e-318e-4a62-eec8-a953a1eb57e4"
   },
   "outputs": [
    {
     "name": "stdout",
     "output_type": "stream",
     "text": [
      "2\n",
      "6\n"
     ]
    }
   ],
   "source": [
    "moda,repeticoes = stats.mode(lista)\n",
    "print(moda[0])\n",
    "print(repeticoes[0])"
   ]
  },
  {
   "cell_type": "markdown",
   "metadata": {
    "id": "pPs_9X3Cs0Hg"
   },
   "source": [
    "Existe outro modo de achar a moda de um conjunto de dados, essa segunda alternativa é por meio da biblioteca *statistics*. \n",
    "\n",
    "Vamos ver a documentação: [documentação de statistics](https://docs.python.org/3/library/statistics.html)"
   ]
  },
  {
   "cell_type": "code",
   "execution_count": 42,
   "metadata": {
    "id": "3PHvhyeasekg"
   },
   "outputs": [],
   "source": [
    "import statistics"
   ]
  },
  {
   "cell_type": "code",
   "execution_count": 46,
   "metadata": {
    "colab": {
     "base_uri": "https://localhost:8080/"
    },
    "id": "jsPf77HcshFG",
    "outputId": "542885a9-22d8-4bb9-8163-ee070c0606f9"
   },
   "outputs": [
    {
     "data": {
      "text/plain": [
       "3"
      ]
     },
     "execution_count": 46,
     "metadata": {},
     "output_type": "execute_result"
    }
   ],
   "source": [
    "statistics.mode(lista)"
   ]
  },
  {
   "cell_type": "markdown",
   "metadata": {
    "id": "HMVgxaACkw2s"
   },
   "source": [
    "Como resposta, ela fornece direto a moda do conjunto. "
   ]
  },
  {
   "cell_type": "markdown",
   "metadata": {
    "id": "W8LXDTvrjXBS"
   },
   "source": [
    "## Funções criadas pelo usuário"
   ]
  },
  {
   "cell_type": "markdown",
   "metadata": {
    "id": "Ii4Ti-PkjayS"
   },
   "source": [
    "Bom, nós já vimos várias funções que existem em Python e que, para usá-las, não precisamos fazer a importação de nenhuma biblioteca. Porém, nós, como usuários, muitas vezes sentimos a necessidade de criarmos funções para facilitar nossa vida."
   ]
  },
  {
   "cell_type": "markdown",
   "metadata": {
    "id": "qL_T95IRjcnX"
   },
   "source": [
    "O Python reconhece funções pela palavra **def**. \n",
    "\n",
    "A sintaxe da função é:\n",
    "```bash\n",
    "def nome_função(variáveis de entrada): --> Não esquecer os dois pontos ao final. \n",
    "    - código aqui linha 1\n",
    "    - código aqui linha 2\n",
    "    - código aqui linha 3\n",
    "    return (variáveis de saída)\n",
    "```\n",
    "Depois de você pressionar o *ENTER* ao final dos :, todo código que estiver com ao menos 4 espaços afastados do *def* fará parte da função declarada. 4 espaços do teclado equivale a 1 TAB (1 identação). \n",
    "\n",
    "A função, se precisar retornar variáveis para o programa principal, termina com o *return* e ao lado do return as variáveis de saída. "
   ]
  },
  {
   "cell_type": "markdown",
   "metadata": {
    "id": "gPaya2Fijh0L"
   },
   "source": [
    "Vamos ver alguns exemplos de funções."
   ]
  },
  {
   "cell_type": "markdown",
   "metadata": {
    "id": "g5tZw3Qtjpnp"
   },
   "source": [
    "### Função menor_dif"
   ]
  },
  {
   "cell_type": "code",
   "execution_count": 17,
   "metadata": {
    "id": "qj38N26Fieps"
   },
   "outputs": [],
   "source": [
    "def menor_dif(a, b, c):\n",
    "    dif1 = abs(a - b)\n",
    "    dif2 = abs(b - c)\n",
    "    dif3 = abs(a - c)\n",
    "    return min(dif1, dif2, dif3)"
   ]
  },
  {
   "cell_type": "markdown",
   "metadata": {
    "id": "8bEHjyPfjzuX"
   },
   "source": [
    "Criamos uma função chamada *menor_dif* que recebe três argumentos, *a*, *b* e *c*.\n",
    "\n",
    "Pode-se notar que a função começou com o cabeçalho introduzido pela palavra-chave *def*. O bloco recuado de código após: é executado quando a função é chamada.\n",
    "\n",
    "*return* é outra palavra-chave associada exclusivamente a funções. Quando o Python encontra uma instrução de retorno, ele sai da função imediatamente e passa o valor do lado direito para o contexto de chamada.\n",
    "\n",
    "Está claro o que *menor_dif()* faz? Se não tivermos certeza, podemos sempre experimentar com alguns exemplos:"
   ]
  },
  {
   "cell_type": "code",
   "execution_count": 18,
   "metadata": {
    "colab": {
     "base_uri": "https://localhost:8080/"
    },
    "id": "o_aQ7WMSj0JQ",
    "outputId": "5b071b52-c67f-4c2c-a882-4bc8629425f5"
   },
   "outputs": [
    {
     "data": {
      "text/plain": [
       "9"
      ]
     },
     "execution_count": 18,
     "metadata": {},
     "output_type": "execute_result"
    }
   ],
   "source": [
    "menor_dif(1, 10, 100)"
   ]
  },
  {
   "cell_type": "code",
   "execution_count": 19,
   "metadata": {
    "colab": {
     "base_uri": "https://localhost:8080/"
    },
    "id": "aBx8il3Zj2JZ",
    "outputId": "f8c82074-a83d-4d00-d6f2-a87d584a3be0"
   },
   "outputs": [
    {
     "data": {
      "text/plain": [
       "0"
      ]
     },
     "execution_count": 19,
     "metadata": {},
     "output_type": "execute_result"
    }
   ],
   "source": [
    "menor_dif(1, 10, 10)"
   ]
  },
  {
   "cell_type": "code",
   "execution_count": 20,
   "metadata": {
    "colab": {
     "base_uri": "https://localhost:8080/"
    },
    "id": "4wkoYBRGj3X4",
    "outputId": "b99e1a58-b0e9-4ff3-c9b3-df31cc8a6c15"
   },
   "outputs": [
    {
     "data": {
      "text/plain": [
       "1"
      ]
     },
     "execution_count": 20,
     "metadata": {},
     "output_type": "execute_result"
    }
   ],
   "source": [
    "menor_dif(5, 6, 7)"
   ]
  },
  {
   "cell_type": "code",
   "execution_count": 21,
   "metadata": {
    "colab": {
     "base_uri": "https://localhost:8080/"
    },
    "id": "2G0fVVCmj40x",
    "outputId": "f1d98aa1-ae92-42ea-900c-2ad4478af3b3"
   },
   "outputs": [
    {
     "name": "stdout",
     "output_type": "stream",
     "text": [
      "Help on function menor_dif in module __main__:\n",
      "\n",
      "menor_dif(a, b, c)\n",
      "\n"
     ]
    }
   ],
   "source": [
    "help(menor_dif)"
   ]
  },
  {
   "cell_type": "markdown",
   "metadata": {
    "id": "yIt1pSuNj9E3"
   },
   "source": [
    "Infelizmente o Python não é inteligente o suficiente para ler o meu código e transformá-lo em uma boa descrição em inglês.\n",
    "No entanto, quando escrevo uma função, posso fornecer uma descrição que é chamada de docstring. Nada mais é do que a documentação da função (descrição dos argumentos, exemplos de resultados, etc)."
   ]
  },
  {
   "cell_type": "code",
   "execution_count": 22,
   "metadata": {
    "id": "8WzR8bqKj6ef"
   },
   "outputs": [],
   "source": [
    "def menor_dif(a, b, c):\n",
    "    '''\n",
    "    Retorna a menor diferença entre dois números quaisquer entre três números a, b e c.\n",
    "    exemplo: \n",
    "    >>> menor_dif(1,10,100):\n",
    "    9\n",
    "    '''\n",
    "    dif1 = abs(a - b)\n",
    "    dif2 = abs(b - c)\n",
    "    dif3 = abs(a - c)\n",
    "    return min(dif1, dif2, dif3)"
   ]
  },
  {
   "cell_type": "code",
   "execution_count": 23,
   "metadata": {
    "colab": {
     "base_uri": "https://localhost:8080/"
    },
    "id": "eWJn_ezFj_Vo",
    "outputId": "1e2dc5b4-c374-473f-cbc1-7e15231e10e6"
   },
   "outputs": [
    {
     "name": "stdout",
     "output_type": "stream",
     "text": [
      "Help on function menor_dif in module __main__:\n",
      "\n",
      "menor_dif(a, b, c)\n",
      "    Retorna a menor diferença entre dois números quaisquer entre três números a, b e c.\n",
      "    exemplo: \n",
      "    >>> menor_dif(1,10,100):\n",
      "    9\n",
      "\n"
     ]
    }
   ],
   "source": [
    "help(menor_dif)"
   ]
  },
  {
   "cell_type": "markdown",
   "metadata": {
    "id": "J1p50Up8kDRm"
   },
   "source": [
    "O help pode sempre ser usado:"
   ]
  },
  {
   "cell_type": "code",
   "execution_count": 25,
   "metadata": {
    "id": "dDliFUA-kGbp"
   },
   "outputs": [],
   "source": [
    "import numpy as np"
   ]
  },
  {
   "cell_type": "code",
   "execution_count": null,
   "metadata": {
    "id": "dlIiEw_ykAvY"
   },
   "outputs": [],
   "source": [
    "help(np.random.randint)"
   ]
  },
  {
   "cell_type": "markdown",
   "metadata": {
    "id": "Fjl8KkwOkXPz"
   },
   "source": [
    "Vamos praticar um pouco... "
   ]
  },
  {
   "cell_type": "markdown",
   "metadata": {
    "id": "fT5_KkUUkaFj"
   },
   "source": [
    "### Exercício 1"
   ]
  },
  {
   "cell_type": "markdown",
   "metadata": {
    "id": "T3o-9Z63kcrj"
   },
   "source": [
    "Crie uma função que recebe uma lista e fornece a sua média. \n",
    "\n",
    "Programe a função sem fazer uso das funções *len* e *sum*. "
   ]
  },
  {
   "cell_type": "code",
   "execution_count": null,
   "metadata": {
    "id": "NDHXcEEFuxB7"
   },
   "outputs": [],
   "source": []
  },
  {
   "cell_type": "markdown",
   "metadata": {
    "id": "GF85a6tKkdNa"
   },
   "source": [
    "### Exercício 2"
   ]
  },
  {
   "cell_type": "markdown",
   "metadata": {
    "id": "J291yhbMkfq1"
   },
   "source": [
    "Crie uma função que recebe um número e fornece como resposta uma lista corresponde à tabuada para esse número. \n",
    "\n",
    "Exemplo:\n",
    "\n",
    "Se a função recebe o número 2, ela irá devolver:\n",
    "\n",
    "```\n",
    "[2,4,6,8,10,12,14,16,18,20]\n",
    "```\n",
    "\n"
   ]
  },
  {
   "cell_type": "code",
   "execution_count": null,
   "metadata": {
    "id": "LNCK9vmmvPIV"
   },
   "outputs": [],
   "source": []
  },
  {
   "cell_type": "markdown",
   "metadata": {
    "id": "Dj8iYq9-vPxL"
   },
   "source": [
    "### Exercício 3"
   ]
  },
  {
   "cell_type": "markdown",
   "metadata": {
    "id": "0fGAj8uuvSlV"
   },
   "source": [
    "Crie uma função que recebe uma lista e retorne duas listas, a primeira contendo todos os números pares da lista de entrada e a segunda lista contendo todos os números ímpares da lista de entrada. "
   ]
  },
  {
   "cell_type": "code",
   "execution_count": null,
   "metadata": {
    "id": "dtiJwjNQwCFR"
   },
   "outputs": [],
   "source": []
  },
  {
   "cell_type": "markdown",
   "metadata": {},
   "source": [
    "### Exercício 4\n",
    "\n",
    "Crie uma fução que faça a conversão de letras minusculas para maiusculas sem utilizar o método de string <code>.upper()</code>"
   ]
  },
  {
   "cell_type": "code",
   "execution_count": null,
   "metadata": {},
   "outputs": [],
   "source": []
  },
  {
   "cell_type": "markdown",
   "metadata": {
    "id": "P9nlDiK9k0p5"
   },
   "source": [
    "#### Como importar uma função criada por você?"
   ]
  },
  {
   "cell_type": "code",
   "execution_count": null,
   "metadata": {
    "id": "vh4YfhfKkE6B"
   },
   "outputs": [],
   "source": []
  },
  {
   "cell_type": "markdown",
   "metadata": {},
   "source": [
    "<img src=\"https://github.com/jupotratz/Python_BI_Master/blob/main/Turmas/2021.3/Imagens/sep.png?raw=true\"  width=1000 height=125 />"
   ]
  },
  {
   "cell_type": "markdown",
   "metadata": {},
   "source": [
    "# Método x Função\n",
    "\n",
    "Um definição mais técnica a respeito disso é o trecho abaixo retirado da [documentação](https://docs.python.org/pt-br/3/tutorial/classes.html#:~:text=Um%20m%C3%A9todo%20%C3%A9%20uma%20fun%C3%A7%C3%A3o,objetos%20tamb%C3%A9m%20podem%20ter%20m%C3%A9todos.) da linguagem:\n",
    "\n",
    "Um **método** é uma função que “pertence” a um objeto instância. (Em Python, o termo método não é aplicado exclusivamente a instâncias de classes definidas pelo usuário: outros tipos de objetos também podem ter métodos. Por exemplo, listas possuem os métodos append, insert, remove, sort, entre outros.\n",
    "\n",
    "Em outras palavras:\n",
    "\n",
    "- Um **método** é uma função que está definida dentro de uma classe, ou seja, irá pertencer a um objeto de instância. \n",
    "- Uma **função** fica fora da classe, não pertence a um objeto de instância."
   ]
  },
  {
   "cell_type": "markdown",
   "metadata": {},
   "source": [
    "## Vamos exemplificar melhor...\n",
    "\n",
    "\n",
    "Vamos criar uma <code>classe</code> chamada **String**, essa classe vai ter 3 métodos:\n",
    "- <code>.maiuscula()</code>: deve retornar todo o texto em maiúsculo\n",
    "- <code>.minuscula()</code>: deve retornar todo o texto em minúsculo\n",
    "- <code>.separar()</code>: deve retornar uma lista de subtextos separados por um separador comum (argumento **sep**)\n",
    "\n",
    "\n",
    "Mas antes de criar a classe, vamos pensar nos problemas isolados, vamos criar uma função para cada problema:"
   ]
  },
  {
   "cell_type": "markdown",
   "metadata": {},
   "source": [
    "### Problema 1:\n",
    "\n",
    "- Criar a função <code>maiuscula(string)</code>\n",
    "\n",
    "**Observação:** não vale utilizar o método <code>.upper()</code> do tipo de dado <code>str</code>."
   ]
  },
  {
   "cell_type": "code",
   "execution_count": null,
   "metadata": {},
   "outputs": [],
   "source": []
  },
  {
   "cell_type": "markdown",
   "metadata": {},
   "source": [
    "### Problema 2:\n",
    "\n",
    "- Criar a função <code>minuscula(string)</code>\n",
    "\n",
    "**Observação:** não vale utilizar o método <code>.lower()</code> do tipo de dado <code>str</code>."
   ]
  },
  {
   "cell_type": "code",
   "execution_count": null,
   "metadata": {},
   "outputs": [],
   "source": []
  },
  {
   "cell_type": "markdown",
   "metadata": {},
   "source": [
    "### Problema 3:\n",
    "\n",
    "- Criar a função <code>separar(string)</code>\n",
    "\n",
    "**Observação:** não vale utilizar o método <code>.split()</code> do tipo de dado <code>str</code>."
   ]
  },
  {
   "cell_type": "code",
   "execution_count": null,
   "metadata": {},
   "outputs": [],
   "source": []
  },
  {
   "cell_type": "markdown",
   "metadata": {},
   "source": [
    "### Agora vamos transformar essas funções em métodos ...\n",
    "\n",
    "Para isso, temos que criar uma classe."
   ]
  },
  {
   "cell_type": "code",
   "execution_count": 24,
   "metadata": {},
   "outputs": [],
   "source": [
    "class String:\n",
    "\n",
    "    def __init__(self, string):\n",
    "        self.string = string\n",
    "\n",
    "    def maiuscula(self):\n",
    "        '''\n",
    "        Retorna o objeto salvo do tipo str todo em caixa alta:   \n",
    "        >>> string = String('Hello World!')\n",
    "        >>> string.maiuscula() = 'HELLO WORLD!'\n",
    "        '''\n",
    "        dict_map = {}\n",
    "        for letra_maiuscula, letra_minuscula in zip(list('ABCDEFGHIJKLMNOPQRSTUVWXYZ'),list('abcdefghijklmnopqrstuvwvyz')):\n",
    "            dict_map.update({letra_minuscula:letra_maiuscula})\n",
    "        \n",
    "        NewString = ''\n",
    "        for letra in self.string:\n",
    "            if letra in dict_map.keys():\n",
    "                NewString += dict_map[letra]\n",
    "            else:\n",
    "                NewString += letra\n",
    "        \n",
    "        return NewString\n",
    "        \n",
    "    def minuscula(self):\n",
    "        '''\n",
    "        Retorna o objeto salvo do tipo str todo em caixa baixa:  \n",
    "        >>> string = String('Hello World!')\n",
    "        >>> string.minuscula() = 'hello world!'\n",
    "        '''\n",
    "        dict_map = {}\n",
    "        for letra_maiuscula, letra_minuscula in zip(list('ABCDEFGHIJKLMNOPQRSTUVWXYZ'),list('abcdefghijklmnopqrstuvwvyz')):\n",
    "            dict_map.update({letra_maiuscula:letra_minuscula})\n",
    "        \n",
    "        NewString = ''\n",
    "        for letra in self.string:\n",
    "            if letra in dict_map.keys():\n",
    "                NewString += dict_map[letra]\n",
    "            else:\n",
    "                NewString += letra\n",
    "        \n",
    "        return NewString\n",
    "    \n",
    "    \n",
    "    def separar(self, sep):\n",
    "        '''\n",
    "        Retorna uma lista de substrings cujo separador é exclusivo e pasado como parâmetro    \n",
    "        >>> string = String('Hello World!')\n",
    "        >>> string.separar(sep=' ') = ['hello', 'world!']\n",
    "        '''\n",
    "        NewString = ''\n",
    "        ListaPalavras = []\n",
    "        palavra = ''\n",
    "        for letra in self.string:\n",
    "            palavra += letra\n",
    "            if letra == sep:\n",
    "                ListaPalavras.append(palavra)\n",
    "                palavra = ''\n",
    "                \n",
    "        ListaPalavras.append(palavra)\n",
    "        return ListaPalavras        "
   ]
  },
  {
   "cell_type": "code",
   "execution_count": null,
   "metadata": {},
   "outputs": [],
   "source": []
  },
  {
   "cell_type": "code",
   "execution_count": 25,
   "metadata": {},
   "outputs": [],
   "source": [
    "s = String('Hoje é um belo dia')"
   ]
  },
  {
   "cell_type": "code",
   "execution_count": 19,
   "metadata": {},
   "outputs": [
    {
     "data": {
      "text/plain": [
       "'HOJE é UM BELO DIA'"
      ]
     },
     "execution_count": 19,
     "metadata": {},
     "output_type": "execute_result"
    }
   ],
   "source": [
    "s.maiuscula()"
   ]
  },
  {
   "cell_type": "code",
   "execution_count": 20,
   "metadata": {},
   "outputs": [
    {
     "data": {
      "text/plain": [
       "'hoje é um belo dia'"
      ]
     },
     "execution_count": 20,
     "metadata": {},
     "output_type": "execute_result"
    }
   ],
   "source": [
    "s.minuscula()"
   ]
  },
  {
   "cell_type": "code",
   "execution_count": 21,
   "metadata": {},
   "outputs": [
    {
     "data": {
      "text/plain": [
       "['Hoje ', 'é ', 'um ', 'belo ', 'dia']"
      ]
     },
     "execution_count": 21,
     "metadata": {},
     "output_type": "execute_result"
    }
   ],
   "source": [
    "s.separar(' ')"
   ]
  },
  {
   "cell_type": "code",
   "execution_count": null,
   "metadata": {},
   "outputs": [],
   "source": []
  }
 ],
 "metadata": {
  "colab": {
   "collapsed_sections": [],
   "name": "Talk_6.ipynb",
   "provenance": [],
   "toc_visible": true
  },
  "kernelspec": {
   "display_name": "Python 3",
   "language": "python",
   "name": "python3"
  },
  "language_info": {
   "codemirror_mode": {
    "name": "ipython",
    "version": 3
   },
   "file_extension": ".py",
   "mimetype": "text/x-python",
   "name": "python",
   "nbconvert_exporter": "python",
   "pygments_lexer": "ipython3",
   "version": "3.7.0"
  }
 },
 "nbformat": 4,
 "nbformat_minor": 1
}
