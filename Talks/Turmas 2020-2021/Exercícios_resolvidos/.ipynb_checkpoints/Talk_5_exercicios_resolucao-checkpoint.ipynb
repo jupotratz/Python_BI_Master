{
 "cells": [
  {
   "cell_type": "markdown",
   "metadata": {
    "id": "wy_9INHEImAY"
   },
   "source": [
    "<img src=\"https://github.com/jupotratz/Python_BI_Master/blob/main/Turmas/2021.3/Imagens/sep.png?raw=true\"  width=1000 height=125 />"
   ]
  },
  {
   "cell_type": "markdown",
   "metadata": {
    "id": "EDTh4uzNIp-B"
   },
   "source": [
    "# Professoras\n",
    "\n",
    " - Amanda Lemette \n",
    "\t - prof.amanda@ica.ele.puc-rio.br\n",
    "\t - [Linkedin](https://www.linkedin.com/in/amanda-lemette-brand%C3%A3o-83280918b)\n",
    "   - [Youtube](https://www.youtube.com/c/AmandaLemette/featured)\n",
    "   \n",
    " - Júlia Potratz\n",
    "\t - prof.julia@ica.ele.puc-rio.br\n",
    "\t - [Linkedin](https://www.linkedin.com/in/julia-potratz)\n",
    "     \n",
    "# Material \n",
    "\n",
    "Repositório no GitHub: [Python_BI_Master](https://github.com/jupotratz/Python_BI_Master)\n"
   ]
  },
  {
   "cell_type": "markdown",
   "metadata": {
    "id": "Koov13X9IsDv"
   },
   "source": [
    "# Talk 5\n",
    "\n",
    "## Exercícios e as respectivas resoluções "
   ]
  },
  {
   "cell_type": "markdown",
   "metadata": {
    "id": "J2zsLbNoJAEz"
   },
   "source": [
    "### Exercícios com uso de estruturas condicionais\n",
    "\n",
    "<h2 style=\"color:green\">Problema 1</h2>\n",
    "\n",
    "Dadas as classificações dos seguintes 5 grupos:\n",
    "\n",
    "1. Nível extremamente intenso de exercícios (código: 'A')\n",
    "2. Nível alto de exercícios (código 'B') \n",
    "3. Nível intermediário de exercícios (código 'C') \n",
    "4. Nível baixo a mínimo de exercícios (código 'D') \n",
    "5. Nível zero de exercícios (código 'E') \n",
    "\n",
    "Possíveis clientes de uma academia que será inaugurada foram entrevistados e eles tiveram que marcar a opção na qual eles gostariam de seguir suas atividades ƒísicas na academia quando abrisse. \n",
    "\n",
    "\n",
    "<center><img src=\"https://github.com/jupotratz/Python_BI_Master/blob/main/Turmas/2021.3/Imagens/gym.jpg?raw=true\" width=400>\n",
    "\n",
    "Desenvolva um código que recebe uma entrada do usuário pela função <code>input()</code> e classifique esse usuário dentro de um dos 5 grupos. O resultado que será mostrado para o usuário deve fornecer em que grupo essa pessoa se encontra."
   ]
  },
  {
   "cell_type": "markdown",
   "metadata": {},
   "source": [
    "**Algoritmo - versão 1**\n",
    "``` \n",
    " 1.Solicitar a informação do aluno\n",
    " 2. Testar em que categoria o cliente se encontra\n",
    " 3. Mostrar na tela a descrição da categoria do aluno\n",
    "```"
   ]
  },
  {
   "cell_type": "code",
   "execution_count": null,
   "metadata": {},
   "outputs": [],
   "source": [
    "# Criando uma mensagem para o input() do usuário\n",
    "texto_user = '''Nível extremamente intenso de exercícios: A\n",
    "Nível alto de exercícios: B \n",
    "Nível intermediário de exercícios: C\n",
    "Nível baixo a mínimo de exercícios: D\n",
    "Nível zero de exercícios: E\n",
    "\n",
    "Digite o código referente a classificação do aluno: '''\n",
    "\n",
    "# Usar o input() para solicitar  informação do usuário, passando o texto como parâmetro da função\n",
    "nivel_exercicio = input(texto_user)\n",
    "\n",
    "# Testando em que categoria se encontra o aluno e mostrando na tela\n",
    "if nivel_exercicio == 'A':\n",
    "  print('Nível extremamente intenso de exercícios')\n",
    "elif nivel_exercicio == 'B':\n",
    "  print('Nível alto de exercícios')\n",
    "elif nivel_exercicio == 'C':\n",
    "  print('Nível intermediário de exercícios')\n",
    "elif nivel_exercicio == 'D':\n",
    "  print('Nível baixo a mínimo de exercícios')\n",
    "else:\n",
    "  print('Nível zero de exercícios')\n"
   ]
  },
  {
   "cell_type": "markdown",
   "metadata": {},
   "source": [
    "<h3 style=\"color:red\">Problemas dessa versão</h3>.\n",
    "\n",
    "<p style=\"color:blue\"> \n",
    "    <li style=\"color:blue\">O programa não é sensível para letras minusculas</li>\n",
    "    <li style=\"color:blue\">O programa nã é sensível para erros provenientes do usuário (erro de digitação como espaços vazios e/ou outros valores inesperados)</li>\n",
    "    <li style=\"color:blue\">Ao digitar qualquer coisa diferente de A, B, C e D o programa sempre fornece a classificação *Nível zero de exercícios*</li>\n",
    "    <li style=\"color:blue\">A mensagem inicial para o usuário continua na tela (fica confuso).</li>\n",
    "</p>"
   ]
  },
  {
   "cell_type": "markdown",
   "metadata": {},
   "source": [
    "**Algoritmo - versão 2**\n",
    "``` \n",
    " 1. Solicitar a informação do aluno\n",
    " 2. Padronizar a entrada do aluno - passar tudo para letra maiuscula e remover espaços em branco no inicio e no final da informação passada pelo aluno.\n",
    " 3. Testar em que categoria o cliente se encontra\n",
    " 4. Se a informação passada pelo aluno é válida:\n",
    "       4.1. Mostrar na tela a descrição da categoria do aluno\n",
    "    Se a informação passada pelo aluno não é válida:\n",
    "       4.2. Mostrar na tela uma mensagem de código inválido para o usuário\n",
    "```"
   ]
  },
  {
   "cell_type": "code",
   "execution_count": null,
   "metadata": {},
   "outputs": [],
   "source": [
    "# Criando uma mensagem para o input() do usuário\n",
    "texto_user = '''Nível extremamente intenso de exercícios: A\n",
    "Nível alto de exercícios: B \n",
    "Nível intermediário de exercícios: C\n",
    "Nível baixo a mínimo de exercícios: D\n",
    "Nível zero de exercícios: E\n",
    "\n",
    "Digite o código referente a classificação do aluno: '''\n",
    "\n",
    "# Usar o input() para solicitar  informação do usuário, passando o texto como parâmetro da função\n",
    "nivel_exercicio = input(texto_user).rstrip().upper().lstrip()\n",
    "\n",
    "# Testando em que categoria se encontra o aluno e mostrando na tela\n",
    "if nivel_exercicio == 'A':\n",
    "  print('Nível extremamente intenso de exercícios')\n",
    "elif nivel_exercicio == 'B':\n",
    "  print('Nível alto de exercícios')\n",
    "elif nivel_exercicio == 'C':\n",
    "  print('Nível intermediário de exercícios')\n",
    "elif nivel_exercicio == 'D':\n",
    "  print('Nível baixo a mínimo de exercícios')\n",
    "elif nivel_exercicio == 'E':\n",
    "  print('Nível zero de exercícios')\n",
    "else:\n",
    "  print('Código inválido!')"
   ]
  },
  {
   "cell_type": "markdown",
   "metadata": {},
   "source": [
    "<h3 style=\"color:red\">Problemas dessa versão</h3>.\n",
    "<p style=\"color:blue\"> \n",
    "    <li style=\"color:blue\">Se o aluno não fornece uma informação válida, nunca vai mostrar a classificação do aluno</li>\n",
    "    <li style=\"color:blue\">Não solicita que o aluno forneça noovamente a informação correta.</li>\n",
    "    <li style=\"color:blue\">A mensagem inicial para o usuário continua na tela (fica confuso).</li>\n",
    "</p>"
   ]
  },
  {
   "cell_type": "markdown",
   "metadata": {},
   "source": [
    "**Algoritmo - versão 3**\n",
    "``` \n",
    " 1. Solicitar a informação do aluno.\n",
    " 2. Padronizar a entrada do aluno - passar tudo para letra maiuscula e remover espaços em branco no inicio e no final da informação passada pelo aluno.\n",
    " 3. Se o aluno não fornecer um código válido, volte ao passo 1\n",
    " 4. Testar em que categoria o cliente se encontra\n",
    " 5. Mostrar na tela a descrição da categoria do aluno\n",
    "```"
   ]
  },
  {
   "cell_type": "code",
   "execution_count": null,
   "metadata": {},
   "outputs": [],
   "source": [
    "# Criando uma mensagem para o input() do usuário\n",
    "texto_user = '''Nível extremamente intenso de exercícios: A\n",
    "Nível alto de exercícios: B \n",
    "Nível intermediário de exercícios: C\n",
    "Nível baixo a mínimo de exercícios: D\n",
    "Nível zero de exercícios: E\n",
    "\n",
    "Digite o código referente a classificação do aluno: '''\n",
    "\n",
    "# Usar o input() para solicitar  informação do usuário, passando o texto como parâmetro da função\n",
    "nivel_exercicio = input(texto_user).rstrip().upper().lstrip()\n",
    "\n",
    "\n",
    "# Criar uma validação para a informação passada pelo usuário, enquanto não for uma oção válida, continua pedindo a informação\n",
    "while  nivel_exercicio not in ['A','B','C','D','E']:\n",
    "  print('\\nCódigo inválido!, DIGITE UM CÓDIGO VÁLIDO! ',end='\\n\\n')\n",
    "  nivel_exercicio = input(texto_user).rstrip().upper().lstrip()\n",
    "    \n",
    "\n",
    "# Testando em que categoria se encontra o aluno e mostrando na tela\n",
    "if nivel_exercicio == 'A':\n",
    "  print('Nível extremamente intenso de exercícios')\n",
    "elif nivel_exercicio == 'B':\n",
    "  print('Nível alto de exercícios')\n",
    "elif nivel_exercicio == 'C':\n",
    "  print('Nível intermediário de exercícios')\n",
    "elif nivel_exercicio == 'D':\n",
    "  print('Nível baixo a mínimo de exercícios')\n",
    "else:\n",
    "  print('Nível zero de exercícios')\n"
   ]
  },
  {
   "cell_type": "markdown",
   "metadata": {},
   "source": [
    "<h3 style=\"color:red\">Problemas dessa versão</h3>.\n",
    "<p style=\"color:blue\"> \n",
    "    <li style=\"color:blue\">A mensagem inicial para o usuário continua na tela (fica confuso).</li>\n",
    "</p>"
   ]
  },
  {
   "cell_type": "markdown",
   "metadata": {},
   "source": [
    "**Algoritmo - versão 4**\n",
    "``` \n",
    " 1. Solicitar a informação do aluno.\n",
    " 2. Padronizar a entrada do aluno - passar tudo para letra maiuscula e remover espaços em branco no inicio e no final da informação passada pelo aluno.\n",
    " 3. Se o aluno não fornecer um código válido, apague a menssagem que estiver aparecendo no terminal e volte ao passo 1\n",
    " 4. Testar em que categoria o cliente se encontra\n",
    " 5. Mostrar na tela a descrição da categoria do aluno\n",
    "```"
   ]
  },
  {
   "cell_type": "code",
   "execution_count": null,
   "metadata": {},
   "outputs": [],
   "source": [
    "# Importando a função clear_output() do módulo display da biblioteca IPython\n",
    "from IPython.display import clear_output\n",
    "\n",
    "# Criando uma mensagem para o input() do usuário\n",
    "texto_user = '''Nível extremamente intenso de exercícios: A\n",
    "Nível alto de exercícios: B \n",
    "Nível intermediário de exercícios: C\n",
    "Nível baixo a mínimo de exercícios: D\n",
    "Nível zero de exercícios: E\n",
    "\n",
    "Digite o código referente a classificação do aluno: '''\n",
    "\n",
    "# Usar o input() para solicitar  informação do usuário, passando o texto como parâmetro da função\n",
    "nivel_exercicio = input(texto_user).rstrip().upper().lstrip()\n",
    "clear_output(wait=True) # wait=True faz com que espere o próximo print do programa para apagar a infromação atual\n",
    "\n",
    "\n",
    "# Criar uma validação para a informação passada pelo usuário, enquanto não for uma oção válida, continua pedindo a informação\n",
    "while  nivel_exercicio not in ['A','B','C','D','E']:\n",
    "  print('\\nCódigo inválido!, DIGITE UM CÓDIGO VÁLIDO! ',end='\\n\\n')\n",
    "  nivel_exercicio = input(texto_user).rstrip().upper().lstrip()\n",
    "  clear_output(wait=True) # wait=True faz com que espere o próximo print do programa para apagar a infromação atual\n",
    "\n",
    "# Testando em que categoria se encontra o aluno e mostrando na tela\n",
    "if nivel_exercicio == 'A':\n",
    "  print('Nível extremamente intenso de exercícios')\n",
    "elif nivel_exercicio == 'B':\n",
    "  print('Nível alto de exercícios')\n",
    "elif nivel_exercicio == 'C':\n",
    "  print('Nível intermediário de exercícios')\n",
    "elif nivel_exercicio == 'D':\n",
    "  print('Nível baixo a mínimo de exercícios')\n",
    "else:\n",
    "  print('Nível zero de exercícios')"
   ]
  },
  {
   "cell_type": "code",
   "execution_count": null,
   "metadata": {},
   "outputs": [],
   "source": []
  },
  {
   "cell_type": "code",
   "execution_count": null,
   "metadata": {},
   "outputs": [],
   "source": []
  },
  {
   "cell_type": "code",
   "execution_count": null,
   "metadata": {},
   "outputs": [],
   "source": []
  },
  {
   "cell_type": "code",
   "execution_count": null,
   "metadata": {},
   "outputs": [],
   "source": []
  },
  {
   "cell_type": "markdown",
   "metadata": {},
   "source": [
    "<h2 style=\"color:green\">Problema 2</h2>\n",
    "\n",
    "Um aluno da turma do colégio *Aprende Mundo* para passar em Matemática precisa ter média final maior ou igual a 7,0. Desenvolva um código que recebe um <code>input()</code> do usuário informando a nota de certo aluno e o código deve mostrar na tela se o aluno foi aprovado ou não. \n",
    "\n",
    "<center><img src=\"https://github.com/jupotratz/Python_BI_Master/blob/main/Turmas/2021.3/Imagens/study.jpg?raw=true\" width=300>"
   ]
  },
  {
   "cell_type": "markdown",
   "metadata": {},
   "source": [
    "**Algoritmo - versão 1**\n",
    "``` \n",
    " 1. Solicitar a informação da nota do aluno\n",
    " 2. Transformara a informação da nota do aluno para uma informação numérica (número real - float)\n",
    " 3. Verificar se o aluno está aprovado ou reprovado\n",
    " 4. Mostrar o status de aprovação do aluno\n",
    "```"
   ]
  },
  {
   "cell_type": "code",
   "execution_count": null,
   "metadata": {},
   "outputs": [],
   "source": [
    "# Usar o input() para solicitar  informação do usuário, passando o texto como parâmetro da função\n",
    "nota = float(input('Forneça a nota do aluno: '))\n",
    "\n",
    "# Verificar se o aluno está aprovado ou reprovado e mostrar o seu status de aprovação\n",
    "if nota < 7:\n",
    "  print('Aluno reprovado!')\n",
    "else:\n",
    "  print('Aluno Aprovado')"
   ]
  },
  {
   "cell_type": "markdown",
   "metadata": {},
   "source": [
    "<h3 style=\"color:red\">Problemas dessa versão</h3>.\n",
    "<p style=\"color:blue\"> \n",
    "    <li style=\"color:blue\">Se o usuário informa algo diferente de um número, o programa vai parar por conta de um erro (não é possível transformar uma string que contenha letras, simbols e/ou espaços vazios em números reais ou inteiros)</li>\n",
    "</p>"
   ]
  },
  {
   "cell_type": "markdown",
   "metadata": {},
   "source": [
    "**Algoritmo - versão 2**\n",
    "``` \n",
    " 1. Tentar (try)\n",
    "        1.1. Solicitar a informação da nota do aluno (com uma mensagem para o usuário)\n",
    "        1.2. Transformar a informação em um número real\n",
    "    Caso não consiga realizar os procedimentos acima (except)\n",
    "        1.1. Informar o usuário que a informação passada anteriormente estava errada\n",
    "        1.2. Solicitar a informação da nota do aluno novamente \n",
    "        1.3. Transformar a informação em um número real\n",
    " 2. Verificar se o aluno está aprovado ou reprovado\n",
    " 3. Mostrar o status de aprovação do aluno\n",
    "```"
   ]
  },
  {
   "cell_type": "code",
   "execution_count": null,
   "metadata": {},
   "outputs": [],
   "source": [
    "# Usar o input() para solicitar  informação do usuário, passando o texto como parâmetro da função\n",
    "\n",
    "# Usar o try para tentar realizar o procedimento abaixo (respeitando a identação) \n",
    "try:          \n",
    "  nota = float(input('Forneça a nota do aluno: '))\n",
    "\n",
    "# Caso ocorra algum erro inesperado dentro do try, execute o except\n",
    "except:     \n",
    "  print('Forneça o número corretamente: ')\n",
    "  nota = float(input('Forneça a nota do aluno: '))\n",
    "\n",
    "# Verificar se o aluno está aprovado ou reprovado e mostrar o seu status de aprovação\n",
    "if nota < 7:\n",
    "  print('Aluno reprovado!')\n",
    "else:\n",
    "  print('Aluno Aprovado')"
   ]
  },
  {
   "cell_type": "markdown",
   "metadata": {},
   "source": [
    "<h3 style=\"color:red\">Problemas dessa versão</h3>.\n",
    "<p style=\"color:blue\"> \n",
    "    <li style=\"color:blue\">Se o usuário erra mais de uma vez o programa continua não funcionando</li>\n",
    "    <li style=\"color:blue\">Ficam aparecendo várias informações na tela para o usuário (fica confuso)</li>\n",
    "</p>"
   ]
  },
  {
   "cell_type": "markdown",
   "metadata": {},
   "source": [
    "**Algoritmo - versão 3**\n",
    "``` \n",
    " 1. Tentar (try)\n",
    "        1.1. Solicitar a informação da nota do aluno (com uma mensagem para o usuário)\n",
    "        1.2. Transformar a informação em um número real\n",
    "    Caso não consiga realizar os procedimentos acima (except)\n",
    "        1.1. Informar o usuário que a informação passada anteriormente estava errada\n",
    "        1.2. Solicitar a informação da nota do aluno novamente \n",
    "        1.3. Transformar a informação em um número real\n",
    " 2. Enquanto o usuário não fornecer uma informação correta, volte ao passo 1, quando ele informar a informação correta, pode pular para o passo 3. \n",
    " 3. Verificar se o aluno está aprovado ou reprovado\n",
    " 4. Mostrar o status de aprovação do aluno\n",
    "```"
   ]
  },
  {
   "cell_type": "code",
   "execution_count": null,
   "metadata": {},
   "outputs": [],
   "source": []
  },
  {
   "cell_type": "code",
   "execution_count": null,
   "metadata": {},
   "outputs": [],
   "source": []
  },
  {
   "cell_type": "code",
   "execution_count": 3,
   "metadata": {},
   "outputs": [
    {
     "name": "stdout",
     "output_type": "stream",
     "text": [
      "Forneça a nota do aluno: 3,5\n",
      "Forneça o número corretamente \n",
      "Forneça a nota do aluno: 4.7\n",
      "Aluno reprovado!\n"
     ]
    }
   ],
   "source": [
    "# Usar o input() para solicitar  informação do usuário, passando o texto como parâmetro da função\n",
    "# Usar o while para repetir até que a operação de informar a nota de certo. Quando o try for executado sem erros,\n",
    "#parar a minha repetição com um break\n",
    "\n",
    "while True:\n",
    "  try:     # Usar o try para tentar realizar o procedimento abaixo (respeitando a identação) \n",
    "    nota = float(input('Forneça a nota do aluno: '))\n",
    "    break\n",
    "  except:  # Caso ocorra algum erro inesperado dentro do try, execute o except\n",
    "    print('Forneça o número corretamente: ')\n",
    "    \n",
    "# Verificar se o aluno está aprovado ou reprovado e mostrar o seu status de aprovação\n",
    "if nota < 7:\n",
    "  print('Aluno reprovado!')\n",
    "else:\n",
    "  print('Aluno Aprovado')"
   ]
  },
  {
   "cell_type": "markdown",
   "metadata": {},
   "source": [
    "<h3 style=\"color:red\">Problemas dessa versão</h3>.\n",
    "<p style=\"color:blue\"> \n",
    "    <li style=\"color:blue\">Ficam aparecendo várias informações na tela para o usuário (fica confuso)</li>\n",
    "</p>"
   ]
  },
  {
   "cell_type": "markdown",
   "metadata": {},
   "source": [
    "**Algoritmo - versão 4**\n",
    "``` \n",
    " 1. Tentar (try)\n",
    "        1.1. Solicitar a informação da nota do aluno (com uma mensagem para o usuário)\n",
    "        1.2. Transformar a informação em um número real\n",
    "    Caso não consiga realizar os procedimentos acima (except)\n",
    "        1.1. Informar o usuário que a informação passada anteriormente estava errada\n",
    "        1.2. Solicitar a informação da nota do aluno novamente \n",
    "        1.3. Transformar a informação em um número real \n",
    " 2. Enquanto o usuário não fornecer uma informação correta, volte ao passo 1, quando ele informar a informação correta, pode pular para o passo 3. \n",
    " 4. Apagar a mensagem que já apareceram para o usuario até aqui\n",
    " 5. Verificar se o aluno está aprovado ou reprovado\n",
    " 6. Mostrar o status de aprovação do aluno\n",
    "```"
   ]
  },
  {
   "cell_type": "code",
   "execution_count": 5,
   "metadata": {},
   "outputs": [
    {
     "name": "stdout",
     "output_type": "stream",
     "text": [
      "Aluno Aprovado\n"
     ]
    }
   ],
   "source": [
    "# Importando a função clear_output() do módulo display da biblioteca IPython\n",
    "from IPython.display import clear_output\n",
    "\n",
    "# Usar o input() para solicitar  informação do usuário, passando o texto como parâmetro da função\n",
    "# Usar o while para repetir até que a operação de informar a nota de certo. Quando o try for executado sem erros,\n",
    "#parar a minha repetição com um break\n",
    "\n",
    "while True:\n",
    "  try:     # Usar o try para tentar realizar o procedimento abaixo (respeitando a identação) \n",
    "    nota = float(input('Forneça a nota do aluno: '))\n",
    "    break\n",
    "  except:  # Caso ocorra algum erro inesperado dentro do try, execute o except\n",
    "    print('Forneça o número corretamente: ')\n",
    "\n",
    "clear_output(wait=True)\n",
    "    \n",
    "# Verificar se o aluno está aprovado ou reprovado e mostrar o seu status de aprovação\n",
    "if nota < 7:\n",
    "  print('Aluno reprovado!')\n",
    "else:\n",
    "  print('Aluno Aprovado')"
   ]
  },
  {
   "cell_type": "code",
   "execution_count": null,
   "metadata": {},
   "outputs": [],
   "source": []
  },
  {
   "cell_type": "code",
   "execution_count": null,
   "metadata": {},
   "outputs": [],
   "source": []
  },
  {
   "cell_type": "markdown",
   "metadata": {},
   "source": [
    "<h2 style=\"color:green\">Problema 2</h2>\n",
    "\n",
    "Ainda em relação ao problema anterior, se o aluno não alcançou a nota 7,0, ele ainda não está reprovado, ele tem direito a fazer a prova de recuperação. \n",
    "\n",
    "Para ser aprovado finalmente na matéria, a nota final é calculada como a média entre a nota da recuperação e a nota final que o aluno tinha antes de fazer a recuperação. Essa nota resultante deve ser maior ou igual a 6,0 para que o aluno não reprove na matéria. \n",
    "\n",
    "Desenvolva um código que diga ao final se o aluno foi aprovado ou reprovado na disciplina, sendo que suas duas notas devem ser fornecidas via a função *input* pelo usuário. "
   ]
  },
  {
   "cell_type": "markdown",
   "metadata": {},
   "source": [
    "- **Já vou pegar a ultima versão do exercício anterior**\n",
    "\n",
    "**Algoritmo - versão 1**\n",
    "``` \n",
    " 1. Tentar (try)\n",
    "        1.1. Solicitar a informação da nota do aluno (com uma mensagem para o usuário)\n",
    "        1.2. Transformar a informação em um número real\n",
    "    Caso não consiga realizar os procedimentos acima (except)\n",
    "        1.1. Informar o usuário que a informação passada anteriormente estava errada\n",
    "        1.2. Solicitar a informação da nota do aluno novamente \n",
    "        1.3. Transformar a informação em um número real \n",
    " 2. Enquanto o usuário não fornecer uma informação correta, volte ao passo 1, quando ele informar a informação correta, pode pular para o passo 3. \n",
    " 4. Apagar a mensagem que já apareceram para o usuario até aqui\n",
    " 5. Verificar se o aluno está aprovado ou reprovado\n",
    " 6. Se o aluno tiver nota menor que 7\n",
    "         6.1.  Solicitar a nota da recuperação do aluno\n",
    "         6.2. Calcular a nova média (média aritmética)\n",
    "         6.3. Verificar se o aluno foi ou não aprovado com nova média\n",
    "         6.4. Mostrar mensagem falando se o aluno foi aprovado ou reprovado após a recuperação\n",
    "    Se o aluno tiver não nota menor que 7 (maior ou igua a 7)\n",
    "         6.1. Mostrar mensagem avisando que o aluno foi aprovado\n",
    "```"
   ]
  },
  {
   "cell_type": "code",
   "execution_count": 11,
   "metadata": {},
   "outputs": [
    {
     "name": "stdout",
     "output_type": "stream",
     "text": [
      "Forneça a nota de recuperação do aluno: g\n"
     ]
    },
    {
     "ename": "ValueError",
     "evalue": "could not convert string to float: 'g'",
     "output_type": "error",
     "traceback": [
      "\u001b[1;31m---------------------------------------------------------------------------\u001b[0m",
      "\u001b[1;31mValueError\u001b[0m                                Traceback (most recent call last)",
      "\u001b[1;32m<ipython-input-11-58418cbe1ae0>\u001b[0m in \u001b[0;36m<module>\u001b[1;34m()\u001b[0m\n\u001b[0;32m     17\u001b[0m \u001b[1;31m# Verificar se o aluno está aprovado ou reprovado e mostrar o seu status de aprovação\u001b[0m\u001b[1;33m\u001b[0m\u001b[1;33m\u001b[0m\u001b[0m\n\u001b[0;32m     18\u001b[0m \u001b[1;32mif\u001b[0m \u001b[0mnota\u001b[0m \u001b[1;33m<\u001b[0m \u001b[1;36m7\u001b[0m\u001b[1;33m:\u001b[0m\u001b[1;33m\u001b[0m\u001b[0m\n\u001b[1;32m---> 19\u001b[1;33m     \u001b[0mnota_recuperacao\u001b[0m \u001b[1;33m=\u001b[0m \u001b[0mfloat\u001b[0m\u001b[1;33m(\u001b[0m\u001b[0minput\u001b[0m\u001b[1;33m(\u001b[0m\u001b[1;34m'Forneça a nota de recuperação do aluno: '\u001b[0m\u001b[1;33m)\u001b[0m\u001b[1;33m)\u001b[0m\u001b[1;33m\u001b[0m\u001b[0m\n\u001b[0m\u001b[0;32m     20\u001b[0m     \u001b[0mmedia\u001b[0m \u001b[1;33m=\u001b[0m \u001b[1;33m(\u001b[0m\u001b[0mnota\u001b[0m \u001b[1;33m+\u001b[0m \u001b[0mnota_recuperacao\u001b[0m\u001b[1;33m)\u001b[0m\u001b[1;33m/\u001b[0m\u001b[1;36m2\u001b[0m\u001b[1;33m\u001b[0m\u001b[0m\n\u001b[0;32m     21\u001b[0m     \u001b[0mmedia\u001b[0m \u001b[1;33m=\u001b[0m \u001b[0mround\u001b[0m\u001b[1;33m(\u001b[0m\u001b[0mmedi\u001b[0m\u001b[1;33m,\u001b[0m\u001b[1;36m1\u001b[0m\u001b[1;33m)\u001b[0m \u001b[1;31m# Arredondando a média para 1 casa decimal\u001b[0m\u001b[1;33m\u001b[0m\u001b[0m\n",
      "\u001b[1;31mValueError\u001b[0m: could not convert string to float: 'g'"
     ]
    }
   ],
   "source": [
    "# Importando a função clear_output() do módulo display da biblioteca IPython\n",
    "from IPython.display import clear_output\n",
    "\n",
    "# Usar o input() para solicitar  informação do usuário, passando o texto como parâmetro da função\n",
    "# Usar o while para repetir até que a operação de informar a nota de certo. Quando o try for executado sem erros,\n",
    "#parar a minha repetição com um break\n",
    "\n",
    "while True:\n",
    "  try:     # Usar o try para tentar realizar o procedimento abaixo (respeitando a identação) \n",
    "    nota = float(input('Forneça a nota do aluno: '))\n",
    "    break\n",
    "  except:  # Caso ocorra algum erro inesperado dentro do try, execute o except\n",
    "    print('Forneça a nota corretamente: ')\n",
    "\n",
    "clear_output(wait=True)\n",
    "    \n",
    "# Verificar se o aluno está aprovado ou reprovado e mostrar o seu status de aprovação\n",
    "if nota < 7:\n",
    "    nota_recuperacao = float(input('Forneça a nota de recuperação do aluno: '))\n",
    "    media = (nota + nota_recuperacao)/2\n",
    "    media = round(medi,1) # Arredondando a média para 1 casa decimal\n",
    "    if media < 6:\n",
    "        print('Aluno Reprovado')\n",
    "    else: \n",
    "        print('Aluno aprovado após a recuperação')\n",
    "else:\n",
    "    print('Aluno Aprovado')"
   ]
  },
  {
   "cell_type": "markdown",
   "metadata": {},
   "source": [
    "<h3 style=\"color:red\">Problemas dessa versão</h3>.\n",
    "<p style=\"color:blue\"> \n",
    "    <li style=\"color:blue\">Se o usuário errar ao informar a nota de recuperaçãi o programa para de funcionar</li>\n",
    "</p>"
   ]
  },
  {
   "cell_type": "markdown",
   "metadata": {},
   "source": [
    "**Algoritmo - versão 1**\n",
    "``` \n",
    " 1. Tentar (try)\n",
    "        1.1. Solicitar a informação da nota do aluno (com uma mensagem para o usuário)\n",
    "        1.2. Transformar a informação em um número real\n",
    "    Caso não consiga realizar os procedimentos acima (except)\n",
    "        1.1. Informar o usuário que a informação passada anteriormente estava errada\n",
    "        1.2. Solicitar a informação da nota do aluno novamente \n",
    "        1.3. Transformar a informação em um número real \n",
    " 2. Enquanto o usuário não fornecer uma informação correta, volte ao passo 1, quando ele informar a informação correta, pode pular para o passo 3. \n",
    " 4. Apagar a mensagem que já apareceram para o usuario até aqui\n",
    " 5. Verificar se o aluno está aprovado ou reprovado\n",
    " 6. Se o aluno tiver nota menor que 7\n",
    "         6.1.  Solicitar a nota da recuperação do aluno (usar mesma ideia do passo 1)\n",
    "         6.2. Calcular a nova média (média aritmética)\n",
    "         6.3. Verificar se o aluno foi ou não aprovado com nova média\n",
    "         6.4. Mostrar mensagem falando se o aluno foi aprovado ou reprovado após a recuperação\n",
    "    Se o aluno tiver não nota menor que 7 (maior ou igua a 7)\n",
    "         6.1. Mostrar mensagem avisando que o aluno foi aprovado\n",
    "```"
   ]
  },
  {
   "cell_type": "code",
   "execution_count": 14,
   "metadata": {},
   "outputs": [
    {
     "name": "stdout",
     "output_type": "stream",
     "text": [
      "Aluno aprovado após a recuperação\n"
     ]
    }
   ],
   "source": [
    "# Vamos replicar a ideia usada na primeira nota\n",
    "\n",
    "# Importando a função clear_output() do módulo display da biblioteca IPython\n",
    "from IPython.display import clear_output\n",
    "\n",
    "# Usar o input() para solicitar  informação do usuário, passando o texto como parâmetro da função\n",
    "# Usar o while para repetir até que a operação de informar a nota de certo. Quando o try for executado sem erros,\n",
    "#parar a minha repetição com um break\n",
    "\n",
    "while True:\n",
    "  try:     # Usar o try para tentar realizar o procedimento abaixo (respeitando a identação) \n",
    "    nota = float(input('Forneça a nota do aluno: '))\n",
    "    break\n",
    "  except:  # Caso ocorra algum erro inesperado dentro do try, execute o except\n",
    "    print('Forneça o número corretamente: ')\n",
    "\n",
    "clear_output(wait=True)\n",
    "    \n",
    "# Verificar se o aluno está aprovado ou reprovado e mostrar o seu status de aprovação\n",
    "if nota < 7:\n",
    "    while True:\n",
    "      try:     # Usar o try para tentar realizar o procedimento abaixo (respeitando a identação) \n",
    "        nota_recuperacao = float(input('Forneça a nota de recuperação do aluno: '))\n",
    "        break\n",
    "      except:  # Caso ocorra algum erro inesperado dentro do try, execute o except\n",
    "        print('Forneça a nota de recuperação corretamente: ')\n",
    "    \n",
    "    clear_output(wait=True)\n",
    "    media = (nota + nota_recuperacao)/2\n",
    "    media = round(media,1) # Arredondando a média para 1 casa decimal\n",
    "    if media < 6:\n",
    "        print('Aluno Reprovado')\n",
    "    else: \n",
    "        print('Aluno aprovado após a recuperação')\n",
    "else:\n",
    "    print('Aluno Aprovado')"
   ]
  },
  {
   "cell_type": "code",
   "execution_count": null,
   "metadata": {},
   "outputs": [],
   "source": []
  },
  {
   "cell_type": "markdown",
   "metadata": {},
   "source": [
    "<img src=\"https://github.com/jupotratz/Python_BI_Master/blob/main/Turmas/2021.3/Imagens/sep.png?raw=true\"  width=1000 height=125 />"
   ]
  },
  {
   "cell_type": "markdown",
   "metadata": {},
   "source": [
    "### Exercícios com Loops\n",
    "\n",
    "<h2 style=\"color:green\">Problema 1</h2>\n",
    "\n",
    "Faça um programa que leia 10 números armazenados em uma lista e informe a soma e a média dos números.\n",
    "\n",
    "Por exemplo: se a lista é [0,90,4,15], o programa deve imprimir: \n",
    "\n",
    "```\n",
    "0, 0\n",
    "90, 45\n",
    "94, 31.333\n",
    "109,27.25\n",
    "```\n",
    "\n",
    "A lista a ser usada na resolução do problema 1 é:"
   ]
  },
  {
   "cell_type": "code",
   "execution_count": 31,
   "metadata": {},
   "outputs": [],
   "source": [
    "L = [23,43,53,65,71,82,9,10,12,25]"
   ]
  },
  {
   "cell_type": "code",
   "execution_count": 35,
   "metadata": {},
   "outputs": [
    {
     "name": "stdout",
     "output_type": "stream",
     "text": [
      "39.3\n"
     ]
    }
   ],
   "source": [
    "# Criando duas variáveis auxiliares para guardar a contagem de elementos da lista e uma par aguardar a soma dos elementos\n",
    "soma = 0\n",
    "cont = 0\n",
    "\n",
    "# Iterando os valores de uma lista (L)\n",
    "for var in L:\n",
    "    \n",
    "    # atualizar a variável soma (valor antigo + valor do elemento da lista)\n",
    "    soma = soma + var  \n",
    "    # atualizar a nosso contador (valor antigo + uma unidade)\n",
    "    cont += 1 #cont = cont + 1 \n",
    "\n",
    "# Calculando a média e mostrando para o usuário\n",
    "print(soma/cont)"
   ]
  },
  {
   "cell_type": "code",
   "execution_count": 36,
   "metadata": {},
   "outputs": [
    {
     "data": {
      "text/plain": [
       "39.3"
      ]
     },
     "execution_count": 36,
     "metadata": {},
     "output_type": "execute_result"
    }
   ],
   "source": [
    "# Usando funções já existentes do Python\n",
    "sum(L)/len(L)"
   ]
  },
  {
   "cell_type": "markdown",
   "metadata": {},
   "source": [
    "<h2 style=\"color:green\">Problema 2</h2>\n",
    "\n",
    "Desenvolva um programa que sorteie o número de elementos que uma lista deve conter. Para cada elemento novo, você deve calcular a soma e a média dos elementos pertencentes à lista. \n",
    "\n",
    "- Nesse exercício, um número inteiro entre 5 e 20 deve ser sorteado, vamos chamar esse número de *n*.\n",
    "\n",
    "- Uma lista vazia deve ser criada, vamos chamar a lista de *L*. \n",
    "\n",
    "- Cada elemento a ser adicionado à *L* deve ser gerado randomicamente. "
   ]
  },
  {
   "cell_type": "code",
   "execution_count": 38,
   "metadata": {},
   "outputs": [
    {
     "name": "stdout",
     "output_type": "stream",
     "text": [
      "15.4 15.4\n",
      "23.78 11.89\n",
      "33.32 11.11\n",
      "49.66 12.42\n",
      "69.85 13.97\n",
      "86.85 14.48\n",
      "92.55 13.22\n"
     ]
    }
   ],
   "source": [
    "import random \n",
    "\n",
    "# Sorteando um valor inteiro aleatório que vai fornecer a quantidade de elementos de uma lista (Tem que ser um número INTEIRO)\n",
    "num_elementos = random.randint(5,20) \n",
    "\n",
    "# Criando uma lista vazia (para começar a construir a nossa lista contendo num_elementos quantidade de elementos)\n",
    "lista = []\n",
    "\n",
    "# Criando uma repetição do tamanho de valores que foi sorteado para o tamanho da lista\n",
    "for i in range(num_elementos):\n",
    "    # random.random() + random.randint(5,20) - gere um número real aleatório\n",
    "    lista.append(random.random() + random.randint(5,20))\n",
    "    print(round(sum(lista),2),round(sum(lista)/len(lista),2))"
   ]
  },
  {
   "cell_type": "markdown",
   "metadata": {},
   "source": [
    "<h2 style=\"color:green\">Problema 3</h2>\n",
    "\n",
    "Densenvolva um programa que receba um valor de um carro e mostre uma tabela com os seguintes dados: \n",
    "- Preço final\n",
    "- Quantidade de parcelas e valor da parcela\n",
    "\n",
    "Exemplo:\n",
    "\n",
    "|Parcelas|Valor|\n",
    "|-----|:---:|\n",
    "|Preço Final| w|\n",
    "|1x|x|\n",
    "|6x|y|\n",
    "|12x||\n",
    "|...|...|\n",
    "|60x|z|\n",
    "\n",
    "Considere o seguinte:\n",
    "\n",
    "1. O preço final para compra a vista (1x) tem um esconto de 20%.\n",
    "2. A quantidade de parcelas pode ser: 6, 12, 18, 24, 30, 36, 42, 48, 54 e 60.\n",
    "3. Os percentuais de acréscimo, em caso de compra parcelada, seguem a tabela a seguir:\n",
    "\n",
    "|Quantidade de Parcelas|Percentual de acrescimo sobre o preço final|\n",
    "|:--:|:-----:|\n",
    "|6|3%|\n",
    "|12|6%|\n",
    "|18|9%|\n",
    "|24|12%|\n",
    "|30|15%|\n",
    "|36|18%|\n",
    "|42|21%|\n",
    "|48|24%|\n",
    "|54|27%|\n",
    "|60|30%|\n",
    "\n",
    "Essa tabela está contida dentro de um arquivo <code>.txt</code> entitulado **acrescimos.txt**. Vocês devem primeiro ler esse arquivo e manipular de tal forma que consigam organizar as suas informações para utilizar na solução do problema.\n",
    "\n",
    "Mas antes de começar o exercício temos que aprender como **ler um arquivo .txt em python**\n",
    "\n",
    "<img src=\"https://github.com/jupotratz/Python_BI_Master/blob/main/Turmas/2021.3/Imagens/read_file.JPG?raw=true\" width=650>\n",
    "\n",
    "\n",
    "Como vamos trabalhar com um arquivo, temos que **acrescentar esse arquivo** dentro da pasta *'Colab Notebooks'* no nosso drive e **montar o nosso drive**. O passo a passo cde como montar o drive pode ser visto  [aqui](https://github.com/jupotratz/Python_BI_Master/blob/main/Turmas/2021.3/Aula_01.ipynb)."
   ]
  },
  {
   "cell_type": "code",
   "execution_count": null,
   "metadata": {},
   "outputs": [],
   "source": [
    "from google.colab import drive\n",
    "drive.mount('/content/drive')"
   ]
  },
  {
   "cell_type": "code",
   "execution_count": null,
   "metadata": {},
   "outputs": [],
   "source": [
    "# Importar a biblioteca os\n",
    "import os\n",
    "\n",
    "# Utilizando a função .chdir()\n",
    "os.chdir('drive/MyDrive/Colab Notebooks')"
   ]
  },
  {
   "cell_type": "code",
   "execution_count": null,
   "metadata": {},
   "outputs": [],
   "source": [
    "file  = open('acrescimos.txt', 'r')\n",
    "text = file.read()\n",
    "file.close()"
   ]
  },
  {
   "cell_type": "code",
   "execution_count": null,
   "metadata": {},
   "outputs": [],
   "source": [
    "for line in text.split('\\n'):\n",
    "  print(int(line.split(',')[0]),int(line.split(',')[1])/100)"
   ]
  },
  {
   "cell_type": "code",
   "execution_count": null,
   "metadata": {},
   "outputs": [],
   "source": []
  },
  {
   "cell_type": "markdown",
   "metadata": {},
   "source": [
    "<img src=\"https://github.com/jupotratz/Python_BI_Master/blob/main/Turmas/2021.3/Imagens/sep.png?raw=true\"  width=1000 height=125 />"
   ]
  },
  {
   "cell_type": "markdown",
   "metadata": {},
   "source": [
    "<h2 style=\"color:green\">Problema 1</h2>\n",
    "\n",
    "Faça um programa que receba dois números inteiros e gere os números inteiros que estão no intervalo compreendido por eles."
   ]
  },
  {
   "cell_type": "code",
   "execution_count": 44,
   "metadata": {},
   "outputs": [
    {
     "name": "stdout",
     "output_type": "stream",
     "text": [
      "Entre com um  numero: 1.4\n",
      "Entre com um  numero: 5.6\n",
      "2\n",
      "3\n",
      "4\n",
      "5\n"
     ]
    }
   ],
   "source": [
    "n1 = float(input('Entre com um  numero: '))\n",
    "n2 = float(input('Entre com um  numero: '))\n",
    "\n",
    "if n1 == n2:\n",
    "    print('iguais')\n",
    "\n",
    "else:\n",
    "    lista = [n1,n2]\n",
    "    lista.sort()\n",
    "    if lista[-1] % int(lista[-1]) == 0:\n",
    "        lista[-1] = lista[-1] - 1\n",
    "    for num in range(int(lista[0]) + 1, int(lista[1])+1):\n",
    "        print(num)"
   ]
  },
  {
   "cell_type": "markdown",
   "metadata": {},
   "source": [
    "<h2 style=\"color:green\">Problema 2</h2>\n",
    "\n",
    "Faça um programa que imprima na tela apenas os números ímpares entre 1 e 50."
   ]
  },
  {
   "cell_type": "markdown",
   "metadata": {},
   "source": [
    "**Algoritmo - versão 1**\n",
    "``` \n",
    " 1. Gerar números de 1 a 50 (uma lista, tupla, etc)\n",
    " 2. Verificar número a número.\n",
    " 3. Se o npumero for ímpar, mostrar na tela.\n",
    "```"
   ]
  },
  {
   "cell_type": "code",
   "execution_count": 17,
   "metadata": {},
   "outputs": [
    {
     "name": "stdout",
     "output_type": "stream",
     "text": [
      "1\n",
      "3\n",
      "5\n",
      "7\n",
      "9\n",
      "11\n",
      "13\n",
      "15\n",
      "17\n",
      "19\n",
      "21\n",
      "23\n",
      "25\n",
      "27\n",
      "29\n",
      "31\n",
      "33\n",
      "35\n",
      "37\n",
      "39\n",
      "41\n",
      "43\n",
      "45\n",
      "47\n",
      "49\n"
     ]
    }
   ],
   "source": [
    "for num in range(1,51):\n",
    "    if num % 2 == 1:\n",
    "        print(num)"
   ]
  },
  {
   "cell_type": "code",
   "execution_count": 20,
   "metadata": {},
   "outputs": [
    {
     "name": "stdout",
     "output_type": "stream",
     "text": [
      "1\n",
      "3\n",
      "5\n",
      "7\n",
      "9\n",
      "11\n",
      "13\n",
      "15\n",
      "17\n",
      "19\n",
      "21\n",
      "23\n",
      "25\n",
      "27\n",
      "29\n",
      "31\n",
      "33\n",
      "35\n",
      "37\n",
      "39\n",
      "41\n",
      "43\n",
      "45\n",
      "47\n",
      "49\n"
     ]
    }
   ],
   "source": [
    "# Método alternativo - usando list compression + método join() de strings\n",
    "print('\\n'.join([str(num) for num in range(1,51) if num % 2 == 1]))"
   ]
  },
  {
   "cell_type": "markdown",
   "metadata": {},
   "source": [
    "## List compression + .join( )\n",
    "\n",
    "\n",
    "<img src=\"\">"
   ]
  },
  {
   "cell_type": "code",
   "execution_count": 22,
   "metadata": {},
   "outputs": [
    {
     "name": "stdout",
     "output_type": "stream",
     "text": [
      "[1, 2, 3, 4, 5, 6, 7, 8, 9, 10, 11, 12, 13, 14, 15, 16, 17, 18, 19, 20, 21, 22, 23, 24, 25, 26, 27, 28, 29, 30, 31, 32, 33, 34, 35, 36, 37, 38, 39, 40, 41, 42, 43, 44, 45, 46, 47, 48, 49, 50]\n"
     ]
    }
   ],
   "source": [
    "# List compression\n",
    "print([num for num in range(1,51)])"
   ]
  },
  {
   "cell_type": "code",
   "execution_count": 23,
   "metadata": {},
   "outputs": [
    {
     "name": "stdout",
     "output_type": "stream",
     "text": [
      "[1, 3, 5, 7, 9, 11, 13, 15, 17, 19, 21, 23, 25, 27, 29, 31, 33, 35, 37, 39, 41, 43, 45, 47, 49]\n"
     ]
    }
   ],
   "source": [
    "# List compression com condição (somente números ímpares)\n",
    "print([num for num in range(1,51) if num% 2 ==1])"
   ]
  },
  {
   "cell_type": "code",
   "execution_count": 28,
   "metadata": {},
   "outputs": [
    {
     "name": "stdout",
     "output_type": "stream",
     "text": [
      "a.b.c.d.e\n",
      "a_b_c_d_e\n",
      "a b c d e\n",
      "a--b--c--d--e\n",
      "a\n",
      "b\n",
      "c\n",
      "d\n",
      "e\n"
     ]
    }
   ],
   "source": [
    "# .join( )\n",
    "\n",
    "print('.'.join(['a','b','c','d','e']))\n",
    "print('_'.join(['a','b','c','d','e']))\n",
    "print(' '.join(['a','b','c','d','e']))\n",
    "print('--'.join(['a','b','c','d','e']))\n",
    "print('\\n'.join(['a','b','c','d','e']))"
   ]
  },
  {
   "cell_type": "code",
   "execution_count": 26,
   "metadata": {},
   "outputs": [],
   "source": [
    "# O que passamos como parâmetro na string é utilizado para concatenar as strings de uma lista"
   ]
  },
  {
   "cell_type": "code",
   "execution_count": 27,
   "metadata": {},
   "outputs": [
    {
     "ename": "TypeError",
     "evalue": "sequence item 0: expected str instance, int found",
     "output_type": "error",
     "traceback": [
      "\u001b[1;31m---------------------------------------------------------------------------\u001b[0m",
      "\u001b[1;31mTypeError\u001b[0m                                 Traceback (most recent call last)",
      "\u001b[1;32m<ipython-input-27-a19eb262dafa>\u001b[0m in \u001b[0;36m<module>\u001b[1;34m()\u001b[0m\n\u001b[0;32m      1\u001b[0m \u001b[1;31m# Não podemos unir listas que não tenham todos os dados do tipo string com o join\u001b[0m\u001b[1;33m\u001b[0m\u001b[1;33m\u001b[0m\u001b[0m\n\u001b[1;32m----> 2\u001b[1;33m \u001b[1;34m'\\n'\u001b[0m\u001b[1;33m.\u001b[0m\u001b[0mjoin\u001b[0m\u001b[1;33m(\u001b[0m\u001b[1;33m[\u001b[0m\u001b[0mnum\u001b[0m \u001b[1;32mfor\u001b[0m \u001b[0mnum\u001b[0m \u001b[1;32min\u001b[0m \u001b[0mrange\u001b[0m\u001b[1;33m(\u001b[0m\u001b[1;36m1\u001b[0m\u001b[1;33m,\u001b[0m\u001b[1;36m51\u001b[0m\u001b[1;33m)\u001b[0m \u001b[1;32mif\u001b[0m \u001b[0mnum\u001b[0m\u001b[1;33m%\u001b[0m \u001b[1;36m2\u001b[0m \u001b[1;33m==\u001b[0m\u001b[1;36m1\u001b[0m\u001b[1;33m]\u001b[0m\u001b[1;33m)\u001b[0m\u001b[1;33m\u001b[0m\u001b[0m\n\u001b[0m",
      "\u001b[1;31mTypeError\u001b[0m: sequence item 0: expected str instance, int found"
     ]
    }
   ],
   "source": [
    "# Não podemos unir listas que não tenham todos os dados do tipo string com o join\n",
    "'\\n'.join([num for num in range(1,51) if num% 2 ==1])"
   ]
  },
  {
   "cell_type": "code",
   "execution_count": 30,
   "metadata": {},
   "outputs": [
    {
     "name": "stdout",
     "output_type": "stream",
     "text": [
      "1\n",
      "3\n",
      "5\n",
      "7\n",
      "9\n",
      "11\n",
      "13\n",
      "15\n",
      "17\n",
      "19\n",
      "21\n",
      "23\n",
      "25\n",
      "27\n",
      "29\n",
      "31\n",
      "33\n",
      "35\n",
      "37\n",
      "39\n",
      "41\n",
      "43\n",
      "45\n",
      "47\n",
      "49\n"
     ]
    }
   ],
   "source": [
    "# transformando os elementos da lista em tipos de dados do tipo string (função str( ))\n",
    "print('\\n'.join([str(num) for num in range(1,51) if num% 2 ==1]))"
   ]
  },
  {
   "cell_type": "code",
   "execution_count": null,
   "metadata": {},
   "outputs": [],
   "source": []
  }
 ],
 "metadata": {
  "colab": {
   "collapsed_sections": [],
   "name": "Talk_4_exercícios_resolução.ipynb",
   "provenance": [],
   "toc_visible": true
  },
  "kernelspec": {
   "display_name": "Python 3",
   "language": "python",
   "name": "python3"
  },
  "language_info": {
   "codemirror_mode": {
    "name": "ipython",
    "version": 3
   },
   "file_extension": ".py",
   "mimetype": "text/x-python",
   "name": "python",
   "nbconvert_exporter": "python",
   "pygments_lexer": "ipython3",
   "version": "3.7.0"
  }
 },
 "nbformat": 4,
 "nbformat_minor": 1
}
