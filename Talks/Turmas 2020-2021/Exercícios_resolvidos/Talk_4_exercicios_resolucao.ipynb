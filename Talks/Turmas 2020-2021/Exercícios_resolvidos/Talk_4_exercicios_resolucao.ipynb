{
 "cells": [
  {
   "cell_type": "markdown",
   "metadata": {
    "id": "wy_9INHEImAY"
   },
   "source": [
    "<img src=\"https://github.com/jupotratz/Python_BI_Master/blob/main/Turmas/2021.3/Imagens/sep.png?raw=true\"  width=1000 height=125 />"
   ]
  },
  {
   "cell_type": "markdown",
   "metadata": {
    "id": "EDTh4uzNIp-B"
   },
   "source": [
    "# Professoras\n",
    "\n",
    " - Amanda Lemette \n",
    "\t - prof.amanda@ica.ele.puc-rio.br\n",
    "\t - [Linkedin](https://www.linkedin.com/in/amanda-lemette-brand%C3%A3o-83280918b)\n",
    "   - [Youtube](https://www.youtube.com/c/AmandaLemette/featured)\n",
    "   \n",
    " - Júlia Potratz\n",
    "\t - prof.julia@ica.ele.puc-rio.br\n",
    "\t - [Linkedin](https://www.linkedin.com/in/julia-potratz)\n",
    "     \n",
    "# Material \n",
    "\n",
    "Repositório no GitHub: [Python_BI_Master](https://github.com/jupotratz/Python_BI_Master)\n"
   ]
  },
  {
   "cell_type": "markdown",
   "metadata": {
    "id": "Koov13X9IsDv"
   },
   "source": [
    "# Talk 4\n",
    "\n",
    "## Exercícios e as respectivas resoluções "
   ]
  },
  {
   "cell_type": "markdown",
   "metadata": {
    "id": "oh-v2x20I-B7"
   },
   "source": [
    "### Problema 1"
   ]
  },
  {
   "cell_type": "markdown",
   "metadata": {
    "id": "J2zsLbNoJAEz"
   },
   "source": [
    "Programe um código que execute um loop enquanto a soma de todos elementos de uma lista for menor do que 50. No início do programa, essa lista deve ser declarada como lista vazia e ela só pode conter elementos inteiros.\n",
    "Use a função *random.randint* para gerar elementos da lista, mas essa função só pode gerar números de 0 a 5. "
   ]
  },
  {
   "cell_type": "markdown",
   "metadata": {
    "id": "LYPE5wT3JEQQ"
   },
   "source": [
    "#### Algoritmo:\n",
    "\n",
    "```\n",
    "1. Declare uma lista vazia, nomeie essa lista como 'A'.\n",
    "2. Inicie um loop to tipo while e coloque como condição de execução desse loop que o somatório de 'A' seja menor do que 50. \n",
    "3. Sorteie um número inteiro entre 0 e 5 e armazene o número em uma variável chamada num.\n",
    "4. Faça a adição de num à lista 'A'.\n",
    "```"
   ]
  },
  {
   "cell_type": "markdown",
   "metadata": {
    "id": "2u0_N1XmKKTV"
   },
   "source": [
    "#### Proposta de solução:"
   ]
  },
  {
   "cell_type": "code",
   "execution_count": 1,
   "metadata": {
    "id": "1ZxT1RxqIb7K"
   },
   "outputs": [],
   "source": [
    "from random import randint "
   ]
  },
  {
   "cell_type": "markdown",
   "metadata": {
    "id": "m8EOA-jNIksy"
   },
   "source": [
    "Repare que na importação acima somente fizemos a importação da função *randint* pertencente à biblioteca *random*. Se tivéssemos escrito\n",
    "```\n",
    "import random\n",
    "```\n",
    "estaríamos importando **toda** a biblioteca *random* e para usar a função *randint* precisaríamos escrever **sempre**\n",
    "```\n",
    "random.randint\n",
    "```\n",
    "Já com a importação\n",
    "```\n",
    "from random import randint\n",
    "```\n",
    "conseguimos usar essa função apenas escrevendo o seu nome:\n",
    "```\n",
    "randint\n",
    "```\n",
    "\n"
   ]
  },
  {
   "cell_type": "code",
   "execution_count": 10,
   "metadata": {
    "id": "hrxWewr8KyAn"
   },
   "outputs": [],
   "source": [
    "A = []\n",
    "while sum(A) < 50:\n",
    "  num = randint(0,5) \n",
    "  #print(num)\n",
    "  A.append(num)"
   ]
  },
  {
   "cell_type": "code",
   "execution_count": 11,
   "metadata": {
    "colab": {
     "base_uri": "https://localhost:8080/"
    },
    "id": "nANzdCgwLWxz",
    "outputId": "6d641069-0938-41ae-ae71-a4937dfaa97a"
   },
   "outputs": [
    {
     "name": "stdout",
     "output_type": "stream",
     "text": [
      "[0, 0, 3, 1, 0, 1, 1, 1, 1, 2, 4, 3, 1, 5, 4, 3, 3, 1, 2, 1, 0, 2, 5, 0, 0, 5, 0, 4] 53\n"
     ]
    }
   ],
   "source": [
    "print(A,sum(A))"
   ]
  },
  {
   "cell_type": "markdown",
   "metadata": {
    "id": "YVZkB_DNLIsj"
   },
   "source": [
    "A função *randint* gera números aleatórios inteiros entre 0 e 5 (incluindo o 0 e o 5 como possibilidades). "
   ]
  },
  {
   "cell_type": "markdown",
   "metadata": {
    "id": "kFxVMajqLaSu"
   },
   "source": [
    "### Problema 2"
   ]
  },
  {
   "cell_type": "markdown",
   "metadata": {
    "id": "1Uv1NzLQLbRR"
   },
   "source": [
    "Adapte o código gerado considerando que toda vez que o número 3 for sorteado ele não pode ser adicionado à lista.  "
   ]
  },
  {
   "cell_type": "markdown",
   "metadata": {
    "id": "6RdnTWE6LfSO"
   },
   "source": [
    "#### Algoritmo:\n",
    "\n",
    "```\n",
    "1. Declare uma lista vazia, nomeie essa lista como 'A'.\n",
    "2. Inicie um loop to tipo while e coloque como condição de execução desse loop que o somatório de 'A' seja menor do que 50. \n",
    "3. Sorteie um número inteiro entre 0 e 5 e armazene o número em uma variável chamada num.\n",
    "4. Se num for igual a 3, retorne ao passo 3.\n",
    "5. Faça a adição de num à lista 'A'.\n",
    "```"
   ]
  },
  {
   "cell_type": "markdown",
   "metadata": {
    "id": "ei-SxwSiNTha"
   },
   "source": [
    "#### Proposta de solução:"
   ]
  },
  {
   "cell_type": "code",
   "execution_count": 12,
   "metadata": {
    "colab": {
     "base_uri": "https://localhost:8080/"
    },
    "id": "l9Hj8msfLPva",
    "outputId": "4aa341b4-ba86-4b11-c922-43f5e80fb591"
   },
   "outputs": [
    {
     "name": "stdout",
     "output_type": "stream",
     "text": [
      "[4, 4, 5, 5, 2, 2, 4, 5, 2, 4, 5, 1, 4, 1, 1, 2] 51\n"
     ]
    }
   ],
   "source": [
    "A = []\n",
    "while sum(A)<50:\n",
    "  num = randint(0,5) \n",
    "  if num == 3:\n",
    "    continue \n",
    "  A.append(num)\n",
    "\n",
    "print(A,sum(A))"
   ]
  },
  {
   "cell_type": "markdown",
   "metadata": {
    "id": "AsX6AofVNvKQ"
   },
   "source": [
    "### Problema 3"
   ]
  },
  {
   "cell_type": "markdown",
   "metadata": {
    "id": "_Qqo4yqfNy8b"
   },
   "source": [
    "Além da adaptação anterior, interrompa o código se forem adicionados à lista a sequência de números 1,2. "
   ]
  },
  {
   "cell_type": "markdown",
   "metadata": {
    "id": "T2ss-g0AN5VK"
   },
   "source": [
    "#### Algoritmo:\n",
    "\n",
    "```\n",
    "1. Declare uma lista vazia, nomeie essa lista como 'A'.\n",
    "2. Declare uma variável chamada num_temp que guarda o valor 0.\n",
    "3. Inicie um loop to tipo while e coloque como condição de execução desse loop que o somatório de 'A' seja menor do que 50. \n",
    "4. Sorteie um número inteiro entre 0 e 5 e armazene o número em uma variável chamada num.\n",
    "5. Se num for igual a 3, retorne ao passo 4.\n",
    "6. Caso num seja diferente de 3, confira se num_temp é diferente de 1. \n",
    "6.1. Se num_temp for igual a 1, confira se num é igual a 2. \n",
    "6.1.1. Se num for igual a 2, interrompa o loop. \n",
    "6.1.2. Se num for diferente de 2, atualize num_temp com o valor de num. \n",
    "6.2. Caso num_temp seja diferente de 1, atualize num_temp com o valor de num.\n",
    "7. Faça a adição de num à lista 'A'.\n",
    "```"
   ]
  },
  {
   "cell_type": "markdown",
   "metadata": {
    "id": "nQ1rUyIqSUnz"
   },
   "source": [
    "#### Proposta de solução:"
   ]
  },
  {
   "cell_type": "code",
   "execution_count": 25,
   "metadata": {
    "colab": {
     "base_uri": "https://localhost:8080/"
    },
    "id": "dsLgyCOzNcKP",
    "outputId": "9fd07365-ba99-4cb0-9dc4-6179cc1d3276"
   },
   "outputs": [
    {
     "name": "stdout",
     "output_type": "stream",
     "text": [
      "num: 2 num_temp: 1\n",
      "[5, 0, 1, 1, 1, 0, 5, 2, 1, 5, 0, 2, 2, 0, 5, 1] 31\n"
     ]
    }
   ],
   "source": [
    "A = []\n",
    "num_temp = 0\n",
    "while sum(A)<1500:\n",
    "  num = randint(0,5) \n",
    "  if num == 3:\n",
    "    continue \n",
    "  else:\n",
    "    if num_temp == 1:\n",
    "      if num == 2:\n",
    "        print('num:',num, 'num_temp:',num_temp)\n",
    "        break\n",
    "      else:\n",
    "        num_temp = num \n",
    "    else:\n",
    "      num_temp = num\n",
    "    \n",
    "  A.append(num)\n",
    "\n",
    "print(A,sum(A))"
   ]
  },
  {
   "cell_type": "markdown",
   "metadata": {
    "id": "NokWRW9BRGb8"
   },
   "source": [
    "### Problema 4 --> Problema do mercadinho apresentado no início do talk "
   ]
  },
  {
   "cell_type": "markdown",
   "metadata": {
    "id": "XB0hu3rGSPu4"
   },
   "source": [
    "#### Proposta de solução: \n",
    "##### Usando dicionário\n"
   ]
  },
  {
   "cell_type": "code",
   "execution_count": 10,
   "metadata": {
    "id": "r9lZ5VfNcxUV"
   },
   "outputs": [],
   "source": [
    "from IPython.display import clear_output\n",
    "import time"
   ]
  },
  {
   "cell_type": "code",
   "execution_count": 12,
   "metadata": {
    "id": "4eLXxeiQcnys"
   },
   "outputs": [],
   "source": [
    "def altera_carrinho():\n",
    "  nome = input('Entre com nome do produto')\n",
    "  if ( carrinho.get(nome, 'Novo') == 'Novo'):\n",
    "    print('==> Produto não está no carrinho!!\\n')\n",
    "  else:\n",
    "    quantidade = int(input('Digite a quantidade: '))\n",
    "    if quantidade == 0:\n",
    "      del carrinho[nome]\n",
    "      print(f'==> Produto {nome} retirado do carrinho\\n')\n",
    "    else:\n",
    "      carrinho[nome] = quantidade\n",
    "      print(f'==> Produto {nome} quantidade alterada para {quantidade}\\n')\n",
    "  time.sleep(1)"
   ]
  },
  {
   "cell_type": "code",
   "execution_count": 13,
   "metadata": {
    "id": "30RT2DpPcqha"
   },
   "outputs": [],
   "source": [
    "def insere_carrinho():\n",
    "  novo_nome = input('Entre com nome do produto')\n",
    "  if ( carrinho.get(novo_nome, 'Novo') == 'Novo'):\n",
    "    novo_quantidade = int(input('Digite a quantidade: '))\n",
    "    carrinho[novo_nome] = novo_quantidade\n",
    "    print(f'==> Produto {novo_nome} quantidade {novo_quantidade} inserido\\n')\n",
    "  else:\n",
    "    print('==> Produto já está no carrinho!!\\n')\n",
    "  time.sleep(1)"
   ]
  },
  {
   "cell_type": "code",
   "execution_count": 14,
   "metadata": {
    "id": "s02bSisgctqB"
   },
   "outputs": [],
   "source": [
    "def lista_carrinho():\n",
    "  if (len(carrinho) == 0):\n",
    "    print('Carrinho vazio\\n')\n",
    "  else:\n",
    "    for k, v in carrinho.items():\n",
    "      print(f'==> Produto {k} e quantidade {v}')\n",
    "    print(f'\\n')\n",
    "  time.sleep(2)\n",
    "  "
   ]
  },
  {
   "cell_type": "code",
   "execution_count": 15,
   "metadata": {
    "id": "FgZJuIDDdGDz"
   },
   "outputs": [],
   "source": [
    "def encerra_carrinho():\n",
    "  print('encerra')"
   ]
  },
  {
   "cell_type": "code",
   "execution_count": 16,
   "metadata": {
    "colab": {
     "base_uri": "https://localhost:8080/"
    },
    "id": "10aGA-JoQHe5",
    "outputId": "5b2b8347-762d-413a-a998-719fec5f08c6"
   },
   "outputs": [
    {
     "name": "stdout",
     "output_type": "stream",
     "text": [
      "\n",
      "  Menu\n",
      "  0 - Finalizar programa\n",
      "  1 - Inserir produto\n",
      "  2 - Ver carrinho\n",
      "  3 - Mudar quantidade do produto\n",
      "  \n",
      "Escolha uma opção: 0\n",
      "encerra\n"
     ]
    }
   ],
   "source": [
    "carrinho = dict([])\n",
    "escolha = ''\n",
    "\n",
    "print(\"\"\"\n",
    "Menu\n",
    "0 - Finalizar programa\n",
    "1 - Inserir produto\n",
    "2 - Ver carrinho\n",
    "3 - Mudar quantidade do produto\n",
    "\"\"\")\n",
    "\n",
    "while True:\n",
    "  escolha = input('Escolha uma opção: ')\n",
    "  if escolha == '1':\n",
    "    insere_carrinho()\n",
    "  elif escolha == '2':\n",
    "    lista_carrinho()\n",
    "  elif escolha == '3':\n",
    "    altera_carrinho()\n",
    "  elif escolha == '0':\n",
    "    encerra_carrinho()\n",
    "    break\n",
    "  else:\n",
    "    print(\"==> Opção Inválida\\n\")\n",
    "  \n",
    "  clear_output(wait=True)\n",
    "  print(\"\"\"\n",
    "  Menu\n",
    "  0 - Finalizar programa\n",
    "  1 - Inserir produto\n",
    "  2 - Ver carrinho\n",
    "  3 - Mudar quantidade do produto\n",
    "  \"\"\")\n",
    "\n"
   ]
  }
 ],
 "metadata": {
  "colab": {
   "collapsed_sections": [],
   "name": "Talk_4_exercícios_resolução.ipynb",
   "provenance": [],
   "toc_visible": true
  },
  "kernelspec": {
   "display_name": "Python 3",
   "language": "python",
   "name": "python3"
  },
  "language_info": {
   "codemirror_mode": {
    "name": "ipython",
    "version": 3
   },
   "file_extension": ".py",
   "mimetype": "text/x-python",
   "name": "python",
   "nbconvert_exporter": "python",
   "pygments_lexer": "ipython3",
   "version": "3.7.0"
  }
 },
 "nbformat": 4,
 "nbformat_minor": 1
}
