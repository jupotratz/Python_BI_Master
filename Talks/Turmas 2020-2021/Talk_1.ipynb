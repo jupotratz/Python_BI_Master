{
 "cells": [
  {
   "cell_type": "markdown",
   "metadata": {
    "id": "80btK5XbwZYO"
   },
   "source": [
    "<img src=\"https://github.com/jupotratz/Python_BI_Master/blob/main/Turmas/2021.3/Imagens/sep.png?raw=true\"  width=1000 height=125 />"
   ]
  },
  {
   "cell_type": "markdown",
   "metadata": {
    "id": "QzcePa9W8N_Y"
   },
   "source": [
    "# Professoras\n",
    "\n",
    " - Amanda Lemette \n",
    "\t - prof.amanda@ica.ele.puc-rio.br\n",
    "\t - [Linkedin](https://www.linkedin.com/in/amanda-lemette-brand%C3%A3o-83280918b)\n",
    "   - [Youtube](https://www.youtube.com/c/AmandaLemette/featured)\n",
    "   \n",
    " - Júlia Potratz\n",
    "\t - prof.julia@ica.ele.puc-rio.br\n",
    "\t - [Linkedin](https://www.linkedin.com/in/julia-potratz)\n",
    "     \n",
    "# Material \n",
    "\n",
    "Repositório no GitHub: [Python_BI_Master](https://github.com/jupotratz/Python_BI_Master)\n",
    "\n",
    "# Talk 1\n",
    "Esse talk foi dado no dia 22/10/2021. \n",
    "\n",
    "- **Plano de aula:**\n",
    "\t- Acessar e como abrir o material de aula        \n",
    "  - Introdução \n",
    "      - Lógica de programação (conceitos básicos)\n",
    "      - Exercícios de lógica iterativos (programação em blocos)\n",
    "\n",
    "  - Python\n",
    "    - Variáveis (str, int, float e bool) + operações em geral\n",
    "        - Simbolos caracteristicos integração entre as variáveis (tentar achar exemplos práticos - comunicação com o usuário INPUT, utilizar nmeros inteiros para poisições - FILA, notas de alunos FLOAT)\n",
    "    - Condicionais (if, elif, else)\n",
    "        - Número par e ímpar, positivo ou negativo, inteiro ou decimal \n",
    "        - Categorias (aprovado, recuperação, nota da recuperação, reprovado)\n",
    "        - Exercício para breakout (exercício do posto de combustível) \n",
    "\n"
   ]
  },
  {
   "cell_type": "markdown",
   "metadata": {
    "id": "5d1PX1ygwZm6"
   },
   "source": [
    "<img src=\"https://github.com/jupotratz/Python_BI_Master/blob/main/Turmas/2021.3/Imagens/sep.png?raw=true\"  width=1000 height=125 />"
   ]
  },
  {
   "cell_type": "markdown",
   "metadata": {
    "id": "bEvcrmoJwZyB"
   },
   "source": [
    "# Acesso ao Material de Aula\n",
    "---\n",
    "## Classroom\n",
    "\n",
    "<img src=\"https://ggte.unicamp.br/wp/wp-content/uploads/2020/07/GoogleClassroom.png\" width=200 align=\"left\">\n",
    "\n",
    "Os materiais de Aula de todas as disciplinas do BI Master ficam disponíveis na plataforma oficial do Curso que é o [Google Classrrom](https://classroom.google.com/).\n",
    "\n",
    "Cada disciplina possui uma turma específica. A disciplina de Sistemas de Apoio à Decisão (SAD) é a disciplina introdutória do BI Master que tem como objetivo apresentar as ferramentas e guiar os alunos na sua utilização para solucionar problemas e desenvolver soluções em problemas reais. Essa disciplina apresenta as seguintes ferramentas:\n",
    "- Introdução a Inteligência Artificial (visão da IA no mercado de trabalho) - Professora [Manoela](https://www.linkedin.com/in/manoelakohler/)\n",
    "- Python (básico + análise de dados) - Professoras [Amanda](https://www.linkedin.com/in/amanda-lemette-brand%C3%A3o-83280918b/), [Júlia](https://www.linkedin.com/in/julia-potratz/) e [Manoela](https://www.linkedin.com/in/manoelakohler/)\n",
    "- SQL - Professor [Anderson Nascimento](https://www.linkedin.com/in/profandersonnascimento/)\n",
    "- Ferramentas para lidar com NLP (Processamento de Linguagem Natural) - Professor [Leonardo Mendonza](https://www.linkedin.com/in/leonardo-alfredo-forero-mendoza-53803159/)\n",
    "\n",
    "---\n",
    "## Para acessar o material \n",
    "1. Entre na turma de **SAD** do Clasrrom \n",
    "2. Acessar a Aba **Atividades** \n",
    "  - Nessa aba as aulas ficam organizadas em tópicos e em ordem cronológica (ordem em que as aulas aconteceram)\n",
    "\n",
    "<img src=\"https://github.com/jupotratz/Python_BI_Master/blob/main/Turmas/2021.3/Imagens/classroom_atividades.png?raw=true\" width=650>\n",
    "\n",
    "\n",
    "\n",
    "\n"
   ]
  },
  {
   "cell_type": "markdown",
   "metadata": {
    "id": "aXG5csk8wZ6r"
   },
   "source": [
    "3. Acessar o tópico da aula. \n",
    "\n",
    "- Cada tópico de aula possui:\n",
    "\n",
    "  - Um link redirecionando para o material de aula e links das tranmissões e do Zoom (antes da aula)\n",
    "\n",
    "  - Um link para um Quis, a depender da disciplina (após a aula)\n",
    "\n",
    "  - Um quis com um formulario de avaliação da aula (após a aula)\n",
    "\n",
    "<img src=\"https://github.com/jupotratz/Python_BI_Master/blob/main/Turmas/2021.3/Imagens/classroom_topico.png?raw=true\" width=600 align=\"left\">\n",
    "\n",
    "\n",
    "\n"
   ]
  },
  {
   "cell_type": "markdown",
   "metadata": {
    "id": "ZUvayBtu5AmN"
   },
   "source": [
    "4. Utilizar o seu número de matricula como chave de acesso para acessar as seguintes informações:\n",
    "\n",
    "- Links da transmissão\n",
    "- Link da pasta do drive com o Material\n",
    "\n",
    "<img src=\"https://github.com/jupotratz/Python_BI_Master/blob/main/Turmas/2021.3/Imagens/drive_folder.png?raw=true\" width=500> "
   ]
  },
  {
   "cell_type": "markdown",
   "metadata": {
    "id": "2AHm93Ui5Ao9"
   },
   "source": [
    "# GitHub\n",
    "\n",
    "<img src=\"https://enotas.com.br/blog/wp-content/uploads/2021/02/GitHub.jpg\" width=200 align=\"left\">\n",
    "\n",
    "- Repositório: [Python - BI Master](https://github.com/jupotratz/Python_BI_Master.git)\n",
    "\n",
    "\n",
    "\n",
    "\n"
   ]
  },
  {
   "cell_type": "markdown",
   "metadata": {
    "id": "VaCOnehu5AsD"
   },
   "source": [
    "Nesse repositório do GitHub estarão alocadas as seguintes informações:\n",
    "- Todas as aulas de Python do BI Master separadas em pastas por turma \n",
    "- Todo o material extra separado por tópicos (graficos, dataframes, básico, etc)"
   ]
  },
  {
   "cell_type": "markdown",
   "metadata": {
    "id": "PSc-VwqY7ihp"
   },
   "source": [
    "<img src=\"https://github.com/jupotratz/Python_BI_Master/blob/main/Turmas/2021.3/Imagens/sep.png?raw=true\"  width=1000 height=125 />"
   ]
  },
  {
   "cell_type": "markdown",
   "metadata": {
    "id": "6lCNr_Ua7ihq"
   },
   "source": [
    "#Por que a programação tem se tornado tão importante nos últimos anos? \n",
    "\n",
    "\n",
    "\n",
    "---\n",
    "\n",
    "\n",
    "A chegada da era da informação vem trazendo grandes mudanças: a gestão dos negócios ficou mais dinâmica e competitiva, exigindo profissionais com perfil proativo e empreendedor, favorecendo a transformação digital, implodindo as estruturas hierárquicas e processuais rígidas e inflexíveis.\n",
    "\n",
    "\n",
    "A evolução tecnológica constante e incansável vem gerando mudanças no cenário empresarial, agregando novos recursos tecnológicos aos processos, reduzindo barreiras de comunicação e simplificando os fluxos de trabalho nas diversas áreas do conhecimento, como por exemplo:\n",
    "\n",
    "- Área médica\n",
    "- Mercado financeiro\n",
    "- Comuniação/Jornalismo\n",
    "- Direito \n",
    "- Agropecuária\n",
    "- Entre outras \n",
    "    \n",
    "Segundo um [artigo](https://c2ti.com.br/blog/as-32-profissoes-mais-cotadas-para-o-futuro-inova) publicado no site da empresa c2ti, a tabela abaixo apresenta algumas profissões que estarão em alta nos próximos anos e irão impactar direta e indiretamente todas as áreas do conhecimento.\n",
    "\n",
    "\n",
    "\n",
    "|Profissão|\n",
    "|-----|\n",
    "|Desenvolvedores de softwares|\n",
    "|Analista de Big Data|\n",
    "|Segurança da informação/Blockchain|\n",
    "|Especialistas em Experiência de Usuário/Cliente|\n",
    "|Profissional de Marketing Digital/Inbound Marketing|Produtores de conteúdo, analistas de mídia|\n",
    "|Gestor de inovação|\n",
    "|Especialista em E-commerce|\n",
    "|Creators/Influenciadores Digitais|\n",
    "|Assessor de creators|\n",
    "|Professores online|\n",
    "\n",
    "\n",
    "### Importância da programação nesse processo de transformação? \n",
    "\n",
    "\n",
    "---\n",
    "\n",
    "\n",
    "- Criação de soluções personalizadas para cada problema\n",
    "- Redução de custos (softwares, suporte técnico, etc)\n",
    "- Desenvolvimento de soft skils como: raciocínio lógico, pensamento analítico e criatividade.\n",
    "- Entre outros\n",
    "\n",
    "\n"
   ]
  },
  {
   "cell_type": "markdown",
   "metadata": {
    "id": "prJ3QZd77ihr"
   },
   "source": [
    "<img src=\"https://github.com/jupotratz/Python_BI_Master/blob/main/Turmas/2021.3/Imagens/sep.png?raw=true\"  width=1000 height=125 />"
   ]
  },
  {
   "cell_type": "markdown",
   "metadata": {
    "id": "_ZRjU8hl7iht"
   },
   "source": [
    "<p style=\"font-family: Calibri; font-size:1.8em;color:red;\"> A programação não surgiu para solucionar os problemas do mundo. Ela surgiu como uma ferramentas que veio facilitar a vida dos seres humanos em diversas tarefas e vem sendo incorporada mais e mais no dia a dia dos profissionais de diferentes áreas do conhecimento.</p>\n",
    "\n",
    "\n",
    "<img src=\"https://github.com/jupotratz/Python_BI_Master/blob/main/Turmas/2021.3/Imagens/meiofim.png?raw=true\">"
   ]
  },
  {
   "cell_type": "markdown",
   "metadata": {
    "id": "7hMx9SZz7ihw"
   },
   "source": [
    "<img src=\"https://github.com/jupotratz/Python_BI_Master/blob/main/Turmas/2021.3/Imagens/sep.png?raw=true\"  width=1000 height=125 />"
   ]
  },
  {
   "cell_type": "markdown",
   "metadata": {
    "id": "FeEArrlc7ihw"
   },
   "source": [
    "# Introdução a Programação\n",
    "\n",
    "\n",
    "---\n",
    "\n",
    "\n",
    "## Lógica de Programação</p>\n",
    "\n",
    "Segundo a filosofia a lógica é a parte da filosofia que trata das formas do pensamento em geral (dedução, indução, hipótese, inferência etc.) e das operações intelectuais que visam à determinação do que é verdadeiro ou não. Já quando pensamos em conceitos no universo da tecnologia da informação a lógica é a organização e planejamento das instruções, assertivas etc. em um algoritmo, a fim de viabilizar a implantação de um programa.\n",
    "\n",
    "<p style=\"font-family: Calibri; font-size:1.4em;color:blue;\"> Programar nada mais é do que a organização coesa de uma sequência de instruções voltadas à resolução de um problema de forma lógica. </p>\n",
    "\n",
    "<img src=\"https://encrypted-tbn0.gstatic.com/images?q=tbn:ANd9GcQFslNDwbeGYOjSrkI9iKABd8FUr2MeMV-GVg&usqp=CAU\" width=600>\n",
    "\n",
    "\n",
    "\n"
   ]
  },
  {
   "cell_type": "markdown",
   "metadata": {
    "id": "acp9NkpV--RZ"
   },
   "source": [
    "## Algoritmos\n",
    "\n",
    "\n",
    "Algoritmo, pode ser definido como uma sequência de passos a serem seguidos que produzem um resultado esperado para determinada atividade ou tarefa. Ele pode ser usado em diferentes situações:\n",
    "\n",
    "- Receitas \n",
    "- Manuais\n",
    "- Programação\n",
    "- Entre outros\n",
    "\n",
    "Por exemplo, vamos criar um algoritmo para trocar uma lâmpada:\n",
    "\n",
    "- **Versão 1**\n",
    "\n",
    "```\n",
    "Passo 1— Pegar uma lâmpada nova;\n",
    "Passo 2 — Pegar a escada;\n",
    "Passo 3 — Posicionar a escada embaixo da lâmpada queimada;\n",
    "Passo 4 — Subir na escada com a lâmpada nova;\n",
    "Passo 5 — Retirar a lâmpada queimada;\n",
    "Passo 6 — Colocar a lâmpada nova;\n",
    "Passo 7 — Descer da escada;\n",
    "Passo 8 — Ligar o interruptor;\n",
    "Passo 9 — Guardar a escada;\n",
    "Passo 10 — Jogar a lâmpada velha no lixo.\n",
    "```\n",
    "\n",
    "Mas quando criamos um algoritomo temos que pensar que ele tem que ser \"for dummies\". Sendo assim, será que tem como melhorar?\n",
    "\n",
    "A resposta para essa pergunta sempre vai ser **sim**, sempre tem como melhorar, mas para isso temos que conhecer dois conceitos importantes.\n",
    "\n",
    "<img src=\"https://gestaoemsintonia.com/wp-content/uploads/2018/01/eficaciaeeficiencia.jpeg\">\n",
    "\n",
    "- **Eficácia** — é a qualidade daquilo que cumpre com as metas planejadas, ou seja, uma característica pertencente as pessoas que alcançam os resultados esperados.\n",
    "\n",
    "- **Eficiência** — é a qualidade daquilo ou de quem é competente, que realiza de maneira correta as suas funções.\n",
    "\n",
    "---\n",
    "<img src=\"https://dobraespacial.com.br/wp-content/uploads/2020/02/Lan%C3%A7amento-brasil.jpg\" align=\"left\" width=325>\n",
    "\n",
    "Exemplo:\n",
    "\n",
    "Vamos supor que você esteja desenvolvendo um algoritmo para realizar o lançamento do primeiro foguete brasileiro com destino a lua.\n",
    "\n",
    "Se seu algoritmo fizer o foguete chegar a lua, ele é uma algoritmo eficiente, mas se seu algoritmo fizer o foguete chegar a lua com o menor tempo de processamento, com a menor quantidade de falhas, e assim por diante, esse sim foi um algoritmo eficaz.\n",
    "\n",
    "---\n",
    "\n",
    "Tendo em vista esses conceitos como poderiamos melhorar o nosso algoritmo de trocar a lâmpada?\n",
    "\n",
    "- **Versão 2**\n",
    "\n",
    "```\n",
    "Passo 1 — Pegar a escada;\n",
    "Passo 2 — Posicionar a escada embaixo da lâmpada queimada;\n",
    "Passo 3 — Pegar uma lâmpada nova;\n",
    "Passo 4 — Subir na escada com a lâmpada nova;\n",
    "Passo 5 — Retirar a lâmpada queimada;\n",
    "Passo 6 — Colocar a lâmpada nova;\n",
    "Passo 7 — Descer da escada;\n",
    "Passo 8 — Ligar o interruptor;\n",
    "Passo 9 — Se a lâmpada não acender então volte ao Passo 3;\n",
    "Passo 10 — Guardar a escada;\n",
    "Passo 11 — Jogar a(s) lâmpada(s) queimada(s) no lixo.\n",
    "```\n",
    "\n",
    "Nessa versão introduzimos uma etapa de verificação da nova lâmpada, para saber se ela não esta queimada também. Será que podemos continuar melhorando?\n",
    "\n",
    "- **Versão 3**\n",
    "```\n",
    "Passo 1 — Pegar a escada;\n",
    "Passo 2 — Posicionar a escada embaixo da lâmpada queimada;\n",
    "Passo 3 — Desligar o disjuntor;\n",
    "Passo 4 — Subir na escada;\n",
    "Passo 5 — Retirar a lâmpada queimada;\n",
    "Passo 6 — Descer da escada com a lâmpada queimada;\n",
    "Passo 7 — Pegar uma lâmpada nova;\n",
    "Passo 8 — Subir na escada;\n",
    "Passo 9 — Colocar a lâmpada nova;\n",
    "Passo 10 — Descer da escada;\n",
    "Passo 11 — Ligar o disjuntor;\n",
    "Passo 12 — Ligar o interruptor;\n",
    "Passo 13 — Se a lâmpada não acender então volte ao Passo 3;\n",
    "Passo 14 — Guardar a escada;\n",
    "Passo 15 — Jogar a(s) lâmpada(s) queimada(s) no lixo.\n",
    "```\n",
    "\n",
    "Na terceira versão introduzimos algumas etapas de segurança, afinal é importante que tenhamos em mente que um algoritmo deve prever riscos.\n",
    "\n",
    "As informações dessa seção foram retiradas de um post intitulado [Algoritmo, definição e exemplos simples do dia a dia](https://medium.com/@valkcastellani/algoritmo-defini%C3%A7%C3%A3o-e-exemplos-simples-do-dia-a-dia-343715536f65) criado pelo programador [Valk Castelalni](https://medium.com/@valkcastellani)"
   ]
  },
  {
   "cell_type": "markdown",
   "metadata": {
    "id": "cmzoSkW1hi7U"
   },
   "source": [
    "<img src=\"https://github.com/jupotratz/Python_BI_Master/blob/main/Turmas/2021.3/Imagens/sep.png?raw=true\"  width=1000 height=125 />"
   ]
  },
  {
   "cell_type": "markdown",
   "metadata": {
    "id": "3DyKwdqshjCr"
   },
   "source": [
    "### Que tal praticar com algumas coisas que fazemos no nosso dia a dia:\n",
    "---\n",
    "- Faça um algoritmo para atravessar a rua\n",
    "- Faça um algoritmo para escovar os dentes\n",
    "- Faça um algoritmo para fazer um sanduiche\n",
    "- Faça um algoritmo para sacar dinheiro de um caixa eletrônico\n",
    "\n",
    "<img src=\"https://a-static.mlcdn.com.br/574x431/adesivo-parede-decorativo-loading-carregando-palavra-barra-aartedecor/aartedecor/1541-1863/bbc74def4e1116a12776398372101bcd.jpg\">\n",
    "\n",
    "Esses algoritmos são **atividades que podem ser realizadas de maneiras diferentes**. Isso acontece pois na maioria das vezes um problema pode ser resolvido de diversas formas, porém, gerando sempre o mesmo resultado final, ou seja, podem existir vários algoritmos para solucionar um mesmo problema.\n"
   ]
  },
  {
   "cell_type": "markdown",
   "metadata": {
    "id": "YOXHukQxhjIB"
   },
   "source": [
    "<img src=\"https://github.com/jupotratz/Python_BI_Master/blob/main/Turmas/2021.3/Imagens/sep.png?raw=true\"  width=1000 height=125 />"
   ]
  },
  {
   "cell_type": "markdown",
   "metadata": {
    "id": "QOIYM0k7iuY7"
   },
   "source": [
    "## Algoritmos voltados para o processamento de dados\n",
    "\n",
    "Do ponto de vista computacional, algoritmo é um conjunto de regras e operações bem definidas e ordenadas, destinadas à solução de um problema (ou de uma classe de problemas) em um número finito de etapas, ou seja, é a representação de uma solução para um problema.\n",
    "\n",
    "Os algoritmos tem um papel fundamental por ser o elo de ligação entre dois mundos (o real e o computacional), e a atividade de programação começa com a construção de um bom algoritmo.\n",
    "\n",
    "<img src=\"https://github.com/jupotratz/Python_BI_Master/blob/main/Turmas/2021.3/Imagens/algoritmo.png?raw=true\">\n",
    "\n",
    "\n",
    "Existem algumas formas de representação de algoritmos, como por exemplo:\n",
    "\n",
    "1. **Descrição Narrativa — que é uma representação textual** (visto na seção anterior)\n",
    "2. **Fluxograma e/ou Diagrama de Nassi-Schneiderman**\n",
    "3. Pseudocódigo (Português estruturado, PORTUGOL) \n",
    "\n",
    "## Fluxogramas\n",
    "\n",
    "Os fluxograma são representações gráficas por meio de símbolos geométricos, das soluções algorítmicas dos problemas.   \n",
    "\n",
    "<img src=\"https://blogdaqualidade.com.br/wp-content/uploads/2012/06/imagem-meire-Fluxograma.jpg\" width=500>\n",
    "\n",
    "---\n",
    "### Exemplos\n",
    "\n",
    "- **Primeiro:** construa um fluxograma para calcular o dobro de determinado número informado.\n",
    "\n",
    "Para iniciar vamos listar o passo a passo a ser seguido...\n",
    "\n",
    "```\n",
    "1. Iniciar o fluxograma\n",
    "2. Receber um determinado número\n",
    "3. Calcular o dobro deste número\n",
    "4. Apresentar o resultado calculado\n",
    "5. Finalizar o fluxograma\n",
    "```\n",
    "\n",
    "<img src=\"https://miro.medium.com/max/498/0*fU5nNtX1JZsavjet\">\n",
    "\n",
    "- **Segundo:** construa um fluxograma que leia dois números e apresente o maior deles.\n",
    "\n",
    "Para iniciar vamos listar o passo a passo a ser seguido...\n",
    "\n",
    "```\n",
    "1.Iniciar o fluxograma\n",
    "2. Receber os dois números\n",
    "3. Verificar se o primeiro número informado é maior que o segundo:\n",
    "  -> Se o primeiro número for maior que o segundo número, apresentamos o primeiro número.\n",
    "  -> Se o segundo número for maior que o primeiro, apresentamos o segundo número.\n",
    "4. Finalizamos o fluxograma.\n",
    "```\n",
    "\n",
    "<img src=\"https://miro.medium.com/max/494/0*TKBmRm1RAxl1eQtr\">\n",
    "\n",
    "\n",
    "\n",
    "### Exercícios:\n",
    "\n",
    "1. Construa um fluxograma para calcular a soma de três números informados.\n",
    "2. Construa um fluxograma que faça a leitura de três números e apresente a média.\n",
    "3. Construa um fluxograma que leia três números e apresente o menor deles.\n",
    "\n",
    "\n",
    "\n",
    "\n",
    "---\n",
    "As informações dessa seção foram retiradas de um post intitulado [Algoritmo, voltado para processamento de dados](https://medium.com/@valkcastellani/algoritmo-voltado-para-processamento-de-dados-5d0b3a2d0c25) criado pelo programador [Valk Castelalni](https://medium.com/@valkcastellani)\n"
   ]
  },
  {
   "cell_type": "markdown",
   "metadata": {
    "id": "eDXRbEPc7ihx"
   },
   "source": [
    "<img src=\"https://github.com/jupotratz/Python_BI_Master/blob/main/Turmas/2021.3/Imagens/sep.png?raw=true\"  width=1000 height=125 />"
   ]
  },
  {
   "cell_type": "markdown",
   "metadata": {
    "id": "D_UWFX9l7ihx"
   },
   "source": [
    "# Exercícios (10 minutos)"
   ]
  },
  {
   "cell_type": "markdown",
   "metadata": {
    "id": "nYQ8GReS7ihx"
   },
   "source": [
    "<p style=\"font-family: Calibri; font-size:1.2em;color:black;\"> Antes de começar a estudar mais o python vamos fazer alguns exercícios para praticar um pouco e começar a entender como devemos pensar quando vamos programar utilizando blocos. A programação em blocos nada mais é do que uma metodologia visualmente amigável e com um objetivo prático para o ensino dos conceitos iniciais ligados à programação, desenvolvimento de softwares/aplicativos e lógica de uma forma geral.</p>\n",
    "\n",
    "### Plataforma utilizada\n",
    "\n",
    "[brokly.games](https://blockly.games/?lang=en)\n",
    "\n",
    "<img src=\"https://github.com/jupotratz/Python_BI_Master/blob/main/Turmas/2021.3/Imagens/qrcode_blockly.games.png?raw=true\" align=\"left\" width=200 height=200>\n",
    "\n",
    "<p style=\"font-family: Calibri; font-size:1.6em;color:red;\"> Exercícios: Maze (2 ao 9)</p>\n",
    "<p style=\"font-family: Calibri; font-size:1.6em;color:red;\"> Obetivo geral: Tentar utilizar o menor número de blocos possíveis </p>"
   ]
  },
  {
   "cell_type": "markdown",
   "metadata": {
    "id": "pOgj29EG7ihy"
   },
   "source": [
    "<img src=\"https://github.com/jupotratz/Python_BI_Master/blob/main/Turmas/2021.3/Imagens/sep.png?raw=true\"  width=1000 height=125 />"
   ]
  },
  {
   "cell_type": "markdown",
   "metadata": {
    "id": "M_SVtH5T7ihy"
   },
   "source": [
    "## Por que o Python?\n",
    "\n",
    "\n",
    "---\n",
    "\n",
    "\n",
    "\n",
    "### 1. Facilidade e versatilidade\n",
    "    \n",
    "- Linguagem livre e de Código aberto\n",
    "- Frameworks disponíveis gratuitamente\n",
    "- Infinidade de módulos disponíveis \n",
    "- Multiplataforma (windowns, linux, mac)\n",
    "- Sintaxe simples \n",
    "- Documentação ampla\n",
    "- Integração com outras linguagens (Java, C, C++, entre outras)\n",
    "    \n",
    "    \n",
    "#### Java\n",
    "\n",
    "\n",
    "\n",
    "    public class Voitto{\n",
    "    public static void main(String[] args)) {\n",
    "        System.out.println(\"Bi Master\")\n",
    "    }\n",
    "}\n",
    "\n",
    "#### Python\n",
    "```bash\n",
    "print(\"Bi Master\")\n",
    "```\n",
    "\n",
    "\n",
    "    \n",
    "\n",
    "### 2. Comunidade ampla e popularidade\n",
    "\n",
    "- Fóruns de discução: Stack Overflow, GitHub\n",
    "- Muitos blogs e material disponível na web\n",
    "\n",
    "### 3. Inteligência Artificial\n",
    "- Bibliotecas completas já disponíveis: Keras, Tensorflow, Scikit-learn, Pytorch, entre outras\n",
    "    \n",
    "### 4. Programação Web\n",
    "\n",
    "- Modulos disponíveis que tornam o desenvolvimento mais fácil: Django e Flask\n",
    "- Algumas grandes empresas que usam Python no dia a dia \n",
    "    \n",
    "<img src=\"https://i2.wp.com/programadoraventureiro.com/wp-content/uploads/2020/12/Who-Use-Python1.png?resize=800%2C419&ssl=1\" />\n",
    "    \n",
    "\n",
    "\n",
    "### 5. Gerenciamento de Big Data\n",
    "- Gerenciamento de informações\n",
    "- Análise de dados: Pandas, Dask e Pyspark\n",
    " \n",
    "<img src=\"https://i.ytimg.com/vi/mG94nRrSlis/maxresdefault.jpg\" />\n",
    "\n",
    "\n",
    "### 6. Mercado Amplo e Salário\n",
    "- De acordo com uma pesquisa feita pelo site Coding Dojo, Python é a terceira linguagem de programação mais procurada pelo mercado, atrás somente de JavaScript e Java.\n",
    "- Grandes empresas como Google e Apple procuram profissionais para desenvolver em Python.\n"
   ]
  },
  {
   "cell_type": "markdown",
   "metadata": {
    "id": "tPFvx3yL7ihy"
   },
   "source": [
    "<img src=\"https://github.com/jupotratz/Python_BI_Master/blob/main/Turmas/2021.3/Imagens/sep.png?raw=true\"  width=1000 height=125 />"
   ]
  },
  {
   "cell_type": "markdown",
   "metadata": {
    "id": "lWwEjSAD7ihz"
   },
   "source": [
    "## Como começar a programar em Python?\n",
    "\n",
    "\n",
    "---\n",
    "\n",
    "\n",
    "\n",
    "\n",
    "<p style=\"font-family: Calibri; font-size:1.8em;color:blue;\"> Passo 1 </p>\n",
    "    \n",
    "- Decida se você vai utilizar um recurso na **nuvem** ou um **recurso local** para aprender a programar.\n",
    "\n",
    "\n",
    "\n",
    "\n",
    "### Frameworks disponíveis:\n",
    "\n",
    "\n",
    "<img src=\"https://github.com/jupotratz/Python_BI_Master/blob/main/Turmas/2021.3/Imagens/frameworks.png?raw=true\" align=\"right\" width=400 height=250 />\n",
    "\n",
    "#### Execução local\n",
    "- [Pycharm](https://www.jetbrains.com/pt-br/pycharm/download/#section=windows)\n",
    "- [Visual Studio Code](https://code.visualstudio.com/)\n",
    "- [Jupyter notebook](https://jupyter.org/)\n",
    "- [Spyder](https://www.spyder-ide.org/)\n",
    "\n",
    "#### Execução na nuvem\n",
    "- [Google Colaboratory](https://colab.research.google.com/)\n",
    "- [Cognitive Class – Lab (IBM)](https://labs.cognitiveclass.ai/tools/jupyterlab/#)\n",
    "\n",
    "\n",
    "\n",
    "<p style=\"font-family: Calibri; font-size:1.8em;color:blue;\"> Passo 2 </p>\n",
    "\n",
    "- Começe com o básico:\n",
    "    - Sintaxe da linguagem\n",
    "    - Funções já disponíveis (funções reservadas do python)\n",
    "- Troque informações e experiência com quem já programa em Python\n",
    "- Pratique bastante\n",
    "    "
   ]
  },
  {
   "cell_type": "markdown",
   "metadata": {
    "id": "ev4YCpg87ihz"
   },
   "source": [
    "<img src=\"https://github.com/jupotratz/Python_BI_Master/blob/main/Turmas/2021.3/Imagens/sep.png?raw=true\"  width=1000 height=125 />"
   ]
  },
  {
   "cell_type": "markdown",
   "metadata": {
    "id": "HYcr2loD7ihz"
   },
   "source": [
    "<p><img alt=\"Colaboratory logo\" height=\"45px\" src=\"data:image/png;base64,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\" align=\"left\"></p>\n",
    "\n",
    "## O que é o Colaboratory?\n",
    "\n",
    "\n",
    "\n",
    "---\n",
    "\n",
    "\n",
    "O Colaboratory, popularmente conhecido como \"Colab\" permite escrever código Python no seu navegador de internet, é um recurso da Google disponível gratuitamente e online tendo como vantagens: \n",
    "- Nenhuma necessidade de configuração \n",
    "- Acesso gratuito a CPU's, GPU's e TPU's\n",
    "- Compartilhamento fácil\n",
    "\n",
    "\n"
   ]
  },
  {
   "cell_type": "markdown",
   "metadata": {
    "id": "YGu5ba00AAV8"
   },
   "source": [
    "### Mais recursos já disponíveis\n",
    "\n",
    "\n",
    "---\n",
    "\n",
    "\n",
    "\n",
    "### Como trabalhar com Notebooks no Colab\n",
    "- [Visão geral do Colaboratory](/notebooks/basic_features_overview.ipynb)\n",
    "- [Guia sobre Markdown](/notebooks/markdown_guide.ipynb)\n",
    "- [Importar bibliotecas e instalar dependências](/notebooks/snippets/importing_libraries.ipynb)\n",
    "- [Salvar e carregar notebooks no GitHub](https://colab.research.google.com/github/googlecolab/colabtools/blob/master/notebooks/colab-github-demo.ipynb)\n",
    "- [Formulários interativos](/notebooks/forms.ipynb)\n",
    "- [Widgets interativos](/notebooks/widgets.ipynb)\n",
    "- <img src=\"/img/new.png\" height=\"20px\" align=\"left\" hspace=\"4px\" alt=\"New\"></img>\n",
    " [TensorFlow 2 no Colab](/notebooks/tensorflow_version.ipynb)\n",
    "\n",
    "<a name=\"working-with-data\"></a>\n",
    "### Como trabalhar com dados\n",
    "- [Carregar dados: Drive, Planilhas e Google Cloud Storage](/notebooks/io.ipynb) \n",
    "- [Gráficos: visualizar dados](/notebooks/charts.ipynb)\n",
    "\n"
   ]
  },
  {
   "cell_type": "markdown",
   "metadata": {
    "id": "150QQ4qF7ih0"
   },
   "source": [
    "## Primeiros passos\n",
    "\n",
    "\n",
    "---\n",
    "\n",
    "\n",
    "O documento que você está lendo não é uma página da Web estática, mas sim um ambiente interativo chamado <strong>notebook Colab</strong> que permite escrever e executar código.\n",
    "\n",
    "Por exemplo, aqui está uma <strong>célula de código</strong> com um breve script Python que calcula um a quantidade de segundos que existe em um dia, armazena essa informação em uma variável e imprime o resultado:"
   ]
  },
  {
   "cell_type": "code",
   "execution_count": null,
   "metadata": {
    "colab": {
     "base_uri": "https://localhost:8080/"
    },
    "id": "3_SMaEJO7ih0",
    "outputId": "a80457ab-86c4-494f-b0cd-c3f4e5d21286"
   },
   "outputs": [
    {
     "name": "stdout",
     "output_type": "stream",
     "text": [
      "86400\n"
     ]
    }
   ],
   "source": [
    "seconds_in_a_day = 24 * 60 * 60\n",
    "print(seconds_in_a_day)"
   ]
  },
  {
   "cell_type": "markdown",
   "metadata": {
    "id": "kR9QJyfU_5iT"
   },
   "source": [
    "Para executar o código em uma célula, clique nela e depois pressione o botão Play à esquerda do código ou use o atalho do teclado \"Ctrl+Enter\" ou \"Shift+Enter\". Para editar o código, basta clicar na célula e começar a editar.\n",
    "\n",
    "As variáveis definidas em uma célula podem ser usadas mais tarde em outras células:"
   ]
  },
  {
   "cell_type": "code",
   "execution_count": null,
   "metadata": {
    "colab": {
     "base_uri": "https://localhost:8080/"
    },
    "id": "1vPsbvTf__f1",
    "outputId": "51f9fe2b-3a66-41b2-e7a4-e66f11c1651d"
   },
   "outputs": [
    {
     "name": "stdout",
     "output_type": "stream",
     "text": [
      "604800\n"
     ]
    }
   ],
   "source": [
    "seconds_in_a_week = 7 * seconds_in_a_day\n",
    "print(seconds_in_a_week)"
   ]
  },
  {
   "cell_type": "markdown",
   "metadata": {
    "id": "RMLYuuXY__sK"
   },
   "source": [
    "### Atalhos de Teclado úteis\n",
    "\n",
    "\n",
    "\n",
    "---\n",
    "\n",
    "|Ação |Jupyter |Colab|\n",
    "|-----|--------|-----|\n",
    "|Adicionar célula acima da atual|A+A|Ctrl+**M**+A|\n",
    "|Adicionar célula abaixo da atual|B+B|Ctrl+**M**+B|\n",
    "|Trocar para célula tipo **code**|Y|Ctrl+**M**+Y|\n",
    "|Trocar para célula tipo **Texto (markdown)**|M|Ctrl+**M**+M|\n",
    "|Interromper kernel (execução)|I+I|Ctrl+**M**+I|\n",
    "|Deletar célula atual|D+D|Ctrl+**M**+D|\n",
    "|Salvar Notebook|Ctrl+S|Ctrl+**M**+S|\n",
    "|Desvazer exclusão de células|Z+Z|Ctrl+**M**+Z|\n",
    "|Identação|Tab|Tab|\n",
    "|Retornar uma Identação|Shift+Tab|Shift+Tab|\n",
    "|Executar código e pular para célula abaixo|Shift+Enter|Shift+Enter|\n",
    "|Executar código e permanecer na célula atual|Ctrl+Enter|Ctrl+Enter|\n"
   ]
  },
  {
   "cell_type": "markdown",
   "metadata": {
    "id": "Ef3x63d3AAOt"
   },
   "source": [
    "# Carregar e salvar dados do Drive e de fontes locais\n",
    "\n",
    "\n",
    "---\n",
    "\n",
    "<img src=\"https://github.com/jupotratz/Python_BI_Master/blob/main/Turmas/2021.3/Imagens/download_infos.png?raw=true\" width=650>\n",
    "\n",
    "## Sistema de arquivos local\n",
    "---\n",
    "### Fazer upload de arquivos a partir de sistema de arquivos local\n",
    "\n",
    "<code>files.upload</code> retorna um dicionário com os arquivos incluídos no upload. O objeto uploaded  é um dicionário com os dados em formato de bytes, pode ser manipulado para virar um objeto tratado pelo pandas. Para isso, usamos a biblioteca [io](https://docs.python.org/3/library/io.html).\n",
    "\n",
    "\n"
   ]
  },
  {
   "cell_type": "code",
   "execution_count": null,
   "metadata": {
    "colab": {
     "base_uri": "https://localhost:8080/",
     "height": 91,
     "resources": {
      "http://localhost:8080/nbextensions/google.colab/files.js": {
       "data": "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",
       "headers": [
        [
         "content-type",
         "application/javascript"
        ]
       ],
       "ok": true,
       "status": 200,
       "status_text": ""
      }
     }
    },
    "id": "Au01goHp__0C",
    "outputId": "c82f8797-2eda-467a-d3e0-1ce9c78052f3"
   },
   "outputs": [
    {
     "data": {
      "text/html": [
       "\n",
       "     <input type=\"file\" id=\"files-de890820-ffe8-401b-9da6-828afb3f1e0a\" name=\"files[]\" multiple disabled\n",
       "        style=\"border:none\" />\n",
       "     <output id=\"result-de890820-ffe8-401b-9da6-828afb3f1e0a\">\n",
       "      Upload widget is only available when the cell has been executed in the\n",
       "      current browser session. Please rerun this cell to enable.\n",
       "      </output>\n",
       "      <script src=\"/nbextensions/google.colab/files.js\"></script> "
      ],
      "text/plain": [
       "<IPython.core.display.HTML object>"
      ]
     },
     "metadata": {},
     "output_type": "display_data"
    },
    {
     "name": "stdout",
     "output_type": "stream",
     "text": [
      "Saving 2015.csv to 2015.csv\n",
      "User uploaded file \"2015.csv\" with length 16557 bytes\n"
     ]
    }
   ],
   "source": [
    "from google.colab import files\n",
    "\n",
    "uploaded = files.upload()\n",
    "\n",
    "for fn in uploaded.keys():\n",
    "  print('User uploaded file \"{name}\" with length {length} bytes'.format(\n",
    "      name=fn, length=len(uploaded[fn])))"
   ]
  },
  {
   "cell_type": "code",
   "execution_count": null,
   "metadata": {
    "id": "TbLtw1eqaS1p"
   },
   "outputs": [],
   "source": [
    "import io\n",
    "import pandas as pd\n",
    "dataset = pd.read_csv(io.BytesIO(uploaded['2015.csv']))"
   ]
  },
  {
   "cell_type": "markdown",
   "metadata": {
    "id": "p3PDb8iKAAHc"
   },
   "source": [
    "### Fazer download de arquivos para o sistema de arquivos local\n",
    "\n",
    "<code>files.download</code> invocará o download do arquivo pelo navegador para seu computador local.\n",
    "\n",
    "\n"
   ]
  },
  {
   "cell_type": "code",
   "execution_count": null,
   "metadata": {
    "id": "3aeWPuFE_jmo"
   },
   "outputs": [],
   "source": [
    "from google.colab import files\n",
    "\n",
    "with open('example.txt', 'w') as f:\n",
    "  f.write('some content')\n",
    "\n",
    "files.download('example.txt')"
   ]
  },
  {
   "cell_type": "markdown",
   "metadata": {
    "id": "HB1WOHIarUgw"
   },
   "source": []
  },
  {
   "cell_type": "markdown",
   "metadata": {
    "id": "-b_f7ggSrUrm"
   },
   "source": [
    "# Dados do Kaggle\n",
    "---\n",
    "\n",
    "Utiliar base de dados de [Tokyo 2020](https://www.kaggle.com/arjunprasadsarkhel/2021-olympics-in-tokyo) diposnibilizada no Kaggle.\n",
    "\n",
    "<img src=\"https://wikiimg.tojsiabtv.com/wikipedia/commons/7/7c/Kaggle_logo.png\" height=\"80px\" align=\"right\" hspace=\"4px\" alt=\"New\" url=\"https://www.kaggle.com/\"></img>\n",
    "\n",
    "#### Criar um arquivo de configuração  kaggle.json\n",
    "\n",
    "1. Cadastre-se no site do Kaggle;\n",
    "2. Após o aceite e confirmações, clique no balão do canto superior direito para acessar suas configurações;\n",
    "3.Role a página para baixo e vá até Create New API Token:\n",
    "\n",
    "<img src=\"https://github.com/jupotratz/Python_BI_Master/blob/main/Turmas/2021.3/Imagens/api_kaggle.png?raw=true\">\n",
    "\n",
    "4. Salve o arquivo .json gerado ao clicar no botão **Create New API Token** em uma pasta conhecida, pois você será solicitado a fazer o upload desse arquivo no Google Colab;\n",
    "\n",
    "5. Vá até a página da base de dados desejada e clique nos três pontinhos localizados no canto direito da tela, indicados na imagem abaixo;\n",
    "\n",
    "<img src=\"https://github.com/jupotratz/Python_BI_Master/blob/main/Turmas/2021.3/Imagens/api_code.png?raw=true\">\n",
    "\n",
    "6. Selecione a opção **Copy API command** e guarde a informação copiada temporariamente em um bloco de notas. Abaixo temos um exemplo de API command.\n",
    "\n",
    "```\n",
    "kaggle datasets download -d arjunprasadsarkhel/2021-olympics-in-tokyo\n",
    "```\n",
    "\n",
    "\n",
    "## No Colab ... \n",
    "\n",
    "#### Caso seja necessário atualizar a biblioteca do kaggle no Google Colab\n",
    "```\n",
    "!pip install kaggle\n",
    "```\n",
    "\n",
    "#### Antes de importar o dataset nós iremos provisionar o local de armazenamento\n",
    "```\n",
    "!mkdir -p ~/.kaggle\n",
    "!cp kaggle.json ~/.kaggle/\n",
    "```\n",
    "\n",
    "#### Alterar a permissão para evitar o aviso durante a partida da ferramenta Kaggle\n",
    "\n",
    "##### This permissions change avoids a warning on Kaggle tool startup.\n",
    "```\n",
    "!chmod 600 ~/.kaggle/kaggle.json\n",
    "```\n",
    "\n",
    "#### Copiar o endereço da API para o download do dataset\n",
    "```\n",
    "!kaggle datasets download -d arjunprasadsarkhel/2021-olympics-in-tokyo\n",
    "```\n",
    "#### Descompactar o arquivo baixado\n",
    "```\n",
    "!unzip \\*.zip  && rm *.zip\n",
    "```"
   ]
  },
  {
   "cell_type": "markdown",
   "metadata": {
    "id": "I5TKqYl1xMkz"
   },
   "source": [
    "\n",
    "#### Atualizar a biblioteca do kaggle no Google Colab\n",
    "\n"
   ]
  },
  {
   "cell_type": "code",
   "execution_count": null,
   "metadata": {
    "colab": {
     "base_uri": "https://localhost:8080/"
    },
    "id": "issVcPeirU2c",
    "outputId": "56387b3c-48ac-4d44-914a-7b1211e9bc20"
   },
   "outputs": [
    {
     "name": "stdout",
     "output_type": "stream",
     "text": [
      "Requirement already satisfied: kaggle in /usr/local/lib/python3.7/dist-packages (1.5.12)\n",
      "Requirement already satisfied: requests in /usr/local/lib/python3.7/dist-packages (from kaggle) (2.23.0)\n",
      "Requirement already satisfied: python-slugify in /usr/local/lib/python3.7/dist-packages (from kaggle) (5.0.2)\n",
      "Requirement already satisfied: urllib3 in /usr/local/lib/python3.7/dist-packages (from kaggle) (1.24.3)\n",
      "Requirement already satisfied: certifi in /usr/local/lib/python3.7/dist-packages (from kaggle) (2021.5.30)\n",
      "Requirement already satisfied: python-dateutil in /usr/local/lib/python3.7/dist-packages (from kaggle) (2.8.2)\n",
      "Requirement already satisfied: tqdm in /usr/local/lib/python3.7/dist-packages (from kaggle) (4.62.3)\n",
      "Requirement already satisfied: six>=1.10 in /usr/local/lib/python3.7/dist-packages (from kaggle) (1.15.0)\n",
      "Requirement already satisfied: text-unidecode>=1.3 in /usr/local/lib/python3.7/dist-packages (from python-slugify->kaggle) (1.3)\n",
      "Requirement already satisfied: chardet<4,>=3.0.2 in /usr/local/lib/python3.7/dist-packages (from requests->kaggle) (3.0.4)\n",
      "Requirement already satisfied: idna<3,>=2.5 in /usr/local/lib/python3.7/dist-packages (from requests->kaggle) (2.10)\n"
     ]
    }
   ],
   "source": [
    "!pip install kaggle"
   ]
  },
  {
   "cell_type": "markdown",
   "metadata": {
    "id": "CFJRvMIFxDPb"
   },
   "source": [
    "\n",
    "#### Enviar o arquivo kaggle.json\n"
   ]
  },
  {
   "cell_type": "code",
   "execution_count": null,
   "metadata": {
    "colab": {
     "base_uri": "https://localhost:8080/",
     "height": 88,
     "resources": {
      "http://localhost:8080/nbextensions/google.colab/files.js": {
       "data": "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",
       "headers": [
        [
         "content-type",
         "application/javascript"
        ]
       ],
       "ok": true,
       "status": 200,
       "status_text": ""
      }
     }
    },
    "id": "WplA-bYexDSF",
    "outputId": "823917aa-fbb0-4dd5-efd5-b38bc7c0b0f7"
   },
   "outputs": [
    {
     "data": {
      "text/html": [
       "\n",
       "     <input type=\"file\" id=\"files-389a7529-4bd4-4ef2-b32e-0542632eb07b\" name=\"files[]\" multiple disabled\n",
       "        style=\"border:none\" />\n",
       "     <output id=\"result-389a7529-4bd4-4ef2-b32e-0542632eb07b\">\n",
       "      Upload widget is only available when the cell has been executed in the\n",
       "      current browser session. Please rerun this cell to enable.\n",
       "      </output>\n",
       "      <script src=\"/nbextensions/google.colab/files.js\"></script> "
      ],
      "text/plain": [
       "<IPython.core.display.HTML object>"
      ]
     },
     "metadata": {},
     "output_type": "display_data"
    },
    {
     "name": "stdout",
     "output_type": "stream",
     "text": [
      "Saving kaggle.json to kaggle.json\n"
     ]
    },
    {
     "data": {
      "text/plain": [
       "{'kaggle.json': b'{\"username\":\"jupotratz\",\"key\":\"a54eb175dfb0984021aa6bd962e56980\"}'}"
      ]
     },
     "execution_count": 2,
     "metadata": {},
     "output_type": "execute_result"
    }
   ],
   "source": [
    "from google.colab import files\n",
    "files.upload() "
   ]
  },
  {
   "cell_type": "markdown",
   "metadata": {
    "id": "jC69g87mxszx"
   },
   "source": [
    "#### Antes de importar o dataset nós iremos provisionar o local de armazenamento\n",
    "\n"
   ]
  },
  {
   "cell_type": "code",
   "execution_count": null,
   "metadata": {
    "id": "5DJLZ8s1xDVV"
   },
   "outputs": [],
   "source": [
    "!mkdir -p ~/.kaggle\n",
    "!cp kaggle.json ~/.kaggle/"
   ]
  },
  {
   "cell_type": "markdown",
   "metadata": {
    "id": "ecDyQKdgxtop"
   },
   "source": [
    "#### Alterar a permissão para evitar o aviso durante a partida da ferramenta Kaggle\n",
    "\n",
    "##### This permissions change avoids a warning on Kaggle tool startup.\n"
   ]
  },
  {
   "cell_type": "code",
   "execution_count": null,
   "metadata": {
    "id": "4fuiIXJGxDX-"
   },
   "outputs": [],
   "source": [
    "!chmod 600 ~/.kaggle/kaggle.json"
   ]
  },
  {
   "cell_type": "markdown",
   "metadata": {
    "id": "64_iCmlLx1bY"
   },
   "source": [
    "\n",
    "#### Copiar o endereço da API para o download do dataset\n"
   ]
  },
  {
   "cell_type": "code",
   "execution_count": null,
   "metadata": {
    "colab": {
     "base_uri": "https://localhost:8080/"
    },
    "id": "kZQf45-dx1lY",
    "outputId": "34ee0319-66ba-4351-a0fc-b4ee7b9acfcc"
   },
   "outputs": [
    {
     "name": "stdout",
     "output_type": "stream",
     "text": [
      "Downloading 2021-olympics-in-tokyo.zip to /content\n",
      "\r\n",
      "  0% 0.00/348k [00:00<?, ?B/s]\r\n",
      "100% 348k/348k [00:00<00:00, 2.90MB/s]\n",
      "\n"
     ]
    }
   ],
   "source": [
    "!kaggle datasets download -d arjunprasadsarkhel/2021-olympics-in-tokyo"
   ]
  },
  {
   "cell_type": "markdown",
   "metadata": {
    "id": "tigdWY7Yx3_i"
   },
   "source": [
    "#### Descompactar o arquivo baixado\n"
   ]
  },
  {
   "cell_type": "code",
   "execution_count": null,
   "metadata": {
    "colab": {
     "base_uri": "https://localhost:8080/"
    },
    "id": "kpGfBjaDx4Qg",
    "outputId": "e332d4cc-a421-4363-8964-1e8f7e1f950f"
   },
   "outputs": [
    {
     "name": "stdout",
     "output_type": "stream",
     "text": [
      "Archive:  2021-olympics-in-tokyo.zip\n",
      "  inflating: Athletes.xlsx           \n",
      "  inflating: Coaches.xlsx            \n",
      "  inflating: EntriesGender.xlsx      \n",
      "  inflating: Medals.xlsx             \n",
      "  inflating: Teams.xlsx              \n"
     ]
    }
   ],
   "source": [
    "!unzip \\*.zip  && rm *.zip"
   ]
  },
  {
   "cell_type": "markdown",
   "metadata": {
    "id": "-clQOCoszJzx"
   },
   "source": [
    "#### Utilizar a biblioteca pandas para ler alguma planilha da base de dados"
   ]
  },
  {
   "cell_type": "code",
   "execution_count": null,
   "metadata": {
    "colab": {
     "base_uri": "https://localhost:8080/",
     "height": 200
    },
    "id": "V3JqPnPyzJJr",
    "outputId": "bf2dbe08-0f6e-4adf-92b2-7badd60fff82"
   },
   "outputs": [
    {
     "data": {
      "text/html": [
       "<div>\n",
       "<style scoped>\n",
       "    .dataframe tbody tr th:only-of-type {\n",
       "        vertical-align: middle;\n",
       "    }\n",
       "\n",
       "    .dataframe tbody tr th {\n",
       "        vertical-align: top;\n",
       "    }\n",
       "\n",
       "    .dataframe thead th {\n",
       "        text-align: right;\n",
       "    }\n",
       "</style>\n",
       "<table border=\"1\" class=\"dataframe\">\n",
       "  <thead>\n",
       "    <tr style=\"text-align: right;\">\n",
       "      <th></th>\n",
       "      <th>Name</th>\n",
       "      <th>NOC</th>\n",
       "      <th>Discipline</th>\n",
       "    </tr>\n",
       "  </thead>\n",
       "  <tbody>\n",
       "    <tr>\n",
       "      <th>0</th>\n",
       "      <td>AALERUD Katrine</td>\n",
       "      <td>Norway</td>\n",
       "      <td>Cycling Road</td>\n",
       "    </tr>\n",
       "    <tr>\n",
       "      <th>1</th>\n",
       "      <td>ABAD Nestor</td>\n",
       "      <td>Spain</td>\n",
       "      <td>Artistic Gymnastics</td>\n",
       "    </tr>\n",
       "    <tr>\n",
       "      <th>2</th>\n",
       "      <td>ABAGNALE Giovanni</td>\n",
       "      <td>Italy</td>\n",
       "      <td>Rowing</td>\n",
       "    </tr>\n",
       "    <tr>\n",
       "      <th>3</th>\n",
       "      <td>ABALDE Alberto</td>\n",
       "      <td>Spain</td>\n",
       "      <td>Basketball</td>\n",
       "    </tr>\n",
       "    <tr>\n",
       "      <th>4</th>\n",
       "      <td>ABALDE Tamara</td>\n",
       "      <td>Spain</td>\n",
       "      <td>Basketball</td>\n",
       "    </tr>\n",
       "  </tbody>\n",
       "</table>\n",
       "</div>"
      ],
      "text/plain": [
       "                Name     NOC           Discipline\n",
       "0    AALERUD Katrine  Norway         Cycling Road\n",
       "1        ABAD Nestor   Spain  Artistic Gymnastics\n",
       "2  ABAGNALE Giovanni   Italy               Rowing\n",
       "3     ABALDE Alberto   Spain           Basketball\n",
       "4      ABALDE Tamara   Spain           Basketball"
      ]
     },
     "execution_count": 8,
     "metadata": {},
     "output_type": "execute_result"
    }
   ],
   "source": [
    "# importar os pacotes necessários\n",
    "import pandas as pd\n",
    "\n",
    "# importar o arquivo\n",
    "df = pd.read_excel(\"Athletes.xlsx\") #aqui você deve especificar o nome do arquivo .csv que deseja importar\n",
    "\n",
    "# ver 5 as primeiras entradas\n",
    "df.head()"
   ]
  },
  {
   "cell_type": "markdown",
   "metadata": {
    "id": "MQbZ5HiSMywc"
   },
   "source": [
    "## Sistema de arquivos na nuvem (Drive)\n",
    "---\n",
    "\n",
    "# Google Drive\n",
    "\n",
    "É possível acessar os arquivos no Drive de várias maneiras. Por exemplo:\n",
    "- Montar o Google Drive na máquina virtual do ambiente de execução\n",
    "- Usar um wrapper ao redor da API, <a href=\"https://pythonhosted.org/PyDrive/\">como o PyDrive</a>\n",
    "- Usar a <a href=\"https://developers.google.com/drive/v3/web/about-sdk\">API REST nativa</a>\n",
    "\n",
    "\n",
    "Nós vamos explorar apenas o primeiro tópico que consiste na montagem do Google Drive. Para explorar as outras soluções vocês podem encontrar as respostas <a href=\"https://colab.research.google.com/notebooks/io.ipynb#scrollTo=c2W5A2px3doP\">aqui</a>\n",
    "\n",
    "---\n",
    "O exemplo abaixo mostra como montar o Google Drive no seu ambiente de execução usando um código de autorização, além de como gravar e ler arquivos nele. Depois de executado, você verá o novo arquivo &#40;<code>foo.txt</code>&#41; no <a href=\"https://drive.google.com/\">https://drive.google.com/</a>.\n",
    "\n",
    "Isto permite somente ler, gravar e mover arquivos. Para modificar de maneira programática as configurações de compartilhamento ou outros metadados, use uma das opções abaixo.\n",
    "\n",
    "<strong>Observação:</strong> ao usar o botão \"Montar Drive\" no navegador de arquivos, não é necessário usar nenhum código de autenticação para notebooks que tenham sido editados somente pelo usuário atual."
   ]
  },
  {
   "cell_type": "code",
   "execution_count": null,
   "metadata": {
    "colab": {
     "base_uri": "https://localhost:8080/"
    },
    "id": "s7djv8DoNwMt",
    "outputId": "41f18868-2ac3-4893-cb26-a395535c009a"
   },
   "outputs": [
    {
     "name": "stdout",
     "output_type": "stream",
     "text": [
      "Mounted at /content/drive\n"
     ]
    }
   ],
   "source": [
    "from google.colab import drive\n",
    "drive.mount('/content/drive')"
   ]
  },
  {
   "cell_type": "code",
   "execution_count": null,
   "metadata": {
    "id": "XvDz8q4bOMYY"
   },
   "outputs": [],
   "source": [
    "with open('/content/drive/My Drive/foo.txt', 'w') as f:\n",
    "  f.write('Hello Google Drive!')\n",
    "!cat /content/drive/My\\ Drive/foo.txt"
   ]
  },
  {
   "cell_type": "markdown",
   "metadata": {
    "id": "H-7wRTtBOdcC"
   },
   "source": [
    "### Direcionar o Google Colaboratory para a sua pasta Colab Notebooks\n",
    "\n",
    "Para melhorar o processo de trabalho ao utilizar o recurso de montar o drive é uma boa prática setar o diretório de trabalho como diretório corrente. Esse procedimento tem algumas vantagens como:\n",
    "\n",
    "- Facilita o trabalho, pois em geral é recomendado manter todos os arquivos necessários para um projeto em um único diretório (exemplo: pasta do projeto que esta trabalhando)\n",
    "- Evita ter que ficar passando o diretório completo de arquivos para ler e salvar dados no Drive.\n",
    "\n",
    "Para realizar esse procedimentos precisamos seguir dois passos:\n",
    "1. Encontrar o caminho do diretório desejado. \n",
    "  - Utilizar o comando linux [ls](https://guialinux.uniriotec.br/ls/) utilizado para listar arquivos e/ou pastas dentro de um diretório.\n",
    "\n",
    "\n"
   ]
  },
  {
   "cell_type": "code",
   "execution_count": null,
   "metadata": {
    "colab": {
     "base_uri": "https://localhost:8080/"
    },
    "id": "1lQFpids_6JR",
    "outputId": "1c4d150e-27da-46b4-d625-c3161a2e2d56"
   },
   "outputs": [
    {
     "name": "stdout",
     "output_type": "stream",
     "text": [
      "drive  sample_data\n"
     ]
    }
   ],
   "source": [
    "# ls é um comando linux (derivado das primeiras consoantes da palavra inglesa list)\n",
    "!ls"
   ]
  },
  {
   "cell_type": "code",
   "execution_count": null,
   "metadata": {
    "colab": {
     "base_uri": "https://localhost:8080/"
    },
    "id": "1edra-Ro_8-Y",
    "outputId": "c5981aa7-1a0d-4244-d4ea-0411c814dd99"
   },
   "outputs": [
    {
     "name": "stdout",
     "output_type": "stream",
     "text": [
      "MyDrive\n"
     ]
    }
   ],
   "source": [
    "# ls é um comando linux (derivado das primeiras consoantes da palavra inglesa list)\n",
    "!ls 'drive'"
   ]
  },
  {
   "cell_type": "code",
   "execution_count": null,
   "metadata": {
    "colab": {
     "base_uri": "https://localhost:8080/"
    },
    "id": "r2fWyJRw_-7n",
    "outputId": "154b246c-2381-4fd2-bd36-08f31dc08efc"
   },
   "outputs": [
    {
     "name": "stdout",
     "output_type": "stream",
     "text": [
      " 2016-ml-contest-master.rar\n",
      "'2020-09-17 10-08-49.mkv'\n",
      "'2021-05-07 16-26-01.mkv'\n",
      " 30-20140327-TESEMSC_0_entity.conllu\n",
      "'Ano Novo - 2021'\n",
      " Apostila_Tipos_de_dados.pdf\n",
      " applications.rar\n",
      "'Aula 14 de Maio de 2020.mp4'\n",
      "'Aula 1 - PLAY.pdf'\n",
      "'Aula 2 - Exercícios_Rute.ipynb'\n",
      "'Aula 30 de Abril de 2020.mp4'\n",
      " Aula3.ipynb\n",
      "'Aula 3 - parte 1 - acompanhando.ipynb'\n",
      " Classification_with_transfer_learning.ipynb\n",
      " Classroom\n",
      "'Colab Notebooks'\n",
      " conllu\n",
      " conllu_2\n",
      "'Contrato buzios JULIA NOVEMBRO 2021.pdf'\n",
      "'Criando ambientes.pdf'\n",
      " dadosvoos_2007.csv\n",
      " dados_voos.ipynb\n",
      " data3.rar\n",
      " DeepFacies.rar\n",
      " DeepLab\n",
      " DeepLab.rar\n",
      " download.jfif\n",
      "'Estruturas Condicionais - Exercícios.pdf'\n",
      "'Estruturas de Repetição - Exercícios.pdf'\n",
      "'Exemplo - Cifar.ipynb'\n",
      " Exemplos_2007.ipynb\n",
      "'Exemplos - Aula 03.ipynb'\n",
      " Exemplo_voos.ipynb\n",
      "'Exercícios - Aula 04.ipynb'\n",
      "'Exercícios - resolução.ipynb'\n",
      " ExperiaSite.zip\n",
      " flower_classification_train_4.ipynb\n",
      "'Funções - Exercícios.pdf'\n",
      "'Fut das 7'\n",
      "'Homework_3_2 (1).ipynb'\n",
      " ICA\n",
      " Image_teste_1500.npz\n",
      " imgs\n",
      " jsons.zip\n",
      " Kagle.rar\n",
      "'Lista de Exercícios - Estruturas de Repetição-Copy1.ipynb'\n",
      " Logo-PLAY.png\n",
      "'Mestrado - PUC Rio'\n",
      " named-entity-recognition-service.zip\n",
      " NER\n",
      "'output (1) (1).pdf'\n",
      "'output (1).pdf'\n",
      " output.pdf\n",
      " PLAY\n",
      "'PLAY - Aula 2.pdf'\n",
      "'Play-Programação Lúdica de Aplicações em Python.gsheet'\n",
      "'Play-Programação Lúdica de Aplicações em Python.xlsx'\n",
      "'Projeto Final - Deep Computer Vision'\n",
      "'Projeto ML'\n",
      "'Projeto sem título.gscript'\n",
      " Python\n",
      " quantidades_normativo.xlsx\n",
      " resolucoes.zip\n",
      " Resumo.txt\n",
      " SQL\n",
      " TaiwanData.csv\n",
      " textclear_model.zip\n",
      " Text_embedding\n",
      "'Trabalho - Servomec - Júlia.ipynb'\n",
      " unet.eps\n",
      " unet.png\n",
      " Untitled0.ipynb\n",
      " Untitled1.ipynb\n",
      " Untitled.ipynb\n",
      "'Video - ExperiaBot - Parte 1.mp4'\n",
      "'Video - ExperiaBot - Parte 2.mp4'\n",
      " vis20_t4_LuisFernandoMarinSepulveda_JúliaPotratz.ipynb\n"
     ]
    }
   ],
   "source": [
    "# ls é um comando linux (derivado das primeiras consoantes da palavra inglesa list)\n",
    "!ls 'drive/MyDrive/'"
   ]
  },
  {
   "cell_type": "code",
   "execution_count": null,
   "metadata": {
    "colab": {
     "base_uri": "https://localhost:8080/"
    },
    "id": "5d6XTcu1AMaT",
    "outputId": "75aa3512-81dc-4db0-e085-0630d13a1995"
   },
   "outputs": [
    {
     "name": "stdout",
     "output_type": "stream",
     "text": [
      "'ApostilaPython (1).ipynb'\n",
      " ApostilaPython.ipynb\n",
      " Aula_01.ipynb\n",
      "'Cópia de Takl_1.ipynb'\n",
      " Desafio_Emagrecimento.ipynb\n",
      " desafio.txt\n",
      "'Estruturas condicionais.ipynb'\n",
      " img.jpg\n",
      "'Lista de  Exercícios - Estruturas Condicionais_em branco.ipynb'\n",
      "'Lista de  Exercícios - Estruturas Condicionais.ipynb'\n",
      " __pycache__\n",
      " Takl_1.ipynb\n",
      " Takl_2.ipynb\n",
      " Untitled0.ipynb\n",
      " utils.py\n"
     ]
    }
   ],
   "source": [
    "!ls 'drive/MyDrive/Colab Notebooks'"
   ]
  },
  {
   "cell_type": "markdown",
   "metadata": {
    "id": "VeFMMkPM_6TT"
   },
   "source": [
    "2. Setar esse caminho como o diretório corrente do notebook que está sendo executado.\n",
    "  - Utilizar a função <code>os.chdir(dir)</code> da biblioteca [os](https://docs.python.org/pt-br/3/library/os.html) para definir o diretório corrente"
   ]
  },
  {
   "cell_type": "code",
   "execution_count": null,
   "metadata": {
    "id": "gj2d6kynAVZC"
   },
   "outputs": [],
   "source": [
    "# Importar a biblioteca os\n",
    "import os\n",
    "\n",
    "# Utilizando a função .chdir()\n",
    "os.chdir('drive/MyDrive/Colab Notebooks')"
   ]
  },
  {
   "cell_type": "code",
   "execution_count": null,
   "metadata": {
    "colab": {
     "base_uri": "https://localhost:8080/"
    },
    "id": "cAWdA5jxAhzg",
    "outputId": "88000dd1-66ad-4ee6-e53e-df4bee6a4739"
   },
   "outputs": [
    {
     "name": "stdout",
     "output_type": "stream",
     "text": [
      "/content/drive/MyDrive/Colab Notebooks\n"
     ]
    }
   ],
   "source": [
    "# Verificar o diretório corrente (PWD = Print Working Directory - comando linux)\n",
    "!pwd "
   ]
  },
  {
   "cell_type": "markdown",
   "metadata": {
    "id": "YI1vSQxXQa0X"
   },
   "source": [
    "<img src=\"https://github.com/jupotratz/Python_BI_Master/blob/main/Turmas/2021.3/Imagens/sep.png?raw=true\"  width=1000 height=125 />"
   ]
  },
  {
   "cell_type": "markdown",
   "metadata": {
    "id": "AV-onxRPSaA6"
   },
   "source": [
    "# Exemplos do dia a dia\n",
    "---\n",
    "\n"
   ]
  },
  {
   "cell_type": "markdown",
   "metadata": {
    "id": "SrzCKrZruEVe"
   },
   "source": [
    "## Pintor \n",
    "\n",
    "Um Pintor muito eficiente que trabalha com pintura de escritórios comerciais decide construir um sistema automático para informar aos seus clientes o custo da mão de obra e a quantidade de tinta necessária para realizar a pintura dos escritórios. O objetivo do pintor é construir um sistema que possa fornecer o custo para o cliente de forma rápida, e assim conseguir mais clientes. \n",
    "\n",
    "O pintor cobra em média R$ 3.50 por m²\n",
    "Além disso, ele tem uma tabela com os rendimentos médios de algumas marcas de tinta.\n",
    "\n",
    "|Marca|m²/l|Preço médio/l|\n",
    "|:-----:|:------:|:-----:|\n",
    "|A| 4|\t3,40|\t\n",
    "|B| 6|\t5,10|\t\n",
    "|C| 8|\t6,80|\t\n",
    "|D| 10|\t8,50|\n",
    "|E| 12|\t10,20|\n",
    "|F| 14|\t11,90|\n",
    "\n",
    "\n",
    "Para o programa funcionar a única coisa que o pintor precisa é que o cliente forneça a quantidade de salas e as dimensões (largura e comprimento) de cada sala.\n",
    "\n",
    "\n",
    "\n",
    "\n",
    "\n",
    "\n",
    "\n",
    "\n"
   ]
  },
  {
   "cell_type": "code",
   "execution_count": null,
   "metadata": {
    "id": "ynwSYWtu_2XL"
   },
   "outputs": [],
   "source": [
    "from utils import orcamento_pintor"
   ]
  },
  {
   "cell_type": "code",
   "execution_count": null,
   "metadata": {
    "colab": {
     "base_uri": "https://localhost:8080/"
    },
    "id": "dyL24OzADYrT",
    "outputId": "cb14f5d9-c958-4872-bf1e-b657d8c4504e"
   },
   "outputs": [
    {
     "name": "stdout",
     "output_type": "stream",
     "text": [
      "========= Orçamento =========\n",
      "\n",
      "Mão de obra: R$ 419.48\n",
      "\n",
      "Orçamento estimado do material por marca: \n",
      "  Marca  RT  Price  Sala_1_(Preço)  Sala1_(Litros)\n",
      "0     A   4    3.4            64.6            19.0\n",
      "1     B   6    5.1            66.3            13.0\n",
      "2     C   8    6.8            68.0            10.0\n",
      "3     D  10    8.5            68.0             8.0\n",
      "4     E  12   10.2            61.2             6.0\n",
      "5     F  14   11.9            59.5             5.0\n",
      "\n",
      "Orçamento estimado do material total: R$ 387.59999999999997, sendo 61.0 l de tinta.\n"
     ]
    }
   ],
   "source": [
    "orcamento_pintor()"
   ]
  },
  {
   "cell_type": "markdown",
   "metadata": {
    "id": "v7JHEYguEM1t"
   },
   "source": [
    "### Estruturando o programa do pintor no formato de algoritmo\n",
    "\n",
    "Vamos tentar formular um algoritmo para criar um sistema automático para o pintor gerar os seus orçamentos?\n",
    "\n",
    "<img src=\"https://a-static.mlcdn.com.br/574x431/adesivo-parede-decorativo-loading-carregando-palavra-barra-aartedecor/aartedecor/1541-1863/bbc74def4e1116a12776398372101bcd.jpg\">\n",
    "\n",
    "\n",
    "\n",
    "\n",
    "\n",
    "\n"
   ]
  },
  {
   "cell_type": "markdown",
   "metadata": {
    "id": "tRaw6CcaG7B4"
   },
   "source": [
    "- **Versão 1**\n",
    "\n",
    "```\n",
    "1. Fornecer a informação do valor da mão de obra por m².\n",
    "2. Fornecer as informações de valores das diferentes marcas de tinta.\n",
    "3. Perguntar quantas salas o cliente deseja pintar.\n",
    "4. Perguntar o formato da sala (1 - quadrado ou 2 - para retangular) [começando da sala 1]\n",
    "5. Perguntar a largura da sala \n",
    "6. Perguntar a altura da sala\n",
    "7. Se a sala for retangular, perguntar o comprimento da sala\n",
    "8. Calcular a area de superficie (area de parede da sala)\n",
    "9. Calcular o valor para pintar aquela sala\n",
    "10. Quardar as informações area de superficie e valor em algum lugar\n",
    "11. Se tiver mais salas voltar para o passo 4.\n",
    "12. Calcular a quantidade de tinta para cada sala e para cada marca de tinta.\n",
    "13. Calcular a quantidade de tinta total e o valor total do material.\n",
    "14. Exibir os resultados para o cliente.\n",
    "\n",
    "```"
   ]
  },
  {
   "cell_type": "markdown",
   "metadata": {
    "id": "bahzic2KHGAA"
   },
   "source": [
    "- **Versão 2**\n",
    "\n",
    "```\n",
    "1. Fornecer a informação do valor da mão de obra por m².\n",
    "2. Fornecer as informações de valores das diferentes marcas de tinta.\n",
    "3. Perguntar quantas salas o cliente deseja pintar.\n",
    "4. Perguntar o formato da sala (1 - quadrado ou 2 - para retangular) [começando da sala 1]\n",
    "5. Se o usuário fornecer uma informação inválida, solicitar novamente o formato da sala.\n",
    "6. Perguntar a largura da sala \n",
    "7. Perguntar a altura da sala\n",
    "8. Se a sala for retangular, perguntar o comprimento da sala\n",
    "9. Calcular a area de superficie (area de parede da sala)\n",
    "10. Calcular o valor para pintar aquela sala\n",
    "11. Quardar as informações area de superficie e valor em algum lugar\n",
    "12. Se tiver mais salas voltar para o passo 4.\n",
    "13. Calcular a quantidade de tinta para cada sala e para cada marca de tinta.\n",
    "14. Calcular a quantidade de tinta total e o valor total do material.\n",
    "15. Exibir os resultados para o cliente.\n",
    "\n",
    "```"
   ]
  },
  {
   "cell_type": "markdown",
   "metadata": {
    "id": "_CgnEo1sBdkl"
   },
   "source": [
    "## Como ficaria em um diagrama de blocos?\n",
    "\n",
    "<img src=\"https://github.com/jupotratz/Python_BI_Master/blob/main/Turmas/2021.3/Imagens/blocos_pintor_2.png?raw=true\">"
   ]
  },
  {
   "cell_type": "code",
   "execution_count": null,
   "metadata": {
    "id": "fsqk2NgBEBdb"
   },
   "outputs": [],
   "source": [
    "from IPython.display import clear_output\n",
    "import pandas as pd\n",
    "import time\n",
    "\n",
    "def orcamento_pintor():\n",
    "\n",
    "    tabela_rendimentos = {\"Marca\":list('ABCDEF'),\"RT\":[4, 6, 8, 10, 12, 14], 'Price':[3.40, 5.10, 6.80, 8.50, 10.20, 11.90]}\n",
    "    tabela_rendimentos = pd.DataFrame(tabela_rendimentos)\n",
    "    #print(tabela_rendimentos)\n",
    "    quantidade_salas = input('Quantas salas existem no seu escritório: ')\n",
    "    clear_output(wait=True) # ========= clear terminal output\n",
    "    preco_metro_quadrado = 3.5\n",
    "  \n",
    "\n",
    "    infos_salas, valor_total = [], 0\n",
    "    for idx  in range(int(quantidade_salas)):\n",
    "        formato = input(f'Qual o formato da sala {idx+1}?\\n\\n1 - Quadrada\\n2 - Retangular\\n\\n Escolha uma das opções desejadas: ')\n",
    "        while formato not in ['1','2']:\n",
    "            clear_output(wait=True) # ========= clear terminal output\n",
    "            print('========= OPÇÃO INVÁLIDA =========\\n\\nTente novament...\\n\\n')\n",
    "            formato = input(f'Qual o formato da sala {idx+1}?\\n\\n1 - Quadrada\\n2 - Retangular\\n\\n Escolha uma das opções desejadas: ')\n",
    "\n",
    "        clear_output(wait=True) # ========= clear terminal output\n",
    "\n",
    "        largura = float(input(f'Informe a largura da sala {idx+1}: '))\n",
    "        altura =  float(input(f'Informe a altura da sala {idx+1}: '))\n",
    "\n",
    "        if formato == '2':\n",
    "            comprimento = float(input(f'Informe o comprimento da sala {idx+1}: '))\n",
    "            area_teto = largura*comprimento\n",
    "            area_paredes = ((2*(largura*altura))+(2*(comprimento*altura)))*0.95\n",
    "            area_pintura_aproximada = area_teto + area_paredes \n",
    "        else:\n",
    "            area_teto = largura*largura\n",
    "            area_paredes = 4*(largura*altura)*0.95\n",
    "            area_pintura_aproximada = area_teto + area_paredes\n",
    "        \n",
    "        valor_sala = area_pintura_aproximada*preco_metro_quadrado\n",
    "        valor_total += valor_sala\n",
    "\n",
    "    infos_salas.append([formato,area_pintura_aproximada,valor_sala])\n",
    "    clear_output(wait=True) # ========= clear terminal output\n",
    "\n",
    "    print('========= Orçamento =========',end='\\n\\n')\n",
    "\n",
    "    print(f'Mão de obra: R$ {round(valor_total,2)}',end='\\n\\n')\n",
    "    print('Orçamento estimado do material por marca: ')\n",
    "\n",
    "    total_p, total_l = 0, 0\n",
    "\n",
    "    for idx, (_,area_pintura_aproximada,valor_sala) in enumerate(infos_salas):\n",
    "        tabela_rendimentos[f'Sala_{idx+1}_(Preço)'] = tabela_rendimentos.apply(lambda x: round(area_pintura_aproximada/x.RT,0)*x.Price,axis=1)\n",
    "        tabela_rendimentos[f'Sala{idx+1}_(Litros)'] = tabela_rendimentos.apply(lambda x: round(area_pintura_aproximada/x.RT,0),axis=1)\n",
    "        total_p += tabela_rendimentos[f'Sala_{idx+1}_(Preço)'].sum()\n",
    "        total_l += tabela_rendimentos[f'Sala{idx+1}_(Litros)'].sum()\n",
    "    print(tabela_rendimentos,end='\\n\\n')\n",
    "\n",
    "    print(f'Orçamento estimado do material total: R$ {round(total_p,2)}, sendo {total_l} l de tinta.')"
   ]
  },
  {
   "cell_type": "markdown",
   "metadata": {
    "id": "ctaMPBEW9mvR"
   },
   "source": [
    "## Caixa de supermercado\n",
    "\n",
    "Sr. Joaquim contratou um especilista em python para montar um sistema de vendas para a sua loja. Nesse sitema de vendas o ojetivo é fornecer um histórico da compra bem como a sua estatistica basica para o cliente fornecendo as seguintes informações:\n",
    "- Histórico da compra (valor por item e valor total)\n",
    "- Porcentagem de produtos por classe (graficamente)\n",
    "- Porcentagem do valor de cada classe de produtos na valor final da compra (graficamente)\n",
    "\n",
    "Além disso, para manter os negocios funcionando bem o Sr. Joaqui também para o especialista fazer um balanço das vendas por dia, para que futuramente ele possa controlar melhor o seu estoque semanal e assim atender os seus clientes. Nesse balanço eles deseja as seguintes informações no final de cada dia:\n",
    "- Quantidade vendida de cada produto\n",
    "- Porcentagem de produtos por classe\n",
    "\n",
    "<img src=\"https://encrypted-tbn0.gstatic.com/images?q=tbn:ANd9GcS0rs-rC0sQ17Q4d8n9_A-45vLvgdeltQs6Tg&usqp=CAU\" width=400>\n"
   ]
  },
  {
   "cell_type": "code",
   "execution_count": null,
   "metadata": {
    "id": "pTNqoXqDDqes"
   },
   "outputs": [],
   "source": [
    "from utils import caixa_sr_joaquin"
   ]
  },
  {
   "cell_type": "code",
   "execution_count": null,
   "metadata": {
    "colab": {
     "base_uri": "https://localhost:8080/",
     "height": 592
    },
    "id": "8YDYZsKmuOON",
    "outputId": "6e2f464e-195b-4887-fefe-615ed8c46eba"
   },
   "outputs": [
    {
     "name": "stdout",
     "output_type": "stream",
     "text": [
      "\n",
      "Operações disponíveis\n",
      "\n",
      "1 - Contabilizar nova compra\n",
      "2 - Fechar caixa\n",
      "\n",
      "Digite a opção desejada: 2\n",
      "O caixa fechou com um total de R$ 181\n"
     ]
    },
    {
     "data": {
      "image/png": "[encoded data removed]",
      "text/plain": [
       "<Figure size 1080x504 with 2 Axes>"
      ]
     },
     "metadata": {},
     "output_type": "display_data"
    }
   ],
   "source": [
    "caixa_sr_joaquin()"
   ]
  },
  {
   "cell_type": "code",
   "execution_count": null,
   "metadata": {
    "id": "i0wsAVyFFnBU"
   },
   "outputs": [],
   "source": []
  },
  {
   "cell_type": "markdown",
   "metadata": {
    "id": "NEWuR0U6JV0i"
   },
   "source": [
    "<img src=\"https://github.com/jupotratz/Python_BI_Master/blob/main/Turmas/2021.3/Imagens/sep.png?raw=true\"  width=1000 height=125 />"
   ]
  },
  {
   "cell_type": "markdown",
   "metadata": {
    "id": "fgi3a0_iJWiC"
   },
   "source": [
    "# O que e como pensar para começar a criar os meus primeiros códigos?\n",
    "\n",
    "\n",
    "\n",
    "<img src=\"https://github.com/jupotratz/Python_BI_Master/blob/main/Turmas/2021.3/Imagens/programar.png?raw=true\">\n",
    "\n",
    "\n",
    "Quando programamos algo sempre temos que ter em mente alguns princípios básicos:\n",
    "\n",
    "- Quando desenvolvemos a solução de um problema, essa solução vai ser utilizada por algum usuário.\n",
    "  - O usuário final **não tem acesso ao seu código**, ou seja, ele **não sabe** o que o seu programa faz ou como utilizá-lo. Você tem que deixar as coisas que o usuário deve fazer o mais claro e ojetivo possível.\n",
    "  - O computador ainda não adquiriu o poder de dedução que nós seres humanos possuimos, ou seja, ele trabalha com a informação **EXATA** e nos **formatos suportados** por ele. \n",
    "  - Os computadores realizam o processamento por meio de operações matemáticas e relacionais, portanto você deve tornar os seus algoritmos soluções lógicas e precisas.\n",
    "\n"
   ]
  },
  {
   "cell_type": "markdown",
   "metadata": {
    "id": "6mrXqSAHRAWV"
   },
   "source": [
    "<img src=\"https://github.com/jupotratz/Python_BI_Master/blob/main/Turmas/2021.3/Imagens/sep.png?raw=true\"  width=1000 height=125 />"
   ]
  },
  {
   "cell_type": "markdown",
   "metadata": {
    "id": "6REZYqpARLXH"
   },
   "source": [
    "# Variáveis\n",
    "---\n",
    "\n",
    "## Declaração de variáveis\n",
    "\n",
    "Algumas caracteristicas do python relacionadas as variáveis:\n",
    "- Não precisamos setar o tipo da variável para atribuir qualquer valor a ela.\n",
    "\n",
    "<img src=\"https://github.com/jupotratz/Python_BI_Master/blob/main/Turmas/2021.3/Imagens/tipo_variavel.jpg?raw=true\">\n",
    "\n",
    "- A atribuição de valor a uma variável se faz da seguinte forma:\n",
    "\n",
    "```\n",
    "var = valor ou conjunto de valores (informação)\n",
    "````\n",
    "\n",
    "sendo **var** o nome da variável que o usuário escolheu. \n",
    "\n",
    "- A escolha do nome da variáveis deve seguir algumas regras\n",
    "  - Não começar com números ou simbolos\n",
    "  - Não possuir simbolos matemáticos pertencentes a sintaxe do python (+, -, /, %, etc)\n",
    "  - Não possui espaços em branco\n",
    "  - Não declarar o nome igual ao nome da alguma função reservada do python\n",
    "  - Escolha nomes significativos (**boa prática**)\n",
    "\n",
    "<img src=\"https://brunolcarli.github.io/alpp/sessions/resources/img/tabela7.png\">\n"
   ]
  },
  {
   "cell_type": "markdown",
   "metadata": {
    "id": "tF9_ZSpkTbd1"
   },
   "source": [
    "### 1. Na célula a seguir, criamos a variável com nome *a* que recebe o número 10."
   ]
  },
  {
   "cell_type": "code",
   "execution_count": null,
   "metadata": {
    "id": "mU5-k8kBRCS4"
   },
   "outputs": [],
   "source": [
    "a = 10"
   ]
  },
  {
   "cell_type": "code",
   "execution_count": null,
   "metadata": {
    "colab": {
     "base_uri": "https://localhost:8080/"
    },
    "id": "i08aAVh9TfO-",
    "outputId": "cd310ff7-72b7-4e48-e5a2-680ad61f5c94"
   },
   "outputs": [
    {
     "name": "stdout",
     "output_type": "stream",
     "text": [
      "10\n"
     ]
    }
   ],
   "source": [
    "print(a)"
   ]
  },
  {
   "cell_type": "markdown",
   "metadata": {
    "id": "4yOHhHRERAYe"
   },
   "source": [
    "Conseguimos descobrir o tipo de uma determinada variável utilizando uma função reservado do python chamado  **type**."
   ]
  },
  {
   "cell_type": "code",
   "execution_count": null,
   "metadata": {
    "colab": {
     "base_uri": "https://localhost:8080/"
    },
    "id": "Hc9JF-iUTsWX",
    "outputId": "9b99e221-2d33-45de-d311-3b9a7a84ed1c"
   },
   "outputs": [
    {
     "data": {
      "text/plain": [
       "int"
      ]
     },
     "execution_count": 12,
     "metadata": {},
     "output_type": "execute_result"
    }
   ],
   "source": [
    "type(a)"
   ]
  },
  {
   "cell_type": "markdown",
   "metadata": {
    "id": "INePw-xYTv1h"
   },
   "source": [
    "### 2. Crie, agora uma variável do tipo real, chamada *b*, que irá receber o valor 5.2."
   ]
  },
  {
   "cell_type": "code",
   "execution_count": null,
   "metadata": {
    "id": "9Cgj1O7DT6Fs"
   },
   "outputs": [],
   "source": [
    "b = 5.2"
   ]
  },
  {
   "cell_type": "markdown",
   "metadata": {
    "id": "uK_AaRpvT9-H"
   },
   "source": [
    "### Confirme o tipo da informação guardada na variavel b"
   ]
  },
  {
   "cell_type": "code",
   "execution_count": null,
   "metadata": {
    "colab": {
     "base_uri": "https://localhost:8080/"
    },
    "id": "8xh1nQ-CT6Mg",
    "outputId": "f1a1298e-cecd-45da-ec8d-c7f7dafc96b6"
   },
   "outputs": [
    {
     "data": {
      "text/plain": [
       "tuple"
      ]
     },
     "execution_count": 20,
     "metadata": {},
     "output_type": "execute_result"
    }
   ],
   "source": [
    "type(b)"
   ]
  },
  {
   "cell_type": "markdown",
   "metadata": {
    "id": "HhuzmZ6tRAc8"
   },
   "source": [
    "## Tipos de Variáveis\n",
    "\n",
    "|Tipo|Identificação|Função reservada do Python|Exemplo|\n",
    "|:-----:|:-----:|:-----:|:---:|\n",
    "|string | *str*|str( )|'Olá Mundo'|\n",
    "|inteiro | *int*| int( )|1|\n",
    "|real | *float*| float( )|5.5|\n",
    "|booleano | *bool*| bool( )|True \\| False|\n",
    "|tupla | *tuple*|tuple( )|(1,'2',False)|\n",
    "|lista | *list*|list( )|[\"Júlia\",4.6,(1,'2',False)]|\n",
    "|dicionário | *dic*|dict( )|{'Lógica':\"maneira rigorosa de raciocinar.\",\"Num\":1}|\n",
    "|vetor | *array*|--|--|\n",
    "|Séries | *Series*|--|--|\n",
    "|DataFrames | *DataFrames*|--|--|\n",
    "\n",
    "\n",
    "- É importante frisar que cada tipo de dado tem médotos próprios atrelados a eles, ou seja, funções já pré-definidas para manipular esses tipos de dados dentro da linguagem."
   ]
  },
  {
   "cell_type": "markdown",
   "metadata": {
    "id": "jDO4A6ESaFQ3"
   },
   "source": [
    "### Strings\n",
    "\n",
    "As strings são utilizadas em Python para registrar informações de texto. Na verdade, elas são uma sequência, ou seja, uma lista de caracteres e podem ser definidas das seguintes formas:\n",
    "\n",
    "<img src=\"https://github.com/jupotratz/Python_BI_Master/blob/main/Turmas/2021.3/Imagens/str_1.JPG?raw=true\" width=500>\n",
    "\n",
    "\n",
    "|Definição|Característica|Exemplo|Vizualização|\n",
    "|:--:|:--:|:--:|:--:|\n",
    "|<code>'text'</code>|Aspas simples|<code>'Olá Mundo'</code>|Olá Mundo|\n",
    "|<code>\"text\"</code>|Aspas duplas|<code>\"Olá Mundo\"</code>|Olá Mundo|\n",
    "|<code>'''text'''</code>|Três Aspas simples|<code>'''Olá\\nMundo'''</code>|<p>Olá</p><p>mundo</p>|\n",
    "|<code>\"\"\"text\"\"\"</code>|Três Aspas duplas|<code>\"\"\"Olá\\nMundo\"\"\"</code>|<p>Olá</p><p>mundo</p>|\n",
    "\n",
    "\n",
    "\n"
   ]
  },
  {
   "cell_type": "markdown",
   "metadata": {
    "id": "cZtNz0aORAjk"
   },
   "source": [
    "Vamos, agora, criar uma variável chamada **a** e fazer essa variável receber o valor **2** em formato de texto:"
   ]
  },
  {
   "cell_type": "code",
   "execution_count": null,
   "metadata": {
    "id": "kCPpEaoNRAmv"
   },
   "outputs": [],
   "source": [
    "# Solução 1\n",
    "\n",
    "a = '2'\n",
    "\n",
    "#a =\"2\"\n",
    "#a=\"\"\"2\"\"\" \n",
    "#a='''2''' "
   ]
  },
  {
   "cell_type": "code",
   "execution_count": null,
   "metadata": {
    "colab": {
     "base_uri": "https://localhost:8080/"
    },
    "id": "brdh8M_pX8I7",
    "outputId": "bb9f8433-28c6-48b9-8f4f-a25f47bb436e"
   },
   "outputs": [
    {
     "data": {
      "text/plain": [
       "str"
      ]
     },
     "execution_count": 28,
     "metadata": {},
     "output_type": "execute_result"
    }
   ],
   "source": [
    "# Verificando o tipo da variável\n",
    "type(a)"
   ]
  },
  {
   "cell_type": "markdown",
   "metadata": {
    "id": "YrjE1fPsYhZ8"
   },
   "source": [
    "#### Vamos analisar o que acontece quando a gente faz uma operação matemática com essa variável."
   ]
  },
  {
   "cell_type": "code",
   "execution_count": null,
   "metadata": {
    "colab": {
     "base_uri": "https://localhost:8080/",
     "height": 165
    },
    "id": "2bKXeS9LX8Y_",
    "outputId": "a5d88859-588c-4dd2-d619-927c373bafdc"
   },
   "outputs": [
    {
     "ename": "TypeError",
     "evalue": "ignored",
     "output_type": "error",
     "traceback": [
      "\u001b[0;31m---------------------------------------------------------------------------\u001b[0m",
      "\u001b[0;31mTypeError\u001b[0m                                 Traceback (most recent call last)",
      "\u001b[0;32m<ipython-input-29-a917fe5125e3>\u001b[0m in \u001b[0;36m<module>\u001b[0;34m()\u001b[0m\n\u001b[0;32m----> 1\u001b[0;31m \u001b[0ma\u001b[0m\u001b[0;34m+\u001b[0m\u001b[0;36m2\u001b[0m\u001b[0;34m\u001b[0m\u001b[0;34m\u001b[0m\u001b[0m\n\u001b[0m",
      "\u001b[0;31mTypeError\u001b[0m: can only concatenate str (not \"int\") to str"
     ]
    }
   ],
   "source": [
    "a+2"
   ]
  },
  {
   "cell_type": "code",
   "execution_count": null,
   "metadata": {
    "colab": {
     "base_uri": "https://localhost:8080/",
     "height": 165
    },
    "id": "LwvDsgReY2lr",
    "outputId": "9730f0b8-9077-426b-e7ba-14913d177912"
   },
   "outputs": [
    {
     "ename": "TypeError",
     "evalue": "ignored",
     "output_type": "error",
     "traceback": [
      "\u001b[0;31m---------------------------------------------------------------------------\u001b[0m",
      "\u001b[0;31mTypeError\u001b[0m                                 Traceback (most recent call last)",
      "\u001b[0;32m<ipython-input-30-9dbb47c1a93a>\u001b[0m in \u001b[0;36m<module>\u001b[0;34m()\u001b[0m\n\u001b[0;32m----> 1\u001b[0;31m \u001b[0ma\u001b[0m\u001b[0;34m-\u001b[0m\u001b[0;36m2\u001b[0m\u001b[0;34m\u001b[0m\u001b[0;34m\u001b[0m\u001b[0m\n\u001b[0m",
      "\u001b[0;31mTypeError\u001b[0m: unsupported operand type(s) for -: 'str' and 'int'"
     ]
    }
   ],
   "source": [
    "a-2"
   ]
  },
  {
   "cell_type": "code",
   "execution_count": null,
   "metadata": {
    "colab": {
     "base_uri": "https://localhost:8080/",
     "height": 165
    },
    "id": "RM3StqtaX8kG",
    "outputId": "98f07608-a7ba-49d3-fdac-b2ff23d2fa13"
   },
   "outputs": [
    {
     "ename": "TypeError",
     "evalue": "ignored",
     "output_type": "error",
     "traceback": [
      "\u001b[0;31m---------------------------------------------------------------------------\u001b[0m",
      "\u001b[0;31mTypeError\u001b[0m                                 Traceback (most recent call last)",
      "\u001b[0;32m<ipython-input-31-92d60c1a447d>\u001b[0m in \u001b[0;36m<module>\u001b[0;34m()\u001b[0m\n\u001b[0;32m----> 1\u001b[0;31m \u001b[0ma\u001b[0m\u001b[0;34m/\u001b[0m\u001b[0;36m2\u001b[0m\u001b[0;34m\u001b[0m\u001b[0;34m\u001b[0m\u001b[0m\n\u001b[0m",
      "\u001b[0;31mTypeError\u001b[0m: unsupported operand type(s) for /: 'str' and 'int'"
     ]
    }
   ],
   "source": [
    "a/2"
   ]
  },
  {
   "cell_type": "code",
   "execution_count": null,
   "metadata": {
    "colab": {
     "base_uri": "https://localhost:8080/",
     "height": 35
    },
    "id": "9LBZSdGKY0Hz",
    "outputId": "c0f53b21-2a4f-43ef-8c4e-1a2da089363a"
   },
   "outputs": [
    {
     "data": {
      "application/vnd.google.colaboratory.intrinsic+json": {
       "type": "string"
      },
      "text/plain": [
       "'222'"
      ]
     },
     "execution_count": 33,
     "metadata": {},
     "output_type": "execute_result"
    }
   ],
   "source": [
    "a*3"
   ]
  },
  {
   "cell_type": "code",
   "execution_count": null,
   "metadata": {
    "colab": {
     "base_uri": "https://localhost:8080/"
    },
    "id": "uaPqA4IgOm24",
    "outputId": "316376b6-e8e7-4c78-c555-7b90796425a5"
   },
   "outputs": [
    {
     "data": {
      "text/plain": [
       "6"
      ]
     },
     "execution_count": 34,
     "metadata": {},
     "output_type": "execute_result"
    }
   ],
   "source": [
    "int(a)*3"
   ]
  },
  {
   "cell_type": "markdown",
   "metadata": {
    "id": "6Cu943CwRAoj"
   },
   "source": [
    "### Alguns método atrelados ao tipo de dados string\n",
    "\n",
    "|Método|Parâmetros|Descrição|\n",
    "|--|--|--|\n",
    "|upper|nenhum|Retorna uma string toda em maiúsculas|\n",
    "|lower|nenhum|Retorna uma string toda em minúsculas|\n",
    "|capitalize|nenhum|Retorna uma string com o primeiro caractere maiúsculo, e o resto em minúsculo|\n",
    "|lstrip|nenhum|Retorna uma string removendo caracteres em brando do início|\n",
    "|rstrip|nenhum|Retorna uma string removendo caracteres em brando do fim|\n",
    "|count|item|Retorna o número de ocorrências de item|\n",
    "|replace|old, new|Substitui todas as ocorrências do substring old por new|\n",
    "|find|item|Retorna o índice mais à esquerda onde o substring item é encontrado|\n",
    "|rfind|item|Retorna o índice mais à direita onde o substring item é encontrado|\n",
    "|index|item|Como find, mas causa um erro em tempo de execução caso item não seja encontrado|\n",
    "\n"
   ]
  },
  {
   "cell_type": "code",
   "execution_count": null,
   "metadata": {
    "id": "FPtMt5FTPGXg"
   },
   "outputs": [],
   "source": []
  },
  {
   "cell_type": "markdown",
   "metadata": {
    "id": "ctIJKe7VRAqP"
   },
   "source": [
    "- Vamos aplicar alguns desses métodos para testar\n",
    "  - .upper()\n",
    "\n",
    "<img src=\"https://github.com/jupotratz/Python_BI_Master/blob/main/Turmas/2021.3/Imagens/str_upper.JPG?raw=true\" width=550>\n",
    "\n"
   ]
  },
  {
   "cell_type": "code",
   "execution_count": null,
   "metadata": {
    "colab": {
     "base_uri": "https://localhost:8080/",
     "height": 35
    },
    "id": "FoFcjoc5Ji0-",
    "outputId": "7ddf445e-e2e2-4691-ce7b-77526c26c09d"
   },
   "outputs": [
    {
     "data": {
      "application/vnd.google.colaboratory.intrinsic+json": {
       "type": "string"
      },
      "text/plain": [
       "'HELLO WORLD!'"
      ]
     },
     "execution_count": 13,
     "metadata": {},
     "output_type": "execute_result"
    }
   ],
   "source": [
    "string = 'Hello World!'\n",
    "string.upper()"
   ]
  },
  {
   "cell_type": "markdown",
   "metadata": {
    "id": "Wvt-wCoDns4S"
   },
   "source": [
    "- Vamos aplicar alguns desses métodos para testar\n",
    "    - .lower()\n",
    "\n",
    "<img src=\"https://github.com/jupotratz/Python_BI_Master/blob/main/Turmas/2021.3/Imagens/str_lower.JPG?raw=true\" width=550>"
   ]
  },
  {
   "cell_type": "code",
   "execution_count": null,
   "metadata": {
    "colab": {
     "base_uri": "https://localhost:8080/",
     "height": 35
    },
    "id": "vOz9YFpjnN4t",
    "outputId": "2a1f88c9-4c4a-4b59-e313-498470bd8b13"
   },
   "outputs": [
    {
     "data": {
      "application/vnd.google.colaboratory.intrinsic+json": {
       "type": "string"
      },
      "text/plain": [
       "'hello world!'"
      ]
     },
     "execution_count": 11,
     "metadata": {},
     "output_type": "execute_result"
    }
   ],
   "source": [
    "string = 'Hello World!'\n",
    "string.lower()"
   ]
  },
  {
   "cell_type": "markdown",
   "metadata": {
    "id": "XLKT4ALYn89s"
   },
   "source": [
    "- Vamos aplicar alguns desses métodos para testar\n",
    "    - .replace(old, new)\n",
    "\n",
    "<img src=\"https://github.com/jupotratz/Python_BI_Master/blob/main/Turmas/2021.3/Imagens/str_replace.JPG?raw=true\" width=550>"
   ]
  },
  {
   "cell_type": "code",
   "execution_count": null,
   "metadata": {
    "colab": {
     "base_uri": "https://localhost:8080/",
     "height": 35
    },
    "id": "vXAibIZUnReK",
    "outputId": "d0ec07f2-78dd-4275-80bf-e29607b4cad0"
   },
   "outputs": [
    {
     "data": {
      "application/vnd.google.colaboratory.intrinsic+json": {
       "type": "string"
      },
      "text/plain": [
       "'Hell_ W_rld!'"
      ]
     },
     "execution_count": 14,
     "metadata": {},
     "output_type": "execute_result"
    }
   ],
   "source": [
    "string = 'Hello World!'\n",
    "old = 'o'\n",
    "new = '_'\n",
    "\n",
    "string.replace(old, new)"
   ]
  },
  {
   "cell_type": "markdown",
   "metadata": {
    "id": "be5hSJDIn9Ec"
   },
   "source": [
    "- Vamos aplicar alguns desses métodos para testar\n",
    "    - .replace(old, new)\n",
    "\n",
    "<img src=\"https://github.com/jupotratz/Python_BI_Master/blob/main/Turmas/2021.3/Imagens/str_split.JPG?raw=true\" width=550>"
   ]
  },
  {
   "cell_type": "code",
   "execution_count": null,
   "metadata": {
    "colab": {
     "base_uri": "https://localhost:8080/"
    },
    "id": "utCaT0t_oJB7",
    "outputId": "9db199f6-3183-4272-cfbc-c0ddc9ff92ff"
   },
   "outputs": [
    {
     "data": {
      "text/plain": [
       "['Hell', ' W', 'rld!']"
      ]
     },
     "execution_count": 15,
     "metadata": {},
     "output_type": "execute_result"
    }
   ],
   "source": [
    "string = 'Hello World!'\n",
    "string.split('o')"
   ]
  },
  {
   "cell_type": "markdown",
   "metadata": {
    "id": "wkkrYexwo3Cy"
   },
   "source": [
    "### Mas vamos retornar para a nossa variável que estava guardando a informação do número 2"
   ]
  },
  {
   "cell_type": "code",
   "execution_count": null,
   "metadata": {
    "colab": {
     "base_uri": "https://localhost:8080/"
    },
    "id": "eduhNO2oocZX",
    "outputId": "69ee2a2c-aa07-417b-f0b6-5e5c46145753"
   },
   "outputs": [
    {
     "name": "stdout",
     "output_type": "stream",
     "text": [
      "2\n"
     ]
    }
   ],
   "source": [
    "a = '2'\n",
    "print(a)"
   ]
  },
  {
   "cell_type": "markdown",
   "metadata": {
    "id": "i-NZSbTqpMGA"
   },
   "source": [
    "### Será que a gente consegue transformar essa variável em número, já que ela é um número?\n",
    "\n",
    "- Podemos usar as funções reservadas do python atreladas aos tipos das variáveis como a função <code>.int()</code> ou a função <code>.float()</code>"
   ]
  },
  {
   "cell_type": "code",
   "execution_count": null,
   "metadata": {
    "colab": {
     "base_uri": "https://localhost:8080/"
    },
    "id": "nFxvo6sCpBxb",
    "outputId": "6167ef0e-7414-4cb4-a5e3-56c05ffacdd0"
   },
   "outputs": [
    {
     "name": "stdout",
     "output_type": "stream",
     "text": [
      "2\n"
     ]
    }
   ],
   "source": [
    "a_int = int(a)\n",
    "print(a_int)"
   ]
  },
  {
   "cell_type": "code",
   "execution_count": null,
   "metadata": {
    "colab": {
     "base_uri": "https://localhost:8080/"
    },
    "id": "LH2oyILvq2Lj",
    "outputId": "41b31a64-b724-47ac-e043-40851045eefb"
   },
   "outputs": [
    {
     "data": {
      "text/plain": [
       "int"
      ]
     },
     "execution_count": 21,
     "metadata": {},
     "output_type": "execute_result"
    }
   ],
   "source": [
    "type(a_int)"
   ]
  },
  {
   "cell_type": "code",
   "execution_count": null,
   "metadata": {
    "colab": {
     "base_uri": "https://localhost:8080/"
    },
    "id": "Xzl3ujPEqsJl",
    "outputId": "2a161069-59a2-4f4c-d799-8e886246d757"
   },
   "outputs": [
    {
     "name": "stdout",
     "output_type": "stream",
     "text": [
      "2.0\n"
     ]
    }
   ],
   "source": [
    "a_float = float(a)\n",
    "print(a_float)"
   ]
  },
  {
   "cell_type": "code",
   "execution_count": null,
   "metadata": {
    "colab": {
     "base_uri": "https://localhost:8080/"
    },
    "id": "B_aoFZsHq4XE",
    "outputId": "6e3cebb2-4400-4482-8704-918bc8846cb9"
   },
   "outputs": [
    {
     "data": {
      "text/plain": [
       "float"
      ]
     },
     "execution_count": 23,
     "metadata": {},
     "output_type": "execute_result"
    }
   ],
   "source": [
    "type(a_float)"
   ]
  },
  {
   "cell_type": "markdown",
   "metadata": {
    "id": "KCUue4oSNpdk"
   },
   "source": [
    "### input( )\n",
    "\n",
    "Observação: o input no Python é uma forma de inserir no código uma interação vinda do usuário. \n",
    "\n",
    "<img src=\"https://github.com/jupotratz/Python_BI_Master/blob/main/Turmas/2021.3/Imagens/programar.png?raw=true\" width=400>\n",
    "\n",
    "- O input sempre vai fornecer para o código uma informação do tipo \"textual\" (string | **str**) e temos que manipular essa informação da melhor forma possível.\n",
    "\n",
    "\n"
   ]
  }
 ],
 "metadata": {
  "colab": {
   "collapsed_sections": [
    "HYcr2loD7ihz",
    "150QQ4qF7ih0",
    "Ef3x63d3AAOt",
    "-b_f7ggSrUrm",
    "MQbZ5HiSMywc",
    "H-7wRTtBOdcC",
    "jDO4A6ESaFQ3",
    "YrjE1fPsYhZ8",
    "6Cu943CwRAoj",
    "wkkrYexwo3Cy",
    "i-NZSbTqpMGA"
   ],
   "name": "Takl_1.ipynb",
   "provenance": []
  },
  "kernelspec": {
   "display_name": "Python 3",
   "language": "python",
   "name": "python3"
  },
  "language_info": {
   "codemirror_mode": {
    "name": "ipython",
    "version": 3
   },
   "file_extension": ".py",
   "mimetype": "text/x-python",
   "name": "python",
   "nbconvert_exporter": "python",
   "pygments_lexer": "ipython3",
   "version": "3.7.6"
  }
 },
 "nbformat": 4,
 "nbformat_minor": 1
}
