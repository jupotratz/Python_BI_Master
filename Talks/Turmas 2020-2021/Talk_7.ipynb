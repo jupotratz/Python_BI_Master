{
 "cells": [
  {
   "cell_type": "markdown",
   "metadata": {
    "id": "80btK5XbwZYO"
   },
   "source": [
    "<img src=\"https://github.com/jupotratz/Python_BI_Master/blob/main/Turmas/2021.3/Imagens/sep.png?raw=true\"  width=1000 height=125 />"
   ]
  },
  {
   "cell_type": "markdown",
   "metadata": {
    "id": "QzcePa9W8N_Y"
   },
   "source": [
    "# Professoras\n",
    "\n",
    " - Amanda Lemette \n",
    "\t - prof.amanda@ica.ele.puc-rio.br\n",
    "\t - [Linkedin](https://www.linkedin.com/in/amanda-lemette-brand%C3%A3o-83280918b)\n",
    "   - [Youtube](https://www.youtube.com/c/AmandaLemette/featured)\n",
    "   \n",
    " - Júlia Potratz\n",
    "\t - prof.julia@ica.ele.puc-rio.br\n",
    "\t - [Linkedin](https://www.linkedin.com/in/julia-potratz)\n",
    "     \n",
    "# Material \n",
    "\n",
    "Repositório no GitHub: [Python_BI_Master](https://github.com/jupotratz/Python_BI_Master)\n",
    "\n",
    "\n",
    "# Talk 7\n",
    "\n",
    "- **Plano de aula:**\n",
    "\t- Vetores\n",
    "         - uso da biblioteca Numpy\n",
    "         - declaração de vetores\n",
    "         - manipulação de vetores\n",
    "         - exercícios práticos\n",
    "\n",
    "  - verificação de erros no código \n",
    "         - como debuggar o código\n",
    "         - buscar auxílio de sites de suporte de Python \n",
    "      "
   ]
  },
  {
   "cell_type": "markdown",
   "metadata": {
    "id": "BCS4aWVzJBxx"
   },
   "source": [
    "<img src=\"https://github.com/jupotratz/Python_BI_Master/blob/main/Turmas/2021.3/Imagens/sep.png?raw=true\"  width=1000 height=125 />"
   ]
  },
  {
   "cell_type": "markdown",
   "metadata": {
    "id": "FYufQeqmge9m"
   },
   "source": [
    "# Vetores"
   ]
  },
  {
   "cell_type": "markdown",
   "metadata": {
    "id": "yRiW790Wg2Il"
   },
   "source": [
    "<center><img src=\"https://github.com/jupotratz/Python_BI_Master/blob/0a93ef10f7a528017cd3428e2c95eda1d58ad888/Turmas/2021.3/Imagens/numpy.png?raw=true\"  width=800 height=190 />\n",
    "\n",
    "\n",
    "\n"
   ]
  },
  {
   "cell_type": "markdown",
   "metadata": {
    "id": "d29vx0R-gm8Q"
   },
   "source": [
    "Vetores em Python são declarados com a biblioteca *Numpy*. Então, para trabalharmos com eles, precisamos fazer a importação dessa biblioteca.\n",
    "\n",
    "\n",
    "*   [Site da biblioteca Numpy](https://numpy.org)\n",
    "\n",
    "\n"
   ]
  },
  {
   "cell_type": "markdown",
   "metadata": {
    "id": "AoaCRlqJhhKE"
   },
   "source": [
    "Diferente das listas, os vetores só são capazes de armazenar números e do mesmo tipo. Você nunca terá um vetor com elementos inteiros e reais. Todos os elementos do vetor serão inteiros ou todos serão reais."
   ]
  },
  {
   "cell_type": "markdown",
   "metadata": {
    "id": "DLRHKrnvhl9o"
   },
   "source": [
    "Geralmente, a biblioteca *numpy* leva a abreviação np. Mas isso é uma convenção, você pode, se quiser, colocar qualquer abreviação."
   ]
  },
  {
   "cell_type": "code",
   "execution_count": 1,
   "metadata": {
    "id": "ikAJqEQOgV59"
   },
   "outputs": [],
   "source": [
    "import numpy as np"
   ]
  },
  {
   "cell_type": "markdown",
   "metadata": {
    "id": "Cca12L2Ohvpp"
   },
   "source": [
    "Poderíamos fazer a importação como:\n",
    "\n",
    "```\n",
    ">   import numpy as vetores\n",
    ">   import numpy as arr\n",
    ">   import numpy as (serve qualquer palavra aqui)\n",
    "```\n",
    "\n"
   ]
  },
  {
   "cell_type": "markdown",
   "metadata": {
    "id": "MtHhf-BxiJib"
   },
   "source": [
    "<center><img src=\"https://github.com/jupotratz/Python_BI_Master/blob/04ead96808bf52711213e3bab75673d9c6ed042d/Turmas/2021.3/Imagens/goofy.jpg?raw=true\"  width=200 height=400 />"
   ]
  },
  {
   "cell_type": "markdown",
   "metadata": {
    "id": "9D8iga7ziwE9"
   },
   "source": [
    "## Declaração de vetores"
   ]
  },
  {
   "cell_type": "code",
   "execution_count": 2,
   "metadata": {
    "id": "D0rC_a9-gV_1"
   },
   "outputs": [],
   "source": [
    "pares = [0,2,4,6,8,10,12,14,16,18]"
   ]
  },
  {
   "cell_type": "code",
   "execution_count": 3,
   "metadata": {
    "colab": {
     "base_uri": "https://localhost:8080/"
    },
    "id": "oIL_bqUtgWI4",
    "outputId": "58b05125-825f-48b2-c61c-b85634083379"
   },
   "outputs": [
    {
     "data": {
      "text/plain": [
       "[0, 2, 4, 6, 8, 10, 12, 14, 16, 18]"
      ]
     },
     "execution_count": 3,
     "metadata": {},
     "output_type": "execute_result"
    }
   ],
   "source": [
    "pares"
   ]
  },
  {
   "cell_type": "code",
   "execution_count": 4,
   "metadata": {
    "colab": {
     "base_uri": "https://localhost:8080/"
    },
    "id": "e4docLchgWQL",
    "outputId": "2d733177-44e0-4bd5-dc39-c968528a10d8"
   },
   "outputs": [
    {
     "data": {
      "text/plain": [
       "list"
      ]
     },
     "execution_count": 4,
     "metadata": {},
     "output_type": "execute_result"
    }
   ],
   "source": [
    "type(pares)"
   ]
  },
  {
   "cell_type": "markdown",
   "metadata": {
    "id": "077GNK_Ni3it"
   },
   "source": [
    "Acabamos de criar uma lista chamada pares, mas como podemos transformá-la em vetor?\n"
   ]
  },
  {
   "cell_type": "markdown",
   "metadata": {
    "id": "7yqF9fRGjDdd"
   },
   "source": [
    "Um modo de fazer isso é usando a função da *Numpy* *array*:    "
   ]
  },
  {
   "cell_type": "code",
   "execution_count": 5,
   "metadata": {
    "colab": {
     "base_uri": "https://localhost:8080/"
    },
    "id": "jzZIUj52gWXC",
    "outputId": "e33673c5-6c3e-48e6-beea-a796b60c0149"
   },
   "outputs": [
    {
     "data": {
      "text/plain": [
       "array([ 0,  2,  4,  6,  8, 10, 12, 14, 16, 18])"
      ]
     },
     "execution_count": 5,
     "metadata": {},
     "output_type": "execute_result"
    }
   ],
   "source": [
    "vet = np.array(pares)\n",
    "vet"
   ]
  },
  {
   "cell_type": "code",
   "execution_count": 6,
   "metadata": {
    "colab": {
     "base_uri": "https://localhost:8080/"
    },
    "id": "MuT40SjFgWe4",
    "outputId": "52cc29be-51a2-4bbd-e972-6bef606b750b"
   },
   "outputs": [
    {
     "data": {
      "text/plain": [
       "numpy.ndarray"
      ]
     },
     "execution_count": 6,
     "metadata": {},
     "output_type": "execute_result"
    }
   ],
   "source": [
    "type(vet)"
   ]
  },
  {
   "cell_type": "markdown",
   "metadata": {
    "id": "39e4cNEMjZJ9"
   },
   "source": [
    "Acabamos de criar um vetor chamado *vet* que contém números pares de 0 até 18. Na hora de criamos esse vetor, utilizamos a função *array* da biblioteca *numpy* e dentro dos ( ) incluímos uma lista chamada *pares*. "
   ]
  },
  {
   "cell_type": "markdown",
   "metadata": {
    "id": "Hd2B9NapjeKP"
   },
   "source": [
    "Um segundo modo de criarmos um vetor de números inteiros pode ser usando a função da biblioteca *Numpy* *random.randint*."
   ]
  },
  {
   "cell_type": "code",
   "execution_count": 9,
   "metadata": {
    "id": "-OVvsYgEgWt4"
   },
   "outputs": [],
   "source": [
    "vet1 = np.random.randint(0,20,10)"
   ]
  },
  {
   "cell_type": "code",
   "execution_count": 10,
   "metadata": {
    "colab": {
     "base_uri": "https://localhost:8080/"
    },
    "id": "m8Ka7kYwgW1s",
    "outputId": "a86320ec-8264-4333-c35f-9838ef37b490"
   },
   "outputs": [
    {
     "name": "stdout",
     "output_type": "stream",
     "text": [
      "Help on built-in function randint:\n",
      "\n",
      "randint(...) method of numpy.random.mtrand.RandomState instance\n",
      "    randint(low, high=None, size=None, dtype=int)\n",
      "    \n",
      "    Return random integers from `low` (inclusive) to `high` (exclusive).\n",
      "    \n",
      "    Return random integers from the \"discrete uniform\" distribution of\n",
      "    the specified dtype in the \"half-open\" interval [`low`, `high`). If\n",
      "    `high` is None (the default), then results are from [0, `low`).\n",
      "    \n",
      "    .. note::\n",
      "        New code should use the ``integers`` method of a ``default_rng()``\n",
      "        instance instead; please see the :ref:`random-quick-start`.\n",
      "    \n",
      "    Parameters\n",
      "    ----------\n",
      "    low : int or array-like of ints\n",
      "        Lowest (signed) integers to be drawn from the distribution (unless\n",
      "        ``high=None``, in which case this parameter is one above the\n",
      "        *highest* such integer).\n",
      "    high : int or array-like of ints, optional\n",
      "        If provided, one above the largest (signed) integer to be drawn\n",
      "        from the distribution (see above for behavior if ``high=None``).\n",
      "        If array-like, must contain integer values\n",
      "    size : int or tuple of ints, optional\n",
      "        Output shape.  If the given shape is, e.g., ``(m, n, k)``, then\n",
      "        ``m * n * k`` samples are drawn.  Default is None, in which case a\n",
      "        single value is returned.\n",
      "    dtype : dtype, optional\n",
      "        Desired dtype of the result. Byteorder must be native.\n",
      "        The default value is int.\n",
      "    \n",
      "        .. versionadded:: 1.11.0\n",
      "    \n",
      "    Returns\n",
      "    -------\n",
      "    out : int or ndarray of ints\n",
      "        `size`-shaped array of random integers from the appropriate\n",
      "        distribution, or a single such random int if `size` not provided.\n",
      "    \n",
      "    See Also\n",
      "    --------\n",
      "    random_integers : similar to `randint`, only for the closed\n",
      "        interval [`low`, `high`], and 1 is the lowest value if `high` is\n",
      "        omitted.\n",
      "    Generator.integers: which should be used for new code.\n",
      "    \n",
      "    Examples\n",
      "    --------\n",
      "    >>> np.random.randint(2, size=10)\n",
      "    array([1, 0, 0, 0, 1, 1, 0, 0, 1, 0]) # random\n",
      "    >>> np.random.randint(1, size=10)\n",
      "    array([0, 0, 0, 0, 0, 0, 0, 0, 0, 0])\n",
      "    \n",
      "    Generate a 2 x 4 array of ints between 0 and 4, inclusive:\n",
      "    \n",
      "    >>> np.random.randint(5, size=(2, 4))\n",
      "    array([[4, 0, 2, 1], # random\n",
      "           [3, 2, 2, 0]])\n",
      "    \n",
      "    Generate a 1 x 3 array with 3 different upper bounds\n",
      "    \n",
      "    >>> np.random.randint(1, [3, 5, 10])\n",
      "    array([2, 2, 9]) # random\n",
      "    \n",
      "    Generate a 1 by 3 array with 3 different lower bounds\n",
      "    \n",
      "    >>> np.random.randint([1, 5, 7], 10)\n",
      "    array([9, 8, 7]) # random\n",
      "    \n",
      "    Generate a 2 by 4 array using broadcasting with dtype of uint8\n",
      "    \n",
      "    >>> np.random.randint([1, 3, 5, 7], [[10], [20]], dtype=np.uint8)\n",
      "    array([[ 8,  6,  9,  7], # random\n",
      "           [ 1, 16,  9, 12]], dtype=uint8)\n",
      "\n"
     ]
    }
   ],
   "source": [
    "help(np.random.randint)"
   ]
  },
  {
   "cell_type": "code",
   "execution_count": 11,
   "metadata": {
    "colab": {
     "base_uri": "https://localhost:8080/"
    },
    "id": "B314jOWOgW9u",
    "outputId": "ad8287c3-9362-4d1f-c3ca-af5d291ddefa"
   },
   "outputs": [
    {
     "data": {
      "text/plain": [
       "array([ 1,  0, 13,  7,  4, 14, 11,  0, 17,  6])"
      ]
     },
     "execution_count": 11,
     "metadata": {},
     "output_type": "execute_result"
    }
   ],
   "source": [
    "vet1"
   ]
  },
  {
   "cell_type": "markdown",
   "metadata": {
    "id": "cTZHY8YWjwjQ"
   },
   "source": [
    "Acabamos de criar um vetor chamado *vet1* de números inteiros que foi criado a partir da função random.randint. Essa função recebe como variáveis de entrada **obrigatórias**: \n",
    "\n",
    "- limite inferior (incluído), \n",
    "- limite superior (não incluído),\n",
    "- tamanho do vetor. \n",
    "\n",
    "Os elementos desse vetor podem ser iguais ao limite inferior, porém não podem ser iguais ao limite superior. "
   ]
  },
  {
   "cell_type": "markdown",
   "metadata": {
    "id": "CXbt-uRtjwwU"
   },
   "source": [
    "Um outro modo semelhante de criar um vetor através de números aleatórios, porém reais é:"
   ]
  },
  {
   "cell_type": "code",
   "execution_count": 12,
   "metadata": {
    "colab": {
     "base_uri": "https://localhost:8080/"
    },
    "id": "hxbZjQCYj8_D",
    "outputId": "305a305c-decc-4dff-babb-e363c1790ca1"
   },
   "outputs": [
    {
     "data": {
      "text/plain": [
       "array([ 4.25125561, 10.45866124,  8.44838956,  4.21137568,  8.61315796,\n",
       "        7.95264077,  7.67482626, 14.34767664, 19.19422351,  4.93756319])"
      ]
     },
     "execution_count": 12,
     "metadata": {},
     "output_type": "execute_result"
    }
   ],
   "source": [
    "vet2 = np.random.uniform(0,20,10)\n",
    "vet2"
   ]
  },
  {
   "cell_type": "markdown",
   "metadata": {
    "id": "aJlnF0AGjw8u"
   },
   "source": [
    "A função *random.uniform* funciona de modo bem similar à função *random.randint*, porém a *random.uniform* gera números reais. Ambas as funções geram números aleatórios que seguem a distribuição uniforme, ou seja, cada valor dentro do intervalo especificado tem a mesma probabilidade de ser sorteado. "
   ]
  },
  {
   "cell_type": "markdown",
   "metadata": {
    "id": "pX7AkfepkDnM"
   },
   "source": [
    "Para mais informações a respeito da geração de números aleatórios, que seguem outros tipos de distribuições, utilizando *numpy*, assista o vídeo:\n",
    "\n",
    "[Distribuições de Probabilidades](https://youtu.be/ld_CP_0H46k)"
   ]
  },
  {
   "cell_type": "markdown",
   "metadata": {
    "id": "boVMrawEkRCB"
   },
   "source": [
    "**Bom, já vimos aqui 2 formas de criarmos um vetor, você conhece mais alguma?**"
   ]
  },
  {
   "cell_type": "markdown",
   "metadata": {
    "id": "hLMXmbxlkdTB"
   },
   "source": []
  },
  {
   "cell_type": "markdown",
   "metadata": {
    "id": "d4vZzEsSkhcb"
   },
   "source": [
    "Algumas dicas para responder essa pergunta, conseguimos criar vetores\n",
    "\n",
    "*   a partir de Dataframes\n",
    "*   usando a função *linspace* \n",
    "*   \n",
    "*   \n",
    "\n",
    "\n",
    "\n",
    "\n",
    "\n"
   ]
  },
  {
   "cell_type": "markdown",
   "metadata": {
    "id": "khFw4tTXk7j9"
   },
   "source": [
    "vamos testar esses outros modos?"
   ]
  },
  {
   "cell_type": "code",
   "execution_count": null,
   "metadata": {
    "id": "N01_iOS4k-it"
   },
   "outputs": [],
   "source": []
  },
  {
   "cell_type": "code",
   "execution_count": null,
   "metadata": {
    "id": "v4lwFBZAk-69"
   },
   "outputs": [],
   "source": []
  },
  {
   "cell_type": "markdown",
   "metadata": {
    "id": "zSC2Yw79kFYP"
   },
   "source": [
    "## Funções aplicadas a vetores"
   ]
  },
  {
   "cell_type": "markdown",
   "metadata": {
    "id": "g_a5Q8QzlAEl"
   },
   "source": [
    "Existem funções prontas para:\n",
    "\n",
    "- somatório: **np.sum( )**\n",
    "- média: **np.mean( )**\n",
    "- desvio padrão: **np.std( )**\n",
    "- variância: **np.var( )**"
   ]
  },
  {
   "cell_type": "markdown",
   "metadata": {
    "id": "zYVCqbsSlFzw"
   },
   "source": [
    "Exercício: Aplique as 4 funções mostradas acima no vetor vet:"
   ]
  },
  {
   "cell_type": "code",
   "execution_count": 21,
   "metadata": {
    "id": "mqSQ3LO8la1B"
   },
   "outputs": [],
   "source": [
    "np.random.seed(100)"
   ]
  },
  {
   "cell_type": "code",
   "execution_count": 22,
   "metadata": {
    "id": "iF-qlkIElFNT"
   },
   "outputs": [],
   "source": [
    "vet = np.random.uniform(0,20,size=40)"
   ]
  },
  {
   "cell_type": "code",
   "execution_count": 23,
   "metadata": {
    "colab": {
     "base_uri": "https://localhost:8080/"
    },
    "id": "OpMuYjbxlfSP",
    "outputId": "7fe0d354-da40-49e3-875a-d25083cb13b4"
   },
   "outputs": [
    {
     "data": {
      "text/plain": [
       "array([10.86809884,  5.5673877 ,  8.49035181, 16.89552265,  0.09437712,\n",
       "        2.43138242, 13.41498169, 16.5170551 ,  2.73413179, 11.50186659,\n",
       "       17.82643909,  4.18404244,  3.70656439,  2.16753781,  4.39394985,\n",
       "       19.57247569, 16.23366298,  3.43882025, 16.32449497,  5.48147494,\n",
       "        8.63408367, 18.80059639, 16.35298758,  6.722239  ,  3.50820907,\n",
       "        7.45664093,  0.11377015,  5.04852707, 15.91325017,  0.30509942,\n",
       "       11.97686754, 12.07609078,  2.10295371,  7.6388689 ,  0.72952113,\n",
       "       17.80823127, 19.61841714,  1.19883978, 17.81091889, 11.53802999])"
      ]
     },
     "execution_count": 23,
     "metadata": {},
     "output_type": "execute_result"
    }
   ],
   "source": [
    "vet "
   ]
  },
  {
   "cell_type": "code",
   "execution_count": null,
   "metadata": {
    "id": "nZuWdPaKlkER"
   },
   "outputs": [],
   "source": []
  },
  {
   "cell_type": "markdown",
   "metadata": {
    "id": "NqoczRxjltKP"
   },
   "source": [
    "## Manipulação de vetores"
   ]
  },
  {
   "cell_type": "markdown",
   "metadata": {
    "id": "L5iHh9Z0oh86"
   },
   "source": [
    "### Eliminação de elementos em vetores"
   ]
  },
  {
   "cell_type": "code",
   "execution_count": 24,
   "metadata": {
    "id": "OnIhLGiglkRk"
   },
   "outputs": [],
   "source": [
    "np.random.seed(1000)"
   ]
  },
  {
   "cell_type": "code",
   "execution_count": 27,
   "metadata": {
    "colab": {
     "base_uri": "https://localhost:8080/"
    },
    "id": "GkcLksxplkbZ",
    "outputId": "d66b349d-8942-4066-9aea-4197252da41a"
   },
   "outputs": [
    {
     "data": {
      "text/plain": [
       "array([ 199,  146,  256,  740, 1885, 1838,  596, 1233,  726, 1893, 1853,\n",
       "        542, 1837, 1921, 1044,  241,  743,  420, 1493,  944,  502,  802,\n",
       "        473, 1822, 1215, 1943, 1248,  332, 1547, 1258, 1032, 1019,  160,\n",
       "        821, 1043, 1440,  916, 1827,  739, 1707])"
      ]
     },
     "execution_count": 27,
     "metadata": {},
     "output_type": "execute_result"
    }
   ],
   "source": [
    "vet = np.random.randint(0,2000,size=40)\n",
    "vet"
   ]
  },
  {
   "cell_type": "markdown",
   "metadata": {
    "id": "rmHS3Cc9l2a9"
   },
   "source": [
    "Considerando o vetor *vet* acima, se quiséssemos remover todos os números múltiplos de 3, como faríamos?\n",
    "\n",
    "\n",
    "\n"
   ]
  },
  {
   "cell_type": "markdown",
   "metadata": {
    "id": "nrMZML2dmFi5"
   },
   "source": [
    "1. Bom, primeiro precisamos saber como identificar os números múltiplos de 3. \n",
    "\n",
    "2. Em seguida, precisamos saber como eliminar elementos dentro de um vetor. \n",
    "\n",
    "3. Por último, precisamos imprimir o vetor resultante. "
   ]
  },
  {
   "cell_type": "markdown",
   "metadata": {
    "id": "oM28ac5amVMt"
   },
   "source": [
    "Vamos, agora, passar por cada uma dessas etapas: "
   ]
  },
  {
   "cell_type": "markdown",
   "metadata": {
    "id": "5LENbo7qmZpL"
   },
   "source": [
    "**Identificação de números múltiplos de 3**\n",
    "\n",
    "---\n"
   ]
  },
  {
   "cell_type": "code",
   "execution_count": null,
   "metadata": {
    "id": "NTE5h7SwmiVS"
   },
   "outputs": [],
   "source": []
  },
  {
   "cell_type": "markdown",
   "metadata": {
    "id": "2k1RoyWYmisQ"
   },
   "source": [
    "**Eliminação de elementos em um vetor**\n",
    "\n",
    "---"
   ]
  },
  {
   "cell_type": "markdown",
   "metadata": {
    "id": "CYzqhJM2n8ZK"
   },
   "source": [
    "O modo de eliminarmos elemento em um vetor é pelo uso da: \n",
    "\n",
    "*   [função *delete*](https://numpy.org/doc/stable/reference/generated/numpy.delete.html)\n",
    "\n"
   ]
  },
  {
   "cell_type": "code",
   "execution_count": null,
   "metadata": {
    "id": "7ocn9AwNlklS"
   },
   "outputs": [],
   "source": []
  },
  {
   "cell_type": "code",
   "execution_count": null,
   "metadata": {
    "id": "MMbvUE4Nlkvc"
   },
   "outputs": [],
   "source": []
  },
  {
   "cell_type": "markdown",
   "metadata": {
    "id": "lyksKhvumqg4"
   },
   "source": [
    "**Impressão do vetor**\n",
    "\n",
    "---"
   ]
  },
  {
   "cell_type": "code",
   "execution_count": null,
   "metadata": {
    "id": "-rFugNSwlk5f"
   },
   "outputs": [],
   "source": []
  },
  {
   "cell_type": "code",
   "execution_count": null,
   "metadata": {
    "id": "-zT1Xpv5llH-"
   },
   "outputs": [],
   "source": []
  },
  {
   "cell_type": "markdown",
   "metadata": {
    "id": "df0jvHokomxI"
   },
   "source": [
    "### Adição de elementos em vetores"
   ]
  },
  {
   "cell_type": "markdown",
   "metadata": {
    "id": "D9lLLM3RoqFL"
   },
   "source": [
    "Como conseguimos adicionar elementos a vetores já declarados? \n",
    "\n",
    "\n",
    "\n",
    "**Você tem alguma ideia?**"
   ]
  },
  {
   "cell_type": "markdown",
   "metadata": {
    "id": "JRtur0jso20V"
   },
   "source": [
    "Podemos usar duas funções com nomes já conhecidos por você:\n",
    "\n",
    "*   [função *append*](https://numpy.org/doc/stable/reference/generated/numpy.append.html)\n",
    "*   [função *insert*](https://numpy.org/doc/stable/reference/generated/numpy.insert.html)\n",
    "\n"
   ]
  },
  {
   "cell_type": "code",
   "execution_count": 28,
   "metadata": {
    "id": "-MiYDW_IllV2"
   },
   "outputs": [],
   "source": [
    "np.random.seed(50)"
   ]
  },
  {
   "cell_type": "code",
   "execution_count": 29,
   "metadata": {
    "colab": {
     "base_uri": "https://localhost:8080/"
    },
    "id": "XsYg2HASlllo",
    "outputId": "3cbdef90-8887-476b-8221-1bdca99cfa96"
   },
   "outputs": [
    {
     "data": {
      "text/plain": [
       "array([497.12863731, 231.94268893, 259.19655414, 399.34826017,\n",
       "       380.4285222 , 996.591359  , 411.15621433, 773.03452487])"
      ]
     },
     "execution_count": 29,
     "metadata": {},
     "output_type": "execute_result"
    }
   ],
   "source": [
    "arr = np.random.uniform(5,1000,8)\n",
    "arr"
   ]
  },
  {
   "cell_type": "markdown",
   "metadata": {
    "id": "1skkglEUpSxA"
   },
   "source": [
    "Vamos adicionar o número 35.4 na última posição de *arr*."
   ]
  },
  {
   "cell_type": "code",
   "execution_count": null,
   "metadata": {
    "id": "MD8EavFallu7"
   },
   "outputs": [],
   "source": []
  },
  {
   "cell_type": "markdown",
   "metadata": {
    "id": "jMT4AzuxpaX2"
   },
   "source": [
    "Agora, vamos adicionar o número 10.2 na terceira posição de *arr*."
   ]
  },
  {
   "cell_type": "code",
   "execution_count": null,
   "metadata": {
    "id": "a5zyxWYNll4K"
   },
   "outputs": [],
   "source": []
  },
  {
   "cell_type": "markdown",
   "metadata": {
    "id": "KCQmkdMGpnB5"
   },
   "source": [
    "Por fim, vamos adicionar os números 23.4 e 36.7 nas posições 5 e 6 respectivamente, porém faça essa adição por meio de uma única operação. "
   ]
  },
  {
   "cell_type": "code",
   "execution_count": null,
   "metadata": {
    "id": "9GTOv5ExlmCf"
   },
   "outputs": [],
   "source": []
  },
  {
   "cell_type": "markdown",
   "metadata": {
    "id": "ojD0hXOlq-x9"
   },
   "source": [
    "### Selecionando e modificando partes de um vetor"
   ]
  },
  {
   "cell_type": "code",
   "execution_count": 40,
   "metadata": {
    "colab": {
     "base_uri": "https://localhost:8080/"
    },
    "id": "t_UpefMilmRB",
    "outputId": "9a7d9742-c6dd-4de2-93e9-fa2ad5d8bef0"
   },
   "outputs": [
    {
     "data": {
      "text/plain": [
       "array([  6, -10,   1,   3,  -9,  -6,  -4,  -5,  -4,   3])"
      ]
     },
     "execution_count": 40,
     "metadata": {},
     "output_type": "execute_result"
    }
   ],
   "source": [
    "np.random.seed(50)\n",
    "arr = np.random.randint(-10,10,10)\n",
    "arr "
   ]
  },
  {
   "cell_type": "markdown",
   "metadata": {
    "id": "Y7yTWwv2rNpC"
   },
   "source": [
    "Selecione apenas do quarto elemento de *arr* até o nono elemento."
   ]
  },
  {
   "cell_type": "code",
   "execution_count": null,
   "metadata": {
    "id": "4vX_K5SilmfT"
   },
   "outputs": [],
   "source": []
  },
  {
   "cell_type": "markdown",
   "metadata": {
    "id": "U5UHQkydrZ-f"
   },
   "source": [
    "Selecione do quinto elemento ao último. "
   ]
  },
  {
   "cell_type": "code",
   "execution_count": null,
   "metadata": {
    "id": "TnsSz2xYrX69"
   },
   "outputs": [],
   "source": []
  },
  {
   "cell_type": "markdown",
   "metadata": {
    "id": "tsiAjn1-rgKi"
   },
   "source": [
    "Selecione do primeiro elemento ao sexto em *arr*."
   ]
  },
  {
   "cell_type": "code",
   "execution_count": null,
   "metadata": {
    "id": "ASflx-rvrYF7"
   },
   "outputs": [],
   "source": []
  },
  {
   "cell_type": "markdown",
   "metadata": {
    "id": "xlKkkg1arpto"
   },
   "source": [
    "Ainda usando o mesmo vetor *arr*, o transforme em uma matrix de 2 colunas e 5 linhas. "
   ]
  },
  {
   "cell_type": "markdown",
   "metadata": {
    "id": "N4QrBwjJrz_u"
   },
   "source": [
    "Para ajudar na resolução dessa atividade, vamos checar antes a dimensão atual de *arr*."
   ]
  },
  {
   "cell_type": "code",
   "execution_count": 41,
   "metadata": {
    "colab": {
     "base_uri": "https://localhost:8080/"
    },
    "id": "0BVFPcr3rYRi",
    "outputId": "4461d40f-fd93-4056-a28e-c1d8f67e17ad"
   },
   "outputs": [
    {
     "data": {
      "text/plain": [
       "array([  6, -10,   1,   3,  -9,  -6,  -4,  -5,  -4,   3])"
      ]
     },
     "execution_count": 41,
     "metadata": {},
     "output_type": "execute_result"
    }
   ],
   "source": [
    "np.random.seed(50)\n",
    "arr = np.random.randint(-10,10,10)\n",
    "arr"
   ]
  },
  {
   "cell_type": "code",
   "execution_count": 42,
   "metadata": {
    "colab": {
     "base_uri": "https://localhost:8080/"
    },
    "id": "EOgY3GoBrYia",
    "outputId": "d97ebfd3-9cb8-4e23-e9f8-b384b7a8848f"
   },
   "outputs": [
    {
     "data": {
      "text/plain": [
       "(10,)"
      ]
     },
     "execution_count": 42,
     "metadata": {},
     "output_type": "execute_result"
    }
   ],
   "source": [
    "arr.shape"
   ]
  },
  {
   "cell_type": "markdown",
   "metadata": {
    "id": "xdMgDKn7r-Lo"
   },
   "source": [
    "Como podemos ver, *arr* possui 10 linhas e não tem uma segunda dimensão definida. "
   ]
  },
  {
   "cell_type": "markdown",
   "metadata": {
    "id": "aRdusmmLsE49"
   },
   "source": [
    "Para transformarmos nosso vetor 1-D em 2-D, vamos fazer uso da [função *reshape*](https://numpy.org/doc/stable/reference/generated/numpy.reshape.html)."
   ]
  },
  {
   "cell_type": "markdown",
   "metadata": {
    "id": "cXBW25IMsf-b"
   },
   "source": [
    "Lendo a documentação de *reshape* será que agora conseguimos resolver o exercício?"
   ]
  },
  {
   "cell_type": "code",
   "execution_count": null,
   "metadata": {
    "id": "YbYX5kMprYuJ"
   },
   "outputs": [],
   "source": []
  },
  {
   "cell_type": "code",
   "execution_count": null,
   "metadata": {
    "id": "Zo0L3ng-lmt1"
   },
   "outputs": [],
   "source": []
  }
 ],
 "metadata": {
  "colab": {
   "collapsed_sections": [
    "jDO4A6ESaFQ3",
    "YrjE1fPsYhZ8",
    "6Cu943CwRAoj",
    "wkkrYexwo3Cy",
    "i-NZSbTqpMGA"
   ],
   "name": "Talk7.ipynb",
   "provenance": [],
   "toc_visible": true
  },
  "kernelspec": {
   "display_name": "Python 3",
   "language": "python",
   "name": "python3"
  },
  "language_info": {
   "codemirror_mode": {
    "name": "ipython",
    "version": 3
   },
   "file_extension": ".py",
   "mimetype": "text/x-python",
   "name": "python",
   "nbconvert_exporter": "python",
   "pygments_lexer": "ipython3",
   "version": "3.7.6"
  }
 },
 "nbformat": 4,
 "nbformat_minor": 1
}
