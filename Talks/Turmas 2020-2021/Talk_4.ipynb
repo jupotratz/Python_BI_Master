{
 "cells": [
  {
   "cell_type": "markdown",
   "metadata": {
    "id": "80btK5XbwZYO"
   },
   "source": [
    "<img src=\"https://github.com/jupotratz/Python_BI_Master/blob/main/Turmas/2021.3/Imagens/sep.png?raw=true\"  width=1000 height=125 />"
   ]
  },
  {
   "cell_type": "markdown",
   "metadata": {
    "id": "QzcePa9W8N_Y"
   },
   "source": [
    "# Professoras\n",
    "\n",
    " - Amanda Lemette \n",
    "\t - prof.amanda@ica.ele.puc-rio.br\n",
    "\t - [Linkedin](https://www.linkedin.com/in/amanda-lemette-brand%C3%A3o-83280918b)\n",
    "   - [Youtube](https://www.youtube.com/c/AmandaLemette/featured)\n",
    "   \n",
    " - Júlia Potratz\n",
    "\t - prof.julia@ica.ele.puc-rio.br\n",
    "\t - [Linkedin](https://www.linkedin.com/in/julia-potratz)\n",
    "     \n",
    "# Material \n",
    "\n",
    "Repositório no GitHub: [Python_BI_Master](https://github.com/jupotratz/Python_BI_Master)\n",
    "\n",
    "\n",
    "# Talk 4\n",
    "Esse talk foi dado no dia 30/10/2021. \n",
    "\n",
    "- **Plano de aula:**\n",
    "\t- Lista + tupla\n",
    "         - acrescentar valores (append, insert e extend)\n",
    "         - remover valores (remove, pop)\n",
    "         - selecionar valores dentro da lista (indexação)\n",
    "         - verificar existencia de um elemento na lista \n",
    "         - ordenar listas\n",
    "         - extra(verificar valores unicos dentro de uma lista - *SET*) \n",
    "\n",
    "  - Loops\n",
    "      - for  \n",
    "          - caracteristicas do print( )\n",
    "          - usando lista, range, enumerate, zip (tentar associar a alguma coisa real)\n",
    "\n",
    "      - while\n",
    "          - sintaxe\n",
    "          - break, pass e continue\n",
    "\n"
   ]
  },
  {
   "cell_type": "markdown",
   "metadata": {
    "id": "BCS4aWVzJBxx"
   },
   "source": [
    "<img src=\"https://github.com/jupotratz/Python_BI_Master/blob/main/Turmas/2021.3/Imagens/sep.png?raw=true\"  width=1000 height=125 />"
   ]
  },
  {
   "cell_type": "markdown",
   "metadata": {
    "id": "4Eo3EvIMJ4kf"
   },
   "source": [
    "## Problema proposto\n",
    "\n",
    "Daniel é dono de um mercadinho e com a pandemia do COVID 19 teve a necessidade de fazer uma adaptação no seu modelo de negócio e passar a oferecer compras online para os seus clientes. Para isso ele teve que investir tempo e dinheiro para a criação de um sistema para os seus clientes gerenciarem as suas compras em termos de valor, quantidade e produtos que estão sendo colocados no carrinho. Esses sistema tem o objetivo de informar um resumo do que está sendo comprado pelos clientes e deve permitir que a gente consiga acrescentar novos produtos, remover produtos e pesquisar os produtos que já estão no carrinho, caso seja necessário. \n",
    "\n",
    "### Características do problema\n",
    "- Temos que armazenar as informações dos produtos, quantidades e valores em algum lugar.\n",
    "- O usuário deve poder fazer a inserção e remoção de algum produto.\n",
    "- O usuário também tem que conseguir verificar se já existe um produto específico no carrinho (conferir se não esqueceu de nada).\n",
    "\n",
    "### Solução\n",
    "\n",
    "- Como poderíamos fazer isso em Python?\n",
    "\n",
    "- Com o que sabemos até agora vocês acham que é possível realizar todos esses procedimentos?\n",
    "  - Operadores (aritméticos, relacionais, lógicos)\n",
    "  - Dados inteiros\n",
    "  - Dados reais\n",
    "  - Estruturas condicionais\n",
    "\n",
    "<center><img src=\"https://dicasdamaia.files.wordpress.com/2017/12/duvida.png?w=190\" width=200 ><center>\n",
    "\n"
   ]
  },
  {
   "cell_type": "markdown",
   "metadata": {
    "id": "n8JueD5j07Kg"
   },
   "source": [
    "# Repetição\n",
    "\n",
    "---\n",
    "Uma das principais características que consolidaram o sucesso na utilização dos computadores para a resolução de problemas foi a sua capacidade de repetir o processamento de um conjunto de operações para grandes quantidades de dados. Exemplos de conjuntos de tarefas que repetimos diversas vezes dentro de uma situação específica podem ser observados largamente no nosso dia a dia.\n",
    "\n",
    "As estruturas de repetição provém uma maneira de repetir um conjunto de procedimentos até que determinado objetivo seja atingido, quando a repetição se encerra. Todas as estruturas de repetição têm em comum o fato de haver uma condição de controle, expressa através de uma expressão lógica, que é testada em cada ciclo para determinar se a repetição prossegue ou não.\n",
    "\n",
    "Em python, são utilizadas dois tipos de estrutura condicional:\n",
    "\n",
    "- FOR\n",
    "- WHILE\n",
    "\n",
    "\n",
    "Vamos explorar um pouco cada uma delas...\n",
    "\n",
    "\n",
    "\n",
    "\n",
    "\n",
    "\n"
   ]
  },
  {
   "cell_type": "markdown",
   "metadata": {
    "id": "4GK8u0_MzXUQ"
   },
   "source": [
    "## for\n",
    "\n",
    "- O bloco de repetição <code>for</code> normalmente é utilizado quando temos número fixo de repetições, ou seja, sabemos quantas vezes o bloco de comandos determinado deve ser executado, se utiliza uma lista para se iterar a repetição. Algumas indicações de que podemos usar o for:\n",
    "\n",
    "  - Existência de uma sequência de valores\n",
    "\n",
    "<center><img src=\"https://github.com/jupotratz/Python_BI_Master/blob/main/Turmas/2021.3/Imagens/for.JPG?raw=true\" width=900><center>"
   ]
  },
  {
   "cell_type": "markdown",
   "metadata": {
    "id": "NJ272jLW6O3U"
   },
   "source": [
    "- Para facilitar o entendimento das estruturas, vamos importar uma biblioteca para controlar o tempo de execução do código chamada time.\n",
    "\n",
    "```\n",
    "import time\n",
    "```\n",
    "\n",
    "- Iremos utilizar a função <code>.sleep()</code> dessa biblioteca, na qual passamos como arqgumento o tempo em segundos que queremos paralizar a execução do código. "
   ]
  },
  {
   "cell_type": "code",
   "execution_count": null,
   "metadata": {
    "id": "C6zezmiz2U8F"
   },
   "outputs": [],
   "source": [
    "import time"
   ]
  },
  {
   "cell_type": "markdown",
   "metadata": {
    "id": "ikGX_pLD2Vu-"
   },
   "source": [
    "## Lista | Tupla | Vetor | Serie"
   ]
  },
  {
   "cell_type": "code",
   "execution_count": null,
   "metadata": {
    "id": "sTf2aJc-yqrC"
   },
   "outputs": [],
   "source": [
    "lista = [1,2,3,4,5,6,7,8,9,10]"
   ]
  },
  {
   "cell_type": "markdown",
   "metadata": {
    "id": "HHlzWFm45qFQ"
   },
   "source": [
    "- Vamos inverter a lista para podermo entender melhor o que está acontecendo. Para isso podemos utilizar uma notação do python muito simples para inverter sequências de valores.\n",
    "\n",
    "```\n",
    "lista = lista[::-1]\n",
    "```"
   ]
  },
  {
   "cell_type": "code",
   "execution_count": null,
   "metadata": {
    "colab": {
     "base_uri": "https://localhost:8080/"
    },
    "id": "aO2rKK-45nrN",
    "outputId": "e67487e9-6acd-41b1-950c-47e4a339e425"
   },
   "outputs": [
    {
     "name": "stdout",
     "output_type": "stream",
     "text": [
      "[10, 9, 8, 7, 6, 5, 4, 3, 2, 1]\n"
     ]
    }
   ],
   "source": [
    "lista = lista[::-1]\n",
    "print(lista)"
   ]
  },
  {
   "cell_type": "markdown",
   "metadata": {
    "id": "KiT2FLUI5_pI"
   },
   "source": [
    "- Com a estrutura de repetição for vamos percorrer a nossa lista e multiplicar cada valor da lista por 3 e mostrar os resultados na tela."
   ]
  },
  {
   "cell_type": "code",
   "execution_count": null,
   "metadata": {
    "colab": {
     "base_uri": "https://localhost:8080/"
    },
    "id": "Fc9lCU8L5-qN",
    "outputId": "fe263d2d-5225-4e16-e6c4-f376af16968f"
   },
   "outputs": [
    {
     "name": "stdout",
     "output_type": "stream",
     "text": [
      "30\n",
      "27\n",
      "24\n",
      "21\n",
      "18\n",
      "15\n",
      "12\n",
      "9\n",
      "6\n",
      "3\n"
     ]
    }
   ],
   "source": [
    "for elemento in lista:\n",
    "    time.sleep(2)\n",
    "    print(elemento*3)"
   ]
  },
  {
   "cell_type": "markdown",
   "metadata": {
    "id": "JR3JK9ZRU7Rl"
   },
   "source": [
    "- Com a estrutura de repetição for vamos percorrer a nossa tupla de valores e mostrar para o usuário apenas os valores que são pares."
   ]
  },
  {
   "cell_type": "code",
   "execution_count": null,
   "metadata": {
    "colab": {
     "base_uri": "https://localhost:8080/"
    },
    "id": "luGxVywD5n3T",
    "outputId": "951b07d6-d6c6-4013-ca7d-e493bae17981"
   },
   "outputs": [
    {
     "name": "stdout",
     "output_type": "stream",
     "text": [
      "10\n",
      "34\n",
      "76\n",
      "28\n"
     ]
    }
   ],
   "source": [
    "tupla = (10,11,34,76,35,21,28)\n",
    "for elemento in tupla:\n",
    "    time.sleep(2)\n",
    "    if elemento % 2 ==0:\n",
    "      print(elemento)"
   ]
  },
  {
   "cell_type": "markdown",
   "metadata": {
    "id": "-9S0HDFPVds8"
   },
   "source": [
    "## Problema\n",
    "\n",
    " - Precisamos criar uma lista começando do 1 e indo até o 30. \n",
    " -  Precisamos criar uma lista numérica começando do 0 e indo até 1000 porém apenas com valores que sejam pares.\n",
    " - Precisamos criar uma lista decrescente de 10 a 1.\n",
    "\n",
    "\n",
    "#### Como poderíamos fazer isso sem criar a lista manualmente?\n",
    "\n",
    "\n",
    " <center><img src=\"https://dicasdamaia.files.wordpress.com/2017/12/duvida.png?w=190\"><center>"
   ]
  },
  {
   "cell_type": "markdown",
   "metadata": {
    "id": "b6NrfncK2NXh"
   },
   "source": [
    "## Range\n",
    "\n",
    "- Consiste em uma forma prática de se escrever uma lista em ordem crescente ou decrescente, o até mesmo, considerando intervalos de valores.\n",
    "\n",
    "\n",
    "```\n",
    "range(valor_inicial=0, valor_final, step)\n",
    "```\n",
    "\n"
   ]
  },
  {
   "cell_type": "markdown",
   "metadata": {
    "id": "J-jlIaA928-I"
   },
   "source": [
    "- Vamos gerar uma lista por meio do range de valores inteiros de 1 a 10"
   ]
  },
  {
   "cell_type": "code",
   "execution_count": null,
   "metadata": {
    "colab": {
     "base_uri": "https://localhost:8080/"
    },
    "id": "VE8uNgVq2l4v",
    "outputId": "af354817-3063-4e04-f467-ebb78e4b3ad5"
   },
   "outputs": [
    {
     "name": "stdout",
     "output_type": "stream",
     "text": [
      "A quantidade de elementos gerado é:  29\n",
      "[1, 2, 3, 4, 5, 6, 7, 8, 9, 10, 11, 12, 13, 14, 15, 16, 17, 18, 19, 20, 21, 22, 23, 24, 25, 26, 27, 28, 29]\n"
     ]
    }
   ],
   "source": [
    "range_1 = range(1,30)\n",
    "print('A quantidade de elementos gerado é: ', len(range_1))\n",
    "print(list(range_1))"
   ]
  },
  {
   "cell_type": "markdown",
   "metadata": {
    "id": "b2s8QLLE3FCh"
   },
   "source": [
    "- Mas ele gerou de 1 a 29, o que pode ter acontecido?\n",
    "\n",
    "  - Isso tem a ver com  a questão da indexação, como a indexação começa no zero o ultimo elemento sempre é um stop e não pertence ás nossa sequências."
   ]
  },
  {
   "cell_type": "code",
   "execution_count": null,
   "metadata": {
    "colab": {
     "base_uri": "https://localhost:8080/"
    },
    "id": "z5FpRY6A3EPu",
    "outputId": "3e8fc18c-3f1b-4905-c531-bbe844d4b06d"
   },
   "outputs": [
    {
     "name": "stdout",
     "output_type": "stream",
     "text": [
      "[1, 2, 3, 4, 5, 6, 7, 8, 9, 10, 11, 12, 13, 14, 15, 16, 17, 18, 19, 20, 21, 22, 23, 24, 25, 26, 27, 28, 29, 30]\n"
     ]
    }
   ],
   "source": [
    "range_1 = range(1,31)\n",
    "print(list(range_1))"
   ]
  },
  {
   "cell_type": "markdown",
   "metadata": {
    "id": "Oy7VOanP3Y7g"
   },
   "source": [
    "- Vamos gerar uma lista por meio do range de valores inteiros de 0 a 1001, mas com passo 2."
   ]
  },
  {
   "cell_type": "code",
   "execution_count": null,
   "metadata": {
    "colab": {
     "base_uri": "https://localhost:8080/"
    },
    "id": "ilNe368r2mHZ",
    "outputId": "8982f58f-8679-456f-88ee-df633358c642"
   },
   "outputs": [
    {
     "name": "stdout",
     "output_type": "stream",
     "text": [
      "Elementos gerados:  [0, 2, 4, 6, 8, 10, 12, 14, 16, 18, 20, 22, 24, 26, 28, 30, 32, 34, 36, 38, 40, 42, 44, 46, 48, 50, 52, 54, 56, 58, 60, 62, 64, 66, 68, 70, 72, 74, 76, 78, 80, 82, 84, 86, 88, 90, 92, 94, 96, 98, 100, 102, 104, 106, 108, 110, 112, 114, 116, 118, 120, 122, 124, 126, 128, 130, 132, 134, 136, 138, 140, 142, 144, 146, 148, 150, 152, 154, 156, 158, 160, 162, 164, 166, 168, 170, 172, 174, 176, 178, 180, 182, 184, 186, 188, 190, 192, 194, 196, 198, 200, 202, 204, 206, 208, 210, 212, 214, 216, 218, 220, 222, 224, 226, 228, 230, 232, 234, 236, 238, 240, 242, 244, 246, 248, 250, 252, 254, 256, 258, 260, 262, 264, 266, 268, 270, 272, 274, 276, 278, 280, 282, 284, 286, 288, 290, 292, 294, 296, 298, 300, 302, 304, 306, 308, 310, 312, 314, 316, 318, 320, 322, 324, 326, 328, 330, 332, 334, 336, 338, 340, 342, 344, 346, 348, 350, 352, 354, 356, 358, 360, 362, 364, 366, 368, 370, 372, 374, 376, 378, 380, 382, 384, 386, 388, 390, 392, 394, 396, 398, 400, 402, 404, 406, 408, 410, 412, 414, 416, 418, 420, 422, 424, 426, 428, 430, 432, 434, 436, 438, 440, 442, 444, 446, 448, 450, 452, 454, 456, 458, 460, 462, 464, 466, 468, 470, 472, 474, 476, 478, 480, 482, 484, 486, 488, 490, 492, 494, 496, 498, 500, 502, 504, 506, 508, 510, 512, 514, 516, 518, 520, 522, 524, 526, 528, 530, 532, 534, 536, 538, 540, 542, 544, 546, 548, 550, 552, 554, 556, 558, 560, 562, 564, 566, 568, 570, 572, 574, 576, 578, 580, 582, 584, 586, 588, 590, 592, 594, 596, 598, 600, 602, 604, 606, 608, 610, 612, 614, 616, 618, 620, 622, 624, 626, 628, 630, 632, 634, 636, 638, 640, 642, 644, 646, 648, 650, 652, 654, 656, 658, 660, 662, 664, 666, 668, 670, 672, 674, 676, 678, 680, 682, 684, 686, 688, 690, 692, 694, 696, 698, 700, 702, 704, 706, 708, 710, 712, 714, 716, 718, 720, 722, 724, 726, 728, 730, 732, 734, 736, 738, 740, 742, 744, 746, 748, 750, 752, 754, 756, 758, 760, 762, 764, 766, 768, 770, 772, 774, 776, 778, 780, 782, 784, 786, 788, 790, 792, 794, 796, 798, 800, 802, 804, 806, 808, 810, 812, 814, 816, 818, 820, 822, 824, 826, 828, 830, 832, 834, 836, 838, 840, 842, 844, 846, 848, 850, 852, 854, 856, 858, 860, 862, 864, 866, 868, 870, 872, 874, 876, 878, 880, 882, 884, 886, 888, 890, 892, 894, 896, 898, 900, 902, 904, 906, 908, 910, 912, 914, 916, 918, 920, 922, 924, 926, 928, 930, 932, 934, 936, 938, 940, 942, 944, 946, 948, 950, 952, 954, 956, 958, 960, 962, 964, 966, 968, 970, 972, 974, 976, 978, 980, 982, 984, 986, 988, 990, 992, 994, 996, 998, 1000]\n"
     ]
    }
   ],
   "source": [
    "range_2 = range(0,1001,2)\n",
    "print('Elementos gerados: ',list(range_2))"
   ]
  },
  {
   "cell_type": "markdown",
   "metadata": {
    "id": "E5IDkv1z3sB2"
   },
   "source": [
    "- Vamos gerar uma lista decescente de 10 a 1 com passo -1."
   ]
  },
  {
   "cell_type": "code",
   "execution_count": null,
   "metadata": {
    "colab": {
     "base_uri": "https://localhost:8080/"
    },
    "id": "CwIYE8Qi2mXZ",
    "outputId": "9817fe5d-7625-4ee7-9e39-a44b7ce3df38"
   },
   "outputs": [
    {
     "name": "stdout",
     "output_type": "stream",
     "text": [
      "[10, 9, 8, 7, 6, 5, 4, 3, 2, 1]\n"
     ]
    }
   ],
   "source": [
    "range_3 = range(10,0,-1)\n",
    "print(list(range_3))"
   ]
  },
  {
   "cell_type": "markdown",
   "metadata": {
    "id": "FgIY-XmMXgUT"
   },
   "source": [
    "## Problema\n",
    "\n",
    "A organização de uma maratona aquática não foi muito eficiente e eles acabaram salvando cada uma das informações dos competidores em em conjuntos de dados separados. Uma lista só com os nomes, uma lista só com as idades, uma lista só com o telefone, etc. Pelo menos as posições de cada umas das informações nas diferentes listas corresponde. \n",
    "\n",
    "<center><img src=\"https://github.com/jupotratz/Python_BI_Master/blob/main/Turmas/2021.3/Imagens/maratona_aquatica.PNG?raw=true\" width=450>"
   ]
  },
  {
   "cell_type": "markdown",
   "metadata": {},
   "source": [
    "A organização precisa realizar algumas tarefas com essas informações contidas nessas listas, são elas:\n",
    "- Gerar um número de identificação para imprimir na touca de cada participante, para isso podem gerar os números de acordo com a ordem presente na lista.\n",
    "- Conferir algumas informações de participantes específicos, como por exemplo o  João, para isso precisam da informação do telefone dessas alunos. \n",
    "\n",
    "#### Como será que poderíamos fazer isso?\n",
    "\n",
    " <center><img src=\"https://dicasdamaia.files.wordpress.com/2017/12/duvida.png?w=190\">"
   ]
  },
  {
   "cell_type": "markdown",
   "metadata": {
    "id": "Su42s93Bhklr"
   },
   "source": [
    "## Enumerate x Zip\n",
    "\n",
    "<center><img src=\"https://github.com/jupotratz/Python_BI_Master/blob/main/Turmas/2021.3/Imagens/enumerate_zip.PNG?raw=true\"><center>"
   ]
  },
  {
   "cell_type": "markdown",
   "metadata": {
    "id": "tbwP6ZXL2PGF"
   },
   "source": [
    "### Enumerate\n",
    "\n",
    "A função <code>enumerate()</code> retorna um objeto iterável, geralmente utilizado dentro de estruturas de repetição <code>for</code>. Ele permite que simultâneamente acessemos as informações do index e do valor dos elementos de tipos de dados como listas, tuplas, vetores, etc.\n",
    "\n",
    "Por exemplo, vamos criar uma lista e aplicar a função enumerate nela:"
   ]
  },
  {
   "cell_type": "code",
   "execution_count": null,
   "metadata": {
    "id": "-GpAE0-t2MQn"
   },
   "outputs": [],
   "source": [
    "nomes = ['Julia', 'Amanda', 'João', 'Flavia','Matheus','Carlos']"
   ]
  },
  {
   "cell_type": "code",
   "execution_count": null,
   "metadata": {
    "colab": {
     "base_uri": "https://localhost:8080/"
    },
    "id": "whOUJV6-4iBl",
    "outputId": "513a9fe3-2b7e-4136-d4b1-f61e2d08eb13"
   },
   "outputs": [
    {
     "data": {
      "text/plain": [
       "<enumerate at 0x7fa7d99c3780>"
      ]
     },
     "execution_count": 19,
     "metadata": {},
     "output_type": "execute_result"
    }
   ],
   "source": [
    "enumerate(nomes)"
   ]
  },
  {
   "cell_type": "markdown",
   "metadata": {
    "id": "3IMzpvO-4r-u"
   },
   "source": [
    "- Reparem que a função retornou algo estranho...\n",
    "\n",
    "- Na verdade a função retornou um objeto iterável, caso eu queira vizualizar, posso tranformar esse objeto em uma lista ou tupla por exemplo. \n",
    "\n"
   ]
  },
  {
   "cell_type": "code",
   "execution_count": null,
   "metadata": {
    "colab": {
     "base_uri": "https://localhost:8080/"
    },
    "id": "UkC-aByb4iEo",
    "outputId": "97994ebf-502f-4ec3-d4ef-6cf4c25fadbc"
   },
   "outputs": [
    {
     "data": {
      "text/plain": [
       "[(0, 'Julia'),\n",
       " (1, 'Amanda'),\n",
       " (2, 'João'),\n",
       " (3, 'Flavia'),\n",
       " (4, 'Matheus'),\n",
       " (5, 'Carlos')]"
      ]
     },
     "execution_count": 20,
     "metadata": {},
     "output_type": "execute_result"
    }
   ],
   "source": [
    "list(enumerate(nomes))"
   ]
  },
  {
   "cell_type": "markdown",
   "metadata": {
    "id": "dRcnNVtzikr3"
   },
   "source": [
    "- Reparem que ele gerou uma lista de tuplas, onde cada tupla tem o número (index) e o valor de cada elemento da nossa lista de nomes.\n",
    "\n",
    "- Ainda podemos definir um index de inicio diferente para a nossa função enumerate."
   ]
  },
  {
   "cell_type": "code",
   "execution_count": null,
   "metadata": {
    "colab": {
     "base_uri": "https://localhost:8080/"
    },
    "id": "E8uVtN0EikO2",
    "outputId": "f796a22c-d460-4672-836a-05892b83a4e4"
   },
   "outputs": [
    {
     "data": {
      "text/plain": [
       "[(1, 'Julia'),\n",
       " (2, 'Amanda'),\n",
       " (3, 'João'),\n",
       " (4, 'Flavia'),\n",
       " (5, 'Matheus'),\n",
       " (6, 'Carlos')]"
      ]
     },
     "execution_count": 22,
     "metadata": {},
     "output_type": "execute_result"
    }
   ],
   "source": [
    "list(enumerate(nomes, start=1))"
   ]
  },
  {
   "cell_type": "markdown",
   "metadata": {
    "id": "kacs7vyt5KY5"
   },
   "source": [
    "Vamos aplicar esse conceito do enumerate para o problema de gerar os números para as toucas dos participantes, utilizando uma estrutura de repetição:\n",
    "\n",
    "\n",
    "**Observação importante**"
   ]
  },
  {
   "cell_type": "code",
   "execution_count": null,
   "metadata": {
    "colab": {
     "base_uri": "https://localhost:8080/"
    },
    "id": "m9yjVfjB5Qkf",
    "outputId": "f3b80298-2526-4219-cb0c-7faa505dc97e"
   },
   "outputs": [
    {
     "name": "stdout",
     "output_type": "stream",
     "text": [
      "1\n",
      "Julia\n"
     ]
    }
   ],
   "source": [
    "## Podemos atribuir os valores de uma tupla da seguinte forma \n",
    "index, valor = (1, 'Julia')\n",
    "print(index)\n",
    "print(valor)"
   ]
  },
  {
   "cell_type": "markdown",
   "metadata": {
    "id": "VaU9Z2S75WlY"
   },
   "source": [
    "Vamos gerar os valores para cada um dos participantes então, começando do zero.\n",
    "\n",
    "Vamos também padronizar os números no seguinte formato\n",
    "\n",
    "\n",
    "\n",
    "|Número|Código da competição|\n",
    "|:---:|:---:|\n",
    "|1|0001|\n",
    "|2|0002|\n",
    "|3|0003|\n",
    "|4|0004|\n"
   ]
  },
  {
   "cell_type": "code",
   "execution_count": null,
   "metadata": {
    "colab": {
     "base_uri": "https://localhost:8080/"
    },
    "id": "03-Jm7LI4iIM",
    "outputId": "db33a040-3d1b-4a55-feae-cc5116c73f22"
   },
   "outputs": [
    {
     "name": "stdout",
     "output_type": "stream",
     "text": [
      "Julia - 0001\n",
      "Amanda - 0002\n",
      "João - 0003\n",
      "Flavia - 0004\n",
      "Matheus - 0005\n",
      "Carlos - 0006\n"
     ]
    }
   ],
   "source": [
    "nomes = ['Julia', 'Amanda', 'João', 'Flavia','Matheus','Carlos']\n",
    "\n",
    "for numero, nome in enumerate(nomes,start=1):\n",
    "  numero_str = str(numero)\n",
    "  if len(numero_str) != 4:\n",
    "    cod = '0'*(4-len(numero_str)) + numero_str\n",
    "    print(f'{nome} - {cod}')\n",
    "    continue\n",
    "  print(f'{nome} - {numero}')"
   ]
  },
  {
   "cell_type": "markdown",
   "metadata": {
    "id": "AGp48bIw2R1W"
   },
   "source": [
    "## Zip\n",
    "\n",
    "O método <code>zip()</code> do Python pega  um conjunto de elementos ou iteráveis ​​e retorna um único objeto iterador, tendo valores mapeados de todos os conjuntos introduzidos no **zip**. \n",
    "\n",
    "Ele é usado para mapear o índice semelhante de vários contêineres para que eles possam ser usados ​​usando apenas uma única entidade. \n",
    "\n",
    "**Vamos entender melhor o que é esse zip voltando para o nosso problema dos participantes da maratona...**\n",
    "\n",
    "<center><img src=\"https://github.com/jupotratz/Python_BI_Master/blob/main/Turmas/2021.3/Imagens/maratona_aquatica.PNG?raw=true\" width=450><center>"
   ]
  },
  {
   "cell_type": "code",
   "execution_count": null,
   "metadata": {
    "id": "cgjjclGA2MTK"
   },
   "outputs": [],
   "source": [
    "nomes = ['Julia', 'Amanda', 'João', 'Flavia','Matheus','Carlos']\n",
    "idades = [25, 33, 45, 32, 26, 18]\n",
    "telefones = ['99365-5487','98652-3654','97939-1821','97225-9988','96512-8155','95799-6322']"
   ]
  },
  {
   "cell_type": "markdown",
   "metadata": {
    "id": "IOL41EebmaHt"
   },
   "source": [
    "- Vamos zipar todas essa listas em um unico objeto iterador"
   ]
  },
  {
   "cell_type": "code",
   "execution_count": null,
   "metadata": {
    "colab": {
     "base_uri": "https://localhost:8080/"
    },
    "id": "esD-tGSw2MWP",
    "outputId": "64fd8f6a-3222-450a-d8e3-0e8404c5edab"
   },
   "outputs": [
    {
     "data": {
      "text/plain": [
       "<zip at 0x7fa7d995c780>"
      ]
     },
     "execution_count": 28,
     "metadata": {},
     "output_type": "execute_result"
    }
   ],
   "source": [
    "zip(nomes,idades, telefones)"
   ]
  },
  {
   "cell_type": "markdown",
   "metadata": {
    "id": "EjHM7vCxmlAr"
   },
   "source": [
    "- Reparem que, assim como no enumerate a função retornou algo estranho...\n",
    "\n",
    "- Na verdade a função retornou um objeto zip iterável, caso eu queira vizualizar, podemos tranformar esse objeto em uma lista ou tupla por exemplo. \n"
   ]
  },
  {
   "cell_type": "code",
   "execution_count": null,
   "metadata": {
    "colab": {
     "base_uri": "https://localhost:8080/"
    },
    "id": "BquWwMOL2McI",
    "outputId": "3852f8fa-1cd7-4f2c-b892-0db477ebe841"
   },
   "outputs": [
    {
     "data": {
      "text/plain": [
       "[('Julia', 25, '99365-5487'),\n",
       " ('Amanda', 33, '98652-3654'),\n",
       " ('João', 45, '97939-1821'),\n",
       " ('Flavia', 32, '97225-9988'),\n",
       " ('Matheus', 26, '96512-8155'),\n",
       " ('Carlos', 18, '95799-6322')]"
      ]
     },
     "execution_count": 29,
     "metadata": {},
     "output_type": "execute_result"
    }
   ],
   "source": [
    "list(zip(nomes,idades, telefones))"
   ]
  },
  {
   "cell_type": "markdown",
   "metadata": {
    "id": "-eIkmhUlmuk6"
   },
   "source": [
    "- Reparem no que ele mostrou como resultado, uma tupla contendo as informações correspondentes de cada uma das listas separadamente juntas, então se eu quisesse pegar todas as informações da Amanda, poderiamos selecionar o elemento de index 1 dessa lista criada. Podemos ver esse exemplo abaixo:\n"
   ]
  },
  {
   "cell_type": "code",
   "execution_count": null,
   "metadata": {
    "colab": {
     "base_uri": "https://localhost:8080/"
    },
    "id": "A1ff9nb-mtLG",
    "outputId": "73ce829e-fdf7-462b-ac5f-e02c77b458f4"
   },
   "outputs": [
    {
     "name": "stdout",
     "output_type": "stream",
     "text": [
      "('Amanda', 33, '98652-3654')\n"
     ]
    }
   ],
   "source": [
    "print(list(zip(nomes,idades, telefones))[1])"
   ]
  },
  {
   "cell_type": "markdown",
   "metadata": {
    "id": "Yoo_9vGAnONU"
   },
   "source": [
    "**Visto isso, como poderiamos através do zip pegar as informações do João para ligar para ele e conferir as informações:**\n",
    "\n",
    " <center><img src=\"https://dicasdamaia.files.wordpress.com/2017/12/duvida.png?w=190\"><center>\n",
    "\n"
   ]
  },
  {
   "cell_type": "code",
   "execution_count": null,
   "metadata": {
    "colab": {
     "base_uri": "https://localhost:8080/"
    },
    "id": "zRAaN_bOm_Z-",
    "outputId": "132ee1d0-64b9-4ac5-811c-e05efb319380"
   },
   "outputs": [
    {
     "name": "stdout",
     "output_type": "stream",
     "text": [
      "Nome: João\n",
      "Idade: 45 anos\n",
      "Telefone: 97939-1821\n"
     ]
    }
   ],
   "source": [
    "nomes = ['Julia', 'Amanda', 'João', 'Flavia','Matheus','Carlos']\n",
    "idades = [25, 33, 45, 32, 26, 18]\n",
    "telefones = ['99365-5487','98652-3654','97939-1821','97225-9988','96512-8155','95799-6322']\n",
    "\n",
    "for nome, idade, telefone in zip(nomes,idades, telefones):\n",
    "  if nome == \"João\":\n",
    "    print(f'Nome: {nome}\\nIdade: {idade} anos\\nTelefone: {telefone}')"
   ]
  },
  {
   "cell_type": "markdown",
   "metadata": {
    "id": "bK5sUu_Ln5rg"
   },
   "source": [
    "**Poderiamos resolver esse mesmo problema com a função** <code>enumerate()</code> ?"
   ]
  },
  {
   "cell_type": "code",
   "execution_count": null,
   "metadata": {
    "colab": {
     "base_uri": "https://localhost:8080/"
    },
    "id": "Oqbv2P7yn0Nx",
    "outputId": "c7470009-ff44-4c19-ff53-0fa64523fda0"
   },
   "outputs": [
    {
     "name": "stdout",
     "output_type": "stream",
     "text": [
      "Nome: João\n",
      "Idade: 45 anos\n",
      "Telefone: 97939-1821\n"
     ]
    }
   ],
   "source": [
    "nomes = ['Julia', 'Amanda', 'João', 'Flavia','Matheus','Carlos']\n",
    "idades = [25, 33, 45, 32, 26, 18]\n",
    "telefones = ['99365-5487','98652-3654','97939-1821','97225-9988','96512-8155','95799-6322']\n",
    "\n",
    "for index, nome in enumerate(nomes):\n",
    "  if nome == 'João':\n",
    "    idade = idades[index]\n",
    "    telefone = telefones[index]\n",
    "    print(f'Nome: {nome}\\nIdade: {idade} anos\\nTelefone: {telefone}')"
   ]
  },
  {
   "cell_type": "markdown",
   "metadata": {
    "id": "ZJ_JJeKworr-"
   },
   "source": [
    "## While\n",
    "\n",
    "- O bloco de repetição <code>while</code> normalmente é utilizado quando temos número **variável** de repetições, ou seja, não sabemos ao certo quantas vezes o bloco de comandos determinado deve ser executado. Para determinar a continuação ou não continuação da repetição é utilizado um teste de condição válido para cada caso (de acordo com a lógica do problema):\n",
    "\n",
    "\n",
    "<center><img src=\"https://github.com/jupotratz/Python_BI_Master/blob/main/Turmas/2021.3/Imagens/while.JPG?raw=true\" width=900><center>\n",
    "\n",
    "\n"
   ]
  },
  {
   "cell_type": "markdown",
   "metadata": {
    "id": "8CjDSwBpsEIx"
   },
   "source": [
    "#### Vamos pensar em um exemplo prático de repetição em que não temos um número definido de vezes que vamos ter que repetir o procedimento\n",
    "\n",
    "- Fábrica de automóveis:\n",
    "\n",
    "\n",
    "<center><img src=\"https://github.com/jupotratz/Python_BI_Master/blob/main/Turmas/2021.3/Imagens/cadeia_produtiva_fabrica.png?raw=true\" width=500>\n",
    "\n",
    "\n"
   ]
  },
  {
   "cell_type": "markdown",
   "metadata": {
    "id": "CBHukNxZPN75"
   },
   "source": [
    "- Para construir um carro, uma fabrica precisa de 50 parafusos **não defeituosos**, e para isso eles colocam um funcionário para realizar a verificação de cada parafuso para que não haja problema na linha de montagem. \n",
    "  - O funcionário separa grupos de parafusos para cada automóvel seguindo o seguinte procedimento:\n",
    "\n",
    "```\n",
    "1. Pega a caixa de peças do carro x\n",
    "2. Pega um parafuso\n",
    "3. Verifica se o parafuso é defeituoso\n",
    "  3.1. Se for defeituoso joga na caixa de peças defeituosas\n",
    "  3.2. Se não for defeituoso joga na caixa de peças para o carro x \n",
    "4. Verifica se existem 50 parafusos, caso contrário volta ao passo 2\n",
    "5. Quando chega a 50 parafusos, passa a caixa de peças para a sequência da linha de produção. \n",
    "```\n",
    "### Algumas perguntinhas\n",
    "- Quantos parafusos o funcionário verificou para completar a quantidade de parafusos necessários para o carro x?\n",
    "- Qual foi a condição para ele parar de verificar parafusos defeituosos para o carro x?\n",
    "\n",
    "<center><img src=\"https://dicasdamaia.files.wordpress.com/2017/12/duvida.png?w=190\">"
   ]
  },
  {
   "cell_type": "code",
   "execution_count": null,
   "metadata": {
    "id": "ngUc5fYCoe3F"
   },
   "outputs": [],
   "source": []
  },
  {
   "cell_type": "markdown",
   "metadata": {
    "id": "btGg5YY337zp"
   },
   "source": [
    "Vamos, agora, ver um exemplo bem direto sobre o uso do loop **while**: \n",
    "\n",
    "Considere que você tem um dado de jogo e foi desafiado a gerar 6 vezes o número 6 do dado, quantas rodadas serão necessárias para isso?"
   ]
  },
  {
   "cell_type": "markdown",
   "metadata": {
    "id": "lNma0_OW4ZF2"
   },
   "source": [
    "Antes de programarmos a solução, vamos montar o algoritmo desse problema:\n",
    "\n",
    "```\n",
    "1. Crie uma variável chamada acerto que recebe o número zero, ela irá ser atualizada em 1 unidade toda vez que o número 6 for sorteado\n",
    "2. Sorteie um número inteiro entre 1 e 6\n",
    "3. O número sorteado é igual a 6?\n",
    "  3.1. Se sim, acerto é acrescido de 1 unidade\n",
    "  3.2. Se não, não faça nada\n",
    "4. acerto é igual a 6? \n",
    "  4.1. Se sim, fim do jogo\n",
    "  4.2. Se não, retorne ao passo 2\n",
    "```\n",
    "\n",
    "Para realizarmos o passo 2 do algoritmo, precisamos fazer a importação de uma biblioteca para podermos utilizar uma função que sorteia números inteiros dentro de um intervalo. \n",
    "\n",
    "Essa biblioteca se chama [**random**](https://docs.python.org/3/library/random.html) e a função que iremos utilizar é **randint**."
   ]
  },
  {
   "cell_type": "code",
   "execution_count": 1,
   "metadata": {
    "id": "6QUN5D6lF0O-"
   },
   "outputs": [],
   "source": [
    "import random"
   ]
  },
  {
   "cell_type": "code",
   "execution_count": 2,
   "metadata": {
    "colab": {
     "base_uri": "https://localhost:8080/"
    },
    "id": "3AzMZFBQyyy2",
    "outputId": "c4786e61-b0cb-4699-de66-ac0fd6652877"
   },
   "outputs": [
    {
     "name": "stdout",
     "output_type": "stream",
     "text": [
      "6\n"
     ]
    }
   ],
   "source": [
    "acerto = 0\n",
    "while acerto < 6:\n",
    "  num = random.randint(1,6)\n",
    "  if num == 6:\n",
    "    acerto += 1 \n",
    "print(acerto) "
   ]
  },
  {
   "cell_type": "markdown",
   "metadata": {
    "id": "SeaxIW3QF9X5"
   },
   "source": [
    "Agora, se quisermos saber quantas tentativas erradas foram feitas, como adaptamos o código anterior?\n",
    "\n",
    "Podemos criar outra variável que contabiliza o número de vezes que o dado sorteou um valor diferente de 6. Essa contabilização deve ser feita dentro do *else*."
   ]
  },
  {
   "cell_type": "code",
   "execution_count": 3,
   "metadata": {
    "colab": {
     "base_uri": "https://localhost:8080/"
    },
    "id": "_lPOLqbaGE4K",
    "outputId": "e83dd320-c5c7-44be-e9a3-8916760fd35b"
   },
   "outputs": [
    {
     "name": "stdout",
     "output_type": "stream",
     "text": [
      "O dado sorteou 6 vezes o número 6 e sorteou 16 vezes os outros números.\n"
     ]
    }
   ],
   "source": [
    "acerto = 0\n",
    "erro = 0\n",
    "while acerto < 6:\n",
    "  num = random.randint(1,6)\n",
    "  if num == 6:\n",
    "    acerto += 1 \n",
    "  else:\n",
    "    erro += 1\n",
    "print(f'O dado sorteou {acerto} vezes o número 6 e sorteou {erro} vezes os outros números.') "
   ]
  },
  {
   "cell_type": "markdown",
   "metadata": {
    "id": "DViwv_hdHA1f"
   },
   "source": [
    "Ao usarmos o **while** podemos fazer uso de comandos muito úteis, que são eles:\n",
    "\n",
    "- break\n",
    "- continue \n",
    "- pass\n",
    "\n",
    "Vamos, conhecer cada um em detalhes."
   ]
  },
  {
   "cell_type": "markdown",
   "metadata": {
    "id": "X3qgreSKHXYt"
   },
   "source": [
    "### break & continue\n",
    "\n",
    "O *break* e o *continue* muitas vezes são confundidos entre si, porém eles executam ações bem diferentes. A figura a seguir exemplifica o que cada um deles faz.\n",
    "\n",
    "<center><img src=\"https://github.com/jupotratz/Python_BI_Master/blob/main/Turmas/2021.3/Imagens/breakcontinue.png?raw=true\" width=300>"
   ]
  },
  {
   "cell_type": "markdown",
   "metadata": {
    "id": "t7llSz4eIO1q"
   },
   "source": [
    "- O *break* termina imediatamente um loop por completo. A execução do programa prossegue para a primeira instrução após o corpo do loop.\n",
    "\n",
    "- O *continue* termina imediatamente a iteração do loop atual. A execução salta para o início do loop e a expressão de controle é reavaliada para determinar se o loop será executado novamente ou será encerrado.\n",
    "\n",
    "Vamos voltar ao nosso código anterior e adaptá-lo para interromper o loop se o dado sortear o valor 3:"
   ]
  },
  {
   "cell_type": "code",
   "execution_count": 6,
   "metadata": {
    "colab": {
     "base_uri": "https://localhost:8080/"
    },
    "id": "jQZCxzbDHAFs",
    "outputId": "a835b824-6a01-49a3-f669-3dd8bffab84a"
   },
   "outputs": [
    {
     "name": "stdout",
     "output_type": "stream",
     "text": [
      "Execução do loop interrompida\n",
      "O dado sorteou 1 vezes o número 6 e sorteou 6 vezes os outros números.\n"
     ]
    }
   ],
   "source": [
    "acerto = 0\n",
    "erro = 0\n",
    "while acerto < 6:\n",
    "  num = random.randint(1,6)\n",
    "  if num == 6:\n",
    "    acerto += 1 \n",
    "  else:\n",
    "    if num == 3:\n",
    "      print('Execução do loop interrompida')\n",
    "      break\n",
    "    erro += 1\n",
    "print(f'O dado sorteou {acerto} vezes o número 6 e sorteou {erro} vezes os outros números.') "
   ]
  },
  {
   "cell_type": "markdown",
   "metadata": {
    "id": "WkHY64d0JIN1"
   },
   "source": [
    "Vamos ver outro exemplo de loop usando o comando *continue*:"
   ]
  },
  {
   "cell_type": "code",
   "execution_count": 10,
   "metadata": {
    "colab": {
     "base_uri": "https://localhost:8080/"
    },
    "id": "DL0rqVpoyy9u",
    "outputId": "3f9dd1b8-54d3-42b2-a89f-fbd6fc1ca0d7"
   },
   "outputs": [
    {
     "name": "stdout",
     "output_type": "stream",
     "text": [
      "5\n",
      "4\n",
      "3\n",
      "1\n",
      "0\n",
      "Loop terminou\n"
     ]
    }
   ],
   "source": [
    "n = 5\n",
    "print(n)\n",
    "while n > 0:\n",
    "  n -= 1\n",
    "  if n == 2:\n",
    "    continue\n",
    "  print(n)\n",
    "print('Loop terminou')"
   ]
  },
  {
   "cell_type": "markdown",
   "metadata": {
    "id": "f3v_sXz6JjWO"
   },
   "source": [
    "Reparem que na hora que n foi igual a 2, o número 2 não foi impresso na tela, isso porque o Python ao ler o continue retornou a linha do while e não chegou a ler o comando print abaixo. "
   ]
  },
  {
   "cell_type": "markdown",
   "metadata": {
    "id": "g1rQlY4lJ_u5"
   },
   "source": [
    "### pass\n",
    "\n",
    "Vamos entender agora, para que serve a declaração *pass*. \n",
    "\n",
    "Quando uma condição externa é acionada, a instrução *pass* permite lidar com a condição sem que o loop seja impactado; todo o código continuará sendo lido a menos que um break ou outra instrução ocorra.\n",
    "\n",
    "Assim como ocorre com outras instruções, a instrução pass ficará dentro do bloco de código abaixo da instrução de loop, normalmente após uma instrução condicional if."
   ]
  },
  {
   "cell_type": "code",
   "execution_count": 11,
   "metadata": {
    "colab": {
     "base_uri": "https://localhost:8080/"
    },
    "id": "_UxdWFSZyzBz",
    "outputId": "6fcb802e-53ff-4a91-b60a-e6850ac74117"
   },
   "outputs": [
    {
     "name": "stdout",
     "output_type": "stream",
     "text": [
      "5\n",
      "4\n",
      "3\n",
      "2\n",
      "1\n",
      "0\n",
      "Loop terminou\n"
     ]
    }
   ],
   "source": [
    "n = 5\n",
    "print(n)\n",
    "while n > 0:\n",
    "  n -= 1\n",
    "  if n == 2:\n",
    "    pass\n",
    "  print(n)\n",
    "print('Loop terminou')"
   ]
  },
  {
   "cell_type": "markdown",
   "metadata": {
    "id": "Iha8JOSUKWdm"
   },
   "source": [
    "A instrução *pass* que ocorre após a instrução condicional if está dizendo ao programa para continuar executando o loop e ignorar o fato de que a variável n é avaliada como equivalente a 2 durante uma das iterações."
   ]
  },
  {
   "cell_type": "markdown",
   "metadata": {
    "id": "udNYKYlMKh8w"
   },
   "source": [
    "Ao usar a instrução pass neste programa, notamos que o programa é executado exatamente como seria se não houvesse nenhuma instrução condicional no programa. A instrução pass diz ao programa para desconsiderar essa condição e continuar executando o programa como sempre."
   ]
  },
  {
   "cell_type": "markdown",
   "metadata": {
    "id": "Es-hPEJUK0jH"
   },
   "source": [
    "### Vamos fazer?\n",
    "\n",
    "- Programe um código que execute um loop enquanto a soma de todos elementos de uma lista for menor do que 50. No início do programa, essa lista deve ser declarada como lista vazia e ela só pode conter elementos inteiros.\n",
    "Use a função *random.randint* para gerar elementos da lista, mas essa função só pode gerar números de 0 a 5. "
   ]
  },
  {
   "cell_type": "code",
   "execution_count": null,
   "metadata": {
    "id": "FmX8dWf6L-nR"
   },
   "outputs": [],
   "source": []
  },
  {
   "cell_type": "markdown",
   "metadata": {
    "id": "gQHkOx2iL8DI"
   },
   "source": [
    "- Adapte o código gerado considerando que toda vez que o número 3 for sorteado ele não pode ser adicionado à lista.  "
   ]
  },
  {
   "cell_type": "code",
   "execution_count": null,
   "metadata": {
    "id": "k82qMcMOL_VL"
   },
   "outputs": [],
   "source": []
  },
  {
   "cell_type": "markdown",
   "metadata": {
    "id": "AXbfGiSgL9-W"
   },
   "source": [
    "- Além da adaptação anterior, interrompa o código se forem adicionados à lista a sequência de números 1,2. "
   ]
  },
  {
   "cell_type": "code",
   "execution_count": null,
   "metadata": {
    "id": "NpMksH5-LU6q"
   },
   "outputs": [],
   "source": []
  },
  {
   "cell_type": "markdown",
   "metadata": {
    "id": "7mKSiGvbMOND"
   },
   "source": [
    "- Retornando ao problema apresentado no início do talk, vocês conseguem resolvê-lo? "
   ]
  },
  {
   "cell_type": "code",
   "execution_count": null,
   "metadata": {
    "id": "t5u3eSRqMTH7"
   },
   "outputs": [],
   "source": []
  }
 ],
 "metadata": {
  "colab": {
   "collapsed_sections": [
    "jDO4A6ESaFQ3",
    "YrjE1fPsYhZ8",
    "6Cu943CwRAoj",
    "wkkrYexwo3Cy",
    "i-NZSbTqpMGA"
   ],
   "name": "Talk2.ipynb",
   "provenance": []
  },
  "kernelspec": {
   "display_name": "Python 3",
   "language": "python",
   "name": "python3"
  },
  "language_info": {
   "codemirror_mode": {
    "name": "ipython",
    "version": 3
   },
   "file_extension": ".py",
   "mimetype": "text/x-python",
   "name": "python",
   "nbconvert_exporter": "python",
   "pygments_lexer": "ipython3",
   "version": "3.7.0"
  }
 },
 "nbformat": 4,
 "nbformat_minor": 1
}
