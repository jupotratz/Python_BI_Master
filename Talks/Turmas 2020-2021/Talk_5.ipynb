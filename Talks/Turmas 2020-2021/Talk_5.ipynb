{
 "cells": [
  {
   "cell_type": "markdown",
   "metadata": {
    "id": "80btK5XbwZYO"
   },
   "source": [
    "<img src=\"https://github.com/jupotratz/Python_BI_Master/blob/main/Turmas/2021.3/Imagens/sep.png?raw=true\"  width=1000 height=125 />"
   ]
  },
  {
   "cell_type": "markdown",
   "metadata": {
    "id": "QzcePa9W8N_Y"
   },
   "source": [
    "# Professoras\n",
    "\n",
    " - Amanda Lemette \n",
    "\t - prof.amanda@ica.ele.puc-rio.br\n",
    "\t - [Linkedin](https://www.linkedin.com/in/amanda-lemette-brand%C3%A3o-83280918b)\n",
    "   - [Youtube](https://www.youtube.com/c/AmandaLemette/featured)\n",
    "   \n",
    " - Júlia Potratz\n",
    "\t - prof.julia@ica.ele.puc-rio.br\n",
    "\t - [Linkedin](https://www.linkedin.com/in/julia-potratz)\n",
    "     \n",
    "# Material \n",
    "\n",
    "Repositório no GitHub: [Python_BI_Master](https://github.com/jupotratz/Python_BI_Master)\n",
    "\n",
    "\n",
    "# Talk 5\n",
    "\n",
    "- **Plano de aula:**\n",
    "    \n",
    "\t- Exercícios de condicionais\n",
    "\n",
    "  - Excercícios de loop\n",
    "\n",
    "  - Exercícios de loop + condicionais\n",
    " "
   ]
  },
  {
   "cell_type": "markdown",
   "metadata": {
    "id": "BCS4aWVzJBxx"
   },
   "source": [
    "<img src=\"https://github.com/jupotratz/Python_BI_Master/blob/main/Turmas/2021.3/Imagens/sep.png?raw=true\"  width=1000 height=125 />"
   ]
  },
  {
   "cell_type": "markdown",
   "metadata": {
    "id": "liMEHEJMMVJt"
   },
   "source": [
    "## Exercícios com uso de estruturas condicionais\n",
    "\n",
    "#### Problema 1\n",
    "\n",
    "Dadas as classificações dos seguintes 5 grupos:\n",
    "\n",
    "1. Nível extremamente intenso de exercícios (código: 'A')\n",
    "2. Nível alto de exercícios (código 'B') \n",
    "3. Nível intermediário de exercícios (código 'C') \n",
    "4. Nível baixo a mínimo de exercícios (código 'D') \n",
    "5. Nível zero de exercícios (código 'E') \n",
    "\n",
    "Possíveis clientes de uma academia que será inaugurada foram entrevistados e eles tiveram que marcar a opção na qual eles gostariam de seguir suas atividades ƒísicas na academia quando abrisse. \n",
    "\n",
    "\n",
    "<center><img src=\"https://github.com/jupotratz/Python_BI_Master/blob/main/Turmas/2021.3/Imagens/gym.jpg?raw=true\" width=400>\n",
    "\n",
    "Desenvolva um código que recebe uma entrada do usuário pela função <code>input()</code> e classifique esse usuário dentro de um dos 5 grupos. O resultado que será mostrado para o usuário deve fornecer em que grupo essa pessoa se encontra."
   ]
  },
  {
   "cell_type": "code",
   "execution_count": null,
   "metadata": {
    "id": "zkUQB9pTWwMC"
   },
   "outputs": [],
   "source": []
  },
  {
   "cell_type": "markdown",
   "metadata": {
    "id": "u5sYKEDYTD0F"
   },
   "source": [
    "#### Problema 2\n",
    "\n",
    "Um aluno da turma do colégio *Aprende Mundo* para passar em Matemática precisa ter média final maior ou igual a 7,0. Desenvolva um código que recebe um <code>input()</code> do usuário informando a nota de certo aluno e o código deve mostrar na tela se o aluno foi aprovado ou não. \n",
    "\n",
    "<center><img src=\"https://github.com/jupotratz/Python_BI_Master/blob/main/Turmas/2021.3/Imagens/study.jpg?raw=true\" width=300>"
   ]
  },
  {
   "cell_type": "code",
   "execution_count": null,
   "metadata": {
    "id": "3YyCESiRUK7_"
   },
   "outputs": [],
   "source": []
  },
  {
   "cell_type": "markdown",
   "metadata": {
    "id": "c0ESCewLU92P"
   },
   "source": [
    "#### Problema 3\n",
    "\n",
    "Ainda em relação ao problema anterior, se o aluno não alcançou a nota 7,0, ele ainda não está reprovado, ele tem direito a fazer a prova de recuperação. \n",
    "\n",
    "Para ser aprovado finalmente na matéria, a nota final é calculada como a média entre a nota da recuperação e a nota final que o aluno tinha antes de fazer a recuperação. Essa nota resultante deve ser maior ou igual a 6,0 para que o aluno não reprove na matéria. \n",
    "\n",
    "Desenvolva um código que diga ao final se o aluno foi aprovado ou reprovado na disciplina, sendo que suas duas notas devem ser fornecidas via a função *input* pelo usuário. "
   ]
  },
  {
   "cell_type": "code",
   "execution_count": null,
   "metadata": {
    "id": "OTDAHMFEVACP"
   },
   "outputs": [],
   "source": []
  },
  {
   "cell_type": "markdown",
   "metadata": {
    "id": "sOQNx7OVZzqS"
   },
   "source": [
    "<img src=\"https://github.com/jupotratz/Python_BI_Master/blob/main/Turmas/2021.3/Imagens/sep.png?raw=true\"  width=1000 height=125 />"
   ]
  },
  {
   "cell_type": "markdown",
   "metadata": {
    "id": "MZWiibSCZ1Ek"
   },
   "source": [
    "### Exercícios com Loops\n",
    "\n",
    "\n",
    "#### Problema 1\n",
    "\n",
    "Faça um programa que leia 10 números armazenados em uma lista e informe a soma e a média dos números.\n",
    "\n",
    "Por exemplo: se a lista é [0,90,4,15], o programa deve imprimir: \n",
    "\n",
    "```\n",
    "0, 0\n",
    "90, 45\n",
    "94, 31.333\n",
    "109,27.25\n",
    "```\n",
    "\n",
    "A lista a ser usada na resolução do problema 1 é:"
   ]
  },
  {
   "cell_type": "code",
   "execution_count": null,
   "metadata": {
    "ExecuteTime": {
     "end_time": "2021-10-29T12:17:50.159894Z",
     "start_time": "2021-10-29T12:17:50.154763Z"
    },
    "id": "2YfaJgAK_MGr",
    "outputId": "3edacf39-2913-450e-f10f-300de9c3977b"
   },
   "outputs": [
    {
     "data": {
      "text/plain": [
       "[23, 43, 53, 65, 71, 82, 9, 10, 12, 25]"
      ]
     },
     "execution_count": 5,
     "metadata": {},
     "output_type": "execute_result"
    }
   ],
   "source": [
    "L = [23,43,53,65,71,82,9,10,12,25]\n",
    "L"
   ]
  },
  {
   "cell_type": "code",
   "execution_count": null,
   "metadata": {
    "id": "XHXXfe5m_MGs"
   },
   "outputs": [],
   "source": []
  },
  {
   "cell_type": "markdown",
   "metadata": {
    "id": "PbiFGdQA_PA4"
   },
   "source": [
    "#### Problema 2\n",
    "\n",
    "Desenvolva um programa que sorteie o número de elementos que uma lista deve conter. Para cada elemento novo, você deve calcular a soma e a média dos elementos pertencentes à lista. \n",
    "\n",
    "- Nesse exercício, um número inteiro entre 5 e 20 deve ser sorteado, vamos chamar esse número de *n*.\n",
    "\n",
    "- Uma lista vazia deve ser criada, vamos chamar a lista de *L*. \n",
    "\n",
    "- Cada elemento a ser adicionado à *L* deve ser gerado randomicamente. \n",
    "\n",
    "\n",
    "\n"
   ]
  },
  {
   "cell_type": "code",
   "execution_count": null,
   "metadata": {
    "id": "0eyw9qU7_5fD"
   },
   "outputs": [],
   "source": []
  },
  {
   "cell_type": "code",
   "execution_count": null,
   "metadata": {
    "id": "229lBRp__6oD"
   },
   "outputs": [],
   "source": []
  },
  {
   "cell_type": "markdown",
   "metadata": {},
   "source": [
    "#### Problema 3\n",
    "\n",
    "Densenvolva um programa que receba um valor de um carro e mostre uma tabela com os seguintes dados: \n",
    "- Preço final\n",
    "- Quantidade de parcelas e valor da parcela\n",
    "\n",
    "Exemplo:\n",
    "\n",
    "|Parcelas|Valor|\n",
    "|-----|:---:|\n",
    "|Preço Final| w|\n",
    "|1x|x|\n",
    "|6x|y|\n",
    "|12x||\n",
    "|...|...|\n",
    "|60x|z|\n",
    "\n",
    "Considere o seguinte:\n",
    "\n",
    "1. O preço final para compra a vista (1x) tem um esconto de 20%.\n",
    "2. A quantidade de parcelas pode ser: 6, 12, 18, 24, 30, 36, 42, 48, 54 e 60.\n",
    "3. Os percentuais de acréscimo, em caso de compra parcelada, seguem a tabela a seguir:\n",
    "\n",
    "|Quantidade de Parcelas|Percentual de acrescimo sobre o preço final|\n",
    "|:--:|:-----:|\n",
    "|6|3%|\n",
    "|12|6%|\n",
    "|18|9%|\n",
    "|24|12%|\n",
    "|30|15%|\n",
    "|36|18%|\n",
    "|42|21%|\n",
    "|48|24%|\n",
    "|54|27%|\n",
    "|60|30%|\n",
    "\n",
    "Essa tabela está contida dentro de um arquivo <code>.txt</code> entitulado **acrescimos.txt**. Vocês devem primeiro ler esse arquivo e manipular de tal forma que consigam organizar as suas informações para utilizar na solução do problema.\n",
    "\n",
    "Mas antes de começar o exercício temos que aprender como **ler um arquivo .txt em python**\n",
    "\n",
    "<img src=\"https://github.com/jupotratz/Python_BI_Master/blob/main/Turmas/2021.3/Imagens/read_file.JPG?raw=true\" width=650>\n",
    "\n",
    "\n",
    "Como vamos trabalhar com um arquivo, temos que **acrescentar esse arquivo** dentro da pasta *'Colab Notebooks'* no nosso drive e **montar o nosso drive**. O passo a passo cde como montar o drive pode ser visto  [aqui](https://github.com/jupotratz/Python_BI_Master/blob/main/Turmas/2021.3/Aula_01.ipynb)."
   ]
  },
  {
   "cell_type": "code",
   "execution_count": null,
   "metadata": {},
   "outputs": [],
   "source": [
    "from google.colab import drive\n",
    "drive.mount('/content/drive')"
   ]
  },
  {
   "cell_type": "code",
   "execution_count": null,
   "metadata": {},
   "outputs": [],
   "source": [
    "# Importar a biblioteca os\n",
    "import os\n",
    "\n",
    "# Utilizando a função .chdir()\n",
    "os.chdir('drive/MyDrive/Colab Notebooks')"
   ]
  },
  {
   "cell_type": "code",
   "execution_count": null,
   "metadata": {},
   "outputs": [],
   "source": []
  },
  {
   "cell_type": "code",
   "execution_count": null,
   "metadata": {},
   "outputs": [],
   "source": []
  },
  {
   "cell_type": "code",
   "execution_count": null,
   "metadata": {},
   "outputs": [],
   "source": []
  },
  {
   "cell_type": "markdown",
   "metadata": {
    "id": "C3EHgeDLeiw0"
   },
   "source": [
    "<img src=\"https://github.com/jupotratz/Python_BI_Master/blob/main/Turmas/2021.3/Imagens/sep.png?raw=true\"  width=1000 height=125 />"
   ]
  },
  {
   "cell_type": "markdown",
   "metadata": {
    "id": "CBCOFHqleeDT"
   },
   "source": [
    "### Exercícios com Loops e com Condicionais"
   ]
  },
  {
   "cell_type": "markdown",
   "metadata": {
    "id": "HgsqGUzfAD1N"
   },
   "source": [
    "#### Problema 1\n",
    "\n",
    "Faça um programa que receba dois números inteiros e gere os números inteiros que estão no intervalo compreendido por eles."
   ]
  },
  {
   "cell_type": "code",
   "execution_count": null,
   "metadata": {
    "id": "uP0MjZj-_MGt"
   },
   "outputs": [],
   "source": []
  },
  {
   "cell_type": "markdown",
   "metadata": {
    "id": "gShtO0HeAIjG"
   },
   "source": [
    "#### Problema 2\n",
    "\n",
    "Faça um programa que imprima na tela apenas os números ímpares entre 1 e 50."
   ]
  },
  {
   "cell_type": "code",
   "execution_count": null,
   "metadata": {
    "id": "oExUbw3xAJig"
   },
   "outputs": [],
   "source": []
  },
  {
   "cell_type": "code",
   "execution_count": null,
   "metadata": {},
   "outputs": [],
   "source": []
  },
  {
   "cell_type": "code",
   "execution_count": null,
   "metadata": {},
   "outputs": [],
   "source": []
  }
 ],
 "metadata": {
  "colab": {
   "collapsed_sections": [
    "jDO4A6ESaFQ3",
    "YrjE1fPsYhZ8",
    "6Cu943CwRAoj",
    "wkkrYexwo3Cy",
    "i-NZSbTqpMGA"
   ],
   "name": "Talk_3.ipynb",
   "provenance": [],
   "toc_visible": true
  },
  "kernelspec": {
   "display_name": "Python 3",
   "language": "python",
   "name": "python3"
  },
  "language_info": {
   "codemirror_mode": {
    "name": "ipython",
    "version": 3
   },
   "file_extension": ".py",
   "mimetype": "text/x-python",
   "name": "python",
   "nbconvert_exporter": "python",
   "pygments_lexer": "ipython3",
   "version": "3.7.0"
  },
  "toc": {
   "base_numbering": 1,
   "nav_menu": {},
   "number_sections": true,
   "sideBar": true,
   "skip_h1_title": false,
   "title_cell": "Table of Contents",
   "title_sidebar": "Contents",
   "toc_cell": false,
   "toc_position": {},
   "toc_section_display": true,
   "toc_window_display": false
  }
 },
 "nbformat": 4,
 "nbformat_minor": 1
}
