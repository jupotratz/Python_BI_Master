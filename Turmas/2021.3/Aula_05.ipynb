{
  "nbformat": 4,
  "nbformat_minor": 0,
  "metadata": {
    "colab": {
      "name": "Aula_05.ipynb",
      "provenance": [],
      "collapsed_sections": [],
      "toc_visible": true
    },
    "kernelspec": {
      "name": "python3",
      "display_name": "Python 3"
    },
    "language_info": {
      "name": "python"
    }
  },
  "cells": [
    {
      "cell_type": "markdown",
      "metadata": {
        "id": "wy_9INHEImAY"
      },
      "source": [
        "<img src=\"https://github.com/amandalemette/images/blob/08d35cced043b815b96f25c6f7d256d075079944/BiMaster/logotipo.png?raw=true\"  width=1000 height=125 />"
      ]
    },
    {
      "cell_type": "markdown",
      "metadata": {
        "id": "EDTh4uzNIp-B"
      },
      "source": [
        "# Professoras\n",
        "\n",
        " - Amanda Lemette \n",
        "\t - prof.amanda@ica.ele.puc-rio.br\n",
        "\t - [Linkedin](https://www.linkedin.com/in/amanda-lemette-brand%C3%A3o-83280918b)\n",
        "   - [Youtube](https://www.youtube.com/c/AmandaLemette/featured)\n",
        "   \n",
        " - Júlia Potratz\n",
        "\t - prof.julia@ica.ele.puc-rio.br\n",
        "\t - [Linkedin](https://www.linkedin.com/in/julia-potratz)\n",
        "\n",
        "- Manoela Koehler\n",
        "     - prof.manoela@ica.ele.puc-rio.br\n",
        "     - [Linkedin](https://www.linkedin.com/in/manoelakohler/)\n",
        "\n",
        "     \n",
        "# Material \n",
        "\n",
        "Repositório no GitHub: [Python_BI_Master](https://github.com/jupotratz/Python_BI_Master)\n"
      ]
    },
    {
      "cell_type": "markdown",
      "metadata": {
        "id": "Koov13X9IsDv"
      },
      "source": [
        "# Aula 5\n",
        "\n",
        "\n",
        "- **Plano de aula:**\n",
        "  - Revisão sobre montagem de drive\n",
        "  - Leitura de arquivo externo\n",
        "  - Salvamento de arquivo\n",
        "  - Como lidar com dados faltantes?\n",
        "    - identificar NaN\n",
        "    - substituir NaN\n",
        "    - eliminar NaN\n",
        "  - Categorização de dados\n",
        "  - Gráficos:\n",
        "    - pizza\n",
        "    - histograma\n",
        "  - Aplicar funções em colunas do dataframe:\n",
        "    - map\n",
        "    - apply\n",
        "    - applymap\n",
        "  - Exercício: \n",
        "    - ler um arquivo, \n",
        "    - tratar os dados faltantes, \n",
        "    - fazer transformação e \n",
        "    - gerar um gráfico\n",
        "\n"
      ]
    },
    {
      "cell_type": "markdown",
      "source": [
        "<img src=\"https://github.com/amandalemette/images/blob/08d35cced043b815b96f25c6f7d256d075079944/BiMaster/logotipo.png?raw=true\"  width=1000 height=125 />"
      ],
      "metadata": {
        "id": "K7klDgI8QEhQ"
      }
    },
    {
      "cell_type": "markdown",
      "source": [
        "# Leitura de base de dados .csv"
      ],
      "metadata": {
        "id": "IUypFhQPcfg-"
      }
    },
    {
      "cell_type": "markdown",
      "source": [
        "Para fazer a leitura de uma base de dados, primeiro precisamos adicionar essa base de dados em nossa pasta *Colab Notebooks* do nosso Google Drive. \n",
        "\n"
      ],
      "metadata": {
        "id": "RsojmIeVHxlO"
      }
    },
    {
      "cell_type": "markdown",
      "source": [
        "A base de dados que vamos utilizar é sobre resultados de partidas de futebol de 1872 a 2021. A base de dados se chama *results.csv* e foi retirada do site [Kaggle](https://www.kaggle.com/martj42/international-football-results-from-1872-to-2017)."
      ],
      "metadata": {
        "id": "W0ovvGJTeSeO"
      }
    },
    {
      "cell_type": "markdown",
      "source": [
        "Como segundo passo, precisamos fazer a montagem do Drive, possibilitando o acesso aos arquivos do seu Google Drive pessoal pelo Google Colaboratory. "
      ],
      "metadata": {
        "id": "nXURog_XeQ52"
      }
    },
    {
      "cell_type": "markdown",
      "source": [
        "Se você não lembra como executar esse procedimento, sugiro retornar à *aula 01* onde tem uma explicação detalhada sobre o que fazer. "
      ],
      "metadata": {
        "id": "h0aDtYPuIAFH"
      }
    },
    {
      "cell_type": "code",
      "metadata": {
        "id": "dtiJwjNQwCFR",
        "colab": {
          "base_uri": "https://localhost:8080/"
        },
        "outputId": "7da0845d-00fd-497f-b5d9-b657c0b7e29e"
      },
      "source": [
        "from google.colab import drive\n",
        "drive.mount('/content/drive')"
      ],
      "execution_count": null,
      "outputs": [
        {
          "output_type": "stream",
          "name": "stdout",
          "text": [
            "Mounted at /content/drive\n"
          ]
        }
      ]
    },
    {
      "cell_type": "code",
      "source": [
        "# Importar a biblioteca os\n",
        "import os\n",
        "\n",
        "# Utilizando a função .chdir()\n",
        "os.chdir('drive/MyDrive/Colab Notebooks')"
      ],
      "metadata": {
        "id": "xXJbdmtvIZ_u"
      },
      "execution_count": null,
      "outputs": []
    },
    {
      "cell_type": "code",
      "source": [
        "!ls"
      ],
      "metadata": {
        "id": "5IIVLa2xIdEH"
      },
      "execution_count": null,
      "outputs": []
    },
    {
      "cell_type": "markdown",
      "source": [
        "Pronto! Agora conseguimos acessar qualquer documento armazenado na sua pasta Colab Notebooks por aqui.  "
      ],
      "metadata": {
        "id": "TdcrdCBBIoYz"
      }
    },
    {
      "cell_type": "markdown",
      "source": [
        "<center><img src=\"https://github.com/amandalemette/images/blob/98b4d25f675a2488593570b6f0313a96ebf8d5c8/BiMaster/goofyhappy.jpg?raw=true\"  width=250 height=400 />"
      ],
      "metadata": {
        "id": "3d-ejQgCJIro"
      }
    },
    {
      "cell_type": "markdown",
      "source": [
        "A base de dados *results.csv* inclui dados de 40838 resultados de partidas de futebol começando em 1872 até 2021. Os dados não incluem jogos olímpicos. \n",
        "\n",
        "Colunas de dados incluem:\n",
        "\n",
        "- data – dia da partida\n",
        "- time da casa\n",
        "- time convidado\n",
        "- pontuação do time da casa\n",
        "- pontuação do time convidado\n",
        "- classificação do torneio\n",
        "- cidade onde ocorreu a partida\n",
        "- país onde ocorreu a partida\n",
        "- neutro - TRUE/FALSE Coluna indicando se a partida foi feita em um local neutro\n",
        "\n"
      ],
      "metadata": {
        "id": "uqaeR0kBd1CA"
      }
    },
    {
      "cell_type": "code",
      "source": [
        "import pandas as pd \n",
        "import numpy as np\n",
        "import matplotlib.pyplot as plt"
      ],
      "metadata": {
        "id": "8TfrH8F8hW21"
      },
      "execution_count": null,
      "outputs": []
    },
    {
      "cell_type": "code",
      "source": [
        "df = pd.read_csv('results.csv')"
      ],
      "metadata": {
        "id": "W9RndkgKN945"
      },
      "execution_count": null,
      "outputs": []
    },
    {
      "cell_type": "code",
      "source": [
        ""
      ],
      "metadata": {
        "id": "l8vFahLnEWGH"
      },
      "execution_count": null,
      "outputs": []
    },
    {
      "cell_type": "code",
      "source": [
        ""
      ],
      "metadata": {
        "id": "LkOOp-JIEV7Y"
      },
      "execution_count": null,
      "outputs": []
    },
    {
      "cell_type": "markdown",
      "source": [
        "<img src=\"https://github.com/amandalemette/images/blob/08d35cced043b815b96f25c6f7d256d075079944/BiMaster/logotipo.png?raw=true\"  width=1000 height=125 />"
      ],
      "metadata": {
        "id": "uHq2m70BsX3q"
      }
    },
    {
      "cell_type": "markdown",
      "source": [
        "# Lidando com NaN"
      ],
      "metadata": {
        "id": "e-lRal_mu-DG"
      }
    },
    {
      "cell_type": "markdown",
      "source": [
        "## Identificação de NaN"
      ],
      "metadata": {
        "id": "UmrqNoBewSrc"
      }
    },
    {
      "cell_type": "markdown",
      "source": [
        "Em python, identificamos a existência ou não de dados faltantes pelos seguintes métodos:\n",
        "- [.isna()](https://pandas.pydata.org/docs/reference/api/pandas.DataFrame.isna.html)\n",
        "- [.notna()](https://pandas.pydata.org/docs/reference/api/pandas.DataFrame.notna.html)\n",
        "- [.info()](https://pandas.pydata.org/docs/reference/api/pandas.DataFrame.info.html)\n",
        "- [isna().any()](https://pandas.pydata.org/docs/reference/api/pandas.DataFrame.any.html)\n",
        "- [isnull()](https://pandas.pydata.org/docs/reference/api/pandas.isnull.html)"
      ],
      "metadata": {
        "id": "3Tuew81BEaZD"
      }
    },
    {
      "cell_type": "code",
      "source": [
        ""
      ],
      "metadata": {
        "id": "aJqXa5zhFQQ5"
      },
      "execution_count": null,
      "outputs": []
    },
    {
      "cell_type": "code",
      "source": [
        ""
      ],
      "metadata": {
        "id": "K_2Sao-FFQA7"
      },
      "execution_count": null,
      "outputs": []
    },
    {
      "cell_type": "code",
      "source": [
        ""
      ],
      "metadata": {
        "id": "bz9kQQftFPzj"
      },
      "execution_count": null,
      "outputs": []
    },
    {
      "cell_type": "code",
      "source": [
        ""
      ],
      "metadata": {
        "id": "xFxQB0AbFO0e"
      },
      "execution_count": null,
      "outputs": []
    },
    {
      "cell_type": "markdown",
      "source": [
        "## Substituição de NaN"
      ],
      "metadata": {
        "id": "USRqfluWx13M"
      }
    },
    {
      "cell_type": "markdown",
      "source": [
        "Para substituir dados faltantes, podemos utilizar:\n",
        "\n",
        "- [replace](https://pandas.pydata.org/docs/reference/api/pandas.DataFrame.replace.html)\n",
        "- [fillna](https://pandas.pydata.org/docs/reference/api/pandas.DataFrame.fillna.html)"
      ],
      "metadata": {
        "id": "HjsOkFDwFR9A"
      }
    },
    {
      "cell_type": "code",
      "source": [
        ""
      ],
      "metadata": {
        "id": "xuTKrW3QFj4T"
      },
      "execution_count": null,
      "outputs": []
    },
    {
      "cell_type": "code",
      "source": [
        ""
      ],
      "metadata": {
        "id": "-3Szb2lUFjyw"
      },
      "execution_count": null,
      "outputs": []
    },
    {
      "cell_type": "code",
      "source": [
        ""
      ],
      "metadata": {
        "id": "fX1FkSazFjsw"
      },
      "execution_count": null,
      "outputs": []
    },
    {
      "cell_type": "code",
      "source": [
        ""
      ],
      "metadata": {
        "id": "9QhYVcQGFjnQ"
      },
      "execution_count": null,
      "outputs": []
    },
    {
      "cell_type": "code",
      "source": [
        ""
      ],
      "metadata": {
        "id": "kF2pLjIPFjb0"
      },
      "execution_count": null,
      "outputs": []
    },
    {
      "cell_type": "code",
      "source": [
        ""
      ],
      "metadata": {
        "id": "jmE87pz2FiuC"
      },
      "execution_count": null,
      "outputs": []
    },
    {
      "cell_type": "markdown",
      "source": [
        "## Eliminação de NaN"
      ],
      "metadata": {
        "id": "9_nM8SRs0Fg5"
      }
    },
    {
      "cell_type": "markdown",
      "source": [
        "Para eliminar dados faltantes, podemos fazer uso de:\n",
        "- [drop](https://pandas.pydata.org/docs/reference/api/pandas.DataFrame.drop.html)\n",
        "- [dropna](https://pandas.pydata.org/docs/reference/api/pandas.DataFrame.dropna.html)"
      ],
      "metadata": {
        "id": "w9Ab0Y_9Fq8h"
      }
    },
    {
      "cell_type": "code",
      "source": [
        ""
      ],
      "metadata": {
        "id": "gB_qQnrJFqBv"
      },
      "execution_count": null,
      "outputs": []
    },
    {
      "cell_type": "code",
      "source": [
        ""
      ],
      "metadata": {
        "id": "dK7hoeZqFp1D"
      },
      "execution_count": null,
      "outputs": []
    },
    {
      "cell_type": "code",
      "source": [
        ""
      ],
      "metadata": {
        "id": "BxzYoSjvFpoo"
      },
      "execution_count": null,
      "outputs": []
    },
    {
      "cell_type": "markdown",
      "source": [
        "## Exercício"
      ],
      "metadata": {
        "id": "yEPOYyO-VtxS"
      }
    },
    {
      "cell_type": "markdown",
      "source": [
        "Dado o DataFrame a seguir, \n",
        "- Identifique em quais linhas existem dados faltantes e imprima essas linhas\n",
        "- Substitua os dados faltantes da coluna 'A' pela média dos números dessa coluna.\n",
        "- Substitua os dados faltantes da coluna 'C' pela moda dessa coluna. \n",
        "- Delete os dados faltantes da coluna 'B' (eliminando as correspondentes linhas e mantendo a coluna 'B')."
      ],
      "metadata": {
        "id": "FbTDXYqpVvpJ"
      }
    },
    {
      "cell_type": "code",
      "source": [
        "dc = {'A':[16,21,22,np.nan, 19,16,18,19,np.nan,18,16,21],'B':[45,65,np.nan,32,12,25,  56,27,19, 10,54,42],'C':['SIM','SIM','SIM','NAO',np.nan,'NAO SEI','SIM',np.nan,'NAO SEI','NAO SEI',np.nan,'SIM']}"
      ],
      "metadata": {
        "id": "yx3x1R5VXtAe"
      },
      "execution_count": null,
      "outputs": []
    },
    {
      "cell_type": "code",
      "source": [
        "DF = pd.DataFrame(dc)"
      ],
      "metadata": {
        "id": "wll2eQCmWJUz"
      },
      "execution_count": null,
      "outputs": []
    },
    {
      "cell_type": "code",
      "source": [
        ""
      ],
      "metadata": {
        "id": "ET3bAPU1F6jH"
      },
      "execution_count": null,
      "outputs": []
    },
    {
      "cell_type": "markdown",
      "source": [
        "- Identifique em quais linhas existem dados faltantes e imprima essas linhas"
      ],
      "metadata": {
        "id": "pOklt3zVYDD5"
      }
    },
    {
      "cell_type": "code",
      "source": [
        ""
      ],
      "metadata": {
        "id": "HjfnrWmRF41X"
      },
      "execution_count": null,
      "outputs": []
    },
    {
      "cell_type": "markdown",
      "source": [
        "- Substitua os dados faltantes da coluna 'A' pela média dos números dessa coluna."
      ],
      "metadata": {
        "id": "mfczYo-JYFbE"
      }
    },
    {
      "cell_type": "code",
      "source": [
        ""
      ],
      "metadata": {
        "id": "t1b83UbCF_rE"
      },
      "execution_count": null,
      "outputs": []
    },
    {
      "cell_type": "markdown",
      "source": [
        "- Substitua os dados faltantes da coluna 'C' pela moda dessa coluna."
      ],
      "metadata": {
        "id": "RxURDlZ1YVtH"
      }
    },
    {
      "cell_type": "code",
      "source": [
        ""
      ],
      "metadata": {
        "id": "6sfZpX6CGBhG"
      },
      "execution_count": null,
      "outputs": []
    },
    {
      "cell_type": "markdown",
      "source": [
        "- Delete os dados faltantes da coluna 'B' (eliminando as correspondentes linhas e mantendo a coluna 'B')."
      ],
      "metadata": {
        "id": "nJTU5HxVYX_-"
      }
    },
    {
      "cell_type": "markdown",
      "source": [
        "Como a única coluna agora que continua com dados faltantes é a coluna B, podemos usar direto o:\n",
        "\n",
        "\n",
        "```\n",
        "DF.dropna()\n",
        "```\n",
        "Mas e se quisermos deletar os dados faltantes de uma coluna do dataframe considerando que existem outros NaN em outras colunas desse DataFrame, como fazer?\n",
        "\n"
      ],
      "metadata": {
        "id": "4Euo631fY9ZP"
      }
    },
    {
      "cell_type": "code",
      "source": [
        ""
      ],
      "metadata": {
        "id": "l28wCTtTGDkf"
      },
      "execution_count": null,
      "outputs": []
    },
    {
      "cell_type": "code",
      "source": [
        ""
      ],
      "metadata": {
        "id": "0KPvzZfSGC4_"
      },
      "execution_count": null,
      "outputs": []
    },
    {
      "cell_type": "code",
      "source": [
        ""
      ],
      "metadata": {
        "id": "ZgvGKUIdGIrJ"
      },
      "execution_count": null,
      "outputs": []
    },
    {
      "cell_type": "markdown",
      "source": [
        "<img src=\"https://github.com/amandalemette/images/blob/08d35cced043b815b96f25c6f7d256d075079944/BiMaster/logotipo.png?raw=true\"  width=1000 height=125 />"
      ],
      "metadata": {
        "id": "qkH3_hJwDxXi"
      }
    },
    {
      "cell_type": "markdown",
      "source": [
        "# Manipulação de DataFrame"
      ],
      "metadata": {
        "id": "do3g2fyLu-mR"
      }
    },
    {
      "cell_type": "markdown",
      "source": [
        "Podemos criar uma nova coluna informando quem ganhou a partida. Para isso, podemos adotar a seguinte notação: \n",
        "\n",
        "- Empate: recebe o número 0\n",
        "- Home_team: recebe o número 1\n",
        "- Away_team: recebe o número 2\n",
        "\n",
        "Essa informação de quem ganhou irá virar uma nova coluna de *df* chamada *rs*."
      ],
      "metadata": {
        "id": "lMV9vWFnp1JB"
      }
    },
    {
      "cell_type": "markdown",
      "source": [
        "## Fazendo uso de função anônima com compreensão de lista"
      ],
      "metadata": {
        "id": "CPq8g4vHtyuB"
      }
    },
    {
      "cell_type": "code",
      "source": [
        ""
      ],
      "metadata": {
        "id": "6Nq3RKbAGVK9"
      },
      "execution_count": null,
      "outputs": []
    },
    {
      "cell_type": "code",
      "source": [
        ""
      ],
      "metadata": {
        "id": "vMwxroSVGV6v"
      },
      "execution_count": null,
      "outputs": []
    },
    {
      "cell_type": "markdown",
      "source": [
        "## Fazendo uso de função convencional"
      ],
      "metadata": {
        "id": "vMrW6a7Ut3bj"
      }
    },
    {
      "cell_type": "code",
      "source": [
        ""
      ],
      "metadata": {
        "id": "1lvuknd3GYmQ"
      },
      "execution_count": null,
      "outputs": []
    },
    {
      "cell_type": "markdown",
      "source": [
        "<img src=\"https://github.com/amandalemette/images/blob/08d35cced043b815b96f25c6f7d256d075079944/BiMaster/logotipo.png?raw=true\"  width=1000 height=125 />"
      ],
      "metadata": {
        "id": "fVzrhmpcJIkH"
      }
    },
    {
      "cell_type": "markdown",
      "source": [
        "# Categorização de dados"
      ],
      "metadata": {
        "id": "_-YZvmarvDQN"
      }
    },
    {
      "cell_type": "markdown",
      "source": [
        "Com a biblioteca pandas, é possível categorizar os dados dentro de grupos através do [pandas.cut()](https://pandas.pydata.org/docs/reference/api/pandas.cut.html). "
      ],
      "metadata": {
        "id": "4xYPMeK0ECDA"
      }
    },
    {
      "cell_type": "markdown",
      "source": [
        "Vamos criar uma nova coluna no dataframe com o nome 'Pontuacao_casa' usando pd.cut. A coluna 'Pontuacao_casa' armazena:\n",
        "\n",
        "- 0-5 --> para os jogos que obtiveram pontuação da casa entre 0 e 5;\n",
        "- 6-10 --> para os jogos que obtiveram pontuação da casa entre 6 e 10;\n",
        "- 11-15 --> para os jogos que obtiveram pontuação da casa entre 11 e 15;\n",
        "- 16-20 --> para os jogos que obtiveram pontuação da casa entre 16 e 20;\n",
        "- 21-31 --> para os jogos que obtiveram pontuação da casa entre 21 e 31\n",
        "\n",
        "A imagem a seguir ilustra como aplicamos o pandas.cut()."
      ],
      "metadata": {
        "id": "qd6JsLgAitmY"
      }
    },
    {
      "cell_type": "markdown",
      "source": [
        "<img src=\"https://github.com/amandalemette/images/blob/e5a72329ad2131403edc0be180c55442ce1de57e/BiMaster/cut.png?raw=true\"  width=700 height=300 />"
      ],
      "metadata": {
        "id": "d8sCK5HXGijw"
      }
    },
    {
      "cell_type": "code",
      "source": [
        "ranges = [-1,5,10,15,20,31]\n",
        "labels = ['0-5','6-10','11-15','16-20','21-31']"
      ],
      "metadata": {
        "id": "tif-2ODliY4t"
      },
      "execution_count": null,
      "outputs": []
    },
    {
      "cell_type": "code",
      "source": [
        ""
      ],
      "metadata": {
        "id": "sH6l3zloGg3Q"
      },
      "execution_count": null,
      "outputs": []
    },
    {
      "cell_type": "markdown",
      "source": [
        "Vamos Imprimir quantos jogos estão incluídos em cada grupo pertencente à Pontuacao_casa."
      ],
      "metadata": {
        "id": "PK9YTcQRjI5M"
      }
    },
    {
      "cell_type": "code",
      "source": [
        "df['Pontuacao_casa'].value_counts()"
      ],
      "metadata": {
        "id": "9YpemfR_jAfs"
      },
      "execution_count": null,
      "outputs": []
    },
    {
      "cell_type": "markdown",
      "source": [
        "Gerar um gráfico de pizza que transmita essas informações. "
      ],
      "metadata": {
        "id": "hV5yEUGqjVAt"
      }
    },
    {
      "cell_type": "markdown",
      "source": [
        "Para gerar esse gráfico, vamos primeiro olhar um exemplo no site da biblioteca Matplotlib: [exemplo plot pie](https://matplotlib.org/stable/gallery/pie_and_polar_charts/pie_features.html)."
      ],
      "metadata": {
        "id": "SeQeB9vyG8hR"
      }
    },
    {
      "cell_type": "code",
      "source": [
        "sizes = df['Pontuacao_casa'].value_counts()\n",
        "\n",
        "explode = (0.0,0.5,1,1.5,2) # faz as fatias se deslocarem\n",
        "\n",
        "fig1,ax1 = plt.subplots(figsize = (8,6)) # tamanho da figura\n",
        "\n",
        "ax1.pie(sizes,explode,autopct = '%1.3f%%',shadow = False)\n",
        "\n",
        "ax1.legend(df['Pontuacao_casa'].value_counts().index, # formatando a legenda, identificando quem é quem\n",
        "          title = 'Home score',\n",
        "          loc = 'center left', # posicao da legenda\n",
        "          bbox_to_anchor = (0.5,0.2,0.5,1))  # localizacao da legenda\n",
        "\n",
        "ax1.axis('equal') # garantir o formato de um circulo\n",
        "#ax1.set_title('Resultados') # título da figura\n",
        "plt.show()"
      ],
      "metadata": {
        "id": "V28EAbcOjOCb"
      },
      "execution_count": null,
      "outputs": []
    },
    {
      "cell_type": "markdown",
      "source": [
        "Esse gráfico não ficou muito bom com a biblioteca matplotlib, vamos agora conhecer uma outra biblioteca gráfica: [PLOTLY](https://plotly.com/python/pie-charts/)."
      ],
      "metadata": {
        "id": "QJ8sn8BrHMGP"
      }
    },
    {
      "cell_type": "code",
      "source": [
        "import plotly.express as px"
      ],
      "metadata": {
        "id": "oVqfgzerj1Wj"
      },
      "execution_count": null,
      "outputs": []
    },
    {
      "cell_type": "code",
      "source": [
        "df2 = pd.DataFrame(sizes).reset_index()\n",
        "df2"
      ],
      "metadata": {
        "colab": {
          "base_uri": "https://localhost:8080/",
          "height": 204
        },
        "id": "FsoLnOsGlLUJ",
        "outputId": "99036115-9b83-4bb6-f41b-750d05a8467e"
      },
      "execution_count": null,
      "outputs": [
        {
          "output_type": "execute_result",
          "data": {
            "text/html": [
              "\n",
              "  <div id=\"df-dc33797f-4b60-4b6b-a8e9-226f76781eff\">\n",
              "    <div class=\"colab-df-container\">\n",
              "      <div>\n",
              "<style scoped>\n",
              "    .dataframe tbody tr th:only-of-type {\n",
              "        vertical-align: middle;\n",
              "    }\n",
              "\n",
              "    .dataframe tbody tr th {\n",
              "        vertical-align: top;\n",
              "    }\n",
              "\n",
              "    .dataframe thead th {\n",
              "        text-align: right;\n",
              "    }\n",
              "</style>\n",
              "<table border=\"1\" class=\"dataframe\">\n",
              "  <thead>\n",
              "    <tr style=\"text-align: right;\">\n",
              "      <th></th>\n",
              "      <th>index</th>\n",
              "      <th>Pontuacao_casa</th>\n",
              "    </tr>\n",
              "  </thead>\n",
              "  <tbody>\n",
              "    <tr>\n",
              "      <th>0</th>\n",
              "      <td>0-5</td>\n",
              "      <td>41528</td>\n",
              "    </tr>\n",
              "    <tr>\n",
              "      <th>1</th>\n",
              "      <td>6-10</td>\n",
              "      <td>1437</td>\n",
              "    </tr>\n",
              "    <tr>\n",
              "      <th>2</th>\n",
              "      <td>11-15</td>\n",
              "      <td>96</td>\n",
              "    </tr>\n",
              "    <tr>\n",
              "      <th>3</th>\n",
              "      <td>16-20</td>\n",
              "      <td>14</td>\n",
              "    </tr>\n",
              "    <tr>\n",
              "      <th>4</th>\n",
              "      <td>21-35</td>\n",
              "      <td>6</td>\n",
              "    </tr>\n",
              "  </tbody>\n",
              "</table>\n",
              "</div>\n",
              "      <button class=\"colab-df-convert\" onclick=\"convertToInteractive('df-dc33797f-4b60-4b6b-a8e9-226f76781eff')\"\n",
              "              title=\"Convert this dataframe to an interactive table.\"\n",
              "              style=\"display:none;\">\n",
              "        \n",
              "  <svg xmlns=\"http://www.w3.org/2000/svg\" height=\"24px\"viewBox=\"0 0 24 24\"\n",
              "       width=\"24px\">\n",
              "    <path d=\"M0 0h24v24H0V0z\" fill=\"none\"/>\n",
              "    <path d=\"M18.56 5.44l.94 2.06.94-2.06 2.06-.94-2.06-.94-.94-2.06-.94 2.06-2.06.94zm-11 1L8.5 8.5l.94-2.06 2.06-.94-2.06-.94L8.5 2.5l-.94 2.06-2.06.94zm10 10l.94 2.06.94-2.06 2.06-.94-2.06-.94-.94-2.06-.94 2.06-2.06.94z\"/><path d=\"M17.41 7.96l-1.37-1.37c-.4-.4-.92-.59-1.43-.59-.52 0-1.04.2-1.43.59L10.3 9.45l-7.72 7.72c-.78.78-.78 2.05 0 2.83L4 21.41c.39.39.9.59 1.41.59.51 0 1.02-.2 1.41-.59l7.78-7.78 2.81-2.81c.8-.78.8-2.07 0-2.86zM5.41 20L4 18.59l7.72-7.72 1.47 1.35L5.41 20z\"/>\n",
              "  </svg>\n",
              "      </button>\n",
              "      \n",
              "  <style>\n",
              "    .colab-df-container {\n",
              "      display:flex;\n",
              "      flex-wrap:wrap;\n",
              "      gap: 12px;\n",
              "    }\n",
              "\n",
              "    .colab-df-convert {\n",
              "      background-color: #E8F0FE;\n",
              "      border: none;\n",
              "      border-radius: 50%;\n",
              "      cursor: pointer;\n",
              "      display: none;\n",
              "      fill: #1967D2;\n",
              "      height: 32px;\n",
              "      padding: 0 0 0 0;\n",
              "      width: 32px;\n",
              "    }\n",
              "\n",
              "    .colab-df-convert:hover {\n",
              "      background-color: #E2EBFA;\n",
              "      box-shadow: 0px 1px 2px rgba(60, 64, 67, 0.3), 0px 1px 3px 1px rgba(60, 64, 67, 0.15);\n",
              "      fill: #174EA6;\n",
              "    }\n",
              "\n",
              "    [theme=dark] .colab-df-convert {\n",
              "      background-color: #3B4455;\n",
              "      fill: #D2E3FC;\n",
              "    }\n",
              "\n",
              "    [theme=dark] .colab-df-convert:hover {\n",
              "      background-color: #434B5C;\n",
              "      box-shadow: 0px 1px 3px 1px rgba(0, 0, 0, 0.15);\n",
              "      filter: drop-shadow(0px 1px 2px rgba(0, 0, 0, 0.3));\n",
              "      fill: #FFFFFF;\n",
              "    }\n",
              "  </style>\n",
              "\n",
              "      <script>\n",
              "        const buttonEl =\n",
              "          document.querySelector('#df-dc33797f-4b60-4b6b-a8e9-226f76781eff button.colab-df-convert');\n",
              "        buttonEl.style.display =\n",
              "          google.colab.kernel.accessAllowed ? 'block' : 'none';\n",
              "\n",
              "        async function convertToInteractive(key) {\n",
              "          const element = document.querySelector('#df-dc33797f-4b60-4b6b-a8e9-226f76781eff');\n",
              "          const dataTable =\n",
              "            await google.colab.kernel.invokeFunction('convertToInteractive',\n",
              "                                                     [key], {});\n",
              "          if (!dataTable) return;\n",
              "\n",
              "          const docLinkHtml = 'Like what you see? Visit the ' +\n",
              "            '<a target=\"_blank\" href=https://colab.research.google.com/notebooks/data_table.ipynb>data table notebook</a>'\n",
              "            + ' to learn more about interactive tables.';\n",
              "          element.innerHTML = '';\n",
              "          dataTable['output_type'] = 'display_data';\n",
              "          await google.colab.output.renderOutput(dataTable, element);\n",
              "          const docLink = document.createElement('div');\n",
              "          docLink.innerHTML = docLinkHtml;\n",
              "          element.appendChild(docLink);\n",
              "        }\n",
              "      </script>\n",
              "    </div>\n",
              "  </div>\n",
              "  "
            ],
            "text/plain": [
              "   index  Pontuacao_casa\n",
              "0    0-5           41528\n",
              "1   6-10            1437\n",
              "2  11-15              96\n",
              "3  16-20              14\n",
              "4  21-35               6"
            ]
          },
          "metadata": {},
          "execution_count": 101
        }
      ]
    },
    {
      "cell_type": "code",
      "source": [
        ""
      ],
      "metadata": {
        "id": "4-g2GrGCGr8X"
      },
      "execution_count": null,
      "outputs": []
    },
    {
      "cell_type": "markdown",
      "source": [
        "## Exercício\n",
        "Faça um novo gráfico de pizza, mas dessa vez de acordo com a coluna *rs*. \n",
        "- Primeiro, use a biblioteca matplotlib\n",
        "- Depois, use a plotly"
      ],
      "metadata": {
        "id": "k-gY4gzJEqwK"
      }
    },
    {
      "cell_type": "code",
      "source": [
        ""
      ],
      "metadata": {
        "id": "gxwutTnqGvUh"
      },
      "execution_count": null,
      "outputs": []
    },
    {
      "cell_type": "code",
      "source": [
        ""
      ],
      "metadata": {
        "id": "RdPQ_zPmGuyE"
      },
      "execution_count": null,
      "outputs": []
    },
    {
      "cell_type": "markdown",
      "source": [
        "<img src=\"https://github.com/amandalemette/images/blob/08d35cced043b815b96f25c6f7d256d075079944/BiMaster/logotipo.png?raw=true\"  width=1000 height=125 />"
      ],
      "metadata": {
        "id": "9CjWt8cZsVf7"
      }
    },
    {
      "cell_type": "markdown",
      "source": [
        "# Map"
      ],
      "metadata": {
        "id": "PI9kEsZJl5pM"
      }
    },
    {
      "cell_type": "markdown",
      "source": [
        "Com o método *map()*, conseguimos aplicar uma função a uma dada coluna de um DataFrame. Somente podemos usar o método map() com a coluna particular de um DataFrame, não é possível aplicar o *map* para todo o DataFrame.\n",
        "\n",
        "Para aplicar o *map* podemos fazer uso de:\n",
        "\n",
        "- funções anônimas\n",
        "- dicionários\n",
        "- funções convencionais\n",
        "\n",
        "Vamos aplicar cada uma delas no nosso estudo de caso. "
      ],
      "metadata": {
        "id": "BoTz3lwvqLeG"
      }
    },
    {
      "cell_type": "markdown",
      "source": [
        "Retornando ao nosso DataFrame df..."
      ],
      "metadata": {
        "id": "za2Geo0gH0EM"
      }
    },
    {
      "cell_type": "code",
      "source": [
        "df.sample(2)"
      ],
      "metadata": {
        "id": "xD4F2H66pvBE"
      },
      "execution_count": null,
      "outputs": []
    },
    {
      "cell_type": "markdown",
      "source": [
        "Vamos aplicar map de acordo com *rs*. Se rs for igual a\n",
        "- 0: empate\n",
        "- 1: casa vence\n",
        "- 2: convidado vence"
      ],
      "metadata": {
        "id": "XrJdLpDbF__6"
      }
    },
    {
      "cell_type": "markdown",
      "source": [
        "## Dicionário"
      ],
      "metadata": {
        "id": "KXz12iDOqTZd"
      }
    },
    {
      "cell_type": "code",
      "source": [
        ""
      ],
      "metadata": {
        "id": "SHkcnamjGz8W"
      },
      "execution_count": null,
      "outputs": []
    },
    {
      "cell_type": "markdown",
      "source": [
        "## Função anônima"
      ],
      "metadata": {
        "id": "BFWg9ju_G3ji"
      }
    },
    {
      "cell_type": "code",
      "source": [
        ""
      ],
      "metadata": {
        "id": "K99mAkfZG1p6"
      },
      "execution_count": null,
      "outputs": []
    },
    {
      "cell_type": "markdown",
      "source": [
        "## Função convencional"
      ],
      "metadata": {
        "id": "ocbvU5cBG6S-"
      }
    },
    {
      "cell_type": "code",
      "source": [
        ""
      ],
      "metadata": {
        "id": "Xqdcf4lTG3G7"
      },
      "execution_count": null,
      "outputs": []
    },
    {
      "cell_type": "markdown",
      "source": [
        "<img src=\"https://github.com/amandalemette/images/blob/08d35cced043b815b96f25c6f7d256d075079944/BiMaster/logotipo.png?raw=true\"  width=1000 height=125 />"
      ],
      "metadata": {
        "id": "alzYXXG3sRhD"
      }
    },
    {
      "cell_type": "markdown",
      "source": [
        "# Apply"
      ],
      "metadata": {
        "id": "sRGNA7AYl3SK"
      }
    },
    {
      "cell_type": "markdown",
      "source": [
        "O método *apply* foi feito para possibilitar a aplicação de funções ao longo de um eixo de um dataframe. O método apply() aplica a função ao longo de um eixo especificado, ele passa as colunas como um dataframe para a função personalizada.\n",
        "\n",
        "\n",
        "A saída do método apply() é recebida sob a forma de um dataframe ou Series dependendo da entrada.\n",
        "\n",
        " A sintaxe do apply() funciona como:\n",
        "\n",
        "\n",
        "\n",
        "```\n",
        "Dataframe.apply(customFunction, axis=0)\n",
        "```\n",
        "\n",
        "Os argumentos correspondem a\n",
        "\n",
        "- customFunction: a função a ser aplicada ao dataframe ou à série.\n",
        "- axis: 0 refere-se a 'rows', e 1 refere-se a \"columns\"; a função deve ser aplicada em linhas ou colunas.\n"
      ],
      "metadata": {
        "id": "SKWGhfZInt6C"
      }
    },
    {
      "cell_type": "markdown",
      "source": [
        "## apply() para aplicar uma função à coluna DataFrame "
      ],
      "metadata": {
        "id": "LmvLuJ-8oPMy"
      }
    },
    {
      "cell_type": "code",
      "source": [
        "import pandas as pd"
      ],
      "metadata": {
        "id": "CoJkV6ZMpT1l"
      },
      "execution_count": null,
      "outputs": []
    },
    {
      "cell_type": "code",
      "source": [
        "data = pd.DataFrame([[1,2,3], [4,5,6], [7,8,9]], columns=['A','B','C'])\n",
        "data"
      ],
      "metadata": {
        "id": "QYehwUSXk71_"
      },
      "execution_count": null,
      "outputs": []
    },
    {
      "cell_type": "code",
      "source": [
        "def add_2(x):\n",
        "    return x+2"
      ],
      "metadata": {
        "id": "vgKKzyOkpS5R"
      },
      "execution_count": null,
      "outputs": []
    },
    {
      "cell_type": "code",
      "source": [
        "data = data.apply(add_2)\n",
        "data"
      ],
      "metadata": {
        "id": "iOlFqNf-pZRO"
      },
      "execution_count": null,
      "outputs": []
    },
    {
      "cell_type": "code",
      "source": [
        ""
      ],
      "metadata": {
        "id": "o17SwMH_G7p5"
      },
      "execution_count": null,
      "outputs": []
    },
    {
      "cell_type": "markdown",
      "source": [
        "## apply() para aplicar uma função a uma única coluna"
      ],
      "metadata": {
        "id": "O4ZiOf0qpdy6"
      }
    },
    {
      "cell_type": "code",
      "source": [
        "data = pd.DataFrame([[1,2,3], [4,5,6], [7,8,9]], columns=['A','B','C'])\n",
        "print(data)\n",
        "\n",
        "\n",
        "data['A'] = data['A'].apply(add_2)\n",
        "data "
      ],
      "metadata": {
        "id": "vW_gYB2QpkDx"
      },
      "execution_count": null,
      "outputs": []
    },
    {
      "cell_type": "markdown",
      "source": [
        "Vamos aplicar a função *classifica* na coluna *rs* do nosso DataFrame *df* usando apply..."
      ],
      "metadata": {
        "id": "SobZ8_2ZHHnS"
      }
    },
    {
      "cell_type": "markdown",
      "source": [
        "A nossa função classifica de acordo com:\n",
        "- 0: empate\n",
        "- 1: casa vence\n",
        "- 2: convidado vence"
      ],
      "metadata": {
        "id": "YSwVQCFTHUe5"
      }
    },
    {
      "cell_type": "code",
      "source": [
        ""
      ],
      "metadata": {
        "id": "2znVuxUcHEQz"
      },
      "execution_count": null,
      "outputs": []
    },
    {
      "cell_type": "markdown",
      "source": [
        "Como podemos ver, o *apply()* pode ser usado para aplicar uma função específica a todos os elementos de todo o DataFrame ou a todos os elementos de uma coluna específica."
      ],
      "metadata": {
        "id": "fxpntzF2uUsM"
      }
    },
    {
      "cell_type": "markdown",
      "source": [
        "<img src=\"https://github.com/amandalemette/images/blob/08d35cced043b815b96f25c6f7d256d075079944/BiMaster/logotipo.png?raw=true\"  width=1000 height=125 />\n"
      ],
      "metadata": {
        "id": "HS-4nt0up7BY"
      }
    },
    {
      "cell_type": "markdown",
      "source": [
        "# Applymap"
      ],
      "metadata": {
        "id": "_ZzJkI8gGL9P"
      }
    },
    {
      "cell_type": "markdown",
      "source": [
        "A função associada a [applymap()](https://pandas.pydata.org/docs/reference/api/pandas.DataFrame.applymap.html) é aplicada a todos os elementos do DataFrame fornecido e, portanto, o método applymap() é definido apenas para DataFrames. A sua sintaxe é:\n",
        "\n",
        "\n",
        "```\n",
        "DataFrame.applymap(func,na_action=None)\n",
        "```\n",
        "\n"
      ],
      "metadata": {
        "id": "5SYuzQxRrJa4"
      }
    },
    {
      "cell_type": "markdown",
      "source": [
        "Vamos ver um exemplo."
      ],
      "metadata": {
        "id": "LE-Dx8ktsi0k"
      }
    },
    {
      "cell_type": "code",
      "source": [
        "dff = pd.DataFrame({\n",
        "    'Col 1': [30,40,50,60],\n",
        "    'Col 2': [23,35,65,45],\n",
        "    'Col 3': [85,87,90,89],\n",
        "\n",
        "},index=[\"A\",\"B\",\"C\",\"D\"])\n",
        "dff"
      ],
      "metadata": {
        "id": "StGRRf7qGNGF"
      },
      "execution_count": null,
      "outputs": []
    },
    {
      "cell_type": "code",
      "source": [
        "dff2 = dff.applymap(lambda a: a*10)\n",
        "dff2"
      ],
      "metadata": {
        "id": "4ZBgS5rpszUo"
      },
      "execution_count": null,
      "outputs": []
    },
    {
      "cell_type": "markdown",
      "source": [
        "O *applymap()* multiplica cada elemento de *dff* e armazena o resultado em *dff2*. Passamos uma função *lambda* como um argumento para a função *applymap()*, que retorna um valor multiplicando a entrada por 10. Portanto, cada elemento do DataFrame dff é escalado em 10.\n",
        "\n",
        "Também podemos usar o loop for para iterar sobre cada elemento no DataFrame dff, mas isso torna nosso código menos legível, confuso e menos eficiente. O *applymap()* é uma abordagem alternativa que torna o código mais legível e eficiente."
      ],
      "metadata": {
        "id": "QcK9dqtwtC29"
      }
    },
    {
      "cell_type": "markdown",
      "source": [
        "Além das operações matemáticas, também podemos realizar outras operações nos elementos do DataFrame usando o *applymap()*."
      ],
      "metadata": {
        "id": "90QTPHqptVbj"
      }
    },
    {
      "cell_type": "code",
      "source": [
        "dff3 = dff.applymap(lambda a: str(a)+\".00\")\n",
        "dff3"
      ],
      "metadata": {
        "id": "Dr8b5rkbs7Xf"
      },
      "execution_count": null,
      "outputs": []
    },
    {
      "cell_type": "markdown",
      "source": [
        "O *applymap()* anexou .00 no final de cada elemento no DataFrame dff."
      ],
      "metadata": {
        "id": "_1kAzLultluQ"
      }
    },
    {
      "cell_type": "markdown",
      "source": [
        "<img src=\"https://github.com/amandalemette/images/blob/08d35cced043b815b96f25c6f7d256d075079944/BiMaster/logotipo.png?raw=true\"  width=1000 height=125 />"
      ],
      "metadata": {
        "id": "ARFu-n0MvQJT"
      }
    },
    {
      "cell_type": "markdown",
      "source": [
        "# Salvamento de arquivo"
      ],
      "metadata": {
        "id": "utqOX1Stvl4f"
      }
    },
    {
      "cell_type": "markdown",
      "source": [
        "Vamos retornar ao nosso DataFrame *df*."
      ],
      "metadata": {
        "id": "kV9z9v8tvXLn"
      }
    },
    {
      "cell_type": "code",
      "source": [
        "df.head()"
      ],
      "metadata": {
        "id": "8VeWRla4tfHK"
      },
      "execution_count": null,
      "outputs": []
    },
    {
      "cell_type": "markdown",
      "source": [
        "Ele já está sem dados faltantes e contém novas colunas. Vamos agora salvar esse DataFrame em um novo arquivo do tipo:"
      ],
      "metadata": {
        "id": "OhAy1xCgvcX6"
      }
    },
    {
      "cell_type": "markdown",
      "source": [
        "## csv"
      ],
      "metadata": {
        "id": "4LmMckQTvkvI"
      }
    },
    {
      "cell_type": "code",
      "source": [
        "df.to_csv('base_dados_nova.csv')"
      ],
      "metadata": {
        "id": "ps6xkUudvame"
      },
      "execution_count": null,
      "outputs": []
    },
    {
      "cell_type": "markdown",
      "source": [
        "Vamos checar se salvamos o nosso arquivo onde queríamos:"
      ],
      "metadata": {
        "id": "_0Uj83Jqvwak"
      }
    },
    {
      "cell_type": "code",
      "source": [
        "!ls"
      ],
      "metadata": {
        "id": "WkIUGvzWvtXk"
      },
      "execution_count": null,
      "outputs": []
    },
    {
      "cell_type": "markdown",
      "source": [
        "Tudo certo!"
      ],
      "metadata": {
        "id": "F1KFZFEjv1Dc"
      }
    },
    {
      "cell_type": "markdown",
      "source": [
        "Vamos ver como nosso arquivo foi salvo, pedindo para ler o mesmo novamente. "
      ],
      "metadata": {
        "id": "Ud8mSyzQv5-1"
      }
    },
    {
      "cell_type": "code",
      "source": [
        "pd.read_csv('base_dados_nova.csv')"
      ],
      "metadata": {
        "id": "gBeHbAylvzvF"
      },
      "execution_count": null,
      "outputs": []
    },
    {
      "cell_type": "markdown",
      "source": [
        "O arquivo foi salvo do modo correto, porém ao fazer a leitura dele novamente, vemos que existe uma coluna a mais:\n",
        "- Unnamed: 0\t\n",
        "\n",
        "Essa coluna corresponde à coluna de índices de *df* e, portanto, não nos agrega nenhuma nova informação, não sendo necessária. \n",
        "\n",
        "A forma mais indicada de evitar que tenhamos essa coluna é impedir que ela seja criada ao salvarmos o dataframe para um arquivo csv. Vamos fazer isso. "
      ],
      "metadata": {
        "id": "MUgjNkctwCLU"
      }
    },
    {
      "cell_type": "code",
      "source": [
        "df.to_csv('base_dados_nova.csv',index = False)"
      ],
      "metadata": {
        "id": "iNTI5lZZv_88"
      },
      "execution_count": null,
      "outputs": []
    },
    {
      "cell_type": "code",
      "source": [
        "pd.read_csv('base_dados_nova.csv')"
      ],
      "metadata": {
        "id": "Xkt03-oYwd_L"
      },
      "execution_count": null,
      "outputs": []
    },
    {
      "cell_type": "markdown",
      "source": [
        "**SUCESSO!**\n",
        "\n",
        "<center><img src=\"https://github.com/amandalemette/images/blob/98b4d25f675a2488593570b6f0313a96ebf8d5c8/BiMaster/goofyhappy.jpg?raw=true\"  width=150 height=300 />"
      ],
      "metadata": {
        "id": "E1c94AMNwzTz"
      }
    },
    {
      "cell_type": "markdown",
      "source": [
        "## xlsx"
      ],
      "metadata": {
        "id": "lQj47iqFw6BD"
      }
    },
    {
      "cell_type": "markdown",
      "source": [
        "Não precisamos sempre salvar nosso DataFrame com extensão *csv*, podemos salvá-lo como arquivo de Excel também:"
      ],
      "metadata": {
        "id": "v_eRsgfCw8L7"
      }
    },
    {
      "cell_type": "code",
      "source": [
        "df.to_excel('base_dados_nova.xlsx',index = False)"
      ],
      "metadata": {
        "id": "Q0lg0hf6whd9"
      },
      "execution_count": null,
      "outputs": []
    },
    {
      "cell_type": "code",
      "source": [
        "!ls"
      ],
      "metadata": {
        "id": "rrAqaKCixF2l"
      },
      "execution_count": null,
      "outputs": []
    },
    {
      "cell_type": "markdown",
      "source": [
        "## Preocupando-se com espaço em disco"
      ],
      "metadata": {
        "id": "VxrSVo4z0Vcb"
      }
    },
    {
      "cell_type": "markdown",
      "source": [
        "O formato csv é um dos mais utilizados para compartilhar tabelas de dados. Por ser um formato simples e de ampla aceitação pelos softwares, é comum ver a opção de abrir ou salvar seus dados nesse formato. O lado negativo é o espaço em disco que essa extensão de arquivo toma, sendo o tamanho proporcional ao número de linhas e colunas.\n",
        "\n",
        "Isso acontece porque o csv geralmente converte todos os dados em texto separados por vírgula, ocupando muito espaço de armazenamento do disco.\n",
        "\n",
        "Uma solução simples pode ser usar outros formatos mais comprimidos que ocupam bem menos espaço em disco e não fazem nenhuma diferença para o Pandas. "
      ],
      "metadata": {
        "id": "bkFJ6bMD0ZYJ"
      }
    },
    {
      "cell_type": "markdown",
      "source": [
        "O formato que recomendo é o *parquet* (que é o *pickle* com compressão gzip). "
      ],
      "metadata": {
        "id": "VcriKnnM0hx3"
      }
    },
    {
      "cell_type": "code",
      "source": [
        "import pyarrow"
      ],
      "metadata": {
        "id": "aA6x1N7SxKZ6"
      },
      "execution_count": null,
      "outputs": []
    },
    {
      "cell_type": "markdown",
      "source": [
        "Se a execução da célula acima der erro, rode o seguinte código antes:\n",
        "\n",
        "\n",
        "\n",
        "```\n",
        "!pip install pyarrow\n",
        "```\n",
        "\n"
      ],
      "metadata": {
        "id": "A-o4kk7f1mN7"
      }
    },
    {
      "cell_type": "code",
      "source": [
        "df.to_parquet('base_dados_nova.parquet',compression = 'gzip', index = False)"
      ],
      "metadata": {
        "id": "tmTY6oI_yIpp"
      },
      "execution_count": null,
      "outputs": []
    },
    {
      "cell_type": "code",
      "source": [
        "df.to_pickle('base_dados_nova.pickle',compression = 'gzip')"
      ],
      "metadata": {
        "id": "IDkfc9uIyk6L"
      },
      "execution_count": null,
      "outputs": []
    },
    {
      "cell_type": "code",
      "source": [
        "!ls"
      ],
      "metadata": {
        "id": "op1nK2FAyrVB"
      },
      "execution_count": null,
      "outputs": []
    },
    {
      "cell_type": "markdown",
      "source": [
        "\n",
        "<center><img src=\"https://github.com/amandalemette/images/blob/5d7d8f802759451a4c3e6b9821a4c05f66f95f34/BiMaster/tamanho.png?raw=true\"  width=500 height=300 />"
      ],
      "metadata": {
        "id": "MzAKkq-9zLEo"
      }
    },
    {
      "cell_type": "markdown",
      "source": [
        "Podemos ver que salvando em *parquet* reduzimos consideravelmente o espaço ocupado em disco pelo arquivo. "
      ],
      "metadata": {
        "id": "itlE_aOw0IFx"
      }
    },
    {
      "cell_type": "markdown",
      "source": [
        "Agora, vamos ler o arquivo em .parquet."
      ],
      "metadata": {
        "id": "YyeLSPvJ1woX"
      }
    },
    {
      "cell_type": "code",
      "source": [
        "pd.read_parquet('base_dados_nova.parquet')"
      ],
      "metadata": {
        "id": "_ib7vy88yuGE"
      },
      "execution_count": null,
      "outputs": []
    },
    {
      "cell_type": "markdown",
      "source": [
        "Tudo certo!!! "
      ],
      "metadata": {
        "id": "YzHBplT015Yd"
      }
    },
    {
      "cell_type": "markdown",
      "source": [
        "<img src=\"https://github.com/amandalemette/images/blob/08d35cced043b815b96f25c6f7d256d075079944/BiMaster/logotipo.png?raw=true\"  width=1000 height=125 />"
      ],
      "metadata": {
        "id": "Q-Oc9bHq3MOl"
      }
    },
    {
      "cell_type": "markdown",
      "source": [
        "# Leitura de Arquivo de Excel com mais de uma planilha"
      ],
      "metadata": {
        "id": "_G8iHMUK2vFk"
      }
    },
    {
      "cell_type": "markdown",
      "source": [
        "Para ler aquivos do tipo excel, podemos usar o comando:\n",
        "\n",
        "\n",
        "\n",
        "```\n",
        "pd.read_excel('nome_arquivo.xlsx')\n",
        "```\n",
        "\n",
        "Ao executar esse comando, estamos lendo a primeira planilha do arquivo. Mas se o arquivo tiver várias planilhas preenchidas, como proceder?\n",
        "\n"
      ],
      "metadata": {
        "id": "34qZ6mvp24_Y"
      }
    },
    {
      "cell_type": "markdown",
      "source": [
        "Vamos tentar executar essa leitura com um arquivo de Excel que se encontra em uma página de internet:"
      ],
      "metadata": {
        "id": "kdVHgDjR5la6"
      }
    },
    {
      "cell_type": "code",
      "source": [
        "excel_web = 'https://github.com/chris1610/pbpython/raw/master/data/2018_Sales_Total_Tabs.xlsx'"
      ],
      "metadata": {
        "id": "3nYGyk_F13Oc"
      },
      "execution_count": null,
      "outputs": []
    },
    {
      "cell_type": "code",
      "source": [
        "df = pd.read_excel(excel_web)"
      ],
      "metadata": {
        "id": "McGlVP7Z5RRf"
      },
      "execution_count": null,
      "outputs": []
    },
    {
      "cell_type": "code",
      "source": [
        "df.head()"
      ],
      "metadata": {
        "id": "-wPguDVV5XWn"
      },
      "execution_count": null,
      "outputs": []
    },
    {
      "cell_type": "markdown",
      "source": [
        "Na verdade, só lemos a primeira planilha, pois está definido assim no modo default de pandas. read_excel."
      ],
      "metadata": {
        "id": "n8191OZz5saF"
      }
    },
    {
      "cell_type": "markdown",
      "source": [
        "Vamos tentar novamente..."
      ],
      "metadata": {
        "id": "kweo1SPE5yzx"
      }
    },
    {
      "cell_type": "code",
      "source": [
        "df = pd.read_excel(excel_web,sheet_name=None)"
      ],
      "metadata": {
        "id": "wTHgQ9S_5Yb7"
      },
      "execution_count": null,
      "outputs": []
    },
    {
      "cell_type": "code",
      "source": [
        "df"
      ],
      "metadata": {
        "id": "DLpKgLml53wd"
      },
      "execution_count": null,
      "outputs": []
    },
    {
      "cell_type": "code",
      "source": [
        ""
      ],
      "metadata": {
        "id": "4pvaBWyM54q7"
      },
      "execution_count": null,
      "outputs": []
    },
    {
      "cell_type": "markdown",
      "source": [
        "df não é mais um DataFrame."
      ],
      "metadata": {
        "id": "W87vHm0J56zx"
      }
    },
    {
      "cell_type": "code",
      "source": [
        "type(df)"
      ],
      "metadata": {
        "id": "fHMF8M4Z58pF"
      },
      "execution_count": null,
      "outputs": []
    },
    {
      "cell_type": "markdown",
      "source": [
        "df é um dicionário, onde cada nome de planilha passou a ser a chave desse dicionário e o conteúdo de cada planilha é um DataFrame que é o valor armazenado para cada chave. "
      ],
      "metadata": {
        "id": "CJOs2MjL5-Uz"
      }
    },
    {
      "cell_type": "code",
      "source": [
        "df.keys()"
      ],
      "metadata": {
        "colab": {
          "base_uri": "https://localhost:8080/"
        },
        "id": "n8TCqi7559e1",
        "outputId": "7d1d49aa-8cc0-44e3-aeac-d493d09363fa"
      },
      "execution_count": null,
      "outputs": [
        {
          "output_type": "execute_result",
          "data": {
            "text/plain": [
              "dict_keys(['Sheet1', 'Sheet2', 'Sheet3', 'Sheet4', 'Sheet5', 'Sheet6'])"
            ]
          },
          "metadata": {},
          "execution_count": 59
        }
      ]
    },
    {
      "cell_type": "code",
      "source": [
        ""
      ],
      "metadata": {
        "id": "VUtYyvsEH4zC"
      },
      "execution_count": null,
      "outputs": []
    },
    {
      "cell_type": "code",
      "source": [
        ""
      ],
      "metadata": {
        "id": "gidPfga0H4kZ"
      },
      "execution_count": null,
      "outputs": []
    },
    {
      "cell_type": "markdown",
      "source": [
        "Para juntar todos os DataFrames em um único, podemos fazer uso de [.concat()](https://pandas.pydata.org/docs/reference/api/pandas.concat.html)."
      ],
      "metadata": {
        "id": "NeD4IYqm6Tcv"
      }
    },
    {
      "cell_type": "code",
      "source": [
        ""
      ],
      "metadata": {
        "id": "n-4XVeriH67h"
      },
      "execution_count": null,
      "outputs": []
    },
    {
      "cell_type": "code",
      "source": [
        ""
      ],
      "metadata": {
        "id": "HJWfeI7_H7bQ"
      },
      "execution_count": null,
      "outputs": []
    },
    {
      "cell_type": "markdown",
      "source": [
        "Para fazer a leitura direto para um único DataFrame, podemos fazer:"
      ],
      "metadata": {
        "id": "EUqzcrJU64P_"
      }
    },
    {
      "cell_type": "code",
      "source": [
        ""
      ],
      "metadata": {
        "id": "-GRa4KluH9Jn"
      },
      "execution_count": null,
      "outputs": []
    },
    {
      "cell_type": "code",
      "source": [
        ""
      ],
      "metadata": {
        "id": "kbgRoA8rH8t5"
      },
      "execution_count": null,
      "outputs": []
    },
    {
      "cell_type": "markdown",
      "source": [
        "# Estudo de Caso"
      ],
      "metadata": {
        "id": "z5w90yiKI_Ck"
      }
    },
    {
      "cell_type": "markdown",
      "source": [
        "Faça o download da base de dados: \n",
        "\n",
        "- [ckdisease.csv](https://bit.ly/3Guen8J)\n",
        "\n",
        "e identifique se essa base contém dados faltantes. \n",
        "\n",
        "Em caso afirmativo:\n",
        "\n",
        "a. Substitua NaN nas colunas categóricas (identificadas como object) pela moda da coluna. \n",
        "\n",
        "b. Substitua NaN nas colunas numéricas pela média da coluna. \n",
        "\n",
        "Use o seguinte código para selecionar as colunas categóricas e numéricas:\n",
        "\n",
        "\n",
        "\n",
        "```\n",
        "cat_cols = [col for col in DataFrame.columns if DataFrame[col].dtype == 'object']\n",
        "num_cols = [col for col in DataFrame.columns if DataFrame[col].dtype != 'object']\n",
        "```\n",
        "\n",
        "c. Construa um gráfico de pizza que mostre o groupo de pessoas com a doença crônica no rim e as que não estão com a doença. Essa classificação se dá pela coluna *class*:\n",
        "- 0 = 'ckd' --> com doença de rim crônica (chronic kidney disease)\n",
        "- 1 = 'not ckd' --> sem doença de rim crônica \n",
        "\n",
        "d. Transforme o gráfico do item anterior em um gráfico de barras. \n",
        "\n",
        "e. Verifique graficamente se a pressão sanguínea tem correlação com a idade. "
      ],
      "metadata": {
        "id": "r4toUXVYj4KC"
      }
    },
    {
      "cell_type": "code",
      "source": [
        "!ls"
      ],
      "metadata": {
        "id": "lEC32kpbrXIL"
      },
      "execution_count": null,
      "outputs": []
    },
    {
      "cell_type": "code",
      "source": [
        "bd = pd.read_csv('ckdisease.csv')"
      ],
      "metadata": {
        "id": "T2qddpCsj0FN"
      },
      "execution_count": null,
      "outputs": []
    },
    {
      "cell_type": "markdown",
      "source": [
        "a. Substitua NaN nas colunas categóricas (identificadas como object) pela moda da coluna.\n",
        "\n"
      ],
      "metadata": {
        "id": "1aKjfuWHb8Bw"
      }
    },
    {
      "cell_type": "code",
      "source": [
        ""
      ],
      "metadata": {
        "id": "t5OCFN-WIIZD"
      },
      "execution_count": null,
      "outputs": []
    },
    {
      "cell_type": "code",
      "source": [
        ""
      ],
      "metadata": {
        "id": "_JxB67unIIGW"
      },
      "execution_count": null,
      "outputs": []
    },
    {
      "cell_type": "markdown",
      "source": [
        "b. Substitua NaN nas colunas numéricas pela média da coluna."
      ],
      "metadata": {
        "id": "YPHO9prSIHA-"
      }
    },
    {
      "cell_type": "code",
      "source": [
        ""
      ],
      "metadata": {
        "id": "QtzxICflIMRv"
      },
      "execution_count": null,
      "outputs": []
    },
    {
      "cell_type": "markdown",
      "source": [
        "c. Construa um gráfico de pizza que mostre o groupo de pessoas com a doença crônica no rim e as que não estão com a doença. Essa classificação se dá pela coluna class:\n",
        "\n",
        "0 = 'ckd' --> com doença de rim crônica (chronic kidney disease)\n",
        "\n",
        "1 = 'not ckd' --> sem doença de rim crônica\n"
      ],
      "metadata": {
        "id": "zUQahZaQcD4K"
      }
    },
    {
      "cell_type": "code",
      "source": [
        ""
      ],
      "metadata": {
        "id": "7ZCc-DcQIOYf"
      },
      "execution_count": null,
      "outputs": []
    },
    {
      "cell_type": "code",
      "source": [
        ""
      ],
      "metadata": {
        "id": "QQRnMVB8IO0M"
      },
      "execution_count": null,
      "outputs": []
    },
    {
      "cell_type": "markdown",
      "source": [
        "d. Transforme o gráfico do item anterior em um gráfico de barras."
      ],
      "metadata": {
        "id": "Dl6pUoLjcFrW"
      }
    },
    {
      "cell_type": "code",
      "source": [
        ""
      ],
      "metadata": {
        "id": "HZS4J3ovITlY"
      },
      "execution_count": null,
      "outputs": []
    },
    {
      "cell_type": "code",
      "source": [
        ""
      ],
      "metadata": {
        "id": "z72RJZ26ITYO"
      },
      "execution_count": null,
      "outputs": []
    },
    {
      "cell_type": "code",
      "source": [
        ""
      ],
      "metadata": {
        "id": "ILLrPWGhITLC"
      },
      "execution_count": null,
      "outputs": []
    },
    {
      "cell_type": "markdown",
      "source": [
        "e. Verifique graficamente se a pressão sanguínea tem correlação com a idade. "
      ],
      "metadata": {
        "id": "Bun8FVdLcHIe"
      }
    },
    {
      "cell_type": "code",
      "source": [
        ""
      ],
      "metadata": {
        "id": "c-7eply1hecz"
      },
      "execution_count": null,
      "outputs": []
    }
  ]
}