{
  "nbformat": 4,
  "nbformat_minor": 0,
  "metadata": {
    "colab": {
      "name": "Aula_06.ipynb",
      "provenance": [],
      "collapsed_sections": [],
      "toc_visible": true
    },
    "kernelspec": {
      "name": "python3",
      "display_name": "Python 3"
    },
    "language_info": {
      "name": "python"
    }
  },
  "cells": [
    {
      "cell_type": "markdown",
      "metadata": {
        "id": "wy_9INHEImAY"
      },
      "source": [
        "<img src=\"https://github.com/amandalemette/images/blob/08d35cced043b815b96f25c6f7d256d075079944/BiMaster/logotipo.png?raw=true\"  width=1000 height=125 />"
      ]
    },
    {
      "cell_type": "markdown",
      "metadata": {
        "id": "EDTh4uzNIp-B"
      },
      "source": [
        "# Professoras\n",
        "\n",
        " - Amanda Lemette \n",
        "\t - prof.amanda@ica.ele.puc-rio.br\n",
        "\t - [Linkedin](https://www.linkedin.com/in/amanda-lemette-brand%C3%A3o-83280918b)\n",
        "   - [Youtube](https://www.youtube.com/c/AmandaLemette/featured)\n",
        "   \n",
        " - Júlia Potratz\n",
        "\t - prof.julia@ica.ele.puc-rio.br\n",
        "\t - [Linkedin](https://www.linkedin.com/in/julia-potratz)\n",
        "\n",
        "- Manoela Koehler\n",
        "     - prof.manoela@ica.ele.puc-rio.br\n",
        "     - [Linkedin](https://www.linkedin.com/in/manoelakohler/)\n",
        "\n",
        "     \n"
      ]
    },
    {
      "cell_type": "markdown",
      "metadata": {
        "id": "Koov13X9IsDv"
      },
      "source": [
        "# Aula 6\n",
        "\n",
        "\n",
        "- **Plano de aula:**\n",
        "  - Mini revisão de estatistica \n",
        "    - dataframe .describe()\n",
        "    - Média, Mediana, Quartis\n",
        "    - Usar seaborn para plotar um boxplot (Outliers)\n",
        "  - Agrupamentos:\n",
        "    - Agrupar uma coluna \n",
        "    - Agrupar de acordo com mais de uma coluna \n",
        "  - Seleção de acordo com regras \n",
        "    - Condicionais\n",
        "    - .query()\n",
        "  - Gráficos (seaborn + matplotlib)\n"
      ]
    },
    {
      "cell_type": "markdown",
      "source": [
        "# Leitura de base de dados .csv"
      ],
      "metadata": {
        "id": "IUypFhQPcfg-"
      }
    },
    {
      "cell_type": "markdown",
      "source": [
        "Conforme já vimos, vamos fazer a montagem do Drive para conseguir fazer a leitura da base de dados.  \n",
        "\n"
      ],
      "metadata": {
        "id": "RsojmIeVHxlO"
      }
    },
    {
      "cell_type": "markdown",
      "source": [
        "A base de dados que vamos utilizar é sobre tipos e especificações de carros. A base de dados se chama *FuelEfficiency.csv* e foi retirada do  [GitHub](https://downgit.github.io/#/home?url=https://github.com/amandalemette/bases_de_dados/blob/a8d8816dc4fad138dd1b4ee672f836912e0ebf52/03_FuelEfficiency/FuelEfficiency.csv)."
      ],
      "metadata": {
        "id": "W0ovvGJTeSeO"
      }
    },
    {
      "cell_type": "markdown",
      "source": [
        "Depois de fazer o download do Arquivo *FuelEfficiency.csv* coloque o mesmo na sua pasta *Colab Notebooks* dentro do seu Google Drive. "
      ],
      "metadata": {
        "id": "vdHhO4-2cyaT"
      }
    },
    {
      "cell_type": "markdown",
      "source": [
        "Como segundo passo, precisamos fazer a montagem do Drive, possibilitando o acesso aos arquivos do seu Google Drive pessoal pelo Google Colaboratory. "
      ],
      "metadata": {
        "id": "nXURog_XeQ52"
      }
    },
    {
      "cell_type": "code",
      "metadata": {
        "id": "dtiJwjNQwCFR"
      },
      "source": [
        "from google.colab import drive\n",
        "drive.mount('/content/drive')"
      ],
      "execution_count": null,
      "outputs": []
    },
    {
      "cell_type": "code",
      "source": [
        "# Importar a biblioteca os\n",
        "import os\n",
        "\n",
        "# Utilizando a função .chdir()\n",
        "os.chdir('drive/MyDrive/Colab Notebooks')"
      ],
      "metadata": {
        "id": "xXJbdmtvIZ_u"
      },
      "execution_count": null,
      "outputs": []
    },
    {
      "cell_type": "code",
      "source": [
        "!ls"
      ],
      "metadata": {
        "id": "5IIVLa2xIdEH"
      },
      "execution_count": null,
      "outputs": []
    },
    {
      "cell_type": "markdown",
      "source": [
        "Pronto! Agora conseguimos acessar qualquer documento armazenado na sua pasta Colab Notebooks por aqui.  "
      ],
      "metadata": {
        "id": "TdcrdCBBIoYz"
      }
    },
    {
      "cell_type": "markdown",
      "source": [
        "Vamos ler o arquivo *FuelEfficiency*"
      ],
      "metadata": {
        "id": "2P7ZVe7QezgM"
      }
    },
    {
      "cell_type": "code",
      "source": [
        "import pandas as pd\n",
        "import numpy as np\n",
        "import matplotlib.pyplot as plt"
      ],
      "metadata": {
        "id": "W9RndkgKN945"
      },
      "execution_count": null,
      "outputs": []
    },
    {
      "cell_type": "code",
      "source": [
        "df = pd.read_csv('FuelEfficiency.csv')\n",
        "df.head()"
      ],
      "metadata": {
        "id": "wzZ2PA6jfAzj"
      },
      "execution_count": null,
      "outputs": []
    },
    {
      "cell_type": "markdown",
      "source": [
        "A base de dados FuelEfficiency tem como colunas:\n",
        "\n",
        "- Mfr Name = empresa que fez o carro\n",
        "- Carline = marca do carro\n",
        "- Eng Displ = Cilindrada do motor\n",
        "- Cylinders = quantos cilindros o carro possui\n",
        "- Transmission = tipo de transmissão\n",
        "- MPG = Miles per gallon\n",
        "- CityMPG = milhas da cidade por galão\n",
        "- HwyMPG = milhas rodoviárias por galão\n",
        "- CombMPG = City+Hwy\n",
        "- gears = número de marchas que o carro tem\n",
        "\n",
        "<center><img src=\"https://github.com/amandalemette/images/blob/e9ce04a61d743ab7e5b0b50d12d902291d887ea2/BiMaster/carro.png?raw=true\"  width=300 height=125 />"
      ],
      "metadata": {
        "id": "oqxmLao5fD-Q"
      }
    },
    {
      "cell_type": "markdown",
      "source": [
        "# Checando se tem NaN"
      ],
      "metadata": {
        "id": "1v5zwzsxa5aA"
      }
    },
    {
      "cell_type": "code",
      "source": [
        ""
      ],
      "metadata": {
        "id": "zpC_F4s2vJ9D"
      },
      "execution_count": null,
      "outputs": []
    },
    {
      "cell_type": "markdown",
      "source": [
        "## Tendo uma visão geral da base de dados\n",
        "\n",
        "Um comando muito útil para avaliar um Dataframe é o <code>.describe()</code>, que irá calcular os quartis, valores máximo, mínimo, a média e o desvio padrão. Por padrão, esse método é aplicado somente para valores numéricos."
      ],
      "metadata": {
        "id": "jUDDDqE0Kfgl"
      }
    },
    {
      "cell_type": "code",
      "source": [
        ""
      ],
      "metadata": {
        "id": "XI9iYr9cvLSm"
      },
      "execution_count": null,
      "outputs": []
    },
    {
      "cell_type": "markdown",
      "source": [
        "Um modo bastante comum de definir o espalhamento dos dados é pelos quantis. Os quantis mais importantes e empregados são:\n",
        "\n",
        "- Quartis à dividem os dados em 4 partes iguais, sendo que cada parte contém 25 % dos dados \n",
        "\n",
        "- Decis àdividem os dados em décimas partes (cada parte tem 10 % dos dados)\n",
        "\n",
        "- Percentis à dividem os dados em centésimas partes (cada parte tem 1 % dos dados)\n"
      ],
      "metadata": {
        "id": "T5kWnyDJgdJt"
      }
    },
    {
      "cell_type": "markdown",
      "source": [
        "Vemos que o describe() usa os quartis para classificar o espalhamento dos dados:"
      ],
      "metadata": {
        "id": "G05SoRJlg5iR"
      }
    },
    {
      "cell_type": "markdown",
      "source": [
        "<center><img src=\"https://github.com/amandalemette/images/blob/00988952004cca4010e55d96f2765424d145b85d/BiMaster/quartis.png?raw=true\"  width=500 height=250 />"
      ],
      "metadata": {
        "id": "MmKhOtHNhAUb"
      }
    },
    {
      "cell_type": "markdown",
      "source": [
        "Existe um modo gráfico de representar o espalhamento dos dados via quartis que é através do diagrama de caixa, conhecido em inglês como *BoxPlot*.\n",
        "\n",
        " O boxplot ou diagrama de caixa é uma ferramenta gráfica que permite visualizar a distribuição e valores discrepantes (outliers) dos dados, fornecendo assim um meio complementar para desenvolver uma perspectiva sobre o caráter dos dados. Além disso, o boxplot também é uma disposição gráfica comparativa."
      ],
      "metadata": {
        "id": "xhv65-epi-S1"
      }
    },
    {
      "cell_type": "markdown",
      "source": [
        "Observe a figura do boxplot. Note que o local onde a haste vertical começa (de baixo para cima) indica o mínimo (excetuando algum possível valor extremo ou outlier) e, onde a haste termina indica o máximo (também excetuando algum possível outlier)."
      ],
      "metadata": {
        "id": "oe3ELuBcqORD"
      }
    },
    {
      "cell_type": "markdown",
      "source": [
        "<center><img src=\"https://github.com/amandalemette/images/blob/5692d332d48e17c57616a331ece575e451436e16/BiMaster/boxplot.png?raw=true\"  width=500 height=240 />"
      ],
      "metadata": {
        "id": "Hodri0wYio-H"
      }
    },
    {
      "cell_type": "markdown",
      "source": [
        "*IQR = Intervalo interquartílico."
      ],
      "metadata": {
        "id": "6vkZjDGdkMwF"
      }
    },
    {
      "cell_type": "markdown",
      "source": [
        "O retângulo no meio dessa haste possui três linhas horizontais: a linha de baixo, que é o próprio contorno externo inferior do retângulo, indica o primeiro quartil. A de cima, que também é o próprio contorno externo superior do retângulo, indica o terceiro quartil. A linha interna indica o segundo quartil ou mediana.\n",
        "\n",
        "A única informação adicional que o BoxPlot carrega de diferente em relação às informações fornecidas pelo .describe( ) é a existência de outliers, que são indicados no BoxPlot por meio de asteriscos ou pontos."
      ],
      "metadata": {
        "id": "kDgo0LC4qTbJ"
      }
    },
    {
      "cell_type": "markdown",
      "source": [
        "Mas você sabe o que são outliers?"
      ],
      "metadata": {
        "id": "vbWVEyPMjTyl"
      }
    },
    {
      "cell_type": "markdown",
      "source": [
        "Um outlier ou uma anomalia, seria um valor atípico, ou seja, uma observação que se apresenta bastante distante dos demais valores da distribuição.\n",
        "\n",
        "Estes valores podem ser gerados por diversos fatores, uma forma mais comum é por conta de ruídos na coleta de dados ou erros de transformações..\n",
        "\n",
        "Geralmente, classifica-se um dado como outlier quando ele está distante da média em mais do que **2 vezes o desvio padrão dos dados**. Mas isso não é uma regra rígida. Existem vários modos de identificar outliers. \n",
        "\n"
      ],
      "metadata": {
        "id": "kmf8MG3FjWng"
      }
    },
    {
      "cell_type": "markdown",
      "source": [
        "## Como interpretar o boxplot?\n",
        "\n",
        "O boxplot nos fornece uma análise visual da posição, dispersão, simetria, caudas e valores discrepantes (outliers) do conjunto de dados.\n",
        "\n",
        "- Posição – Em relação à posição dos dados, observa-se a linha central do retângulo (a mediana ou segundo quartil).\n",
        "- Dispersão – A dispersão dos dados pode ser representada pelo intervalo interquartílico que é a diferença entre o terceiro quartil e o primeiro quartil (tamanho da caixa), ou ainda pela amplitude que é calculada da seguinte maneira: valor máximo – valor mínimo. Embora a amplitude seja de fácil entendimento, o intervalo interquartílico é uma estatística mais robusta para medir variabilidade uma vez que não sofre influência de outliers.\n",
        "- Simetria – Um conjunto de dados que tem uma distribuição simétrica, terá a linha da mediana no centro do retângulo. Quando a linha da mediana está próxima ao primeiro quartil, os dados são assimétricos positivos e quando a posição da linha da mediana é próxima ao terceiro quartil, os dados são assimétricos negativos. Vale ressaltar que a mediana é a medida de tendência central mais indicada quando os dados possuem distribuição assimétrica, uma vez que a média aritmética é influenciada pelos valores extremos.\n",
        "- Caudas – As linhas que vão do retângulo até aos outliers podem fornecer o comprimento das caudas da distribuição.\n",
        "Outliers – Já os outliers indicam possíveis valores discrepantes. No boxplot, as observações são consideradas outliers quando estão abaixo ou acima do limite de detecção de outliers."
      ],
      "metadata": {
        "id": "tMLZ5_hIrBvs"
      }
    },
    {
      "cell_type": "markdown",
      "source": [
        "Vamos gerar o BoxPlot dos nossos dados armazenados em *df* utilizando a biblioteca gráfica [*Seaborn*](https://seaborn.pydata.org)."
      ],
      "metadata": {
        "id": "s5Rg59ojkeHb"
      }
    },
    {
      "cell_type": "markdown",
      "source": [
        "O tamanho de fonte default para gráficos considero muito pequeno, por conta disso, sempre mudo esse tamanho para 12 através do seguinte comando:"
      ],
      "metadata": {
        "id": "oz07Xv4ekJ4q"
      }
    },
    {
      "cell_type": "code",
      "source": [
        "plt.rcParams.update({'font.size':12})"
      ],
      "metadata": {
        "id": "DP9hfy4HmVIW"
      },
      "execution_count": null,
      "outputs": []
    },
    {
      "cell_type": "markdown",
      "source": [
        "Vamos gerar o BoxPlot analisando cada empresa que manufatura carros de acordo com o atributo CombMPG que é a combinação entre milhas por galão rodadas na cidade e nas rodavias."
      ],
      "metadata": {
        "id": "tWziquZCmwZy"
      }
    },
    {
      "cell_type": "code",
      "source": [
        "df.head(2)"
      ],
      "metadata": {
        "id": "-Imwn4eYmzod"
      },
      "execution_count": null,
      "outputs": []
    },
    {
      "cell_type": "code",
      "source": [
        "import seaborn as sns"
      ],
      "metadata": {
        "id": "5lBWJtLyKkBH"
      },
      "execution_count": null,
      "outputs": []
    },
    {
      "cell_type": "code",
      "source": [
        "sns.boxplot(x='Mfr Name',y='CombMPG',data = df)\n",
        "plt.show()"
      ],
      "metadata": {
        "id": "iEO01skRmrFU"
      },
      "execution_count": null,
      "outputs": []
    },
    {
      "cell_type": "markdown",
      "source": [
        "Como é possível observar, o gráfico ficou confuso, não é possível identificar o eixo x... Precisamos melhorar a apresentação desse gráfico. Vamos lá. "
      ],
      "metadata": {
        "id": "XaqeZLbmnS1q"
      }
    },
    {
      "cell_type": "markdown",
      "source": [
        "Como primeiro passo, vamos aumentar o tamanho do gráfico. Isso é feito pelo comando\n",
        "\n",
        "\n",
        "```\n",
        "plt.figure(figsize = (15,5))\n",
        "```\n",
        "\n",
        "onde:\n",
        "- 15 refere-se ao comprimento do gráfico\n",
        "- 5 refere-se à altura do gráfico\n"
      ],
      "metadata": {
        "id": "9GUJPvfZnkMN"
      }
    },
    {
      "cell_type": "code",
      "source": [
        ""
      ],
      "metadata": {
        "id": "_CMUsl-1va5l"
      },
      "execution_count": null,
      "outputs": []
    },
    {
      "cell_type": "markdown",
      "source": [
        "O tamanho agora do gráfico está adequado para apresentar o boxplot. Mas continuamos sem conseguir ler o eixo x. Uma solução é rotacionarmos o que está escrito no eixo x em 90$^o$. Isso é feito pelo código:\n",
        "\n",
        "\n",
        "```\n",
        "ax = sns.boxplot(x='Mfr Name',y='CombMPG',data = df)\n",
        "ax.set_xticklabels(ax.get_xticklabels(),rotation = 90)\n",
        "```\n",
        "\n",
        "onde o grau de rotação é especificado em *rotation*.\n",
        "\n"
      ],
      "metadata": {
        "id": "ORIWYYRbn7zb"
      }
    },
    {
      "cell_type": "code",
      "source": [
        ""
      ],
      "metadata": {
        "id": "jWlX8EJ0vdhH"
      },
      "execution_count": null,
      "outputs": []
    },
    {
      "cell_type": "code",
      "source": [
        ""
      ],
      "metadata": {
        "id": "AEWdd2t7vdQC"
      },
      "execution_count": null,
      "outputs": []
    },
    {
      "cell_type": "markdown",
      "source": [
        "Agora sim, temos um gráfico com boa apresentação. Vamos então analisá-lo."
      ],
      "metadata": {
        "id": "yCqlkIqMooM2"
      }
    },
    {
      "cell_type": "markdown",
      "source": [
        "Foram poucas as empresas que apresentaram outliers, entre elas estão:\n",
        "- General Motors\n",
        "- Ferrari\n",
        "- FCA US LLC\n",
        "- Jaguar\n",
        "- Merceded-Benz\n",
        "- Honda\n",
        "- Mitsubishi\n",
        "\n",
        "Vemos que a análise do carro produzido pela Rolls-Royce não é significativa, pois somente tem 1 carro produzido por ela. \n",
        "\n",
        "Os carros produzidor pela Volskagem e Toyota apresentam maior dispersão em relação ao atributo CombMPG, pois possuem maior IQR. Podemos ver que os carros da Volskagem não têm tanta simetria, diferentemente dos carros da Toyota que possuem mediana localizada no meio da caixa. \n",
        "\n",
        "\n"
      ],
      "metadata": {
        "id": "6bWbSc8bosFL"
      }
    },
    {
      "cell_type": "markdown",
      "source": [
        "Para salvar o gráfico usamos:\n",
        "\n",
        "\n",
        "\n",
        "```\n",
        "plt.savefig('nomeplot.png',dpi = 600, bbox_inches = 'tight')\n",
        "```\n",
        "onde:\n",
        "- 'nomeplot.png' --> é possível salvar em qualquer formato: jpg, png, tiff, pdf,...\n",
        "- dpi = 600 --> garante alta resolução\n",
        "- bbox_inches = 'tight' --> garante que todo o gráfico será salvo e nenhuma parte ficará cortada. é importante usar esse comando quando o tamanho default dos gráficos é alterado, como foi o caso. \n",
        "\n"
      ],
      "metadata": {
        "id": "C27sVSVDthx6"
      }
    },
    {
      "cell_type": "code",
      "source": [
        ""
      ],
      "metadata": {
        "id": "Gaxjxkc_vfft"
      },
      "execution_count": null,
      "outputs": []
    },
    {
      "cell_type": "code",
      "source": [
        ""
      ],
      "metadata": {
        "id": "pKhPQSrPvfYN"
      },
      "execution_count": null,
      "outputs": []
    },
    {
      "cell_type": "markdown",
      "source": [
        "## Exercício"
      ],
      "metadata": {
        "id": "uJYfvTOzuNm8"
      }
    },
    {
      "cell_type": "markdown",
      "source": [
        "Faça um diagrama de caixa utilizando os dados de *df*, mas dessa vez analisando a trasmissão (Transmission) e o combMPG."
      ],
      "metadata": {
        "id": "FHQADswquQgj"
      }
    },
    {
      "cell_type": "code",
      "source": [
        ""
      ],
      "metadata": {
        "id": "OhiAQvQdvgzR"
      },
      "execution_count": null,
      "outputs": []
    },
    {
      "cell_type": "markdown",
      "source": [
        "Existe um outro tipo de gráfico da biblioteca seaborn que de um modo mais simplificado que o boxplot mostra a dispersão dos dados em comparação com outros. Estou falando do *swarmplot*."
      ],
      "metadata": {
        "id": "I7t4L77KCc94"
      }
    },
    {
      "cell_type": "code",
      "source": [
        "plt.figure(figsize = (15,5))\n",
        "ax = sns.swarmplot(x='Mfr Name',y='CombMPG',data = df)\n",
        "ax.set_xticklabels(ax.get_xticklabels(),rotation = 90)\n",
        "#plt.savefig('BoxPlot.png',dpi = 600, bbox_inches = 'tight')\n",
        "plt.show()"
      ],
      "metadata": {
        "id": "FM2wHcI4Cob0"
      },
      "execution_count": null,
      "outputs": []
    },
    {
      "cell_type": "markdown",
      "source": [
        "Uma ferramenta interessante que pode ser usada no *swarmplot* é o *hue*, que serve para classificar os dados, vamos ver um exemplo. \n",
        "\n",
        "Vamos visualizar o swarmplot de Mfr Name e CombMPG, mas separando os dados de acordo com o número de cilindros (Cylinders)."
      ],
      "metadata": {
        "id": "N2P7m1DfCxvp"
      }
    },
    {
      "cell_type": "code",
      "source": [
        "plt.figure(figsize = (15,5))\n",
        "ax = sns.swarmplot(x='Mfr Name',y='CombMPG',data = df,hue = 'Cylinders')\n",
        "ax.set_xticklabels(ax.get_xticklabels(),rotation = 90)\n",
        "#plt.savefig('BoxPlot.png',dpi = 600, bbox_inches = 'tight')\n",
        "plt.show()"
      ],
      "metadata": {
        "id": "BzyjlFjGDHgF"
      },
      "execution_count": null,
      "outputs": []
    },
    {
      "cell_type": "markdown",
      "source": [
        "Podemos ver que existe uma relação entre o número de cilindro e o quanto os carros rodam na cidade e nas rodovias em milhas por galão. Isso é um padrão para todas as fabricantes. "
      ],
      "metadata": {
        "id": "AL4SoWz_DQU5"
      }
    },
    {
      "cell_type": "markdown",
      "source": [
        "<img src=\"https://github.com/amandalemette/images/blob/08d35cced043b815b96f25c6f7d256d075079944/BiMaster/logotipo.png?raw=true\"  width=1000 height=125 />"
      ],
      "metadata": {
        "id": "mdG-Od4qPynz"
      }
    },
    {
      "cell_type": "markdown",
      "source": [
        "# Aplicando Filtros\n",
        "\n",
        "Tem alguns jeitos de selecionar subconjuntos, utilizando o comando abaixo:"
      ],
      "metadata": {
        "id": "Q8W328uYJ6Gd"
      }
    },
    {
      "cell_type": "code",
      "source": [
        "df.head(2)"
      ],
      "metadata": {
        "id": "jGHvWq-CD_FH"
      },
      "execution_count": null,
      "outputs": []
    },
    {
      "cell_type": "markdown",
      "metadata": {
        "id": "uwpyDgfXJcvA"
      },
      "source": [
        "- Vamos selecionar todos os registros da base de dados que sigam os seguintes critérios:\n",
        "  - <code>'# Gears' = 5</code> "
      ]
    },
    {
      "cell_type": "code",
      "source": [
        ""
      ],
      "metadata": {
        "id": "RTHr3C5dvo1E"
      },
      "execution_count": null,
      "outputs": []
    },
    {
      "cell_type": "markdown",
      "source": [
        "## Indexação booleana "
      ],
      "metadata": {
        "id": "onVtobBvKG4i"
      }
    },
    {
      "cell_type": "code",
      "source": [
        ""
      ],
      "metadata": {
        "id": "T2PJGzv_vp1d"
      },
      "execution_count": null,
      "outputs": []
    },
    {
      "cell_type": "markdown",
      "metadata": {
        "id": "pKWuOYEhHLQA"
      },
      "source": [
        "- Vamos limitar ainda mais a nossa seleção. Vamos selecionar todos os registros da base de dados que sigam os seguintes critérios:\n",
        "  - <code>'# Gears' = 5</code> \n",
        "  - <code>'Mfr Name' = 'Nissan'</code> "
      ]
    },
    {
      "cell_type": "markdown",
      "source": [
        "Repare que ambas as condições PRECISAM ser atendidas. "
      ],
      "metadata": {
        "id": "HYsWiIGDEsAq"
      }
    },
    {
      "cell_type": "code",
      "source": [
        ""
      ],
      "metadata": {
        "id": "RZRt48UyvrSB"
      },
      "execution_count": null,
      "outputs": []
    },
    {
      "cell_type": "code",
      "source": [
        ""
      ],
      "metadata": {
        "id": "vy58gZcuvrKv"
      },
      "execution_count": null,
      "outputs": []
    },
    {
      "cell_type": "markdown",
      "source": [
        "Agora, se modificarmos o nosso critério e passarmos a considerar que apenas um dos dois critérios precisam ser atendidos?\n",
        "\n",
        "ou seja, vamos imprimir as linhas de df que tem carros com 5 marchas ou que os carros tenham sido produzidos pela empresa Nissan. "
      ],
      "metadata": {
        "id": "l6tJN6eZEyJ1"
      }
    },
    {
      "cell_type": "code",
      "source": [
        ""
      ],
      "metadata": {
        "id": "w5YVi7CQvsgj"
      },
      "execution_count": null,
      "outputs": []
    },
    {
      "cell_type": "code",
      "source": [
        ""
      ],
      "metadata": {
        "id": "XQg15Z3yvsZj"
      },
      "execution_count": null,
      "outputs": []
    },
    {
      "cell_type": "markdown",
      "metadata": {
        "id": "B-gShbXzHIUW"
      },
      "source": [
        "## Query\n",
        "\n",
        " Também podemos filtrar a base de dados por meio do método [<code>.query()</code>](https://pandas.pydata.org/docs/reference/api/pandas.DataFrame.query.html).**bold text**\n",
        "\n",
        " Observação: As queries em dataframes se assemelham com o que conhecemos das queries feitas em bancos de dados SQL."
      ]
    },
    {
      "cell_type": "markdown",
      "source": [
        "Contudo, para aplicar query() precisamos eliminar espaços em branco nos nomes das colunas de dataframe, se não a query() não irá funcionar. "
      ],
      "metadata": {
        "id": "diDSKAYtHxmW"
      }
    },
    {
      "cell_type": "markdown",
      "source": [
        "### Alteração de nome de coluna"
      ],
      "metadata": {
        "id": "igO0ni4VIkIo"
      }
    },
    {
      "cell_type": "markdown",
      "source": [
        "Vamos alterar os nomes das seguintes colunas de df:\n",
        "- '# Gears' para Gears\n",
        "- 'Mfr Name' para Mfr_Name\n",
        "\n",
        "Para fazer isso, usamos:\n",
        "\n",
        "\n",
        "\n",
        "```\n",
        "df = df.rename(columns={'oldName1': 'newName1', 'oldName2': 'newName2'})\n",
        "```\n",
        "\n"
      ],
      "metadata": {
        "id": "pq7gnGuNH65p"
      }
    },
    {
      "cell_type": "code",
      "source": [
        ""
      ],
      "metadata": {
        "id": "WA3gkWTUvuJA"
      },
      "execution_count": null,
      "outputs": []
    },
    {
      "cell_type": "code",
      "source": [
        ""
      ],
      "metadata": {
        "id": "KHId3wUGvvyu"
      },
      "execution_count": null,
      "outputs": []
    },
    {
      "cell_type": "markdown",
      "metadata": {
        "id": "mCyFijLNJvem"
      },
      "source": [
        "Vamos selecionar todos os registros da base de dados que sigam o seguinte critério (usando query):\n",
        "  - <code>'Gears' = 5</code> "
      ]
    },
    {
      "cell_type": "code",
      "source": [
        ""
      ],
      "metadata": {
        "id": "ktTnNtT0vwsY"
      },
      "execution_count": null,
      "outputs": []
    },
    {
      "cell_type": "markdown",
      "metadata": {
        "id": "mh_YOng2Jw9b"
      },
      "source": [
        "- Vamos limitar ainda mais a nossa seleção. Vamos selecionar todos os registros da base de dados que sigam os seguintes critérios:\n",
        "  - <code>'Gears' = 5</code> \n",
        "  - <code>'Mfr_Name' = 'Nissan'</code>\n",
        "\n",
        "Usando query =)"
      ]
    },
    {
      "cell_type": "code",
      "source": [
        ""
      ],
      "metadata": {
        "id": "poVYFH9svx0C"
      },
      "execution_count": null,
      "outputs": []
    },
    {
      "cell_type": "markdown",
      "source": [
        "Agora, vamos selecionar registro que respeitem ao menos uma das duas condições:"
      ],
      "metadata": {
        "id": "B6gBRYRWJZO7"
      }
    },
    {
      "cell_type": "code",
      "source": [
        ""
      ],
      "metadata": {
        "id": "nTNxzL2Mvyr0"
      },
      "execution_count": null,
      "outputs": []
    },
    {
      "cell_type": "markdown",
      "metadata": {
        "id": "hOL-OujRIrii"
      },
      "source": [
        "- **Algumas observações importantes**\n",
        "\n",
        "  - Reparem que a query foi feita por meio de uma string onde passamos os nomes das colunas e os valores correspondentes. \n",
        "  - Para colocar uma string dentro da outra reparem na utilização de dois tipos de string distintos. A sting da pesquisa utilizando aspas simples e o valor específico da coluna entre aspas duplas. "
      ]
    },
    {
      "cell_type": "markdown",
      "source": [
        "## Exercício"
      ],
      "metadata": {
        "id": "qMOEueWZJrBE"
      }
    },
    {
      "cell_type": "markdown",
      "source": [
        "Selecione usando \n",
        "1. indexação booleana\n",
        "2. query\n",
        "\n",
        "os registros que têm:\n",
        "\n",
        "\n",
        "```\n",
        "Transmission = 'Manual(M7)\n",
        "\n",
        "```\n",
        "ou \n",
        "\n",
        "\n",
        "```\n",
        "Eng displ > 6.0\n",
        "```\n",
        "\n",
        "\n"
      ],
      "metadata": {
        "id": "pK47BC_bJ2Nz"
      }
    },
    {
      "cell_type": "code",
      "source": [
        ""
      ],
      "metadata": {
        "id": "NdbTH0pVKmQP"
      },
      "execution_count": null,
      "outputs": []
    },
    {
      "cell_type": "code",
      "source": [
        ""
      ],
      "metadata": {
        "id": "sJmwzaMpKmBJ"
      },
      "execution_count": null,
      "outputs": []
    },
    {
      "cell_type": "markdown",
      "source": [
        "<img src=\"https://github.com/amandalemette/images/blob/08d35cced043b815b96f25c6f7d256d075079944/BiMaster/logotipo.png?raw=true\"  width=1000 height=125 />"
      ],
      "metadata": {
        "id": "ZvoU3zN_P4vz"
      }
    },
    {
      "cell_type": "markdown",
      "source": [
        "# Seleção de múltiplas colunas"
      ],
      "metadata": {
        "id": "IPtQdyZvLGkC"
      }
    },
    {
      "cell_type": "markdown",
      "source": [
        "Para fazer a seleção de múltiplas colunas do DataFrame, podemos utilizar o seguinte comando:\n",
        "\n",
        "\n",
        "```\n",
        "dataframe[[lista com nomes das colunas separadas por vígula]]\n",
        "```\n",
        "\n"
      ],
      "metadata": {
        "id": "OkEvHWC6KpGl"
      }
    },
    {
      "cell_type": "markdown",
      "source": [
        "Vamos selecionar as colunas: \n",
        "\n",
        "'Carline', 'HwyMPG' e 'Gears'"
      ],
      "metadata": {
        "id": "IaHi3SXsK2eu"
      }
    },
    {
      "cell_type": "code",
      "source": [
        ""
      ],
      "metadata": {
        "id": "0jrnEJ_Jv3iZ"
      },
      "execution_count": null,
      "outputs": []
    },
    {
      "cell_type": "markdown",
      "source": [
        "Vamos fazer o mesmo, mas agora fazendo referência à posição dessas colunas."
      ],
      "metadata": {
        "id": "kthmACYqLCEc"
      }
    },
    {
      "cell_type": "markdown",
      "source": [
        "Você tem alguma sugestão de como fazer isso?"
      ],
      "metadata": {
        "id": "9yoa2vBxLNaw"
      }
    },
    {
      "cell_type": "code",
      "source": [
        ""
      ],
      "metadata": {
        "id": "ES00AO8sv4lY"
      },
      "execution_count": null,
      "outputs": []
    },
    {
      "cell_type": "markdown",
      "source": [
        "<img src=\"https://github.com/amandalemette/images/blob/08d35cced043b815b96f25c6f7d256d075079944/BiMaster/logotipo.png?raw=true\"  width=1000 height=125 />"
      ],
      "metadata": {
        "id": "5W5qp238P7TQ"
      }
    },
    {
      "cell_type": "markdown",
      "source": [
        "# Agrupamentos"
      ],
      "metadata": {
        "id": "UVf64MDVKpRR"
      }
    },
    {
      "cell_type": "markdown",
      "source": [
        "Os conjuntos de dados raramente chegam às mãos de um Cientista de Dados da maneira que precisamos. As transformações são necessárias e as agregações são inevitáveis.\n",
        "\n",
        "É por isso que você deve usar [*groupby()*](https://pandas.pydata.org/docs/reference/api/pandas.DataFrame.groupby.html) para agregar seus dados e ser capaz de extrair os insights desejados deles.\n",
        "\n",
        "As agregações são necessárias para compactar os dados.\n",
        "\n"
      ],
      "metadata": {
        "id": "JL7X-NHLMF-w"
      }
    },
    {
      "cell_type": "markdown",
      "source": [
        "**Por que eu preciso olhar para 100 linhas da mesma categoria se eu posso agrupá-las e torná-las uma única, certo? Exceto em casos específicos, é o que costumamos fazer.**"
      ],
      "metadata": {
        "id": "bDBGSLzMMT9w"
      }
    },
    {
      "cell_type": "markdown",
      "source": [
        "Para agrupar o seu conjunto de dados devemos escolher a categoria, as colunas a serem agrupadas e a função de agregação."
      ],
      "metadata": {
        "id": "RVD_5MPaM7sS"
      }
    },
    {
      "cell_type": "markdown",
      "source": [
        "Vamos retornar ao nosso DataFrame df..."
      ],
      "metadata": {
        "id": "AS0TGLkHNBkQ"
      }
    },
    {
      "cell_type": "code",
      "source": [
        "df.head(2)"
      ],
      "metadata": {
        "id": "rvHrdli7v6SC"
      },
      "execution_count": null,
      "outputs": []
    },
    {
      "cell_type": "markdown",
      "source": [
        "Vamos considerar:\n",
        "- categoria: Mfr_Name\n",
        "- colunas a serem agrupadas: Eng Displ,\tCylinders, CombMPG,Gears\n",
        "- função de agregação: média"
      ],
      "metadata": {
        "id": "qgmkxT7zNLIy"
      }
    },
    {
      "cell_type": "code",
      "source": [
        ""
      ],
      "metadata": {
        "id": "dBK69cNNv8aY"
      },
      "execution_count": null,
      "outputs": []
    },
    {
      "cell_type": "markdown",
      "source": [
        "## Get_Groups"
      ],
      "metadata": {
        "id": "RtSf2MSKNFU2"
      }
    },
    {
      "cell_type": "markdown",
      "source": [
        "Podemos obter as informações de apenas um grupo por vez — note que isso tem o mesmo resultado que um conjunto de dados fatiado. Suponha que eu queira saber as informações sobre a empresa Toyota. Vamos dar uma olhada apenas nesse grupo."
      ],
      "metadata": {
        "id": "iXoxmCe1OGvQ"
      }
    },
    {
      "cell_type": "markdown",
      "source": [
        "Esse é um outro modo de aplicar filtro ao seu DataFrame. "
      ],
      "metadata": {
        "id": "UqUNJwuCOYb6"
      }
    },
    {
      "cell_type": "code",
      "source": [
        ""
      ],
      "metadata": {
        "id": "pCYaAoSqv-Mb"
      },
      "execution_count": null,
      "outputs": []
    },
    {
      "cell_type": "markdown",
      "source": [
        "## Exercício"
      ],
      "metadata": {
        "id": "sV7eqkW4OxHl"
      }
    },
    {
      "cell_type": "markdown",
      "source": [
        "Aplique o get_group para selecionar os registros que contém número de marcha (Gears) igual a 6."
      ],
      "metadata": {
        "id": "6WPrMUQ-Oy2n"
      }
    },
    {
      "cell_type": "code",
      "source": [
        ""
      ],
      "metadata": {
        "id": "jFiHDpuev_Qp"
      },
      "execution_count": null,
      "outputs": []
    },
    {
      "cell_type": "markdown",
      "source": [
        "## Get First, Last or Nth"
      ],
      "metadata": {
        "id": "7KMvFTPFPJmP"
      }
    },
    {
      "cell_type": "markdown",
      "source": [
        "Outros métodos que você pode usar com groupby são para obter um valor específico no grupo. Por exemplo, se eu quiser olhar cada primeira linha de cada grupo, ou a última ou a enésima linha, posso fazer isso usando o código abaixo.\n",
        "\n",
        "\n",
        "\n",
        "```\n",
        "# Primeira linha de cada grupo\n",
        "df.groupby('column').first()\n",
        "\n",
        "# Última linha de cada grupo\n",
        "df.groupby('column').last()\n",
        "\n",
        "# 2nda linha de cada grupo \n",
        "df.groupby('column').nth(1)\n",
        "```\n",
        "\n",
        "Vamos testar para a coluna Cylinders?\n",
        "\n"
      ],
      "metadata": {
        "id": "fEJVtp9HPLb5"
      }
    },
    {
      "cell_type": "code",
      "source": [
        ""
      ],
      "metadata": {
        "id": "zbhFV-E_wBI7"
      },
      "execution_count": null,
      "outputs": []
    },
    {
      "cell_type": "code",
      "source": [
        ""
      ],
      "metadata": {
        "id": "Un-lvhI8wBDV"
      },
      "execution_count": null,
      "outputs": []
    },
    {
      "cell_type": "code",
      "source": [
        ""
      ],
      "metadata": {
        "id": "ZLi5KFoJwA9T"
      },
      "execution_count": null,
      "outputs": []
    },
    {
      "cell_type": "code",
      "source": [
        ""
      ],
      "metadata": {
        "id": "nSkkqZXgwA1z"
      },
      "execution_count": null,
      "outputs": []
    },
    {
      "cell_type": "markdown",
      "source": [
        "Podemos usar o método first() combinado com sort_values() para obter o regsitro de carro por empresa que contém o maior número de cilindros."
      ],
      "metadata": {
        "id": "R3_pA5gJP6CE"
      }
    },
    {
      "cell_type": "code",
      "source": [
        ""
      ],
      "metadata": {
        "id": "eEz5oEgvwCZf"
      },
      "execution_count": null,
      "outputs": []
    },
    {
      "cell_type": "code",
      "source": [
        ""
      ],
      "metadata": {
        "id": "_S_F8mJPQIkv"
      },
      "execution_count": null,
      "outputs": []
    },
    {
      "cell_type": "markdown",
      "source": [
        "## Obtenha índices de cada entrada nos grupos"
      ],
      "metadata": {
        "id": "TUdSU9uAQbVi"
      }
    },
    {
      "cell_type": "markdown",
      "source": [
        "Outro recurso interessante é o atributo .groups. Ele retornará um dicionário com os índices de linha de cada valor naquele grupo. "
      ],
      "metadata": {
        "id": "E_t_ZRkgQdVd"
      }
    },
    {
      "cell_type": "code",
      "source": [
        ""
      ],
      "metadata": {
        "id": "TeSqllAzwDXb"
      },
      "execution_count": null,
      "outputs": []
    },
    {
      "cell_type": "markdown",
      "source": [
        "## Tamanho dos Grupos"
      ],
      "metadata": {
        "id": "TGvDKYOGQxlx"
      }
    },
    {
      "cell_type": "code",
      "source": [
        ""
      ],
      "metadata": {
        "id": "6iO6gzrGwEee"
      },
      "execution_count": null,
      "outputs": []
    },
    {
      "cell_type": "code",
      "source": [
        ""
      ],
      "metadata": {
        "id": "qnoZI8CuwEYc"
      },
      "execution_count": null,
      "outputs": []
    },
    {
      "cell_type": "markdown",
      "source": [
        "## Exercício"
      ],
      "metadata": {
        "id": "JG6WheejRkRH"
      }
    },
    {
      "cell_type": "markdown",
      "source": [
        "Com as informações acima, construa um gráfico de barras onde o eixo x contém os nomes das empresas que fabricam os carros (Mfr_Name) e o eixo y contém o número de registros por empresa. \n",
        "\n",
        "Dica: Para rotacionar os títulos do eixo x utilize:\n",
        "\n",
        "```\n",
        "plt.xticks(rotation=90)\n",
        "```\n",
        "\n"
      ],
      "metadata": {
        "id": "boBC5_M-Rmgt"
      }
    },
    {
      "cell_type": "code",
      "source": [
        ""
      ],
      "metadata": {
        "id": "9WsPfd_awRTu"
      },
      "execution_count": null,
      "outputs": []
    },
    {
      "cell_type": "markdown",
      "source": [
        "## Número de Grupos"
      ],
      "metadata": {
        "id": "vcxejZ5xR-A0"
      }
    },
    {
      "cell_type": "markdown",
      "source": [
        "Podemos ver qual é o número de empresas registradas em df:"
      ],
      "metadata": {
        "id": "qxOb0Rj3SD6q"
      }
    },
    {
      "cell_type": "code",
      "source": [
        ""
      ],
      "metadata": {
        "id": "VWH0r4G_wSnc"
      },
      "execution_count": null,
      "outputs": []
    },
    {
      "cell_type": "markdown",
      "source": [
        "Podemos ver também quais empresas são:"
      ],
      "metadata": {
        "id": "ILnQo-ATSJVD"
      }
    },
    {
      "cell_type": "code",
      "source": [
        ""
      ],
      "metadata": {
        "id": "YK4P2xl5SNnZ"
      },
      "execution_count": null,
      "outputs": []
    },
    {
      "cell_type": "markdown",
      "source": [
        "## Agregar colunas com diferentes agregadores"
      ],
      "metadata": {
        "id": "bT4B35JQSR9A"
      }
    },
    {
      "cell_type": "markdown",
      "source": [
        "Podemos agregar as colunas da maneira que quisermos apenas usando um dicionário e a sintaxe \n",
        "\n",
        "\n",
        "```\n",
        "{'column_name': 'func'}\n",
        "```\n",
        "\n",
        "\n"
      ],
      "metadata": {
        "id": "Pq9QU89uSroH"
      }
    },
    {
      "cell_type": "code",
      "source": [
        ""
      ],
      "metadata": {
        "id": "cIBnLm1mwU0h"
      },
      "execution_count": null,
      "outputs": []
    },
    {
      "cell_type": "markdown",
      "source": [
        "Em vez de média, podemos usar também:\n",
        "- sum\n",
        "- count\n",
        "- var\n",
        "- std"
      ],
      "metadata": {
        "id": "eqjkzjl2UXyG"
      }
    },
    {
      "cell_type": "code",
      "source": [
        ""
      ],
      "metadata": {
        "id": "Ov12WYdJwVtz"
      },
      "execution_count": null,
      "outputs": []
    },
    {
      "cell_type": "markdown",
      "source": [
        "Além de agregar por empresas (Mfr_Name), podemos agregar por trasmissão (Transmission):"
      ],
      "metadata": {
        "id": "AXI-AFmtUpoQ"
      }
    },
    {
      "cell_type": "code",
      "source": [
        ""
      ],
      "metadata": {
        "id": "tz9XJ9J6wWeN"
      },
      "execution_count": null,
      "outputs": []
    },
    {
      "cell_type": "markdown",
      "source": [
        "Vamos visualizar as 23 primeiras linhas do Dataframe anterior."
      ],
      "metadata": {
        "id": "tg2M0XT7VRoO"
      }
    },
    {
      "cell_type": "code",
      "source": [
        ""
      ],
      "metadata": {
        "id": "w5FA_pfWwXaT"
      },
      "execution_count": null,
      "outputs": []
    },
    {
      "cell_type": "markdown",
      "source": [
        "Vamos agregar o dataframe df de acordo com o tipo de transmissão, mas a função de agregação deverá ser a moda. Como fazer?"
      ],
      "metadata": {
        "id": "qcTJ1ja6WDXo"
      }
    },
    {
      "cell_type": "markdown",
      "source": [
        "Vamos considerar:\n",
        "- categoria: Mfr_Name\n",
        "- colunas a serem agrupadas: Eng Displ,\tCylinders, CombMPG,Gears\n",
        "- função de agregação: moda"
      ],
      "metadata": {
        "id": "CG3n4R0wWXFA"
      }
    },
    {
      "cell_type": "code",
      "source": [
        ""
      ],
      "metadata": {
        "id": "q_VvKtU0wYuk"
      },
      "execution_count": null,
      "outputs": []
    },
    {
      "cell_type": "markdown",
      "source": [
        "E com média e moda?"
      ],
      "metadata": {
        "id": "YHjVsJSrXGHe"
      }
    },
    {
      "cell_type": "code",
      "source": [
        ""
      ],
      "metadata": {
        "id": "x5GFAiBfwZou"
      },
      "execution_count": null,
      "outputs": []
    },
    {
      "cell_type": "markdown",
      "source": [
        "<img src=\"https://github.com/amandalemette/images/blob/08d35cced043b815b96f25c6f7d256d075079944/BiMaster/logotipo.png?raw=true\"  width=1000 height=125 />"
      ],
      "metadata": {
        "id": "AFqA-fE4QAM4"
      }
    },
    {
      "cell_type": "markdown",
      "source": [
        "# Exercício de revisão da aula 05"
      ],
      "metadata": {
        "id": "0gzsZ_VUYnQT"
      }
    },
    {
      "cell_type": "markdown",
      "source": [
        "Converta as colunas:\n",
        "\n",
        "- CityMPG\n",
        "- HwyMPG\n",
        "- CombMPG\n",
        "\n",
        "de milhas por galão para km por L.\n",
        "\n",
        "Use a seguinte conversão: 1 MPG = 0.425144 km/L\n",
        "\n",
        "Faça utilizando:\n",
        "1. map --> converta a coluna CityMPG\n",
        "2. apply --> converta coluna HwyMPG (utiliza função anônima) e CombMPG (utilize função convencional)"
      ],
      "metadata": {
        "id": "UFiYd7SUYq60"
      }
    },
    {
      "cell_type": "code",
      "source": [
        ""
      ],
      "metadata": {
        "id": "80Su8uV_wc7G"
      },
      "execution_count": null,
      "outputs": []
    },
    {
      "cell_type": "code",
      "source": [
        ""
      ],
      "metadata": {
        "id": "Ibovhslvwcv8"
      },
      "execution_count": null,
      "outputs": []
    },
    {
      "cell_type": "code",
      "source": [
        ""
      ],
      "metadata": {
        "id": "7zM3B95Xwcsu"
      },
      "execution_count": null,
      "outputs": []
    },
    {
      "cell_type": "code",
      "source": [
        ""
      ],
      "metadata": {
        "id": "Lw6s9ldIwcp6"
      },
      "execution_count": null,
      "outputs": []
    },
    {
      "cell_type": "code",
      "source": [
        ""
      ],
      "metadata": {
        "id": "FQmIE4ufwcmu"
      },
      "execution_count": null,
      "outputs": []
    },
    {
      "cell_type": "code",
      "source": [
        ""
      ],
      "metadata": {
        "id": "89PFORZZwciK"
      },
      "execution_count": null,
      "outputs": []
    },
    {
      "cell_type": "markdown",
      "source": [
        "<img src=\"https://github.com/amandalemette/images/blob/08d35cced043b815b96f25c6f7d256d075079944/BiMaster/logotipo.png?raw=true\"  width=1000 height=125 />"
      ],
      "metadata": {
        "id": "JbbcSq6IQD-O"
      }
    },
    {
      "cell_type": "markdown",
      "source": [
        "# Estudo de Caso"
      ],
      "metadata": {
        "id": "pJvdzZ_4XMe1"
      }
    },
    {
      "cell_type": "markdown",
      "source": [
        "As bases de dados\n",
        "- student-mat\n",
        "- student-por\n",
        "\n",
        "foram obtidas por uma pesquisa sobre os alunos que faziam as disciplinas de matemática e português do ensino médio. Essa base contém informação social, de gênero e de estudo sobre os alunos. \n",
        "\n",
        "Essa base de dados foi extraída do [Kaggle](https://www.kaggle.com/uciml/student-alcohol-consumption).\n",
        "\n",
        "Conteúdo:\n",
        "\n",
        "\n",
        "Os atributos para ambas as bases são: \n",
        "\n",
        "- school - student's school (binary: 'GP' - Gabriel Pereira or 'MS' - Mousinho da Silveira)\n",
        "- sex - student's sex (binary: 'F' - female or 'M' - male)\n",
        "- age - student's age (numeric: from 15 to 22)\n",
        "- address - student's home address type (binary: 'U' - urban or 'R' - rural)\n",
        "- famsize - family size (binary: 'LE3' - less or equal to 3 or 'GT3' - greater than 3)\n",
        "- Pstatus - parent's cohabitation status (binary: 'T' - living together or 'A' - apart)\n",
        "- Medu - mother's education (numeric: 0 - none, 1 - primary education (4th grade), 2 – 5th to 9th grade, 3 – secondary education or 4 – higher education)\n",
        "- Fedu - father's education (numeric: 0 - none, 1 - primary education (4th grade), 2 – 5th to 9th grade, 3 – secondary education or 4 – higher education)\n",
        "- Mjob - mother's job (nominal: 'teacher', 'health' care related, civil 'services' (e.g. administrative or police), 'at_home' or 'other')\n",
        "- Fjob - father's job (nominal: 'teacher', 'health' care related, civil 'services' (e.g. administrative or police), 'at_home' or 'other')\n",
        "reason - reason to choose this school (nominal: close to 'home', school 'reputation', 'course' preference or 'other')\n",
        "guardian - student's guardian (nominal: 'mother', 'father' or 'other')\n",
        "- traveltime - home to school travel time (numeric: 1 - <15 min., 2 - 15 to 30 min., 3 - 30 min. to 1 hour, or 4 - >1 hour)\n",
        "- studytime - weekly study time (numeric: 1 - <2 hours, 2 - 2 to 5 hours, 3 - 5 to 10 hours, or 4 - >10 hours)\n",
        "- failures - number of past class failures (numeric: n if 1<=n<3, else 4)\n",
        "- schoolsup - extra educational support (binary: yes or no)\n",
        "- famsup - family educational support (binary: yes or no)\n",
        "paid - extra paid classes within the course subject (Math or Portuguese) (binary: yes or no)\n",
        "- activities - extra-curricular activities (binary: yes or no)\n",
        "- nursery - attended nursery school (binary: yes or no)\n",
        "- higher - wants to take higher education (binary: yes or no)\n",
        "- internet - Internet access at home (binary: yes or no)\n",
        "- romantic - with a romantic relationship (binary: yes or no)\n",
        "- famrel - quality of family relationships (numeric: from 1 - very bad to 5 - excellent)\n",
        "- freetime - free time after school (numeric: from 1 - very - low to 5 - very high)\n",
        "- goout - going out with friends (numeric: from 1 - very low to 5 - very high)\n",
        "- Dalc - workday alcohol consumption (numeric: from 1 - very low to 5 - very high)\n",
        "- Walc - weekend alcohol consumption (numeric: from 1 - very low to 5 - very high)\n",
        "- health - current health status (numeric: from 1 - very bad to 5 - very good)\n",
        "- absences - number of school absences (numeric: from 0 to 93)\n",
        "\n",
        "As notas são relacionadas aos cursos:\n",
        "\n",
        "- G1 - first period grade (numeric: from 0 to 20)\n",
        "- G2 - second period grade (numeric: from 0 to 20)\n",
        "- G3 - final grade (numeric: from 0 to 20, output target)\n",
        "\n",
        "informação adicional: existem alunos que frequentam ambas as classes e eles podem ser identificados procurando atributos idênticos. \n"
      ],
      "metadata": {
        "id": "1fJV2VcebpZJ"
      }
    },
    {
      "cell_type": "markdown",
      "source": [
        "## 1. Leia os 2 arquivos csv e crie um único DataFrame com  eles."
      ],
      "metadata": {
        "id": "DS6rEV6Kct-o"
      }
    },
    {
      "cell_type": "code",
      "source": [
        ""
      ],
      "metadata": {
        "id": "jBwwrbgrwnJX"
      },
      "execution_count": null,
      "outputs": []
    },
    {
      "cell_type": "code",
      "source": [
        ""
      ],
      "metadata": {
        "id": "hnzv5SuownEV"
      },
      "execution_count": null,
      "outputs": []
    },
    {
      "cell_type": "markdown",
      "source": [
        "## 2. Identifique se existem dados faltantes no DataFrame."
      ],
      "metadata": {
        "id": "TLKPnXxBEudo"
      }
    },
    {
      "cell_type": "code",
      "source": [
        ""
      ],
      "metadata": {
        "id": "BWziMOQdwoID"
      },
      "execution_count": null,
      "outputs": []
    },
    {
      "cell_type": "code",
      "source": [
        ""
      ],
      "metadata": {
        "id": "AKq3GveFwoAL"
      },
      "execution_count": null,
      "outputs": []
    },
    {
      "cell_type": "markdown",
      "source": [
        "## 3. Quantos alunos cursam a disciplina de matemática e quantos cursam português? Faça um gráfico de pizza representando esses dois grupos. "
      ],
      "metadata": {
        "id": "VAHXVUVaG33k"
      }
    },
    {
      "cell_type": "code",
      "source": [
        ""
      ],
      "metadata": {
        "id": "PeCUi8G4wpWW"
      },
      "execution_count": null,
      "outputs": []
    },
    {
      "cell_type": "code",
      "source": [
        ""
      ],
      "metadata": {
        "id": "Vio9fO7jwpQr"
      },
      "execution_count": null,
      "outputs": []
    },
    {
      "cell_type": "markdown",
      "source": [
        "## 4. Agrupe df de acordo com o tipo de classe \n",
        "\n",
        "- categoria: Class e sex\n",
        "- colunas a serem agrupadas: age, studytime, traveltime\n",
        "- função de agregação (em ordem): média"
      ],
      "metadata": {
        "id": "k1n_upytH2OJ"
      }
    },
    {
      "cell_type": "code",
      "source": [
        ""
      ],
      "metadata": {
        "id": "9aXJFqaWwqSQ"
      },
      "execution_count": null,
      "outputs": []
    },
    {
      "cell_type": "code",
      "source": [
        ""
      ],
      "metadata": {
        "id": "lfPrJcx-wqLZ"
      },
      "execution_count": null,
      "outputs": []
    },
    {
      "cell_type": "markdown",
      "source": [
        "## 5. Os alunos que obtiveram maiores notas ((G1+G2+G3)/3) foram os que tiveram menos tempo livre em ambas as turmas?"
      ],
      "metadata": {
        "id": "sawvGLiHItfv"
      }
    },
    {
      "cell_type": "code",
      "source": [
        ""
      ],
      "metadata": {
        "id": "WFLR62rrwrzd"
      },
      "execution_count": null,
      "outputs": []
    },
    {
      "cell_type": "code",
      "source": [
        ""
      ],
      "metadata": {
        "id": "YP-PjCuhwrq-"
      },
      "execution_count": null,
      "outputs": []
    },
    {
      "cell_type": "markdown",
      "source": [
        "## 5. Os alunos que tiraram as maiores notas em ambas as turmas foram homens ou mulheres?"
      ],
      "metadata": {
        "id": "FjERyNrhLRoG"
      }
    },
    {
      "cell_type": "code",
      "source": [
        ""
      ],
      "metadata": {
        "id": "LHL7yYerws_Y"
      },
      "execution_count": null,
      "outputs": []
    },
    {
      "cell_type": "code",
      "source": [
        ""
      ],
      "metadata": {
        "id": "rJVBcKqQws7V"
      },
      "execution_count": null,
      "outputs": []
    },
    {
      "cell_type": "markdown",
      "source": [
        "## 6. O aluno (F ou M) que obteve a nota mais baixa veio de qual escola (GP ou MS)? "
      ],
      "metadata": {
        "id": "WdbH4ciSNSOl"
      }
    },
    {
      "cell_type": "code",
      "source": [
        ""
      ],
      "metadata": {
        "id": "ZGzlMSLYwuUS"
      },
      "execution_count": null,
      "outputs": []
    },
    {
      "cell_type": "code",
      "source": [
        ""
      ],
      "metadata": {
        "id": "0Mk97h1GwuNK"
      },
      "execution_count": null,
      "outputs": []
    },
    {
      "cell_type": "code",
      "source": [
        ""
      ],
      "metadata": {
        "id": "5k48W00LOUr9"
      },
      "execution_count": null,
      "outputs": []
    },
    {
      "cell_type": "markdown",
      "source": [
        "## 7. Faça um diagrama de caixa com essa base de dados. "
      ],
      "metadata": {
        "id": "noSm32gMOfhw"
      }
    },
    {
      "cell_type": "code",
      "source": [
        ""
      ],
      "metadata": {
        "id": "dRqy3b2hwv-6"
      },
      "execution_count": null,
      "outputs": []
    },
    {
      "cell_type": "code",
      "source": [
        ""
      ],
      "metadata": {
        "id": "B2tBPZJtOx0U"
      },
      "execution_count": null,
      "outputs": []
    }
  ]
}