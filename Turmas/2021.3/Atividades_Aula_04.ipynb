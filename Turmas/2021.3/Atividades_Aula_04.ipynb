{
  "nbformat": 4,
  "nbformat_minor": 0,
  "metadata": {
    "colab": {
      "name": "Atividades_Aula_04.ipynb",
      "provenance": [],
      "collapsed_sections": [],
      "toc_visible": true
    },
    "kernelspec": {
      "name": "python3",
      "display_name": "Python 3"
    },
    "language_info": {
      "name": "python"
    }
  },
  "cells": [
    {
      "cell_type": "markdown",
      "source": [
        "<img src=\"https://github.com/jupotratz/Python_BI_Master/blob/main/Imagens/logotipo.png?raw=true\"  width=1000 height=125 />"
      ],
      "metadata": {
        "id": "RtT51jsP3gUP"
      }
    },
    {
      "cell_type": "markdown",
      "source": [
        "# Professoras\n",
        "\n",
        " - Amanda Lemette \n",
        "\t - prof.amanda@ica.ele.puc-rio.br\n",
        "\t - [Linkedin](https://www.linkedin.com/in/amanda-lemette-brand%C3%A3o-83280918b)\n",
        "   - [Youtube](https://www.youtube.com/c/AmandaLemette/featured)\n",
        "   \n",
        " - Júlia Potratz\n",
        "\t - prof.julia@ica.ele.puc-rio.br\n",
        "\t - [Linkedin](https://www.linkedin.com/in/julia-potratz)\n",
        "\n",
        "- Manoela Koehler\n",
        "     - prof.manoela@ica.ele.puc-rio.br\n",
        "     - [Linkedin](https://www.linkedin.com/in/manoelakohler/)\n",
        "\n",
        "     \n",
        "# Material \n",
        "\n",
        "Repositório no GitHub: [Python_BI_Master](https://github.com/jupotratz/Python_BI_Master)\n"
      ],
      "metadata": {
        "id": "0O447dUW3n-e"
      }
    },
    {
      "cell_type": "markdown",
      "source": [
        "<img src=\"https://github.com/jupotratz/Python_BI_Master/blob/main/Imagens/logotipo.png?raw=true\"  width=1000 height=125 />"
      ],
      "metadata": {
        "id": "7uH9Eg9T3sWh"
      }
    },
    {
      "cell_type": "markdown",
      "source": [
        "# Adição de nova linha no DataFrame"
      ],
      "metadata": {
        "id": "MzpX9Tf-3fgf"
      }
    },
    {
      "cell_type": "markdown",
      "source": [
        "Na nossa aula, vimos como se faz a adição de nova linha no DataFrame utilizando o comando .loc(). Nas imagens a seguir, podemos ver outras duas estratégias possíveis para fazer a mesma ação. "
      ],
      "metadata": {
        "id": "Hlw1i9RZ3zUu"
      }
    },
    {
      "cell_type": "markdown",
      "source": [
        "<center><img src=\"https://github.com/jupotratz/Python_BI_Master/blob/d87e3b0470a04634494dc2cbda96c513305a4f21/Imagens/dic_append.png?raw=true\"  width=700 height=400 />"
      ],
      "metadata": {
        "id": "2st6GCAh3cwQ"
      }
    },
    {
      "cell_type": "markdown",
      "source": [
        "<center><img src=\"https://github.com/jupotratz/Python_BI_Master/blob/61cb179eaae97a395b2b870814d80fe7650f04c2/Imagens/DF_append.png?raw=true\"  width=800 height=400 />"
      ],
      "metadata": {
        "id": "Oi2oX81E9gKn"
      }
    },
    {
      "cell_type": "markdown",
      "source": [
        "O *ignore_index=True* irá ignorar o index do novo dataframe e atribuir-lhes um novo índice no dataframe original."
      ],
      "metadata": {
        "id": "os6AzzGf90Kx"
      }
    },
    {
      "cell_type": "markdown",
      "source": [
        "# Atividade 1"
      ],
      "metadata": {
        "id": "2GoP_d909_y0"
      }
    },
    {
      "cell_type": "markdown",
      "source": [
        "Dado o DataFrame a seguir, escolha uma das abordagens mostradas acima para resolver os próximos itens."
      ],
      "metadata": {
        "id": "MJQFLKTt-Bqo"
      }
    },
    {
      "cell_type": "code",
      "source": [
        "import pandas as pd"
      ],
      "metadata": {
        "id": "xDhDZVd77HrV"
      },
      "execution_count": 1,
      "outputs": []
    },
    {
      "cell_type": "code",
      "source": [
        "df = pd.DataFrame({'Nome':['Robby','Pipoca','Milho','Zulu','Arroz'],'Idade':[5,1,1,3,8],'Animal':['cachorro','papagaio','gato','cachorro','jabuti']})"
      ],
      "metadata": {
        "id": "8I63BION-TAR"
      },
      "execution_count": 2,
      "outputs": []
    },
    {
      "cell_type": "code",
      "source": [
        "df"
      ],
      "metadata": {
        "id": "U0EFurcD-rI1"
      },
      "execution_count": null,
      "outputs": []
    },
    {
      "cell_type": "markdown",
      "source": [
        "- Acrescente a seguinte informação ao dataframe df:\n",
        "\n",
        "\n",
        "\n",
        "```\n",
        "[Azevedo,4,gato]\n",
        "[Omar, 10, cachorro]\n",
        "```\n",
        "\n"
      ],
      "metadata": {
        "id": "At5TTppC-tQ3"
      }
    },
    {
      "cell_type": "code",
      "source": [
        ""
      ],
      "metadata": {
        "id": "uNEMPaLv-rss"
      },
      "execution_count": null,
      "outputs": []
    },
    {
      "cell_type": "markdown",
      "source": [
        "- Acrescente uma nova linha em df utilizando o LOC:\n",
        "\n",
        "\n",
        "\n",
        "```\n",
        "[Pituca, 12, cachorro]\n",
        "```\n",
        "\n"
      ],
      "metadata": {
        "id": "TiWMQdD0Aeb3"
      }
    },
    {
      "cell_type": "code",
      "source": [
        ""
      ],
      "metadata": {
        "id": "uOTF1AmX_AAT"
      },
      "execution_count": null,
      "outputs": []
    },
    {
      "cell_type": "markdown",
      "source": [
        "# Atividade 2"
      ],
      "metadata": {
        "id": "v061oMkn_A9V"
      }
    },
    {
      "cell_type": "markdown",
      "source": [
        "Dado o dataframe df (mesmo do exercicio anterior), responda os itens a seguir."
      ],
      "metadata": {
        "id": "MCTsOKZy_Y9E"
      }
    },
    {
      "cell_type": "code",
      "source": [
        "df"
      ],
      "metadata": {
        "colab": {
          "base_uri": "https://localhost:8080/",
          "height": 204
        },
        "id": "I8hUfNTp_fcR",
        "outputId": "9f211531-f95e-4679-9889-fd4a71add372"
      },
      "execution_count": 4,
      "outputs": [
        {
          "output_type": "execute_result",
          "data": {
            "text/html": [
              "\n",
              "  <div id=\"df-202f8e89-0ec2-4791-b43e-72ed77a4926b\">\n",
              "    <div class=\"colab-df-container\">\n",
              "      <div>\n",
              "<style scoped>\n",
              "    .dataframe tbody tr th:only-of-type {\n",
              "        vertical-align: middle;\n",
              "    }\n",
              "\n",
              "    .dataframe tbody tr th {\n",
              "        vertical-align: top;\n",
              "    }\n",
              "\n",
              "    .dataframe thead th {\n",
              "        text-align: right;\n",
              "    }\n",
              "</style>\n",
              "<table border=\"1\" class=\"dataframe\">\n",
              "  <thead>\n",
              "    <tr style=\"text-align: right;\">\n",
              "      <th></th>\n",
              "      <th>Nome</th>\n",
              "      <th>Idade</th>\n",
              "      <th>Animal</th>\n",
              "    </tr>\n",
              "  </thead>\n",
              "  <tbody>\n",
              "    <tr>\n",
              "      <th>0</th>\n",
              "      <td>Robby</td>\n",
              "      <td>5</td>\n",
              "      <td>cachorro</td>\n",
              "    </tr>\n",
              "    <tr>\n",
              "      <th>1</th>\n",
              "      <td>Pipoca</td>\n",
              "      <td>1</td>\n",
              "      <td>papagaio</td>\n",
              "    </tr>\n",
              "    <tr>\n",
              "      <th>2</th>\n",
              "      <td>Milho</td>\n",
              "      <td>1</td>\n",
              "      <td>gato</td>\n",
              "    </tr>\n",
              "    <tr>\n",
              "      <th>3</th>\n",
              "      <td>Zulu</td>\n",
              "      <td>3</td>\n",
              "      <td>cachorro</td>\n",
              "    </tr>\n",
              "    <tr>\n",
              "      <th>4</th>\n",
              "      <td>Arroz</td>\n",
              "      <td>8</td>\n",
              "      <td>jabuti</td>\n",
              "    </tr>\n",
              "  </tbody>\n",
              "</table>\n",
              "</div>\n",
              "      <button class=\"colab-df-convert\" onclick=\"convertToInteractive('df-202f8e89-0ec2-4791-b43e-72ed77a4926b')\"\n",
              "              title=\"Convert this dataframe to an interactive table.\"\n",
              "              style=\"display:none;\">\n",
              "        \n",
              "  <svg xmlns=\"http://www.w3.org/2000/svg\" height=\"24px\"viewBox=\"0 0 24 24\"\n",
              "       width=\"24px\">\n",
              "    <path d=\"M0 0h24v24H0V0z\" fill=\"none\"/>\n",
              "    <path d=\"M18.56 5.44l.94 2.06.94-2.06 2.06-.94-2.06-.94-.94-2.06-.94 2.06-2.06.94zm-11 1L8.5 8.5l.94-2.06 2.06-.94-2.06-.94L8.5 2.5l-.94 2.06-2.06.94zm10 10l.94 2.06.94-2.06 2.06-.94-2.06-.94-.94-2.06-.94 2.06-2.06.94z\"/><path d=\"M17.41 7.96l-1.37-1.37c-.4-.4-.92-.59-1.43-.59-.52 0-1.04.2-1.43.59L10.3 9.45l-7.72 7.72c-.78.78-.78 2.05 0 2.83L4 21.41c.39.39.9.59 1.41.59.51 0 1.02-.2 1.41-.59l7.78-7.78 2.81-2.81c.8-.78.8-2.07 0-2.86zM5.41 20L4 18.59l7.72-7.72 1.47 1.35L5.41 20z\"/>\n",
              "  </svg>\n",
              "      </button>\n",
              "      \n",
              "  <style>\n",
              "    .colab-df-container {\n",
              "      display:flex;\n",
              "      flex-wrap:wrap;\n",
              "      gap: 12px;\n",
              "    }\n",
              "\n",
              "    .colab-df-convert {\n",
              "      background-color: #E8F0FE;\n",
              "      border: none;\n",
              "      border-radius: 50%;\n",
              "      cursor: pointer;\n",
              "      display: none;\n",
              "      fill: #1967D2;\n",
              "      height: 32px;\n",
              "      padding: 0 0 0 0;\n",
              "      width: 32px;\n",
              "    }\n",
              "\n",
              "    .colab-df-convert:hover {\n",
              "      background-color: #E2EBFA;\n",
              "      box-shadow: 0px 1px 2px rgba(60, 64, 67, 0.3), 0px 1px 3px 1px rgba(60, 64, 67, 0.15);\n",
              "      fill: #174EA6;\n",
              "    }\n",
              "\n",
              "    [theme=dark] .colab-df-convert {\n",
              "      background-color: #3B4455;\n",
              "      fill: #D2E3FC;\n",
              "    }\n",
              "\n",
              "    [theme=dark] .colab-df-convert:hover {\n",
              "      background-color: #434B5C;\n",
              "      box-shadow: 0px 1px 3px 1px rgba(0, 0, 0, 0.15);\n",
              "      filter: drop-shadow(0px 1px 2px rgba(0, 0, 0, 0.3));\n",
              "      fill: #FFFFFF;\n",
              "    }\n",
              "  </style>\n",
              "\n",
              "      <script>\n",
              "        const buttonEl =\n",
              "          document.querySelector('#df-202f8e89-0ec2-4791-b43e-72ed77a4926b button.colab-df-convert');\n",
              "        buttonEl.style.display =\n",
              "          google.colab.kernel.accessAllowed ? 'block' : 'none';\n",
              "\n",
              "        async function convertToInteractive(key) {\n",
              "          const element = document.querySelector('#df-202f8e89-0ec2-4791-b43e-72ed77a4926b');\n",
              "          const dataTable =\n",
              "            await google.colab.kernel.invokeFunction('convertToInteractive',\n",
              "                                                     [key], {});\n",
              "          if (!dataTable) return;\n",
              "\n",
              "          const docLinkHtml = 'Like what you see? Visit the ' +\n",
              "            '<a target=\"_blank\" href=https://colab.research.google.com/notebooks/data_table.ipynb>data table notebook</a>'\n",
              "            + ' to learn more about interactive tables.';\n",
              "          element.innerHTML = '';\n",
              "          dataTable['output_type'] = 'display_data';\n",
              "          await google.colab.output.renderOutput(dataTable, element);\n",
              "          const docLink = document.createElement('div');\n",
              "          docLink.innerHTML = docLinkHtml;\n",
              "          element.appendChild(docLink);\n",
              "        }\n",
              "      </script>\n",
              "    </div>\n",
              "  </div>\n",
              "  "
            ],
            "text/plain": [
              "     Nome  Idade    Animal\n",
              "0   Robby      5  cachorro\n",
              "1  Pipoca      1  papagaio\n",
              "2   Milho      1      gato\n",
              "3    Zulu      3  cachorro\n",
              "4   Arroz      8    jabuti"
            ]
          },
          "metadata": {},
          "execution_count": 4
        }
      ]
    },
    {
      "cell_type": "markdown",
      "source": [
        "- Imprima a palavra papagaio de df."
      ],
      "metadata": {
        "id": "G0_cs0RJ_eHG"
      }
    },
    {
      "cell_type": "code",
      "source": [
        ""
      ],
      "metadata": {
        "id": "fxwSUNMp_Cc6"
      },
      "execution_count": null,
      "outputs": []
    },
    {
      "cell_type": "markdown",
      "source": [
        "- Imprima a linha com índice 1 de df."
      ],
      "metadata": {
        "id": "ZcTPAUzn_lrZ"
      }
    },
    {
      "cell_type": "code",
      "source": [
        ""
      ],
      "metadata": {
        "id": "PsMuDBbt_oll"
      },
      "execution_count": null,
      "outputs": []
    },
    {
      "cell_type": "markdown",
      "source": [
        "- Ordene em ordem crescente por idade o dataframe df."
      ],
      "metadata": {
        "id": "KWEQBjPg_x_-"
      }
    },
    {
      "cell_type": "code",
      "source": [
        ""
      ],
      "metadata": {
        "id": "QrcR0t3C_yUV"
      },
      "execution_count": null,
      "outputs": []
    },
    {
      "cell_type": "markdown",
      "source": [
        "- Atualize os índices de df após a ordenação eliminando os índices antigos. "
      ],
      "metadata": {
        "id": "jsbh0xfx_8Wp"
      }
    },
    {
      "cell_type": "code",
      "source": [
        ""
      ],
      "metadata": {
        "id": "dqpg8iUdACJX"
      },
      "execution_count": null,
      "outputs": []
    },
    {
      "cell_type": "markdown",
      "source": [
        "- Troque a coluna de índices de df por:\n",
        "\n",
        "\n",
        "\n",
        "```\n",
        "[linha 0, linha 1, linha 2, ...]\n",
        "```\n",
        "\n"
      ],
      "metadata": {
        "id": "S75pNKH5_pwO"
      }
    },
    {
      "cell_type": "markdown",
      "source": [
        "- Utilizando loc, imprima a palavra jabuti de df."
      ],
      "metadata": {
        "id": "uKVl0S1kADpj"
      }
    },
    {
      "cell_type": "code",
      "source": [
        ""
      ],
      "metadata": {
        "id": "FAJoHGkg_wds"
      },
      "execution_count": null,
      "outputs": []
    },
    {
      "cell_type": "markdown",
      "source": [
        "- Acrescente a coluna Vacinação em dia em df. Forneça as respostas para cada animal conforme sua escolha, as respostas devem ser:\n",
        "\n",
        "\n",
        "\n",
        "1.   SIM\n",
        "2.   NAO\n",
        "\n"
      ],
      "metadata": {
        "id": "9SIhZeW0AK9Z"
      }
    },
    {
      "cell_type": "code",
      "source": [
        ""
      ],
      "metadata": {
        "id": "Kp4nYinVAYSv"
      },
      "execution_count": null,
      "outputs": []
    },
    {
      "cell_type": "markdown",
      "source": [
        "- Ordene as colunas de df na seguinte ordem:\n",
        "\n",
        "\n",
        "\n",
        "```\n",
        "Nome - Vacinação em dia - Animal - Idade\n",
        "```\n",
        "\n"
      ],
      "metadata": {
        "id": "b0AMDlm5ApzP"
      }
    },
    {
      "cell_type": "code",
      "source": [
        ""
      ],
      "metadata": {
        "id": "9ZdX1kY5AuV_"
      },
      "execution_count": null,
      "outputs": []
    },
    {
      "cell_type": "markdown",
      "source": [
        "# Atividade 3"
      ],
      "metadata": {
        "id": "s4j-L_3ZA4uq"
      }
    },
    {
      "cell_type": "markdown",
      "source": [
        "Desenvolva uma função que receba dois números como variáveis de entrada. Essa função irá retornar a informação de que o primeiro número é ou não é múltiplo do segundo número através de: \n",
        "- True \n",
        "- False\n",
        "Exemplo:\n",
        "\n",
        "```\n",
        "Verifica(10,2)\n",
        ">>  TRUE\n",
        "```\n",
        "\n",
        " \n",
        "\n"
      ],
      "metadata": {
        "id": "TyRu-_jjBDsu"
      }
    },
    {
      "cell_type": "code",
      "source": [
        ""
      ],
      "metadata": {
        "id": "RzQlkEPAA6F1"
      },
      "execution_count": null,
      "outputs": []
    },
    {
      "cell_type": "markdown",
      "source": [
        "# Atividade 4"
      ],
      "metadata": {
        "id": "ZimTMlWzCDW-"
      }
    },
    {
      "cell_type": "markdown",
      "source": [
        "Em relação à função da atividade 3, modifique essa função de modo que se o número 1 for múltiplo do segundo número, a função além de retornar TRUE ela irá retornar o resultado da operação do número 1 dividido pelo número 2. "
      ],
      "metadata": {
        "id": "HJRlIk5eCFtR"
      }
    },
    {
      "cell_type": "code",
      "source": [
        ""
      ],
      "metadata": {
        "id": "5x79RlF6CExn"
      },
      "execution_count": null,
      "outputs": []
    },
    {
      "cell_type": "markdown",
      "source": [
        "# Atividade 5"
      ],
      "metadata": {
        "id": "qqtbhrRJCSvy"
      }
    },
    {
      "cell_type": "markdown",
      "source": [
        "Atualize mais uma vez a função da atividade 4, acrescentando a informação de que se o número não for múltiplo, a função irá retornar FALSE e também o resultado do num1 / num2 que não será um número inteiro. "
      ],
      "metadata": {
        "id": "zurzQLC-CVcD"
      }
    },
    {
      "cell_type": "code",
      "source": [
        ""
      ],
      "metadata": {
        "id": "rgy8HuMRCUIg"
      },
      "execution_count": null,
      "outputs": []
    },
    {
      "cell_type": "markdown",
      "source": [
        "# Atividade 6"
      ],
      "metadata": {
        "id": "SBnB3tLSCz3y"
      }
    },
    {
      "cell_type": "markdown",
      "source": [
        "Retorne à função desenvolvida na atividade 3 e a reescreva como função anônima. "
      ],
      "metadata": {
        "id": "9Mns9k0mC12U"
      }
    },
    {
      "cell_type": "code",
      "source": [
        ""
      ],
      "metadata": {
        "id": "2SFuDM--C031"
      },
      "execution_count": null,
      "outputs": []
    },
    {
      "cell_type": "markdown",
      "source": [
        "# Atividade 7"
      ],
      "metadata": {
        "id": "4W6VbXAEC9os"
      }
    },
    {
      "cell_type": "markdown",
      "source": [
        "Uma clínica de dermatologia está iniciando o cadastro de clientes. Nesse cadastro, as seguintes informações são salvas:\n",
        "\n",
        "- Nome completo\n",
        "- Idade\n",
        "- Bairro residencial\n",
        "- Celular\n",
        "- CPF\n",
        "\n",
        "Desenvolva um programa que intereja com o usuário de modo a guardar essas informações automaticamente. "
      ],
      "metadata": {
        "id": "7zG8Miu0DAgZ"
      }
    },
    {
      "cell_type": "code",
      "source": [
        ""
      ],
      "metadata": {
        "id": "PSQKd1MTC-y0"
      },
      "execution_count": null,
      "outputs": []
    }
  ]
}