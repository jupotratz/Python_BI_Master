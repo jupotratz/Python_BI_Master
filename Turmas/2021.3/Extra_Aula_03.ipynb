{
 "cells": [
  {
   "cell_type": "markdown",
   "metadata": {
    "id": "80btK5XbwZYO"
   },
   "source": [
    "<img src=\"https://github.com/jupotratz/Python_BI_Master/blob/main/Turmas/2021.3/Imagens/sep.png?raw=true\"  width=1000 height=125 />"
   ]
  },
  {
   "cell_type": "markdown",
   "metadata": {
    "id": "QzcePa9W8N_Y"
   },
   "source": [
    "# Professoras\n",
    "\n",
    " - Amanda Lemette \n",
    "\t - prof.amanda@ica.ele.puc-rio.br\n",
    "\t - [Linkedin](https://www.linkedin.com/in/amanda-lemette-brand%C3%A3o-83280918b)\n",
    "   - [Youtube](https://www.youtube.com/c/AmandaLemette/featured)\n",
    "   \n",
    " - Júlia Potratz\n",
    "\t - prof.julia@ica.ele.puc-rio.br\n",
    "\t - [Linkedin](https://www.linkedin.com/in/julia-potratz)\n",
    "     \n",
    "# Material \n",
    "\n",
    "Repositório no GitHub: [Python_BI_Master](https://github.com/jupotratz/Python_BI_Master)\n",
    "\n",
    "\n",
    "# Extra - Aula 3\n",
    "\n",
    "Esse talk será dado no dia 12/11/2021\n",
    "\n",
    "- **Plano de aula:**\n",
    "\t- Vetores\n",
    "         - Uso da biblioteca Numpy\n",
    "         - Declaração de vetores\n",
    "         - Manipulação de vetores\n",
    "         - Exercícios práticos\n",
    "\n",
    "  - Verificação de erros no código \n",
    "         - Como debuggar o código\n",
    "         - Buscar auxílio de sites de suporte de Python \n",
    "      "
   ]
  },
  {
   "cell_type": "markdown",
   "metadata": {
    "id": "BCS4aWVzJBxx"
   },
   "source": [
    "<img src=\"https://github.com/jupotratz/Python_BI_Master/blob/main/Turmas/2021.3/Imagens/sep.png?raw=true\"  width=1000 height=125 />"
   ]
  },
  {
   "cell_type": "markdown",
   "metadata": {
    "id": "FYufQeqmge9m"
   },
   "source": [
    "# Vetores"
   ]
  },
  {
   "cell_type": "markdown",
   "metadata": {
    "id": "yRiW790Wg2Il"
   },
   "source": [
    "<center><img src=\"https://github.com/jupotratz/Python_BI_Master/blob/0a93ef10f7a528017cd3428e2c95eda1d58ad888/Turmas/2021.3/Imagens/numpy.png?raw=true\"  width=800 height=190 />\n",
    "\n",
    "\n",
    "\n"
   ]
  },
  {
   "cell_type": "markdown",
   "metadata": {
    "id": "d29vx0R-gm8Q"
   },
   "source": [
    "Vetores em Python são declarados com a biblioteca *Numpy*. Então, para trabalharmos com eles, precisamos fazer a importação dessa biblioteca.\n",
    "\n",
    "\n",
    "*   [Documentação da biblioteca Numpy](https://numpy.org)\n",
    "\n",
    "\n"
   ]
  },
  {
   "cell_type": "markdown",
   "metadata": {
    "id": "DLRHKrnvhl9o"
   },
   "source": [
    "Na importação geralmente, a biblioteca *numpy* leva a abreviação np. Mas isso é uma convenção, você pode, se quiser, colocar qualquer abreviação."
   ]
  },
  {
   "cell_type": "code",
   "execution_count": 1,
   "metadata": {
    "id": "ikAJqEQOgV59"
   },
   "outputs": [],
   "source": [
    "import numpy as np"
   ]
  },
  {
   "cell_type": "markdown",
   "metadata": {
    "id": "Cca12L2Ohvpp"
   },
   "source": [
    "Poderíamos fazer a importação como:\n",
    "\n",
    "```\n",
    ">   import numpy as vetores\n",
    ">   import numpy as arr\n",
    ">   import numpy as (serve qualquer palavra aqui)\n",
    "```\n",
    "\n"
   ]
  },
  {
   "cell_type": "markdown",
   "metadata": {
    "id": "MtHhf-BxiJib"
   },
   "source": [
    "<center><img src=\"https://github.com/jupotratz/Python_BI_Master/blob/04ead96808bf52711213e3bab75673d9c6ed042d/Turmas/2021.3/Imagens/goofy.jpg?raw=true\"  width=200 height=400 />"
   ]
  },
  {
   "cell_type": "markdown",
   "metadata": {
    "id": "9D8iga7ziwE9"
   },
   "source": [
    "## Declaração de vetores"
   ]
  },
  {
   "cell_type": "code",
   "execution_count": 2,
   "metadata": {
    "id": "D0rC_a9-gV_1"
   },
   "outputs": [],
   "source": [
    "pares = [0,2,4,6,8,10,12,14,16,18]"
   ]
  },
  {
   "cell_type": "code",
   "execution_count": 3,
   "metadata": {
    "colab": {
     "base_uri": "https://localhost:8080/"
    },
    "id": "oIL_bqUtgWI4",
    "outputId": "ff4bf6eb-88b4-44dd-ce26-4ae22927f777"
   },
   "outputs": [
    {
     "data": {
      "text/plain": [
       "[0, 2, 4, 6, 8, 10, 12, 14, 16, 18]"
      ]
     },
     "execution_count": 3,
     "metadata": {},
     "output_type": "execute_result"
    }
   ],
   "source": [
    "pares"
   ]
  },
  {
   "cell_type": "code",
   "execution_count": 4,
   "metadata": {
    "colab": {
     "base_uri": "https://localhost:8080/"
    },
    "id": "e4docLchgWQL",
    "outputId": "877ec8c4-ba1b-48fa-9cdd-77204f4def87"
   },
   "outputs": [
    {
     "data": {
      "text/plain": [
       "list"
      ]
     },
     "execution_count": 4,
     "metadata": {},
     "output_type": "execute_result"
    }
   ],
   "source": [
    "type(pares)"
   ]
  },
  {
   "cell_type": "markdown",
   "metadata": {
    "id": "077GNK_Ni3it"
   },
   "source": [
    "Acabamos de criar uma lista chamada pares, mas como podemos transformá-la em vetor?\n"
   ]
  },
  {
   "cell_type": "markdown",
   "metadata": {
    "id": "7yqF9fRGjDdd"
   },
   "source": [
    "Um modo de fazer isso é usando a função da *Numpy* *array*:    "
   ]
  },
  {
   "cell_type": "code",
   "execution_count": 5,
   "metadata": {
    "colab": {
     "base_uri": "https://localhost:8080/",
     "height": 181
    },
    "id": "jzZIUj52gWXC",
    "outputId": "36b55012-6bcd-412d-faf3-30dfff89accf"
   },
   "outputs": [
    {
     "data": {
      "text/plain": [
       "array([ 0,  2,  4,  6,  8, 10, 12, 14, 16, 18])"
      ]
     },
     "execution_count": 5,
     "metadata": {},
     "output_type": "execute_result"
    }
   ],
   "source": [
    "vet = np.array(pares)\n",
    "vet"
   ]
  },
  {
   "cell_type": "code",
   "execution_count": 6,
   "metadata": {
    "id": "MuT40SjFgWe4"
   },
   "outputs": [
    {
     "data": {
      "text/plain": [
       "numpy.ndarray"
      ]
     },
     "execution_count": 6,
     "metadata": {},
     "output_type": "execute_result"
    }
   ],
   "source": [
    "type(vet)"
   ]
  },
  {
   "cell_type": "markdown",
   "metadata": {
    "id": "39e4cNEMjZJ9"
   },
   "source": [
    "Acabamos de criar um vetor chamado *vet* que contém números pares de 0 até 18. Na hora de criamos esse vetor, utilizamos a função *array* da biblioteca *numpy* e dentro dos ( ) incluímos uma lista chamada *pares*. "
   ]
  },
  {
   "cell_type": "markdown",
   "metadata": {
    "id": "Hd2B9NapjeKP"
   },
   "source": [
    "Um segundo modo de criarmos um vetor de números inteiros pode ser usando a função da biblioteca *Numpy* *random.randint*."
   ]
  },
  {
   "cell_type": "code",
   "execution_count": 7,
   "metadata": {
    "id": "-OVvsYgEgWt4"
   },
   "outputs": [],
   "source": [
    "vet1 = np.random.randint(0,20,10)"
   ]
  },
  {
   "cell_type": "code",
   "execution_count": 8,
   "metadata": {
    "colab": {
     "base_uri": "https://localhost:8080/"
    },
    "id": "m8Ka7kYwgW1s",
    "outputId": "a86320ec-8264-4333-c35f-9838ef37b490"
   },
   "outputs": [
    {
     "name": "stdout",
     "output_type": "stream",
     "text": [
      "Help on built-in function randint:\n",
      "\n",
      "randint(...) method of numpy.random.mtrand.RandomState instance\n",
      "    randint(low, high=None, size=None, dtype='l')\n",
      "    \n",
      "    Return random integers from `low` (inclusive) to `high` (exclusive).\n",
      "    \n",
      "    Return random integers from the \"discrete uniform\" distribution of\n",
      "    the specified dtype in the \"half-open\" interval [`low`, `high`). If\n",
      "    `high` is None (the default), then results are from [0, `low`).\n",
      "    \n",
      "    .. note::\n",
      "        New code should use the ``integers`` method of a ``default_rng()``\n",
      "        instance instead; see `random-quick-start`.\n",
      "    \n",
      "    Parameters\n",
      "    ----------\n",
      "    low : int or array-like of ints\n",
      "        Lowest (signed) integers to be drawn from the distribution (unless\n",
      "        ``high=None``, in which case this parameter is one above the\n",
      "        *highest* such integer).\n",
      "    high : int or array-like of ints, optional\n",
      "        If provided, one above the largest (signed) integer to be drawn\n",
      "        from the distribution (see above for behavior if ``high=None``).\n",
      "        If array-like, must contain integer values\n",
      "    size : int or tuple of ints, optional\n",
      "        Output shape.  If the given shape is, e.g., ``(m, n, k)``, then\n",
      "        ``m * n * k`` samples are drawn.  Default is None, in which case a\n",
      "        single value is returned.\n",
      "    dtype : dtype, optional\n",
      "        Desired dtype of the result. All dtypes are determined by their\n",
      "        name, i.e., 'int64', 'int', etc, so byteorder is not available\n",
      "        and a specific precision may have different C types depending\n",
      "        on the platform. The default value is `np.int_`.\n",
      "    \n",
      "        .. versionadded:: 1.11.0\n",
      "    \n",
      "    Returns\n",
      "    -------\n",
      "    out : int or ndarray of ints\n",
      "        `size`-shaped array of random integers from the appropriate\n",
      "        distribution, or a single such random int if `size` not provided.\n",
      "    \n",
      "    See Also\n",
      "    --------\n",
      "    random_integers : similar to `randint`, only for the closed\n",
      "        interval [`low`, `high`], and 1 is the lowest value if `high` is\n",
      "        omitted.\n",
      "    Generator.integers: which should be used for new code.\n",
      "    \n",
      "    Examples\n",
      "    --------\n",
      "    >>> np.random.randint(2, size=10)\n",
      "    array([1, 0, 0, 0, 1, 1, 0, 0, 1, 0]) # random\n",
      "    >>> np.random.randint(1, size=10)\n",
      "    array([0, 0, 0, 0, 0, 0, 0, 0, 0, 0])\n",
      "    \n",
      "    Generate a 2 x 4 array of ints between 0 and 4, inclusive:\n",
      "    \n",
      "    >>> np.random.randint(5, size=(2, 4))\n",
      "    array([[4, 0, 2, 1], # random\n",
      "           [3, 2, 2, 0]])\n",
      "    \n",
      "    Generate a 1 x 3 array with 3 different upper bounds\n",
      "    \n",
      "    >>> np.random.randint(1, [3, 5, 10])\n",
      "    array([2, 2, 9]) # random\n",
      "    \n",
      "    Generate a 1 by 3 array with 3 different lower bounds\n",
      "    \n",
      "    >>> np.random.randint([1, 5, 7], 10)\n",
      "    array([9, 8, 7]) # random\n",
      "    \n",
      "    Generate a 2 by 4 array using broadcasting with dtype of uint8\n",
      "    \n",
      "    >>> np.random.randint([1, 3, 5, 7], [[10], [20]], dtype=np.uint8)\n",
      "    array([[ 8,  6,  9,  7], # random\n",
      "           [ 1, 16,  9, 12]], dtype=uint8)\n",
      "\n"
     ]
    }
   ],
   "source": [
    "help(np.random.randint)"
   ]
  },
  {
   "cell_type": "code",
   "execution_count": 9,
   "metadata": {
    "colab": {
     "base_uri": "https://localhost:8080/"
    },
    "id": "B314jOWOgW9u",
    "outputId": "ad8287c3-9362-4d1f-c3ca-af5d291ddefa"
   },
   "outputs": [
    {
     "data": {
      "text/plain": [
       "array([11, 14, 12,  2,  0,  2, 16, 12,  5,  8])"
      ]
     },
     "execution_count": 9,
     "metadata": {},
     "output_type": "execute_result"
    }
   ],
   "source": [
    "vet1"
   ]
  },
  {
   "cell_type": "markdown",
   "metadata": {
    "id": "cTZHY8YWjwjQ"
   },
   "source": [
    "Acabamos de criar um vetor chamado *vet1* de números inteiros que foi criado a partir da função random.randint. Essa função recebe como variáveis de entrada **obrigatórias**: \n",
    "\n",
    "- limite inferior (incluído), \n",
    "- limite superior (não incluído),\n",
    "- tamanho do vetor. \n",
    "\n",
    "Os elementos desse vetor podem ser iguais ao limite inferior, porém não podem ser iguais ao limite superior. "
   ]
  },
  {
   "cell_type": "markdown",
   "metadata": {
    "id": "CXbt-uRtjwwU"
   },
   "source": [
    "Um outro modo semelhante de criar um vetor através de números aleatórios, porém reais é:"
   ]
  },
  {
   "cell_type": "code",
   "execution_count": null,
   "metadata": {
    "colab": {
     "base_uri": "https://localhost:8080/"
    },
    "id": "hxbZjQCYj8_D",
    "outputId": "305a305c-decc-4dff-babb-e363c1790ca1",
    "scrolled": true
   },
   "outputs": [
    {
     "data": {
      "text/plain": [
       "array([ 4.25125561, 10.45866124,  8.44838956,  4.21137568,  8.61315796,\n",
       "        7.95264077,  7.67482626, 14.34767664, 19.19422351,  4.93756319])"
      ]
     },
     "execution_count": 12,
     "metadata": {},
     "output_type": "execute_result"
    }
   ],
   "source": [
    "vet2 = np.random.uniform(0,20,10)\n",
    "vet2"
   ]
  },
  {
   "cell_type": "markdown",
   "metadata": {
    "id": "aJlnF0AGjw8u"
   },
   "source": [
    "A função *random.uniform* funciona de modo bem similar à função *random.randint*, porém a *random.uniform* gera números reais. Ambas as funções geram números aleatórios que seguem a distribuição uniforme, ou seja, cada valor dentro do intervalo especificado tem a mesma probabilidade de ser sorteado. "
   ]
  },
  {
   "cell_type": "markdown",
   "metadata": {
    "id": "pX7AkfepkDnM"
   },
   "source": [
    "Para mais informações a respeito da geração de números aleatórios, que seguem outros tipos de distribuições, utilizando *numpy*, assista o vídeo:\n",
    "\n",
    "[Distribuições de Probabilidades](https://youtu.be/ld_CP_0H46k)"
   ]
  },
  {
   "cell_type": "markdown",
   "metadata": {
    "id": "boVMrawEkRCB"
   },
   "source": [
    "**Bom, já vimos aqui 2 formas de criarmos um vetor, você conhece mais alguma?**"
   ]
  },
  {
   "cell_type": "markdown",
   "metadata": {
    "id": "d4vZzEsSkhcb"
   },
   "source": [
    "Algumas dicas para responder essa pergunta, conseguimos criar vetores\n",
    "\n",
    "*   A partir de Dataframes\n",
    "*   Usando a função [linspace](https://numpy.org/doc/stable/reference/generated/numpy.linspace.html) \n",
    "*   A partir de outras distribuições de probabilidades da Numpy: [random.exponential](https://numpy.org/doc/stable/reference/random/generated/numpy.random.exponential.html), [random.binomial](https://numpy.org/doc/stable/reference/random/generated/numpy.random.binomial.html)\n",
    "*   Usando [numpy.arange](https://numpy.org/doc/stable/reference/generated/numpy.arange.html)\n",
    "\n",
    "\n",
    "\n",
    "\n",
    "\n"
   ]
  },
  {
   "cell_type": "markdown",
   "metadata": {
    "id": "khFw4tTXk7j9"
   },
   "source": [
    "vamos testar esses outros modos?"
   ]
  },
  {
   "cell_type": "code",
   "execution_count": null,
   "metadata": {
    "id": "N01_iOS4k-it"
   },
   "outputs": [],
   "source": []
  },
  {
   "cell_type": "code",
   "execution_count": null,
   "metadata": {
    "id": "v4lwFBZAk-69"
   },
   "outputs": [],
   "source": []
  },
  {
   "cell_type": "markdown",
   "metadata": {
    "id": "lslCRH9O2ae3"
   },
   "source": [
    "### Declaração de vetores de mais de uma dimensão"
   ]
  },
  {
   "cell_type": "markdown",
   "metadata": {
    "id": "hcqfRk4a2gMO"
   },
   "source": [
    "Até o presente momento, somente vimos como se faz a declaração de vetores 1-D, mas para criar matrizes, ou, vetores multidimensionais, o procedimento é análogo. Vamos testar com alguns exemplos. "
   ]
  },
  {
   "cell_type": "markdown",
   "metadata": {
    "id": "3-lA7XZQ2q_W"
   },
   "source": [
    "- Crie uma matriz de números aleatórios inteiros de 0 a 100 com 5 colunas e 7 linhas. "
   ]
  },
  {
   "cell_type": "code",
   "execution_count": 13,
   "metadata": {
    "colab": {
     "base_uri": "https://localhost:8080/"
    },
    "id": "LkgiSiA52fOE",
    "outputId": "c506abc2-5f01-4b60-8fe8-ed64bb3ba5e1"
   },
   "outputs": [
    {
     "data": {
      "text/plain": [
       "array([[ 8, 24, 67, 87, 79],\n",
       "       [48, 10, 94, 52, 98],\n",
       "       [53, 66, 98, 14, 34],\n",
       "       [24, 15, 60, 58, 16],\n",
       "       [ 9, 93, 86,  2, 27],\n",
       "       [ 4, 31,  1, 13, 83],\n",
       "       [ 4, 91, 59, 67,  7]])"
      ]
     },
     "execution_count": 13,
     "metadata": {},
     "output_type": "execute_result"
    }
   ],
   "source": [
    "np.random.seed(100)\n",
    "vet = np.random.randint(low=0, \\\n",
    "                        high=100, \\\n",
    "                        size=(7,5))\n",
    "vet"
   ]
  },
  {
   "cell_type": "markdown",
   "metadata": {
    "id": "E23q19243XDx"
   },
   "source": [
    "Repare no código acima, a função *randint* pediu como argumentos:\n",
    "- O limite inferior (*low*) 0\n",
    "- O limite superior (*high*) 100\n",
    "- A dimensão da matriz (*size* = número de linhas, número de colunas)"
   ]
  },
  {
   "cell_type": "markdown",
   "metadata": {
    "id": "al_DAw3E4Rzv"
   },
   "source": [
    "Um outro modo de criarmos vetores multidimensionais é fornecendo diretamente os elementos do conjunto. "
   ]
  },
  {
   "cell_type": "code",
   "execution_count": 8,
   "metadata": {
    "colab": {
     "base_uri": "https://localhost:8080/"
    },
    "id": "-y9Gor8X4ZWi",
    "outputId": "68c23425-ba7b-44b2-9b21-a934b8920b0e"
   },
   "outputs": [
    {
     "data": {
      "text/plain": [
       "array([[1, 2],\n",
       "       [4, 3],\n",
       "       [5, 6],\n",
       "       [9, 8]])"
      ]
     },
     "execution_count": 8,
     "metadata": {},
     "output_type": "execute_result"
    }
   ],
   "source": [
    "vet1 = np.array([[1,2],[4,3],[5,6],[9,8]])\n",
    "vet1"
   ]
  },
  {
   "cell_type": "markdown",
   "metadata": {
    "id": "jnAJdoGD4kdN"
   },
   "source": [
    "Criamos a matriz *vet1* que possui duas colunas e 4 linhas. "
   ]
  },
  {
   "cell_type": "code",
   "execution_count": null,
   "metadata": {
    "id": "luWLEAhA4jdQ"
   },
   "outputs": [],
   "source": []
  },
  {
   "cell_type": "markdown",
   "metadata": {
    "id": "AdJ5q3md3lbN"
   },
   "source": [
    "- Crie uma matriz de números aleatórios inteiros de 0 a 100 com 10 colunas e 3 linhas."
   ]
  },
  {
   "cell_type": "code",
   "execution_count": null,
   "metadata": {
    "id": "cRhLS6IP3r66"
   },
   "outputs": [],
   "source": []
  },
  {
   "cell_type": "markdown",
   "metadata": {
    "id": "y0_A1tS41yy8"
   },
   "source": [
    "<img src=\"https://github.com/jupotratz/Python_BI_Master/blob/main/Turmas/2021.3/Imagens/sep.png?raw=true\"  width=1000 height=125 />"
   ]
  },
  {
   "cell_type": "markdown",
   "metadata": {
    "id": "a9yae1sH4EOc"
   },
   "source": [
    "## Atributos de Numpy Arrays"
   ]
  },
  {
   "cell_type": "code",
   "execution_count": 9,
   "metadata": {
    "colab": {
     "base_uri": "https://localhost:8080/"
    },
    "id": "SiQqOvVy47Qu",
    "outputId": "c4ae58ec-9c4a-4608-b64f-14422e3714a5"
   },
   "outputs": [
    {
     "data": {
      "text/plain": [
       "array([[ 8, 24, 67, 87],\n",
       "       [79, 48, 10, 94],\n",
       "       [52, 98, 53, 66],\n",
       "       [98, 14, 34, 24],\n",
       "       [15, 60, 58, 16]])"
      ]
     },
     "execution_count": 9,
     "metadata": {},
     "output_type": "execute_result"
    }
   ],
   "source": [
    "np.random.seed(100)\n",
    "arr = np.random.randint(0,100,(5,4))\n",
    "arr"
   ]
  },
  {
   "cell_type": "markdown",
   "metadata": {
    "id": "L9AQ-kUl4rv-"
   },
   "source": [
    "Dada a variável *arr*, vamos entender alguns atributos importantes do objeto *ndarray*."
   ]
  },
  {
   "cell_type": "markdown",
   "metadata": {
    "id": "K9EUVhyx5GgP"
   },
   "source": [
    "### ndarray.ndim"
   ]
  },
  {
   "cell_type": "markdown",
   "metadata": {
    "id": "UTEbOjHv50cA"
   },
   "source": [
    "*ndarray.ndim* retorna quantas dimensões tem o vetor."
   ]
  },
  {
   "cell_type": "code",
   "execution_count": null,
   "metadata": {
    "id": "g6EOdpl74HQR"
   },
   "outputs": [],
   "source": []
  },
  {
   "cell_type": "markdown",
   "metadata": {
    "id": "fTkia5-75NBj"
   },
   "source": [
    "### ndarray.shape"
   ]
  },
  {
   "cell_type": "markdown",
   "metadata": {
    "id": "AkSxeg686Eij"
   },
   "source": [
    "*ndarray.shape* retorna as dimensões do vetor (número de linhas e número de colunas caso o vetor seja 2-D)."
   ]
  },
  {
   "cell_type": "code",
   "execution_count": null,
   "metadata": {
    "id": "0NLLlHwI5S00"
   },
   "outputs": [],
   "source": []
  },
  {
   "cell_type": "markdown",
   "metadata": {
    "id": "PQ8x2bFf5T__"
   },
   "source": [
    "### ndarray.size"
   ]
  },
  {
   "cell_type": "markdown",
   "metadata": {
    "id": "43PkDsnA6MQz"
   },
   "source": [
    "*ndarray.size* retorna o número total de elementos do array. "
   ]
  },
  {
   "cell_type": "code",
   "execution_count": null,
   "metadata": {
    "id": "VCFE3YaJ5X3E"
   },
   "outputs": [],
   "source": []
  },
  {
   "cell_type": "markdown",
   "metadata": {
    "id": "NHH_70m65Ypk"
   },
   "source": [
    "### ndarray.dtype"
   ]
  },
  {
   "cell_type": "markdown",
   "metadata": {
    "id": "bo3xp_KC7xo3"
   },
   "source": [
    "*ndarray.dtype* retorna o tipo dos elementos armazenados no array."
   ]
  },
  {
   "cell_type": "code",
   "execution_count": null,
   "metadata": {
    "id": "aFPGQOST5bi-"
   },
   "outputs": [],
   "source": []
  },
  {
   "cell_type": "markdown",
   "metadata": {
    "id": "V-WRnMGA5hK1"
   },
   "source": [
    "<img src=\"https://github.com/jupotratz/Python_BI_Master/blob/main/Turmas/2021.3/Imagens/sep.png?raw=true\"  width=1000 height=125 />"
   ]
  },
  {
   "cell_type": "markdown",
   "metadata": {
    "id": "zSC2Yw79kFYP"
   },
   "source": [
    "## Funções aplicadas a vetores"
   ]
  },
  {
   "cell_type": "markdown",
   "metadata": {
    "id": "g_a5Q8QzlAEl"
   },
   "source": [
    "Existem funções prontas para:\n",
    "\n",
    "- somatório: **np.sum( )**\n",
    "- média: **np.mean( )**\n",
    "- desvio padrão: **np.std( )**\n",
    "- variância: **np.var( )**"
   ]
  },
  {
   "cell_type": "markdown",
   "metadata": {
    "id": "zYVCqbsSlFzw"
   },
   "source": [
    "Exercício: Aplique as 4 funções mostradas acima no vetor vet:"
   ]
  },
  {
   "cell_type": "code",
   "execution_count": null,
   "metadata": {
    "id": "mqSQ3LO8la1B"
   },
   "outputs": [],
   "source": [
    "np.random.seed(100)"
   ]
  },
  {
   "cell_type": "code",
   "execution_count": null,
   "metadata": {
    "id": "iF-qlkIElFNT"
   },
   "outputs": [],
   "source": [
    "vet = np.random.uniform(0,20,size=40)"
   ]
  },
  {
   "cell_type": "code",
   "execution_count": null,
   "metadata": {
    "colab": {
     "base_uri": "https://localhost:8080/"
    },
    "id": "OpMuYjbxlfSP",
    "outputId": "7fe0d354-da40-49e3-875a-d25083cb13b4"
   },
   "outputs": [
    {
     "data": {
      "text/plain": [
       "array([10.86809884,  5.5673877 ,  8.49035181, 16.89552265,  0.09437712,\n",
       "        2.43138242, 13.41498169, 16.5170551 ,  2.73413179, 11.50186659,\n",
       "       17.82643909,  4.18404244,  3.70656439,  2.16753781,  4.39394985,\n",
       "       19.57247569, 16.23366298,  3.43882025, 16.32449497,  5.48147494,\n",
       "        8.63408367, 18.80059639, 16.35298758,  6.722239  ,  3.50820907,\n",
       "        7.45664093,  0.11377015,  5.04852707, 15.91325017,  0.30509942,\n",
       "       11.97686754, 12.07609078,  2.10295371,  7.6388689 ,  0.72952113,\n",
       "       17.80823127, 19.61841714,  1.19883978, 17.81091889, 11.53802999])"
      ]
     },
     "execution_count": 23,
     "metadata": {},
     "output_type": "execute_result"
    }
   ],
   "source": [
    "vet "
   ]
  },
  {
   "cell_type": "code",
   "execution_count": null,
   "metadata": {
    "id": "nZuWdPaKlkER"
   },
   "outputs": [],
   "source": []
  },
  {
   "cell_type": "markdown",
   "metadata": {
    "id": "LK7-8qgg16Ew"
   },
   "source": [
    "<img src=\"https://github.com/jupotratz/Python_BI_Master/blob/main/Turmas/2021.3/Imagens/sep.png?raw=true\"  width=1000 height=125 />"
   ]
  },
  {
   "cell_type": "markdown",
   "metadata": {
    "id": "NqoczRxjltKP"
   },
   "source": [
    "## Manipulação de vetores"
   ]
  },
  {
   "cell_type": "markdown",
   "metadata": {
    "id": "L5iHh9Z0oh86"
   },
   "source": [
    "### Eliminação de elementos em vetores"
   ]
  },
  {
   "cell_type": "code",
   "execution_count": null,
   "metadata": {
    "id": "OnIhLGiglkRk"
   },
   "outputs": [],
   "source": [
    "np.random.seed(1000)"
   ]
  },
  {
   "cell_type": "code",
   "execution_count": null,
   "metadata": {
    "colab": {
     "base_uri": "https://localhost:8080/"
    },
    "id": "GkcLksxplkbZ",
    "outputId": "d66b349d-8942-4066-9aea-4197252da41a"
   },
   "outputs": [
    {
     "data": {
      "text/plain": [
       "array([ 199,  146,  256,  740, 1885, 1838,  596, 1233,  726, 1893, 1853,\n",
       "        542, 1837, 1921, 1044,  241,  743,  420, 1493,  944,  502,  802,\n",
       "        473, 1822, 1215, 1943, 1248,  332, 1547, 1258, 1032, 1019,  160,\n",
       "        821, 1043, 1440,  916, 1827,  739, 1707])"
      ]
     },
     "execution_count": 27,
     "metadata": {},
     "output_type": "execute_result"
    }
   ],
   "source": [
    "vet = np.random.randint(0,2000,size=40)\n",
    "vet"
   ]
  },
  {
   "cell_type": "markdown",
   "metadata": {
    "id": "rmHS3Cc9l2a9"
   },
   "source": [
    "Considerando o vetor *vet* acima, se quiséssemos remover todos os números múltiplos de 3, como faríamos?\n",
    "\n",
    "\n",
    "\n"
   ]
  },
  {
   "cell_type": "markdown",
   "metadata": {
    "id": "nrMZML2dmFi5"
   },
   "source": [
    "1. Bom, primeiro precisamos saber como identificar os números múltiplos de 3. \n",
    "\n",
    "2. Em seguida, precisamos saber como eliminar elementos dentro de um vetor. \n",
    "\n",
    "3. Por último, precisamos imprimir o vetor resultante. "
   ]
  },
  {
   "cell_type": "markdown",
   "metadata": {
    "id": "oM28ac5amVMt"
   },
   "source": [
    "Vamos, agora, passar por cada uma dessas etapas: "
   ]
  },
  {
   "cell_type": "markdown",
   "metadata": {
    "id": "5LENbo7qmZpL"
   },
   "source": [
    "**Identificação de números múltiplos de 3**\n",
    "\n",
    "---\n"
   ]
  },
  {
   "cell_type": "code",
   "execution_count": null,
   "metadata": {
    "id": "NTE5h7SwmiVS"
   },
   "outputs": [],
   "source": []
  },
  {
   "cell_type": "markdown",
   "metadata": {
    "id": "2k1RoyWYmisQ"
   },
   "source": [
    "**Eliminação de elementos em um vetor**\n",
    "\n",
    "---"
   ]
  },
  {
   "cell_type": "markdown",
   "metadata": {
    "id": "CYzqhJM2n8ZK"
   },
   "source": [
    "O modo de eliminarmos elemento em um vetor é pelo uso da: \n",
    "\n",
    "*   [função *delete*](https://numpy.org/doc/stable/reference/generated/numpy.delete.html)\n",
    "\n"
   ]
  },
  {
   "cell_type": "code",
   "execution_count": null,
   "metadata": {
    "id": "7ocn9AwNlklS"
   },
   "outputs": [],
   "source": []
  },
  {
   "cell_type": "code",
   "execution_count": null,
   "metadata": {
    "id": "MMbvUE4Nlkvc"
   },
   "outputs": [],
   "source": []
  },
  {
   "cell_type": "markdown",
   "metadata": {
    "id": "lyksKhvumqg4"
   },
   "source": [
    "**Impressão do vetor**\n",
    "\n",
    "---"
   ]
  },
  {
   "cell_type": "code",
   "execution_count": null,
   "metadata": {
    "id": "-rFugNSwlk5f"
   },
   "outputs": [],
   "source": []
  },
  {
   "cell_type": "code",
   "execution_count": null,
   "metadata": {
    "id": "-zT1Xpv5llH-"
   },
   "outputs": [],
   "source": []
  },
  {
   "cell_type": "markdown",
   "metadata": {
    "id": "df0jvHokomxI"
   },
   "source": [
    "### Adição de elementos em vetores"
   ]
  },
  {
   "cell_type": "markdown",
   "metadata": {
    "id": "D9lLLM3RoqFL"
   },
   "source": [
    "Como conseguimos adicionar elementos a vetores já declarados? \n",
    "\n",
    "\n",
    "\n",
    "**Você tem alguma ideia?**"
   ]
  },
  {
   "cell_type": "markdown",
   "metadata": {
    "id": "JRtur0jso20V"
   },
   "source": [
    "Podemos usar duas funções com nomes já conhecidos por você:\n",
    "\n",
    "*   [função *append*](https://numpy.org/doc/stable/reference/generated/numpy.append.html)\n",
    "*   [função *insert*](https://numpy.org/doc/stable/reference/generated/numpy.insert.html)\n",
    "\n"
   ]
  },
  {
   "cell_type": "code",
   "execution_count": null,
   "metadata": {
    "id": "-MiYDW_IllV2"
   },
   "outputs": [],
   "source": [
    "np.random.seed(50)"
   ]
  },
  {
   "cell_type": "code",
   "execution_count": null,
   "metadata": {
    "colab": {
     "base_uri": "https://localhost:8080/"
    },
    "id": "XsYg2HASlllo",
    "outputId": "3cbdef90-8887-476b-8221-1bdca99cfa96"
   },
   "outputs": [
    {
     "data": {
      "text/plain": [
       "array([497.12863731, 231.94268893, 259.19655414, 399.34826017,\n",
       "       380.4285222 , 996.591359  , 411.15621433, 773.03452487])"
      ]
     },
     "execution_count": 29,
     "metadata": {},
     "output_type": "execute_result"
    }
   ],
   "source": [
    "arr = np.random.uniform(5,1000,8)\n",
    "arr"
   ]
  },
  {
   "cell_type": "markdown",
   "metadata": {
    "id": "1skkglEUpSxA"
   },
   "source": [
    "Vamos adicionar o número 35.4 na última posição de *arr*."
   ]
  },
  {
   "cell_type": "code",
   "execution_count": null,
   "metadata": {
    "id": "MD8EavFallu7"
   },
   "outputs": [],
   "source": []
  },
  {
   "cell_type": "markdown",
   "metadata": {
    "id": "jMT4AzuxpaX2"
   },
   "source": [
    "Agora, vamos adicionar o número 10.2 na terceira posição de *arr*."
   ]
  },
  {
   "cell_type": "code",
   "execution_count": null,
   "metadata": {
    "id": "a5zyxWYNll4K"
   },
   "outputs": [],
   "source": []
  },
  {
   "cell_type": "markdown",
   "metadata": {
    "id": "KCQmkdMGpnB5"
   },
   "source": [
    "Por fim, vamos adicionar os números 23.4 e 36.7 nas posições 5 e 6 respectivamente, porém faça essa adição por meio de uma única operação. "
   ]
  },
  {
   "cell_type": "code",
   "execution_count": null,
   "metadata": {
    "id": "9GTOv5ExlmCf"
   },
   "outputs": [],
   "source": []
  },
  {
   "cell_type": "markdown",
   "metadata": {
    "id": "ojD0hXOlq-x9"
   },
   "source": [
    "### Selecionando e modificando partes de um vetor"
   ]
  },
  {
   "cell_type": "code",
   "execution_count": null,
   "metadata": {
    "colab": {
     "base_uri": "https://localhost:8080/"
    },
    "id": "t_UpefMilmRB",
    "outputId": "9a7d9742-c6dd-4de2-93e9-fa2ad5d8bef0"
   },
   "outputs": [
    {
     "data": {
      "text/plain": [
       "array([  6, -10,   1,   3,  -9,  -6,  -4,  -5,  -4,   3])"
      ]
     },
     "execution_count": 40,
     "metadata": {},
     "output_type": "execute_result"
    }
   ],
   "source": [
    "np.random.seed(50)\n",
    "arr = np.random.randint(-10,10,10)\n",
    "arr "
   ]
  },
  {
   "cell_type": "markdown",
   "metadata": {
    "id": "Y7yTWwv2rNpC"
   },
   "source": [
    "Selecione apenas do quarto elemento de *arr* até o nono elemento."
   ]
  },
  {
   "cell_type": "code",
   "execution_count": null,
   "metadata": {
    "id": "4vX_K5SilmfT"
   },
   "outputs": [],
   "source": []
  },
  {
   "cell_type": "markdown",
   "metadata": {
    "id": "U5UHQkydrZ-f"
   },
   "source": [
    "Selecione do quinto elemento ao último. "
   ]
  },
  {
   "cell_type": "code",
   "execution_count": null,
   "metadata": {
    "id": "TnsSz2xYrX69"
   },
   "outputs": [],
   "source": []
  },
  {
   "cell_type": "markdown",
   "metadata": {
    "id": "tsiAjn1-rgKi"
   },
   "source": [
    "Selecione do primeiro elemento ao sexto em *arr*."
   ]
  },
  {
   "cell_type": "code",
   "execution_count": null,
   "metadata": {
    "id": "ASflx-rvrYF7"
   },
   "outputs": [],
   "source": []
  },
  {
   "cell_type": "markdown",
   "metadata": {
    "id": "xlKkkg1arpto"
   },
   "source": [
    "Ainda usando o mesmo vetor *arr*, o transforme em uma matrix de 2 colunas e 5 linhas. "
   ]
  },
  {
   "cell_type": "markdown",
   "metadata": {
    "id": "N4QrBwjJrz_u"
   },
   "source": [
    "Para ajudar na resolução dessa atividade, vamos checar antes a dimensão atual de *arr*."
   ]
  },
  {
   "cell_type": "code",
   "execution_count": null,
   "metadata": {
    "colab": {
     "base_uri": "https://localhost:8080/"
    },
    "id": "0BVFPcr3rYRi",
    "outputId": "4461d40f-fd93-4056-a28e-c1d8f67e17ad"
   },
   "outputs": [
    {
     "data": {
      "text/plain": [
       "array([  6, -10,   1,   3,  -9,  -6,  -4,  -5,  -4,   3])"
      ]
     },
     "execution_count": 41,
     "metadata": {},
     "output_type": "execute_result"
    }
   ],
   "source": [
    "np.random.seed(50)\n",
    "arr = np.random.randint(-10,10,10)\n",
    "arr"
   ]
  },
  {
   "cell_type": "code",
   "execution_count": null,
   "metadata": {
    "colab": {
     "base_uri": "https://localhost:8080/"
    },
    "id": "EOgY3GoBrYia",
    "outputId": "d97ebfd3-9cb8-4e23-e9f8-b384b7a8848f"
   },
   "outputs": [
    {
     "data": {
      "text/plain": [
       "(10,)"
      ]
     },
     "execution_count": 42,
     "metadata": {},
     "output_type": "execute_result"
    }
   ],
   "source": [
    "arr.shape"
   ]
  },
  {
   "cell_type": "markdown",
   "metadata": {
    "id": "xdMgDKn7r-Lo"
   },
   "source": [
    "Como podemos ver, *arr* possui 10 linhas e não tem uma segunda dimensão definida. "
   ]
  },
  {
   "cell_type": "markdown",
   "metadata": {
    "id": "aRdusmmLsE49"
   },
   "source": [
    "Para transformarmos nosso vetor 1-D em 2-D, vamos fazer uso da [função *reshape*](https://numpy.org/doc/stable/reference/generated/numpy.reshape.html)."
   ]
  },
  {
   "cell_type": "markdown",
   "metadata": {
    "id": "cXBW25IMsf-b"
   },
   "source": [
    "Lendo a documentação de *reshape* será que agora conseguimos resolver o exercício?"
   ]
  },
  {
   "cell_type": "code",
   "execution_count": null,
   "metadata": {
    "id": "o0TBNY4M8jbq"
   },
   "outputs": [],
   "source": []
  },
  {
   "cell_type": "code",
   "execution_count": null,
   "metadata": {
    "id": "YbYX5kMprYuJ"
   },
   "outputs": [],
   "source": []
  },
  {
   "cell_type": "markdown",
   "metadata": {},
   "source": [
    "### Indexação booleana\n",
    "\n",
    "Esta indexação possui alguma expressão booleana como índice. Esses elementos são retornados quando satisfazem essa expressão booleana. É usado para filtrar os valores de elemento desejados.\n",
    "\n",
    " - Podem ser utilizados em um vetor ou com multiplos vetores."
   ]
  },
  {
   "cell_type": "code",
   "execution_count": 15,
   "metadata": {},
   "outputs": [
    {
     "data": {
      "text/plain": [
       "array(['Júlia', 'Amanda', 'Manoela', 'Júlia', 'Evylen', 'Melissa',\n",
       "       'Bruna'], dtype='<U7')"
      ]
     },
     "execution_count": 15,
     "metadata": {},
     "output_type": "execute_result"
    }
   ],
   "source": [
    "# Criando um array com nomes\n",
    "nomes = np.array(['Júlia', 'Amanda','Manoela','Júlia','Evylen','Melissa','Bruna'])\n",
    "nomes"
   ]
  },
  {
   "cell_type": "code",
   "execution_count": 14,
   "metadata": {
    "scrolled": true
   },
   "outputs": [
    {
     "data": {
      "text/plain": [
       "array([[-0.53128038,  1.02973269, -0.43813562, -1.11831825,  1.61898166],\n",
       "       [ 1.54160517, -0.25187914, -0.84243574,  0.18451869,  0.9370822 ],\n",
       "       [ 0.73100034,  1.36155613, -0.32623806,  0.05567601,  0.22239961],\n",
       "       [-1.443217  , -0.75635231,  0.81645401,  0.75044476, -0.45594693],\n",
       "       [ 1.18962227, -1.69061683, -1.35639905, -1.23243451, -0.54443916],\n",
       "       [-0.66817174,  0.00731456, -0.61293874,  1.29974807, -1.73309562],\n",
       "       [-0.9833101 ,  0.35750775, -1.6135785 ,  1.47071387, -1.1880176 ]])"
      ]
     },
     "execution_count": 14,
     "metadata": {},
     "output_type": "execute_result"
    }
   ],
   "source": [
    "# Criando um array n dimensional (com numero de linhas igual a quantidade de nomes do meu array de nomes)\n",
    "array = np.random.randn(7,5)\n",
    "array"
   ]
  },
  {
   "cell_type": "markdown",
   "metadata": {},
   "source": [
    "**Obs:** Vamos supor que cada linha do nosso array criado corresponde a um nome e que desejamos selecionar todas as linhas com o nome Júlia\n",
    "\n",
    "- Podemos comparar o array de nome com uma string"
   ]
  },
  {
   "cell_type": "code",
   "execution_count": 17,
   "metadata": {},
   "outputs": [
    {
     "data": {
      "text/plain": [
       "array([ True, False, False,  True, False, False, False])"
      ]
     },
     "execution_count": 17,
     "metadata": {},
     "output_type": "execute_result"
    }
   ],
   "source": [
    "nomes == 'Júlia'"
   ]
  },
  {
   "cell_type": "markdown",
   "metadata": {},
   "source": [
    "**Obs:** Podemos passar esse array booleano com elemento de indexação, onde o resultado serão os elementos verdadeiros (True)"
   ]
  },
  {
   "cell_type": "code",
   "execution_count": 18,
   "metadata": {},
   "outputs": [
    {
     "data": {
      "text/plain": [
       "array([[-0.53128038,  1.02973269, -0.43813562, -1.11831825,  1.61898166],\n",
       "       [-1.443217  , -0.75635231,  0.81645401,  0.75044476, -0.45594693]])"
      ]
     },
     "execution_count": 18,
     "metadata": {},
     "output_type": "execute_result"
    }
   ],
   "source": [
    "array[nomes == 'Júlia']"
   ]
  },
  {
   "cell_type": "markdown",
   "metadata": {},
   "source": [
    "O array booleano deve ser do mesmo tamanho do eixo do array que está sendo indexado. \n",
    "\n",
    "    - No nosso caso o array booleano tinha 7 elementos e o nosso array a ser indexado possuia 7 elementos no eixo 0"
   ]
  },
  {
   "cell_type": "markdown",
   "metadata": {},
   "source": [
    "#### Vamos praticar?\n",
    "\n",
    "\n",
    "1. Crie um vetor unidimensional com 100 elementos contendo números inteiros aleatórios de 0 a 100 e selecione, separadamente, as seguintes informações:\n",
    "\n",
    "    - Todos os elementos pares\n",
    "    - Todos os elementos impares\n",
    "    - Todos os elementos no intervalo de 10 a 20\n",
    "    - Todo os elementos menores que 15 ou maiores que 80"
   ]
  },
  {
   "cell_type": "code",
   "execution_count": 38,
   "metadata": {},
   "outputs": [
    {
     "data": {
      "text/plain": [
       "array([ 3, 28, 35, 31, 19, 52, 41, 78, 50, 46, 71, 49, 50, 77, 58, 76, 99,\n",
       "        2, 61, 60, 18, 35,  2, 55, 96, 63, 70, 25, 95, 56, 58, 82, 76, 60,\n",
       "       17, 33, 66, 94, 18, 66, 36,  7, 62,  1, 85, 77, 57, 30, 92, 16, 81,\n",
       "       96, 20, 35, 82, 23, 42, 99,  7, 77, 47, 18, 43, 87, 92, 88, 85,  1,\n",
       "       94, 92, 91, 41, 22, 77, 48, 89, 59,  9, 69, 50, 62, 42, 71, 49, 14,\n",
       "       90,  1,  7, 63, 47, 57, 26, 82, 16, 51, 87, 10, 68, 39, 98])"
      ]
     },
     "execution_count": 38,
     "metadata": {},
     "output_type": "execute_result"
    }
   ],
   "source": [
    "array = np.random.randint(0,100,size=(100,))\n",
    "array"
   ]
  },
  {
   "cell_type": "markdown",
   "metadata": {},
   "source": [
    "- Todos os elementos pares"
   ]
  },
  {
   "cell_type": "code",
   "execution_count": 39,
   "metadata": {},
   "outputs": [
    {
     "data": {
      "text/plain": [
       "array([28, 52, 78, 50, 46, 50, 58, 76,  2, 60, 18,  2, 96, 70, 56, 58, 82,\n",
       "       76, 60, 66, 94, 18, 66, 36, 62, 30, 92, 16, 96, 20, 82, 42, 18, 92,\n",
       "       88, 94, 92, 22, 48, 50, 62, 42, 14, 90, 26, 82, 16, 10, 68, 98])"
      ]
     },
     "execution_count": 39,
     "metadata": {},
     "output_type": "execute_result"
    }
   ],
   "source": [
    "array[array%2==0]"
   ]
  },
  {
   "cell_type": "markdown",
   "metadata": {},
   "source": [
    "- Todos os elementos ímpares"
   ]
  },
  {
   "cell_type": "code",
   "execution_count": 40,
   "metadata": {},
   "outputs": [
    {
     "data": {
      "text/plain": [
       "array([ 3, 35, 31, 19, 41, 71, 49, 77, 99, 61, 35, 55, 63, 25, 95, 17, 33,\n",
       "        7,  1, 85, 77, 57, 81, 35, 23, 99,  7, 77, 47, 43, 87, 85,  1, 91,\n",
       "       41, 77, 89, 59,  9, 69, 71, 49,  1,  7, 63, 47, 57, 51, 87, 39])"
      ]
     },
     "execution_count": 40,
     "metadata": {},
     "output_type": "execute_result"
    }
   ],
   "source": [
    "array[array%2==1]"
   ]
  },
  {
   "cell_type": "markdown",
   "metadata": {},
   "source": [
    "- Todos os elementos no intervalo de 10 a 20\n",
    "\n",
    "Quando temos multiplas condições podemos utilizar a função <code>np.where()</code>"
   ]
  },
  {
   "cell_type": "code",
   "execution_count": 45,
   "metadata": {
    "scrolled": true
   },
   "outputs": [
    {
     "data": {
      "text/plain": [
       "array([19, 18, 17, 18, 16, 20, 18, 14, 16, 10])"
      ]
     },
     "execution_count": 45,
     "metadata": {},
     "output_type": "execute_result"
    }
   ],
   "source": [
    "array[(array >= 10) & (array <= 20)]"
   ]
  },
  {
   "cell_type": "markdown",
   "metadata": {},
   "source": [
    "O símbolo <code>&</code> nesse caso faz o papel do <code>and</code>. "
   ]
  },
  {
   "cell_type": "markdown",
   "metadata": {},
   "source": [
    "- Todo os elementos menores que 15 ou maiores que 80"
   ]
  },
  {
   "cell_type": "code",
   "execution_count": 47,
   "metadata": {
    "scrolled": true
   },
   "outputs": [
    {
     "data": {
      "text/plain": [
       "array([ 3, 99,  2,  2, 96, 95, 82, 94,  7,  1, 85, 92, 81, 96, 82, 99,  7,\n",
       "       87, 92, 88, 85,  1, 94, 92, 91, 89,  9, 90,  1,  7, 82, 87, 98])"
      ]
     },
     "execution_count": 47,
     "metadata": {},
     "output_type": "execute_result"
    }
   ],
   "source": [
    "array[(array < 10) | (array > 80)]"
   ]
  },
  {
   "cell_type": "markdown",
   "metadata": {},
   "source": [
    "O símbolo <code>|</code> nesse caso faz o papel do <code>or</code>. "
   ]
  },
  {
   "cell_type": "markdown",
   "metadata": {
    "id": "SKfuFBeI9E5t"
   },
   "source": [
    "### Concatenação de vetores"
   ]
  },
  {
   "cell_type": "markdown",
   "metadata": {
    "id": "PSvkY0fV9IJ-"
   },
   "source": [
    "A concatenação de vetores é feita pelo uso da função *numpy.concatenate*. "
   ]
  },
  {
   "cell_type": "code",
   "execution_count": 25,
   "metadata": {
    "id": "HYU86iz79Re_"
   },
   "outputs": [],
   "source": [
    "x = np.array([1, 2, 3])\n",
    "y = np.array([3, 2, 1])"
   ]
  },
  {
   "cell_type": "code",
   "execution_count": 26,
   "metadata": {
    "colab": {
     "base_uri": "https://localhost:8080/"
    },
    "id": "igtVXuD99StW",
    "outputId": "fd86809e-851c-42d3-fac7-97746e703ef3"
   },
   "outputs": [
    {
     "data": {
      "text/plain": [
       "array([1, 2, 3])"
      ]
     },
     "execution_count": 26,
     "metadata": {},
     "output_type": "execute_result"
    }
   ],
   "source": [
    "x"
   ]
  },
  {
   "cell_type": "code",
   "execution_count": 27,
   "metadata": {
    "colab": {
     "base_uri": "https://localhost:8080/"
    },
    "id": "4sD9ZMUy9Tj-",
    "outputId": "00b37169-fc1b-4f35-a5a0-951c383f01cc"
   },
   "outputs": [
    {
     "data": {
      "text/plain": [
       "array([3, 2, 1])"
      ]
     },
     "execution_count": 27,
     "metadata": {},
     "output_type": "execute_result"
    }
   ],
   "source": [
    "y"
   ]
  },
  {
   "cell_type": "code",
   "execution_count": 29,
   "metadata": {
    "colab": {
     "base_uri": "https://localhost:8080/"
    },
    "id": "HhmAuKOa9U62",
    "outputId": "f7b69c62-01a8-46ba-8d9b-8f021460d243"
   },
   "outputs": [
    {
     "data": {
      "text/plain": [
       "array([1, 2, 3, 3, 2, 1])"
      ]
     },
     "execution_count": 29,
     "metadata": {},
     "output_type": "execute_result"
    }
   ],
   "source": [
    "np.concatenate([x,y])"
   ]
  },
  {
   "cell_type": "markdown",
   "metadata": {
    "id": "EvkMr4239gGS"
   },
   "source": [
    "E se em vez de vetores 1-D, tivéssemos vetores 2-D, como a concatenação é feita?"
   ]
  },
  {
   "cell_type": "code",
   "execution_count": 30,
   "metadata": {
    "id": "nSsRUX9E9mu2"
   },
   "outputs": [],
   "source": []
  },
  {
   "cell_type": "code",
   "execution_count": null,
   "metadata": {
    "id": "gQD2NVBN9kz9"
   },
   "outputs": [],
   "source": []
  },
  {
   "cell_type": "code",
   "execution_count": null,
   "metadata": {
    "id": "Lb2_mMaV9t0Q"
   },
   "outputs": [],
   "source": []
  },
  {
   "cell_type": "code",
   "execution_count": null,
   "metadata": {
    "id": "l9FbuZOB96rc"
   },
   "outputs": [],
   "source": []
  },
  {
   "cell_type": "code",
   "execution_count": null,
   "metadata": {
    "id": "OCStOssh-G5Q"
   },
   "outputs": [],
   "source": []
  },
  {
   "cell_type": "markdown",
   "metadata": {
    "id": "kX4dJpIZ-TlZ"
   },
   "source": [
    "#### np.vstack & np.hstack"
   ]
  },
  {
   "cell_type": "markdown",
   "metadata": {
    "id": "L0r0ppAg-XGT"
   },
   "source": [
    "Quando temos vetores de dimensões diferentes, para juntá-los podemos fazer uso das funções:      \n",
    "- np.vstack\n",
    "- np.hstack"
   ]
  },
  {
   "cell_type": "code",
   "execution_count": 34,
   "metadata": {
    "colab": {
     "base_uri": "https://localhost:8080/"
    },
    "id": "8Esxds25-hoX",
    "outputId": "a0155a39-23c9-4933-9f2c-ecec8159d8eb"
   },
   "outputs": [
    {
     "data": {
      "text/plain": [
       "array([1, 2, 3, 4])"
      ]
     },
     "execution_count": 34,
     "metadata": {},
     "output_type": "execute_result"
    }
   ],
   "source": [
    "arr1 = np.array([1,2,3,4])\n",
    "arr1"
   ]
  },
  {
   "cell_type": "code",
   "execution_count": 35,
   "metadata": {
    "colab": {
     "base_uri": "https://localhost:8080/"
    },
    "id": "yEr8U_Du-gPu",
    "outputId": "3968d4f2-c3ab-410f-8296-40427b5cda6a"
   },
   "outputs": [
    {
     "data": {
      "text/plain": [
       "array([[9, 8, 7, 6],\n",
       "       [6, 5, 4, 3]])"
      ]
     },
     "execution_count": 35,
     "metadata": {},
     "output_type": "execute_result"
    }
   ],
   "source": [
    "arr2 = np.array([[9, 8, 7,6],[6, 5, 4,3]])\n",
    "arr2"
   ]
  },
  {
   "cell_type": "code",
   "execution_count": 36,
   "metadata": {
    "colab": {
     "base_uri": "https://localhost:8080/"
    },
    "id": "t2OKwCqr-tKz",
    "outputId": "a7e281db-3e79-40c5-f4d1-9d10fa6268fb"
   },
   "outputs": [
    {
     "data": {
      "text/plain": [
       "array([[1, 2, 3, 4],\n",
       "       [9, 8, 7, 6],\n",
       "       [6, 5, 4, 3]])"
      ]
     },
     "execution_count": 36,
     "metadata": {},
     "output_type": "execute_result"
    }
   ],
   "source": [
    "np.vstack([arr1,arr2])"
   ]
  },
  {
   "cell_type": "markdown",
   "metadata": {
    "id": "NWtmCP9R_EKb"
   },
   "source": [
    "Para que *vstack* funcione, ambos os vetores precisam ter o mesmo número de colunas. "
   ]
  },
  {
   "cell_type": "code",
   "execution_count": null,
   "metadata": {
    "id": "ZxY7ClOW_K_4"
   },
   "outputs": [],
   "source": []
  },
  {
   "cell_type": "code",
   "execution_count": 39,
   "metadata": {
    "colab": {
     "base_uri": "https://localhost:8080/"
    },
    "id": "CYVZUsaz_LT_",
    "outputId": "80e2ea61-426b-472f-e7da-dcf0a6ebd1e5"
   },
   "outputs": [
    {
     "data": {
      "text/plain": [
       "array([40, 50])"
      ]
     },
     "execution_count": 39,
     "metadata": {},
     "output_type": "execute_result"
    }
   ],
   "source": [
    "arr3 = np.array([40,50])\n",
    "arr3"
   ]
  },
  {
   "cell_type": "code",
   "execution_count": 40,
   "metadata": {
    "colab": {
     "base_uri": "https://localhost:8080/"
    },
    "id": "gAdj4ZOV_RY4",
    "outputId": "93ad630c-11c2-47b8-a1ce-f7cac31ae75d"
   },
   "outputs": [
    {
     "data": {
      "text/plain": [
       "array([ 1,  2,  3,  4, 40, 50])"
      ]
     },
     "execution_count": 40,
     "metadata": {},
     "output_type": "execute_result"
    }
   ],
   "source": [
    "np.hstack([arr1,arr3])"
   ]
  },
  {
   "cell_type": "code",
   "execution_count": null,
   "metadata": {
    "id": "xtB1dTxD_W1c"
   },
   "outputs": [],
   "source": []
  },
  {
   "cell_type": "markdown",
   "metadata": {
    "id": "gnqwGg45_eBR"
   },
   "source": [
    "Para que *hstack* funcione, ambos os vetores precisam ter o mesmo número de linhas. "
   ]
  },
  {
   "cell_type": "markdown",
   "metadata": {
    "id": "NTtQ8PQ_-Hf1"
   },
   "source": [
    "### Quebra de arrays"
   ]
  },
  {
   "cell_type": "markdown",
   "metadata": {
    "id": "eFcPtnbIBwPz"
   },
   "source": [
    "Para particionar vetores, podemos usar a função *numpy.split*, vamos testá-la:"
   ]
  },
  {
   "cell_type": "code",
   "execution_count": 42,
   "metadata": {
    "colab": {
     "base_uri": "https://localhost:8080/"
    },
    "id": "jcwUDovg-KHn",
    "outputId": "46ab6401-2e51-4cb5-8387-2a1f04216c75"
   },
   "outputs": [
    {
     "data": {
      "text/plain": [
       "array([ 1,  2,  3, 99, 99,  3,  2,  1])"
      ]
     },
     "execution_count": 42,
     "metadata": {},
     "output_type": "execute_result"
    }
   ],
   "source": [
    "arr = np.array([1, 2, 3, 99, 99, 3, 2, 1])\n",
    "arr"
   ]
  },
  {
   "cell_type": "markdown",
   "metadata": {
    "id": "pt0NJaYTB7D4"
   },
   "source": [
    "Vamos partir esse vetor a partir da posição 2: "
   ]
  },
  {
   "cell_type": "code",
   "execution_count": 43,
   "metadata": {
    "colab": {
     "base_uri": "https://localhost:8080/"
    },
    "id": "jVmxgMhhB6Je",
    "outputId": "90e0b2f9-4c21-4c2d-ef88-99aed2070716"
   },
   "outputs": [
    {
     "data": {
      "text/plain": [
       "[array([1, 2]), array([ 3, 99, 99,  3,  2,  1])]"
      ]
     },
     "execution_count": 43,
     "metadata": {},
     "output_type": "execute_result"
    }
   ],
   "source": [
    "np.split(arr,[2])"
   ]
  },
  {
   "cell_type": "markdown",
   "metadata": {
    "id": "qfz0migtC8Ev"
   },
   "source": [
    "e se quisermos criar 4 pedaços do vetor, basta dizermos em quais posições queremos que essas partições sejam feitas. Por exemplo, vamos quebrar o vetor nas posições 2,5 e 7"
   ]
  },
  {
   "cell_type": "code",
   "execution_count": 45,
   "metadata": {
    "colab": {
     "base_uri": "https://localhost:8080/"
    },
    "id": "uSJRgAjUDOBo",
    "outputId": "40011101-9a2a-431d-ea6f-6bf153bed090"
   },
   "outputs": [
    {
     "data": {
      "text/plain": [
       "array([ 1,  2,  3, 99, 99,  3,  2,  1])"
      ]
     },
     "execution_count": 45,
     "metadata": {},
     "output_type": "execute_result"
    }
   ],
   "source": [
    "arr"
   ]
  },
  {
   "cell_type": "code",
   "execution_count": 44,
   "metadata": {
    "colab": {
     "base_uri": "https://localhost:8080/"
    },
    "id": "Cjc6C-3ODLiM",
    "outputId": "7cff8d83-998f-46b2-d92d-5cce168d5cd4"
   },
   "outputs": [
    {
     "data": {
      "text/plain": [
       "[array([1, 2]), array([ 3, 99, 99]), array([3, 2]), array([1])]"
      ]
     },
     "execution_count": 44,
     "metadata": {},
     "output_type": "execute_result"
    }
   ],
   "source": [
    "np.split(arr,[2,5,7])"
   ]
  },
  {
   "cell_type": "code",
   "execution_count": 46,
   "metadata": {
    "colab": {
     "base_uri": "https://localhost:8080/"
    },
    "id": "V2CxG5WsDLzS",
    "outputId": "5265abc6-95a9-466a-dee6-411cc854f1ee"
   },
   "outputs": [
    {
     "name": "stdout",
     "output_type": "stream",
     "text": [
      "[1 2]\n",
      "[ 3 99 99]\n",
      "[3 2]\n",
      "[1]\n"
     ]
    }
   ],
   "source": [
    "x,y,w,z = np.split(arr,[2,5,7])\n",
    "print(x)\n",
    "print(y)\n",
    "print(w)\n",
    "print(z)"
   ]
  },
  {
   "cell_type": "markdown",
   "metadata": {
    "id": "pFMExeViDe27"
   },
   "source": [
    "Na quebra do vetor, podemos fazer uso também das funções:    \n",
    "- vsplit\n",
    "- hsplit"
   ]
  },
  {
   "cell_type": "code",
   "execution_count": null,
   "metadata": {
    "id": "5z3GFd-XDl7g"
   },
   "outputs": [],
   "source": []
  },
  {
   "cell_type": "markdown",
   "metadata": {
    "id": "sD14FZNT19l8"
   },
   "source": [
    "<img src=\"https://github.com/jupotratz/Python_BI_Master/blob/main/Turmas/2021.3/Imagens/sep.png?raw=true\"  width=1000 height=125 />"
   ]
  },
  {
   "cell_type": "markdown",
   "metadata": {},
   "source": [
    "## Salvamento de dados"
   ]
  },
  {
   "cell_type": "markdown",
   "metadata": {},
   "source": [
    "#### Montagem do drive"
   ]
  },
  {
   "cell_type": "code",
   "execution_count": null,
   "metadata": {},
   "outputs": [],
   "source": [
    "from google.colab import drive\n",
    "drive.mount('/content/drive')"
   ]
  },
  {
   "cell_type": "code",
   "execution_count": null,
   "metadata": {},
   "outputs": [],
   "source": [
    "!ls 'drive/MyDrive/Colab Notebooks'"
   ]
  },
  {
   "cell_type": "code",
   "execution_count": null,
   "metadata": {},
   "outputs": [],
   "source": [
    "# Importar a biblioteca os\n",
    "import os\n",
    "\n",
    "# Utilizando a função .chdir()\n",
    "os.chdir('drive/MyDrive/Colab Notebooks')"
   ]
  },
  {
   "cell_type": "code",
   "execution_count": null,
   "metadata": {},
   "outputs": [],
   "source": [
    "!ls"
   ]
  },
  {
   "cell_type": "markdown",
   "metadata": {},
   "source": [
    "- O Numpy é capaz de salvar e carregar aqrquivos de a para o disco, seja em formato texto ou formato binário. Para tal são utilizadas as seguintes funções:\n",
    "\n",
    "    - **np.save(** path **)** : para salvar o arquivo no diretório (path) especificado\n",
    "    - **np.load(** path **)** : faz o download do arquivo cujo diretório (path) é o especificado\n"
   ]
  },
  {
   "cell_type": "markdown",
   "metadata": {},
   "source": [
    "- Criando arrays"
   ]
  },
  {
   "cell_type": "code",
   "execution_count": null,
   "metadata": {},
   "outputs": [],
   "source": [
    "array1 = np.reshape(np.arange(16),newshape=(4,4))\n",
    "array2 = np.full(shape=(3,3),fill_value=3)\n",
    "array3 = np.array([[1,2],[2,4]])"
   ]
  },
  {
   "cell_type": "markdown",
   "metadata": {},
   "source": [
    "- Salvando o array1 no diretório corrente"
   ]
  },
  {
   "cell_type": "code",
   "execution_count": null,
   "metadata": {},
   "outputs": [],
   "source": [
    "np.save('array1',array1)"
   ]
  },
  {
   "cell_type": "markdown",
   "metadata": {},
   "source": [
    "- Salvando o array2 no diretório corrente"
   ]
  },
  {
   "cell_type": "code",
   "execution_count": null,
   "metadata": {},
   "outputs": [],
   "source": [
    "np.save('array2.npy',array2)"
   ]
  },
  {
   "cell_type": "markdown",
   "metadata": {},
   "source": [
    "Rearem que no salvamento do array1 nós não colocamos a estensão. Mas por default a estensão sempre será <code>.npy</code>"
   ]
  },
  {
   "cell_type": "markdown",
   "metadata": {},
   "source": [
    "- Para fazer o download de uma arquivo numpy basta usar a função <code>.load()</code> da biblioteca numpy."
   ]
  },
  {
   "cell_type": "code",
   "execution_count": null,
   "metadata": {},
   "outputs": [],
   "source": [
    "# fazendo o download de arquivos numpy (*.npy)\n",
    "array = np.load('array1.npy')"
   ]
  },
  {
   "cell_type": "markdown",
   "metadata": {},
   "source": [
    "<img src=\"https://github.com/jupotratz/Python_BI_Master/blob/main/Turmas/2021.3/Imagens/sep.png?raw=true\"  width=1000 height=125 />"
   ]
  },
  {
   "cell_type": "markdown",
   "metadata": {},
   "source": [
    "## Broadcasting\n",
    "\n",
    "Em muitos casos, é necessário trabalhar com arrays com um número distinto de elementos, ou de formas diferentes. Nesse caso, é necessário entender as regras do NumPy que difundem as informações do array menor para o array maior.\n",
    "\n",
    "O termo difusão (broadcasting) descreve como NumPy trata arrays de dimensões diferentes em operações aritméticas. O array menor é “difundido” a uma array maior para que tenham as mesmas dimensões. \n",
    "\n",
    "Vamos ver um exemplo prático\n",
    "\n",
    "<img src='https://github.com/jupotratz/Python_BI_Master/blob/main/Turmas/2021.3/Broadcasting.png?raw=true' align=\"center\" />"
   ]
  },
  {
   "cell_type": "markdown",
   "metadata": {},
   "source": [
    "- **Exemplo 1**"
   ]
  },
  {
   "cell_type": "code",
   "execution_count": 52,
   "metadata": {},
   "outputs": [
    {
     "data": {
      "text/plain": [
       "array([[1, 1],\n",
       "       [1, 1],\n",
       "       [1, 1],\n",
       "       [1, 1]])"
      ]
     },
     "execution_count": 52,
     "metadata": {},
     "output_type": "execute_result"
    }
   ],
   "source": [
    "arr1 = np.ones((4,2),dtype='int')\n",
    "arr1"
   ]
  },
  {
   "cell_type": "code",
   "execution_count": 53,
   "metadata": {},
   "outputs": [],
   "source": [
    "arr2 = np.array([2,3])"
   ]
  },
  {
   "cell_type": "code",
   "execution_count": 54,
   "metadata": {},
   "outputs": [
    {
     "data": {
      "text/plain": [
       "array([[3, 4],\n",
       "       [3, 4],\n",
       "       [3, 4],\n",
       "       [3, 4]])"
      ]
     },
     "execution_count": 54,
     "metadata": {},
     "output_type": "execute_result"
    }
   ],
   "source": [
    "arr1 + arr2"
   ]
  },
  {
   "cell_type": "code",
   "execution_count": 55,
   "metadata": {},
   "outputs": [
    {
     "data": {
      "text/plain": [
       "array([[2, 3],\n",
       "       [2, 3],\n",
       "       [2, 3],\n",
       "       [2, 3]])"
      ]
     },
     "execution_count": 55,
     "metadata": {},
     "output_type": "execute_result"
    }
   ],
   "source": [
    "arr1 * arr2"
   ]
  },
  {
   "cell_type": "markdown",
   "metadata": {},
   "source": [
    "- **Exemplo 1**"
   ]
  },
  {
   "cell_type": "code",
   "execution_count": 56,
   "metadata": {},
   "outputs": [
    {
     "data": {
      "text/plain": [
       "array([[2],\n",
       "       [3],\n",
       "       [4]])"
      ]
     },
     "execution_count": 56,
     "metadata": {},
     "output_type": "execute_result"
    }
   ],
   "source": [
    "arr1 = np.array([[2], [3], [4]])\n",
    "arr1"
   ]
  },
  {
   "cell_type": "code",
   "execution_count": 57,
   "metadata": {},
   "outputs": [
    {
     "data": {
      "text/plain": [
       "array([2, 3, 4])"
      ]
     },
     "execution_count": 57,
     "metadata": {},
     "output_type": "execute_result"
    }
   ],
   "source": [
    "arr2 = np.array([2, 3, 4])\n",
    "arr2"
   ]
  },
  {
   "cell_type": "code",
   "execution_count": 58,
   "metadata": {},
   "outputs": [
    {
     "data": {
      "text/plain": [
       "array([[4, 5, 6],\n",
       "       [5, 6, 7],\n",
       "       [6, 7, 8]])"
      ]
     },
     "execution_count": 58,
     "metadata": {},
     "output_type": "execute_result"
    }
   ],
   "source": [
    "arr1 + arr2"
   ]
  },
  {
   "cell_type": "code",
   "execution_count": 59,
   "metadata": {},
   "outputs": [
    {
     "data": {
      "text/plain": [
       "array([[ 4,  6,  8],\n",
       "       [ 6,  9, 12],\n",
       "       [ 8, 12, 16]])"
      ]
     },
     "execution_count": 59,
     "metadata": {},
     "output_type": "execute_result"
    }
   ],
   "source": [
    "arr1 * arr2"
   ]
  },
  {
   "cell_type": "markdown",
   "metadata": {},
   "source": [
    "### Exercício - Broadcasting\n",
    "\n",
    "Faça um programa que gere o resultado esperado conforme a imagem abaixo:\n",
    "\n",
    "- Dicas:\n",
    "    - Crie arrays como especificado na imagem, utilize para isso os conhecimentos adquiridos nas aulas\n",
    "    - Lembre que as operações de array de tamanhos distintos podem gerar  resultados inesperados (a medida que for desenvolvendo o seu programa teste-o)\n",
    "\n",
    "<img src='https://github.com/jupotratz/Python_BI_Master/blob/main/Turmas/2021.3/Broadcasting_exerc%C3%ADcio.png?raw=true' height=\"800\" width=\"650\" align=\"center\" />\n"
   ]
  },
  {
   "cell_type": "code",
   "execution_count": null,
   "metadata": {},
   "outputs": [],
   "source": []
  }
 ],
 "metadata": {
  "colab": {
   "collapsed_sections": [
    "jDO4A6ESaFQ3",
    "YrjE1fPsYhZ8",
    "6Cu943CwRAoj",
    "wkkrYexwo3Cy",
    "i-NZSbTqpMGA"
   ],
   "name": "Talk_7.ipynb",
   "provenance": [],
   "toc_visible": true
  },
  "kernelspec": {
   "display_name": "Python 3",
   "language": "python",
   "name": "python3"
  },
  "language_info": {
   "codemirror_mode": {
    "name": "ipython",
    "version": 3
   },
   "file_extension": ".py",
   "mimetype": "text/x-python",
   "name": "python",
   "nbconvert_exporter": "python",
   "pygments_lexer": "ipython3",
   "version": "3.7.0"
  }
 },
 "nbformat": 4,
 "nbformat_minor": 1
}
