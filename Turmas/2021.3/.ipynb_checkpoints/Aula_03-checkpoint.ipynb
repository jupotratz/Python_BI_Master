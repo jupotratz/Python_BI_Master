{
 "cells": [
  {
   "cell_type": "markdown",
   "metadata": {
    "id": "80btK5XbwZYO"
   },
   "source": [
    "<img src=\"https://github.com/jupotratz/Python_BI_Master/blob/main/Imagens/logotipo.png?raw=true\"  width=1000 height=125 />"
   ]
  },
  {
   "cell_type": "markdown",
   "metadata": {
    "id": "QzcePa9W8N_Y"
   },
   "source": [
    "# Professoras\n",
    "\n",
    " - Amanda Lemette \n",
    "\t - prof.amanda@ica.ele.puc-rio.br\n",
    "\t - [Linkedin](https://www.linkedin.com/in/amanda-lemette-brand%C3%A3o-83280918b)\n",
    "   - [Youtube](https://www.youtube.com/c/AmandaLemette/featured)\n",
    "   \n",
    " - Júlia Potratz\n",
    "\t - prof.julia@ica.ele.puc-rio.br\n",
    "\t - [Linkedin](https://www.linkedin.com/in/julia-potratz)\n",
    " - Manoela Koehler\n",
    "     - prof.manoela@ica.ele.puc-rio.br\n",
    "     - [Linkedin](https://www.linkedin.com/in/manoelakohler/)\n",
    "     \n",
    "# Material \n",
    "\n",
    "Repositório no GitHub: [Python_BI_Master](https://github.com/jupotratz/Python_BI_Master)\n",
    "\n",
    "\n",
    "# Aula 2\n",
    "\n",
    "- **Plano de aula:**\n",
    "\n",
    "- Lista + tupla\n",
    "     - Acrescentar valores: <code>.append()</code>, <code>.insert()</code> e <code>.extend()</code>\n",
    "     - Remover valores: <code>.remove()</code>, <code>.pop()</code>\n",
    "     - Selecionar valores dentro da lista: indexação\n",
    "     - Verificar existência de um elemento na lista: <code>in</code>, <code>.count()</code>\n",
    "     - Ordenar listas: <code>.sort()</code>\n",
    "     - Extra: verificar valores unicos dentro de uma lista - <code>set()</code>\n",
    "     \n",
    "- Loops \n",
    "    - for\n",
    "        - Sintaxe\n",
    "        - Exemplos\n",
    "        - listas, range, enumerate, zip\n",
    "    - while\n",
    "        - Sintaxe\n",
    "        - Exemplos\n",
    "\n",
    "- Dicionários\n",
    "    - <code>.keys()</code>\n",
    "    - <code>.values()</code>\n",
    "    - <code>.items()</code>\n",
    "    - <code>.get()</code>"
   ]
  },
  {
   "cell_type": "markdown",
   "metadata": {},
   "source": [
    "<img src=\"https://github.com/jupotratz/Python_BI_Master/blob/main/Imagens/logotipo.png?raw=true\"  width=1000 height=125 />"
   ]
  },
  {
   "cell_type": "markdown",
   "metadata": {
    "id": "4Eo3EvIMJ4kf"
   },
   "source": [
    "## Problema proposto\n",
    "\n",
    "Daniel é dono de um mercadinho e com a pandemia do COVID 19 teve a necessidade de fazer uma adaptação no seu modelo de negócio e passar a oferecer compras online para os seus clientes. Para isso ele teve que investir tempo e dinheiro para a criação de um sistema para os seus clientes gerenciarem as suas compras em termos de valor, quantidade e produtos que estão sendo colocados no carrinho. Esses sistema tem o objetivo de informar um resumo do que está sendo comprado pelos clientes e deve permitir que a gente consiga acrescentar novos produtos, remover produtos e pesquisar os produtos que já estão no carrinho, caso seja necessário. \n",
    "\n",
    "### Características do problema\n",
    "- Temos que armazenar as informações dos produtos, quantidades e valores em algum lugar.\n",
    "- O usuário deve poder fazer a inserção e remoção de algum produto.\n",
    "- O usuário também tem que conseguir verificar se já existe um produto específico no carrinho (conferir se não esqueceu de nada).\n",
    "\n",
    "### Solução\n",
    "\n",
    "- Como poderíamos fazer isso em Python?\n",
    "\n",
    "- Com o que sabemos até agora vocês acham que é possível realizar todos esses procedimentos?\n",
    "  - Operadores (aritméticos, relacionais, lógicos)\n",
    "  - Dados inteiros\n",
    "  - Dados reais\n",
    "  - Estruturas condicionais\n",
    "\n",
    "<center><img src=\"https://dicasdamaia.files.wordpress.com/2017/12/duvida.png?w=190\" width=200 ><center>\n",
    "\n"
   ]
  },
  {
   "cell_type": "markdown",
   "metadata": {
    "id": "vlA-WrwMJRAC"
   },
   "source": [
    "# Listas\n",
    "\n",
    "Forma simples de interligar os elementos de um conjunto.\n",
    "- Agrupa informações referentes a um conjunto de elementos que se relacionam entre si de alguma forma.\n",
    "- Inúmeros tipos de dados podem ser representados\n",
    "por listas. Alguns exemplos de sistemas de\n",
    "informação são: \n",
    "  - Informações sobre os funcionários\n",
    "de uma empresa\n",
    "  - Notas de alunos\n",
    "  - Itens de estoque\n",
    "  - etc.\n",
    "- As listas podem armazenar um número **variável** de elementos, ou seja, o seu tamanho pode ser modificado.\n",
    "- Podemos acessar um elemento desse conjunto de dados por meio de um **índice** que representa a sua posição na lista.\n"
   ]
  },
  {
   "cell_type": "markdown",
   "metadata": {
    "id": "5d1PX1ygwZm6"
   },
   "source": [
    "<img src=\"https://github.com/jupotratz/Python_BI_Master/blob/main/Imagens/logotipo.png?raw=true\"  width=1000 height=125 />"
   ]
  },
  {
   "cell_type": "markdown",
   "metadata": {
    "id": "6REZYqpARLXH"
   },
   "source": [
    "# Listas\n",
    "---\n",
    "\n",
    "\n",
    "\n",
    "\n"
   ]
  },
  {
   "cell_type": "markdown",
   "metadata": {
    "id": "tF9_ZSpkTbd1"
   },
   "source": [
    "## Definindo uma lista\n",
    "\n",
    "<center><img src=\"https://github.com/jupotratz/Python_BI_Master/blob/main/Imagens/lista_definindo.JPG?raw=true\" width=400><center>\n",
    "\n",
    "Vamos definir as listas representadas na imagem acima e verificar o typo de cada uma das variáveis:"
   ]
  },
  {
   "cell_type": "code",
   "execution_count": null,
   "metadata": {
    "id": "h_V8E3BDdjBn"
   },
   "outputs": [],
   "source": [
    "lista = [10, 11, 12, 13, 14, 15]\n",
    "notas = [10, 9.5, 5, 7.2, 8.7]\n",
    "vazio = []\n",
    "outra_lista_vazia = list()"
   ]
  },
  {
   "cell_type": "code",
   "execution_count": null,
   "metadata": {
    "colab": {
     "base_uri": "https://localhost:8080/"
    },
    "id": "rkKTH9FZdjH2",
    "outputId": "e84c1eb4-7e00-4798-963c-f2582ca64feb"
   },
   "outputs": [],
   "source": [
    "(lista)"
   ]
  },
  {
   "cell_type": "code",
   "execution_count": null,
   "metadata": {
    "colab": {
     "base_uri": "https://localhost:8080/"
    },
    "id": "IjXU0554d714",
    "outputId": "6e987cff-a432-4dae-d62d-360af81371a4"
   },
   "outputs": [],
   "source": [
    "type(notas)"
   ]
  },
  {
   "cell_type": "code",
   "execution_count": null,
   "metadata": {
    "colab": {
     "base_uri": "https://localhost:8080/"
    },
    "id": "yDCtikG2d8BG",
    "outputId": "b26a838d-6bed-4d0f-97ab-46aad71fa99c"
   },
   "outputs": [],
   "source": [
    "type(vazio)"
   ]
  },
  {
   "cell_type": "code",
   "execution_count": null,
   "metadata": {
    "id": "6X5SZJUiOzwT"
   },
   "outputs": [],
   "source": [
    "type(outra_lista_vazia)"
   ]
  },
  {
   "cell_type": "markdown",
   "metadata": {
    "id": "CufQF_WVdiUL"
   },
   "source": [
    "## Acessando um elemento ou mais da lista\n",
    "\n",
    "Para acessar informações em tipos de dados que guardam doi ou mais elementos temos e=que entender como funciona a indexação no Python, ou seja, qual o **index numérico** de cada elemento.\n",
    "\n",
    "\n",
    "\n",
    "<center><img src=\"https://github.com/jupotratz/Python_BI_Master/blob/main/Imagens/lista_indices.JPG?raw=true\" width=650><center>\n"
   ]
  },
  {
   "cell_type": "code",
   "execution_count": null,
   "metadata": {
    "colab": {
     "base_uri": "https://localhost:8080/"
    },
    "id": "R3ca_vZGf3YS",
    "outputId": "fdfb3dcb-7b37-4e41-f75f-afb8230bebd4"
   },
   "outputs": [],
   "source": [
    "lista = [10, 11, 12, 13, 14, 15]\n",
    "print(lista)"
   ]
  },
  {
   "cell_type": "markdown",
   "metadata": {
    "id": "h0gXFlH6fyLC"
   },
   "source": [
    "- Vamos acessar o elemento 11 da nossa lista"
   ]
  },
  {
   "cell_type": "code",
   "execution_count": null,
   "metadata": {
    "colab": {
     "base_uri": "https://localhost:8080/"
    },
    "id": "Q1hFm67JdbbL",
    "outputId": "bd7abbd3-86fb-470b-c340-593958259508"
   },
   "outputs": [],
   "source": [
    "# Indice positivo\n",
    "lista[1]"
   ]
  },
  {
   "cell_type": "code",
   "execution_count": null,
   "metadata": {
    "colab": {
     "base_uri": "https://localhost:8080/"
    },
    "id": "KvTGnK2Edbdd",
    "outputId": "008be730-41d0-4bdf-a4c4-e318785d1139"
   },
   "outputs": [],
   "source": [
    "# Indice negativo\n",
    "lista[-5]"
   ]
  },
  {
   "cell_type": "markdown",
   "metadata": {
    "id": "6HXI84HVgHjO"
   },
   "source": [
    "- Vamos supor que agora a gente queira acessar um pedação da minha lista, por exemplo do primeiro elemento até o terceiro, como faríamos isso?\n",
    "\n",
    "<center><img src=\"https://dicasdamaia.files.wordpress.com/2017/12/duvida.png?w=190\"><center>\n",
    "\n",
    "\n"
   ]
  },
  {
   "cell_type": "code",
   "execution_count": null,
   "metadata": {
    "id": "ZHJVAliJdbh5"
   },
   "outputs": [],
   "source": []
  },
  {
   "cell_type": "markdown",
   "metadata": {
    "id": "3MVDKTQ-gxde"
   },
   "source": [
    "- Vamos entender como selecionar fatias das nossas listas:\n",
    "\n",
    "<center><img src=\"https://github.com/jupotratz/Python_BI_Master/blob/main/Imagens/indexa%C3%A7%C3%A3o_lista.JPG?raw=true\" width=600><center>\n",
    "\n"
   ]
  },
  {
   "cell_type": "code",
   "execution_count": null,
   "metadata": {
    "colab": {
     "base_uri": "https://localhost:8080/"
    },
    "id": "_hd_ZFDbdbju",
    "outputId": "a527c40d-0d3a-4bbc-e0b7-012de378c009"
   },
   "outputs": [],
   "source": [
    "lista = [10, 11, 12, 13, 14, 15]\n",
    "print(lista)"
   ]
  },
  {
   "cell_type": "markdown",
   "metadata": {
    "id": "WnPg_oOsg5WG"
   },
   "source": [
    "- Vamos selecionar do 1º ao terceiro elemento da lista"
   ]
  },
  {
   "cell_type": "code",
   "execution_count": null,
   "metadata": {
    "colab": {
     "base_uri": "https://localhost:8080/"
    },
    "id": "5KJzgUp_dblt",
    "outputId": "d385837c-6971-407c-ccba-8bbea3f67119"
   },
   "outputs": [],
   "source": [
    "lista[:3]"
   ]
  },
  {
   "cell_type": "markdown",
   "metadata": {
    "id": "DCb49xr9g_CC"
   },
   "source": [
    "- Vamos selecionar os 3 últimos elementos da lista"
   ]
  },
  {
   "cell_type": "code",
   "execution_count": null,
   "metadata": {
    "colab": {
     "base_uri": "https://localhost:8080/"
    },
    "id": "mZMWroq7dboD",
    "outputId": "d3d05b02-c186-4bcf-eeb1-80393b34558d"
   },
   "outputs": [],
   "source": [
    "lista[-3:]"
   ]
  },
  {
   "cell_type": "code",
   "execution_count": null,
   "metadata": {
    "colab": {
     "base_uri": "https://localhost:8080/"
    },
    "id": "-i9kU3sLhe1W",
    "outputId": "291b2aeb-92be-485f-f7c9-6b47b53630d4"
   },
   "outputs": [],
   "source": [
    "lista[len(lista)-3:]"
   ]
  },
  {
   "cell_type": "markdown",
   "metadata": {
    "id": "kwiR0fUshJgt"
   },
   "source": [
    "- E se eu quisesse selecionar os dois primeiros e os dois ultimos e criar uma nova lista com eles? Como fazer?"
   ]
  },
  {
   "cell_type": "code",
   "execution_count": null,
   "metadata": {
    "colab": {
     "base_uri": "https://localhost:8080/"
    },
    "id": "661bMcI6dbqD",
    "outputId": "899ef054-5869-449f-907f-f62007c33598"
   },
   "outputs": [],
   "source": [
    "lista[:2] + lista[-2:]"
   ]
  },
  {
   "cell_type": "code",
   "execution_count": null,
   "metadata": {
    "id": "Z3yeYcEell0N"
   },
   "outputs": [],
   "source": []
  },
  {
   "cell_type": "markdown",
   "metadata": {
    "id": "x2Vi3pjEldRa"
   },
   "source": [
    "## Acrescentando valores em uma lista\n",
    "\n",
    "Uma grande vantagem desse tipo de dado é que podemos criar uma lista e acrescentar novos dados quando for necessário. Existem algumas formas de fazer isso, são elas\n",
    "\n",
    "<center><img src=\"https://github.com/jupotratz/Python_BI_Master/blob/main/Imagens/listaxappendxextend.JPG?raw=true\" width=750><center>\n",
    "\n",
    "\n",
    "\n",
    "Sendo a variável lista que guarda a nossa sequência de dados, vamos ver na prática o que cada um desses métodos de lista fazem:\n",
    "\n",
    "\n"
   ]
  },
  {
   "cell_type": "markdown",
   "metadata": {
    "id": "51wS765SldUB"
   },
   "source": [
    "### lista.append( )\n",
    "\n",
    "- O método <code>.append( )</code> realiza o processo de anexar um novo elemento ao <code>final</code> de uma <code>lista</code>.\n",
    "\n",
    "<center><img src=\"https://github.com/jupotratz/Python_BI_Master/blob/main/Imagens/append.JPG?raw=true\" width=650><center>"
   ]
  },
  {
   "cell_type": "code",
   "execution_count": null,
   "metadata": {
    "colab": {
     "base_uri": "https://localhost:8080/"
    },
    "id": "eI_D_sqhoTF5",
    "outputId": "ca8a82da-cef3-4e19-ecae-8bc31b194592"
   },
   "outputs": [],
   "source": [
    "lista = [8, 5, 12, 20, 14]\n",
    "print(lista)"
   ]
  },
  {
   "cell_type": "code",
   "execution_count": null,
   "metadata": {
    "id": "oRng3MlhoYEp"
   },
   "outputs": [],
   "source": [
    "value = 16\n",
    "lista.append(value)"
   ]
  },
  {
   "cell_type": "code",
   "execution_count": null,
   "metadata": {
    "colab": {
     "base_uri": "https://localhost:8080/"
    },
    "id": "bWtlqhXooYKb",
    "outputId": "9eb4c386-7bf7-4359-8ac8-51c178d21c1a"
   },
   "outputs": [],
   "source": [
    "print(lista)"
   ]
  },
  {
   "cell_type": "markdown",
   "metadata": {
    "id": "mYdqxhsRldXI"
   },
   "source": [
    "### lista.insert( )\n",
    "\n",
    "- O método <code>.insert( )</code> realiza o processo de inserir um novo elemento ao <code>em qualquer posição</code> de uma <code>lista</code>.\n",
    "\n",
    "<center><img src=\"https://github.com/jupotratz/Python_BI_Master/blob/main/Imagens/insert2.JPG?raw=true\" width=650><center>"
   ]
  },
  {
   "cell_type": "code",
   "execution_count": null,
   "metadata": {
    "colab": {
     "base_uri": "https://localhost:8080/"
    },
    "id": "pgHK4vDmowNx",
    "outputId": "75847bad-87d9-4973-df51-8678d32183b8"
   },
   "outputs": [],
   "source": [
    "lista = [8, 5, 12, 20, 14]\n",
    "print(lista)"
   ]
  },
  {
   "cell_type": "code",
   "execution_count": null,
   "metadata": {
    "id": "TNhDL0XbowQ-"
   },
   "outputs": [],
   "source": [
    "value = 16\n",
    "position = 3\n",
    "lista.insert(position, value)"
   ]
  },
  {
   "cell_type": "code",
   "execution_count": null,
   "metadata": {
    "colab": {
     "base_uri": "https://localhost:8080/"
    },
    "id": "GtP4-uVpowVD",
    "outputId": "104dd07e-51b2-469e-ec2c-84893fe43016"
   },
   "outputs": [],
   "source": [
    "print(lista)"
   ]
  },
  {
   "cell_type": "markdown",
   "metadata": {
    "id": "frtQxb-sldZJ"
   },
   "source": [
    "### lista.extend( )\n",
    "\n",
    "- O método <code>.extend( )</code> realiza o processo de inserir um novo conjunto de elementos ao <code>final</code> de uma <code>lista</code>.\n",
    "\n",
    "<center><img src=\"https://github.com/jupotratz/Python_BI_Master/blob/main/Imagens/extend.JPG?raw=true\" width=650><center>\n",
    "\n",
    "\n"
   ]
  },
  {
   "cell_type": "code",
   "execution_count": null,
   "metadata": {
    "id": "UX1nTYNXp3xy"
   },
   "outputs": [],
   "source": [
    "lista = [8, 5, 12, 20, 14]\n",
    "print(lista)"
   ]
  },
  {
   "cell_type": "code",
   "execution_count": null,
   "metadata": {
    "id": "QXEuElXEp30V"
   },
   "outputs": [],
   "source": [
    "value = (16,50)\n",
    "lista.extend(value)"
   ]
  },
  {
   "cell_type": "code",
   "execution_count": null,
   "metadata": {
    "colab": {
     "base_uri": "https://localhost:8080/"
    },
    "id": "MrVJxTYap-Y5",
    "outputId": "60c81bb3-6e9a-4260-ce42-f09c0033cb5b"
   },
   "outputs": [],
   "source": [
    "print(lista)"
   ]
  },
  {
   "cell_type": "markdown",
   "metadata": {
    "id": "_fdr02PDqyue"
   },
   "source": [
    "- Nesse caso adicionamos uma tupla (elementos envoltos de parenteses separados por vírgulas). Mas também poderiamos usar outra lista."
   ]
  },
  {
   "cell_type": "code",
   "execution_count": null,
   "metadata": {
    "id": "sN6mqLSBrCs7"
   },
   "outputs": [],
   "source": [
    "lista = [8, 5, 12, 20, 14]\n",
    "print(lista)"
   ]
  },
  {
   "cell_type": "code",
   "execution_count": null,
   "metadata": {
    "id": "GP_vgVKsrCvY"
   },
   "outputs": [],
   "source": [
    "value = [16,50]\n",
    "lista.extend(value)"
   ]
  },
  {
   "cell_type": "code",
   "execution_count": null,
   "metadata": {
    "id": "D_9RS0aDrCyx"
   },
   "outputs": [],
   "source": [
    "print(lista)"
   ]
  },
  {
   "cell_type": "markdown",
   "metadata": {
    "id": "KSSdFraOldbZ"
   },
   "source": [
    "## Acrescentando valores em uma lista\n",
    "\n",
    "Assim como podemos acrescentar valores as nossas listas, também podemos remover. Existem algumas formas de fazer isso, são elas\n",
    "\n",
    "<center><img src=\"https://github.com/jupotratz/Python_BI_Master/blob/main/Imagens/remove_list.JPG?raw=true\" width=750><center>\n",
    "\n",
    "\n",
    "\n",
    "Sendo a variável lista que guarda a nossa sequência de dados, vamos ver na prática o que cada um desses métodos de lista fazem:"
   ]
  },
  {
   "cell_type": "markdown",
   "metadata": {
    "id": "kZ5SU_jlldda"
   },
   "source": [
    "### lista.remove( )\n",
    "\n",
    "- O método <code>.remove( )</code> realiza o processo de remover a <code>primeira ocorrência</code> de um elemento dentro de uma <code>lista</code>.\n",
    "\n",
    "<center><img src=\"https://github.com/jupotratz/Python_BI_Master/blob/main/Imagens/remove.JPG?raw=true\" width=650><center>"
   ]
  },
  {
   "cell_type": "code",
   "execution_count": null,
   "metadata": {
    "colab": {
     "base_uri": "https://localhost:8080/"
    },
    "id": "FdTYtDpRrqIn",
    "outputId": "495d4b01-fbc6-4540-b2fa-72dd8ba314d1"
   },
   "outputs": [],
   "source": [
    "lista = [10, 11,10, 10, 14, 20]\n",
    "print(lista)"
   ]
  },
  {
   "cell_type": "code",
   "execution_count": null,
   "metadata": {
    "id": "M2CuWrJsrqXm"
   },
   "outputs": [],
   "source": [
    "value = 10\n",
    "lista.remove(value)"
   ]
  },
  {
   "cell_type": "code",
   "execution_count": null,
   "metadata": {
    "colab": {
     "base_uri": "https://localhost:8080/"
    },
    "id": "qjhJ8xcprqk1",
    "outputId": "c824fbd5-38ea-4384-deb9-3e8b4e367010"
   },
   "outputs": [],
   "source": [
    "print(lista)"
   ]
  },
  {
   "cell_type": "markdown",
   "metadata": {
    "id": "p01mUoHzldfc"
   },
   "source": [
    "### lista.pop( )\n",
    "\n",
    "- O método <code>.pop( )</code> realiza o processo de remover um elemento de índice <code>i</code> de uma <code>lista</code>. Esse índice tem que ser passado como argumento essa função.\n",
    "\n",
    "<center><img src=\"https://github.com/jupotratz/Python_BI_Master/blob/main/Imagens/pop.JPG?raw=true\" width=650><center>"
   ]
  },
  {
   "cell_type": "code",
   "execution_count": null,
   "metadata": {
    "colab": {
     "base_uri": "https://localhost:8080/"
    },
    "id": "f1CoHY-xsa-r",
    "outputId": "9be49aef-8dea-491d-d79b-e7df57304dfd"
   },
   "outputs": [],
   "source": [
    "lista = [10, 11,10, 10, 14, 20]\n",
    "print(lista)"
   ]
  },
  {
   "cell_type": "code",
   "execution_count": null,
   "metadata": {
    "colab": {
     "base_uri": "https://localhost:8080/"
    },
    "id": "WaWHyGUusbBS",
    "outputId": "2b063524-c5ab-4887-92f8-01c175f2d701"
   },
   "outputs": [],
   "source": [
    "index = 1\n",
    "lista.pop(index)"
   ]
  },
  {
   "cell_type": "code",
   "execution_count": null,
   "metadata": {
    "colab": {
     "base_uri": "https://localhost:8080/"
    },
    "id": "FBvxSP9VsbD5",
    "outputId": "3c031268-a1e3-4ddb-c6c7-863b2b265a51"
   },
   "outputs": [],
   "source": [
    "print(lista)"
   ]
  },
  {
   "cell_type": "markdown",
   "metadata": {
    "id": "xJpXPQlYldh6"
   },
   "source": [
    "## Criando uma lista a partir de duas.\n",
    "\n",
    "- Vimos que podemos utilizar o extend para ampliar a nossa lista, acrescentando todos os valores de uma segunda lista através do método <code>.extend( )</code>. Existe um outro procedimento que pode ser realizado chamado de concatenação entre duas listas e se dá através da operação de soma. \n",
    "\n",
    "<center><img src=\"https://github.com/jupotratz/Python_BI_Master/blob/main/Imagens/concatenar.JPG?raw=true\" width=650><center>\n"
   ]
  },
  {
   "cell_type": "code",
   "execution_count": null,
   "metadata": {
    "id": "o4YiyjydlKig"
   },
   "outputs": [],
   "source": [
    "Lista_1 = [10, 11, 12]\n",
    "Lista_2 = [0, 1, 2]"
   ]
  },
  {
   "cell_type": "code",
   "execution_count": null,
   "metadata": {
    "colab": {
     "base_uri": "https://localhost:8080/"
    },
    "id": "AnzdVb_9tQ35",
    "outputId": "27557455-abe4-408b-bb70-859c9f075c44"
   },
   "outputs": [],
   "source": [
    "Lista_1 + Lista_2"
   ]
  },
  {
   "cell_type": "code",
   "execution_count": null,
   "metadata": {
    "colab": {
     "base_uri": "https://localhost:8080/"
    },
    "id": "Dvd5CIWEtQ66",
    "outputId": "b2c368d2-c344-44d5-ef27-6867be8565b4"
   },
   "outputs": [],
   "source": [
    "Lista_2 + Lista_1"
   ]
  },
  {
   "cell_type": "markdown",
   "metadata": {
    "id": "ULNiG8cStakt"
   },
   "source": [
    "Observação: Existe uma diferença muito grande quando utilizamos o .extend( )"
   ]
  },
  {
   "cell_type": "code",
   "execution_count": null,
   "metadata": {
    "colab": {
     "base_uri": "https://localhost:8080/"
    },
    "id": "ahUPBI-3tQ9j",
    "outputId": "6bfa809d-7f38-426f-e26a-0b30a7442be3"
   },
   "outputs": [],
   "source": [
    "print(Lista_1)\n",
    "print(Lista_2)"
   ]
  },
  {
   "cell_type": "code",
   "execution_count": null,
   "metadata": {
    "id": "-m_Ljc2PtQ_R"
   },
   "outputs": [],
   "source": [
    "# Usando o extend\n",
    "\n",
    "Lista_1.extend(Lista_2)"
   ]
  },
  {
   "cell_type": "code",
   "execution_count": null,
   "metadata": {
    "colab": {
     "base_uri": "https://localhost:8080/"
    },
    "id": "XdFLXXextRAp",
    "outputId": "5e49647b-6821-4498-b2ef-a69d3a81ef50"
   },
   "outputs": [],
   "source": [
    "print(Lista_1)\n",
    "print(Lista_2)"
   ]
  },
  {
   "cell_type": "markdown",
   "metadata": {
    "id": "L668X_n9tx76"
   },
   "source": [
    "## Replicando uma lista.\n",
    "\n",
    "- Nós podemos replicar o conteúdo de uma lista quantas vezes for necessário apenas aplicando uma operação de multiplicação.\n",
    "\n",
    "- Vale salientar que se o conteúdo da sua lista for numérico o Python **NÃO** vai multiplicar elemento a elemento por valor escalar (a estrutura de dado que realiza isso é conhecida como *vetor*)\n",
    "\n",
    "<center><img src=\"https://github.com/jupotratz/Python_BI_Master/blob/main/Imagens/replicar.JPG?raw=true\" width=650><center>"
   ]
  },
  {
   "cell_type": "code",
   "execution_count": null,
   "metadata": {
    "id": "T9olT5YWtRDO"
   },
   "outputs": [],
   "source": [
    "Lista_1 = [10, 11, 12]"
   ]
  },
  {
   "cell_type": "code",
   "execution_count": null,
   "metadata": {
    "colab": {
     "base_uri": "https://localhost:8080/"
    },
    "id": "njj38cqHtRF8",
    "outputId": "ee990277-c8c4-48d0-aca7-d47f34a4cb1c"
   },
   "outputs": [],
   "source": [
    "Lista_1*2"
   ]
  },
  {
   "cell_type": "code",
   "execution_count": null,
   "metadata": {
    "colab": {
     "base_uri": "https://localhost:8080/"
    },
    "id": "NSqqpnDwtRHn",
    "outputId": "a0e17158-0d72-40b3-d870-8433402ec1b9"
   },
   "outputs": [],
   "source": [
    "Lista_1*3"
   ]
  },
  {
   "cell_type": "markdown",
   "metadata": {
    "id": "W90iLIgwuf3J"
   },
   "source": [
    "### Contagem e verificação de um determinado elemento dentro de uma lista\n",
    "\n",
    "- Algumas vezes precisamos saber a recorrência ou existência de um elemento dentro de um conjunto de dados, como por exemplo as listas. Para isso podemos utilizar algumas funções úteis como os métodos .index( ) e .count( ).\n",
    "\n",
    "  \n",
    "\n",
    "  "
   ]
  },
  {
   "cell_type": "markdown",
   "metadata": {
    "id": "8F4iiPguwoRS"
   },
   "source": [
    "### lista.index( )\n",
    "\n",
    "- O método <code>.index(arg)</code> retorna o index de um determinado elemento dento de uma lista, mas ele retorna um erro caso aquele elemento não exista naquele conjunto de valores. Portanto, é um método pouco eficiente. \n",
    "\n",
    "<center><img src=\"https://github.com/jupotratz/Python_BI_Master/blob/main/Imagens/count_list.JPG?raw=true\" width=650><center>\n",
    "\n"
   ]
  },
  {
   "cell_type": "code",
   "execution_count": null,
   "metadata": {
    "colab": {
     "base_uri": "https://localhost:8080/"
    },
    "id": "GG7mXh1Jw6HT",
    "outputId": "8e5ac0dd-59f7-4f8f-ed4c-8b6a75fe7a8c"
   },
   "outputs": [],
   "source": [
    "lista = [10, 11,10, 10, 14, 20]\n",
    "print(lista)"
   ]
  },
  {
   "cell_type": "code",
   "execution_count": null,
   "metadata": {
    "id": "9XsWzVxWw6Mh"
   },
   "outputs": [],
   "source": [
    "value = 10\n",
    "resultado = lista.index(value)"
   ]
  },
  {
   "cell_type": "code",
   "execution_count": null,
   "metadata": {
    "colab": {
     "base_uri": "https://localhost:8080/"
    },
    "id": "PT4MMe9hw6RH",
    "outputId": "1dc32e7f-300c-4d7b-df9f-03c8df57debe"
   },
   "outputs": [],
   "source": [
    "print(resultado)"
   ]
  },
  {
   "cell_type": "markdown",
   "metadata": {
    "id": "p5xW4V-ww6T3"
   },
   "source": [
    "- Mas se eu tentar encontrar o index de um elemento que não pertence a lista o que acontece?"
   ]
  },
  {
   "cell_type": "code",
   "execution_count": null,
   "metadata": {
    "colab": {
     "base_uri": "https://localhost:8080/",
     "height": 165
    },
    "id": "a69SaGXGufNP",
    "outputId": "180fb56d-d0d9-45ed-9615-8b7f08ee4125"
   },
   "outputs": [],
   "source": [
    "lista.index(15)"
   ]
  },
  {
   "cell_type": "markdown",
   "metadata": {
    "id": "F0M-73nAwoXg"
   },
   "source": [
    "### lista.count( )\n",
    "\n",
    "- O método <code>.count(arg)</code> realiza uma contagem da quantidade de vezes que um determinado valor (<code>arg</code>) aparece naquele conjunto de dados.\n",
    "\n",
    "<center><img src=\"https://github.com/jupotratz/Python_BI_Master/blob/main/Imagens/contagem_lista.JPG?raw=true\" width=650><center>"
   ]
  },
  {
   "cell_type": "markdown",
   "metadata": {
    "id": "ChlQGYbpx0dn"
   },
   "source": [
    "- Primeiro teste"
   ]
  },
  {
   "cell_type": "code",
   "execution_count": null,
   "metadata": {
    "colab": {
     "base_uri": "https://localhost:8080/"
    },
    "id": "jTcLIcpsufPx",
    "outputId": "8c3755bf-e2bc-4b74-e078-bed1c0f440ee"
   },
   "outputs": [],
   "source": [
    "lista = [10, 11,10, 10, 14, 20]\n",
    "print(lista)"
   ]
  },
  {
   "cell_type": "code",
   "execution_count": null,
   "metadata": {
    "id": "JHt7xhfLufTa"
   },
   "outputs": [],
   "source": [
    "value = 10\n",
    "resultado = lista.count(value)"
   ]
  },
  {
   "cell_type": "code",
   "execution_count": null,
   "metadata": {
    "colab": {
     "base_uri": "https://localhost:8080/"
    },
    "id": "opK9b40qufU0",
    "outputId": "417788d9-b140-4bd0-c8cb-a2850f689ac5"
   },
   "outputs": [],
   "source": [
    "print(resultado)"
   ]
  },
  {
   "cell_type": "markdown",
   "metadata": {
    "id": "KZsCE9zqufWZ"
   },
   "source": [
    "- Segundo teste"
   ]
  },
  {
   "cell_type": "code",
   "execution_count": null,
   "metadata": {
    "id": "HUNqIsZdufcu"
   },
   "outputs": [],
   "source": [
    "value = 15\n",
    "resultado = lista.count(value)"
   ]
  },
  {
   "cell_type": "code",
   "execution_count": null,
   "metadata": {
    "colab": {
     "base_uri": "https://localhost:8080/"
    },
    "id": "GWgSq4hAufe7",
    "outputId": "a4c2d27b-20f1-404a-86b5-364e491ca188"
   },
   "outputs": [],
   "source": [
    "print(resultado)"
   ]
  },
  {
   "cell_type": "markdown",
   "metadata": {},
   "source": [
    "<img src=\"https://github.com/jupotratz/Python_BI_Master/blob/main/Imagens/logotipo.png?raw=true\"  width=1000 height=125 />"
   ]
  },
  {
   "cell_type": "markdown",
   "metadata": {
    "id": "hFviImjYzu3S"
   },
   "source": [
    "# Tuplas\n",
    "---\n",
    "\n",
    "Assim como as listas as tuplas são  conjuntos de valores, que podem receber elementos de quaisquer tipos e são acessados por meio dos conceitos de indexação já aprendidos. \n",
    "\n",
    "O que diferencia um dado tipo <code>list</code> de um dado tipo <code>tuple</code>, além da forma de definir esses tipos de dados é a questão da imutalidade do dado. Uma lista pode ser alterada depois de definida, uma tupla não.\n",
    "\n",
    "\n",
    "\n",
    "## Definição de uma tupla\n",
    "\n",
    "<center><img src=\"https://github.com/jupotratz/Python_BI_Master/blob/main/Imagens/tuple.JPG?raw=true\" width=450><center>"
   ]
  },
  {
   "cell_type": "code",
   "execution_count": null,
   "metadata": {
    "colab": {
     "base_uri": "https://localhost:8080/"
    },
    "id": "baBo-XyPzuQC",
    "outputId": "57276312-540d-4c1c-8af0-76beb24cecb3"
   },
   "outputs": [],
   "source": [
    "tupla = (10, 11,10, 10, 14, 20)\n",
    "print(tupla)"
   ]
  },
  {
   "cell_type": "code",
   "execution_count": null,
   "metadata": {
    "colab": {
     "base_uri": "https://localhost:8080/"
    },
    "id": "ByQLRN-l0mKI",
    "outputId": "f2bf72da-26eb-45cf-adf0-7b06a7ef1d38"
   },
   "outputs": [],
   "source": [
    "type(tupla)"
   ]
  },
  {
   "cell_type": "code",
   "execution_count": null,
   "metadata": {
    "id": "FTCuGEgJ0mNM"
   },
   "outputs": [],
   "source": [
    "tupla"
   ]
  },
  {
   "cell_type": "markdown",
   "metadata": {
    "id": "Lz5XFkM40rm4"
   },
   "source": [
    "Como uma tupla se assemelha a uma lista, mas ela é um tipo de dado incapaz de ser alterado existem apenas dois metodos para esse tipo de dado que são <code>.count()</code> e <code>.index()</code>. Esses  métodos funcionam exatamente igual ao observado nas listas. \n",
    "\n"
   ]
  },
  {
   "cell_type": "code",
   "execution_count": null,
   "metadata": {
    "colab": {
     "base_uri": "https://localhost:8080/"
    },
    "id": "OWtda3Ew0mO6",
    "outputId": "3b45cedd-be3e-4571-a49a-11e1bf9ef59b"
   },
   "outputs": [],
   "source": [
    "tupla.count(10)"
   ]
  },
  {
   "cell_type": "code",
   "execution_count": null,
   "metadata": {
    "colab": {
     "base_uri": "https://localhost:8080/"
    },
    "id": "NKHwxRfM0mRB",
    "outputId": "32573a65-0e0c-45d2-acc2-bebe1165b294"
   },
   "outputs": [],
   "source": [
    "tupla.index(10)"
   ]
  },
  {
   "cell_type": "markdown",
   "metadata": {
    "id": "QRZCqRyx1pao"
   },
   "source": [
    "- Vamos tentar adicionar um valor a tupla"
   ]
  },
  {
   "cell_type": "code",
   "execution_count": null,
   "metadata": {
    "colab": {
     "base_uri": "https://localhost:8080/",
     "height": 165
    },
    "id": "KHzW0Xvs1ub_",
    "outputId": "4f2198b1-643c-4984-d6fa-34440532e953"
   },
   "outputs": [],
   "source": [
    "tupla.append(16)"
   ]
  },
  {
   "cell_type": "markdown",
   "metadata": {
    "id": "KfjIMdjR1yOO"
   },
   "source": [
    "- Porém, conseguimos gerar novas tuplas concatenando ou replicando tuplas já existentes."
   ]
  },
  {
   "cell_type": "code",
   "execution_count": null,
   "metadata": {
    "id": "awwni4bO17dv"
   },
   "outputs": [],
   "source": [
    "t1 = (1,2,3)\n",
    "t2 = (4,5,6)"
   ]
  },
  {
   "cell_type": "code",
   "execution_count": null,
   "metadata": {
    "colab": {
     "base_uri": "https://localhost:8080/"
    },
    "id": "tkBCnp__17kJ",
    "outputId": "0f6c3ed4-6825-4725-bfbc-2954cf01a31f"
   },
   "outputs": [],
   "source": [
    "t1+t2"
   ]
  },
  {
   "cell_type": "code",
   "execution_count": null,
   "metadata": {
    "colab": {
     "base_uri": "https://localhost:8080/"
    },
    "id": "8S16pJU-17pa",
    "outputId": "e6ccafac-c2cc-443a-bb68-78a91596f28d"
   },
   "outputs": [],
   "source": [
    "type(t1+t2)"
   ]
  },
  {
   "cell_type": "code",
   "execution_count": null,
   "metadata": {
    "colab": {
     "base_uri": "https://localhost:8080/"
    },
    "id": "siZJcCT92FBl",
    "outputId": "454c1426-0d5e-4f6d-c998-938cd1d84717"
   },
   "outputs": [],
   "source": [
    "print(t1)\n",
    "print(t2)"
   ]
  },
  {
   "cell_type": "markdown",
   "metadata": {},
   "source": [
    "<img src=\"https://github.com/jupotratz/Python_BI_Master/blob/main/Imagens/logotipo.png?raw=true\"  width=1000 height=125 />"
   ]
  },
  {
   "cell_type": "markdown",
   "metadata": {},
   "source": [
    "# Repetição\n",
    "\n",
    "---\n",
    "Uma das principais características que consolidaram o sucesso na utilização dos computadores para a resolução de problemas foi a sua capacidade de repetir o processamento de um conjunto de operações para grandes quantidades de dados. Exemplos de conjuntos de tarefas que repetimos diversas vezes dentro de uma situação específica podem ser observados largamente no nosso dia a dia.\n",
    "\n",
    "As estruturas de repetição provém uma maneira de repetir um conjunto de procedimentos até que determinado objetivo seja atingido, quando a repetição se encerra. Todas as estruturas de repetição têm em comum o fato de haver uma condição de controle, expressa através de uma expressão lógica, que é testada em cada ciclo para determinar se a repetição prossegue ou não.\n",
    "\n",
    "Em python, são utilizadas dois tipos de estrutura condicional:\n",
    "\n",
    "- FOR\n",
    "- WHILE\n",
    "\n",
    "\n",
    "Vamos explorar um pouco cada uma delas...\n",
    "\n",
    "\n",
    "\n",
    "\n",
    "\n",
    "\n"
   ]
  },
  {
   "cell_type": "markdown",
   "metadata": {},
   "source": [
    "<img src=\"https://github.com/jupotratz/Python_BI_Master/blob/main/Imagens/logotipo.png?raw=true\"  width=1000 height=125 />"
   ]
  },
  {
   "cell_type": "markdown",
   "metadata": {},
   "source": [
    "## for\n",
    "\n",
    "- O bloco de repetição <code>for</code> normalmente é utilizado quando temos número fixo de repetições, ou seja, sabemos quantas vezes o bloco de comandos determinado deve ser executado, se utiliza uma lista para se iterar a repetição. Algumas indicações de que podemos usar o for:\n",
    "\n",
    "  - Existência de uma sequência de valores\n",
    "\n",
    "<center><img src=\"https://github.com/jupotratz/Python_BI_Master/blob/main/Turmas/2021.3/Imagens/for.JPG?raw=true\" width=900><center>\n",
    "    \n",
    "\n"
   ]
  },
  {
   "cell_type": "markdown",
   "metadata": {},
   "source": [
    "- Para facilitar o entendimento das estruturas, vamos importar uma biblioteca para controlar o tempo de execução do código chamada time.\n",
    "\n",
    "```\n",
    "import time\n",
    "```\n",
    "\n",
    "- Iremos utilizar a função <code>.sleep()</code> dessa biblioteca, na qual passamos como arqgumento o tempo em segundos que queremos paralizar a execução do código. "
   ]
  },
  {
   "cell_type": "code",
   "execution_count": null,
   "metadata": {},
   "outputs": [],
   "source": [
    "import time"
   ]
  },
  {
   "cell_type": "markdown",
   "metadata": {},
   "source": [
    "## Lista | Tupla | Vetor | Serie"
   ]
  },
  {
   "cell_type": "code",
   "execution_count": null,
   "metadata": {},
   "outputs": [],
   "source": [
    "lista = [1,2,3,4,5,6,7,8,9,10]"
   ]
  },
  {
   "cell_type": "markdown",
   "metadata": {},
   "source": [
    "- Vamos inverter a lista para podermo entender melhor o que está acontecendo. Para isso podemos utilizar uma notação do python muito simples para inverter sequências de valores.\n",
    "\n",
    "```\n",
    "lista = lista[::-1]\n",
    "```"
   ]
  },
  {
   "cell_type": "code",
   "execution_count": null,
   "metadata": {},
   "outputs": [],
   "source": [
    "lista = lista[::-1]\n",
    "print(lista)"
   ]
  },
  {
   "cell_type": "markdown",
   "metadata": {},
   "source": [
    "- Com a estrutura de repetição for vamos percorrer a nossa lista e multiplicar cada valor da lista por 3 e mostrar os resultados na tela."
   ]
  },
  {
   "cell_type": "code",
   "execution_count": null,
   "metadata": {},
   "outputs": [],
   "source": [
    "for elemento in lista:\n",
    "    time.sleep(2)\n",
    "    print(elemento*3)"
   ]
  },
  {
   "cell_type": "markdown",
   "metadata": {},
   "source": [
    "- Com a estrutura de repetição for vamos percorrer a nossa tupla de valores e mostrar para o usuário apenas os valores que são pares."
   ]
  },
  {
   "cell_type": "code",
   "execution_count": null,
   "metadata": {},
   "outputs": [],
   "source": [
    "tupla = (10,11,34,76,35,21,28)\n",
    "for elemento in tupla:\n",
    "    time.sleep(2)\n",
    "    if elemento % 2 ==0:\n",
    "      print(elemento)"
   ]
  },
  {
   "cell_type": "markdown",
   "metadata": {},
   "source": [
    "## Problema\n",
    "\n",
    " - Precisamos criar uma lista começando do 1 e indo até o 30. \n",
    " -  Precisamos criar uma lista numérica começando do 0 e indo até 1000 porém apenas com valores que sejam pares.\n",
    " - Precisamos criar uma lista decrescente de 10 a 1.\n",
    "\n",
    "\n",
    "#### Como poderíamos fazer isso sem criar a lista manualmente?\n",
    "\n",
    "\n",
    " <center><img src=\"https://dicasdamaia.files.wordpress.com/2017/12/duvida.png?w=190\"><center>"
   ]
  },
  {
   "cell_type": "markdown",
   "metadata": {},
   "source": [
    "## Range\n",
    "\n",
    "- Consiste em uma forma prática de se escrever uma lista em ordem crescente ou decrescente, o até mesmo, considerando intervalos de valores.\n",
    "\n",
    "\n",
    "```\n",
    "range(valor_inicial=0, valor_final, step)\n",
    "```\n"
   ]
  },
  {
   "cell_type": "markdown",
   "metadata": {},
   "source": [
    "- Vamos gerar uma lista por meio do range de valores inteiros de 1 a 10"
   ]
  },
  {
   "cell_type": "code",
   "execution_count": null,
   "metadata": {},
   "outputs": [],
   "source": [
    "range_1 = range(1,30)\n",
    "print('A quantidade de elementos gerado é: ', len(range_1))\n",
    "print(list(range_1))"
   ]
  },
  {
   "cell_type": "markdown",
   "metadata": {},
   "source": [
    "- Mas ele gerou de 1 a 29, o que pode ter acontecido?\n",
    "\n",
    "  - Isso tem a ver com  a questão da indexação, como a indexação começa no zero o ultimo elemento sempre é um stop e não pertence ás nossa sequências."
   ]
  },
  {
   "cell_type": "code",
   "execution_count": null,
   "metadata": {},
   "outputs": [],
   "source": [
    "range_1 = range(1,31)\n",
    "print(list(range_1))"
   ]
  },
  {
   "cell_type": "markdown",
   "metadata": {},
   "source": [
    "- Vamos gerar uma lista por meio do range de valores inteiros de 0 a 1001, mas com passo 2."
   ]
  },
  {
   "cell_type": "code",
   "execution_count": null,
   "metadata": {},
   "outputs": [],
   "source": [
    "range_2 = range(0,1001,2)\n",
    "print('Elementos gerados: ',list(range_2))"
   ]
  },
  {
   "cell_type": "markdown",
   "metadata": {},
   "source": [
    "- Vamos gerar uma lista decescente de 10 a 1 com passo -1."
   ]
  },
  {
   "cell_type": "code",
   "execution_count": null,
   "metadata": {},
   "outputs": [],
   "source": [
    "range_3 = range(10,0,-1)\n",
    "print(list(range_3))"
   ]
  },
  {
   "cell_type": "markdown",
   "metadata": {},
   "source": [
    "## Problema\n",
    "\n",
    "A organização de uma maratona aquática não foi muito eficiente e eles acabaram salvando cada uma das informações dos competidores em em conjuntos de dados separados. Uma lista só com os nomes, uma lista só com as idades, uma lista só com o telefone, etc. Pelo menos as posições de cada umas das informações nas diferentes listas corresponde. \n",
    "\n",
    "<center><img src=\"https://github.com/jupotratz/Python_BI_Master/blob/main/Turmas/2021.3/Imagens/maratona_aquatica.PNG?raw=true\" width=450>"
   ]
  },
  {
   "cell_type": "markdown",
   "metadata": {},
   "source": [
    "A organização precisa realizar algumas tarefas com essas informações contidas nessas listas, são elas:\n",
    "- Gerar um número de identificação para imprimir na touca de cada participante, para isso podem gerar os números de acordo com a ordem presente na lista.\n",
    "- Conferir algumas informações de participantes específicos, como por exemplo o  João, para isso precisam da informação do telefone dessas alunos. \n",
    "\n",
    "#### Como será que poderíamos fazer isso?\n",
    "\n",
    " <center><img src=\"https://dicasdamaia.files.wordpress.com/2017/12/duvida.png?w=190\">"
   ]
  },
  {
   "cell_type": "markdown",
   "metadata": {},
   "source": [
    "## Enumerate x Zip\n",
    "\n",
    "<center><img src=\"https://github.com/jupotratz/Python_BI_Master/blob/main/Turmas/2021.3/Imagens/enumerate_zip.PNG?raw=true\"><center>"
   ]
  },
  {
   "cell_type": "markdown",
   "metadata": {},
   "source": [
    "### Enumerate\n",
    "\n",
    "A função <code>enumerate()</code> retorna um objeto iterável, geralmente utilizado dentro de estruturas de repetição <code>for</code>. Ele permite que simultâneamente acessemos as informações do index e do valor dos elementos de tipos de dados como listas, tuplas, vetores, etc.\n",
    "\n",
    "Por exemplo, vamos criar uma lista e aplicar a função enumerate nela:"
   ]
  },
  {
   "cell_type": "code",
   "execution_count": null,
   "metadata": {},
   "outputs": [],
   "source": [
    "nomes = ['Julia', 'Amanda', 'João', 'Flavia','Matheus','Carlos']"
   ]
  },
  {
   "cell_type": "code",
   "execution_count": null,
   "metadata": {},
   "outputs": [],
   "source": [
    "enumerate(nomes)"
   ]
  },
  {
   "cell_type": "markdown",
   "metadata": {},
   "source": [
    "- Reparem que a função retornou algo estranho...\n",
    "\n",
    "- Na verdade a função retornou um objeto iterável, caso eu queira vizualizar, posso tranformar esse objeto em uma lista ou tupla por exemplo. \n",
    "\n"
   ]
  },
  {
   "cell_type": "code",
   "execution_count": null,
   "metadata": {},
   "outputs": [],
   "source": [
    "list(enumerate(nomes))"
   ]
  },
  {
   "cell_type": "markdown",
   "metadata": {},
   "source": [
    "- Reparem que ele gerou uma lista de tuplas, onde cada tupla tem o número (index) e o valor de cada elemento da nossa lista de nomes.\n",
    "\n",
    "- Ainda podemos definir um index de inicio diferente para a nossa função enumerate."
   ]
  },
  {
   "cell_type": "code",
   "execution_count": null,
   "metadata": {},
   "outputs": [],
   "source": [
    "list(enumerate(nomes, start=1))"
   ]
  },
  {
   "cell_type": "markdown",
   "metadata": {},
   "source": [
    "Vamos aplicar esse conceito do enumerate para o problema de gerar os números para as toucas dos participantes, utilizando uma estrutura de repetição:\n",
    "\n",
    "\n",
    "**Observação importante**"
   ]
  },
  {
   "cell_type": "code",
   "execution_count": null,
   "metadata": {},
   "outputs": [],
   "source": [
    "## Podemos atribuir os valores de uma tupla da seguinte forma \n",
    "index, valor = (1, 'Julia')\n",
    "print(index)\n",
    "print(valor)"
   ]
  },
  {
   "cell_type": "markdown",
   "metadata": {},
   "source": [
    "Vamos gerar os valores para cada um dos participantes então, começando do zero.\n",
    "\n",
    "Vamos também padronizar os números no seguinte formato\n",
    "\n",
    "\n",
    "\n",
    "|Número|Código da competição|\n",
    "|:---:|:---:|\n",
    "|1|0001|\n",
    "|2|0002|\n",
    "|3|0003|\n",
    "|4|0004|\n"
   ]
  },
  {
   "cell_type": "code",
   "execution_count": null,
   "metadata": {},
   "outputs": [],
   "source": []
  },
  {
   "cell_type": "code",
   "execution_count": null,
   "metadata": {},
   "outputs": [],
   "source": [
    "# Possível solução\n",
    "nomes = ['Julia', 'Amanda', 'João', 'Flavia','Matheus','Carlos']\n",
    "\n",
    "for numero, nome in enumerate(nomes,start=1):\n",
    "  numero_str = str(numero)\n",
    "  if len(numero_str) != 4:\n",
    "    cod = '0'*(4-len(numero_str)) + numero_str\n",
    "    print(f'{nome} - {cod}')\n",
    "    continue\n",
    "  print(f'{nome} - {numero}')"
   ]
  },
  {
   "cell_type": "markdown",
   "metadata": {},
   "source": [
    "## Zip\n",
    "\n",
    "O método <code>zip()</code> do Python pega  um conjunto de elementos ou iteráveis ​​e retorna um único objeto iterador, tendo valores mapeados de todos os conjuntos introduzidos no **zip**. \n",
    "\n",
    "Ele é usado para mapear o índice semelhante de vários contêineres para que eles possam ser usados ​​usando apenas uma única entidade. \n",
    "\n",
    "**Vamos entender melhor o que é esse zip voltando para o nosso problema dos participantes da maratona...**\n",
    "\n",
    "<center><img src=\"https://github.com/jupotratz/Python_BI_Master/blob/main/Turmas/2021.3/Imagens/maratona_aquatica.PNG?raw=true\" width=450><center>"
   ]
  },
  {
   "cell_type": "code",
   "execution_count": null,
   "metadata": {},
   "outputs": [],
   "source": [
    "nomes = ['Julia', 'Amanda', 'João', 'Flavia','Matheus','Carlos']\n",
    "idades = [25, 33, 45, 32, 26, 18]\n",
    "telefones = ['99365-5487','98652-3654','97939-1821','97225-9988','96512-8155','95799-6322']"
   ]
  },
  {
   "cell_type": "markdown",
   "metadata": {},
   "source": [
    "- Vamos zipar todas essa listas em um unico objeto iterador"
   ]
  },
  {
   "cell_type": "code",
   "execution_count": null,
   "metadata": {},
   "outputs": [],
   "source": [
    "zip(nomes,idades, telefones)"
   ]
  },
  {
   "cell_type": "markdown",
   "metadata": {},
   "source": [
    "- Reparem que, assim como no enumerate a função retornou algo estranho...\n",
    "\n",
    "- Na verdade a função retornou um objeto zip iterável, caso eu queira vizualizar, podemos tranformar esse objeto em uma lista ou tupla por exemplo. \n"
   ]
  },
  {
   "cell_type": "code",
   "execution_count": null,
   "metadata": {},
   "outputs": [],
   "source": [
    "list(zip(nomes,idades, telefones))"
   ]
  },
  {
   "cell_type": "markdown",
   "metadata": {},
   "source": [
    "- Reparem no que ele mostrou como resultado, uma tupla contendo as informações correspondentes de cada uma das listas separadamente juntas, então se eu quisesse pegar todas as informações da Amanda, poderiamos selecionar o elemento de index 1 dessa lista criada. Podemos ver esse exemplo abaixo:"
   ]
  },
  {
   "cell_type": "code",
   "execution_count": null,
   "metadata": {},
   "outputs": [],
   "source": [
    "print(list(zip(nomes,idades, telefones))[1])"
   ]
  },
  {
   "cell_type": "markdown",
   "metadata": {},
   "source": [
    "**Visto isso, como poderiamos através do zip pegar as informações do João para ligar para ele e conferir as informações:**\n",
    "\n",
    " <center><img src=\"https://dicasdamaia.files.wordpress.com/2017/12/duvida.png?w=190\"><center>\n"
   ]
  },
  {
   "cell_type": "code",
   "execution_count": null,
   "metadata": {},
   "outputs": [],
   "source": [
    "# Desenvolver a solução"
   ]
  },
  {
   "cell_type": "code",
   "execution_count": null,
   "metadata": {},
   "outputs": [],
   "source": []
  },
  {
   "cell_type": "code",
   "execution_count": null,
   "metadata": {},
   "outputs": [],
   "source": [
    "# Possível soução\n",
    "nomes = ['Julia', 'Amanda', 'João', 'Flavia','Matheus','Carlos']\n",
    "idades = [25, 33, 45, 32, 26, 18]\n",
    "telefones = ['99365-5487','98652-3654','97939-1821','97225-9988','96512-8155','95799-6322']\n",
    "\n",
    "for nome, idade, telefone in zip(nomes,idades, telefones):\n",
    "  if nome == \"João\":\n",
    "    print(f'Nome: {nome}\\nIdade: {idade} anos\\nTelefone: {telefone}')"
   ]
  },
  {
   "cell_type": "markdown",
   "metadata": {},
   "source": [
    "**Poderiamos resolver esse mesmo problema com a função** <code>enumerate()</code> ?"
   ]
  },
  {
   "cell_type": "code",
   "execution_count": null,
   "metadata": {},
   "outputs": [],
   "source": [
    "# Desenvolver a solução"
   ]
  },
  {
   "cell_type": "code",
   "execution_count": null,
   "metadata": {},
   "outputs": [],
   "source": []
  },
  {
   "cell_type": "code",
   "execution_count": null,
   "metadata": {},
   "outputs": [],
   "source": [
    "# Possível soução\n",
    "nomes = ['Julia', 'Amanda', 'João', 'Flavia','Matheus','Carlos']\n",
    "idades = [25, 33, 45, 32, 26, 18]\n",
    "telefones = ['99365-5487','98652-3654','97939-1821','97225-9988','96512-8155','95799-6322']\n",
    "\n",
    "for index, nome in enumerate(nomes):\n",
    "  if nome == 'João':\n",
    "    idade = idades[index]\n",
    "    telefone = telefones[index]\n",
    "    print(f'Nome: {nome}\\nIdade: {idade} anos\\nTelefone: {telefone}')"
   ]
  },
  {
   "cell_type": "markdown",
   "metadata": {},
   "source": [
    "<img src=\"https://github.com/jupotratz/Python_BI_Master/blob/main/Imagens/logotipo.png?raw=true\"  width=1000 height=125 />"
   ]
  },
  {
   "cell_type": "markdown",
   "metadata": {},
   "source": [
    "## While\n",
    "\n",
    "- O bloco de repetição <code>while</code> normalmente é utilizado quando temos número **variável** de repetições, ou seja, não sabemos ao certo quantas vezes o bloco de comandos determinado deve ser executado. Para determinar a continuação ou não continuação da repetição é utilizado um teste de condição válido para cada caso (de acordo com a lógica do problema):\n",
    "\n",
    "\n",
    "<center><img src=\"https://github.com/jupotratz/Python_BI_Master/blob/main/Turmas/2021.3/Imagens/while.JPG?raw=true\" width=900><center>\n",
    "\n",
    "\n"
   ]
  },
  {
   "cell_type": "markdown",
   "metadata": {},
   "source": [
    "#### Vamos pensar em um exemplo prático de repetição em que não temos um número definido de vezes que vamos ter que repetir o procedimento\n",
    "\n",
    "- Fábrica de automóveis:\n",
    "\n",
    "\n",
    "<center><img src=\"https://github.com/jupotratz/Python_BI_Master/blob/main/Turmas/2021.3/Imagens/cadeia_produtiva_fabrica.png?raw=true\" width=500>\n",
    "\n",
    "\n"
   ]
  },
  {
   "cell_type": "markdown",
   "metadata": {},
   "source": [
    "- Para construir um carro, uma fabrica precisa de 50 parafusos **não defeituosos**, e para isso eles colocam um funcionário para realizar a verificação de cada parafuso para que não haja problema na linha de montagem. \n",
    "  - O funcionário separa grupos de parafusos para cada automóvel seguindo o seguinte procedimento:\n",
    "\n",
    "```\n",
    "1. Pega a caixa de peças do carro x\n",
    "2. Pega um parafuso\n",
    "3. Verifica se o parafuso é defeituoso\n",
    "  3.1. Se for defeituoso joga na caixa de peças defeituosas\n",
    "  3.2. Se não for defeituoso joga na caixa de peças para o carro x \n",
    "4. Verifica se existem 50 parafusos, caso contrário volta ao passo 2\n",
    "5. Quando chega a 50 parafusos, passa a caixa de peças para a sequência da linha de produção. \n",
    "```\n",
    "### Algumas perguntinhas\n",
    "- Quantos parafusos o funcionário verificou para completar a quantidade de parafusos necessários para o carro x?\n",
    "- Qual foi a condição para ele parar de verificar parafusos defeituosos para o carro x?\n",
    "\n",
    "<center><img src=\"https://dicasdamaia.files.wordpress.com/2017/12/duvida.png?w=190\">"
   ]
  },
  {
   "cell_type": "markdown",
   "metadata": {},
   "source": [
    "Vamos, agora, ver um exemplo bem direto sobre o uso do loop **while**: \n",
    "\n",
    "Considere que você tem um dado de jogo e foi desafiado a gerar 6 vezes o número 6 do dado, quantas rodadas serão necessárias para isso?"
   ]
  },
  {
   "cell_type": "markdown",
   "metadata": {},
   "source": [
    "Antes de programarmos a solução, vamos montar o algoritmo desse problema:\n",
    "\n",
    "```\n",
    "1. Crie uma variável chamada acerto que recebe o número zero, ela irá ser atualizada em 1 unidade toda vez que o número 6 for sorteado\n",
    "2. Sorteie um número inteiro entre 1 e 6\n",
    "3. O número sorteado é igual a 6?\n",
    "  3.1. Se sim, acerto é acrescido de 1 unidade\n",
    "  3.2. Se não, não faça nada\n",
    "4. acerto é igual a 6? \n",
    "  4.1. Se sim, fim do jogo\n",
    "  4.2. Se não, retorne ao passo 2\n",
    "```\n",
    "\n",
    "Para realizarmos o passo 2 do algoritmo, precisamos fazer a importação de uma biblioteca para podermos utilizar uma função que sorteia números inteiros dentro de um intervalo. \n",
    "\n",
    "Essa biblioteca se chama [**random**](https://docs.python.org/3/library/random.html) e a função que iremos utilizar é **randint**."
   ]
  },
  {
   "cell_type": "code",
   "execution_count": null,
   "metadata": {},
   "outputs": [],
   "source": [
    "import random"
   ]
  },
  {
   "cell_type": "code",
   "execution_count": null,
   "metadata": {},
   "outputs": [],
   "source": [
    "# Desenvolver código"
   ]
  },
  {
   "cell_type": "code",
   "execution_count": null,
   "metadata": {},
   "outputs": [],
   "source": []
  },
  {
   "cell_type": "code",
   "execution_count": null,
   "metadata": {},
   "outputs": [],
   "source": [
    "# Código pronto\n",
    "acerto = 0\n",
    "while acerto < 6:\n",
    "  num = random.randint(1,6)\n",
    "  if num == 6:\n",
    "    acerto += 1 \n",
    "print(acerto) "
   ]
  },
  {
   "cell_type": "markdown",
   "metadata": {},
   "source": [
    "- Agora, se quisermos saber quantas tentativas erradas foram feitas, como adaptamos o código anterior?\n",
    "\n",
    "- Podemos criar outra variável que contabiliza o número de vezes que o dado sorteou um valor diferente de 6. Essa contabilização deve ser feita dentro do *else*."
   ]
  },
  {
   "cell_type": "code",
   "execution_count": null,
   "metadata": {},
   "outputs": [],
   "source": [
    "# Desenvolver código"
   ]
  },
  {
   "cell_type": "code",
   "execution_count": null,
   "metadata": {},
   "outputs": [],
   "source": []
  },
  {
   "cell_type": "code",
   "execution_count": null,
   "metadata": {},
   "outputs": [],
   "source": [
    "# Código pronto\n",
    "acerto = 0\n",
    "erro = 0\n",
    "while acerto < 6:\n",
    "  num = random.randint(1,6)\n",
    "  if num == 6:\n",
    "    acerto += 1 \n",
    "  else:\n",
    "    erro += 1\n",
    "print(f'O dado sorteou {acerto} vezes o número 6 e sorteou {erro} vezes os outros números.') "
   ]
  },
  {
   "cell_type": "markdown",
   "metadata": {},
   "source": [
    "Ao usarmos o **while** podemos fazer uso de comandos muito úteis, que são eles:\n",
    "\n",
    "- break\n",
    "- continue \n",
    "- pass\n",
    "\n",
    "Vamos, conhecer cada um em detalhes."
   ]
  },
  {
   "cell_type": "markdown",
   "metadata": {},
   "source": [
    "### break & continue\n",
    "\n",
    "O *break* e o *continue* muitas vezes são confundidos entre si, porém eles executam ações bem diferentes. A figura a seguir exemplifica o que cada um deles faz.\n",
    "\n",
    "<center><img src=\"https://github.com/jupotratz/Python_BI_Master/blob/main/Turmas/2021.3/Imagens/breakcontinue.png?raw=true\" width=300>"
   ]
  },
  {
   "cell_type": "markdown",
   "metadata": {},
   "source": [
    "- O *break* termina imediatamente um loop por completo. A execução do programa prossegue para a primeira instrução após o corpo do loop.\n",
    "\n",
    "- O *continue* termina imediatamente a iteração do loop atual. A execução salta para o início do loop e a expressão de controle é reavaliada para determinar se o loop será executado novamente ou será encerrado.\n",
    "\n",
    "Vamos voltar ao nosso código anterior e adaptá-lo para interromper o loop se o dado sortear o valor 3:"
   ]
  },
  {
   "cell_type": "code",
   "execution_count": null,
   "metadata": {},
   "outputs": [],
   "source": [
    "# Desenvolver código"
   ]
  },
  {
   "cell_type": "code",
   "execution_count": null,
   "metadata": {},
   "outputs": [],
   "source": []
  },
  {
   "cell_type": "code",
   "execution_count": null,
   "metadata": {},
   "outputs": [],
   "source": [
    "# Código pronto\n",
    "acerto = 0\n",
    "erro = 0\n",
    "while acerto < 6:\n",
    "  num = random.randint(1,6)\n",
    "  if num == 6:\n",
    "    acerto += 1 \n",
    "  else:\n",
    "    if num == 3:\n",
    "      print('Execução do loop interrompida')\n",
    "      break\n",
    "    erro += 1\n",
    "print(f'O dado sorteou {acerto} vezes o número 6 e sorteou {erro} vezes os outros números.') "
   ]
  },
  {
   "cell_type": "markdown",
   "metadata": {},
   "source": [
    "Vamos ver outro exemplo de loop usando o comando <code>continue</code>. Vamos printar na tela os numeros em ordem decrescente de 5 a 0. Porém o número 2 não pode sert exibido:"
   ]
  },
  {
   "cell_type": "code",
   "execution_count": null,
   "metadata": {},
   "outputs": [],
   "source": [
    "# Desenvolver código"
   ]
  },
  {
   "cell_type": "code",
   "execution_count": null,
   "metadata": {},
   "outputs": [],
   "source": []
  },
  {
   "cell_type": "code",
   "execution_count": null,
   "metadata": {},
   "outputs": [],
   "source": [
    "# Código pronto\n",
    "n = 5\n",
    "print(n)\n",
    "while n > 0:\n",
    "  n -= 1\n",
    "  if n == 2:\n",
    "    continue\n",
    "  print(n)\n",
    "print('Loop terminou')"
   ]
  },
  {
   "cell_type": "markdown",
   "metadata": {},
   "source": [
    "Reparem que na hora que n foi igual a 2, o número 2 não foi impresso na tela, isso porque o Python ao ler o continue retornou a linha do while e não chegou a ler o comando print abaixo. "
   ]
  },
  {
   "cell_type": "markdown",
   "metadata": {},
   "source": [
    "### pass\n",
    "\n",
    "A instrução **pass** é usada em Python quando algum código é solicitado sintaticamente, mas o usuário não deseja que o programa faça nada. Pode haver diferentes razões por trás disso; pode ser que o usuário planeje adicionar o código posteriormente ou pode ser usado para ignorar algumas exceções levantadas durante o tempo de execução.\n",
    "\n",
    "\n",
    "- Exemplo: Vamos criar um código que inicialmente só vai me informar se o número é maior que zero. Futuramente se o número informado for menor que zero iremos relaizar algum procedimento, mas agora essa condição não nos interessa ainda... Podemos usar o pass para já criar a estrutura sintática e deixar a \"excessão\" em standby até decidir o que faremos com os número negativos ou o zero. "
   ]
  },
  {
   "cell_type": "code",
   "execution_count": null,
   "metadata": {},
   "outputs": [],
   "source": [
    "x = float(input('Informe um número qualquer: '))\n",
    "\n",
    "if x > 0:\n",
    "    print('Esse número é maior que zero')\n",
    "else:\n",
    "    #add code here\n",
    "    pass"
   ]
  },
  {
   "cell_type": "markdown",
   "metadata": {},
   "source": [
    "<img src=\"https://github.com/jupotratz/Python_BI_Master/blob/main/Imagens/logotipo.png?raw=true\"  width=1000 height=125 />"
   ]
  },
  {
   "cell_type": "markdown",
   "metadata": {},
   "source": [
    "# Dicionários\n",
    "\n",
    "Os dicionários são estruturas de dados que implementam mapeamentos. Eles são coleções de **itens** e seus elementos são armazenados de forma **não ordenada**,  contendo sempre uma **chave** e um **valor**:\n",
    "\n",
    "- A **chave** vai servir para indexar (posicionar) determinado elemento no dicionário.\n",
    "- O **valor** pode conter qualquer outro elemento ou tipo de dado que será representrado pela chave (string, numeros, listas, tuplas, arrays, dataframes, outros dicionários, etc)\n",
    "\n",
    "- As <code>chave</code>s de um dicionário são **únicas**, ou seja, não se repetem dentro de um dicionário ja criado.\n",
    "\n",
    "## Criando um dicionário:\n",
    "\n",
    "<img src=\"https://github.com/jupotratz/Python_BI_Master/blob/main/Turmas/2021.3/Imagens/dict_create_2.JPG?raw=true\" width=650>\n",
    "\n",
    "#### O modo mais simples de criar um dicionário:"
   ]
  },
  {
   "cell_type": "code",
   "execution_count": null,
   "metadata": {},
   "outputs": [],
   "source": [
    "dicionario = {'key_1': 1, 'key_2':  'Hello World!', 'key_3': [1, 2, 3]}"
   ]
  },
  {
   "cell_type": "code",
   "execution_count": null,
   "metadata": {},
   "outputs": [],
   "source": [
    "print(dicionario)"
   ]
  },
  {
   "cell_type": "code",
   "execution_count": null,
   "metadata": {},
   "outputs": [],
   "source": [
    "type(dicionario)"
   ]
  },
  {
   "cell_type": "markdown",
   "metadata": {},
   "source": [
    "#### Observação\n",
    "\n",
    "Existem outras formas possíveis, vocês podem verificar clicando [aqui](https://pythonacademy.com.br/blog/dicts-ou-dicionarios-no-python) \n",
    "\n",
    "## Acessando itens de um dicionário\n",
    "\n",
    "Diferente das listas e das tuplas, um dicionário não é um elemento indexado, portanto o acesso às suas informações se da de uma maneira um pouco diferente do que estamos acostumados até agora. Para acessar o valor de um dicionário nós podemos utilizar as chaves contidas no dicionário.\n",
    "\n",
    "#### Vamos tentar acessar alguma informação do dicionário por um index numério (que não seja nenhum valor de chave do nosso dicionário)"
   ]
  },
  {
   "cell_type": "code",
   "execution_count": null,
   "metadata": {},
   "outputs": [],
   "source": [
    "dicionario = {'key_1': 1,\\\n",
    "              'key_2':  'Hello World!',\\\n",
    "              'key_3': [1, 2, 3]}"
   ]
  },
  {
   "cell_type": "code",
   "execution_count": null,
   "metadata": {},
   "outputs": [],
   "source": [
    "dicionario[0]"
   ]
  },
  {
   "cell_type": "markdown",
   "metadata": {},
   "source": [
    "Podemos reparar que aconteceu um erro, pois um dicionário ele não é indexado como uma lista ou como uma tupla. Ele tem uma estrutura de **chave** e **valor** que deve ser respeitada. Mas e se tivessemos uma chave do dicionário igual a zero, o que aconteceria?"
   ]
  },
  {
   "cell_type": "code",
   "execution_count": null,
   "metadata": {},
   "outputs": [],
   "source": [
    "dicionario = {'key_1':1,\\\n",
    "              'key_2': 'Hello World!',\\\n",
    "              'key_3':[1, 2, 3],\\\n",
    "              0:(10,9,8)}"
   ]
  },
  {
   "cell_type": "code",
   "execution_count": null,
   "metadata": {},
   "outputs": [],
   "source": [
    "dicionario[0]"
   ]
  },
  {
   "cell_type": "markdown",
   "metadata": {},
   "source": [
    "Nesse caso conseguimos alguma informação do nosso dicionário, **que informação foi essa que nós conseguimos?**\n",
    "\n",
    "- Valor correspondente a aquela chave específica\n",
    "\n",
    "Sendo assim, podemos concluir que para acessar a informação do <code>valor</code> contido em uma determinada chave do dicionário devemos passar como <code>index</code> o nome da <code>chave</code> correspondente."
   ]
  },
  {
   "cell_type": "code",
   "execution_count": null,
   "metadata": {},
   "outputs": [],
   "source": [
    "dicionario['key_1']"
   ]
  },
  {
   "cell_type": "code",
   "execution_count": null,
   "metadata": {},
   "outputs": [],
   "source": [
    "dicionario['key_2']"
   ]
  },
  {
   "cell_type": "code",
   "execution_count": null,
   "metadata": {},
   "outputs": [],
   "source": [
    "dicionario['key_3']"
   ]
  },
  {
   "cell_type": "markdown",
   "metadata": {},
   "source": [
    "- Também poderíamos utilizar o método <code>.get()</code> passando como argumento da função o nome da chave."
   ]
  },
  {
   "cell_type": "code",
   "execution_count": null,
   "metadata": {},
   "outputs": [],
   "source": [
    "dicionario.get('key_3')"
   ]
  },
  {
   "cell_type": "markdown",
   "metadata": {},
   "source": [
    "### Problema\n",
    "\n",
    "E se eu leio um dicionário de algum outro lugar e não conheço as informações das chaves para acessar os seus valores correspondentes, o que podemos fazer a respeito?\n",
    "\n",
    "Existem dois métodos específicos que nos permitem fazer uma vizualização rápida ddos dados contidos eum um dicionário:\n",
    "\n",
    "- <code>.keys()</code>: fornece as informações das chaves contidas em um dicionário\n",
    "- <code>.values()</code>: fornece as informações dos valores contidos em um dicinário."
   ]
  },
  {
   "cell_type": "code",
   "execution_count": null,
   "metadata": {},
   "outputs": [],
   "source": [
    "dicionario = {'key_1':1,\\\n",
    "              'key_2': 'Hello World!',\\\n",
    "              'key_3':[1, 2, 3],\\\n",
    "              0:(10,9,8)}"
   ]
  },
  {
   "cell_type": "markdown",
   "metadata": {},
   "source": [
    "<code>.keys()</code>"
   ]
  },
  {
   "cell_type": "code",
   "execution_count": null,
   "metadata": {},
   "outputs": [],
   "source": [
    "dicionario.keys()"
   ]
  },
  {
   "cell_type": "markdown",
   "metadata": {},
   "source": [
    "<code>.values()</code>"
   ]
  },
  {
   "cell_type": "code",
   "execution_count": null,
   "metadata": {},
   "outputs": [],
   "source": [
    "dicionario.values()"
   ]
  },
  {
   "cell_type": "markdown",
   "metadata": {},
   "source": [
    "#### Será que teria alguma forma fácil de pegar simultâneamente o nome da chave o o valor atribuído a ele dentro de um dicionário?\n",
    "\n",
    "- Similar ao que vimos com o <code>enumerate()</code>\n",
    "\n",
    "A resposta é **simmmmmm....**\n",
    "\n",
    "Podemos utilizar um método de dicionário chamado <code>.items()</code>, vamos ver o que esse método retorna...\n"
   ]
  },
  {
   "cell_type": "code",
   "execution_count": null,
   "metadata": {},
   "outputs": [],
   "source": [
    "dicionario = {'key_1':1,\\\n",
    "              'key_2': 'Hello World!',\\\n",
    "              'key_3':[1, 2, 3],\\\n",
    "              0:(10,9,8)}"
   ]
  },
  {
   "cell_type": "code",
   "execution_count": null,
   "metadata": {},
   "outputs": [],
   "source": [
    "dicionario.items()"
   ]
  },
  {
   "cell_type": "markdown",
   "metadata": {},
   "source": [
    "O método <code>.items()</code> atrelado ao tipo de dados *dicionário* do Python retornou uma lista de tuplas, onde cada tupla contém um par *chave*:*valor*. Se ele retornou um conjunto de valores, será que a gente poderia iterar isso com uma repetição do tipo **for**?"
   ]
  },
  {
   "cell_type": "code",
   "execution_count": null,
   "metadata": {},
   "outputs": [],
   "source": [
    "for key, value in dicionario.items():\n",
    "    print(f'{key} : {value}')"
   ]
  },
  {
   "cell_type": "markdown",
   "metadata": {},
   "source": [
    "## Adicionar e/ou atualizar itens de um dicionário\n",
    "\n",
    "- A maneira mais simples de adicionar um item a um dicionario é criar uma nova chave e atribuir um valor. Assim:"
   ]
  },
  {
   "cell_type": "code",
   "execution_count": null,
   "metadata": {},
   "outputs": [],
   "source": [
    "dicionario = {'nome': 'Júlia'}\n",
    "\n",
    "dicionario['idade'] = 25\n",
    "\n",
    "print(dicionario)"
   ]
  },
  {
   "cell_type": "markdown",
   "metadata": {},
   "source": [
    "- Quando usamos o método <code>.update()</code> tanto podemos criar, como atualizar dados:"
   ]
  },
  {
   "cell_type": "code",
   "execution_count": null,
   "metadata": {},
   "outputs": [],
   "source": [
    "dicionario = {'nome': 'Júlia'}"
   ]
  },
  {
   "cell_type": "markdown",
   "metadata": {},
   "source": [
    "- Atualiza o elemento de chave 'nome'"
   ]
  },
  {
   "cell_type": "code",
   "execution_count": null,
   "metadata": {},
   "outputs": [],
   "source": [
    "dicionario.update({'nome':'Amanda'})"
   ]
  },
  {
   "cell_type": "markdown",
   "metadata": {},
   "source": [
    "- Cria os elementos de chave 'idade' e 'tamanho'"
   ]
  },
  {
   "cell_type": "code",
   "execution_count": null,
   "metadata": {},
   "outputs": [],
   "source": [
    "print(dicionario)"
   ]
  },
  {
   "cell_type": "code",
   "execution_count": null,
   "metadata": {},
   "outputs": [],
   "source": [
    "dicionario.update({'idade':30})"
   ]
  },
  {
   "cell_type": "code",
   "execution_count": null,
   "metadata": {},
   "outputs": [],
   "source": [
    "print(dicionario)"
   ]
  },
  {
   "cell_type": "code",
   "execution_count": null,
   "metadata": {},
   "outputs": [],
   "source": [
    "dicionario.update(tamanho=1.71)"
   ]
  },
  {
   "cell_type": "code",
   "execution_count": null,
   "metadata": {},
   "outputs": [],
   "source": [
    "print(dicionario)"
   ]
  },
  {
   "cell_type": "markdown",
   "metadata": {},
   "source": [
    "## Outros métodos de dicionário\n",
    "\n",
    "- <code>.pop()</code>:  remove o item cujo a chave foi especificada.\n",
    "- <code>.popitem()</code>:  remove o último elemento do dicionário.\n",
    "- <code>.clear()</code>: limpa o dicionário.\n",
    "- <code>.copy()</code>:  copia o dicionário.\n",
    "\n",
    "Mais informações sobre dicionários podem ser encontradas na publicação [Dicionários no Python](https://pythonacademy.com.br/blog/dicts-ou-dicionarios-no-python) do Python Academy."
   ]
  },
  {
   "cell_type": "markdown",
   "metadata": {},
   "source": [
    "<img src=\"https://github.com/jupotratz/Python_BI_Master/blob/main/Imagens/logotipo.png?raw=true\"  width=1000 height=125 />"
   ]
  },
  {
   "cell_type": "markdown",
   "metadata": {},
   "source": [
    "# Exercícios"
   ]
  },
  {
   "cell_type": "markdown",
   "metadata": {},
   "source": [
    "1. Programe um código que execute um loop enquanto a soma de todos elementos de uma lista for menor do que 50. No início do programa, essa lista deve ser declarada como lista vazia e ela só pode conter elementos inteiros.\n",
    "\n",
    "Use a função *random.randint* para gerar elementos da lista, mas essa função só pode gerar números de 0 a 5. "
   ]
  },
  {
   "cell_type": "code",
   "execution_count": null,
   "metadata": {},
   "outputs": [],
   "source": []
  },
  {
   "cell_type": "markdown",
   "metadata": {},
   "source": [
    "2. Adapte o código gerado considerando que toda vez que o número 3 for sorteado ele não pode ser adicionado à lista.  "
   ]
  },
  {
   "cell_type": "code",
   "execution_count": null,
   "metadata": {},
   "outputs": [],
   "source": []
  },
  {
   "cell_type": "markdown",
   "metadata": {},
   "source": [
    "3. Além da adaptação anterior, interrompa o código se forem adicionados à lista a sequência de números 1,2. "
   ]
  },
  {
   "cell_type": "code",
   "execution_count": null,
   "metadata": {},
   "outputs": [],
   "source": []
  },
  {
   "cell_type": "markdown",
   "metadata": {},
   "source": [
    "4. Retornando ao problema apresentado no início do talk, vocês conseguem resolvê-lo? "
   ]
  },
  {
   "cell_type": "code",
   "execution_count": null,
   "metadata": {},
   "outputs": [],
   "source": []
  },
  {
   "cell_type": "code",
   "execution_count": null,
   "metadata": {},
   "outputs": [],
   "source": []
  }
 ],
 "metadata": {
  "colab": {
   "collapsed_sections": [
    "jDO4A6ESaFQ3",
    "YrjE1fPsYhZ8",
    "6Cu943CwRAoj",
    "wkkrYexwo3Cy",
    "i-NZSbTqpMGA"
   ],
   "name": "Talk2.ipynb",
   "provenance": []
  },
  "kernelspec": {
   "display_name": "Python 3",
   "language": "python",
   "name": "python3"
  },
  "language_info": {
   "codemirror_mode": {
    "name": "ipython",
    "version": 3
   },
   "file_extension": ".py",
   "mimetype": "text/x-python",
   "name": "python",
   "nbconvert_exporter": "python",
   "pygments_lexer": "ipython3",
   "version": "3.7.0"
  }
 },
 "nbformat": 4,
 "nbformat_minor": 1
}
