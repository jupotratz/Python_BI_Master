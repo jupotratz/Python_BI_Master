{
 "cells": [
  {
   "cell_type": "markdown",
   "metadata": {
    "id": "80btK5XbwZYO"
   },
   "source": [
    "<img src=\"https://github.com/jupotratz/Python_BI_Master/blob/main/Turmas/2021.3/Imagens/sep.png?raw=true\"  width=1000 height=125 />"
   ]
  },
  {
   "cell_type": "markdown",
   "metadata": {
    "id": "QzcePa9W8N_Y"
   },
   "source": [
    "# Professoras\n",
    "\n",
    " - Amanda Lemette \n",
    "\t - prof.amanda@ica.ele.puc-rio.br\n",
    "\t - [Linkedin](https://www.linkedin.com/in/amanda-lemette-brand%C3%A3o-83280918b)\n",
    "   - [Youtube](https://www.youtube.com/c/AmandaLemette/featured)\n",
    "   \n",
    " - Júlia Potratz\n",
    "\t - prof.julia@ica.ele.puc-rio.br\n",
    "\t - [Linkedin](https://www.linkedin.com/in/julia-potratz)\n",
    "     \n",
    "# Material \n",
    "\n",
    "Repositório no GitHub: [Python_BI_Master](https://github.com/jupotratz/Python_BI_Master)\n",
    "\n",
    "\n",
    "# Aula 2\n",
    "\n",
    "- **Plano de aula:**\n",
    "   - Python\n",
    "    - Variáveis: <code>str</code>, <code>int</code>, <code>float</code> e <code>bool</code>\n",
    "        - Simbolos característicos, integração entre as variáveis \n",
    "    - Operações \n",
    "        - Aritméticas: <code>+</code>, <code>-</code>, <code>*</code>, <code>/</code>, <code>//</code> e <code>%</code>\n",
    "        - Relacionais e lógicas: <code>==</code>, <code>!=</code>, <code>></code>, <code><</code>, <code>>=</code>, <code><=</code>, <code>or</code>, <code>and</code> e <code>not</code>\n",
    "    - Condicionais (if, elif, else)\n",
    "        - <code>if</code>, <code>elif</code> e <code>else</code>\n",
    "        - Exercícios\n",
    "\t- Lista + tupla\n",
    "         - Acrescentar valores: <code>.append()</code>, <code>.insert()</code> e <code>.extend()</code>\n",
    "         - Remover valores: <code>.remove()</code>, <code>.pop()</code>\n",
    "         - Selecionar valores dentro da lista: indexação\n",
    "         - Verificar existência de um elemento na lista: <code>in</code>, <code>.count()</code>\n",
    "         - Ordenar listas: <code>.sort()</code>\n",
    "         - Extra: verificar valores unicos dentro de uma lista - <code>set()</code>"
   ]
  },
  {
   "cell_type": "markdown",
   "metadata": {},
   "source": [
    "<img src=\"https://github.com/jupotratz/Python_BI_Master/blob/main/Turmas/2021.3/Imagens/sep.png?raw=true\"  width=1000 height=125 />"
   ]
  },
  {
   "cell_type": "markdown",
   "metadata": {},
   "source": [
    "# Variáveis\n",
    "---\n",
    "\n",
    "## Declaração de variáveis\n",
    "\n",
    "Algumas caracteristicas do python relacionadas as variáveis:\n",
    "- Não precisamos setar o tipo da variável para atribuir qualquer valor a ela.\n",
    "\n",
    "<img src=\"https://github.com/jupotratz/Python_BI_Master/blob/main/Turmas/2021.3/Imagens/tipo_variavel.jpg?raw=true\">\n",
    "\n",
    "- A atribuição de valor a uma variável se faz da seguinte forma:\n",
    "\n",
    "```\n",
    "var = valor ou conjunto de valores (informação)\n",
    "````\n",
    "\n",
    "sendo **var** o nome da variável que o usuário escolheu. \n",
    "\n",
    "- A escolha do nome da variáveis deve seguir algumas regras\n",
    "  - Não começar com números ou simbolos\n",
    "  - Não possuir simbolos matemáticos pertencentes a sintaxe do python (+, -, /, %, etc)\n",
    "  - Não possui espaços em branco\n",
    "  - Não declarar o nome igual ao nome da alguma função reservada do python\n",
    "  - Escolha nomes significativos (**boa prática**)\n",
    "\n",
    "<img src=\"https://brunolcarli.github.io/alpp/sessions/resources/img/tabela7.png\">\n",
    "\n",
    "### 1. Na célula a seguir, criamos a variável com nome *a* que recebe o número 10."
   ]
  },
  {
   "cell_type": "code",
   "execution_count": 12,
   "metadata": {},
   "outputs": [],
   "source": [
    "a = 10"
   ]
  },
  {
   "cell_type": "code",
   "execution_count": 13,
   "metadata": {},
   "outputs": [
    {
     "name": "stdout",
     "output_type": "stream",
     "text": [
      "10\n"
     ]
    }
   ],
   "source": [
    "print(a)"
   ]
  },
  {
   "cell_type": "markdown",
   "metadata": {},
   "source": [
    "Conseguimos descobrir o tipo de uma determinada variável utilizando uma função reservado do python chamado  **type**."
   ]
  },
  {
   "cell_type": "code",
   "execution_count": 14,
   "metadata": {},
   "outputs": [
    {
     "data": {
      "text/plain": [
       "int"
      ]
     },
     "execution_count": 14,
     "metadata": {},
     "output_type": "execute_result"
    }
   ],
   "source": [
    "type(a)"
   ]
  },
  {
   "cell_type": "markdown",
   "metadata": {},
   "source": [
    "### 2. Crie, agora uma variável do tipo real, chamada *b*, que irá receber o valor 5.2."
   ]
  },
  {
   "cell_type": "code",
   "execution_count": 17,
   "metadata": {},
   "outputs": [],
   "source": [
    "b = 5.2"
   ]
  },
  {
   "cell_type": "markdown",
   "metadata": {},
   "source": [
    "Confirme o tipo da informação guardada na variavel b"
   ]
  },
  {
   "cell_type": "code",
   "execution_count": 18,
   "metadata": {},
   "outputs": [
    {
     "data": {
      "text/plain": [
       "float"
      ]
     },
     "execution_count": 18,
     "metadata": {},
     "output_type": "execute_result"
    }
   ],
   "source": [
    "type(b)"
   ]
  },
  {
   "cell_type": "markdown",
   "metadata": {},
   "source": [
    "## Tipos de Variáveis\n",
    "\n",
    "|Tipo|Identificação|Função reservada do Python|Exemplo|\n",
    "|:-----:|:-----:|:-----:|:---:|\n",
    "|string | *str*|str( )|'Olá Mundo'|\n",
    "|inteiro | *int*| int( )|1|\n",
    "|real | *float*| float( )|5.5|\n",
    "|booleano | *bool*| bool( )|True \\| False|\n",
    "|tupla | *tuple*|tuple( )|(1,'2',False)|\n",
    "|lista | *list*|list( )|[\"Júlia\",4.6,(1,'2',False)]|\n",
    "|dicionário | *dic*|dict( )|{'Lógica':\"maneira rigorosa de raciocinar.\",\"Num\":1}|\n",
    "|vetor | *array*|--|--|\n",
    "|Séries | *Series*|--|--|\n",
    "|DataFrames | *DataFrames*|--|--|\n",
    "\n",
    "\n",
    "- É importante frisar que cada tipo de dado tem médotos próprios atrelados a eles, ou seja, funções já pré-definidas para manipular esses tipos de dados dentro da linguagem."
   ]
  },
  {
   "cell_type": "markdown",
   "metadata": {},
   "source": [
    "<img src=\"https://github.com/jupotratz/Python_BI_Master/blob/main/Turmas/2021.3/Imagens/sep.png?raw=true\"  width=1000 height=125 />"
   ]
  },
  {
   "cell_type": "markdown",
   "metadata": {},
   "source": [
    "### Strings\n",
    "\n",
    "As strings são utilizadas em Python para registrar informações de texto. Na verdade, elas são uma sequência, ou seja, uma lista de caracteres e podem ser definidas das seguintes formas:\n",
    "\n",
    "<img src=\"https://github.com/jupotratz/Python_BI_Master/blob/main/Turmas/2021.3/Imagens/str_1.JPG?raw=true\" width=500>\n",
    "\n",
    "\n",
    "|Definição|Característica|Exemplo|Vizualização|\n",
    "|:--:|:--:|:--:|:--:|\n",
    "|<code>'text'</code>|Aspas simples|<code>'Olá Mundo'</code>|Olá Mundo|\n",
    "|<code>\"text\"</code>|Aspas duplas|<code>\"Olá Mundo\"</code>|Olá Mundo|\n",
    "|<code>'''text'''</code>|Três Aspas simples|<code>'''Olá\\nMundo'''</code>|<p>Olá</p><p>mundo</p>|\n",
    "|<code>\"\"\"text\"\"\"</code>|Três Aspas duplas|<code>\"\"\"Olá\\nMundo\"\"\"</code>|<p>Olá</p><p>mundo</p>|\n",
    "\n",
    "Vamos, agora, criar uma variável chamada **a** e fazer essa variável receber o valor **2** em formato de texto:"
   ]
  },
  {
   "cell_type": "code",
   "execution_count": 3,
   "metadata": {},
   "outputs": [],
   "source": [
    "# Solução 1\n",
    "\n",
    "a = '2'\n",
    "\n",
    "#a =\"2\"\n",
    "#a=\"\"\"2\"\"\" \n",
    "#a='''2''' "
   ]
  },
  {
   "cell_type": "code",
   "execution_count": 4,
   "metadata": {},
   "outputs": [
    {
     "data": {
      "text/plain": [
       "str"
      ]
     },
     "execution_count": 4,
     "metadata": {},
     "output_type": "execute_result"
    }
   ],
   "source": [
    "# Verificando o tipo da variável\n",
    "type(a)"
   ]
  },
  {
   "cell_type": "markdown",
   "metadata": {},
   "source": [
    "#### Vamos analisar o que acontece quando a gente faz uma operação matemática com essa variável."
   ]
  },
  {
   "cell_type": "code",
   "execution_count": 5,
   "metadata": {},
   "outputs": [
    {
     "ename": "TypeError",
     "evalue": "can only concatenate str (not \"int\") to str",
     "output_type": "error",
     "traceback": [
      "\u001b[1;31m---------------------------------------------------------------------------\u001b[0m",
      "\u001b[1;31mTypeError\u001b[0m                                 Traceback (most recent call last)",
      "\u001b[1;32m<ipython-input-5-ddd813b14b0e>\u001b[0m in \u001b[0;36m<module>\u001b[1;34m()\u001b[0m\n\u001b[0;32m      1\u001b[0m \u001b[1;31m# Soma\u001b[0m\u001b[1;33m\u001b[0m\u001b[1;33m\u001b[0m\u001b[0m\n\u001b[1;32m----> 2\u001b[1;33m \u001b[0ma\u001b[0m\u001b[1;33m+\u001b[0m\u001b[1;36m2\u001b[0m\u001b[1;33m\u001b[0m\u001b[0m\n\u001b[0m",
      "\u001b[1;31mTypeError\u001b[0m: can only concatenate str (not \"int\") to str"
     ]
    }
   ],
   "source": [
    "# Soma\n",
    "a+2"
   ]
  },
  {
   "cell_type": "code",
   "execution_count": 6,
   "metadata": {},
   "outputs": [
    {
     "ename": "TypeError",
     "evalue": "unsupported operand type(s) for -: 'str' and 'int'",
     "output_type": "error",
     "traceback": [
      "\u001b[1;31m---------------------------------------------------------------------------\u001b[0m",
      "\u001b[1;31mTypeError\u001b[0m                                 Traceback (most recent call last)",
      "\u001b[1;32m<ipython-input-6-528acc1379cf>\u001b[0m in \u001b[0;36m<module>\u001b[1;34m()\u001b[0m\n\u001b[0;32m      1\u001b[0m \u001b[1;31m# Subtração\u001b[0m\u001b[1;33m\u001b[0m\u001b[1;33m\u001b[0m\u001b[0m\n\u001b[1;32m----> 2\u001b[1;33m \u001b[0ma\u001b[0m\u001b[1;33m-\u001b[0m\u001b[1;36m2\u001b[0m\u001b[1;33m\u001b[0m\u001b[0m\n\u001b[0m",
      "\u001b[1;31mTypeError\u001b[0m: unsupported operand type(s) for -: 'str' and 'int'"
     ]
    }
   ],
   "source": [
    "# Subtração\n",
    "a-2"
   ]
  },
  {
   "cell_type": "code",
   "execution_count": 7,
   "metadata": {},
   "outputs": [
    {
     "ename": "TypeError",
     "evalue": "unsupported operand type(s) for /: 'str' and 'int'",
     "output_type": "error",
     "traceback": [
      "\u001b[1;31m---------------------------------------------------------------------------\u001b[0m",
      "\u001b[1;31mTypeError\u001b[0m                                 Traceback (most recent call last)",
      "\u001b[1;32m<ipython-input-7-517cefa02d63>\u001b[0m in \u001b[0;36m<module>\u001b[1;34m()\u001b[0m\n\u001b[0;32m      1\u001b[0m \u001b[1;31m# Divisão\u001b[0m\u001b[1;33m\u001b[0m\u001b[1;33m\u001b[0m\u001b[0m\n\u001b[1;32m----> 2\u001b[1;33m \u001b[0ma\u001b[0m\u001b[1;33m/\u001b[0m\u001b[1;36m2\u001b[0m\u001b[1;33m\u001b[0m\u001b[0m\n\u001b[0m",
      "\u001b[1;31mTypeError\u001b[0m: unsupported operand type(s) for /: 'str' and 'int'"
     ]
    }
   ],
   "source": [
    "# Divisão\n",
    "a/2"
   ]
  },
  {
   "cell_type": "code",
   "execution_count": 8,
   "metadata": {},
   "outputs": [
    {
     "data": {
      "text/plain": [
       "'22'"
      ]
     },
     "execution_count": 8,
     "metadata": {},
     "output_type": "execute_result"
    }
   ],
   "source": [
    "# Multiplicação\n",
    "a*2"
   ]
  },
  {
   "cell_type": "markdown",
   "metadata": {},
   "source": [
    "**Quando uma string passa por um processo de multiplicação por um escalar numérico ocorre o que chamamos de replicação da string. Logo, teremos que tomar muito cuidado com os tipos de variável dentro da programação.**\n",
    "\n",
    "- Mas será que poderíamos fazer a tranformação de uma string para um número nese caso e executar a operação matemática desejada?\n",
    "\n",
    "    - A resposta é sempre SIM, basta encontrar uma forma de fazer.\n",
    "\n",
    "- Como poderíamos fazer isso?\n",
    "    - Vamos recordar que existem funções nativas do python (listadas abaixo). Dentro da nossa lista de funções nativas temos funções atreladas aos tipos de dados que podem ser utilizadas para realizar a transformação das variáveis (<code>str</code>, <code>int</code>, <code>float</code>, <code>bool</code>, <code>list</code>, <code>tuple</code> e <code>set</code>)\n",
    "<img src=\"https://brunolcarli.github.io/alpp/sessions/resources/img/tabela7.png\">\n"
   ]
  },
  {
   "cell_type": "markdown",
   "metadata": {},
   "source": [
    "- Utilizando a função <code>int()</code> para transformar a nossa string em um dado inteiro."
   ]
  },
  {
   "cell_type": "code",
   "execution_count": 9,
   "metadata": {},
   "outputs": [
    {
     "data": {
      "text/plain": [
       "6"
      ]
     },
     "execution_count": 9,
     "metadata": {},
     "output_type": "execute_result"
    }
   ],
   "source": [
    "int(a)*3"
   ]
  },
  {
   "cell_type": "markdown",
   "metadata": {},
   "source": [
    "- **Observação:** Esse tipo de transformação só é possível para string extritamente **numéricas**. "
   ]
  },
  {
   "cell_type": "code",
   "execution_count": 10,
   "metadata": {},
   "outputs": [
    {
     "ename": "ValueError",
     "evalue": "invalid literal for int() with base 10: '2a'",
     "output_type": "error",
     "traceback": [
      "\u001b[1;31m---------------------------------------------------------------------------\u001b[0m",
      "\u001b[1;31mValueError\u001b[0m                                Traceback (most recent call last)",
      "\u001b[1;32m<ipython-input-10-ba814e0e4f04>\u001b[0m in \u001b[0;36m<module>\u001b[1;34m()\u001b[0m\n\u001b[0;32m      1\u001b[0m \u001b[0ma\u001b[0m \u001b[1;33m=\u001b[0m \u001b[1;34m'2a'\u001b[0m\u001b[1;33m\u001b[0m\u001b[0m\n\u001b[1;32m----> 2\u001b[1;33m \u001b[0mint\u001b[0m\u001b[1;33m(\u001b[0m\u001b[0ma\u001b[0m\u001b[1;33m)\u001b[0m\u001b[1;33m\u001b[0m\u001b[0m\n\u001b[0m",
      "\u001b[1;31mValueError\u001b[0m: invalid literal for int() with base 10: '2a'"
     ]
    }
   ],
   "source": [
    "a = '2a'\n",
    "int(a)"
   ]
  },
  {
   "cell_type": "markdown",
   "metadata": {},
   "source": [
    "### input( )\n",
    "\n",
    "Observação: o input no Python é uma forma de inserir no código uma interação vinda do usuário. \n",
    "\n",
    "<img src=\"https://github.com/jupotratz/Python_BI_Master/blob/main/Turmas/2021.3/Imagens/programar.png?raw=true\" width=400>\n",
    "\n",
    "- O input sempre vai fornecer para o código uma informação do tipo \"textual\" (string | **str**) e temos que manipular essa informação da melhor forma possível.\n"
   ]
  },
  {
   "cell_type": "code",
   "execution_count": 38,
   "metadata": {},
   "outputs": [
    {
     "name": "stdout",
     "output_type": "stream",
     "text": [
      "2\n"
     ]
    }
   ],
   "source": [
    "a = input()"
   ]
  },
  {
   "cell_type": "code",
   "execution_count": 40,
   "metadata": {},
   "outputs": [
    {
     "name": "stdout",
     "output_type": "stream",
     "text": [
      "2\n"
     ]
    }
   ],
   "source": [
    "# Mostrando o conteúdo da variável 'a'\n",
    "print(a)"
   ]
  },
  {
   "cell_type": "code",
   "execution_count": 41,
   "metadata": {},
   "outputs": [
    {
     "data": {
      "text/plain": [
       "str"
      ]
     },
     "execution_count": 41,
     "metadata": {},
     "output_type": "execute_result"
    }
   ],
   "source": [
    "# Verificando o tipo\n",
    "type(a)"
   ]
  },
  {
   "cell_type": "markdown",
   "metadata": {},
   "source": [
    "- Reparem que o <code>input()</code> retornou um dado do tipo <code>str</code> ao invés de um número como informado. Isso é uma característica da função. Logo, se informamos alguma informação para o código através da função <code>input()</code> devemos nos atentar as transformações que teremos que fazer nos dados."
   ]
  },
  {
   "cell_type": "code",
   "execution_count": 42,
   "metadata": {},
   "outputs": [
    {
     "name": "stdout",
     "output_type": "stream",
     "text": [
      "2\n"
     ]
    }
   ],
   "source": [
    "a = input()\n",
    "a = int(a)"
   ]
  },
  {
   "cell_type": "code",
   "execution_count": 43,
   "metadata": {},
   "outputs": [
    {
     "data": {
      "text/plain": [
       "int"
      ]
     },
     "execution_count": 43,
     "metadata": {},
     "output_type": "execute_result"
    }
   ],
   "source": [
    "type(a)"
   ]
  },
  {
   "cell_type": "markdown",
   "metadata": {},
   "source": [
    "- Podemos melhorar o código reduzindo linhas colocando comandos alinhados, como o exemplo abaixo:"
   ]
  },
  {
   "cell_type": "code",
   "execution_count": 44,
   "metadata": {},
   "outputs": [
    {
     "name": "stdout",
     "output_type": "stream",
     "text": [
      "2\n"
     ]
    }
   ],
   "source": [
    "a = int(input())"
   ]
  },
  {
   "cell_type": "code",
   "execution_count": 45,
   "metadata": {},
   "outputs": [
    {
     "data": {
      "text/plain": [
       "int"
      ]
     },
     "execution_count": 45,
     "metadata": {},
     "output_type": "execute_result"
    }
   ],
   "source": [
    "type(a)"
   ]
  },
  {
   "cell_type": "markdown",
   "metadata": {},
   "source": [
    "**Observação:** podemos, e DEVEMOS, colocar uma mensagem no input para orientar o usuário."
   ]
  },
  {
   "cell_type": "code",
   "execution_count": 46,
   "metadata": {},
   "outputs": [
    {
     "name": "stdout",
     "output_type": "stream",
     "text": [
      "Forneça um número inteiro: 2\n"
     ]
    }
   ],
   "source": [
    "a = int(input('Forneça um número inteiro: '))"
   ]
  },
  {
   "cell_type": "code",
   "execution_count": 47,
   "metadata": {},
   "outputs": [
    {
     "data": {
      "text/plain": [
       "int"
      ]
     },
     "execution_count": 47,
     "metadata": {},
     "output_type": "execute_result"
    }
   ],
   "source": [
    "type(a)"
   ]
  },
  {
   "cell_type": "code",
   "execution_count": 48,
   "metadata": {},
   "outputs": [
    {
     "data": {
      "text/plain": [
       "4"
      ]
     },
     "execution_count": 48,
     "metadata": {},
     "output_type": "execute_result"
    }
   ],
   "source": [
    "a*2"
   ]
  },
  {
   "cell_type": "markdown",
   "metadata": {},
   "source": [
    "### Alguns método atrelados ao tipo de dados string\n",
    "\n",
    "|Método|Parâmetros|Descrição|\n",
    "|--|--|--|\n",
    "|upper|nenhum|Retorna uma string toda em maiúsculas|\n",
    "|lower|nenhum|Retorna uma string toda em minúsculas|\n",
    "|capitalize|nenhum|Retorna uma string com o primeiro caractere maiúsculo, e o resto em minúsculo|\n",
    "|lstrip|nenhum|Retorna uma string removendo caracteres em brando do início|\n",
    "|rstrip|nenhum|Retorna uma string removendo caracteres em brando do fim|\n",
    "|count|item|Retorna o número de ocorrências de item|\n",
    "|replace|old, new|Substitui todas as ocorrências do substring old por new|\n",
    "|find|item|Retorna o índice mais à esquerda onde o substring item é encontrado|\n",
    "|rfind|item|Retorna o índice mais à direita onde o substring item é encontrado|\n",
    "|index|item|Como find, mas causa um erro em tempo de execução caso item não seja encontrado|"
   ]
  },
  {
   "cell_type": "markdown",
   "metadata": {},
   "source": [
    "- Vamos aplicar alguns desses métodos para testar\n",
    "\n",
    "\n",
    "<code>.upper()</code>\n",
    "\n",
    "<img src=\"https://github.com/jupotratz/Python_BI_Master/blob/main/Turmas/2021.3/Imagens/str_upper.JPG?raw=true\" width=550>"
   ]
  },
  {
   "cell_type": "code",
   "execution_count": 19,
   "metadata": {},
   "outputs": [],
   "source": [
    "string = 'Hello World!'"
   ]
  },
  {
   "cell_type": "code",
   "execution_count": 21,
   "metadata": {},
   "outputs": [
    {
     "data": {
      "text/plain": [
       "'HELLO WORLD!'"
      ]
     },
     "execution_count": 21,
     "metadata": {},
     "output_type": "execute_result"
    }
   ],
   "source": [
    "string.upper()"
   ]
  },
  {
   "cell_type": "code",
   "execution_count": 35,
   "metadata": {},
   "outputs": [
    {
     "name": "stdout",
     "output_type": "stream",
     "text": [
      "Hello World!\n"
     ]
    }
   ],
   "source": [
    "print(string)"
   ]
  },
  {
   "cell_type": "markdown",
   "metadata": {},
   "source": [
    "- Reparem que a variável original não sofre alteração alguma. Para manter a transformação permanente teremos que sobrescrever a variável. Para isso a sintaxe utilizada é:\n",
    "\n",
    "```\n",
    "string = string.upper()\n",
    "```"
   ]
  },
  {
   "cell_type": "markdown",
   "metadata": {},
   "source": [
    "<code>.lower()</code>\n",
    "\n",
    "<img src=\"https://github.com/jupotratz/Python_BI_Master/blob/main/Turmas/2021.3/Imagens/str_lower.JPG?raw=true\" width=550>"
   ]
  },
  {
   "cell_type": "code",
   "execution_count": 31,
   "metadata": {},
   "outputs": [],
   "source": [
    "string = 'Hello World!'"
   ]
  },
  {
   "cell_type": "code",
   "execution_count": 32,
   "metadata": {
    "scrolled": true
   },
   "outputs": [
    {
     "data": {
      "text/plain": [
       "'hello world!'"
      ]
     },
     "execution_count": 32,
     "metadata": {},
     "output_type": "execute_result"
    }
   ],
   "source": [
    "string.lower()"
   ]
  },
  {
   "cell_type": "code",
   "execution_count": 33,
   "metadata": {},
   "outputs": [
    {
     "name": "stdout",
     "output_type": "stream",
     "text": [
      "Hello World!\n"
     ]
    }
   ],
   "source": [
    "print(string)"
   ]
  },
  {
   "cell_type": "markdown",
   "metadata": {},
   "source": [
    "- Reparem que a variável original não sofre alteração alguma. Para manter a transformação permanente teremos que sobrescrever a variável. Para isso a sintaxe utilizada é:\n",
    "\n",
    "```\n",
    "string = string.lower()\n",
    "```"
   ]
  },
  {
   "cell_type": "markdown",
   "metadata": {},
   "source": [
    "<code>.replace(old, new)</code>\n",
    "\n",
    "<img src=\"https://github.com/jupotratz/Python_BI_Master/blob/main/Turmas/2021.3/Imagens/str_replace.JPG?raw=true\" width=550>"
   ]
  },
  {
   "cell_type": "code",
   "execution_count": 34,
   "metadata": {},
   "outputs": [
    {
     "data": {
      "text/plain": [
       "'Hell_ W_rld!'"
      ]
     },
     "execution_count": 34,
     "metadata": {},
     "output_type": "execute_result"
    }
   ],
   "source": [
    "string = 'Hello World!'\n",
    "old = 'o'\n",
    "new = '_'\n",
    "\n",
    "string.replace(old, new)"
   ]
  },
  {
   "cell_type": "code",
   "execution_count": 28,
   "metadata": {},
   "outputs": [
    {
     "name": "stdout",
     "output_type": "stream",
     "text": [
      "Hello World!\n"
     ]
    }
   ],
   "source": [
    "print(string)"
   ]
  },
  {
   "cell_type": "markdown",
   "metadata": {},
   "source": [
    "- Reparem que a variável original não sofre alteração alguma. Para manter a transformação permanente teremos que sobrescrever a variável. Para isso a sintaxe utilizada é:\n",
    "\n",
    "```\n",
    "string = string.replace(old, new)\n",
    "```"
   ]
  },
  {
   "cell_type": "markdown",
   "metadata": {},
   "source": [
    "<code>.split(word)</code>\n",
    "\n",
    "<img src=\"https://github.com/jupotratz/Python_BI_Master/blob/main/Turmas/2021.3/Imagens/str_split.JPG?raw=true\" width=550>"
   ]
  },
  {
   "cell_type": "code",
   "execution_count": 26,
   "metadata": {},
   "outputs": [
    {
     "data": {
      "text/plain": [
       "['Hell', ' W', 'rld!']"
      ]
     },
     "execution_count": 26,
     "metadata": {},
     "output_type": "execute_result"
    }
   ],
   "source": [
    "string = 'Hello World!'\n",
    "string.split('o')"
   ]
  },
  {
   "cell_type": "code",
   "execution_count": 30,
   "metadata": {},
   "outputs": [
    {
     "name": "stdout",
     "output_type": "stream",
     "text": [
      "Hello World!\n"
     ]
    }
   ],
   "source": [
    "print(string)"
   ]
  },
  {
   "cell_type": "markdown",
   "metadata": {},
   "source": [
    "- Reparem que a variável original não sofre alteração alguma. Para manter a transformação permanente teremos que sobrescrever a variável. Para isso a sintaxe utilizada é:\n",
    "\n",
    "```\n",
    "string = string.split('o')\n",
    "```"
   ]
  },
  {
   "cell_type": "markdown",
   "metadata": {},
   "source": [
    "<img src=\"https://github.com/jupotratz/Python_BI_Master/blob/main/Turmas/2021.3/Imagens/sep.png?raw=true\"  width=1000 height=125 />"
   ]
  },
  {
   "cell_type": "markdown",
   "metadata": {},
   "source": [
    "### Operações\n",
    "\n",
    "Podem ser de três tipos:\n",
    "\n",
    "1. Operações aritmeticas (operações matemáticas)\n",
    "\n",
    "|Simbolo|Operação|Descrição|\n",
    "|:--:|:--:|---|\n",
    "|**+**|a**+**b|Soma o valor de **a** e **b**|\n",
    "|**-**|a**-**b|Subtria **b** e **a**|\n",
    "|**\\***|a**\\***b|Multiplica **a** por **b**|\n",
    "|**/**|a**/**b|Divide **a** por **b**|\n",
    "|**//**|a**//**b|Retorna a **parte inteira** da divisão e **a** po **b**|\n",
    "|**\\*\\***|a**\\*\\***b|Eleva **a** a potência de **b**|\n",
    "|**%**|a**%**b|Retorna o **resto da divisão** de **a** por **b**|\n",
    "\n"
   ]
  },
  {
   "cell_type": "code",
   "execution_count": null,
   "metadata": {},
   "outputs": [],
   "source": [
    "#a = 10\n",
    "#b = 4\n",
    "\n",
    "a,b = 10,4"
   ]
  },
  {
   "cell_type": "markdown",
   "metadata": {},
   "source": [
    "- Soma: <code>+</code>"
   ]
  },
  {
   "cell_type": "code",
   "execution_count": null,
   "metadata": {},
   "outputs": [],
   "source": [
    "a,b = 10,4\n",
    "a + b"
   ]
  },
  {
   "cell_type": "markdown",
   "metadata": {},
   "source": [
    "- Subtração: <code>-</code>"
   ]
  },
  {
   "cell_type": "code",
   "execution_count": null,
   "metadata": {},
   "outputs": [],
   "source": [
    "a,b = 10,4\n",
    "a - b"
   ]
  },
  {
   "cell_type": "markdown",
   "metadata": {},
   "source": [
    "- Multiplicação: <code>*</code>"
   ]
  },
  {
   "cell_type": "code",
   "execution_count": null,
   "metadata": {},
   "outputs": [],
   "source": [
    "a,b = 10,4\n",
    "a * b"
   ]
  },
  {
   "cell_type": "markdown",
   "metadata": {},
   "source": [
    "- Divisão: <code>/</code>"
   ]
  },
  {
   "cell_type": "code",
   "execution_count": null,
   "metadata": {},
   "outputs": [],
   "source": [
    "a,b = 10,4\n",
    "a / b"
   ]
  },
  {
   "cell_type": "markdown",
   "metadata": {},
   "source": [
    "- Parte inteira da divisão: <code>//</code>"
   ]
  },
  {
   "cell_type": "code",
   "execution_count": null,
   "metadata": {},
   "outputs": [],
   "source": [
    "a,b = 10,4\n",
    "a // b"
   ]
  },
  {
   "cell_type": "markdown",
   "metadata": {},
   "source": [
    "- Resto da divisão: <code>%</code>"
   ]
  },
  {
   "cell_type": "code",
   "execution_count": null,
   "metadata": {},
   "outputs": [],
   "source": [
    "a,b = 10,3\n",
    "a % b"
   ]
  },
  {
   "cell_type": "markdown",
   "metadata": {},
   "source": [
    "2. Operações relacionais (comparação entre valores)\n",
    "\n",
    "\n",
    "|Simbolo|Operação|Descrição|\n",
    "|:--:|:--:|---|\n",
    "|**==**|a**==**b|Verifica de **a** é igual a **b**|\n",
    "|**!=**|a**!=**b|Verifica se **a** é diferente de **b**|\n",
    "|**>**|a**>**b|Verifica se **a** é maior que **b**|\n",
    "|**<**|a**<**b|Verifica se **a** é menor que **b**|\n",
    "|**>=**|a**>=**b|Verifica se **a** é maior ou igual a **b**|\n",
    "|**<=**|a**<=**b|Verifica se **a** é menor ou igual a **b**|\n"
   ]
  },
  {
   "cell_type": "code",
   "execution_count": null,
   "metadata": {},
   "outputs": [],
   "source": [
    "a,b = 10,4"
   ]
  },
  {
   "cell_type": "markdown",
   "metadata": {},
   "source": [
    "- Igualdade: <code>==</code>"
   ]
  },
  {
   "cell_type": "code",
   "execution_count": 49,
   "metadata": {},
   "outputs": [
    {
     "data": {
      "text/plain": [
       "False"
      ]
     },
     "execution_count": 49,
     "metadata": {},
     "output_type": "execute_result"
    }
   ],
   "source": [
    "a == b"
   ]
  },
  {
   "cell_type": "markdown",
   "metadata": {},
   "source": [
    "- Desigualdade <code>!=</code>"
   ]
  },
  {
   "cell_type": "code",
   "execution_count": 50,
   "metadata": {},
   "outputs": [
    {
     "data": {
      "text/plain": [
       "True"
      ]
     },
     "execution_count": 50,
     "metadata": {},
     "output_type": "execute_result"
    }
   ],
   "source": [
    "a != b"
   ]
  },
  {
   "cell_type": "markdown",
   "metadata": {},
   "source": [
    "- Outras desigualdades: <code>></code>, <code><</code>, <code>>=</code> e <code><=</code>"
   ]
  },
  {
   "cell_type": "code",
   "execution_count": 51,
   "metadata": {},
   "outputs": [
    {
     "name": "stdout",
     "output_type": "stream",
     "text": [
      "False\n",
      "True\n",
      "False\n",
      "True\n"
     ]
    }
   ],
   "source": [
    "print(a > b)\n",
    "print(a < b)\n",
    "print(a >= b)\n",
    "print(a <= b)"
   ]
  },
  {
   "cell_type": "markdown",
   "metadata": {},
   "source": [
    "#### Dados Booleanos \n",
    "\n",
    "São dados relacionados a tomadas de decição dentro dos programas em Python. Existem apenas dois dados desse tipo:\n",
    "\n",
    "- **True**\n",
    "- **False**"
   ]
  },
  {
   "cell_type": "code",
   "execution_count": 52,
   "metadata": {},
   "outputs": [
    {
     "data": {
      "text/plain": [
       "bool"
      ]
     },
     "execution_count": 52,
     "metadata": {},
     "output_type": "execute_result"
    }
   ],
   "source": [
    "type(True)"
   ]
  },
  {
   "cell_type": "code",
   "execution_count": 53,
   "metadata": {},
   "outputs": [
    {
     "data": {
      "text/plain": [
       "bool"
      ]
     },
     "execution_count": 53,
     "metadata": {},
     "output_type": "execute_result"
    }
   ],
   "source": [
    "type(False)"
   ]
  },
  {
   "cell_type": "markdown",
   "metadata": {},
   "source": [
    "3. Operadores lógicos (ligados aos conceitos que usamos em problemas de probbilidade)\n",
    "\n",
    "\n",
    "|Simbolo|Operação|Descrição|\n",
    "|:--:|:--:|---|\n",
    "|**not**|a**==**b|Operador de **Negação**, transforma True em False e vice e versa|\n",
    "|**or**|a**!=**b|Operador que resulta em **True** quando PELO MENOS UMA das suas operações relacionais for verdadeira. Caso contrário é **False**|\n",
    "|**and**|a**>**b|Operador que resulta em **True** se TODAS operações relacionais for verdadeira. Caso contrário é **False**|\n",
    "\n",
    "\n",
    " **Exemplo 1** \n",
    "\n",
    "Vamo jogar dois dados e verificar se a soma deles é igual a 8 ou não **E** se os dois números sorteados são números pares:\n",
    "\n",
    "<img src=\"http://universidadedatecnologia.com.br/wp-content/uploads/2019/01/dice-300x244.png\" width=200>\n",
    "\n",
    "|Dado 1|Dado 2|Resultado|-|Dado 1|Dado 2|Resultado|-|Dado 1|Dado 2|Resultado|-|Dado 1|Dado 2|Resultado|-|Dado 1|Dado 2|Resultado|-|Dado 1|Dado 2|Resultado|\n",
    "|:---:|:---:|:---:|:---:|:---:|:---:|:---:|:---:|:---:|:---:|:---:|:---:|:---:|:---:|:---:|:---:|:---:|:---:|:---:|:---:|:---:|:---:|:---:|\n",
    "|<code>1</code> | <code>1</code> | <code>False</code>|-|<code>2</code> | <code>1</code> | <code>False</code>|-|<code>3</code> | <code>1</code> | <code>False</code>|-|<code>4</code> | <code>1</code> | <code>False</code>|-|<code>5</code> | <code>1</code> | <code>False</code>|-|<code>6</code> | <code>1</code> | <code>False</code>|\n",
    "|<code>1</code> | <code>2</code> | <code>False</code>|-|<code>2</code> | <code>2</code> | <code>False</code>|-|<code>3</code> | <code>2</code> | <code>False</code>|-|<code>4</code> | <code>2</code> | <code>False</code>|-|<code>5</code> | <code>2</code> | <code>False</code>|-|<code>6</code> | <code>2</code> | <code>True</code>|\n",
    "|<code>1</code> | <code>3</code> | <code>False</code>|-|<code>2</code> | <code>3</code> | <code>False</code>|-|<code>3</code> | <code>3</code> | <code>False</code>|-|<code>4</code> | <code>3</code> | <code>False</code>|-|<code>5</code> | <code>3</code> | <code>False</code>|-|<code>6</code> | <code>3</code> | <code>False</code>|\n",
    "|<code>1</code> | <code>4</code> | <code>False</code>|-|<code>2</code> | <code>4</code> | <code>False</code>|-|<code>3</code> | <code>4</code> | <code>False</code>|-|<code>4</code> | <code>4</code> | <code>True</code>|-|<code>5</code> | <code>4</code> | <code>False</code>|-|<code>6</code> | <code>4</code> | <code>False</code>|\n",
    "|<code>1</code> | <code>5</code> | <code>False</code>|-|<code>2</code> | <code>5</code> | <code>False</code>|-|<code>3</code> | <code>5</code> | <code>False</code>|-|<code>4</code> | <code>5</code> | <code>False</code>|-|<code>5</code> | <code>5</code> | <code>False</code>|-|<code>6</code> | <code>5</code> | <code>False</code>|\n",
    "|<code>1</code> | <code>6</code> | <code>False</code>|-|<code>2</code> | <code>6</code> | <code>True</code>|-|<code>3</code> | <code>6</code> | <code>False</code>|-|<code>4</code> | <code>6</code> | <code>False</code>|-|<code>5</code> | <code>6</code> | <code>False</code>|-|<code>6</code> | <code>6</code> | <code>False</code>|\n",
    "\n",
    "\n",
    "\n",
    "\n",
    "\n",
    "\n",
    "\n",
    "\n",
    "**Obs:** Para verificar se os números são pares ou não basta verificar um deles!\n",
    "\n"
   ]
  },
  {
   "cell_type": "markdown",
   "metadata": {},
   "source": [
    "- Para gerar números aleatórios iremos utilizar a função <code>.randint()</code> da biblioteca <code>random</code>. Para isso temos que importar a função"
   ]
  },
  {
   "cell_type": "code",
   "execution_count": 54,
   "metadata": {},
   "outputs": [],
   "source": [
    "from random import randint \n",
    "\n",
    "# Sorteando dados\n",
    "num_1 = randint(1,6) \n",
    "num_2 = randint(1,6)"
   ]
  },
  {
   "cell_type": "code",
   "execution_count": 55,
   "metadata": {},
   "outputs": [
    {
     "name": "stdout",
     "output_type": "stream",
     "text": [
      "Dado 1: 6\n",
      "Dado 2: 2\n"
     ]
    }
   ],
   "source": [
    "print(f'Dado 1: {num_1}')\n",
    "print(f'Dado 2: {num_2}')"
   ]
  },
  {
   "cell_type": "code",
   "execution_count": 56,
   "metadata": {},
   "outputs": [],
   "source": [
    "soma = num_1 + num_2"
   ]
  },
  {
   "cell_type": "markdown",
   "metadata": {},
   "source": [
    "- Verificar se a soma dos dois dados é igual a 10"
   ]
  },
  {
   "cell_type": "code",
   "execution_count": 57,
   "metadata": {},
   "outputs": [
    {
     "data": {
      "text/plain": [
       "False"
      ]
     },
     "execution_count": 57,
     "metadata": {},
     "output_type": "execute_result"
    }
   ],
   "source": [
    "soma == 10 "
   ]
  },
  {
   "cell_type": "markdown",
   "metadata": {},
   "source": [
    "- Verificar se os valores de ambos os dados são pares"
   ]
  },
  {
   "cell_type": "code",
   "execution_count": 58,
   "metadata": {},
   "outputs": [
    {
     "data": {
      "text/plain": [
       "True"
      ]
     },
     "execution_count": 58,
     "metadata": {},
     "output_type": "execute_result"
    }
   ],
   "source": [
    "num_1 % 2 == 0"
   ]
  },
  {
   "cell_type": "markdown",
   "metadata": {},
   "source": [
    "- Juntando os dois testes de relação com o operador <code>and</code>"
   ]
  },
  {
   "cell_type": "code",
   "execution_count": 59,
   "metadata": {},
   "outputs": [
    {
     "data": {
      "text/plain": [
       "False"
      ]
     },
     "execution_count": 59,
     "metadata": {},
     "output_type": "execute_result"
    }
   ],
   "source": [
    "soma == 10 and num_1 % 2 == 0"
   ]
  },
  {
   "cell_type": "markdown",
   "metadata": {},
   "source": [
    " **Exemplo 2** \n",
    "\n",
    "Vamo jogar dois dados e verificar se a soma deles é igual a 10 ou não **OU** se os dois números sorteados são números pares:\n",
    "\n",
    "<img src=\"http://universidadedatecnologia.com.br/wp-content/uploads/2019/01/dice-300x244.png\" width=200>\n",
    "\n",
    "|Dado 1|Dado 2|Resultado|-|Dado 1|Dado 2|Resultado|-|Dado 1|Dado 2|Resultado|-|Dado 1|Dado 2|Resultado|-|Dado 1|Dado 2|Resultado|-|Dado 1|Dado 2|Resultado|\n",
    "|:---:|:---:|:---:|:---:|:---:|:---:|:---:|:---:|:---:|:---:|:---:|:---:|:---:|:---:|:---:|:---:|:---:|:---:|:---:|:---:|:---:|:---:|:---:|\n",
    "|<code>1</code> | <code>1</code> | <code>False</code>|-|<code>2</code> | <code>1</code> | <code>False</code>|-|<code>3</code> | <code>1</code> | <code>False</code>|-|<code>4</code> | <code>1</code> | <code>False</code>|-|<code>5</code> | <code>1</code> | <code>False</code>|-|<code>6</code> | <code>1</code> | <code>False</code>|\n",
    "|<code>1</code> | <code>2</code> | <code>False</code>|-|<code>2</code> | <code>2</code> | <code>True</code>|-|<code>3</code> | <code>2</code> | <code>False</code>|-|<code>4</code> | <code>2</code> | <code>True</code>|-|<code>5</code> | <code>2</code> | <code>False</code>|-|<code>6</code> | <code>2</code> | <code>True</code>|\n",
    "|<code>1</code> | <code>3</code> | <code>False</code>|-|<code>2</code> | <code>3</code> | <code>False</code>|-|<code>3</code> | <code>3</code> | <code>False</code>|-|<code>4</code> | <code>3</code> | <code>False</code>|-|<code>5</code> | <code>3</code> | <code>True</code>|-|<code>6</code> | <code>3</code> | <code>False</code>|\n",
    "|<code>1</code> | <code>4</code> | <code>False</code>|-|<code>2</code> | <code>4</code> | <code>True</code>|-|<code>3</code> | <code>4</code> | <code>False</code>|-|<code>4</code> | <code>4</code> | <code>True</code>|-|<code>5</code> | <code>4</code> | <code>False</code>|-|<code>6</code> | <code>4</code> | <code>True</code>|\n",
    "|<code>1</code> | <code>5</code> | <code>False</code>|-|<code>2</code> | <code>5</code> | <code>False</code>|-|<code>3</code> | <code>5</code> | <code>True</code>|-|<code>4</code> | <code>5</code> | <code>False</code>|-|<code>5</code> | <code>5</code> | <code>False</code>|-|<code>6</code> | <code>5</code> | <code>False</code>|\n",
    "|<code>1</code> | <code>6</code> | <code>False</code>|-|<code>2</code> | <code>6</code> | <code>True</code>|-|<code>3</code> | <code>6</code> | <code>False</code>|-|<code>4</code> | <code>6</code> | <code>True</code>|-|<code>5</code> | <code>6</code> | <code>False</code>|-|<code>6</code> | <code>6</code> | <code>True</code>|\n",
    "\n",
    "\n",
    "\n",
    "\n",
    "\n",
    "\n",
    "\n",
    "\n",
    "**Obs:** Nesse caso teremos que verificar ambos os números pois dois números parese já nos retornam uma resposta positiva."
   ]
  },
  {
   "cell_type": "markdown",
   "metadata": {},
   "source": [
    "- Para gerar números aleatórios iremos utilizar a função <code>.randint()</code> da biblioteca <code>random</code>. Para isso temos que importar a função"
   ]
  },
  {
   "cell_type": "code",
   "execution_count": 60,
   "metadata": {},
   "outputs": [],
   "source": [
    "from random import randint \n",
    "\n",
    "# Sorteando dados\n",
    "num_1 = randint(1,6) \n",
    "num_2 = randint(1,6)"
   ]
  },
  {
   "cell_type": "code",
   "execution_count": 61,
   "metadata": {},
   "outputs": [
    {
     "name": "stdout",
     "output_type": "stream",
     "text": [
      "Dado 1: 5\n",
      "Dado 2: 4\n"
     ]
    }
   ],
   "source": [
    "print(f'Dado 1: {num_1}')\n",
    "print(f'Dado 2: {num_2}')"
   ]
  },
  {
   "cell_type": "code",
   "execution_count": 62,
   "metadata": {},
   "outputs": [],
   "source": [
    "soma = num_1 + num_2"
   ]
  },
  {
   "cell_type": "markdown",
   "metadata": {},
   "source": [
    "- Verificar se a soma dos dois dados é igual a 10"
   ]
  },
  {
   "cell_type": "code",
   "execution_count": 63,
   "metadata": {},
   "outputs": [
    {
     "data": {
      "text/plain": [
       "False"
      ]
     },
     "execution_count": 63,
     "metadata": {},
     "output_type": "execute_result"
    }
   ],
   "source": [
    "soma == 10 "
   ]
  },
  {
   "cell_type": "markdown",
   "metadata": {},
   "source": [
    "- Verificar se os valores de ambos os dados são positivos ou negativos"
   ]
  },
  {
   "cell_type": "code",
   "execution_count": null,
   "metadata": {},
   "outputs": [],
   "source": [
    "num_1 % 2 == 0 and num_2 % 2 == 0"
   ]
  },
  {
   "cell_type": "markdown",
   "metadata": {},
   "source": [
    "- Juntando os dois testes de relação com o operador or"
   ]
  },
  {
   "cell_type": "code",
   "execution_count": 64,
   "metadata": {},
   "outputs": [
    {
     "data": {
      "text/plain": [
       "False"
      ]
     },
     "execution_count": 64,
     "metadata": {},
     "output_type": "execute_result"
    }
   ],
   "source": [
    "num_1 % 2 == 0 and num_2 % 2 == 0"
   ]
  },
  {
   "cell_type": "markdown",
   "metadata": {},
   "source": [
    "O <code>not</code> é utilizado quando queremos inverter o resultado de uma expressão booleana. Tudo que é <code>True</code> vira <code>False</code> e vice e versa."
   ]
  },
  {
   "cell_type": "code",
   "execution_count": 66,
   "metadata": {},
   "outputs": [
    {
     "name": "stdout",
     "output_type": "stream",
     "text": [
      "9\n"
     ]
    }
   ],
   "source": [
    "print(soma)"
   ]
  },
  {
   "cell_type": "code",
   "execution_count": 69,
   "metadata": {},
   "outputs": [
    {
     "name": "stdout",
     "output_type": "stream",
     "text": [
      "True\n",
      "False\n"
     ]
    }
   ],
   "source": [
    "print(soma != 10)\n",
    "print(not(soma != 10))"
   ]
  },
  {
   "cell_type": "code",
   "execution_count": 70,
   "metadata": {},
   "outputs": [
    {
     "name": "stdout",
     "output_type": "stream",
     "text": [
      "False\n",
      "True\n"
     ]
    }
   ],
   "source": [
    "print(soma == 10)\n",
    "print(not(soma == 10))"
   ]
  },
  {
   "cell_type": "markdown",
   "metadata": {},
   "source": [
    "Expressões booleanas com o <code>or</code>\n",
    "\n",
    "|bool 1|bool 2|Resultado|\n",
    "|:--:|:--:|:--:|\n",
    "|True|True|<code>True</code>|\n",
    "|True|False|<code>True</code>|\n",
    "|False|True|<code>True</code>|\n",
    "|False|False|<code>False</code>|\n",
    "\n",
    "Expressões booleanas com o <code>and</code>\n",
    "\n",
    "|bool 1|bool 2|Resultado|\n",
    "|:--:|:--:|:--:|\n",
    "|True|True|<code>True</code>|\n",
    "|True|False|<code>False</code>|\n",
    "|False|True|<code>False</code>|\n",
    "|False|False|<code>False</code>|"
   ]
  },
  {
   "cell_type": "markdown",
   "metadata": {},
   "source": [
    "## Alguns cuidados com os tipos de dados string e as verificações de igualdade\n",
    "\n",
    "\n",
    "Vamos pensar em nomes e suas variações de escrita:\n",
    "```\n",
    "v1 = 'Júlia Potratz'\n",
    "v2 = 'julia potratz'\n",
    "v3 = 'JULIA POTRATZ'\n",
    "```"
   ]
  },
  {
   "cell_type": "code",
   "execution_count": 72,
   "metadata": {},
   "outputs": [],
   "source": [
    "v1 = 'Júlia Potratz'\n",
    "v2 = 'julia potratz'\n",
    "v3 = 'JULIA POTRATZ'"
   ]
  },
  {
   "cell_type": "code",
   "execution_count": 73,
   "metadata": {},
   "outputs": [
    {
     "data": {
      "text/plain": [
       "False"
      ]
     },
     "execution_count": 73,
     "metadata": {},
     "output_type": "execute_result"
    }
   ],
   "source": [
    "v2 == v3"
   ]
  },
  {
   "cell_type": "markdown",
   "metadata": {},
   "source": [
    "- O python é **Case-sensitive** é um anglicismo que se refere a um tipo de análise tipográfica da informática. Em língua portuguesa, significa algo como \"sensível à caixa das letras\" ou \"sensível a maiúsculas e minúsculas\".\n",
    "\n",
    "Um exemplo no mundo real são logins e senhas:"
   ]
  },
  {
   "cell_type": "code",
   "execution_count": 75,
   "metadata": {},
   "outputs": [],
   "source": [
    "nome_user = 'jupotratz'\n",
    "senha = '123456' "
   ]
  },
  {
   "cell_type": "code",
   "execution_count": 76,
   "metadata": {},
   "outputs": [
    {
     "name": "stdout",
     "output_type": "stream",
     "text": [
      "user: juliapotratz\n",
      "senha: 123456\n"
     ]
    }
   ],
   "source": [
    "user = input('user: ')\n",
    "s = input('senha: ')"
   ]
  },
  {
   "cell_type": "markdown",
   "metadata": {},
   "source": [
    "- Validando usuário e/ou senha:"
   ]
  },
  {
   "cell_type": "code",
   "execution_count": 77,
   "metadata": {},
   "outputs": [
    {
     "data": {
      "text/plain": [
       "False"
      ]
     },
     "execution_count": 77,
     "metadata": {},
     "output_type": "execute_result"
    }
   ],
   "source": [
    "user == 'jupotratz' and s == '123456'"
   ]
  },
  {
   "cell_type": "code",
   "execution_count": 78,
   "metadata": {},
   "outputs": [
    {
     "data": {
      "text/plain": [
       "False"
      ]
     },
     "execution_count": 78,
     "metadata": {},
     "output_type": "execute_result"
    }
   ],
   "source": [
    "user == 'jupotratz'"
   ]
  },
  {
   "cell_type": "code",
   "execution_count": 79,
   "metadata": {},
   "outputs": [
    {
     "data": {
      "text/plain": [
       "True"
      ]
     },
     "execution_count": 79,
     "metadata": {},
     "output_type": "execute_result"
    }
   ],
   "source": [
    "s == '123456'"
   ]
  },
  {
   "cell_type": "code",
   "execution_count": null,
   "metadata": {},
   "outputs": [],
   "source": [
    "number_of_chunks_per_node = (len(list_paths)+args.number_of_chunks-1)//args.number_of_chunks\n",
    "start_index = (args.chunk_id)*number_of_chunks_per_node\n",
    "end_index = (args.chunk_id + 1)* number_of_chunks_per_node\n",
    "list_paths = list_paths[start_index:end_index]"
   ]
  },
  {
   "cell_type": "markdown",
   "metadata": {},
   "source": [
    "<img src=\"https://github.com/jupotratz/Python_BI_Master/blob/main/Turmas/2021.3/Imagens/sep.png?raw=true\"  width=1000 height=125 />"
   ]
  },
  {
   "cell_type": "markdown",
   "metadata": {},
   "source": [
    "# Condicionais\n",
    "---\n",
    "\n",
    "Vimos que podemos criar e realizar tranformações nas variáveis de acordo com o tipo de cada uma por meio das suas funções / métodos ou por meio dos diferentes operadores que existem. \n",
    "\n",
    "Diante disso a gente já pode começar a construir a solução de problemas mais complexos e mais robustos. \n",
    "\n",
    "Antes de partir para a prática é bom entender o que é uma estrutura condicional, isso é bem simples, mas é importante que entenda bem!\n",
    "\n",
    "Uma estrutura condicional, como o próprio nome já diz é uma estrutura que vai analisar uma condição e baseado no resultado dessa condição é que vamos executar uma determinada ação.\n",
    "\n",
    "No python a sintaxe da estrutura condicional é da seguinte forma:\n",
    "\n",
    "<img src=\"https://github.com/jupotratz/Python_BI_Master/blob/main/Turmas/2021.3/Imagens/bloco_condicao.JPG?raw=true\" width=500>\n",
    "\n",
    "No formato de código:\n",
    "\n",
    "```\n",
    "if condição_1:\n",
    "  executar ação 1\n",
    "elif condição_2:\n",
    "  execute ação 2\n",
    "else:\n",
    "  execute a ação 3\n",
    "```\n",
    "\n"
   ]
  },
  {
   "cell_type": "markdown",
   "metadata": {},
   "source": [
    "## IF\n",
    "\n",
    "-  IF vai executar uma ação somente se a condição testada for verdadeira. Para isso é necessário testar uma condição:\n",
    "\n",
    "<img src=\"https://www.hashtagtreinamentos.com/wp-content/webp-express/webp-images/doc-root/wp-content/uploads/2021/07/Estruturas-Condicionais-no-Python-2.png.webp\">"
   ]
  },
  {
   "cell_type": "code",
   "execution_count": null,
   "metadata": {},
   "outputs": [],
   "source": [
    "if True:\n",
    "\n",
    "\n",
    "if x == y:\n",
    "\n",
    "\n",
    "if x != y:\n",
    "\n",
    "\n",
    "if x > y:\n",
    "\n",
    "\n",
    "if x < y:\n",
    "\n",
    "\n",
    "if x >= y:\n",
    "\n",
    "\n",
    "if x <= y:\n",
    "\n",
    "\n",
    "if x in lista:"
   ]
  },
  {
   "cell_type": "code",
   "execution_count": null,
   "metadata": {},
   "outputs": [],
   "source": []
  },
  {
   "cell_type": "code",
   "execution_count": 80,
   "metadata": {},
   "outputs": [
    {
     "name": "stdout",
     "output_type": "stream",
     "text": [
      "Condição verdadeira\n"
     ]
    }
   ],
   "source": [
    "variavel = True\n",
    "\n",
    "if variavel:\n",
    "  print('Condição verdadeira')"
   ]
  },
  {
   "cell_type": "code",
   "execution_count": 81,
   "metadata": {},
   "outputs": [
    {
     "name": "stdout",
     "output_type": "stream",
     "text": [
      "A variável a é diferente da variável b\n"
     ]
    }
   ],
   "source": [
    "a = 10\n",
    "b = 4\n",
    "\n",
    "if a!=b:\n",
    "  print(f'A variável a é diferente da variável b')"
   ]
  },
  {
   "cell_type": "code",
   "execution_count": 82,
   "metadata": {},
   "outputs": [
    {
     "name": "stdout",
     "output_type": "stream",
     "text": [
      "A turma contem 15 alunos e obteve média igual a 7.5\n"
     ]
    }
   ],
   "source": [
    "media = 7.5\n",
    "num_alunos = 15\n",
    "\n",
    "\n",
    "print(f'A turma contem {num_alunos} alunos e obteve média igual a {media}')"
   ]
  },
  {
   "cell_type": "markdown",
   "metadata": {},
   "source": [
    "**Observação:** Formatação de strings"
   ]
  },
  {
   "cell_type": "code",
   "execution_count": null,
   "metadata": {},
   "outputs": [],
   "source": []
  },
  {
   "cell_type": "code",
   "execution_count": null,
   "metadata": {},
   "outputs": [],
   "source": []
  },
  {
   "cell_type": "code",
   "execution_count": null,
   "metadata": {},
   "outputs": [],
   "source": []
  },
  {
   "cell_type": "code",
   "execution_count": null,
   "metadata": {},
   "outputs": [],
   "source": []
  },
  {
   "cell_type": "code",
   "execution_count": null,
   "metadata": {},
   "outputs": [],
   "source": []
  },
  {
   "cell_type": "code",
   "execution_count": null,
   "metadata": {},
   "outputs": [],
   "source": []
  },
  {
   "cell_type": "code",
   "execution_count": null,
   "metadata": {},
   "outputs": [],
   "source": []
  },
  {
   "cell_type": "code",
   "execution_count": null,
   "metadata": {},
   "outputs": [],
   "source": []
  },
  {
   "cell_type": "code",
   "execution_count": null,
   "metadata": {},
   "outputs": [],
   "source": []
  },
  {
   "cell_type": "code",
   "execution_count": null,
   "metadata": {},
   "outputs": [],
   "source": []
  },
  {
   "cell_type": "code",
   "execution_count": null,
   "metadata": {},
   "outputs": [],
   "source": []
  },
  {
   "cell_type": "code",
   "execution_count": null,
   "metadata": {},
   "outputs": [],
   "source": []
  },
  {
   "cell_type": "code",
   "execution_count": null,
   "metadata": {},
   "outputs": [],
   "source": []
  },
  {
   "cell_type": "code",
   "execution_count": null,
   "metadata": {},
   "outputs": [],
   "source": []
  },
  {
   "cell_type": "code",
   "execution_count": null,
   "metadata": {},
   "outputs": [],
   "source": []
  },
  {
   "cell_type": "code",
   "execution_count": null,
   "metadata": {},
   "outputs": [],
   "source": []
  },
  {
   "cell_type": "code",
   "execution_count": null,
   "metadata": {},
   "outputs": [],
   "source": []
  },
  {
   "cell_type": "code",
   "execution_count": null,
   "metadata": {},
   "outputs": [],
   "source": []
  },
  {
   "cell_type": "code",
   "execution_count": null,
   "metadata": {},
   "outputs": [],
   "source": []
  },
  {
   "cell_type": "code",
   "execution_count": null,
   "metadata": {},
   "outputs": [],
   "source": []
  },
  {
   "cell_type": "code",
   "execution_count": null,
   "metadata": {},
   "outputs": [],
   "source": []
  },
  {
   "cell_type": "code",
   "execution_count": null,
   "metadata": {},
   "outputs": [],
   "source": []
  },
  {
   "cell_type": "code",
   "execution_count": null,
   "metadata": {},
   "outputs": [],
   "source": []
  },
  {
   "cell_type": "code",
   "execution_count": null,
   "metadata": {},
   "outputs": [],
   "source": []
  },
  {
   "cell_type": "code",
   "execution_count": null,
   "metadata": {},
   "outputs": [],
   "source": []
  },
  {
   "cell_type": "code",
   "execution_count": null,
   "metadata": {},
   "outputs": [],
   "source": []
  },
  {
   "cell_type": "code",
   "execution_count": null,
   "metadata": {},
   "outputs": [],
   "source": []
  },
  {
   "cell_type": "code",
   "execution_count": null,
   "metadata": {},
   "outputs": [],
   "source": []
  },
  {
   "cell_type": "code",
   "execution_count": null,
   "metadata": {},
   "outputs": [],
   "source": []
  },
  {
   "cell_type": "code",
   "execution_count": null,
   "metadata": {},
   "outputs": [],
   "source": []
  },
  {
   "cell_type": "code",
   "execution_count": null,
   "metadata": {},
   "outputs": [],
   "source": []
  },
  {
   "cell_type": "code",
   "execution_count": null,
   "metadata": {},
   "outputs": [],
   "source": []
  },
  {
   "cell_type": "code",
   "execution_count": null,
   "metadata": {},
   "outputs": [],
   "source": []
  },
  {
   "cell_type": "code",
   "execution_count": null,
   "metadata": {},
   "outputs": [],
   "source": []
  },
  {
   "cell_type": "code",
   "execution_count": null,
   "metadata": {},
   "outputs": [],
   "source": []
  },
  {
   "cell_type": "code",
   "execution_count": null,
   "metadata": {},
   "outputs": [],
   "source": []
  },
  {
   "cell_type": "code",
   "execution_count": null,
   "metadata": {},
   "outputs": [],
   "source": []
  },
  {
   "cell_type": "code",
   "execution_count": null,
   "metadata": {},
   "outputs": [],
   "source": []
  },
  {
   "cell_type": "markdown",
   "metadata": {
    "id": "BCS4aWVzJBxx"
   },
   "source": [
    "<img src=\"https://github.com/jupotratz/Python_BI_Master/blob/main/Turmas/2021.3/Imagens/sep.png?raw=true\"  width=1000 height=125 />"
   ]
  },
  {
   "cell_type": "markdown",
   "metadata": {
    "id": "4Eo3EvIMJ4kf"
   },
   "source": [
    "## Problema proposto\n",
    "\n",
    "Daniel é dono de um mercadinho e com a pandemia do COVID 19 teve a necessidade de fazer uma adaptação no seu modelo de negócio e passar a oferecer compras online para os seus clientes. Para isso ele teve que investir tempo e dinheiro para a criação de um sistema para os seus clientes gerenciarem as suas compras em termos de valor, quantidade e produtos que estão sendo colocados no carrinho. Esses sistema tem o objetivo de informar um resumo do que está sendo comprado pelos clientes e deve permitir que a gente consiga acrescentar novos produtos, remover produtos e pesquisar os produtos que já estão no carrinho, caso seja necessário. \n",
    "\n",
    "### Características do problema\n",
    "- Temos que armazenar as informações dos produtos, quantidades e valores em algum lugar.\n",
    "- O usuário deve poder fazer a inserção e remoção de algum produto.\n",
    "- O usuário também tem que conseguir verificar se já existe um produto específico no carrinho (conferir se não esqueceu de nada).\n",
    "\n",
    "### Solução\n",
    "\n",
    "- Como poderíamos fazer isso em Python?\n",
    "\n",
    "- Com o que sabemos até agora vocês acham que é possível realizar todos esses procedimentos?\n",
    "  - Operadores (aritméticos, relacionais, lógicos)\n",
    "  - Dados inteiros\n",
    "  - Dados reais\n",
    "  - Estruturas condicionais\n",
    "\n",
    "<center><img src=\"https://dicasdamaia.files.wordpress.com/2017/12/duvida.png?w=190\" width=200 ><center>\n",
    "\n"
   ]
  },
  {
   "cell_type": "markdown",
   "metadata": {
    "id": "vlA-WrwMJRAC"
   },
   "source": [
    "# Listas\n",
    "\n",
    "Forma simples de interligar os elementos de um conjunto.\n",
    "- Agrupa informações referentes a um conjunto de elementos que se relacionam entre si de alguma forma.\n",
    "- Inúmeros tipos de dados podem ser representados\n",
    "por listas. Alguns exemplos de sistemas de\n",
    "informação são: \n",
    "  - Informações sobre os funcionários\n",
    "de uma empresa\n",
    "  - Notas de alunos\n",
    "  - Itens de estoque\n",
    "  - etc.\n",
    "- As listas podem armazenar um número **variável** de elementos, ou seja, o seu tamanho pode ser modificado.\n",
    "- Podemos acessar um elemento desse conjunto de dados por meio de um **índice** que representa a sua posição na lista.\n"
   ]
  },
  {
   "cell_type": "markdown",
   "metadata": {
    "id": "5d1PX1ygwZm6"
   },
   "source": [
    "<img src=\"https://github.com/jupotratz/Python_BI_Master/blob/main/Turmas/2021.3/Imagens/sep.png?raw=true\"  width=1000 height=125 />"
   ]
  },
  {
   "cell_type": "markdown",
   "metadata": {
    "id": "6REZYqpARLXH"
   },
   "source": [
    "# Listas\n",
    "---\n",
    "\n",
    "\n",
    "\n",
    "\n"
   ]
  },
  {
   "cell_type": "markdown",
   "metadata": {
    "id": "tF9_ZSpkTbd1"
   },
   "source": [
    "## Definindo uma lista\n",
    "\n",
    "<center><img src=\"https://github.com/jupotratz/Python_BI_Master/blob/main/Turmas/2021.3/Imagens/lista_definindo.JPG?raw=true\" width=400><center>\n",
    "\n",
    "Vamos definir as listas representadas na imagem acima e verificar o typo de cada uma das variáveis:"
   ]
  },
  {
   "cell_type": "code",
   "execution_count": null,
   "metadata": {
    "id": "h_V8E3BDdjBn"
   },
   "outputs": [],
   "source": [
    "lista = [10, 11, 12, 13, 14, 15]\n",
    "notas = [10, 9.5, 5, 7.2, 8.7]\n",
    "vazio = []\n",
    "outra_lista_vazia = list()"
   ]
  },
  {
   "cell_type": "code",
   "execution_count": null,
   "metadata": {
    "colab": {
     "base_uri": "https://localhost:8080/"
    },
    "id": "rkKTH9FZdjH2",
    "outputId": "e84c1eb4-7e00-4798-963c-f2582ca64feb"
   },
   "outputs": [
    {
     "data": {
      "text/plain": [
       "[10, 11, 12, 13, 14, 15]"
      ]
     },
     "execution_count": 5,
     "metadata": {},
     "output_type": "execute_result"
    }
   ],
   "source": [
    "(lista)"
   ]
  },
  {
   "cell_type": "code",
   "execution_count": null,
   "metadata": {
    "colab": {
     "base_uri": "https://localhost:8080/"
    },
    "id": "IjXU0554d714",
    "outputId": "6e987cff-a432-4dae-d62d-360af81371a4"
   },
   "outputs": [
    {
     "data": {
      "text/plain": [
       "list"
      ]
     },
     "execution_count": 6,
     "metadata": {},
     "output_type": "execute_result"
    }
   ],
   "source": [
    "type(notas)"
   ]
  },
  {
   "cell_type": "code",
   "execution_count": null,
   "metadata": {
    "colab": {
     "base_uri": "https://localhost:8080/"
    },
    "id": "yDCtikG2d8BG",
    "outputId": "b26a838d-6bed-4d0f-97ab-46aad71fa99c"
   },
   "outputs": [
    {
     "data": {
      "text/plain": [
       "list"
      ]
     },
     "execution_count": 7,
     "metadata": {},
     "output_type": "execute_result"
    }
   ],
   "source": [
    "type(vazio)"
   ]
  },
  {
   "cell_type": "code",
   "execution_count": null,
   "metadata": {
    "id": "6X5SZJUiOzwT"
   },
   "outputs": [],
   "source": [
    "type(outra_lista_vazia)"
   ]
  },
  {
   "cell_type": "markdown",
   "metadata": {
    "id": "CufQF_WVdiUL"
   },
   "source": [
    "## Acessando um elemento ou mais da lista\n",
    "\n",
    "Para acessar informações em tipos de dados que guardam doi ou mais elementos temos e=que entender como funciona a indexação no Python, ou seja, qual o **index numérico** de cada elemento.\n",
    "\n",
    "\n",
    "\n",
    "<center><img src=\"https://github.com/jupotratz/Python_BI_Master/blob/main/Turmas/2021.3/Imagens/lista_indices.JPG?raw=true\" width=650><center>\n"
   ]
  },
  {
   "cell_type": "code",
   "execution_count": null,
   "metadata": {
    "colab": {
     "base_uri": "https://localhost:8080/"
    },
    "id": "R3ca_vZGf3YS",
    "outputId": "fdfb3dcb-7b37-4e41-f75f-afb8230bebd4"
   },
   "outputs": [
    {
     "name": "stdout",
     "output_type": "stream",
     "text": [
      "[10, 11, 12, 13, 14, 15]\n"
     ]
    }
   ],
   "source": [
    "lista = [10, 11, 12, 13, 14, 15]\n",
    "print(lista)"
   ]
  },
  {
   "cell_type": "markdown",
   "metadata": {
    "id": "h0gXFlH6fyLC"
   },
   "source": [
    "- Vamos acessar o elemento 11 da nossa lista"
   ]
  },
  {
   "cell_type": "code",
   "execution_count": null,
   "metadata": {
    "colab": {
     "base_uri": "https://localhost:8080/"
    },
    "id": "Q1hFm67JdbbL",
    "outputId": "bd7abbd3-86fb-470b-c340-593958259508"
   },
   "outputs": [
    {
     "data": {
      "text/plain": [
       "11"
      ]
     },
     "execution_count": 10,
     "metadata": {},
     "output_type": "execute_result"
    }
   ],
   "source": [
    "# Indice positivo\n",
    "lista[1]"
   ]
  },
  {
   "cell_type": "code",
   "execution_count": null,
   "metadata": {
    "colab": {
     "base_uri": "https://localhost:8080/"
    },
    "id": "KvTGnK2Edbdd",
    "outputId": "008be730-41d0-4bdf-a4c4-e318785d1139"
   },
   "outputs": [
    {
     "data": {
      "text/plain": [
       "11"
      ]
     },
     "execution_count": 11,
     "metadata": {},
     "output_type": "execute_result"
    }
   ],
   "source": [
    "# Indice negativo\n",
    "lista[-5]"
   ]
  },
  {
   "cell_type": "code",
   "execution_count": null,
   "metadata": {
    "id": "vNtS_QrOdbfQ"
   },
   "outputs": [],
   "source": []
  },
  {
   "cell_type": "markdown",
   "metadata": {
    "id": "6HXI84HVgHjO"
   },
   "source": [
    "- Vamos supor que agora a gente queira acessar um pedação da minha lista, por exemplo do primeiro elemento até o terceiro, como faríamos isso?\n",
    "\n",
    "<center><img src=\"https://dicasdamaia.files.wordpress.com/2017/12/duvida.png?w=190\"><center>\n",
    "\n",
    "\n"
   ]
  },
  {
   "cell_type": "code",
   "execution_count": null,
   "metadata": {
    "id": "ZHJVAliJdbh5"
   },
   "outputs": [],
   "source": []
  },
  {
   "cell_type": "markdown",
   "metadata": {
    "id": "3MVDKTQ-gxde"
   },
   "source": [
    "- Vamos entender como selecionar fatias das nossas listas:\n",
    "\n",
    "<center><img src=\"https://github.com/jupotratz/Python_BI_Master/blob/main/Turmas/2021.3/Imagens/indexa%C3%A7%C3%A3o_lista.JPG?raw=true\" width=600><center>\n",
    "\n"
   ]
  },
  {
   "cell_type": "code",
   "execution_count": null,
   "metadata": {
    "colab": {
     "base_uri": "https://localhost:8080/"
    },
    "id": "_hd_ZFDbdbju",
    "outputId": "a527c40d-0d3a-4bbc-e0b7-012de378c009"
   },
   "outputs": [
    {
     "name": "stdout",
     "output_type": "stream",
     "text": [
      "[10, 11, 12, 13, 14, 15]\n"
     ]
    }
   ],
   "source": [
    "lista = [10, 11, 12, 13, 14, 15]\n",
    "print(lista)"
   ]
  },
  {
   "cell_type": "markdown",
   "metadata": {
    "id": "WnPg_oOsg5WG"
   },
   "source": [
    "- Vamos selecionar do 1º ao terceiro elemento da lista"
   ]
  },
  {
   "cell_type": "code",
   "execution_count": null,
   "metadata": {
    "colab": {
     "base_uri": "https://localhost:8080/"
    },
    "id": "5KJzgUp_dblt",
    "outputId": "d385837c-6971-407c-ccba-8bbea3f67119"
   },
   "outputs": [
    {
     "data": {
      "text/plain": [
       "[10, 11, 12]"
      ]
     },
     "execution_count": 13,
     "metadata": {},
     "output_type": "execute_result"
    }
   ],
   "source": [
    "lista[:3]"
   ]
  },
  {
   "cell_type": "markdown",
   "metadata": {
    "id": "DCb49xr9g_CC"
   },
   "source": [
    "- Vamos selecionar os 3 últimos elementos da lista"
   ]
  },
  {
   "cell_type": "code",
   "execution_count": null,
   "metadata": {
    "colab": {
     "base_uri": "https://localhost:8080/"
    },
    "id": "mZMWroq7dboD",
    "outputId": "d3d05b02-c186-4bcf-eeb1-80393b34558d"
   },
   "outputs": [
    {
     "data": {
      "text/plain": [
       "[13, 14, 15]"
      ]
     },
     "execution_count": 17,
     "metadata": {},
     "output_type": "execute_result"
    }
   ],
   "source": [
    "lista[-3:]"
   ]
  },
  {
   "cell_type": "code",
   "execution_count": null,
   "metadata": {
    "colab": {
     "base_uri": "https://localhost:8080/"
    },
    "id": "-i9kU3sLhe1W",
    "outputId": "291b2aeb-92be-485f-f7c9-6b47b53630d4"
   },
   "outputs": [
    {
     "data": {
      "text/plain": [
       "[13, 14, 15]"
      ]
     },
     "execution_count": 18,
     "metadata": {},
     "output_type": "execute_result"
    }
   ],
   "source": [
    "lista[len(lista)-3:]"
   ]
  },
  {
   "cell_type": "markdown",
   "metadata": {
    "id": "kwiR0fUshJgt"
   },
   "source": [
    "- E se eu quisesse selecionar os dois primeiros e os dois ultimos e criar uma nova lista com eles? Como fazer?"
   ]
  },
  {
   "cell_type": "code",
   "execution_count": null,
   "metadata": {
    "colab": {
     "base_uri": "https://localhost:8080/"
    },
    "id": "661bMcI6dbqD",
    "outputId": "899ef054-5869-449f-907f-f62007c33598"
   },
   "outputs": [
    {
     "data": {
      "text/plain": [
       "[10, 11, 14, 15]"
      ]
     },
     "execution_count": 19,
     "metadata": {},
     "output_type": "execute_result"
    }
   ],
   "source": [
    "lista[:2] + lista[-2:]"
   ]
  },
  {
   "cell_type": "code",
   "execution_count": null,
   "metadata": {
    "id": "Z3yeYcEell0N"
   },
   "outputs": [],
   "source": []
  },
  {
   "cell_type": "markdown",
   "metadata": {
    "id": "x2Vi3pjEldRa"
   },
   "source": [
    "## Acrescentando valores em uma lista\n",
    "\n",
    "Uma grande vantagem desse tipo de dado é que podemos criar uma lista e acrescentar novos dados quando for necessário. Existem algumas formas de fazer isso, são elas\n",
    "\n",
    "<center><img src=\"https://github.com/jupotratz/Python_BI_Master/blob/main/Turmas/2021.3/Imagens/listaxappendxextend.JPG?raw=true\" width=750><center>\n",
    "\n",
    "\n",
    "\n",
    "Sendo a variável lista que guarda a nossa sequência de dados, vamos ver na prática o que cada um desses métodos de lista fazem:\n",
    "\n",
    "\n"
   ]
  },
  {
   "cell_type": "markdown",
   "metadata": {
    "id": "51wS765SldUB"
   },
   "source": [
    "### lista.append( )\n",
    "\n",
    "- O método <code>.append( )</code> realiza o processo de anexar um novo elemento ao <code>final</code> de uma <code>lista</code>.\n",
    "\n",
    "<center><img src=\"https://github.com/jupotratz/Python_BI_Master/blob/main/Turmas/2021.3/Imagens/append.JPG?raw=true\" width=650><center>"
   ]
  },
  {
   "cell_type": "code",
   "execution_count": null,
   "metadata": {
    "colab": {
     "base_uri": "https://localhost:8080/"
    },
    "id": "eI_D_sqhoTF5",
    "outputId": "ca8a82da-cef3-4e19-ecae-8bc31b194592"
   },
   "outputs": [
    {
     "name": "stdout",
     "output_type": "stream",
     "text": [
      "[8, 5, 12, 20, 14]\n"
     ]
    }
   ],
   "source": [
    "lista = [8, 5, 12, 20, 14]\n",
    "print(lista)"
   ]
  },
  {
   "cell_type": "code",
   "execution_count": null,
   "metadata": {
    "id": "oRng3MlhoYEp"
   },
   "outputs": [],
   "source": [
    "value = 16\n",
    "lista.append(value)"
   ]
  },
  {
   "cell_type": "code",
   "execution_count": null,
   "metadata": {
    "colab": {
     "base_uri": "https://localhost:8080/"
    },
    "id": "bWtlqhXooYKb",
    "outputId": "9eb4c386-7bf7-4359-8ac8-51c178d21c1a"
   },
   "outputs": [
    {
     "name": "stdout",
     "output_type": "stream",
     "text": [
      "[8, 5, 12, 20, 14, 16]\n"
     ]
    }
   ],
   "source": [
    "print(lista)"
   ]
  },
  {
   "cell_type": "markdown",
   "metadata": {
    "id": "mYdqxhsRldXI"
   },
   "source": [
    "### lista.insert( )\n",
    "\n",
    "- O método <code>.insert( )</code> realiza o processo de inserir um novo elemento ao <code>em qualquer posição</code> de uma <code>lista</code>.\n",
    "\n",
    "<center><img src=\"https://github.com/jupotratz/Python_BI_Master/blob/main/Turmas/2021.3/Imagens/insert2.JPG?raw=true\" width=650><center>"
   ]
  },
  {
   "cell_type": "code",
   "execution_count": null,
   "metadata": {
    "colab": {
     "base_uri": "https://localhost:8080/"
    },
    "id": "pgHK4vDmowNx",
    "outputId": "75847bad-87d9-4973-df51-8678d32183b8"
   },
   "outputs": [
    {
     "name": "stdout",
     "output_type": "stream",
     "text": [
      "[8, 5, 12, 20, 14]\n"
     ]
    }
   ],
   "source": [
    "lista = [8, 5, 12, 20, 14]\n",
    "print(lista)"
   ]
  },
  {
   "cell_type": "code",
   "execution_count": null,
   "metadata": {
    "id": "TNhDL0XbowQ-"
   },
   "outputs": [],
   "source": [
    "value = 16\n",
    "position = 3\n",
    "lista.insert(position, value)"
   ]
  },
  {
   "cell_type": "code",
   "execution_count": null,
   "metadata": {
    "colab": {
     "base_uri": "https://localhost:8080/"
    },
    "id": "GtP4-uVpowVD",
    "outputId": "104dd07e-51b2-469e-ec2c-84893fe43016"
   },
   "outputs": [
    {
     "name": "stdout",
     "output_type": "stream",
     "text": [
      "[8, 5, 12, 16, 20, 14]\n"
     ]
    }
   ],
   "source": [
    "print(lista)"
   ]
  },
  {
   "cell_type": "markdown",
   "metadata": {
    "id": "frtQxb-sldZJ"
   },
   "source": [
    "### lista.extend( )\n",
    "\n",
    "- O método <code>.extend( )</code> realiza o processo de inserir um novo conjunto de elementos ao <code>final</code> de uma <code>lista</code>.\n",
    "\n",
    "<center><img src=\"https://github.com/jupotratz/Python_BI_Master/blob/main/Turmas/2021.3/Imagens/extend.JPG?raw=true\" width=650><center>\n",
    "\n",
    "\n"
   ]
  },
  {
   "cell_type": "code",
   "execution_count": null,
   "metadata": {
    "id": "UX1nTYNXp3xy"
   },
   "outputs": [],
   "source": [
    "lista = [8, 5, 12, 20, 14]\n",
    "print(lista)"
   ]
  },
  {
   "cell_type": "code",
   "execution_count": null,
   "metadata": {
    "id": "QXEuElXEp30V"
   },
   "outputs": [],
   "source": [
    "value = (16,50)\n",
    "lista.extend(value)"
   ]
  },
  {
   "cell_type": "code",
   "execution_count": null,
   "metadata": {
    "colab": {
     "base_uri": "https://localhost:8080/"
    },
    "id": "MrVJxTYap-Y5",
    "outputId": "60c81bb3-6e9a-4260-ce42-f09c0033cb5b"
   },
   "outputs": [
    {
     "name": "stdout",
     "output_type": "stream",
     "text": [
      "[8, 5, 12, 16, 20, 14, 16, 50]\n"
     ]
    }
   ],
   "source": [
    "print(lista)"
   ]
  },
  {
   "cell_type": "markdown",
   "metadata": {
    "id": "_fdr02PDqyue"
   },
   "source": [
    "- Nesse caso adicionamos uma tupla (elementos envoltos de parenteses separados por vírgulas). Mas também poderiamos usar outra lista."
   ]
  },
  {
   "cell_type": "code",
   "execution_count": null,
   "metadata": {
    "id": "sN6mqLSBrCs7"
   },
   "outputs": [],
   "source": [
    "lista = [8, 5, 12, 20, 14]\n",
    "print(lista)"
   ]
  },
  {
   "cell_type": "code",
   "execution_count": null,
   "metadata": {
    "id": "GP_vgVKsrCvY"
   },
   "outputs": [],
   "source": [
    "value = [16,50]\n",
    "lista.extend(value)"
   ]
  },
  {
   "cell_type": "code",
   "execution_count": null,
   "metadata": {
    "id": "D_9RS0aDrCyx"
   },
   "outputs": [],
   "source": [
    "print(lista)"
   ]
  },
  {
   "cell_type": "markdown",
   "metadata": {
    "id": "KSSdFraOldbZ"
   },
   "source": [
    "## Acrescentando valores em uma lista\n",
    "\n",
    "Assim como podemos acrescentar valores as nossas listas, também podemos remover. Existem algumas formas de fazer isso, são elas\n",
    "\n",
    "<center><img src=\"https://github.com/jupotratz/Python_BI_Master/blob/main/Turmas/2021.3/Imagens/remove_list.JPG?raw=true\" width=750><center>\n",
    "\n",
    "\n",
    "\n",
    "Sendo a variável lista que guarda a nossa sequência de dados, vamos ver na prática o que cada um desses métodos de lista fazem:"
   ]
  },
  {
   "cell_type": "markdown",
   "metadata": {
    "id": "kZ5SU_jlldda"
   },
   "source": [
    "### lista.remove( )\n",
    "\n",
    "- O método <code>.remove( )</code> realiza o processo de remover a <code>primeira ocorrência</code> de um elemento dentro de uma <code>lista</code>.\n",
    "\n",
    "<center><img src=\"https://github.com/jupotratz/Python_BI_Master/blob/main/Turmas/2021.3/Imagens/remove.JPG?raw=true\" width=650><center>"
   ]
  },
  {
   "cell_type": "code",
   "execution_count": null,
   "metadata": {
    "colab": {
     "base_uri": "https://localhost:8080/"
    },
    "id": "FdTYtDpRrqIn",
    "outputId": "495d4b01-fbc6-4540-b2fa-72dd8ba314d1"
   },
   "outputs": [
    {
     "name": "stdout",
     "output_type": "stream",
     "text": [
      "[10, 11, 10, 10, 14, 20]\n"
     ]
    }
   ],
   "source": [
    "lista = [10, 11,10, 10, 14, 20]\n",
    "print(lista)"
   ]
  },
  {
   "cell_type": "code",
   "execution_count": null,
   "metadata": {
    "id": "M2CuWrJsrqXm"
   },
   "outputs": [],
   "source": [
    "value = 10\n",
    "lista.remove(value)"
   ]
  },
  {
   "cell_type": "code",
   "execution_count": null,
   "metadata": {
    "colab": {
     "base_uri": "https://localhost:8080/"
    },
    "id": "qjhJ8xcprqk1",
    "outputId": "c824fbd5-38ea-4384-deb9-3e8b4e367010"
   },
   "outputs": [
    {
     "name": "stdout",
     "output_type": "stream",
     "text": [
      "[11, 10, 10, 14, 20]\n"
     ]
    }
   ],
   "source": [
    "print(lista)"
   ]
  },
  {
   "cell_type": "markdown",
   "metadata": {
    "id": "p01mUoHzldfc"
   },
   "source": [
    "### lista.pop( )\n",
    "\n",
    "- O método <code>.pop( )</code> realiza o processo de remover um elemento de índice <code>i</code> de uma <code>lista</code>. Esse índice tem que ser passado como argumento essa função.\n",
    "\n",
    "<center><img src=\"https://github.com/jupotratz/Python_BI_Master/blob/main/Turmas/2021.3/Imagens/pop.JPG?raw=true\" width=650><center>"
   ]
  },
  {
   "cell_type": "code",
   "execution_count": null,
   "metadata": {
    "colab": {
     "base_uri": "https://localhost:8080/"
    },
    "id": "f1CoHY-xsa-r",
    "outputId": "9be49aef-8dea-491d-d79b-e7df57304dfd"
   },
   "outputs": [
    {
     "name": "stdout",
     "output_type": "stream",
     "text": [
      "[10, 11, 10, 10, 14, 20]\n"
     ]
    }
   ],
   "source": [
    "lista = [10, 11,10, 10, 14, 20]\n",
    "print(lista)"
   ]
  },
  {
   "cell_type": "code",
   "execution_count": null,
   "metadata": {
    "colab": {
     "base_uri": "https://localhost:8080/"
    },
    "id": "WaWHyGUusbBS",
    "outputId": "2b063524-c5ab-4887-92f8-01c175f2d701"
   },
   "outputs": [
    {
     "data": {
      "text/plain": [
       "11"
      ]
     },
     "execution_count": 21,
     "metadata": {},
     "output_type": "execute_result"
    }
   ],
   "source": [
    "index = 1\n",
    "lista.pop(index)"
   ]
  },
  {
   "cell_type": "code",
   "execution_count": null,
   "metadata": {
    "colab": {
     "base_uri": "https://localhost:8080/"
    },
    "id": "FBvxSP9VsbD5",
    "outputId": "3c031268-a1e3-4ddb-c6c7-863b2b265a51"
   },
   "outputs": [
    {
     "name": "stdout",
     "output_type": "stream",
     "text": [
      "[10, 10, 10, 14, 20]\n"
     ]
    }
   ],
   "source": [
    "print(lista)"
   ]
  },
  {
   "cell_type": "markdown",
   "metadata": {
    "id": "xJpXPQlYldh6"
   },
   "source": [
    "## Criando uma lista a partir de duas.\n",
    "\n",
    "- Vimos que podemos utilizar o extend para ampliar a nossa lista, acrescentando todos os valores de uma segunda lista através do método <code>.extend( )</code>. Existe um outro procedimento que pode ser realizado chamado de concatenação entre duas listas e se dá através da operação de soma. \n",
    "\n",
    "<center><img src=\"https://github.com/jupotratz/Python_BI_Master/blob/main/Turmas/2021.3/Imagens/concatenar.JPG?raw=true\" width=650><center>\n"
   ]
  },
  {
   "cell_type": "code",
   "execution_count": null,
   "metadata": {
    "id": "o4YiyjydlKig"
   },
   "outputs": [],
   "source": [
    "Lista_1 = [10, 11, 12]\n",
    "Lista_2 = [0, 1, 2]"
   ]
  },
  {
   "cell_type": "code",
   "execution_count": null,
   "metadata": {
    "colab": {
     "base_uri": "https://localhost:8080/"
    },
    "id": "AnzdVb_9tQ35",
    "outputId": "27557455-abe4-408b-bb70-859c9f075c44"
   },
   "outputs": [
    {
     "data": {
      "text/plain": [
       "[10, 11, 12, 0, 1, 2]"
      ]
     },
     "execution_count": 24,
     "metadata": {},
     "output_type": "execute_result"
    }
   ],
   "source": [
    "Lista_1 + Lista_2"
   ]
  },
  {
   "cell_type": "code",
   "execution_count": null,
   "metadata": {
    "colab": {
     "base_uri": "https://localhost:8080/"
    },
    "id": "Dvd5CIWEtQ66",
    "outputId": "b2c368d2-c344-44d5-ef27-6867be8565b4"
   },
   "outputs": [
    {
     "data": {
      "text/plain": [
       "[0, 1, 2, 10, 11, 12]"
      ]
     },
     "execution_count": 25,
     "metadata": {},
     "output_type": "execute_result"
    }
   ],
   "source": [
    "Lista_2 + Lista_1"
   ]
  },
  {
   "cell_type": "markdown",
   "metadata": {
    "id": "ULNiG8cStakt"
   },
   "source": [
    "Observação: Existe uma diferença muito grande quando utilizamos o .extend( )"
   ]
  },
  {
   "cell_type": "code",
   "execution_count": null,
   "metadata": {
    "colab": {
     "base_uri": "https://localhost:8080/"
    },
    "id": "ahUPBI-3tQ9j",
    "outputId": "6bfa809d-7f38-426f-e26a-0b30a7442be3"
   },
   "outputs": [
    {
     "name": "stdout",
     "output_type": "stream",
     "text": [
      "[10, 11, 12]\n",
      "[0, 1, 2]\n"
     ]
    }
   ],
   "source": [
    "print(Lista_1)\n",
    "print(Lista_2)"
   ]
  },
  {
   "cell_type": "code",
   "execution_count": null,
   "metadata": {
    "id": "-m_Ljc2PtQ_R"
   },
   "outputs": [],
   "source": [
    "# Usando o extend\n",
    "\n",
    "Lista_1.extend(Lista_2)"
   ]
  },
  {
   "cell_type": "code",
   "execution_count": null,
   "metadata": {
    "colab": {
     "base_uri": "https://localhost:8080/"
    },
    "id": "XdFLXXextRAp",
    "outputId": "5e49647b-6821-4498-b2ef-a69d3a81ef50"
   },
   "outputs": [
    {
     "name": "stdout",
     "output_type": "stream",
     "text": [
      "[10, 11, 12, 0, 1, 2]\n",
      "[0, 1, 2]\n"
     ]
    }
   ],
   "source": [
    "print(Lista_1)\n",
    "print(Lista_2)"
   ]
  },
  {
   "cell_type": "markdown",
   "metadata": {
    "id": "L668X_n9tx76"
   },
   "source": [
    "## Replicando uma lista.\n",
    "\n",
    "- Nós podemos replicar o conteúdo de uma lista quantas vezes for necessário apenas aplicando uma operação de multiplicação.\n",
    "\n",
    "- Vale salientar que se o conteúdo da sua lista for numérico o Python **NÃO** vai multiplicar elemento a elemento por valor escalar (a estrutura de dado que realiza isso é conhecida como *vetor*)\n",
    "\n",
    "<center><img src=\"https://github.com/jupotratz/Python_BI_Master/blob/main/Turmas/2021.3/Imagens/replicar.JPG?raw=true\" width=650><center>"
   ]
  },
  {
   "cell_type": "code",
   "execution_count": null,
   "metadata": {
    "id": "T9olT5YWtRDO"
   },
   "outputs": [],
   "source": [
    "Lista_1 = [10, 11, 12]"
   ]
  },
  {
   "cell_type": "code",
   "execution_count": null,
   "metadata": {
    "colab": {
     "base_uri": "https://localhost:8080/"
    },
    "id": "njj38cqHtRF8",
    "outputId": "ee990277-c8c4-48d0-aca7-d47f34a4cb1c"
   },
   "outputs": [
    {
     "data": {
      "text/plain": [
       "[10, 11, 12, 10, 11, 12]"
      ]
     },
     "execution_count": 30,
     "metadata": {},
     "output_type": "execute_result"
    }
   ],
   "source": [
    "Lista_1*2"
   ]
  },
  {
   "cell_type": "code",
   "execution_count": null,
   "metadata": {
    "colab": {
     "base_uri": "https://localhost:8080/"
    },
    "id": "NSqqpnDwtRHn",
    "outputId": "a0e17158-0d72-40b3-d870-8433402ec1b9"
   },
   "outputs": [
    {
     "data": {
      "text/plain": [
       "[10, 11, 12, 10, 11, 12, 10, 11, 12]"
      ]
     },
     "execution_count": 31,
     "metadata": {},
     "output_type": "execute_result"
    }
   ],
   "source": [
    "Lista_1*3"
   ]
  },
  {
   "cell_type": "markdown",
   "metadata": {
    "id": "W90iLIgwuf3J"
   },
   "source": [
    "### Contagem e verificação de um determinado elemento dentro de uma lista\n",
    "\n",
    "- Algumas vezes precisamos saber a recorrência ou existência de um elemento dentro de um conjunto de dados, como por exemplo as listas. Para isso podemos utilizar algumas funções úteis como os métodos .index( ) e .count( ).\n",
    "\n",
    "  \n",
    "\n",
    "  "
   ]
  },
  {
   "cell_type": "markdown",
   "metadata": {
    "id": "8F4iiPguwoRS"
   },
   "source": [
    "### lista.index( )\n",
    "\n",
    "- O método <code>.index(arg)</code> retorna o index de um determinado elemento dento de uma lista, mas ele retorna um erro caso aquele elemento não exista naquele conjunto de valores. Portanto, é um método pouco eficiente. \n",
    "\n",
    "<center><img src=\"https://github.com/jupotratz/Python_BI_Master/blob/main/Turmas/2021.3/Imagens/count_list.JPG?raw=true\" width=650><center>\n",
    "\n"
   ]
  },
  {
   "cell_type": "code",
   "execution_count": null,
   "metadata": {
    "colab": {
     "base_uri": "https://localhost:8080/"
    },
    "id": "GG7mXh1Jw6HT",
    "outputId": "8e5ac0dd-59f7-4f8f-ed4c-8b6a75fe7a8c"
   },
   "outputs": [
    {
     "name": "stdout",
     "output_type": "stream",
     "text": [
      "[10, 11, 10, 10, 14, 20]\n"
     ]
    }
   ],
   "source": [
    "lista = [10, 11,10, 10, 14, 20]\n",
    "print(lista)"
   ]
  },
  {
   "cell_type": "code",
   "execution_count": null,
   "metadata": {
    "id": "9XsWzVxWw6Mh"
   },
   "outputs": [],
   "source": [
    "value = 10\n",
    "resultado = lista.index(value)"
   ]
  },
  {
   "cell_type": "code",
   "execution_count": null,
   "metadata": {
    "colab": {
     "base_uri": "https://localhost:8080/"
    },
    "id": "PT4MMe9hw6RH",
    "outputId": "1dc32e7f-300c-4d7b-df9f-03c8df57debe"
   },
   "outputs": [
    {
     "name": "stdout",
     "output_type": "stream",
     "text": [
      "0\n"
     ]
    }
   ],
   "source": [
    "print(resultado)"
   ]
  },
  {
   "cell_type": "markdown",
   "metadata": {
    "id": "p5xW4V-ww6T3"
   },
   "source": [
    "- Mas se eu tentar encontrar o index de um elemento que não pertence a lista o que acontece?"
   ]
  },
  {
   "cell_type": "code",
   "execution_count": null,
   "metadata": {
    "colab": {
     "base_uri": "https://localhost:8080/",
     "height": 165
    },
    "id": "a69SaGXGufNP",
    "outputId": "180fb56d-d0d9-45ed-9615-8b7f08ee4125"
   },
   "outputs": [
    {
     "ename": "ValueError",
     "evalue": "ignored",
     "output_type": "error",
     "traceback": [
      "\u001b[0;31m---------------------------------------------------------------------------\u001b[0m",
      "\u001b[0;31mValueError\u001b[0m                                Traceback (most recent call last)",
      "\u001b[0;32m<ipython-input-35-ff4cfe355fdd>\u001b[0m in \u001b[0;36m<module>\u001b[0;34m()\u001b[0m\n\u001b[0;32m----> 1\u001b[0;31m \u001b[0mlista\u001b[0m\u001b[0;34m.\u001b[0m\u001b[0mindex\u001b[0m\u001b[0;34m(\u001b[0m\u001b[0;36m15\u001b[0m\u001b[0;34m)\u001b[0m\u001b[0;34m\u001b[0m\u001b[0;34m\u001b[0m\u001b[0m\n\u001b[0m",
      "\u001b[0;31mValueError\u001b[0m: 15 is not in list"
     ]
    }
   ],
   "source": [
    "lista.index(15)"
   ]
  },
  {
   "cell_type": "markdown",
   "metadata": {
    "id": "F0M-73nAwoXg"
   },
   "source": [
    "### lista.count( )\n",
    "\n",
    "- O método <code>.count(arg)</code> realiza uma contagem da quantidade de vezes que um determinado valor (<code>arg</code>) aparece naquele conjunto de dados.\n",
    "\n",
    "<center><img src=\"https://github.com/jupotratz/Python_BI_Master/blob/main/Turmas/2021.3/Imagens/contagem_lista.JPG?raw=true\" width=650><center>"
   ]
  },
  {
   "cell_type": "markdown",
   "metadata": {
    "id": "ChlQGYbpx0dn"
   },
   "source": [
    "- Primeiro teste"
   ]
  },
  {
   "cell_type": "code",
   "execution_count": null,
   "metadata": {
    "colab": {
     "base_uri": "https://localhost:8080/"
    },
    "id": "jTcLIcpsufPx",
    "outputId": "8c3755bf-e2bc-4b74-e078-bed1c0f440ee"
   },
   "outputs": [
    {
     "name": "stdout",
     "output_type": "stream",
     "text": [
      "[10, 11, 10, 10, 14, 20]\n"
     ]
    }
   ],
   "source": [
    "lista = [10, 11,10, 10, 14, 20]\n",
    "print(lista)"
   ]
  },
  {
   "cell_type": "code",
   "execution_count": null,
   "metadata": {
    "id": "JHt7xhfLufTa"
   },
   "outputs": [],
   "source": [
    "value = 10\n",
    "resultado = lista.count(value)"
   ]
  },
  {
   "cell_type": "code",
   "execution_count": null,
   "metadata": {
    "colab": {
     "base_uri": "https://localhost:8080/"
    },
    "id": "opK9b40qufU0",
    "outputId": "417788d9-b140-4bd0-c8cb-a2850f689ac5"
   },
   "outputs": [
    {
     "name": "stdout",
     "output_type": "stream",
     "text": [
      "3\n"
     ]
    }
   ],
   "source": [
    "print(resultado)"
   ]
  },
  {
   "cell_type": "markdown",
   "metadata": {
    "id": "KZsCE9zqufWZ"
   },
   "source": [
    "- Segundo teste"
   ]
  },
  {
   "cell_type": "code",
   "execution_count": null,
   "metadata": {
    "id": "HUNqIsZdufcu"
   },
   "outputs": [],
   "source": [
    "value = 15\n",
    "resultado = lista.count(value)"
   ]
  },
  {
   "cell_type": "code",
   "execution_count": null,
   "metadata": {
    "colab": {
     "base_uri": "https://localhost:8080/"
    },
    "id": "GWgSq4hAufe7",
    "outputId": "a4c2d27b-20f1-404a-86b5-364e491ca188"
   },
   "outputs": [
    {
     "name": "stdout",
     "output_type": "stream",
     "text": [
      "0\n"
     ]
    }
   ],
   "source": [
    "print(resultado)"
   ]
  },
  {
   "cell_type": "markdown",
   "metadata": {
    "id": "hFviImjYzu3S"
   },
   "source": [
    "# Tuplas\n",
    "---\n",
    "\n",
    "Assim como as listas as tuplas são  conjuntos de valores, que podem receber elementos de quaisquer tipos e são acessados por meio dos conceitos de indexação já aprendidos. \n",
    "\n",
    "O que diferencia um dado tipo <code>list</code> de um dado tipo <code>tuple</code>, além da forma de definir esses tipos de dados é a questão da imutalidade do dado. Uma lista pode ser alterada depois de definida, uma tupla não.\n",
    "\n",
    "\n",
    "\n",
    "## Definição de uma tupla\n",
    "\n",
    "<center><img src=\"https://github.com/jupotratz/Python_BI_Master/blob/main/Turmas/2021.3/Imagens/tuple.JPG?raw=true\" width=450><center>"
   ]
  },
  {
   "cell_type": "code",
   "execution_count": null,
   "metadata": {
    "colab": {
     "base_uri": "https://localhost:8080/"
    },
    "id": "baBo-XyPzuQC",
    "outputId": "57276312-540d-4c1c-8af0-76beb24cecb3"
   },
   "outputs": [
    {
     "name": "stdout",
     "output_type": "stream",
     "text": [
      "(10, 11, 10, 10, 14, 20)\n"
     ]
    }
   ],
   "source": [
    "tupla = (10, 11,10, 10, 14, 20)\n",
    "print(tupla)"
   ]
  },
  {
   "cell_type": "code",
   "execution_count": null,
   "metadata": {
    "colab": {
     "base_uri": "https://localhost:8080/"
    },
    "id": "ByQLRN-l0mKI",
    "outputId": "f2bf72da-26eb-45cf-adf0-7b06a7ef1d38"
   },
   "outputs": [
    {
     "data": {
      "text/plain": [
       "tuple"
      ]
     },
     "execution_count": 45,
     "metadata": {},
     "output_type": "execute_result"
    }
   ],
   "source": [
    "type(tupla)"
   ]
  },
  {
   "cell_type": "code",
   "execution_count": null,
   "metadata": {
    "id": "FTCuGEgJ0mNM"
   },
   "outputs": [],
   "source": [
    "tupla"
   ]
  },
  {
   "cell_type": "markdown",
   "metadata": {
    "id": "Lz5XFkM40rm4"
   },
   "source": [
    "Como uma tupla se assemelha a uma lista, mas ela é um tipo de dado incapaz de ser alterado existem apenas dois metodos para esse tipo de dado que são <code>.count()</code> e <code>.index()</code>. Esses  métodos funcionam exatamente igual ao observado nas listas. \n",
    "\n"
   ]
  },
  {
   "cell_type": "code",
   "execution_count": null,
   "metadata": {
    "colab": {
     "base_uri": "https://localhost:8080/"
    },
    "id": "OWtda3Ew0mO6",
    "outputId": "3b45cedd-be3e-4571-a49a-11e1bf9ef59b"
   },
   "outputs": [
    {
     "data": {
      "text/plain": [
       "3"
      ]
     },
     "execution_count": 46,
     "metadata": {},
     "output_type": "execute_result"
    }
   ],
   "source": [
    "tupla.count(10)"
   ]
  },
  {
   "cell_type": "code",
   "execution_count": null,
   "metadata": {
    "colab": {
     "base_uri": "https://localhost:8080/"
    },
    "id": "NKHwxRfM0mRB",
    "outputId": "32573a65-0e0c-45d2-acc2-bebe1165b294"
   },
   "outputs": [
    {
     "data": {
      "text/plain": [
       "0"
      ]
     },
     "execution_count": 47,
     "metadata": {},
     "output_type": "execute_result"
    }
   ],
   "source": [
    "tupla.index(10)"
   ]
  },
  {
   "cell_type": "markdown",
   "metadata": {
    "id": "QRZCqRyx1pao"
   },
   "source": [
    "- Vamos tentar adicionar um valor a tupla"
   ]
  },
  {
   "cell_type": "code",
   "execution_count": null,
   "metadata": {
    "colab": {
     "base_uri": "https://localhost:8080/",
     "height": 165
    },
    "id": "KHzW0Xvs1ub_",
    "outputId": "4f2198b1-643c-4984-d6fa-34440532e953"
   },
   "outputs": [
    {
     "ename": "AttributeError",
     "evalue": "ignored",
     "output_type": "error",
     "traceback": [
      "\u001b[0;31m---------------------------------------------------------------------------\u001b[0m",
      "\u001b[0;31mAttributeError\u001b[0m                            Traceback (most recent call last)",
      "\u001b[0;32m<ipython-input-48-930ffc9a867b>\u001b[0m in \u001b[0;36m<module>\u001b[0;34m()\u001b[0m\n\u001b[0;32m----> 1\u001b[0;31m \u001b[0mtupla\u001b[0m\u001b[0;34m.\u001b[0m\u001b[0mappend\u001b[0m\u001b[0;34m(\u001b[0m\u001b[0;36m16\u001b[0m\u001b[0;34m)\u001b[0m\u001b[0;34m\u001b[0m\u001b[0;34m\u001b[0m\u001b[0m\n\u001b[0m",
      "\u001b[0;31mAttributeError\u001b[0m: 'tuple' object has no attribute 'append'"
     ]
    }
   ],
   "source": [
    "tupla.append(16)"
   ]
  },
  {
   "cell_type": "markdown",
   "metadata": {
    "id": "KfjIMdjR1yOO"
   },
   "source": [
    "- Porém, conseguimos gerar novas tuplas concatenando ou replicando tuplas já existentes."
   ]
  },
  {
   "cell_type": "code",
   "execution_count": null,
   "metadata": {
    "id": "awwni4bO17dv"
   },
   "outputs": [],
   "source": [
    "t1 = (1,2,3)\n",
    "t2 = (4,5,6)"
   ]
  },
  {
   "cell_type": "code",
   "execution_count": null,
   "metadata": {
    "colab": {
     "base_uri": "https://localhost:8080/"
    },
    "id": "tkBCnp__17kJ",
    "outputId": "0f6c3ed4-6825-4725-bfbc-2954cf01a31f"
   },
   "outputs": [
    {
     "data": {
      "text/plain": [
       "(1, 2, 3, 4, 5, 6)"
      ]
     },
     "execution_count": 50,
     "metadata": {},
     "output_type": "execute_result"
    }
   ],
   "source": [
    "t1+t2"
   ]
  },
  {
   "cell_type": "code",
   "execution_count": null,
   "metadata": {
    "colab": {
     "base_uri": "https://localhost:8080/"
    },
    "id": "8S16pJU-17pa",
    "outputId": "e6ccafac-c2cc-443a-bb68-78a91596f28d"
   },
   "outputs": [
    {
     "data": {
      "text/plain": [
       "tuple"
      ]
     },
     "execution_count": 51,
     "metadata": {},
     "output_type": "execute_result"
    }
   ],
   "source": [
    "type(t1+t2)"
   ]
  },
  {
   "cell_type": "code",
   "execution_count": null,
   "metadata": {
    "colab": {
     "base_uri": "https://localhost:8080/"
    },
    "id": "siZJcCT92FBl",
    "outputId": "454c1426-0d5e-4f6d-c998-938cd1d84717"
   },
   "outputs": [
    {
     "name": "stdout",
     "output_type": "stream",
     "text": [
      "(1, 2, 3)\n",
      "(4, 5, 6)\n"
     ]
    }
   ],
   "source": [
    "print(t1)\n",
    "print(t2)"
   ]
  }
 ],
 "metadata": {
  "colab": {
   "collapsed_sections": [
    "jDO4A6ESaFQ3",
    "YrjE1fPsYhZ8",
    "6Cu943CwRAoj",
    "wkkrYexwo3Cy",
    "i-NZSbTqpMGA"
   ],
   "name": "Talk2.ipynb",
   "provenance": []
  },
  "kernelspec": {
   "display_name": "Python 3",
   "language": "python",
   "name": "python3"
  },
  "language_info": {
   "codemirror_mode": {
    "name": "ipython",
    "version": 3
   },
   "file_extension": ".py",
   "mimetype": "text/x-python",
   "name": "python",
   "nbconvert_exporter": "python",
   "pygments_lexer": "ipython3",
   "version": "3.7.0"
  }
 },
 "nbformat": 4,
 "nbformat_minor": 1
}
